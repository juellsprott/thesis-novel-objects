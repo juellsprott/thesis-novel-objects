{
 "cells": [
  {
   "attachments": {},
   "cell_type": "markdown",
   "metadata": {},
   "source": [
    "### NOUN Dataset + BLIP-2 Multimodal Model Pipeline\n",
    "#### This notebook contains the pipeline for loading the BLIP2 Opt-2.7b model and running inference on the NOUN Dataset\n",
    "\n",
    "Note that for this pipeline it is recommended to use a GPU with sufficient RAM."
   ]
  },
  {
   "attachments": {},
   "cell_type": "markdown",
   "metadata": {},
   "source": [
    "##### Imports\n",
    "Import modules, requires the installation of bitsandbytes and accelerate"
   ]
  },
  {
   "cell_type": "code",
   "execution_count": null,
   "metadata": {},
   "outputs": [],
   "source": [
    "%pip install bitsandbytes accelerate Pillow git+https://github.com/huggingface/transformers tqdm"
   ]
  },
  {
   "cell_type": "code",
   "execution_count": 1,
   "metadata": {},
   "outputs": [],
   "source": [
    "import csv\n",
    "from PIL import Image\n",
    "from transformers import AutoProcessor, Blip2ForConditionalGeneration\n",
    "import torch\n",
    "from tqdm import tqdm"
   ]
  },
  {
   "attachments": {},
   "cell_type": "markdown",
   "metadata": {},
   "source": [
    "##### Load model\n",
    "uses bitsandbytes to allow int8 quanitization for greatly reduced memory usage, allowing the model to be run on Google Colab."
   ]
  },
  {
   "cell_type": "code",
   "execution_count": 2,
   "metadata": {},
   "outputs": [
    {
     "name": "stderr",
     "output_type": "stream",
     "text": [
      "Overriding torch_dtype=None with `torch_dtype=torch.float16` due to requirements of `bitsandbytes` to enable model loading in mixed int8. Either pass torch_dtype=torch.float16 or don't pass this argument at all to remove this warning.\n"
     ]
    },
    {
     "name": "stdout",
     "output_type": "stream",
     "text": [
      "\n",
      "===================================BUG REPORT===================================\n",
      "Welcome to bitsandbytes. For bug reports, please run\n",
      "\n",
      "python -m bitsandbytes\n",
      "\n",
      " and submit this information together with your error trace to: https://github.com/TimDettmers/bitsandbytes/issues\n",
      "================================================================================\n",
      "bin /gpfs/home5/jsprott/thesis-novel-objects/noun2-env/lib/python3.10/site-packages/bitsandbytes/libbitsandbytes_cuda117.so\n",
      "CUDA SETUP: CUDA runtime path found: /sw/arch/RHEL8/EB_production/2022/software/CUDA/11.7.0/lib/libcudart.so.11.0\n",
      "CUDA SETUP: Highest compute capability among GPUs detected: 8.0\n",
      "CUDA SETUP: Detected CUDA version 117\n",
      "CUDA SETUP: Loading binary /gpfs/home5/jsprott/thesis-novel-objects/noun2-env/lib/python3.10/site-packages/bitsandbytes/libbitsandbytes_cuda117.so...\n"
     ]
    },
    {
     "data": {
      "application/vnd.jupyter.widget-view+json": {
       "model_id": "df397799e4154f9c9809c1247ca639b6",
       "version_major": 2,
       "version_minor": 0
      },
      "text/plain": [
       "Loading checkpoint shards:   0%|          | 0/2 [00:00<?, ?it/s]"
      ]
     },
     "metadata": {},
     "output_type": "display_data"
    }
   ],
   "source": [
    "# load processor\n",
    "processor = AutoProcessor.from_pretrained(\"Salesforce/blip2-opt-2.7b\")\n",
    "\n",
    "# load in float16 # load in int8\n",
    "model = Blip2ForConditionalGeneration.from_pretrained(\"Salesforce/blip2-opt-2.7b\",\n",
    "                                                      load_in_8bit=True, device_map=\"auto\")\n",
    "# setup device\n",
    "DEVICE = \"cuda\" if torch.cuda.is_available() else \"cpu\""
   ]
  },
  {
   "attachments": {},
   "cell_type": "markdown",
   "metadata": {},
   "source": [
    "##### Perform inference on NOUN Dataset\n",
    "Currently uses default hyperparameters"
   ]
  },
  {
   "cell_type": "code",
   "execution_count": 4,
   "metadata": {},
   "outputs": [
    {
     "name": "stderr",
     "output_type": "stream",
     "text": [
      "100%|██████████| 64/64 [05:20<00:00,  5.01s/it]\n",
      "100%|██████████| 64/64 [06:23<00:00,  6.00s/it]\n",
      "100%|██████████| 64/64 [10:45<00:00, 10.09s/it]\n"
     ]
    }
   ],
   "source": [
    "import pandas as pd\n",
    "from tqdm import tqdm\n",
    "import pandas as pd\n",
    "from evaluate import check_colors_and_textures\n",
    "\n",
    "# Define path to input and output files\n",
    "input_file = 'data/datasets/dataset_full.csv'\n",
    "output_file = 'data/datasets/dataset_all_questions.csv'\n",
    "\n",
    "\n",
    "# Define question for checking textures (unused for now)\n",
    "QUESTION_1 = \"Q: Only answer with yes or no, do you recognize this object? \\n A:\"\n",
    "QUESTION_2 = \"Q: what do you call the object in this image? \\n A:\"\n",
    "QUESTION_3 = \"Q: What do you really think this is? \\n A:\"\n",
    "\n",
    "# Load data from input file into a pandas DataFrame\n",
    "data = pd.read_csv(input_file)\n",
    "\n",
    "tqdm.pandas()\n",
    "\n",
    "# https://github.com/huggingface/transformers/issues/22146\n",
    "# the above link contains more information on param tweaking\n",
    "# beam search:\n",
    "# model.generate(**inputs, num_beams=5, max_new_tokens=30, repetition_penalty=1.0, length_penalty=1.0, temperature=1)\n",
    "# nucleus sampling:\n",
    "# model.generate(**inputs, do_sample=True, top_p=0.9)\n",
    "# TODO: research how beam search and nucleus sampling work and what other params can be changed\n",
    "\n",
    "# Define function to generate text using the model\n",
    "\n",
    "\n",
    "def generate_text(row, decode='greedy'):\n",
    "    raw_image = Image.open(row[0].replace(\"\\\\\", \"/\")).convert(\"RGB\")\n",
    "    inputs1 = processor(raw_image, return_tensors=\"pt\").to(\n",
    "        DEVICE, torch.float16)\n",
    "    inputs2 = processor(raw_image, text=QUESTION_1,\n",
    "                        return_tensors=\"pt\").to(DEVICE, torch.float16)\n",
    "    inputs3 = processor(raw_image, text=QUESTION_2,\n",
    "                        return_tensors=\"pt\").to(DEVICE, torch.float16)\n",
    "    inputs4 = processor(raw_image, text=QUESTION_3,\n",
    "                        return_tensors=\"pt\").to(DEVICE, torch.float16)\n",
    "\n",
    "    if decode == 'greedy':\n",
    "        generated_ids1 = model.generate(**inputs1, max_new_tokens=20)\n",
    "        generated_ids2 = model.generate(**inputs2, max_new_tokens=20)\n",
    "        generated_ids3 = model.generate(**inputs3, max_new_tokens=20)\n",
    "        generated_ids4 = model.generate(**inputs4, max_new_tokens=20)\n",
    "    elif decode == 'nucleus':\n",
    "        generated_ids1 = model.generate(\n",
    "            **inputs1, do_sample=True, top_p=0.9, max_new_tokens=20)\n",
    "        generated_ids2 = model.generate(\n",
    "            **inputs2, do_sample=True, top_p=0.9, max_new_tokens=20)\n",
    "        generated_ids3 = model.generate(\n",
    "            **inputs3, do_sample=True, top_p=0.9, max_new_tokens=20)\n",
    "        generated_ids4 = model.generate(\n",
    "            **inputs4, do_sample=True, top_p=0.9, max_new_tokens=20)\n",
    "    elif decode == 'beam':\n",
    "        generated_ids1 = model.generate(\n",
    "            **inputs1, num_beams=5, max_new_tokens=20, repetition_penalty=1.0, length_penalty=1.0, temperature=1)\n",
    "        generated_ids2 = model.generate(\n",
    "            **inputs2, num_beams=5, max_new_tokens=20, repetition_penalty=1.0, length_penalty=1.0, temperature=1)\n",
    "        generated_ids3 = model.generate(\n",
    "            **inputs3, num_beams=5, max_new_tokens=20, repetition_penalty=1.0, length_penalty=1.0, temperature=1)\n",
    "        generated_ids4 = model.generate(\n",
    "            **inputs4, num_beams=5, max_new_tokens=20, repetition_penalty=1.0, length_penalty=1.0, temperature=1)\n",
    "\n",
    "    generated_text1 = processor.batch_decode(\n",
    "        generated_ids1, skip_special_tokens=True)[0].strip()\n",
    "    generated_text2 = processor.batch_decode(\n",
    "        generated_ids2, skip_special_tokens=True)[0].strip()\n",
    "    generated_text3 = processor.batch_decode(\n",
    "        generated_ids3, skip_special_tokens=True)[0].strip()\n",
    "    generated_text4 = processor.batch_decode(\n",
    "        generated_ids4, skip_special_tokens=True)[0].strip()\n",
    "    match = check_colors_and_textures(generated_text1)\n",
    "\n",
    "    #print(f\"{row[0]} has generated: {generated_text1}\")\n",
    "    return generated_text1, generated_text2, generated_text3, generated_text4, match\n",
    "\n",
    "\n",
    "# Add new columns with generated text using the apply() method and a lambda function\n",
    "data['BLIP-2, greedy, caption'], data['BLIP-2, OPT-2.7b greedy, bool'], data['BLIP-2, OPT-2.7b greedy, name'], data[\n",
    "    'BLIP-2, greedy, real'], data['BLIP-2, greedy, color and textures'] = zip(*data.progress_apply(lambda row: generate_text(row, decode='greedy'), axis=1))\n",
    "\n",
    "data['BLIP-2, nucleus, caption'], data['BLIP-2, nucleus, bool'], data['BLIP-2, OPT-2.7b nucleus, name'], data[\n",
    "    'BLIP-2, nucleus, real'], data['BLIP-2,nucleus, color and textures'] = zip(*data.progress_apply(lambda row: generate_text(row, decode='nucleus'), axis=1))\n",
    "\n",
    "data['BLIP-2, beam, caption'], data['BLIP-2, beam, bool'], data['BLIP-2, OPT-2.7b greedy, name'], data[\n",
    "    'BLIP-2, beam, real'], data['BLIP-2, beam, color and textures'] = zip(*data.progress_apply(lambda row: generate_text(row, decode='beam'), axis=1))\n",
    "\n",
    "# Write updated data to output file\n",
    "data.to_csv(output_file, index=False)"
   ]
  },
  {
   "cell_type": "code",
   "execution_count": 49,
   "metadata": {},
   "outputs": [
    {
     "data": {
      "text/html": [
       "<div>\n",
       "<style scoped>\n",
       "    .dataframe tbody tr th:only-of-type {\n",
       "        vertical-align: middle;\n",
       "    }\n",
       "\n",
       "    .dataframe tbody tr th {\n",
       "        vertical-align: top;\n",
       "    }\n",
       "\n",
       "    .dataframe thead th {\n",
       "        text-align: right;\n",
       "    }\n",
       "</style>\n",
       "<table border=\"1\" class=\"dataframe\">\n",
       "  <thead>\n",
       "    <tr style=\"text-align: right;\">\n",
       "      <th></th>\n",
       "      <th>image_path</th>\n",
       "      <th>number label</th>\n",
       "      <th>actual name</th>\n",
       "      <th>familiarity score</th>\n",
       "      <th>nameability score</th>\n",
       "      <th>color saliency</th>\n",
       "      <th>texture saliency</th>\n",
       "      <th>BLIP-2, greedy, caption</th>\n",
       "      <th>BLIP-2, greedy, bool</th>\n",
       "      <th>BLIP-2, greedy, name</th>\n",
       "      <th>...</th>\n",
       "      <th>BLIP-2, greedy, color and textures</th>\n",
       "      <th>BLIP-2, nucleus, caption</th>\n",
       "      <th>BLIP-2, nucleus, bool</th>\n",
       "      <th>BLIP-2, nucleus, name</th>\n",
       "      <th>BLIP-2, nucleus, real</th>\n",
       "      <th>BLIP-2, nucleus, color and textures</th>\n",
       "      <th>BLIP-2, beam, caption</th>\n",
       "      <th>BLIP-2, beam, bool</th>\n",
       "      <th>BLIP-2, beam, real</th>\n",
       "      <th>BLIP-2, beam, color and textures</th>\n",
       "    </tr>\n",
       "  </thead>\n",
       "  <tbody>\n",
       "    <tr>\n",
       "      <th>0</th>\n",
       "      <td>data/NOUN-2-600DPI/2001-600.jpg</td>\n",
       "      <td>2001</td>\n",
       "      <td>bee have trap</td>\n",
       "      <td>19</td>\n",
       "      <td>50</td>\n",
       "      <td>66</td>\n",
       "      <td>14</td>\n",
       "      <td>a pair of orange plastic toys on a white backg...</td>\n",
       "      <td>Yes, it is a plastic egg</td>\n",
       "      <td>the object in this image is an orange plastic ...</td>\n",
       "      <td>...</td>\n",
       "      <td>(['Orange'], ['Plastic'])</td>\n",
       "      <td>puzzle puzzle toy for puppies</td>\n",
       "      <td>1 x plastic yellow egg - yes</td>\n",
       "      <td>a toilet paper roll</td>\n",
       "      <td>I think it's a big, old, shiny gold plated cop...</td>\n",
       "      <td>([], [])</td>\n",
       "      <td>a pair of orange plastic toys on a white backg...</td>\n",
       "      <td>No, I do not recognize this object.</td>\n",
       "      <td>This is an orange plastic ball with a hole in ...</td>\n",
       "      <td>(['Orange'], ['Plastic'])</td>\n",
       "    </tr>\n",
       "    <tr>\n",
       "      <th>1</th>\n",
       "      <td>data/NOUN-2-600DPI/2002-600.jpg</td>\n",
       "      <td>2002</td>\n",
       "      <td>bookend</td>\n",
       "      <td>22</td>\n",
       "      <td>83</td>\n",
       "      <td>59</td>\n",
       "      <td>9</td>\n",
       "      <td>a red metal sculpture with a curved shape</td>\n",
       "      <td>Yes, I recognize this object.</td>\n",
       "      <td>a red vase</td>\n",
       "      <td>...</td>\n",
       "      <td>(['Red'], [])</td>\n",
       "      <td>a small red sculpture with a curved shape</td>\n",
       "      <td>Yes</td>\n",
       "      <td>a vase</td>\n",
       "      <td>It's an empty vase.</td>\n",
       "      <td>(['Red'], [])</td>\n",
       "      <td>a red metal sculpture on a white background</td>\n",
       "      <td>Unknown</td>\n",
       "      <td>It's a red vase.</td>\n",
       "      <td>(['Red'], [])</td>\n",
       "    </tr>\n",
       "    <tr>\n",
       "      <th>2</th>\n",
       "      <td>data/NOUN-2-600DPI/2003-600.jpg</td>\n",
       "      <td>2003</td>\n",
       "      <td>fidget toy</td>\n",
       "      <td>59</td>\n",
       "      <td>74</td>\n",
       "      <td>19</td>\n",
       "      <td>0</td>\n",
       "      <td>a set of colorful wooden blocks arranged in a ...</td>\n",
       "      <td>Yes, it is a wooden block</td>\n",
       "      <td>a stack of multi-colored blocks on a white bac...</td>\n",
       "      <td>...</td>\n",
       "      <td>([], ['Wooden'])</td>\n",
       "      <td>a set of wooden blocks made up of different co...</td>\n",
       "      <td>Yes ÂÂÂÂÂÂÂÂÂÂÂÂÂÂÂÂÂÂ</td>\n",
       "      <td>the letter k ik-pok-ka-shab</td>\n",
       "      <td>A picture of a line of letters</td>\n",
       "      <td>(['Red'], ['Wooden'])</td>\n",
       "      <td>a set of colorful wooden blocks on a white bac...</td>\n",
       "      <td>Yes, I recognize this object.</td>\n",
       "      <td>This is a stack of wooden blocks.</td>\n",
       "      <td>([], ['Wooden'])</td>\n",
       "    </tr>\n",
       "    <tr>\n",
       "      <th>3</th>\n",
       "      <td>data/NOUN-2-600DPI/2004-600.jpg</td>\n",
       "      <td>2004</td>\n",
       "      <td>pencil sharpener</td>\n",
       "      <td>41</td>\n",
       "      <td>70</td>\n",
       "      <td>48</td>\n",
       "      <td>52</td>\n",
       "      <td>a yellow and orange plastic egg shaped object</td>\n",
       "      <td>Yes, it is a plastic ball with a hole in the m...</td>\n",
       "      <td>the object in this image is an orange and yell...</td>\n",
       "      <td>...</td>\n",
       "      <td>(['Orange', 'Yellow'], ['Plastic'])</td>\n",
       "      <td>small okey egg orange yellow</td>\n",
       "      <td>No, this is not a phone, it is a phone with th...</td>\n",
       "      <td>a yellow and orange object</td>\n",
       "      <td>An orange rubber ball that has been polished b...</td>\n",
       "      <td>(['Orange', 'Yellow'], [])</td>\n",
       "      <td>an orange and yellow plastic ball with a hole ...</td>\n",
       "      <td>Unknown</td>\n",
       "      <td>This is an orange and yellow plastic ball with...</td>\n",
       "      <td>(['Orange', 'Yellow'], ['Plastic'])</td>\n",
       "    </tr>\n",
       "    <tr>\n",
       "      <th>4</th>\n",
       "      <td>data/NOUN-2-600DPI/2005-600.jpg</td>\n",
       "      <td>2005</td>\n",
       "      <td>fish tank stone</td>\n",
       "      <td>6</td>\n",
       "      <td>25</td>\n",
       "      <td>81</td>\n",
       "      <td>13</td>\n",
       "      <td>a pink and blue tie dye headband</td>\n",
       "      <td>Yes, I recognize this object.</td>\n",
       "      <td>a rainbow tie-dye tie-dye tie-dye tie-dye tie-</td>\n",
       "      <td>...</td>\n",
       "      <td>(['Blue', 'Pink'], [])</td>\n",
       "      <td>a pink and yellow tie dye unicorn head</td>\n",
       "      <td>this is a feather headband</td>\n",
       "      <td>rainbow unicorn head</td>\n",
       "      <td>Pink unicorn horn</td>\n",
       "      <td>(['Yellow', 'Pink'], [])</td>\n",
       "      <td>a pink and blue tie dye headband sitting on to...</td>\n",
       "      <td>Unknown</td>\n",
       "      <td>It's a tie-dye headband.</td>\n",
       "      <td>(['Blue', 'Pink', 'White'], [])</td>\n",
       "    </tr>\n",
       "    <tr>\n",
       "      <th>...</th>\n",
       "      <td>...</td>\n",
       "      <td>...</td>\n",
       "      <td>...</td>\n",
       "      <td>...</td>\n",
       "      <td>...</td>\n",
       "      <td>...</td>\n",
       "      <td>...</td>\n",
       "      <td>...</td>\n",
       "      <td>...</td>\n",
       "      <td>...</td>\n",
       "      <td>...</td>\n",
       "      <td>...</td>\n",
       "      <td>...</td>\n",
       "      <td>...</td>\n",
       "      <td>...</td>\n",
       "      <td>...</td>\n",
       "      <td>...</td>\n",
       "      <td>...</td>\n",
       "      <td>...</td>\n",
       "      <td>...</td>\n",
       "      <td>...</td>\n",
       "    </tr>\n",
       "    <tr>\n",
       "      <th>59</th>\n",
       "      <td>data/NOUN-2-600DPI/2060-600.jpg</td>\n",
       "      <td>2060</td>\n",
       "      <td>dog toy with removed rope</td>\n",
       "      <td>38</td>\n",
       "      <td>32</td>\n",
       "      <td>55</td>\n",
       "      <td>29</td>\n",
       "      <td>a red plastic toy with four balls inside</td>\n",
       "      <td>Yes, it is a red jelly bean</td>\n",
       "      <td>a red ball with a bunch of small balls inside ...</td>\n",
       "      <td>...</td>\n",
       "      <td>(['Red'], ['Plastic'])</td>\n",
       "      <td>a large red heart shaped toy is placed on a wh...</td>\n",
       "      <td>Red ball shaped object with six balls on top</td>\n",
       "      <td>a red flower</td>\n",
       "      <td>A hot red bottle of water.</td>\n",
       "      <td>(['Red', 'White'], ['Lace'])</td>\n",
       "      <td>a close up of a red plastic toy that is shaped...</td>\n",
       "      <td>Yes, I recognize this object.</td>\n",
       "      <td>It’s a red jelly bean.</td>\n",
       "      <td>(['Red'], ['Plastic'])</td>\n",
       "    </tr>\n",
       "    <tr>\n",
       "      <th>60</th>\n",
       "      <td>data/NOUN-2-600DPI/2061-600.jpg</td>\n",
       "      <td>2061</td>\n",
       "      <td>dog toy</td>\n",
       "      <td>53</td>\n",
       "      <td>53</td>\n",
       "      <td>59</td>\n",
       "      <td>13</td>\n",
       "      <td>a green donut with colorful dots on it</td>\n",
       "      <td>Yes</td>\n",
       "      <td>a donut</td>\n",
       "      <td>...</td>\n",
       "      <td>(['Green'], [])</td>\n",
       "      <td>a toy of a donut made with green colored rubber</td>\n",
       "      <td>the ring has 6 balls, 3 blue balls and 3 red b...</td>\n",
       "      <td>a rubber donut</td>\n",
       "      <td>A green donut</td>\n",
       "      <td>(['Red', 'Green'], ['Rubber'])</td>\n",
       "      <td>a green dog toy with colorful dots on it</td>\n",
       "      <td>Yes, I recognize this object.</td>\n",
       "      <td>It's a donut shaped like a virus.</td>\n",
       "      <td>(['Green'], [])</td>\n",
       "    </tr>\n",
       "    <tr>\n",
       "      <th>61</th>\n",
       "      <td>data/NOUN-2-600DPI/2062-600.jpg</td>\n",
       "      <td>2062</td>\n",
       "      <td>dog toy</td>\n",
       "      <td>44</td>\n",
       "      <td>56</td>\n",
       "      <td>29</td>\n",
       "      <td>42</td>\n",
       "      <td>an orange plastic ring with spikes on it</td>\n",
       "      <td>Yes, it is a rubber ball with spikes</td>\n",
       "      <td>an orange rubber ring with spikes on it</td>\n",
       "      <td>...</td>\n",
       "      <td>(['Orange'], ['Plastic'])</td>\n",
       "      <td>an orange plastic toy is shown on a white back...</td>\n",
       "      <td>This is an animal toy with rubber toys</td>\n",
       "      <td>The 'Orange Spiky Dog Collar'    by QwikClip.com</td>\n",
       "      <td>A rubber tire shaped item.</td>\n",
       "      <td>(['Orange'], ['Plastic'])</td>\n",
       "      <td>an orange rubber ring on a white background</td>\n",
       "      <td>Unknown</td>\n",
       "      <td>This is an orange rubber ring with spikes on it</td>\n",
       "      <td>(['Orange'], ['Rubber'])</td>\n",
       "    </tr>\n",
       "    <tr>\n",
       "      <th>62</th>\n",
       "      <td>data/NOUN-2-600DPI/2063-600.jpg</td>\n",
       "      <td>2063</td>\n",
       "      <td>magic loops</td>\n",
       "      <td>25</td>\n",
       "      <td>38</td>\n",
       "      <td>13</td>\n",
       "      <td>19</td>\n",
       "      <td>a metal sculpture with colorful beads on it</td>\n",
       "      <td>Yes, it is a planet</td>\n",
       "      <td>a solar system.</td>\n",
       "      <td>...</td>\n",
       "      <td>([], [])</td>\n",
       "      <td>kiddos magnet system</td>\n",
       "      <td>this is the universe</td>\n",
       "      <td>a planet</td>\n",
       "      <td>The sun.</td>\n",
       "      <td>([], [])</td>\n",
       "      <td>a metal sculpture of a globe with multi colore...</td>\n",
       "      <td>No, I do not recognize this object.</td>\n",
       "      <td>I think it's a planet.</td>\n",
       "      <td>(['Red'], [])</td>\n",
       "    </tr>\n",
       "    <tr>\n",
       "      <th>63</th>\n",
       "      <td>data/NOUN-2-600DPI/2064-600.jpg</td>\n",
       "      <td>2064</td>\n",
       "      <td>massager</td>\n",
       "      <td>28</td>\n",
       "      <td>33</td>\n",
       "      <td>45</td>\n",
       "      <td>3</td>\n",
       "      <td>a green and silver object with legs</td>\n",
       "      <td>Yes, it is a foot massager</td>\n",
       "      <td>a foot massager</td>\n",
       "      <td>...</td>\n",
       "      <td>(['Green', 'Silver'], [])</td>\n",
       "      <td>this is a green and white foot massager</td>\n",
       "      <td>Yes</td>\n",
       "      <td>a table</td>\n",
       "      <td>A device used for massaging one's legs in bed.</td>\n",
       "      <td>(['Green', 'White'], [])</td>\n",
       "      <td>a green foot massager on a white surface</td>\n",
       "      <td>Yes, I recognize this object.</td>\n",
       "      <td>It's a foot massager.</td>\n",
       "      <td>(['Green', 'White'], [])</td>\n",
       "    </tr>\n",
       "  </tbody>\n",
       "</table>\n",
       "<p>64 rows × 21 columns</p>\n",
       "</div>"
      ],
      "text/plain": [
       "                         image_path  number label                actual name   \n",
       "0   data/NOUN-2-600DPI/2001-600.jpg          2001              bee have trap  \\\n",
       "1   data/NOUN-2-600DPI/2002-600.jpg          2002                    bookend   \n",
       "2   data/NOUN-2-600DPI/2003-600.jpg          2003                 fidget toy   \n",
       "3   data/NOUN-2-600DPI/2004-600.jpg          2004           pencil sharpener   \n",
       "4   data/NOUN-2-600DPI/2005-600.jpg          2005            fish tank stone   \n",
       "..                              ...           ...                        ...   \n",
       "59  data/NOUN-2-600DPI/2060-600.jpg          2060  dog toy with removed rope   \n",
       "60  data/NOUN-2-600DPI/2061-600.jpg          2061                    dog toy   \n",
       "61  data/NOUN-2-600DPI/2062-600.jpg          2062                    dog toy   \n",
       "62  data/NOUN-2-600DPI/2063-600.jpg          2063                magic loops   \n",
       "63  data/NOUN-2-600DPI/2064-600.jpg          2064                   massager   \n",
       "\n",
       "    familiarity score  nameability score  color saliency  texture saliency   \n",
       "0                  19                 50              66                14  \\\n",
       "1                  22                 83              59                 9   \n",
       "2                  59                 74              19                 0   \n",
       "3                  41                 70              48                52   \n",
       "4                   6                 25              81                13   \n",
       "..                ...                ...             ...               ...   \n",
       "59                 38                 32              55                29   \n",
       "60                 53                 53              59                13   \n",
       "61                 44                 56              29                42   \n",
       "62                 25                 38              13                19   \n",
       "63                 28                 33              45                 3   \n",
       "\n",
       "                              BLIP-2, greedy, caption   \n",
       "0   a pair of orange plastic toys on a white backg...  \\\n",
       "1           a red metal sculpture with a curved shape   \n",
       "2   a set of colorful wooden blocks arranged in a ...   \n",
       "3       a yellow and orange plastic egg shaped object   \n",
       "4                    a pink and blue tie dye headband   \n",
       "..                                                ...   \n",
       "59           a red plastic toy with four balls inside   \n",
       "60             a green donut with colorful dots on it   \n",
       "61           an orange plastic ring with spikes on it   \n",
       "62        a metal sculpture with colorful beads on it   \n",
       "63                a green and silver object with legs   \n",
       "\n",
       "                                 BLIP-2, greedy, bool   \n",
       "0                            Yes, it is a plastic egg  \\\n",
       "1                       Yes, I recognize this object.   \n",
       "2                           Yes, it is a wooden block   \n",
       "3   Yes, it is a plastic ball with a hole in the m...   \n",
       "4                       Yes, I recognize this object.   \n",
       "..                                                ...   \n",
       "59                        Yes, it is a red jelly bean   \n",
       "60                                                Yes   \n",
       "61               Yes, it is a rubber ball with spikes   \n",
       "62                                Yes, it is a planet   \n",
       "63                         Yes, it is a foot massager   \n",
       "\n",
       "                                 BLIP-2, greedy, name  ...   \n",
       "0   the object in this image is an orange plastic ...  ...  \\\n",
       "1                                          a red vase  ...   \n",
       "2   a stack of multi-colored blocks on a white bac...  ...   \n",
       "3   the object in this image is an orange and yell...  ...   \n",
       "4      a rainbow tie-dye tie-dye tie-dye tie-dye tie-  ...   \n",
       "..                                                ...  ...   \n",
       "59  a red ball with a bunch of small balls inside ...  ...   \n",
       "60                                            a donut  ...   \n",
       "61            an orange rubber ring with spikes on it  ...   \n",
       "62                                    a solar system.  ...   \n",
       "63                                    a foot massager  ...   \n",
       "\n",
       "     BLIP-2, greedy, color and textures   \n",
       "0             (['Orange'], ['Plastic'])  \\\n",
       "1                         (['Red'], [])   \n",
       "2                      ([], ['Wooden'])   \n",
       "3   (['Orange', 'Yellow'], ['Plastic'])   \n",
       "4                (['Blue', 'Pink'], [])   \n",
       "..                                  ...   \n",
       "59               (['Red'], ['Plastic'])   \n",
       "60                      (['Green'], [])   \n",
       "61            (['Orange'], ['Plastic'])   \n",
       "62                             ([], [])   \n",
       "63            (['Green', 'Silver'], [])   \n",
       "\n",
       "                             BLIP-2, nucleus, caption   \n",
       "0                       puzzle puzzle toy for puppies  \\\n",
       "1           a small red sculpture with a curved shape   \n",
       "2   a set of wooden blocks made up of different co...   \n",
       "3                        small okey egg orange yellow   \n",
       "4              a pink and yellow tie dye unicorn head   \n",
       "..                                                ...   \n",
       "59  a large red heart shaped toy is placed on a wh...   \n",
       "60    a toy of a donut made with green colored rubber   \n",
       "61  an orange plastic toy is shown on a white back...   \n",
       "62                               kiddos magnet system   \n",
       "63            this is a green and white foot massager   \n",
       "\n",
       "                                BLIP-2, nucleus, bool   \n",
       "0                        1 x plastic yellow egg - yes  \\\n",
       "1                                                 Yes   \n",
       "2                              Yes ÂÂÂÂÂÂÂÂÂÂÂÂÂÂÂÂÂÂ   \n",
       "3   No, this is not a phone, it is a phone with th...   \n",
       "4                          this is a feather headband   \n",
       "..                                                ...   \n",
       "59       Red ball shaped object with six balls on top   \n",
       "60  the ring has 6 balls, 3 blue balls and 3 red b...   \n",
       "61             This is an animal toy with rubber toys   \n",
       "62                               this is the universe   \n",
       "63                                                Yes   \n",
       "\n",
       "                               BLIP-2, nucleus, name   \n",
       "0                                a toilet paper roll  \\\n",
       "1                                             a vase   \n",
       "2                        the letter k ik-pok-ka-shab   \n",
       "3                         a yellow and orange object   \n",
       "4                               rainbow unicorn head   \n",
       "..                                               ...   \n",
       "59                                      a red flower   \n",
       "60                                    a rubber donut   \n",
       "61  The 'Orange Spiky Dog Collar'    by QwikClip.com   \n",
       "62                                          a planet   \n",
       "63                                           a table   \n",
       "\n",
       "                                BLIP-2, nucleus, real   \n",
       "0   I think it's a big, old, shiny gold plated cop...  \\\n",
       "1                                 It's an empty vase.   \n",
       "2                      A picture of a line of letters   \n",
       "3   An orange rubber ball that has been polished b...   \n",
       "4                                   Pink unicorn horn   \n",
       "..                                                ...   \n",
       "59                         A hot red bottle of water.   \n",
       "60                                      A green donut   \n",
       "61                         A rubber tire shaped item.   \n",
       "62                                           The sun.   \n",
       "63     A device used for massaging one's legs in bed.   \n",
       "\n",
       "   BLIP-2, nucleus, color and textures   \n",
       "0                             ([], [])  \\\n",
       "1                        (['Red'], [])   \n",
       "2                (['Red'], ['Wooden'])   \n",
       "3           (['Orange', 'Yellow'], [])   \n",
       "4             (['Yellow', 'Pink'], [])   \n",
       "..                                 ...   \n",
       "59        (['Red', 'White'], ['Lace'])   \n",
       "60      (['Red', 'Green'], ['Rubber'])   \n",
       "61           (['Orange'], ['Plastic'])   \n",
       "62                            ([], [])   \n",
       "63            (['Green', 'White'], [])   \n",
       "\n",
       "                                BLIP-2, beam, caption   \n",
       "0   a pair of orange plastic toys on a white backg...  \\\n",
       "1         a red metal sculpture on a white background   \n",
       "2   a set of colorful wooden blocks on a white bac...   \n",
       "3   an orange and yellow plastic ball with a hole ...   \n",
       "4   a pink and blue tie dye headband sitting on to...   \n",
       "..                                                ...   \n",
       "59  a close up of a red plastic toy that is shaped...   \n",
       "60           a green dog toy with colorful dots on it   \n",
       "61        an orange rubber ring on a white background   \n",
       "62  a metal sculpture of a globe with multi colore...   \n",
       "63           a green foot massager on a white surface   \n",
       "\n",
       "                     BLIP-2, beam, bool   \n",
       "0   No, I do not recognize this object.  \\\n",
       "1                               Unknown   \n",
       "2         Yes, I recognize this object.   \n",
       "3                               Unknown   \n",
       "4                               Unknown   \n",
       "..                                  ...   \n",
       "59        Yes, I recognize this object.   \n",
       "60        Yes, I recognize this object.   \n",
       "61                              Unknown   \n",
       "62  No, I do not recognize this object.   \n",
       "63        Yes, I recognize this object.   \n",
       "\n",
       "                                   BLIP-2, beam, real   \n",
       "0   This is an orange plastic ball with a hole in ...  \\\n",
       "1                                    It's a red vase.   \n",
       "2                   This is a stack of wooden blocks.   \n",
       "3   This is an orange and yellow plastic ball with...   \n",
       "4                            It's a tie-dye headband.   \n",
       "..                                                ...   \n",
       "59                             It’s a red jelly bean.   \n",
       "60                  It's a donut shaped like a virus.   \n",
       "61    This is an orange rubber ring with spikes on it   \n",
       "62                             I think it's a planet.   \n",
       "63                              It's a foot massager.   \n",
       "\n",
       "       BLIP-2, beam, color and textures  \n",
       "0             (['Orange'], ['Plastic'])  \n",
       "1                         (['Red'], [])  \n",
       "2                      ([], ['Wooden'])  \n",
       "3   (['Orange', 'Yellow'], ['Plastic'])  \n",
       "4       (['Blue', 'Pink', 'White'], [])  \n",
       "..                                  ...  \n",
       "59               (['Red'], ['Plastic'])  \n",
       "60                      (['Green'], [])  \n",
       "61             (['Orange'], ['Rubber'])  \n",
       "62                        (['Red'], [])  \n",
       "63             (['Green', 'White'], [])  \n",
       "\n",
       "[64 rows x 21 columns]"
      ]
     },
     "metadata": {},
     "output_type": "display_data"
    }
   ],
   "source": [
    "data = pd.read_csv(output_file)\n",
    "display(data)"
   ]
  },
  {
   "attachments": {},
   "cell_type": "markdown",
   "metadata": {},
   "source": [
    "##### Display dataset"
   ]
  },
  {
   "cell_type": "code",
   "execution_count": 50,
   "metadata": {},
   "outputs": [],
   "source": [
    "import glob\n",
    "import random\n",
    "import base64\n",
    "import pandas as pd\n",
    "\n",
    "from PIL import Image\n",
    "from io import BytesIO\n",
    "from IPython.display import HTML\n",
    "\n",
    "\n",
    "def get_thumbnail(path):\n",
    "    i = Image.open(path)\n",
    "    i.thumbnail((150, 150), Image.LANCZOS)\n",
    "    return i\n",
    "\n",
    "def image_base64(im):\n",
    "    if isinstance(im, str):\n",
    "        im = get_thumbnail(im)\n",
    "    with BytesIO() as buffer:\n",
    "        im.save(buffer, 'jpeg')\n",
    "        return base64.b64encode(buffer.getvalue()).decode()\n",
    "\n",
    "def image_formatter(im):\n",
    "    return f'<img src=\"data:image/jpeg;base64,{image_base64(im)}\">'"
   ]
  },
  {
   "cell_type": "code",
   "execution_count": 51,
   "metadata": {},
   "outputs": [
    {
     "name": "stderr",
     "output_type": "stream",
     "text": [
      "/scratch-local/jsprott.2829221/ipykernel_4099205/257187248.py:13: DeprecationWarning:\n",
      "\n",
      "LANCZOS is deprecated and will be removed in Pillow 10 (2023-07-01). Use Resampling.LANCZOS instead.\n",
      "\n"
     ]
    }
   ],
   "source": [
    "import re\n",
    "import pandas as pd\n",
    "\n",
    "data = pd.read_csv('data/datasets/dataset_all_questions.csv')\n",
    "data.rename(columns={'image_path': 'image'}, inplace=True)\n",
    "data['image'] = data.image.map(lambda f: get_thumbnail(f))\n",
    "data['BLIP-2, greedy, color and textures'] = data['BLIP-2, greedy, color and textures'].apply(lambda x: re.sub(r'[^\\w]', ' ', x))\n",
    "data['BLIP-2, nucleus, color and textures'] = data['BLIP-2, nucleus, color and textures'].apply(lambda x: re.sub(r'[^\\w]', ' ', x))\n",
    "data['BLIP-2, beam, color and textures'] = data['BLIP-2, beam, color and textures'].apply(lambda x: re.sub(r'[^\\w]', ' ', x))"
   ]
  },
  {
   "cell_type": "code",
   "execution_count": 71,
   "metadata": {},
   "outputs": [],
   "source": [
    "html_content = data.to_html(formatters={'image': image_formatter}, escape=False)\n",
    "\n",
    "with open('data/datasets/temp_results.html', 'w') as file:\n",
    "    file.write(html_content)"
   ]
  },
  {
   "attachments": {},
   "cell_type": "markdown",
   "metadata": {},
   "source": [
    "##### Evaluate model results"
   ]
  },
  {
   "cell_type": "code",
   "execution_count": 52,
   "metadata": {},
   "outputs": [
    {
     "data": {
      "text/html": [
       "<div>\n",
       "<style scoped>\n",
       "    .dataframe tbody tr th:only-of-type {\n",
       "        vertical-align: middle;\n",
       "    }\n",
       "\n",
       "    .dataframe tbody tr th {\n",
       "        vertical-align: top;\n",
       "    }\n",
       "\n",
       "    .dataframe thead th {\n",
       "        text-align: right;\n",
       "    }\n",
       "</style>\n",
       "<table border=\"1\" class=\"dataframe\">\n",
       "  <thead>\n",
       "    <tr style=\"text-align: right;\">\n",
       "      <th></th>\n",
       "      <th>image</th>\n",
       "      <th>number label</th>\n",
       "      <th>actual name</th>\n",
       "      <th>familiarity score</th>\n",
       "      <th>nameability score</th>\n",
       "      <th>color saliency</th>\n",
       "      <th>texture saliency</th>\n",
       "      <th>BLIP-2, greedy, caption</th>\n",
       "      <th>BLIP-2, greedy, bool</th>\n",
       "      <th>BLIP-2, greedy, name</th>\n",
       "      <th>...</th>\n",
       "      <th>BLIP-2, greedy, color and textures</th>\n",
       "      <th>BLIP-2, nucleus, caption</th>\n",
       "      <th>BLIP-2, nucleus, bool</th>\n",
       "      <th>BLIP-2, nucleus, name</th>\n",
       "      <th>BLIP-2, nucleus, real</th>\n",
       "      <th>BLIP-2, nucleus, color and textures</th>\n",
       "      <th>BLIP-2, beam, caption</th>\n",
       "      <th>BLIP-2, beam, bool</th>\n",
       "      <th>BLIP-2, beam, real</th>\n",
       "      <th>BLIP-2, beam, color and textures</th>\n",
       "    </tr>\n",
       "  </thead>\n",
       "  <tbody>\n",
       "    <tr>\n",
       "      <th>0</th>\n",
       "      <td>&lt;PIL.JpegImagePlugin.JpegImageFile image mode=...</td>\n",
       "      <td>2001</td>\n",
       "      <td>bee have trap</td>\n",
       "      <td>19</td>\n",
       "      <td>50</td>\n",
       "      <td>66</td>\n",
       "      <td>14</td>\n",
       "      <td>a pair of orange plastic toys on a white backg...</td>\n",
       "      <td>Yes, it is a plastic egg</td>\n",
       "      <td>the object in this image is an orange plastic ...</td>\n",
       "      <td>...</td>\n",
       "      <td>Orange      Plastic</td>\n",
       "      <td>puzzle puzzle toy for puppies</td>\n",
       "      <td>1 x plastic yellow egg - yes</td>\n",
       "      <td>a toilet paper roll</td>\n",
       "      <td>I think it's a big, old, shiny gold plated cop...</td>\n",
       "      <td></td>\n",
       "      <td>a pair of orange plastic toys on a white backg...</td>\n",
       "      <td>No, I do not recognize this object.</td>\n",
       "      <td>This is an orange plastic ball with a hole in ...</td>\n",
       "      <td>Orange      Plastic</td>\n",
       "    </tr>\n",
       "    <tr>\n",
       "      <th>1</th>\n",
       "      <td>&lt;PIL.JpegImagePlugin.JpegImageFile image mode=...</td>\n",
       "      <td>2002</td>\n",
       "      <td>bookend</td>\n",
       "      <td>22</td>\n",
       "      <td>83</td>\n",
       "      <td>59</td>\n",
       "      <td>9</td>\n",
       "      <td>a red metal sculpture with a curved shape</td>\n",
       "      <td>Yes, I recognize this object.</td>\n",
       "      <td>a red vase</td>\n",
       "      <td>...</td>\n",
       "      <td>Red</td>\n",
       "      <td>a small red sculpture with a curved shape</td>\n",
       "      <td>Yes</td>\n",
       "      <td>a vase</td>\n",
       "      <td>It's an empty vase.</td>\n",
       "      <td>Red</td>\n",
       "      <td>a red metal sculpture on a white background</td>\n",
       "      <td>Unknown</td>\n",
       "      <td>It's a red vase.</td>\n",
       "      <td>Red</td>\n",
       "    </tr>\n",
       "    <tr>\n",
       "      <th>2</th>\n",
       "      <td>&lt;PIL.JpegImagePlugin.JpegImageFile image mode=...</td>\n",
       "      <td>2003</td>\n",
       "      <td>fidget toy</td>\n",
       "      <td>59</td>\n",
       "      <td>74</td>\n",
       "      <td>19</td>\n",
       "      <td>0</td>\n",
       "      <td>a set of colorful wooden blocks arranged in a ...</td>\n",
       "      <td>Yes, it is a wooden block</td>\n",
       "      <td>a stack of multi-colored blocks on a white bac...</td>\n",
       "      <td>...</td>\n",
       "      <td>Wooden</td>\n",
       "      <td>a set of wooden blocks made up of different co...</td>\n",
       "      <td>Yes ÂÂÂÂÂÂÂÂÂÂÂÂÂÂÂÂÂÂ</td>\n",
       "      <td>the letter k ik-pok-ka-shab</td>\n",
       "      <td>A picture of a line of letters</td>\n",
       "      <td>Red      Wooden</td>\n",
       "      <td>a set of colorful wooden blocks on a white bac...</td>\n",
       "      <td>Yes, I recognize this object.</td>\n",
       "      <td>This is a stack of wooden blocks.</td>\n",
       "      <td>Wooden</td>\n",
       "    </tr>\n",
       "    <tr>\n",
       "      <th>3</th>\n",
       "      <td>&lt;PIL.JpegImagePlugin.JpegImageFile image mode=...</td>\n",
       "      <td>2004</td>\n",
       "      <td>pencil sharpener</td>\n",
       "      <td>41</td>\n",
       "      <td>70</td>\n",
       "      <td>48</td>\n",
       "      <td>52</td>\n",
       "      <td>a yellow and orange plastic egg shaped object</td>\n",
       "      <td>Yes, it is a plastic ball with a hole in the m...</td>\n",
       "      <td>the object in this image is an orange and yell...</td>\n",
       "      <td>...</td>\n",
       "      <td>Orange    Yellow      Plastic</td>\n",
       "      <td>small okey egg orange yellow</td>\n",
       "      <td>No, this is not a phone, it is a phone with th...</td>\n",
       "      <td>a yellow and orange object</td>\n",
       "      <td>An orange rubber ball that has been polished b...</td>\n",
       "      <td>Orange    Yellow</td>\n",
       "      <td>an orange and yellow plastic ball with a hole ...</td>\n",
       "      <td>Unknown</td>\n",
       "      <td>This is an orange and yellow plastic ball with...</td>\n",
       "      <td>Orange    Yellow      Plastic</td>\n",
       "    </tr>\n",
       "    <tr>\n",
       "      <th>4</th>\n",
       "      <td>&lt;PIL.JpegImagePlugin.JpegImageFile image mode=...</td>\n",
       "      <td>2005</td>\n",
       "      <td>fish tank stone</td>\n",
       "      <td>6</td>\n",
       "      <td>25</td>\n",
       "      <td>81</td>\n",
       "      <td>13</td>\n",
       "      <td>a pink and blue tie dye headband</td>\n",
       "      <td>Yes, I recognize this object.</td>\n",
       "      <td>a rainbow tie-dye tie-dye tie-dye tie-dye tie-</td>\n",
       "      <td>...</td>\n",
       "      <td>Blue    Pink</td>\n",
       "      <td>a pink and yellow tie dye unicorn head</td>\n",
       "      <td>this is a feather headband</td>\n",
       "      <td>rainbow unicorn head</td>\n",
       "      <td>Pink unicorn horn</td>\n",
       "      <td>Yellow    Pink</td>\n",
       "      <td>a pink and blue tie dye headband sitting on to...</td>\n",
       "      <td>Unknown</td>\n",
       "      <td>It's a tie-dye headband.</td>\n",
       "      <td>Blue    Pink    White</td>\n",
       "    </tr>\n",
       "    <tr>\n",
       "      <th>...</th>\n",
       "      <td>...</td>\n",
       "      <td>...</td>\n",
       "      <td>...</td>\n",
       "      <td>...</td>\n",
       "      <td>...</td>\n",
       "      <td>...</td>\n",
       "      <td>...</td>\n",
       "      <td>...</td>\n",
       "      <td>...</td>\n",
       "      <td>...</td>\n",
       "      <td>...</td>\n",
       "      <td>...</td>\n",
       "      <td>...</td>\n",
       "      <td>...</td>\n",
       "      <td>...</td>\n",
       "      <td>...</td>\n",
       "      <td>...</td>\n",
       "      <td>...</td>\n",
       "      <td>...</td>\n",
       "      <td>...</td>\n",
       "      <td>...</td>\n",
       "    </tr>\n",
       "    <tr>\n",
       "      <th>59</th>\n",
       "      <td>&lt;PIL.JpegImagePlugin.JpegImageFile image mode=...</td>\n",
       "      <td>2060</td>\n",
       "      <td>dog toy with removed rope</td>\n",
       "      <td>38</td>\n",
       "      <td>32</td>\n",
       "      <td>55</td>\n",
       "      <td>29</td>\n",
       "      <td>a red plastic toy with four balls inside</td>\n",
       "      <td>Yes, it is a red jelly bean</td>\n",
       "      <td>a red ball with a bunch of small balls inside ...</td>\n",
       "      <td>...</td>\n",
       "      <td>Red      Plastic</td>\n",
       "      <td>a large red heart shaped toy is placed on a wh...</td>\n",
       "      <td>Red ball shaped object with six balls on top</td>\n",
       "      <td>a red flower</td>\n",
       "      <td>A hot red bottle of water.</td>\n",
       "      <td>Red    White      Lace</td>\n",
       "      <td>a close up of a red plastic toy that is shaped...</td>\n",
       "      <td>Yes, I recognize this object.</td>\n",
       "      <td>It’s a red jelly bean.</td>\n",
       "      <td>Red      Plastic</td>\n",
       "    </tr>\n",
       "    <tr>\n",
       "      <th>60</th>\n",
       "      <td>&lt;PIL.JpegImagePlugin.JpegImageFile image mode=...</td>\n",
       "      <td>2061</td>\n",
       "      <td>dog toy</td>\n",
       "      <td>53</td>\n",
       "      <td>53</td>\n",
       "      <td>59</td>\n",
       "      <td>13</td>\n",
       "      <td>a green donut with colorful dots on it</td>\n",
       "      <td>Yes</td>\n",
       "      <td>a donut</td>\n",
       "      <td>...</td>\n",
       "      <td>Green</td>\n",
       "      <td>a toy of a donut made with green colored rubber</td>\n",
       "      <td>the ring has 6 balls, 3 blue balls and 3 red b...</td>\n",
       "      <td>a rubber donut</td>\n",
       "      <td>A green donut</td>\n",
       "      <td>Red    Green      Rubber</td>\n",
       "      <td>a green dog toy with colorful dots on it</td>\n",
       "      <td>Yes, I recognize this object.</td>\n",
       "      <td>It's a donut shaped like a virus.</td>\n",
       "      <td>Green</td>\n",
       "    </tr>\n",
       "    <tr>\n",
       "      <th>61</th>\n",
       "      <td>&lt;PIL.JpegImagePlugin.JpegImageFile image mode=...</td>\n",
       "      <td>2062</td>\n",
       "      <td>dog toy</td>\n",
       "      <td>44</td>\n",
       "      <td>56</td>\n",
       "      <td>29</td>\n",
       "      <td>42</td>\n",
       "      <td>an orange plastic ring with spikes on it</td>\n",
       "      <td>Yes, it is a rubber ball with spikes</td>\n",
       "      <td>an orange rubber ring with spikes on it</td>\n",
       "      <td>...</td>\n",
       "      <td>Orange      Plastic</td>\n",
       "      <td>an orange plastic toy is shown on a white back...</td>\n",
       "      <td>This is an animal toy with rubber toys</td>\n",
       "      <td>The 'Orange Spiky Dog Collar'    by QwikClip.com</td>\n",
       "      <td>A rubber tire shaped item.</td>\n",
       "      <td>Orange      Plastic</td>\n",
       "      <td>an orange rubber ring on a white background</td>\n",
       "      <td>Unknown</td>\n",
       "      <td>This is an orange rubber ring with spikes on it</td>\n",
       "      <td>Orange      Rubber</td>\n",
       "    </tr>\n",
       "    <tr>\n",
       "      <th>62</th>\n",
       "      <td>&lt;PIL.JpegImagePlugin.JpegImageFile image mode=...</td>\n",
       "      <td>2063</td>\n",
       "      <td>magic loops</td>\n",
       "      <td>25</td>\n",
       "      <td>38</td>\n",
       "      <td>13</td>\n",
       "      <td>19</td>\n",
       "      <td>a metal sculpture with colorful beads on it</td>\n",
       "      <td>Yes, it is a planet</td>\n",
       "      <td>a solar system.</td>\n",
       "      <td>...</td>\n",
       "      <td></td>\n",
       "      <td>kiddos magnet system</td>\n",
       "      <td>this is the universe</td>\n",
       "      <td>a planet</td>\n",
       "      <td>The sun.</td>\n",
       "      <td></td>\n",
       "      <td>a metal sculpture of a globe with multi colore...</td>\n",
       "      <td>No, I do not recognize this object.</td>\n",
       "      <td>I think it's a planet.</td>\n",
       "      <td>Red</td>\n",
       "    </tr>\n",
       "    <tr>\n",
       "      <th>63</th>\n",
       "      <td>&lt;PIL.JpegImagePlugin.JpegImageFile image mode=...</td>\n",
       "      <td>2064</td>\n",
       "      <td>massager</td>\n",
       "      <td>28</td>\n",
       "      <td>33</td>\n",
       "      <td>45</td>\n",
       "      <td>3</td>\n",
       "      <td>a green and silver object with legs</td>\n",
       "      <td>Yes, it is a foot massager</td>\n",
       "      <td>a foot massager</td>\n",
       "      <td>...</td>\n",
       "      <td>Green    Silver</td>\n",
       "      <td>this is a green and white foot massager</td>\n",
       "      <td>Yes</td>\n",
       "      <td>a table</td>\n",
       "      <td>A device used for massaging one's legs in bed.</td>\n",
       "      <td>Green    White</td>\n",
       "      <td>a green foot massager on a white surface</td>\n",
       "      <td>Yes, I recognize this object.</td>\n",
       "      <td>It's a foot massager.</td>\n",
       "      <td>Green    White</td>\n",
       "    </tr>\n",
       "  </tbody>\n",
       "</table>\n",
       "<p>64 rows × 21 columns</p>\n",
       "</div>"
      ],
      "text/plain": [
       "                                                image  number label   \n",
       "0   <PIL.JpegImagePlugin.JpegImageFile image mode=...          2001  \\\n",
       "1   <PIL.JpegImagePlugin.JpegImageFile image mode=...          2002   \n",
       "2   <PIL.JpegImagePlugin.JpegImageFile image mode=...          2003   \n",
       "3   <PIL.JpegImagePlugin.JpegImageFile image mode=...          2004   \n",
       "4   <PIL.JpegImagePlugin.JpegImageFile image mode=...          2005   \n",
       "..                                                ...           ...   \n",
       "59  <PIL.JpegImagePlugin.JpegImageFile image mode=...          2060   \n",
       "60  <PIL.JpegImagePlugin.JpegImageFile image mode=...          2061   \n",
       "61  <PIL.JpegImagePlugin.JpegImageFile image mode=...          2062   \n",
       "62  <PIL.JpegImagePlugin.JpegImageFile image mode=...          2063   \n",
       "63  <PIL.JpegImagePlugin.JpegImageFile image mode=...          2064   \n",
       "\n",
       "                  actual name  familiarity score  nameability score   \n",
       "0               bee have trap                 19                 50  \\\n",
       "1                     bookend                 22                 83   \n",
       "2                  fidget toy                 59                 74   \n",
       "3            pencil sharpener                 41                 70   \n",
       "4             fish tank stone                  6                 25   \n",
       "..                        ...                ...                ...   \n",
       "59  dog toy with removed rope                 38                 32   \n",
       "60                    dog toy                 53                 53   \n",
       "61                    dog toy                 44                 56   \n",
       "62                magic loops                 25                 38   \n",
       "63                   massager                 28                 33   \n",
       "\n",
       "    color saliency  texture saliency   \n",
       "0               66                14  \\\n",
       "1               59                 9   \n",
       "2               19                 0   \n",
       "3               48                52   \n",
       "4               81                13   \n",
       "..             ...               ...   \n",
       "59              55                29   \n",
       "60              59                13   \n",
       "61              29                42   \n",
       "62              13                19   \n",
       "63              45                 3   \n",
       "\n",
       "                              BLIP-2, greedy, caption   \n",
       "0   a pair of orange plastic toys on a white backg...  \\\n",
       "1           a red metal sculpture with a curved shape   \n",
       "2   a set of colorful wooden blocks arranged in a ...   \n",
       "3       a yellow and orange plastic egg shaped object   \n",
       "4                    a pink and blue tie dye headband   \n",
       "..                                                ...   \n",
       "59           a red plastic toy with four balls inside   \n",
       "60             a green donut with colorful dots on it   \n",
       "61           an orange plastic ring with spikes on it   \n",
       "62        a metal sculpture with colorful beads on it   \n",
       "63                a green and silver object with legs   \n",
       "\n",
       "                                 BLIP-2, greedy, bool   \n",
       "0                            Yes, it is a plastic egg  \\\n",
       "1                       Yes, I recognize this object.   \n",
       "2                           Yes, it is a wooden block   \n",
       "3   Yes, it is a plastic ball with a hole in the m...   \n",
       "4                       Yes, I recognize this object.   \n",
       "..                                                ...   \n",
       "59                        Yes, it is a red jelly bean   \n",
       "60                                                Yes   \n",
       "61               Yes, it is a rubber ball with spikes   \n",
       "62                                Yes, it is a planet   \n",
       "63                         Yes, it is a foot massager   \n",
       "\n",
       "                                 BLIP-2, greedy, name  ...   \n",
       "0   the object in this image is an orange plastic ...  ...  \\\n",
       "1                                          a red vase  ...   \n",
       "2   a stack of multi-colored blocks on a white bac...  ...   \n",
       "3   the object in this image is an orange and yell...  ...   \n",
       "4      a rainbow tie-dye tie-dye tie-dye tie-dye tie-  ...   \n",
       "..                                                ...  ...   \n",
       "59  a red ball with a bunch of small balls inside ...  ...   \n",
       "60                                            a donut  ...   \n",
       "61            an orange rubber ring with spikes on it  ...   \n",
       "62                                    a solar system.  ...   \n",
       "63                                    a foot massager  ...   \n",
       "\n",
       "     BLIP-2, greedy, color and textures   \n",
       "0                Orange      Plastic     \\\n",
       "1                            Red          \n",
       "2                             Wooden      \n",
       "3      Orange    Yellow      Plastic      \n",
       "4                   Blue    Pink          \n",
       "..                                  ...   \n",
       "59                  Red      Plastic      \n",
       "60                         Green          \n",
       "61               Orange      Plastic      \n",
       "62                                        \n",
       "63               Green    Silver          \n",
       "\n",
       "                             BLIP-2, nucleus, caption   \n",
       "0                       puzzle puzzle toy for puppies  \\\n",
       "1           a small red sculpture with a curved shape   \n",
       "2   a set of wooden blocks made up of different co...   \n",
       "3                        small okey egg orange yellow   \n",
       "4              a pink and yellow tie dye unicorn head   \n",
       "..                                                ...   \n",
       "59  a large red heart shaped toy is placed on a wh...   \n",
       "60    a toy of a donut made with green colored rubber   \n",
       "61  an orange plastic toy is shown on a white back...   \n",
       "62                               kiddos magnet system   \n",
       "63            this is a green and white foot massager   \n",
       "\n",
       "                                BLIP-2, nucleus, bool   \n",
       "0                        1 x plastic yellow egg - yes  \\\n",
       "1                                                 Yes   \n",
       "2                              Yes ÂÂÂÂÂÂÂÂÂÂÂÂÂÂÂÂÂÂ   \n",
       "3   No, this is not a phone, it is a phone with th...   \n",
       "4                          this is a feather headband   \n",
       "..                                                ...   \n",
       "59       Red ball shaped object with six balls on top   \n",
       "60  the ring has 6 balls, 3 blue balls and 3 red b...   \n",
       "61             This is an animal toy with rubber toys   \n",
       "62                               this is the universe   \n",
       "63                                                Yes   \n",
       "\n",
       "                               BLIP-2, nucleus, name   \n",
       "0                                a toilet paper roll  \\\n",
       "1                                             a vase   \n",
       "2                        the letter k ik-pok-ka-shab   \n",
       "3                         a yellow and orange object   \n",
       "4                               rainbow unicorn head   \n",
       "..                                               ...   \n",
       "59                                      a red flower   \n",
       "60                                    a rubber donut   \n",
       "61  The 'Orange Spiky Dog Collar'    by QwikClip.com   \n",
       "62                                          a planet   \n",
       "63                                           a table   \n",
       "\n",
       "                                BLIP-2, nucleus, real   \n",
       "0   I think it's a big, old, shiny gold plated cop...  \\\n",
       "1                                 It's an empty vase.   \n",
       "2                      A picture of a line of letters   \n",
       "3   An orange rubber ball that has been polished b...   \n",
       "4                                   Pink unicorn horn   \n",
       "..                                                ...   \n",
       "59                         A hot red bottle of water.   \n",
       "60                                      A green donut   \n",
       "61                         A rubber tire shaped item.   \n",
       "62                                           The sun.   \n",
       "63     A device used for massaging one's legs in bed.   \n",
       "\n",
       "   BLIP-2, nucleus, color and textures   \n",
       "0                                       \\\n",
       "1                           Red          \n",
       "2                   Red      Wooden      \n",
       "3              Orange    Yellow          \n",
       "4                Yellow    Pink          \n",
       "..                                 ...   \n",
       "59           Red    White      Lace      \n",
       "60         Red    Green      Rubber      \n",
       "61              Orange      Plastic      \n",
       "62                                       \n",
       "63               Green    White          \n",
       "\n",
       "                                BLIP-2, beam, caption   \n",
       "0   a pair of orange plastic toys on a white backg...  \\\n",
       "1         a red metal sculpture on a white background   \n",
       "2   a set of colorful wooden blocks on a white bac...   \n",
       "3   an orange and yellow plastic ball with a hole ...   \n",
       "4   a pink and blue tie dye headband sitting on to...   \n",
       "..                                                ...   \n",
       "59  a close up of a red plastic toy that is shaped...   \n",
       "60           a green dog toy with colorful dots on it   \n",
       "61        an orange rubber ring on a white background   \n",
       "62  a metal sculpture of a globe with multi colore...   \n",
       "63           a green foot massager on a white surface   \n",
       "\n",
       "                     BLIP-2, beam, bool   \n",
       "0   No, I do not recognize this object.  \\\n",
       "1                               Unknown   \n",
       "2         Yes, I recognize this object.   \n",
       "3                               Unknown   \n",
       "4                               Unknown   \n",
       "..                                  ...   \n",
       "59        Yes, I recognize this object.   \n",
       "60        Yes, I recognize this object.   \n",
       "61                              Unknown   \n",
       "62  No, I do not recognize this object.   \n",
       "63        Yes, I recognize this object.   \n",
       "\n",
       "                                   BLIP-2, beam, real   \n",
       "0   This is an orange plastic ball with a hole in ...  \\\n",
       "1                                    It's a red vase.   \n",
       "2                   This is a stack of wooden blocks.   \n",
       "3   This is an orange and yellow plastic ball with...   \n",
       "4                            It's a tie-dye headband.   \n",
       "..                                                ...   \n",
       "59                             It’s a red jelly bean.   \n",
       "60                  It's a donut shaped like a virus.   \n",
       "61    This is an orange rubber ring with spikes on it   \n",
       "62                             I think it's a planet.   \n",
       "63                              It's a foot massager.   \n",
       "\n",
       "       BLIP-2, beam, color and textures  \n",
       "0                Orange      Plastic     \n",
       "1                            Red         \n",
       "2                             Wooden     \n",
       "3      Orange    Yellow      Plastic     \n",
       "4          Blue    Pink    White         \n",
       "..                                  ...  \n",
       "59                  Red      Plastic     \n",
       "60                         Green         \n",
       "61                Orange      Rubber     \n",
       "62                           Red         \n",
       "63                Green    White         \n",
       "\n",
       "[64 rows x 21 columns]"
      ]
     },
     "metadata": {},
     "output_type": "display_data"
    }
   ],
   "source": [
    "display(data)"
   ]
  },
  {
   "cell_type": "code",
   "execution_count": null,
   "metadata": {},
   "outputs": [],
   "source": [
    "import pandas as pd\n",
    "from tqdm import tqdm\n",
    "from evaluate import check_colors_and_textures\n",
    "\n",
    "# Load dataset into DataFrame\n",
    "df = pd.read_csv('dataset.csv')\n",
    "\n",
    "# Add new column name to header row\n",
    "df.rename(columns={df.columns[-1]: 'BLIP-2, OPT-2.7b evaluation: color and texture'}, inplace=True)\n",
    "\n",
    "# Add new column data to remaining rows\n",
    "for i, row in tqdm(df.iterrows(), total=len(df)):\n",
    "    if pd.notnull(row.iloc[-2]):\n",
    "        colors, textures = check_colors_and_textures(row.iloc[-2])\n",
    "        colors = \", \".join(colors) if len(colors) > 0 else None\n",
    "        textures = \", \".join(textures) if len(textures) > 0 else None\n",
    "        df.at[i, 'BLIP-2, OPT-2.7b evaluation: color and texture'] = f\"{colors}; {textures}\"\n",
    "\n",
    "pd.set_option('display.max_columns', None)  # or 1000\n",
    "pd.set_option('display.max_rows', None)  # or 1000\n",
    "pd.set_option('display.max_colwidth', None)  # or 199\n",
    "display(df)"
   ]
  },
  {
   "attachments": {},
   "cell_type": "markdown",
   "metadata": {},
   "source": [
    "##### Create visualization"
   ]
  },
  {
   "cell_type": "code",
   "execution_count": 53,
   "metadata": {},
   "outputs": [],
   "source": [
    "import evaluate\n",
    "import importlib\n",
    "importlib.reload(evaluate)\n",
    "from evaluate import colors_to_boolean, textures_to_boolean\n",
    "\n",
    "data['color greedy'] = data['BLIP-2, greedy, color and textures'].apply(lambda x: colors_to_boolean(x))\n",
    "data['color nucleus'] = data['BLIP-2, nucleus, color and textures'].apply(lambda x: colors_to_boolean(x))\n",
    "data['color beam'] = data['BLIP-2, beam, color and textures'].apply(lambda x: colors_to_boolean(x))\n",
    "\n",
    "data['texture greedy'] = data['BLIP-2, greedy, color and textures'].apply(lambda x: textures_to_boolean(x))\n",
    "data['texture nucleus'] = data['BLIP-2, nucleus, color and textures'].apply(lambda x: textures_to_boolean(x))\n",
    "data['texture beam'] = data['BLIP-2, beam, color and textures'].apply(lambda x: textures_to_boolean(x))\n",
    "\n",
    "get_token_count = lambda text: len(text.split())\n",
    "\n",
    "data['length greedy'] = data['BLIP-2, greedy, caption'].apply(get_token_count)\n",
    "data['length nucleus'] = data['BLIP-2, nucleus, caption'].apply(get_token_count)\n",
    "data['length beam'] = data['BLIP-2, beam, caption'].apply(get_token_count)"
   ]
  },
  {
   "cell_type": "code",
   "execution_count": 54,
   "metadata": {},
   "outputs": [
    {
     "data": {
      "text/html": [
       "<div>\n",
       "<style scoped>\n",
       "    .dataframe tbody tr th:only-of-type {\n",
       "        vertical-align: middle;\n",
       "    }\n",
       "\n",
       "    .dataframe tbody tr th {\n",
       "        vertical-align: top;\n",
       "    }\n",
       "\n",
       "    .dataframe thead th {\n",
       "        text-align: right;\n",
       "    }\n",
       "</style>\n",
       "<table border=\"1\" class=\"dataframe\">\n",
       "  <thead>\n",
       "    <tr style=\"text-align: right;\">\n",
       "      <th></th>\n",
       "      <th>image</th>\n",
       "      <th>number label</th>\n",
       "      <th>actual name</th>\n",
       "      <th>familiarity score</th>\n",
       "      <th>nameability score</th>\n",
       "      <th>color saliency</th>\n",
       "      <th>texture saliency</th>\n",
       "      <th>BLIP-2, greedy, caption</th>\n",
       "      <th>BLIP-2, greedy, bool</th>\n",
       "      <th>BLIP-2, greedy, name</th>\n",
       "      <th>...</th>\n",
       "      <th>BLIP-2, beam, color and textures</th>\n",
       "      <th>color greedy</th>\n",
       "      <th>color nucleus</th>\n",
       "      <th>color beam</th>\n",
       "      <th>texture greedy</th>\n",
       "      <th>texture nucleus</th>\n",
       "      <th>texture beam</th>\n",
       "      <th>length greedy</th>\n",
       "      <th>length nucleus</th>\n",
       "      <th>length beam</th>\n",
       "    </tr>\n",
       "  </thead>\n",
       "  <tbody>\n",
       "    <tr>\n",
       "      <th>0</th>\n",
       "      <td>&lt;PIL.JpegImagePlugin.JpegImageFile image mode=...</td>\n",
       "      <td>2001</td>\n",
       "      <td>bee have trap</td>\n",
       "      <td>19</td>\n",
       "      <td>50</td>\n",
       "      <td>66</td>\n",
       "      <td>14</td>\n",
       "      <td>a pair of orange plastic toys on a white backg...</td>\n",
       "      <td>Yes, it is a plastic egg</td>\n",
       "      <td>the object in this image is an orange plastic ...</td>\n",
       "      <td>...</td>\n",
       "      <td>Orange      Plastic</td>\n",
       "      <td>True</td>\n",
       "      <td>False</td>\n",
       "      <td>True</td>\n",
       "      <td>True</td>\n",
       "      <td>False</td>\n",
       "      <td>True</td>\n",
       "      <td>10</td>\n",
       "      <td>5</td>\n",
       "      <td>10</td>\n",
       "    </tr>\n",
       "    <tr>\n",
       "      <th>1</th>\n",
       "      <td>&lt;PIL.JpegImagePlugin.JpegImageFile image mode=...</td>\n",
       "      <td>2002</td>\n",
       "      <td>bookend</td>\n",
       "      <td>22</td>\n",
       "      <td>83</td>\n",
       "      <td>59</td>\n",
       "      <td>9</td>\n",
       "      <td>a red metal sculpture with a curved shape</td>\n",
       "      <td>Yes, I recognize this object.</td>\n",
       "      <td>a red vase</td>\n",
       "      <td>...</td>\n",
       "      <td>Red</td>\n",
       "      <td>True</td>\n",
       "      <td>True</td>\n",
       "      <td>True</td>\n",
       "      <td>False</td>\n",
       "      <td>False</td>\n",
       "      <td>False</td>\n",
       "      <td>8</td>\n",
       "      <td>8</td>\n",
       "      <td>8</td>\n",
       "    </tr>\n",
       "    <tr>\n",
       "      <th>2</th>\n",
       "      <td>&lt;PIL.JpegImagePlugin.JpegImageFile image mode=...</td>\n",
       "      <td>2003</td>\n",
       "      <td>fidget toy</td>\n",
       "      <td>59</td>\n",
       "      <td>74</td>\n",
       "      <td>19</td>\n",
       "      <td>0</td>\n",
       "      <td>a set of colorful wooden blocks arranged in a ...</td>\n",
       "      <td>Yes, it is a wooden block</td>\n",
       "      <td>a stack of multi-colored blocks on a white bac...</td>\n",
       "      <td>...</td>\n",
       "      <td>Wooden</td>\n",
       "      <td>False</td>\n",
       "      <td>True</td>\n",
       "      <td>False</td>\n",
       "      <td>True</td>\n",
       "      <td>True</td>\n",
       "      <td>True</td>\n",
       "      <td>10</td>\n",
       "      <td>11</td>\n",
       "      <td>10</td>\n",
       "    </tr>\n",
       "    <tr>\n",
       "      <th>3</th>\n",
       "      <td>&lt;PIL.JpegImagePlugin.JpegImageFile image mode=...</td>\n",
       "      <td>2004</td>\n",
       "      <td>pencil sharpener</td>\n",
       "      <td>41</td>\n",
       "      <td>70</td>\n",
       "      <td>48</td>\n",
       "      <td>52</td>\n",
       "      <td>a yellow and orange plastic egg shaped object</td>\n",
       "      <td>Yes, it is a plastic ball with a hole in the m...</td>\n",
       "      <td>the object in this image is an orange and yell...</td>\n",
       "      <td>...</td>\n",
       "      <td>Orange    Yellow      Plastic</td>\n",
       "      <td>True</td>\n",
       "      <td>True</td>\n",
       "      <td>True</td>\n",
       "      <td>True</td>\n",
       "      <td>False</td>\n",
       "      <td>True</td>\n",
       "      <td>8</td>\n",
       "      <td>5</td>\n",
       "      <td>12</td>\n",
       "    </tr>\n",
       "    <tr>\n",
       "      <th>4</th>\n",
       "      <td>&lt;PIL.JpegImagePlugin.JpegImageFile image mode=...</td>\n",
       "      <td>2005</td>\n",
       "      <td>fish tank stone</td>\n",
       "      <td>6</td>\n",
       "      <td>25</td>\n",
       "      <td>81</td>\n",
       "      <td>13</td>\n",
       "      <td>a pink and blue tie dye headband</td>\n",
       "      <td>Yes, I recognize this object.</td>\n",
       "      <td>a rainbow tie-dye tie-dye tie-dye tie-dye tie-</td>\n",
       "      <td>...</td>\n",
       "      <td>Blue    Pink    White</td>\n",
       "      <td>True</td>\n",
       "      <td>True</td>\n",
       "      <td>True</td>\n",
       "      <td>False</td>\n",
       "      <td>False</td>\n",
       "      <td>False</td>\n",
       "      <td>7</td>\n",
       "      <td>8</td>\n",
       "      <td>14</td>\n",
       "    </tr>\n",
       "    <tr>\n",
       "      <th>...</th>\n",
       "      <td>...</td>\n",
       "      <td>...</td>\n",
       "      <td>...</td>\n",
       "      <td>...</td>\n",
       "      <td>...</td>\n",
       "      <td>...</td>\n",
       "      <td>...</td>\n",
       "      <td>...</td>\n",
       "      <td>...</td>\n",
       "      <td>...</td>\n",
       "      <td>...</td>\n",
       "      <td>...</td>\n",
       "      <td>...</td>\n",
       "      <td>...</td>\n",
       "      <td>...</td>\n",
       "      <td>...</td>\n",
       "      <td>...</td>\n",
       "      <td>...</td>\n",
       "      <td>...</td>\n",
       "      <td>...</td>\n",
       "      <td>...</td>\n",
       "    </tr>\n",
       "    <tr>\n",
       "      <th>59</th>\n",
       "      <td>&lt;PIL.JpegImagePlugin.JpegImageFile image mode=...</td>\n",
       "      <td>2060</td>\n",
       "      <td>dog toy with removed rope</td>\n",
       "      <td>38</td>\n",
       "      <td>32</td>\n",
       "      <td>55</td>\n",
       "      <td>29</td>\n",
       "      <td>a red plastic toy with four balls inside</td>\n",
       "      <td>Yes, it is a red jelly bean</td>\n",
       "      <td>a red ball with a bunch of small balls inside ...</td>\n",
       "      <td>...</td>\n",
       "      <td>Red      Plastic</td>\n",
       "      <td>True</td>\n",
       "      <td>True</td>\n",
       "      <td>True</td>\n",
       "      <td>True</td>\n",
       "      <td>True</td>\n",
       "      <td>True</td>\n",
       "      <td>8</td>\n",
       "      <td>12</td>\n",
       "      <td>14</td>\n",
       "    </tr>\n",
       "    <tr>\n",
       "      <th>60</th>\n",
       "      <td>&lt;PIL.JpegImagePlugin.JpegImageFile image mode=...</td>\n",
       "      <td>2061</td>\n",
       "      <td>dog toy</td>\n",
       "      <td>53</td>\n",
       "      <td>53</td>\n",
       "      <td>59</td>\n",
       "      <td>13</td>\n",
       "      <td>a green donut with colorful dots on it</td>\n",
       "      <td>Yes</td>\n",
       "      <td>a donut</td>\n",
       "      <td>...</td>\n",
       "      <td>Green</td>\n",
       "      <td>True</td>\n",
       "      <td>True</td>\n",
       "      <td>True</td>\n",
       "      <td>False</td>\n",
       "      <td>True</td>\n",
       "      <td>False</td>\n",
       "      <td>8</td>\n",
       "      <td>10</td>\n",
       "      <td>9</td>\n",
       "    </tr>\n",
       "    <tr>\n",
       "      <th>61</th>\n",
       "      <td>&lt;PIL.JpegImagePlugin.JpegImageFile image mode=...</td>\n",
       "      <td>2062</td>\n",
       "      <td>dog toy</td>\n",
       "      <td>44</td>\n",
       "      <td>56</td>\n",
       "      <td>29</td>\n",
       "      <td>42</td>\n",
       "      <td>an orange plastic ring with spikes on it</td>\n",
       "      <td>Yes, it is a rubber ball with spikes</td>\n",
       "      <td>an orange rubber ring with spikes on it</td>\n",
       "      <td>...</td>\n",
       "      <td>Orange      Rubber</td>\n",
       "      <td>True</td>\n",
       "      <td>True</td>\n",
       "      <td>True</td>\n",
       "      <td>True</td>\n",
       "      <td>True</td>\n",
       "      <td>True</td>\n",
       "      <td>8</td>\n",
       "      <td>10</td>\n",
       "      <td>8</td>\n",
       "    </tr>\n",
       "    <tr>\n",
       "      <th>62</th>\n",
       "      <td>&lt;PIL.JpegImagePlugin.JpegImageFile image mode=...</td>\n",
       "      <td>2063</td>\n",
       "      <td>magic loops</td>\n",
       "      <td>25</td>\n",
       "      <td>38</td>\n",
       "      <td>13</td>\n",
       "      <td>19</td>\n",
       "      <td>a metal sculpture with colorful beads on it</td>\n",
       "      <td>Yes, it is a planet</td>\n",
       "      <td>a solar system.</td>\n",
       "      <td>...</td>\n",
       "      <td>Red</td>\n",
       "      <td>False</td>\n",
       "      <td>False</td>\n",
       "      <td>True</td>\n",
       "      <td>False</td>\n",
       "      <td>False</td>\n",
       "      <td>False</td>\n",
       "      <td>8</td>\n",
       "      <td>3</td>\n",
       "      <td>12</td>\n",
       "    </tr>\n",
       "    <tr>\n",
       "      <th>63</th>\n",
       "      <td>&lt;PIL.JpegImagePlugin.JpegImageFile image mode=...</td>\n",
       "      <td>2064</td>\n",
       "      <td>massager</td>\n",
       "      <td>28</td>\n",
       "      <td>33</td>\n",
       "      <td>45</td>\n",
       "      <td>3</td>\n",
       "      <td>a green and silver object with legs</td>\n",
       "      <td>Yes, it is a foot massager</td>\n",
       "      <td>a foot massager</td>\n",
       "      <td>...</td>\n",
       "      <td>Green    White</td>\n",
       "      <td>True</td>\n",
       "      <td>True</td>\n",
       "      <td>True</td>\n",
       "      <td>False</td>\n",
       "      <td>False</td>\n",
       "      <td>False</td>\n",
       "      <td>7</td>\n",
       "      <td>8</td>\n",
       "      <td>8</td>\n",
       "    </tr>\n",
       "  </tbody>\n",
       "</table>\n",
       "<p>64 rows × 30 columns</p>\n",
       "</div>"
      ],
      "text/plain": [
       "                                                image  number label   \n",
       "0   <PIL.JpegImagePlugin.JpegImageFile image mode=...          2001  \\\n",
       "1   <PIL.JpegImagePlugin.JpegImageFile image mode=...          2002   \n",
       "2   <PIL.JpegImagePlugin.JpegImageFile image mode=...          2003   \n",
       "3   <PIL.JpegImagePlugin.JpegImageFile image mode=...          2004   \n",
       "4   <PIL.JpegImagePlugin.JpegImageFile image mode=...          2005   \n",
       "..                                                ...           ...   \n",
       "59  <PIL.JpegImagePlugin.JpegImageFile image mode=...          2060   \n",
       "60  <PIL.JpegImagePlugin.JpegImageFile image mode=...          2061   \n",
       "61  <PIL.JpegImagePlugin.JpegImageFile image mode=...          2062   \n",
       "62  <PIL.JpegImagePlugin.JpegImageFile image mode=...          2063   \n",
       "63  <PIL.JpegImagePlugin.JpegImageFile image mode=...          2064   \n",
       "\n",
       "                  actual name  familiarity score  nameability score   \n",
       "0               bee have trap                 19                 50  \\\n",
       "1                     bookend                 22                 83   \n",
       "2                  fidget toy                 59                 74   \n",
       "3            pencil sharpener                 41                 70   \n",
       "4             fish tank stone                  6                 25   \n",
       "..                        ...                ...                ...   \n",
       "59  dog toy with removed rope                 38                 32   \n",
       "60                    dog toy                 53                 53   \n",
       "61                    dog toy                 44                 56   \n",
       "62                magic loops                 25                 38   \n",
       "63                   massager                 28                 33   \n",
       "\n",
       "    color saliency  texture saliency   \n",
       "0               66                14  \\\n",
       "1               59                 9   \n",
       "2               19                 0   \n",
       "3               48                52   \n",
       "4               81                13   \n",
       "..             ...               ...   \n",
       "59              55                29   \n",
       "60              59                13   \n",
       "61              29                42   \n",
       "62              13                19   \n",
       "63              45                 3   \n",
       "\n",
       "                              BLIP-2, greedy, caption   \n",
       "0   a pair of orange plastic toys on a white backg...  \\\n",
       "1           a red metal sculpture with a curved shape   \n",
       "2   a set of colorful wooden blocks arranged in a ...   \n",
       "3       a yellow and orange plastic egg shaped object   \n",
       "4                    a pink and blue tie dye headband   \n",
       "..                                                ...   \n",
       "59           a red plastic toy with four balls inside   \n",
       "60             a green donut with colorful dots on it   \n",
       "61           an orange plastic ring with spikes on it   \n",
       "62        a metal sculpture with colorful beads on it   \n",
       "63                a green and silver object with legs   \n",
       "\n",
       "                                 BLIP-2, greedy, bool   \n",
       "0                            Yes, it is a plastic egg  \\\n",
       "1                       Yes, I recognize this object.   \n",
       "2                           Yes, it is a wooden block   \n",
       "3   Yes, it is a plastic ball with a hole in the m...   \n",
       "4                       Yes, I recognize this object.   \n",
       "..                                                ...   \n",
       "59                        Yes, it is a red jelly bean   \n",
       "60                                                Yes   \n",
       "61               Yes, it is a rubber ball with spikes   \n",
       "62                                Yes, it is a planet   \n",
       "63                         Yes, it is a foot massager   \n",
       "\n",
       "                                 BLIP-2, greedy, name  ...   \n",
       "0   the object in this image is an orange plastic ...  ...  \\\n",
       "1                                          a red vase  ...   \n",
       "2   a stack of multi-colored blocks on a white bac...  ...   \n",
       "3   the object in this image is an orange and yell...  ...   \n",
       "4      a rainbow tie-dye tie-dye tie-dye tie-dye tie-  ...   \n",
       "..                                                ...  ...   \n",
       "59  a red ball with a bunch of small balls inside ...  ...   \n",
       "60                                            a donut  ...   \n",
       "61            an orange rubber ring with spikes on it  ...   \n",
       "62                                    a solar system.  ...   \n",
       "63                                    a foot massager  ...   \n",
       "\n",
       "       BLIP-2, beam, color and textures color greedy color nucleus color beam   \n",
       "0                Orange      Plastic            True         False       True  \\\n",
       "1                            Red                True          True       True   \n",
       "2                             Wooden           False          True      False   \n",
       "3      Orange    Yellow      Plastic            True          True       True   \n",
       "4          Blue    Pink    White                True          True       True   \n",
       "..                                  ...          ...           ...        ...   \n",
       "59                  Red      Plastic            True          True       True   \n",
       "60                         Green                True          True       True   \n",
       "61                Orange      Rubber            True          True       True   \n",
       "62                           Red               False         False       True   \n",
       "63                Green    White                True          True       True   \n",
       "\n",
       "   texture greedy texture nucleus texture beam length greedy length nucleus   \n",
       "0            True           False         True            10              5  \\\n",
       "1           False           False        False             8              8   \n",
       "2            True            True         True            10             11   \n",
       "3            True           False         True             8              5   \n",
       "4           False           False        False             7              8   \n",
       "..            ...             ...          ...           ...            ...   \n",
       "59           True            True         True             8             12   \n",
       "60          False            True        False             8             10   \n",
       "61           True            True         True             8             10   \n",
       "62          False           False        False             8              3   \n",
       "63          False           False        False             7              8   \n",
       "\n",
       "   length beam  \n",
       "0           10  \n",
       "1            8  \n",
       "2           10  \n",
       "3           12  \n",
       "4           14  \n",
       "..         ...  \n",
       "59          14  \n",
       "60           9  \n",
       "61           8  \n",
       "62          12  \n",
       "63           8  \n",
       "\n",
       "[64 rows x 30 columns]"
      ]
     },
     "metadata": {},
     "output_type": "display_data"
    }
   ],
   "source": [
    "display(data)"
   ]
  },
  {
   "cell_type": "code",
   "execution_count": null,
   "metadata": {},
   "outputs": [],
   "source": [
    "display(data)"
   ]
  },
  {
   "cell_type": "code",
   "execution_count": 74,
   "metadata": {},
   "outputs": [
    {
     "name": "stdout",
     "output_type": "stream",
     "text": [
      "color beam Category Bin Color  False  True\n",
      "0               (2.909, 21.2]    2.0   2.0\n",
      "1                (21.2, 39.4]    3.0  11.0\n",
      "2                (39.4, 57.6]    2.0  19.0\n",
      "3                (57.6, 75.8]    2.0  15.0\n",
      "4                (75.8, 94.0]    0.0   8.0\n"
     ]
    },
    {
     "data": {
      "application/vnd.plotly.v1+json": {
       "config": {
        "plotlyServerURL": "https://plot.ly"
       },
       "data": [
        {
         "name": "Nucleus Sampling",
         "type": "bar",
         "x": [
          "(2.909, 21.2]",
          "(21.2, 39.4]",
          "(39.4, 57.6]",
          "(57.6, 75.8]",
          "(75.8, 94.0]"
         ],
         "y": [
          0.5,
          0.7142857142857143,
          0.8571428571428571,
          0.6470588235294118,
          0.75
         ]
        },
        {
         "name": "Greedy",
         "type": "bar",
         "x": [
          "(2.909, 21.2]",
          "(21.2, 39.4]",
          "(39.4, 57.6]",
          "(57.6, 75.8]",
          "(75.8, 94.0]"
         ],
         "y": [
          0.25,
          0.7142857142857143,
          0.8571428571428571,
          0.8823529411764706,
          1
         ]
        },
        {
         "name": "Beam Search",
         "type": "bar",
         "x": [
          "(2.909, 21.2]",
          "(21.2, 39.4]",
          "(39.4, 57.6]",
          "(57.6, 75.8]",
          "(75.8, 94.0]"
         ],
         "y": [
          0.5,
          0.7857142857142857,
          0.9047619047619048,
          0.8823529411764706,
          1
         ]
        }
       ],
       "layout": {
        "barmode": "group",
        "template": {
         "data": {
          "bar": [
           {
            "error_x": {
             "color": "#2a3f5f"
            },
            "error_y": {
             "color": "#2a3f5f"
            },
            "marker": {
             "line": {
              "color": "#E5ECF6",
              "width": 0.5
             },
             "pattern": {
              "fillmode": "overlay",
              "size": 10,
              "solidity": 0.2
             }
            },
            "type": "bar"
           }
          ],
          "barpolar": [
           {
            "marker": {
             "line": {
              "color": "#E5ECF6",
              "width": 0.5
             },
             "pattern": {
              "fillmode": "overlay",
              "size": 10,
              "solidity": 0.2
             }
            },
            "type": "barpolar"
           }
          ],
          "carpet": [
           {
            "aaxis": {
             "endlinecolor": "#2a3f5f",
             "gridcolor": "white",
             "linecolor": "white",
             "minorgridcolor": "white",
             "startlinecolor": "#2a3f5f"
            },
            "baxis": {
             "endlinecolor": "#2a3f5f",
             "gridcolor": "white",
             "linecolor": "white",
             "minorgridcolor": "white",
             "startlinecolor": "#2a3f5f"
            },
            "type": "carpet"
           }
          ],
          "choropleth": [
           {
            "colorbar": {
             "outlinewidth": 0,
             "ticks": ""
            },
            "type": "choropleth"
           }
          ],
          "contour": [
           {
            "colorbar": {
             "outlinewidth": 0,
             "ticks": ""
            },
            "colorscale": [
             [
              0,
              "#0d0887"
             ],
             [
              0.1111111111111111,
              "#46039f"
             ],
             [
              0.2222222222222222,
              "#7201a8"
             ],
             [
              0.3333333333333333,
              "#9c179e"
             ],
             [
              0.4444444444444444,
              "#bd3786"
             ],
             [
              0.5555555555555556,
              "#d8576b"
             ],
             [
              0.6666666666666666,
              "#ed7953"
             ],
             [
              0.7777777777777778,
              "#fb9f3a"
             ],
             [
              0.8888888888888888,
              "#fdca26"
             ],
             [
              1,
              "#f0f921"
             ]
            ],
            "type": "contour"
           }
          ],
          "contourcarpet": [
           {
            "colorbar": {
             "outlinewidth": 0,
             "ticks": ""
            },
            "type": "contourcarpet"
           }
          ],
          "heatmap": [
           {
            "colorbar": {
             "outlinewidth": 0,
             "ticks": ""
            },
            "colorscale": [
             [
              0,
              "#0d0887"
             ],
             [
              0.1111111111111111,
              "#46039f"
             ],
             [
              0.2222222222222222,
              "#7201a8"
             ],
             [
              0.3333333333333333,
              "#9c179e"
             ],
             [
              0.4444444444444444,
              "#bd3786"
             ],
             [
              0.5555555555555556,
              "#d8576b"
             ],
             [
              0.6666666666666666,
              "#ed7953"
             ],
             [
              0.7777777777777778,
              "#fb9f3a"
             ],
             [
              0.8888888888888888,
              "#fdca26"
             ],
             [
              1,
              "#f0f921"
             ]
            ],
            "type": "heatmap"
           }
          ],
          "heatmapgl": [
           {
            "colorbar": {
             "outlinewidth": 0,
             "ticks": ""
            },
            "colorscale": [
             [
              0,
              "#0d0887"
             ],
             [
              0.1111111111111111,
              "#46039f"
             ],
             [
              0.2222222222222222,
              "#7201a8"
             ],
             [
              0.3333333333333333,
              "#9c179e"
             ],
             [
              0.4444444444444444,
              "#bd3786"
             ],
             [
              0.5555555555555556,
              "#d8576b"
             ],
             [
              0.6666666666666666,
              "#ed7953"
             ],
             [
              0.7777777777777778,
              "#fb9f3a"
             ],
             [
              0.8888888888888888,
              "#fdca26"
             ],
             [
              1,
              "#f0f921"
             ]
            ],
            "type": "heatmapgl"
           }
          ],
          "histogram": [
           {
            "marker": {
             "pattern": {
              "fillmode": "overlay",
              "size": 10,
              "solidity": 0.2
             }
            },
            "type": "histogram"
           }
          ],
          "histogram2d": [
           {
            "colorbar": {
             "outlinewidth": 0,
             "ticks": ""
            },
            "colorscale": [
             [
              0,
              "#0d0887"
             ],
             [
              0.1111111111111111,
              "#46039f"
             ],
             [
              0.2222222222222222,
              "#7201a8"
             ],
             [
              0.3333333333333333,
              "#9c179e"
             ],
             [
              0.4444444444444444,
              "#bd3786"
             ],
             [
              0.5555555555555556,
              "#d8576b"
             ],
             [
              0.6666666666666666,
              "#ed7953"
             ],
             [
              0.7777777777777778,
              "#fb9f3a"
             ],
             [
              0.8888888888888888,
              "#fdca26"
             ],
             [
              1,
              "#f0f921"
             ]
            ],
            "type": "histogram2d"
           }
          ],
          "histogram2dcontour": [
           {
            "colorbar": {
             "outlinewidth": 0,
             "ticks": ""
            },
            "colorscale": [
             [
              0,
              "#0d0887"
             ],
             [
              0.1111111111111111,
              "#46039f"
             ],
             [
              0.2222222222222222,
              "#7201a8"
             ],
             [
              0.3333333333333333,
              "#9c179e"
             ],
             [
              0.4444444444444444,
              "#bd3786"
             ],
             [
              0.5555555555555556,
              "#d8576b"
             ],
             [
              0.6666666666666666,
              "#ed7953"
             ],
             [
              0.7777777777777778,
              "#fb9f3a"
             ],
             [
              0.8888888888888888,
              "#fdca26"
             ],
             [
              1,
              "#f0f921"
             ]
            ],
            "type": "histogram2dcontour"
           }
          ],
          "mesh3d": [
           {
            "colorbar": {
             "outlinewidth": 0,
             "ticks": ""
            },
            "type": "mesh3d"
           }
          ],
          "parcoords": [
           {
            "line": {
             "colorbar": {
              "outlinewidth": 0,
              "ticks": ""
             }
            },
            "type": "parcoords"
           }
          ],
          "pie": [
           {
            "automargin": true,
            "type": "pie"
           }
          ],
          "scatter": [
           {
            "fillpattern": {
             "fillmode": "overlay",
             "size": 10,
             "solidity": 0.2
            },
            "type": "scatter"
           }
          ],
          "scatter3d": [
           {
            "line": {
             "colorbar": {
              "outlinewidth": 0,
              "ticks": ""
             }
            },
            "marker": {
             "colorbar": {
              "outlinewidth": 0,
              "ticks": ""
             }
            },
            "type": "scatter3d"
           }
          ],
          "scattercarpet": [
           {
            "marker": {
             "colorbar": {
              "outlinewidth": 0,
              "ticks": ""
             }
            },
            "type": "scattercarpet"
           }
          ],
          "scattergeo": [
           {
            "marker": {
             "colorbar": {
              "outlinewidth": 0,
              "ticks": ""
             }
            },
            "type": "scattergeo"
           }
          ],
          "scattergl": [
           {
            "marker": {
             "colorbar": {
              "outlinewidth": 0,
              "ticks": ""
             }
            },
            "type": "scattergl"
           }
          ],
          "scattermapbox": [
           {
            "marker": {
             "colorbar": {
              "outlinewidth": 0,
              "ticks": ""
             }
            },
            "type": "scattermapbox"
           }
          ],
          "scatterpolar": [
           {
            "marker": {
             "colorbar": {
              "outlinewidth": 0,
              "ticks": ""
             }
            },
            "type": "scatterpolar"
           }
          ],
          "scatterpolargl": [
           {
            "marker": {
             "colorbar": {
              "outlinewidth": 0,
              "ticks": ""
             }
            },
            "type": "scatterpolargl"
           }
          ],
          "scatterternary": [
           {
            "marker": {
             "colorbar": {
              "outlinewidth": 0,
              "ticks": ""
             }
            },
            "type": "scatterternary"
           }
          ],
          "surface": [
           {
            "colorbar": {
             "outlinewidth": 0,
             "ticks": ""
            },
            "colorscale": [
             [
              0,
              "#0d0887"
             ],
             [
              0.1111111111111111,
              "#46039f"
             ],
             [
              0.2222222222222222,
              "#7201a8"
             ],
             [
              0.3333333333333333,
              "#9c179e"
             ],
             [
              0.4444444444444444,
              "#bd3786"
             ],
             [
              0.5555555555555556,
              "#d8576b"
             ],
             [
              0.6666666666666666,
              "#ed7953"
             ],
             [
              0.7777777777777778,
              "#fb9f3a"
             ],
             [
              0.8888888888888888,
              "#fdca26"
             ],
             [
              1,
              "#f0f921"
             ]
            ],
            "type": "surface"
           }
          ],
          "table": [
           {
            "cells": {
             "fill": {
              "color": "#EBF0F8"
             },
             "line": {
              "color": "white"
             }
            },
            "header": {
             "fill": {
              "color": "#C8D4E3"
             },
             "line": {
              "color": "white"
             }
            },
            "type": "table"
           }
          ]
         },
         "layout": {
          "annotationdefaults": {
           "arrowcolor": "#2a3f5f",
           "arrowhead": 0,
           "arrowwidth": 1
          },
          "autotypenumbers": "strict",
          "coloraxis": {
           "colorbar": {
            "outlinewidth": 0,
            "ticks": ""
           }
          },
          "colorscale": {
           "diverging": [
            [
             0,
             "#8e0152"
            ],
            [
             0.1,
             "#c51b7d"
            ],
            [
             0.2,
             "#de77ae"
            ],
            [
             0.3,
             "#f1b6da"
            ],
            [
             0.4,
             "#fde0ef"
            ],
            [
             0.5,
             "#f7f7f7"
            ],
            [
             0.6,
             "#e6f5d0"
            ],
            [
             0.7,
             "#b8e186"
            ],
            [
             0.8,
             "#7fbc41"
            ],
            [
             0.9,
             "#4d9221"
            ],
            [
             1,
             "#276419"
            ]
           ],
           "sequential": [
            [
             0,
             "#0d0887"
            ],
            [
             0.1111111111111111,
             "#46039f"
            ],
            [
             0.2222222222222222,
             "#7201a8"
            ],
            [
             0.3333333333333333,
             "#9c179e"
            ],
            [
             0.4444444444444444,
             "#bd3786"
            ],
            [
             0.5555555555555556,
             "#d8576b"
            ],
            [
             0.6666666666666666,
             "#ed7953"
            ],
            [
             0.7777777777777778,
             "#fb9f3a"
            ],
            [
             0.8888888888888888,
             "#fdca26"
            ],
            [
             1,
             "#f0f921"
            ]
           ],
           "sequentialminus": [
            [
             0,
             "#0d0887"
            ],
            [
             0.1111111111111111,
             "#46039f"
            ],
            [
             0.2222222222222222,
             "#7201a8"
            ],
            [
             0.3333333333333333,
             "#9c179e"
            ],
            [
             0.4444444444444444,
             "#bd3786"
            ],
            [
             0.5555555555555556,
             "#d8576b"
            ],
            [
             0.6666666666666666,
             "#ed7953"
            ],
            [
             0.7777777777777778,
             "#fb9f3a"
            ],
            [
             0.8888888888888888,
             "#fdca26"
            ],
            [
             1,
             "#f0f921"
            ]
           ]
          },
          "colorway": [
           "#636efa",
           "#EF553B",
           "#00cc96",
           "#ab63fa",
           "#FFA15A",
           "#19d3f3",
           "#FF6692",
           "#B6E880",
           "#FF97FF",
           "#FECB52"
          ],
          "font": {
           "color": "#2a3f5f"
          },
          "geo": {
           "bgcolor": "white",
           "lakecolor": "white",
           "landcolor": "#E5ECF6",
           "showlakes": true,
           "showland": true,
           "subunitcolor": "white"
          },
          "hoverlabel": {
           "align": "left"
          },
          "hovermode": "closest",
          "mapbox": {
           "style": "light"
          },
          "paper_bgcolor": "white",
          "plot_bgcolor": "#E5ECF6",
          "polar": {
           "angularaxis": {
            "gridcolor": "white",
            "linecolor": "white",
            "ticks": ""
           },
           "bgcolor": "#E5ECF6",
           "radialaxis": {
            "gridcolor": "white",
            "linecolor": "white",
            "ticks": ""
           }
          },
          "scene": {
           "xaxis": {
            "backgroundcolor": "#E5ECF6",
            "gridcolor": "white",
            "gridwidth": 2,
            "linecolor": "white",
            "showbackground": true,
            "ticks": "",
            "zerolinecolor": "white"
           },
           "yaxis": {
            "backgroundcolor": "#E5ECF6",
            "gridcolor": "white",
            "gridwidth": 2,
            "linecolor": "white",
            "showbackground": true,
            "ticks": "",
            "zerolinecolor": "white"
           },
           "zaxis": {
            "backgroundcolor": "#E5ECF6",
            "gridcolor": "white",
            "gridwidth": 2,
            "linecolor": "white",
            "showbackground": true,
            "ticks": "",
            "zerolinecolor": "white"
           }
          },
          "shapedefaults": {
           "line": {
            "color": "#2a3f5f"
           }
          },
          "ternary": {
           "aaxis": {
            "gridcolor": "white",
            "linecolor": "white",
            "ticks": ""
           },
           "baxis": {
            "gridcolor": "white",
            "linecolor": "white",
            "ticks": ""
           },
           "bgcolor": "#E5ECF6",
           "caxis": {
            "gridcolor": "white",
            "linecolor": "white",
            "ticks": ""
           }
          },
          "title": {
           "x": 0.05
          },
          "xaxis": {
           "automargin": true,
           "gridcolor": "white",
           "linecolor": "white",
           "ticks": "",
           "title": {
            "standoff": 15
           },
           "zerolinecolor": "white",
           "zerolinewidth": 2
          },
          "yaxis": {
           "automargin": true,
           "gridcolor": "white",
           "linecolor": "white",
           "ticks": "",
           "title": {
            "standoff": 15
           },
           "zerolinecolor": "white",
           "zerolinewidth": 2
          }
         }
        },
        "title": {
         "text": "Color term usage rate in % per saliency bin"
        },
        "width": 1000,
        "xaxis": {
         "tickmode": "array",
         "ticktext": [
          "0-20",
          "21-40",
          "41-60",
          "61-80",
          "81-100"
         ],
         "tickvals": [
          0,
          1,
          2,
          3,
          4
         ],
         "title": {
          "text": "Color saliency in %"
         }
        },
        "yaxis": {
         "title": {
          "text": "Rate of using color terms"
         }
        }
       }
      },
      "text/html": [
       "<div>                            <div id=\"ffff516c-b96e-445b-b0f8-c529486142d2\" class=\"plotly-graph-div\" style=\"height:525px; width:1000px;\"></div>            <script type=\"text/javascript\">                require([\"plotly\"], function(Plotly) {                    window.PLOTLYENV=window.PLOTLYENV || {};                                    if (document.getElementById(\"ffff516c-b96e-445b-b0f8-c529486142d2\")) {                    Plotly.newPlot(                        \"ffff516c-b96e-445b-b0f8-c529486142d2\",                        [{\"name\":\"Nucleus Sampling\",\"x\":[\"(2.909, 21.2]\",\"(21.2, 39.4]\",\"(39.4, 57.6]\",\"(57.6, 75.8]\",\"(75.8, 94.0]\"],\"y\":[0.5,0.7142857142857143,0.8571428571428571,0.6470588235294118,0.75],\"type\":\"bar\"},{\"name\":\"Greedy\",\"x\":[\"(2.909, 21.2]\",\"(21.2, 39.4]\",\"(39.4, 57.6]\",\"(57.6, 75.8]\",\"(75.8, 94.0]\"],\"y\":[0.25,0.7142857142857143,0.8571428571428571,0.8823529411764706,1.0],\"type\":\"bar\"},{\"name\":\"Beam Search\",\"x\":[\"(2.909, 21.2]\",\"(21.2, 39.4]\",\"(39.4, 57.6]\",\"(57.6, 75.8]\",\"(75.8, 94.0]\"],\"y\":[0.5,0.7857142857142857,0.9047619047619048,0.8823529411764706,1.0],\"type\":\"bar\"}],                        {\"template\":{\"data\":{\"histogram2dcontour\":[{\"type\":\"histogram2dcontour\",\"colorbar\":{\"outlinewidth\":0,\"ticks\":\"\"},\"colorscale\":[[0.0,\"#0d0887\"],[0.1111111111111111,\"#46039f\"],[0.2222222222222222,\"#7201a8\"],[0.3333333333333333,\"#9c179e\"],[0.4444444444444444,\"#bd3786\"],[0.5555555555555556,\"#d8576b\"],[0.6666666666666666,\"#ed7953\"],[0.7777777777777778,\"#fb9f3a\"],[0.8888888888888888,\"#fdca26\"],[1.0,\"#f0f921\"]]}],\"choropleth\":[{\"type\":\"choropleth\",\"colorbar\":{\"outlinewidth\":0,\"ticks\":\"\"}}],\"histogram2d\":[{\"type\":\"histogram2d\",\"colorbar\":{\"outlinewidth\":0,\"ticks\":\"\"},\"colorscale\":[[0.0,\"#0d0887\"],[0.1111111111111111,\"#46039f\"],[0.2222222222222222,\"#7201a8\"],[0.3333333333333333,\"#9c179e\"],[0.4444444444444444,\"#bd3786\"],[0.5555555555555556,\"#d8576b\"],[0.6666666666666666,\"#ed7953\"],[0.7777777777777778,\"#fb9f3a\"],[0.8888888888888888,\"#fdca26\"],[1.0,\"#f0f921\"]]}],\"heatmap\":[{\"type\":\"heatmap\",\"colorbar\":{\"outlinewidth\":0,\"ticks\":\"\"},\"colorscale\":[[0.0,\"#0d0887\"],[0.1111111111111111,\"#46039f\"],[0.2222222222222222,\"#7201a8\"],[0.3333333333333333,\"#9c179e\"],[0.4444444444444444,\"#bd3786\"],[0.5555555555555556,\"#d8576b\"],[0.6666666666666666,\"#ed7953\"],[0.7777777777777778,\"#fb9f3a\"],[0.8888888888888888,\"#fdca26\"],[1.0,\"#f0f921\"]]}],\"heatmapgl\":[{\"type\":\"heatmapgl\",\"colorbar\":{\"outlinewidth\":0,\"ticks\":\"\"},\"colorscale\":[[0.0,\"#0d0887\"],[0.1111111111111111,\"#46039f\"],[0.2222222222222222,\"#7201a8\"],[0.3333333333333333,\"#9c179e\"],[0.4444444444444444,\"#bd3786\"],[0.5555555555555556,\"#d8576b\"],[0.6666666666666666,\"#ed7953\"],[0.7777777777777778,\"#fb9f3a\"],[0.8888888888888888,\"#fdca26\"],[1.0,\"#f0f921\"]]}],\"contourcarpet\":[{\"type\":\"contourcarpet\",\"colorbar\":{\"outlinewidth\":0,\"ticks\":\"\"}}],\"contour\":[{\"type\":\"contour\",\"colorbar\":{\"outlinewidth\":0,\"ticks\":\"\"},\"colorscale\":[[0.0,\"#0d0887\"],[0.1111111111111111,\"#46039f\"],[0.2222222222222222,\"#7201a8\"],[0.3333333333333333,\"#9c179e\"],[0.4444444444444444,\"#bd3786\"],[0.5555555555555556,\"#d8576b\"],[0.6666666666666666,\"#ed7953\"],[0.7777777777777778,\"#fb9f3a\"],[0.8888888888888888,\"#fdca26\"],[1.0,\"#f0f921\"]]}],\"surface\":[{\"type\":\"surface\",\"colorbar\":{\"outlinewidth\":0,\"ticks\":\"\"},\"colorscale\":[[0.0,\"#0d0887\"],[0.1111111111111111,\"#46039f\"],[0.2222222222222222,\"#7201a8\"],[0.3333333333333333,\"#9c179e\"],[0.4444444444444444,\"#bd3786\"],[0.5555555555555556,\"#d8576b\"],[0.6666666666666666,\"#ed7953\"],[0.7777777777777778,\"#fb9f3a\"],[0.8888888888888888,\"#fdca26\"],[1.0,\"#f0f921\"]]}],\"mesh3d\":[{\"type\":\"mesh3d\",\"colorbar\":{\"outlinewidth\":0,\"ticks\":\"\"}}],\"scatter\":[{\"fillpattern\":{\"fillmode\":\"overlay\",\"size\":10,\"solidity\":0.2},\"type\":\"scatter\"}],\"parcoords\":[{\"type\":\"parcoords\",\"line\":{\"colorbar\":{\"outlinewidth\":0,\"ticks\":\"\"}}}],\"scatterpolargl\":[{\"type\":\"scatterpolargl\",\"marker\":{\"colorbar\":{\"outlinewidth\":0,\"ticks\":\"\"}}}],\"bar\":[{\"error_x\":{\"color\":\"#2a3f5f\"},\"error_y\":{\"color\":\"#2a3f5f\"},\"marker\":{\"line\":{\"color\":\"#E5ECF6\",\"width\":0.5},\"pattern\":{\"fillmode\":\"overlay\",\"size\":10,\"solidity\":0.2}},\"type\":\"bar\"}],\"scattergeo\":[{\"type\":\"scattergeo\",\"marker\":{\"colorbar\":{\"outlinewidth\":0,\"ticks\":\"\"}}}],\"scatterpolar\":[{\"type\":\"scatterpolar\",\"marker\":{\"colorbar\":{\"outlinewidth\":0,\"ticks\":\"\"}}}],\"histogram\":[{\"marker\":{\"pattern\":{\"fillmode\":\"overlay\",\"size\":10,\"solidity\":0.2}},\"type\":\"histogram\"}],\"scattergl\":[{\"type\":\"scattergl\",\"marker\":{\"colorbar\":{\"outlinewidth\":0,\"ticks\":\"\"}}}],\"scatter3d\":[{\"type\":\"scatter3d\",\"line\":{\"colorbar\":{\"outlinewidth\":0,\"ticks\":\"\"}},\"marker\":{\"colorbar\":{\"outlinewidth\":0,\"ticks\":\"\"}}}],\"scattermapbox\":[{\"type\":\"scattermapbox\",\"marker\":{\"colorbar\":{\"outlinewidth\":0,\"ticks\":\"\"}}}],\"scatterternary\":[{\"type\":\"scatterternary\",\"marker\":{\"colorbar\":{\"outlinewidth\":0,\"ticks\":\"\"}}}],\"scattercarpet\":[{\"type\":\"scattercarpet\",\"marker\":{\"colorbar\":{\"outlinewidth\":0,\"ticks\":\"\"}}}],\"carpet\":[{\"aaxis\":{\"endlinecolor\":\"#2a3f5f\",\"gridcolor\":\"white\",\"linecolor\":\"white\",\"minorgridcolor\":\"white\",\"startlinecolor\":\"#2a3f5f\"},\"baxis\":{\"endlinecolor\":\"#2a3f5f\",\"gridcolor\":\"white\",\"linecolor\":\"white\",\"minorgridcolor\":\"white\",\"startlinecolor\":\"#2a3f5f\"},\"type\":\"carpet\"}],\"table\":[{\"cells\":{\"fill\":{\"color\":\"#EBF0F8\"},\"line\":{\"color\":\"white\"}},\"header\":{\"fill\":{\"color\":\"#C8D4E3\"},\"line\":{\"color\":\"white\"}},\"type\":\"table\"}],\"barpolar\":[{\"marker\":{\"line\":{\"color\":\"#E5ECF6\",\"width\":0.5},\"pattern\":{\"fillmode\":\"overlay\",\"size\":10,\"solidity\":0.2}},\"type\":\"barpolar\"}],\"pie\":[{\"automargin\":true,\"type\":\"pie\"}]},\"layout\":{\"autotypenumbers\":\"strict\",\"colorway\":[\"#636efa\",\"#EF553B\",\"#00cc96\",\"#ab63fa\",\"#FFA15A\",\"#19d3f3\",\"#FF6692\",\"#B6E880\",\"#FF97FF\",\"#FECB52\"],\"font\":{\"color\":\"#2a3f5f\"},\"hovermode\":\"closest\",\"hoverlabel\":{\"align\":\"left\"},\"paper_bgcolor\":\"white\",\"plot_bgcolor\":\"#E5ECF6\",\"polar\":{\"bgcolor\":\"#E5ECF6\",\"angularaxis\":{\"gridcolor\":\"white\",\"linecolor\":\"white\",\"ticks\":\"\"},\"radialaxis\":{\"gridcolor\":\"white\",\"linecolor\":\"white\",\"ticks\":\"\"}},\"ternary\":{\"bgcolor\":\"#E5ECF6\",\"aaxis\":{\"gridcolor\":\"white\",\"linecolor\":\"white\",\"ticks\":\"\"},\"baxis\":{\"gridcolor\":\"white\",\"linecolor\":\"white\",\"ticks\":\"\"},\"caxis\":{\"gridcolor\":\"white\",\"linecolor\":\"white\",\"ticks\":\"\"}},\"coloraxis\":{\"colorbar\":{\"outlinewidth\":0,\"ticks\":\"\"}},\"colorscale\":{\"sequential\":[[0.0,\"#0d0887\"],[0.1111111111111111,\"#46039f\"],[0.2222222222222222,\"#7201a8\"],[0.3333333333333333,\"#9c179e\"],[0.4444444444444444,\"#bd3786\"],[0.5555555555555556,\"#d8576b\"],[0.6666666666666666,\"#ed7953\"],[0.7777777777777778,\"#fb9f3a\"],[0.8888888888888888,\"#fdca26\"],[1.0,\"#f0f921\"]],\"sequentialminus\":[[0.0,\"#0d0887\"],[0.1111111111111111,\"#46039f\"],[0.2222222222222222,\"#7201a8\"],[0.3333333333333333,\"#9c179e\"],[0.4444444444444444,\"#bd3786\"],[0.5555555555555556,\"#d8576b\"],[0.6666666666666666,\"#ed7953\"],[0.7777777777777778,\"#fb9f3a\"],[0.8888888888888888,\"#fdca26\"],[1.0,\"#f0f921\"]],\"diverging\":[[0,\"#8e0152\"],[0.1,\"#c51b7d\"],[0.2,\"#de77ae\"],[0.3,\"#f1b6da\"],[0.4,\"#fde0ef\"],[0.5,\"#f7f7f7\"],[0.6,\"#e6f5d0\"],[0.7,\"#b8e186\"],[0.8,\"#7fbc41\"],[0.9,\"#4d9221\"],[1,\"#276419\"]]},\"xaxis\":{\"gridcolor\":\"white\",\"linecolor\":\"white\",\"ticks\":\"\",\"title\":{\"standoff\":15},\"zerolinecolor\":\"white\",\"automargin\":true,\"zerolinewidth\":2},\"yaxis\":{\"gridcolor\":\"white\",\"linecolor\":\"white\",\"ticks\":\"\",\"title\":{\"standoff\":15},\"zerolinecolor\":\"white\",\"automargin\":true,\"zerolinewidth\":2},\"scene\":{\"xaxis\":{\"backgroundcolor\":\"#E5ECF6\",\"gridcolor\":\"white\",\"linecolor\":\"white\",\"showbackground\":true,\"ticks\":\"\",\"zerolinecolor\":\"white\",\"gridwidth\":2},\"yaxis\":{\"backgroundcolor\":\"#E5ECF6\",\"gridcolor\":\"white\",\"linecolor\":\"white\",\"showbackground\":true,\"ticks\":\"\",\"zerolinecolor\":\"white\",\"gridwidth\":2},\"zaxis\":{\"backgroundcolor\":\"#E5ECF6\",\"gridcolor\":\"white\",\"linecolor\":\"white\",\"showbackground\":true,\"ticks\":\"\",\"zerolinecolor\":\"white\",\"gridwidth\":2}},\"shapedefaults\":{\"line\":{\"color\":\"#2a3f5f\"}},\"annotationdefaults\":{\"arrowcolor\":\"#2a3f5f\",\"arrowhead\":0,\"arrowwidth\":1},\"geo\":{\"bgcolor\":\"white\",\"landcolor\":\"#E5ECF6\",\"subunitcolor\":\"white\",\"showland\":true,\"showlakes\":true,\"lakecolor\":\"white\"},\"title\":{\"x\":0.05},\"mapbox\":{\"style\":\"light\"}}},\"xaxis\":{\"title\":{\"text\":\"Color saliency in %\"},\"tickmode\":\"array\",\"tickvals\":[0,1,2,3,4],\"ticktext\":[\"0-20\",\"21-40\",\"41-60\",\"61-80\",\"81-100\"]},\"width\":1000,\"title\":{\"text\":\"Color term usage rate in % per saliency bin\"},\"yaxis\":{\"title\":{\"text\":\"Rate of using color terms\"}},\"barmode\":\"group\"},                        {\"responsive\": true}                    ).then(function(){\n",
       "                            \n",
       "var gd = document.getElementById('ffff516c-b96e-445b-b0f8-c529486142d2');\n",
       "var x = new MutationObserver(function (mutations, observer) {{\n",
       "        var display = window.getComputedStyle(gd).display;\n",
       "        if (!display || display === 'none') {{\n",
       "            console.log([gd, 'removed!']);\n",
       "            Plotly.purge(gd);\n",
       "            observer.disconnect();\n",
       "        }}\n",
       "}});\n",
       "\n",
       "// Listen for the removal of the full notebook cells\n",
       "var notebookContainer = gd.closest('#notebook-container');\n",
       "if (notebookContainer) {{\n",
       "    x.observe(notebookContainer, {childList: true});\n",
       "}}\n",
       "\n",
       "// Listen for the clearing of the current output cell\n",
       "var outputEl = gd.closest('.output');\n",
       "if (outputEl) {{\n",
       "    x.observe(outputEl, {childList: true});\n",
       "}}\n",
       "\n",
       "                        })                };                });            </script>        </div>"
      ]
     },
     "metadata": {},
     "output_type": "display_data"
    }
   ],
   "source": [
    "import plotly.graph_objects as go\n",
    "import pandas as pd\n",
    "import numpy as np\n",
    "import json\n",
    "\n",
    "# Assuming you have a DataFrame called 'data' with columns 'color saliency', 'color beam', and 'Model'\n",
    "\n",
    "# Determine the category bins based on the range of values in the 'color saliency' column\n",
    "num_bins = 5\n",
    "category_bins_texture = pd.cut(data['texture saliency'], bins=num_bins)\n",
    "category_bins_color = pd.cut(data['color saliency'], bins=num_bins)\n",
    "\n",
    "\n",
    "# Create a new column in the DataFrame to represent the category bins\n",
    "data['Category Bin Color'] = category_bins_color.astype(str)\n",
    "data['Category Bin Texture'] = category_bins_texture.astype(str)\n",
    "\n",
    "# Group the data by the category bins, boolean values, and model, and calculate the counts for each group\n",
    "\n",
    "# color\n",
    "color_nucleus = data.groupby(['Category Bin Color', 'color nucleus']).size().unstack().reset_index().fillna(0)\n",
    "color_greedy = data.groupby(['Category Bin Color', 'color greedy']).size().unstack().reset_index().fillna(0)\n",
    "color_beam = data.groupby(['Category Bin Color', 'color beam']).size().unstack().reset_index().fillna(0)\n",
    "\n",
    "print(color_beam)\n",
    "\n",
    "color_nucleus['Percentage'] = color_nucleus.apply(lambda row: row[True] / (row[True] + row[False]), axis=1)\n",
    "color_greedy['Percentage'] = color_greedy.apply(lambda row: row[True] / (row[True] + row[False]), axis=1)\n",
    "color_beam['Percentage'] = color_beam.apply(lambda row: row[True] / (row[True] + row[False]), axis=1)\n",
    "\n",
    "\n",
    "# texture\n",
    "texture_nucleus = data.groupby(['Category Bin Texture', 'texture nucleus']).size().unstack().reset_index().fillna(0)\n",
    "texture_greedy = data.groupby(['Category Bin Texture', 'texture greedy']).size().unstack().reset_index().fillna(0)\n",
    "texture_beam = data.groupby(['Category Bin Texture', 'texture beam']).size().unstack().reset_index().fillna(0)\n",
    "\n",
    "\n",
    "texture_nucleus['Percentage'] = texture_nucleus.apply(lambda row: row[True] / (row[True] + row[False]), axis=1)\n",
    "texture_greedy['Percentage'] = texture_greedy.apply(lambda row: row[True] / (row[True] + row[False]), axis=1)\n",
    "texture_beam['Percentage'] = texture_beam.apply(lambda row: row[True] / (row[True] + row[False]), axis=1)\n",
    "\n",
    "\n",
    "# Create the grouped bar chart\n",
    "fig = go.Figure()\n",
    "\n",
    "\n",
    "bar_trace_nucleus = go.Bar(\n",
    "    x=color_nucleus['Category Bin Color'],\n",
    "    y=color_nucleus['Percentage'],\n",
    "    name=f'Nucleus Sampling',\n",
    ")\n",
    "\n",
    "bar_trace_greedy = go.Bar(\n",
    "    x=color_nucleus['Category Bin Color'],\n",
    "    y=color_greedy['Percentage'],\n",
    "    name=f'Greedy',\n",
    "\n",
    ")\n",
    "\n",
    "bar_trace_beam = go.Bar(\n",
    "    x=color_nucleus['Category Bin Color'],\n",
    "    y=color_beam['Percentage'],\n",
    "    name=f'Beam Search',\n",
    "\n",
    ")\n",
    "\n",
    "fig.add_trace(bar_trace_nucleus)\n",
    "fig.add_trace(bar_trace_greedy)\n",
    "fig.add_trace(bar_trace_beam)\n",
    "\n",
    "# Create the layout for the grouped bar chart\n",
    "fig.update_layout(\n",
    "    width=1000,\n",
    "    title='Color term usage rate in % per saliency bin',\n",
    "    xaxis=dict(title='Color saliency in %', tickmode = 'array',\n",
    "               tickvals = [0, 1, 2, 3, 4],\n",
    "        ticktext = ['0-20', '21-40', '41-60', '61-80', '81-100']),\n",
    "    yaxis=dict(title='Rate of using color terms'),\n",
    "    barmode='group'\n",
    ")\n",
    "\n",
    "# Show the plot\n",
    "fig.show()\n",
    "\n",
    "# # Save the plot as JSON\n",
    "fig_json = fig.to_json()\n",
    "with open('grouped_texture.json', 'w') as file:\n",
    "    file.write(fig_json)\n"
   ]
  },
  {
   "cell_type": "code",
   "execution_count": 72,
   "metadata": {},
   "outputs": [
    {
     "name": "stdout",
     "output_type": "stream",
     "text": [
      "color beam Category Bin Color  False  True\n",
      "0               (2.909, 21.2]    2.0   2.0\n",
      "1                (21.2, 39.4]    3.0  11.0\n",
      "2                (39.4, 57.6]    2.0  19.0\n",
      "3                (57.6, 75.8]    2.0  15.0\n",
      "4                (75.8, 94.0]    0.0   8.0\n"
     ]
    },
    {
     "data": {
      "application/vnd.plotly.v1+json": {
       "config": {
        "plotlyServerURL": "https://plot.ly"
       },
       "data": [
        {
         "name": "Nucleus Sampling",
         "type": "bar",
         "x": [
          "(-0.063, 12.6]",
          "(12.6, 25.2]",
          "(25.2, 37.8]",
          "(37.8, 50.4]",
          "(50.4, 63.0]"
         ],
         "y": [
          0.3235294117647059,
          0.45,
          0.6666666666666666,
          0.75,
          0.3333333333333333
         ]
        },
        {
         "name": "Greedy",
         "type": "bar",
         "x": [
          "(-0.063, 12.6]",
          "(12.6, 25.2]",
          "(25.2, 37.8]",
          "(37.8, 50.4]",
          "(50.4, 63.0]"
         ],
         "y": [
          0.47058823529411764,
          0.55,
          0.6666666666666666,
          0.75,
          0.6666666666666666
         ]
        },
        {
         "name": "Beam Search",
         "type": "bar",
         "x": [
          "(-0.063, 12.6]",
          "(12.6, 25.2]",
          "(25.2, 37.8]",
          "(37.8, 50.4]",
          "(50.4, 63.0]"
         ],
         "y": [
          0.5,
          0.5,
          0.6666666666666666,
          0.75,
          0.6666666666666666
         ]
        }
       ],
       "layout": {
        "barmode": "group",
        "template": {
         "data": {
          "bar": [
           {
            "error_x": {
             "color": "#2a3f5f"
            },
            "error_y": {
             "color": "#2a3f5f"
            },
            "marker": {
             "line": {
              "color": "#E5ECF6",
              "width": 0.5
             },
             "pattern": {
              "fillmode": "overlay",
              "size": 10,
              "solidity": 0.2
             }
            },
            "type": "bar"
           }
          ],
          "barpolar": [
           {
            "marker": {
             "line": {
              "color": "#E5ECF6",
              "width": 0.5
             },
             "pattern": {
              "fillmode": "overlay",
              "size": 10,
              "solidity": 0.2
             }
            },
            "type": "barpolar"
           }
          ],
          "carpet": [
           {
            "aaxis": {
             "endlinecolor": "#2a3f5f",
             "gridcolor": "white",
             "linecolor": "white",
             "minorgridcolor": "white",
             "startlinecolor": "#2a3f5f"
            },
            "baxis": {
             "endlinecolor": "#2a3f5f",
             "gridcolor": "white",
             "linecolor": "white",
             "minorgridcolor": "white",
             "startlinecolor": "#2a3f5f"
            },
            "type": "carpet"
           }
          ],
          "choropleth": [
           {
            "colorbar": {
             "outlinewidth": 0,
             "ticks": ""
            },
            "type": "choropleth"
           }
          ],
          "contour": [
           {
            "colorbar": {
             "outlinewidth": 0,
             "ticks": ""
            },
            "colorscale": [
             [
              0,
              "#0d0887"
             ],
             [
              0.1111111111111111,
              "#46039f"
             ],
             [
              0.2222222222222222,
              "#7201a8"
             ],
             [
              0.3333333333333333,
              "#9c179e"
             ],
             [
              0.4444444444444444,
              "#bd3786"
             ],
             [
              0.5555555555555556,
              "#d8576b"
             ],
             [
              0.6666666666666666,
              "#ed7953"
             ],
             [
              0.7777777777777778,
              "#fb9f3a"
             ],
             [
              0.8888888888888888,
              "#fdca26"
             ],
             [
              1,
              "#f0f921"
             ]
            ],
            "type": "contour"
           }
          ],
          "contourcarpet": [
           {
            "colorbar": {
             "outlinewidth": 0,
             "ticks": ""
            },
            "type": "contourcarpet"
           }
          ],
          "heatmap": [
           {
            "colorbar": {
             "outlinewidth": 0,
             "ticks": ""
            },
            "colorscale": [
             [
              0,
              "#0d0887"
             ],
             [
              0.1111111111111111,
              "#46039f"
             ],
             [
              0.2222222222222222,
              "#7201a8"
             ],
             [
              0.3333333333333333,
              "#9c179e"
             ],
             [
              0.4444444444444444,
              "#bd3786"
             ],
             [
              0.5555555555555556,
              "#d8576b"
             ],
             [
              0.6666666666666666,
              "#ed7953"
             ],
             [
              0.7777777777777778,
              "#fb9f3a"
             ],
             [
              0.8888888888888888,
              "#fdca26"
             ],
             [
              1,
              "#f0f921"
             ]
            ],
            "type": "heatmap"
           }
          ],
          "heatmapgl": [
           {
            "colorbar": {
             "outlinewidth": 0,
             "ticks": ""
            },
            "colorscale": [
             [
              0,
              "#0d0887"
             ],
             [
              0.1111111111111111,
              "#46039f"
             ],
             [
              0.2222222222222222,
              "#7201a8"
             ],
             [
              0.3333333333333333,
              "#9c179e"
             ],
             [
              0.4444444444444444,
              "#bd3786"
             ],
             [
              0.5555555555555556,
              "#d8576b"
             ],
             [
              0.6666666666666666,
              "#ed7953"
             ],
             [
              0.7777777777777778,
              "#fb9f3a"
             ],
             [
              0.8888888888888888,
              "#fdca26"
             ],
             [
              1,
              "#f0f921"
             ]
            ],
            "type": "heatmapgl"
           }
          ],
          "histogram": [
           {
            "marker": {
             "pattern": {
              "fillmode": "overlay",
              "size": 10,
              "solidity": 0.2
             }
            },
            "type": "histogram"
           }
          ],
          "histogram2d": [
           {
            "colorbar": {
             "outlinewidth": 0,
             "ticks": ""
            },
            "colorscale": [
             [
              0,
              "#0d0887"
             ],
             [
              0.1111111111111111,
              "#46039f"
             ],
             [
              0.2222222222222222,
              "#7201a8"
             ],
             [
              0.3333333333333333,
              "#9c179e"
             ],
             [
              0.4444444444444444,
              "#bd3786"
             ],
             [
              0.5555555555555556,
              "#d8576b"
             ],
             [
              0.6666666666666666,
              "#ed7953"
             ],
             [
              0.7777777777777778,
              "#fb9f3a"
             ],
             [
              0.8888888888888888,
              "#fdca26"
             ],
             [
              1,
              "#f0f921"
             ]
            ],
            "type": "histogram2d"
           }
          ],
          "histogram2dcontour": [
           {
            "colorbar": {
             "outlinewidth": 0,
             "ticks": ""
            },
            "colorscale": [
             [
              0,
              "#0d0887"
             ],
             [
              0.1111111111111111,
              "#46039f"
             ],
             [
              0.2222222222222222,
              "#7201a8"
             ],
             [
              0.3333333333333333,
              "#9c179e"
             ],
             [
              0.4444444444444444,
              "#bd3786"
             ],
             [
              0.5555555555555556,
              "#d8576b"
             ],
             [
              0.6666666666666666,
              "#ed7953"
             ],
             [
              0.7777777777777778,
              "#fb9f3a"
             ],
             [
              0.8888888888888888,
              "#fdca26"
             ],
             [
              1,
              "#f0f921"
             ]
            ],
            "type": "histogram2dcontour"
           }
          ],
          "mesh3d": [
           {
            "colorbar": {
             "outlinewidth": 0,
             "ticks": ""
            },
            "type": "mesh3d"
           }
          ],
          "parcoords": [
           {
            "line": {
             "colorbar": {
              "outlinewidth": 0,
              "ticks": ""
             }
            },
            "type": "parcoords"
           }
          ],
          "pie": [
           {
            "automargin": true,
            "type": "pie"
           }
          ],
          "scatter": [
           {
            "fillpattern": {
             "fillmode": "overlay",
             "size": 10,
             "solidity": 0.2
            },
            "type": "scatter"
           }
          ],
          "scatter3d": [
           {
            "line": {
             "colorbar": {
              "outlinewidth": 0,
              "ticks": ""
             }
            },
            "marker": {
             "colorbar": {
              "outlinewidth": 0,
              "ticks": ""
             }
            },
            "type": "scatter3d"
           }
          ],
          "scattercarpet": [
           {
            "marker": {
             "colorbar": {
              "outlinewidth": 0,
              "ticks": ""
             }
            },
            "type": "scattercarpet"
           }
          ],
          "scattergeo": [
           {
            "marker": {
             "colorbar": {
              "outlinewidth": 0,
              "ticks": ""
             }
            },
            "type": "scattergeo"
           }
          ],
          "scattergl": [
           {
            "marker": {
             "colorbar": {
              "outlinewidth": 0,
              "ticks": ""
             }
            },
            "type": "scattergl"
           }
          ],
          "scattermapbox": [
           {
            "marker": {
             "colorbar": {
              "outlinewidth": 0,
              "ticks": ""
             }
            },
            "type": "scattermapbox"
           }
          ],
          "scatterpolar": [
           {
            "marker": {
             "colorbar": {
              "outlinewidth": 0,
              "ticks": ""
             }
            },
            "type": "scatterpolar"
           }
          ],
          "scatterpolargl": [
           {
            "marker": {
             "colorbar": {
              "outlinewidth": 0,
              "ticks": ""
             }
            },
            "type": "scatterpolargl"
           }
          ],
          "scatterternary": [
           {
            "marker": {
             "colorbar": {
              "outlinewidth": 0,
              "ticks": ""
             }
            },
            "type": "scatterternary"
           }
          ],
          "surface": [
           {
            "colorbar": {
             "outlinewidth": 0,
             "ticks": ""
            },
            "colorscale": [
             [
              0,
              "#0d0887"
             ],
             [
              0.1111111111111111,
              "#46039f"
             ],
             [
              0.2222222222222222,
              "#7201a8"
             ],
             [
              0.3333333333333333,
              "#9c179e"
             ],
             [
              0.4444444444444444,
              "#bd3786"
             ],
             [
              0.5555555555555556,
              "#d8576b"
             ],
             [
              0.6666666666666666,
              "#ed7953"
             ],
             [
              0.7777777777777778,
              "#fb9f3a"
             ],
             [
              0.8888888888888888,
              "#fdca26"
             ],
             [
              1,
              "#f0f921"
             ]
            ],
            "type": "surface"
           }
          ],
          "table": [
           {
            "cells": {
             "fill": {
              "color": "#EBF0F8"
             },
             "line": {
              "color": "white"
             }
            },
            "header": {
             "fill": {
              "color": "#C8D4E3"
             },
             "line": {
              "color": "white"
             }
            },
            "type": "table"
           }
          ]
         },
         "layout": {
          "annotationdefaults": {
           "arrowcolor": "#2a3f5f",
           "arrowhead": 0,
           "arrowwidth": 1
          },
          "autotypenumbers": "strict",
          "coloraxis": {
           "colorbar": {
            "outlinewidth": 0,
            "ticks": ""
           }
          },
          "colorscale": {
           "diverging": [
            [
             0,
             "#8e0152"
            ],
            [
             0.1,
             "#c51b7d"
            ],
            [
             0.2,
             "#de77ae"
            ],
            [
             0.3,
             "#f1b6da"
            ],
            [
             0.4,
             "#fde0ef"
            ],
            [
             0.5,
             "#f7f7f7"
            ],
            [
             0.6,
             "#e6f5d0"
            ],
            [
             0.7,
             "#b8e186"
            ],
            [
             0.8,
             "#7fbc41"
            ],
            [
             0.9,
             "#4d9221"
            ],
            [
             1,
             "#276419"
            ]
           ],
           "sequential": [
            [
             0,
             "#0d0887"
            ],
            [
             0.1111111111111111,
             "#46039f"
            ],
            [
             0.2222222222222222,
             "#7201a8"
            ],
            [
             0.3333333333333333,
             "#9c179e"
            ],
            [
             0.4444444444444444,
             "#bd3786"
            ],
            [
             0.5555555555555556,
             "#d8576b"
            ],
            [
             0.6666666666666666,
             "#ed7953"
            ],
            [
             0.7777777777777778,
             "#fb9f3a"
            ],
            [
             0.8888888888888888,
             "#fdca26"
            ],
            [
             1,
             "#f0f921"
            ]
           ],
           "sequentialminus": [
            [
             0,
             "#0d0887"
            ],
            [
             0.1111111111111111,
             "#46039f"
            ],
            [
             0.2222222222222222,
             "#7201a8"
            ],
            [
             0.3333333333333333,
             "#9c179e"
            ],
            [
             0.4444444444444444,
             "#bd3786"
            ],
            [
             0.5555555555555556,
             "#d8576b"
            ],
            [
             0.6666666666666666,
             "#ed7953"
            ],
            [
             0.7777777777777778,
             "#fb9f3a"
            ],
            [
             0.8888888888888888,
             "#fdca26"
            ],
            [
             1,
             "#f0f921"
            ]
           ]
          },
          "colorway": [
           "#636efa",
           "#EF553B",
           "#00cc96",
           "#ab63fa",
           "#FFA15A",
           "#19d3f3",
           "#FF6692",
           "#B6E880",
           "#FF97FF",
           "#FECB52"
          ],
          "font": {
           "color": "#2a3f5f"
          },
          "geo": {
           "bgcolor": "white",
           "lakecolor": "white",
           "landcolor": "#E5ECF6",
           "showlakes": true,
           "showland": true,
           "subunitcolor": "white"
          },
          "hoverlabel": {
           "align": "left"
          },
          "hovermode": "closest",
          "mapbox": {
           "style": "light"
          },
          "paper_bgcolor": "white",
          "plot_bgcolor": "#E5ECF6",
          "polar": {
           "angularaxis": {
            "gridcolor": "white",
            "linecolor": "white",
            "ticks": ""
           },
           "bgcolor": "#E5ECF6",
           "radialaxis": {
            "gridcolor": "white",
            "linecolor": "white",
            "ticks": ""
           }
          },
          "scene": {
           "xaxis": {
            "backgroundcolor": "#E5ECF6",
            "gridcolor": "white",
            "gridwidth": 2,
            "linecolor": "white",
            "showbackground": true,
            "ticks": "",
            "zerolinecolor": "white"
           },
           "yaxis": {
            "backgroundcolor": "#E5ECF6",
            "gridcolor": "white",
            "gridwidth": 2,
            "linecolor": "white",
            "showbackground": true,
            "ticks": "",
            "zerolinecolor": "white"
           },
           "zaxis": {
            "backgroundcolor": "#E5ECF6",
            "gridcolor": "white",
            "gridwidth": 2,
            "linecolor": "white",
            "showbackground": true,
            "ticks": "",
            "zerolinecolor": "white"
           }
          },
          "shapedefaults": {
           "line": {
            "color": "#2a3f5f"
           }
          },
          "ternary": {
           "aaxis": {
            "gridcolor": "white",
            "linecolor": "white",
            "ticks": ""
           },
           "baxis": {
            "gridcolor": "white",
            "linecolor": "white",
            "ticks": ""
           },
           "bgcolor": "#E5ECF6",
           "caxis": {
            "gridcolor": "white",
            "linecolor": "white",
            "ticks": ""
           }
          },
          "title": {
           "x": 0.05
          },
          "xaxis": {
           "automargin": true,
           "gridcolor": "white",
           "linecolor": "white",
           "ticks": "",
           "title": {
            "standoff": 15
           },
           "zerolinecolor": "white",
           "zerolinewidth": 2
          },
          "yaxis": {
           "automargin": true,
           "gridcolor": "white",
           "linecolor": "white",
           "ticks": "",
           "title": {
            "standoff": 15
           },
           "zerolinecolor": "white",
           "zerolinewidth": 2
          }
         }
        },
        "title": {
         "text": "Texture term usage rate in % per saliency bin"
        },
        "width": 1000,
        "xaxis": {
         "tickmode": "array",
         "ticktext": [
          "0-20",
          "21-40",
          "41-60",
          "61-80",
          "81-100"
         ],
         "tickvals": [
          0,
          1,
          2,
          3,
          4
         ],
         "title": {
          "text": "Texture saliency in %"
         }
        },
        "yaxis": {
         "title": {
          "text": "Rate of using texture terms"
         }
        }
       }
      },
      "text/html": [
       "<div>                            <div id=\"036ab9f6-980d-40ec-9ccd-590cccdc916a\" class=\"plotly-graph-div\" style=\"height:525px; width:1000px;\"></div>            <script type=\"text/javascript\">                require([\"plotly\"], function(Plotly) {                    window.PLOTLYENV=window.PLOTLYENV || {};                                    if (document.getElementById(\"036ab9f6-980d-40ec-9ccd-590cccdc916a\")) {                    Plotly.newPlot(                        \"036ab9f6-980d-40ec-9ccd-590cccdc916a\",                        [{\"name\":\"Nucleus Sampling\",\"x\":[\"(-0.063, 12.6]\",\"(12.6, 25.2]\",\"(25.2, 37.8]\",\"(37.8, 50.4]\",\"(50.4, 63.0]\"],\"y\":[0.3235294117647059,0.45,0.6666666666666666,0.75,0.3333333333333333],\"type\":\"bar\"},{\"name\":\"Greedy\",\"x\":[\"(-0.063, 12.6]\",\"(12.6, 25.2]\",\"(25.2, 37.8]\",\"(37.8, 50.4]\",\"(50.4, 63.0]\"],\"y\":[0.47058823529411764,0.55,0.6666666666666666,0.75,0.6666666666666666],\"type\":\"bar\"},{\"name\":\"Beam Search\",\"x\":[\"(-0.063, 12.6]\",\"(12.6, 25.2]\",\"(25.2, 37.8]\",\"(37.8, 50.4]\",\"(50.4, 63.0]\"],\"y\":[0.5,0.5,0.6666666666666666,0.75,0.6666666666666666],\"type\":\"bar\"}],                        {\"template\":{\"data\":{\"histogram2dcontour\":[{\"type\":\"histogram2dcontour\",\"colorbar\":{\"outlinewidth\":0,\"ticks\":\"\"},\"colorscale\":[[0.0,\"#0d0887\"],[0.1111111111111111,\"#46039f\"],[0.2222222222222222,\"#7201a8\"],[0.3333333333333333,\"#9c179e\"],[0.4444444444444444,\"#bd3786\"],[0.5555555555555556,\"#d8576b\"],[0.6666666666666666,\"#ed7953\"],[0.7777777777777778,\"#fb9f3a\"],[0.8888888888888888,\"#fdca26\"],[1.0,\"#f0f921\"]]}],\"choropleth\":[{\"type\":\"choropleth\",\"colorbar\":{\"outlinewidth\":0,\"ticks\":\"\"}}],\"histogram2d\":[{\"type\":\"histogram2d\",\"colorbar\":{\"outlinewidth\":0,\"ticks\":\"\"},\"colorscale\":[[0.0,\"#0d0887\"],[0.1111111111111111,\"#46039f\"],[0.2222222222222222,\"#7201a8\"],[0.3333333333333333,\"#9c179e\"],[0.4444444444444444,\"#bd3786\"],[0.5555555555555556,\"#d8576b\"],[0.6666666666666666,\"#ed7953\"],[0.7777777777777778,\"#fb9f3a\"],[0.8888888888888888,\"#fdca26\"],[1.0,\"#f0f921\"]]}],\"heatmap\":[{\"type\":\"heatmap\",\"colorbar\":{\"outlinewidth\":0,\"ticks\":\"\"},\"colorscale\":[[0.0,\"#0d0887\"],[0.1111111111111111,\"#46039f\"],[0.2222222222222222,\"#7201a8\"],[0.3333333333333333,\"#9c179e\"],[0.4444444444444444,\"#bd3786\"],[0.5555555555555556,\"#d8576b\"],[0.6666666666666666,\"#ed7953\"],[0.7777777777777778,\"#fb9f3a\"],[0.8888888888888888,\"#fdca26\"],[1.0,\"#f0f921\"]]}],\"heatmapgl\":[{\"type\":\"heatmapgl\",\"colorbar\":{\"outlinewidth\":0,\"ticks\":\"\"},\"colorscale\":[[0.0,\"#0d0887\"],[0.1111111111111111,\"#46039f\"],[0.2222222222222222,\"#7201a8\"],[0.3333333333333333,\"#9c179e\"],[0.4444444444444444,\"#bd3786\"],[0.5555555555555556,\"#d8576b\"],[0.6666666666666666,\"#ed7953\"],[0.7777777777777778,\"#fb9f3a\"],[0.8888888888888888,\"#fdca26\"],[1.0,\"#f0f921\"]]}],\"contourcarpet\":[{\"type\":\"contourcarpet\",\"colorbar\":{\"outlinewidth\":0,\"ticks\":\"\"}}],\"contour\":[{\"type\":\"contour\",\"colorbar\":{\"outlinewidth\":0,\"ticks\":\"\"},\"colorscale\":[[0.0,\"#0d0887\"],[0.1111111111111111,\"#46039f\"],[0.2222222222222222,\"#7201a8\"],[0.3333333333333333,\"#9c179e\"],[0.4444444444444444,\"#bd3786\"],[0.5555555555555556,\"#d8576b\"],[0.6666666666666666,\"#ed7953\"],[0.7777777777777778,\"#fb9f3a\"],[0.8888888888888888,\"#fdca26\"],[1.0,\"#f0f921\"]]}],\"surface\":[{\"type\":\"surface\",\"colorbar\":{\"outlinewidth\":0,\"ticks\":\"\"},\"colorscale\":[[0.0,\"#0d0887\"],[0.1111111111111111,\"#46039f\"],[0.2222222222222222,\"#7201a8\"],[0.3333333333333333,\"#9c179e\"],[0.4444444444444444,\"#bd3786\"],[0.5555555555555556,\"#d8576b\"],[0.6666666666666666,\"#ed7953\"],[0.7777777777777778,\"#fb9f3a\"],[0.8888888888888888,\"#fdca26\"],[1.0,\"#f0f921\"]]}],\"mesh3d\":[{\"type\":\"mesh3d\",\"colorbar\":{\"outlinewidth\":0,\"ticks\":\"\"}}],\"scatter\":[{\"fillpattern\":{\"fillmode\":\"overlay\",\"size\":10,\"solidity\":0.2},\"type\":\"scatter\"}],\"parcoords\":[{\"type\":\"parcoords\",\"line\":{\"colorbar\":{\"outlinewidth\":0,\"ticks\":\"\"}}}],\"scatterpolargl\":[{\"type\":\"scatterpolargl\",\"marker\":{\"colorbar\":{\"outlinewidth\":0,\"ticks\":\"\"}}}],\"bar\":[{\"error_x\":{\"color\":\"#2a3f5f\"},\"error_y\":{\"color\":\"#2a3f5f\"},\"marker\":{\"line\":{\"color\":\"#E5ECF6\",\"width\":0.5},\"pattern\":{\"fillmode\":\"overlay\",\"size\":10,\"solidity\":0.2}},\"type\":\"bar\"}],\"scattergeo\":[{\"type\":\"scattergeo\",\"marker\":{\"colorbar\":{\"outlinewidth\":0,\"ticks\":\"\"}}}],\"scatterpolar\":[{\"type\":\"scatterpolar\",\"marker\":{\"colorbar\":{\"outlinewidth\":0,\"ticks\":\"\"}}}],\"histogram\":[{\"marker\":{\"pattern\":{\"fillmode\":\"overlay\",\"size\":10,\"solidity\":0.2}},\"type\":\"histogram\"}],\"scattergl\":[{\"type\":\"scattergl\",\"marker\":{\"colorbar\":{\"outlinewidth\":0,\"ticks\":\"\"}}}],\"scatter3d\":[{\"type\":\"scatter3d\",\"line\":{\"colorbar\":{\"outlinewidth\":0,\"ticks\":\"\"}},\"marker\":{\"colorbar\":{\"outlinewidth\":0,\"ticks\":\"\"}}}],\"scattermapbox\":[{\"type\":\"scattermapbox\",\"marker\":{\"colorbar\":{\"outlinewidth\":0,\"ticks\":\"\"}}}],\"scatterternary\":[{\"type\":\"scatterternary\",\"marker\":{\"colorbar\":{\"outlinewidth\":0,\"ticks\":\"\"}}}],\"scattercarpet\":[{\"type\":\"scattercarpet\",\"marker\":{\"colorbar\":{\"outlinewidth\":0,\"ticks\":\"\"}}}],\"carpet\":[{\"aaxis\":{\"endlinecolor\":\"#2a3f5f\",\"gridcolor\":\"white\",\"linecolor\":\"white\",\"minorgridcolor\":\"white\",\"startlinecolor\":\"#2a3f5f\"},\"baxis\":{\"endlinecolor\":\"#2a3f5f\",\"gridcolor\":\"white\",\"linecolor\":\"white\",\"minorgridcolor\":\"white\",\"startlinecolor\":\"#2a3f5f\"},\"type\":\"carpet\"}],\"table\":[{\"cells\":{\"fill\":{\"color\":\"#EBF0F8\"},\"line\":{\"color\":\"white\"}},\"header\":{\"fill\":{\"color\":\"#C8D4E3\"},\"line\":{\"color\":\"white\"}},\"type\":\"table\"}],\"barpolar\":[{\"marker\":{\"line\":{\"color\":\"#E5ECF6\",\"width\":0.5},\"pattern\":{\"fillmode\":\"overlay\",\"size\":10,\"solidity\":0.2}},\"type\":\"barpolar\"}],\"pie\":[{\"automargin\":true,\"type\":\"pie\"}]},\"layout\":{\"autotypenumbers\":\"strict\",\"colorway\":[\"#636efa\",\"#EF553B\",\"#00cc96\",\"#ab63fa\",\"#FFA15A\",\"#19d3f3\",\"#FF6692\",\"#B6E880\",\"#FF97FF\",\"#FECB52\"],\"font\":{\"color\":\"#2a3f5f\"},\"hovermode\":\"closest\",\"hoverlabel\":{\"align\":\"left\"},\"paper_bgcolor\":\"white\",\"plot_bgcolor\":\"#E5ECF6\",\"polar\":{\"bgcolor\":\"#E5ECF6\",\"angularaxis\":{\"gridcolor\":\"white\",\"linecolor\":\"white\",\"ticks\":\"\"},\"radialaxis\":{\"gridcolor\":\"white\",\"linecolor\":\"white\",\"ticks\":\"\"}},\"ternary\":{\"bgcolor\":\"#E5ECF6\",\"aaxis\":{\"gridcolor\":\"white\",\"linecolor\":\"white\",\"ticks\":\"\"},\"baxis\":{\"gridcolor\":\"white\",\"linecolor\":\"white\",\"ticks\":\"\"},\"caxis\":{\"gridcolor\":\"white\",\"linecolor\":\"white\",\"ticks\":\"\"}},\"coloraxis\":{\"colorbar\":{\"outlinewidth\":0,\"ticks\":\"\"}},\"colorscale\":{\"sequential\":[[0.0,\"#0d0887\"],[0.1111111111111111,\"#46039f\"],[0.2222222222222222,\"#7201a8\"],[0.3333333333333333,\"#9c179e\"],[0.4444444444444444,\"#bd3786\"],[0.5555555555555556,\"#d8576b\"],[0.6666666666666666,\"#ed7953\"],[0.7777777777777778,\"#fb9f3a\"],[0.8888888888888888,\"#fdca26\"],[1.0,\"#f0f921\"]],\"sequentialminus\":[[0.0,\"#0d0887\"],[0.1111111111111111,\"#46039f\"],[0.2222222222222222,\"#7201a8\"],[0.3333333333333333,\"#9c179e\"],[0.4444444444444444,\"#bd3786\"],[0.5555555555555556,\"#d8576b\"],[0.6666666666666666,\"#ed7953\"],[0.7777777777777778,\"#fb9f3a\"],[0.8888888888888888,\"#fdca26\"],[1.0,\"#f0f921\"]],\"diverging\":[[0,\"#8e0152\"],[0.1,\"#c51b7d\"],[0.2,\"#de77ae\"],[0.3,\"#f1b6da\"],[0.4,\"#fde0ef\"],[0.5,\"#f7f7f7\"],[0.6,\"#e6f5d0\"],[0.7,\"#b8e186\"],[0.8,\"#7fbc41\"],[0.9,\"#4d9221\"],[1,\"#276419\"]]},\"xaxis\":{\"gridcolor\":\"white\",\"linecolor\":\"white\",\"ticks\":\"\",\"title\":{\"standoff\":15},\"zerolinecolor\":\"white\",\"automargin\":true,\"zerolinewidth\":2},\"yaxis\":{\"gridcolor\":\"white\",\"linecolor\":\"white\",\"ticks\":\"\",\"title\":{\"standoff\":15},\"zerolinecolor\":\"white\",\"automargin\":true,\"zerolinewidth\":2},\"scene\":{\"xaxis\":{\"backgroundcolor\":\"#E5ECF6\",\"gridcolor\":\"white\",\"linecolor\":\"white\",\"showbackground\":true,\"ticks\":\"\",\"zerolinecolor\":\"white\",\"gridwidth\":2},\"yaxis\":{\"backgroundcolor\":\"#E5ECF6\",\"gridcolor\":\"white\",\"linecolor\":\"white\",\"showbackground\":true,\"ticks\":\"\",\"zerolinecolor\":\"white\",\"gridwidth\":2},\"zaxis\":{\"backgroundcolor\":\"#E5ECF6\",\"gridcolor\":\"white\",\"linecolor\":\"white\",\"showbackground\":true,\"ticks\":\"\",\"zerolinecolor\":\"white\",\"gridwidth\":2}},\"shapedefaults\":{\"line\":{\"color\":\"#2a3f5f\"}},\"annotationdefaults\":{\"arrowcolor\":\"#2a3f5f\",\"arrowhead\":0,\"arrowwidth\":1},\"geo\":{\"bgcolor\":\"white\",\"landcolor\":\"#E5ECF6\",\"subunitcolor\":\"white\",\"showland\":true,\"showlakes\":true,\"lakecolor\":\"white\"},\"title\":{\"x\":0.05},\"mapbox\":{\"style\":\"light\"}}},\"xaxis\":{\"title\":{\"text\":\"Texture saliency in %\"},\"tickmode\":\"array\",\"tickvals\":[0,1,2,3,4],\"ticktext\":[\"0-20\",\"21-40\",\"41-60\",\"61-80\",\"81-100\"]},\"width\":1000,\"title\":{\"text\":\"Texture term usage rate in % per saliency bin\"},\"yaxis\":{\"title\":{\"text\":\"Rate of using texture terms\"}},\"barmode\":\"group\"},                        {\"responsive\": true}                    ).then(function(){\n",
       "                            \n",
       "var gd = document.getElementById('036ab9f6-980d-40ec-9ccd-590cccdc916a');\n",
       "var x = new MutationObserver(function (mutations, observer) {{\n",
       "        var display = window.getComputedStyle(gd).display;\n",
       "        if (!display || display === 'none') {{\n",
       "            console.log([gd, 'removed!']);\n",
       "            Plotly.purge(gd);\n",
       "            observer.disconnect();\n",
       "        }}\n",
       "}});\n",
       "\n",
       "// Listen for the removal of the full notebook cells\n",
       "var notebookContainer = gd.closest('#notebook-container');\n",
       "if (notebookContainer) {{\n",
       "    x.observe(notebookContainer, {childList: true});\n",
       "}}\n",
       "\n",
       "// Listen for the clearing of the current output cell\n",
       "var outputEl = gd.closest('.output');\n",
       "if (outputEl) {{\n",
       "    x.observe(outputEl, {childList: true});\n",
       "}}\n",
       "\n",
       "                        })                };                });            </script>        </div>"
      ]
     },
     "metadata": {},
     "output_type": "display_data"
    }
   ],
   "source": [
    "import plotly.graph_objects as go\n",
    "import pandas as pd\n",
    "import numpy as np\n",
    "import json\n",
    "\n",
    "# Assuming you have a DataFrame called 'data' with columns 'color saliency', 'color beam', and 'Model'\n",
    "\n",
    "# Determine the category bins based on the range of values in the 'color saliency' column\n",
    "num_bins = 5\n",
    "category_bins_texture = pd.cut(data['texture saliency'], bins=num_bins)\n",
    "category_bins_color = pd.cut(data['color saliency'], bins=num_bins)\n",
    "\n",
    "\n",
    "# Create a new column in the DataFrame to represent the category bins\n",
    "data['Category Bin Color'] = category_bins_color.astype(str)\n",
    "data['Category Bin Texture'] = category_bins_texture.astype(str)\n",
    "\n",
    "# Group the data by the category bins, boolean values, and model, and calculate the counts for each group\n",
    "\n",
    "# color\n",
    "color_nucleus = data.groupby(['Category Bin Color', 'color nucleus']).size().unstack().reset_index().fillna(0)\n",
    "color_greedy = data.groupby(['Category Bin Color', 'color greedy']).size().unstack().reset_index().fillna(0)\n",
    "color_beam = data.groupby(['Category Bin Color', 'color beam']).size().unstack().reset_index().fillna(0)\n",
    "\n",
    "print(color_beam)\n",
    "\n",
    "color_nucleus['Percentage'] = color_nucleus.apply(lambda row: row[True] / (row[True] + row[False]), axis=1)\n",
    "color_greedy['Percentage'] = color_greedy.apply(lambda row: row[True] / (row[True] + row[False]), axis=1)\n",
    "color_beam['Percentage'] = color_beam.apply(lambda row: row[True] / (row[True] + row[False]), axis=1)\n",
    "\n",
    "\n",
    "# texture\n",
    "texture_nucleus = data.groupby(['Category Bin Texture', 'texture nucleus']).size().unstack().reset_index().fillna(0)\n",
    "texture_greedy = data.groupby(['Category Bin Texture', 'texture greedy']).size().unstack().reset_index().fillna(0)\n",
    "texture_beam = data.groupby(['Category Bin Texture', 'texture beam']).size().unstack().reset_index().fillna(0)\n",
    "\n",
    "\n",
    "texture_nucleus['Percentage'] = texture_nucleus.apply(lambda row: row[True] / (row[True] + row[False]), axis=1)\n",
    "texture_greedy['Percentage'] = texture_greedy.apply(lambda row: row[True] / (row[True] + row[False]), axis=1)\n",
    "texture_beam['Percentage'] = texture_beam.apply(lambda row: row[True] / (row[True] + row[False]), axis=1)\n",
    "\n",
    "\n",
    "# Create the grouped bar chart\n",
    "fig = go.Figure()\n",
    "\n",
    "\n",
    "bar_trace_nucleus = go.Bar(\n",
    "    x=texture_nucleus['Category Bin Texture'],\n",
    "    y=texture_nucleus['Percentage'],\n",
    "    name=f'Nucleus Sampling',\n",
    ")\n",
    "\n",
    "bar_trace_greedy = go.Bar(\n",
    "    x=texture_nucleus['Category Bin Texture'],\n",
    "    y=texture_greedy['Percentage'],\n",
    "    name=f'Greedy',\n",
    "\n",
    ")\n",
    "\n",
    "bar_trace_beam = go.Bar(\n",
    "    x=texture_nucleus['Category Bin Texture'],\n",
    "    y=texture_beam['Percentage'],\n",
    "    name=f'Beam Search',\n",
    "\n",
    ")\n",
    "\n",
    "fig.add_trace(bar_trace_nucleus)\n",
    "fig.add_trace(bar_trace_greedy)\n",
    "fig.add_trace(bar_trace_beam)\n",
    "\n",
    "# Create the layout for the grouped bar chart\n",
    "fig.update_layout(\n",
    "    width=1000,\n",
    "    title='Texture term usage rate in % per saliency bin',\n",
    "    xaxis=dict(title='Texture saliency in %', tickmode = 'array',\n",
    "               tickvals = [0, 1, 2, 3, 4],\n",
    "        ticktext = ['0-20', '21-40', '41-60', '61-80', '81-100']),\n",
    "    yaxis=dict(title='Rate of using texture terms'),\n",
    "    barmode='group'\n",
    ")\n",
    "\n",
    "# Show the plot\n",
    "fig.show()\n",
    "\n",
    "# # Save the plot as JSON\n",
    "fig_json = fig.to_json()\n",
    "with open('grouped_texture.json', 'w') as file:\n",
    "    file.write(fig_json)\n"
   ]
  },
  {
   "cell_type": "code",
   "execution_count": 60,
   "metadata": {},
   "outputs": [
    {
     "data": {
      "application/vnd.plotly.v1+json": {
       "config": {
        "plotlyServerURL": "https://plot.ly"
       },
       "data": [
        {
         "name": "Length Greedy",
         "type": "bar",
         "x": [
          2001,
          2002,
          2003,
          2004,
          2005,
          2006,
          2007,
          2008,
          2009,
          2010,
          2011,
          2012,
          2013,
          2014,
          2015,
          2016,
          2017,
          2018,
          2019,
          2020,
          2021,
          2022,
          2023,
          2024,
          2025,
          2026,
          2027,
          2028,
          2029,
          2030,
          2031,
          2032,
          2033,
          2034,
          2035,
          2036,
          2037,
          2038,
          2039,
          2040,
          2041,
          2042,
          2043,
          2044,
          2045,
          2046,
          2047,
          2048,
          2049,
          2050,
          2051,
          2052,
          2053,
          2054,
          2055,
          2056,
          2057,
          2058,
          2059,
          2060,
          2061,
          2062,
          2063,
          2064
         ],
         "y": [
          10,
          8,
          10,
          8,
          7,
          10,
          7,
          7,
          9,
          8,
          9,
          7,
          9,
          9,
          10,
          9,
          9,
          7,
          10,
          9,
          9,
          8,
          11,
          15,
          9,
          10,
          9,
          9,
          10,
          9,
          7,
          11,
          9,
          10,
          10,
          10,
          9,
          10,
          9,
          8,
          8,
          7,
          8,
          9,
          8,
          12,
          10,
          10,
          10,
          8,
          10,
          10,
          10,
          11,
          7,
          12,
          11,
          6,
          10,
          8,
          8,
          8,
          8,
          7
         ]
        },
        {
         "name": "Length Nucleus",
         "type": "bar",
         "x": [
          2001,
          2002,
          2003,
          2004,
          2005,
          2006,
          2007,
          2008,
          2009,
          2010,
          2011,
          2012,
          2013,
          2014,
          2015,
          2016,
          2017,
          2018,
          2019,
          2020,
          2021,
          2022,
          2023,
          2024,
          2025,
          2026,
          2027,
          2028,
          2029,
          2030,
          2031,
          2032,
          2033,
          2034,
          2035,
          2036,
          2037,
          2038,
          2039,
          2040,
          2041,
          2042,
          2043,
          2044,
          2045,
          2046,
          2047,
          2048,
          2049,
          2050,
          2051,
          2052,
          2053,
          2054,
          2055,
          2056,
          2057,
          2058,
          2059,
          2060,
          2061,
          2062,
          2063,
          2064
         ],
         "y": [
          5,
          8,
          11,
          5,
          8,
          11,
          10,
          8,
          13,
          12,
          9,
          7,
          7,
          4,
          9,
          10,
          9,
          12,
          13,
          6,
          14,
          9,
          8,
          5,
          9,
          5,
          9,
          8,
          10,
          11,
          9,
          11,
          8,
          12,
          10,
          17,
          9,
          15,
          10,
          10,
          13,
          7,
          8,
          11,
          9,
          12,
          7,
          10,
          12,
          4,
          4,
          9,
          9,
          4,
          8,
          6,
          9,
          8,
          8,
          12,
          10,
          10,
          3,
          8
         ]
        },
        {
         "name": "Length Beam",
         "type": "bar",
         "x": [
          2001,
          2002,
          2003,
          2004,
          2005,
          2006,
          2007,
          2008,
          2009,
          2010,
          2011,
          2012,
          2013,
          2014,
          2015,
          2016,
          2017,
          2018,
          2019,
          2020,
          2021,
          2022,
          2023,
          2024,
          2025,
          2026,
          2027,
          2028,
          2029,
          2030,
          2031,
          2032,
          2033,
          2034,
          2035,
          2036,
          2037,
          2038,
          2039,
          2040,
          2041,
          2042,
          2043,
          2044,
          2045,
          2046,
          2047,
          2048,
          2049,
          2050,
          2051,
          2052,
          2053,
          2054,
          2055,
          2056,
          2057,
          2058,
          2059,
          2060,
          2061,
          2062,
          2063,
          2064
         ],
         "y": [
          10,
          8,
          10,
          12,
          14,
          10,
          11,
          12,
          8,
          9,
          9,
          11,
          10,
          9,
          9,
          10,
          12,
          11,
          10,
          9,
          11,
          11,
          12,
          12,
          10,
          11,
          8,
          10,
          12,
          9,
          7,
          9,
          8,
          10,
          9,
          12,
          9,
          9,
          10,
          8,
          10,
          10,
          9,
          10,
          9,
          11,
          10,
          10,
          7,
          9,
          10,
          8,
          11,
          11,
          7,
          12,
          11,
          10,
          11,
          14,
          9,
          8,
          12,
          8
         ]
        }
       ],
       "layout": {
        "bargap": 0.1,
        "bargroupgap": 0.3,
        "barmode": "group",
        "template": {
         "data": {
          "bar": [
           {
            "error_x": {
             "color": "#2a3f5f"
            },
            "error_y": {
             "color": "#2a3f5f"
            },
            "marker": {
             "line": {
              "color": "#E5ECF6",
              "width": 0.5
             },
             "pattern": {
              "fillmode": "overlay",
              "size": 10,
              "solidity": 0.2
             }
            },
            "type": "bar"
           }
          ],
          "barpolar": [
           {
            "marker": {
             "line": {
              "color": "#E5ECF6",
              "width": 0.5
             },
             "pattern": {
              "fillmode": "overlay",
              "size": 10,
              "solidity": 0.2
             }
            },
            "type": "barpolar"
           }
          ],
          "carpet": [
           {
            "aaxis": {
             "endlinecolor": "#2a3f5f",
             "gridcolor": "white",
             "linecolor": "white",
             "minorgridcolor": "white",
             "startlinecolor": "#2a3f5f"
            },
            "baxis": {
             "endlinecolor": "#2a3f5f",
             "gridcolor": "white",
             "linecolor": "white",
             "minorgridcolor": "white",
             "startlinecolor": "#2a3f5f"
            },
            "type": "carpet"
           }
          ],
          "choropleth": [
           {
            "colorbar": {
             "outlinewidth": 0,
             "ticks": ""
            },
            "type": "choropleth"
           }
          ],
          "contour": [
           {
            "colorbar": {
             "outlinewidth": 0,
             "ticks": ""
            },
            "colorscale": [
             [
              0,
              "#0d0887"
             ],
             [
              0.1111111111111111,
              "#46039f"
             ],
             [
              0.2222222222222222,
              "#7201a8"
             ],
             [
              0.3333333333333333,
              "#9c179e"
             ],
             [
              0.4444444444444444,
              "#bd3786"
             ],
             [
              0.5555555555555556,
              "#d8576b"
             ],
             [
              0.6666666666666666,
              "#ed7953"
             ],
             [
              0.7777777777777778,
              "#fb9f3a"
             ],
             [
              0.8888888888888888,
              "#fdca26"
             ],
             [
              1,
              "#f0f921"
             ]
            ],
            "type": "contour"
           }
          ],
          "contourcarpet": [
           {
            "colorbar": {
             "outlinewidth": 0,
             "ticks": ""
            },
            "type": "contourcarpet"
           }
          ],
          "heatmap": [
           {
            "colorbar": {
             "outlinewidth": 0,
             "ticks": ""
            },
            "colorscale": [
             [
              0,
              "#0d0887"
             ],
             [
              0.1111111111111111,
              "#46039f"
             ],
             [
              0.2222222222222222,
              "#7201a8"
             ],
             [
              0.3333333333333333,
              "#9c179e"
             ],
             [
              0.4444444444444444,
              "#bd3786"
             ],
             [
              0.5555555555555556,
              "#d8576b"
             ],
             [
              0.6666666666666666,
              "#ed7953"
             ],
             [
              0.7777777777777778,
              "#fb9f3a"
             ],
             [
              0.8888888888888888,
              "#fdca26"
             ],
             [
              1,
              "#f0f921"
             ]
            ],
            "type": "heatmap"
           }
          ],
          "heatmapgl": [
           {
            "colorbar": {
             "outlinewidth": 0,
             "ticks": ""
            },
            "colorscale": [
             [
              0,
              "#0d0887"
             ],
             [
              0.1111111111111111,
              "#46039f"
             ],
             [
              0.2222222222222222,
              "#7201a8"
             ],
             [
              0.3333333333333333,
              "#9c179e"
             ],
             [
              0.4444444444444444,
              "#bd3786"
             ],
             [
              0.5555555555555556,
              "#d8576b"
             ],
             [
              0.6666666666666666,
              "#ed7953"
             ],
             [
              0.7777777777777778,
              "#fb9f3a"
             ],
             [
              0.8888888888888888,
              "#fdca26"
             ],
             [
              1,
              "#f0f921"
             ]
            ],
            "type": "heatmapgl"
           }
          ],
          "histogram": [
           {
            "marker": {
             "pattern": {
              "fillmode": "overlay",
              "size": 10,
              "solidity": 0.2
             }
            },
            "type": "histogram"
           }
          ],
          "histogram2d": [
           {
            "colorbar": {
             "outlinewidth": 0,
             "ticks": ""
            },
            "colorscale": [
             [
              0,
              "#0d0887"
             ],
             [
              0.1111111111111111,
              "#46039f"
             ],
             [
              0.2222222222222222,
              "#7201a8"
             ],
             [
              0.3333333333333333,
              "#9c179e"
             ],
             [
              0.4444444444444444,
              "#bd3786"
             ],
             [
              0.5555555555555556,
              "#d8576b"
             ],
             [
              0.6666666666666666,
              "#ed7953"
             ],
             [
              0.7777777777777778,
              "#fb9f3a"
             ],
             [
              0.8888888888888888,
              "#fdca26"
             ],
             [
              1,
              "#f0f921"
             ]
            ],
            "type": "histogram2d"
           }
          ],
          "histogram2dcontour": [
           {
            "colorbar": {
             "outlinewidth": 0,
             "ticks": ""
            },
            "colorscale": [
             [
              0,
              "#0d0887"
             ],
             [
              0.1111111111111111,
              "#46039f"
             ],
             [
              0.2222222222222222,
              "#7201a8"
             ],
             [
              0.3333333333333333,
              "#9c179e"
             ],
             [
              0.4444444444444444,
              "#bd3786"
             ],
             [
              0.5555555555555556,
              "#d8576b"
             ],
             [
              0.6666666666666666,
              "#ed7953"
             ],
             [
              0.7777777777777778,
              "#fb9f3a"
             ],
             [
              0.8888888888888888,
              "#fdca26"
             ],
             [
              1,
              "#f0f921"
             ]
            ],
            "type": "histogram2dcontour"
           }
          ],
          "mesh3d": [
           {
            "colorbar": {
             "outlinewidth": 0,
             "ticks": ""
            },
            "type": "mesh3d"
           }
          ],
          "parcoords": [
           {
            "line": {
             "colorbar": {
              "outlinewidth": 0,
              "ticks": ""
             }
            },
            "type": "parcoords"
           }
          ],
          "pie": [
           {
            "automargin": true,
            "type": "pie"
           }
          ],
          "scatter": [
           {
            "fillpattern": {
             "fillmode": "overlay",
             "size": 10,
             "solidity": 0.2
            },
            "type": "scatter"
           }
          ],
          "scatter3d": [
           {
            "line": {
             "colorbar": {
              "outlinewidth": 0,
              "ticks": ""
             }
            },
            "marker": {
             "colorbar": {
              "outlinewidth": 0,
              "ticks": ""
             }
            },
            "type": "scatter3d"
           }
          ],
          "scattercarpet": [
           {
            "marker": {
             "colorbar": {
              "outlinewidth": 0,
              "ticks": ""
             }
            },
            "type": "scattercarpet"
           }
          ],
          "scattergeo": [
           {
            "marker": {
             "colorbar": {
              "outlinewidth": 0,
              "ticks": ""
             }
            },
            "type": "scattergeo"
           }
          ],
          "scattergl": [
           {
            "marker": {
             "colorbar": {
              "outlinewidth": 0,
              "ticks": ""
             }
            },
            "type": "scattergl"
           }
          ],
          "scattermapbox": [
           {
            "marker": {
             "colorbar": {
              "outlinewidth": 0,
              "ticks": ""
             }
            },
            "type": "scattermapbox"
           }
          ],
          "scatterpolar": [
           {
            "marker": {
             "colorbar": {
              "outlinewidth": 0,
              "ticks": ""
             }
            },
            "type": "scatterpolar"
           }
          ],
          "scatterpolargl": [
           {
            "marker": {
             "colorbar": {
              "outlinewidth": 0,
              "ticks": ""
             }
            },
            "type": "scatterpolargl"
           }
          ],
          "scatterternary": [
           {
            "marker": {
             "colorbar": {
              "outlinewidth": 0,
              "ticks": ""
             }
            },
            "type": "scatterternary"
           }
          ],
          "surface": [
           {
            "colorbar": {
             "outlinewidth": 0,
             "ticks": ""
            },
            "colorscale": [
             [
              0,
              "#0d0887"
             ],
             [
              0.1111111111111111,
              "#46039f"
             ],
             [
              0.2222222222222222,
              "#7201a8"
             ],
             [
              0.3333333333333333,
              "#9c179e"
             ],
             [
              0.4444444444444444,
              "#bd3786"
             ],
             [
              0.5555555555555556,
              "#d8576b"
             ],
             [
              0.6666666666666666,
              "#ed7953"
             ],
             [
              0.7777777777777778,
              "#fb9f3a"
             ],
             [
              0.8888888888888888,
              "#fdca26"
             ],
             [
              1,
              "#f0f921"
             ]
            ],
            "type": "surface"
           }
          ],
          "table": [
           {
            "cells": {
             "fill": {
              "color": "#EBF0F8"
             },
             "line": {
              "color": "white"
             }
            },
            "header": {
             "fill": {
              "color": "#C8D4E3"
             },
             "line": {
              "color": "white"
             }
            },
            "type": "table"
           }
          ]
         },
         "layout": {
          "annotationdefaults": {
           "arrowcolor": "#2a3f5f",
           "arrowhead": 0,
           "arrowwidth": 1
          },
          "autotypenumbers": "strict",
          "coloraxis": {
           "colorbar": {
            "outlinewidth": 0,
            "ticks": ""
           }
          },
          "colorscale": {
           "diverging": [
            [
             0,
             "#8e0152"
            ],
            [
             0.1,
             "#c51b7d"
            ],
            [
             0.2,
             "#de77ae"
            ],
            [
             0.3,
             "#f1b6da"
            ],
            [
             0.4,
             "#fde0ef"
            ],
            [
             0.5,
             "#f7f7f7"
            ],
            [
             0.6,
             "#e6f5d0"
            ],
            [
             0.7,
             "#b8e186"
            ],
            [
             0.8,
             "#7fbc41"
            ],
            [
             0.9,
             "#4d9221"
            ],
            [
             1,
             "#276419"
            ]
           ],
           "sequential": [
            [
             0,
             "#0d0887"
            ],
            [
             0.1111111111111111,
             "#46039f"
            ],
            [
             0.2222222222222222,
             "#7201a8"
            ],
            [
             0.3333333333333333,
             "#9c179e"
            ],
            [
             0.4444444444444444,
             "#bd3786"
            ],
            [
             0.5555555555555556,
             "#d8576b"
            ],
            [
             0.6666666666666666,
             "#ed7953"
            ],
            [
             0.7777777777777778,
             "#fb9f3a"
            ],
            [
             0.8888888888888888,
             "#fdca26"
            ],
            [
             1,
             "#f0f921"
            ]
           ],
           "sequentialminus": [
            [
             0,
             "#0d0887"
            ],
            [
             0.1111111111111111,
             "#46039f"
            ],
            [
             0.2222222222222222,
             "#7201a8"
            ],
            [
             0.3333333333333333,
             "#9c179e"
            ],
            [
             0.4444444444444444,
             "#bd3786"
            ],
            [
             0.5555555555555556,
             "#d8576b"
            ],
            [
             0.6666666666666666,
             "#ed7953"
            ],
            [
             0.7777777777777778,
             "#fb9f3a"
            ],
            [
             0.8888888888888888,
             "#fdca26"
            ],
            [
             1,
             "#f0f921"
            ]
           ]
          },
          "colorway": [
           "#636efa",
           "#EF553B",
           "#00cc96",
           "#ab63fa",
           "#FFA15A",
           "#19d3f3",
           "#FF6692",
           "#B6E880",
           "#FF97FF",
           "#FECB52"
          ],
          "font": {
           "color": "#2a3f5f"
          },
          "geo": {
           "bgcolor": "white",
           "lakecolor": "white",
           "landcolor": "#E5ECF6",
           "showlakes": true,
           "showland": true,
           "subunitcolor": "white"
          },
          "hoverlabel": {
           "align": "left"
          },
          "hovermode": "closest",
          "mapbox": {
           "style": "light"
          },
          "paper_bgcolor": "white",
          "plot_bgcolor": "#E5ECF6",
          "polar": {
           "angularaxis": {
            "gridcolor": "white",
            "linecolor": "white",
            "ticks": ""
           },
           "bgcolor": "#E5ECF6",
           "radialaxis": {
            "gridcolor": "white",
            "linecolor": "white",
            "ticks": ""
           }
          },
          "scene": {
           "xaxis": {
            "backgroundcolor": "#E5ECF6",
            "gridcolor": "white",
            "gridwidth": 2,
            "linecolor": "white",
            "showbackground": true,
            "ticks": "",
            "zerolinecolor": "white"
           },
           "yaxis": {
            "backgroundcolor": "#E5ECF6",
            "gridcolor": "white",
            "gridwidth": 2,
            "linecolor": "white",
            "showbackground": true,
            "ticks": "",
            "zerolinecolor": "white"
           },
           "zaxis": {
            "backgroundcolor": "#E5ECF6",
            "gridcolor": "white",
            "gridwidth": 2,
            "linecolor": "white",
            "showbackground": true,
            "ticks": "",
            "zerolinecolor": "white"
           }
          },
          "shapedefaults": {
           "line": {
            "color": "#2a3f5f"
           }
          },
          "ternary": {
           "aaxis": {
            "gridcolor": "white",
            "linecolor": "white",
            "ticks": ""
           },
           "baxis": {
            "gridcolor": "white",
            "linecolor": "white",
            "ticks": ""
           },
           "bgcolor": "#E5ECF6",
           "caxis": {
            "gridcolor": "white",
            "linecolor": "white",
            "ticks": ""
           }
          },
          "title": {
           "x": 0.05
          },
          "xaxis": {
           "automargin": true,
           "gridcolor": "white",
           "linecolor": "white",
           "ticks": "",
           "title": {
            "standoff": 15
           },
           "zerolinecolor": "white",
           "zerolinewidth": 2
          },
          "yaxis": {
           "automargin": true,
           "gridcolor": "white",
           "linecolor": "white",
           "ticks": "",
           "title": {
            "standoff": 15
           },
           "zerolinecolor": "white",
           "zerolinewidth": 2
          }
         }
        },
        "title": {
         "text": "Grouped Bar Chart of token lengths"
        },
        "width": 1000,
        "xaxis": {
         "title": {
          "text": "Object label"
         }
        },
        "yaxis": {
         "title": {
          "text": "Token length"
         }
        }
       }
      },
      "text/html": [
       "<div>                            <div id=\"9b661ec3-bb5d-47fe-b74a-33cc8bdde25d\" class=\"plotly-graph-div\" style=\"height:525px; width:1000px;\"></div>            <script type=\"text/javascript\">                require([\"plotly\"], function(Plotly) {                    window.PLOTLYENV=window.PLOTLYENV || {};                                    if (document.getElementById(\"9b661ec3-bb5d-47fe-b74a-33cc8bdde25d\")) {                    Plotly.newPlot(                        \"9b661ec3-bb5d-47fe-b74a-33cc8bdde25d\",                        [{\"name\":\"Length Greedy\",\"x\":[2001,2002,2003,2004,2005,2006,2007,2008,2009,2010,2011,2012,2013,2014,2015,2016,2017,2018,2019,2020,2021,2022,2023,2024,2025,2026,2027,2028,2029,2030,2031,2032,2033,2034,2035,2036,2037,2038,2039,2040,2041,2042,2043,2044,2045,2046,2047,2048,2049,2050,2051,2052,2053,2054,2055,2056,2057,2058,2059,2060,2061,2062,2063,2064],\"y\":[10,8,10,8,7,10,7,7,9,8,9,7,9,9,10,9,9,7,10,9,9,8,11,15,9,10,9,9,10,9,7,11,9,10,10,10,9,10,9,8,8,7,8,9,8,12,10,10,10,8,10,10,10,11,7,12,11,6,10,8,8,8,8,7],\"type\":\"bar\"},{\"name\":\"Length Nucleus\",\"x\":[2001,2002,2003,2004,2005,2006,2007,2008,2009,2010,2011,2012,2013,2014,2015,2016,2017,2018,2019,2020,2021,2022,2023,2024,2025,2026,2027,2028,2029,2030,2031,2032,2033,2034,2035,2036,2037,2038,2039,2040,2041,2042,2043,2044,2045,2046,2047,2048,2049,2050,2051,2052,2053,2054,2055,2056,2057,2058,2059,2060,2061,2062,2063,2064],\"y\":[5,8,11,5,8,11,10,8,13,12,9,7,7,4,9,10,9,12,13,6,14,9,8,5,9,5,9,8,10,11,9,11,8,12,10,17,9,15,10,10,13,7,8,11,9,12,7,10,12,4,4,9,9,4,8,6,9,8,8,12,10,10,3,8],\"type\":\"bar\"},{\"name\":\"Length Beam\",\"x\":[2001,2002,2003,2004,2005,2006,2007,2008,2009,2010,2011,2012,2013,2014,2015,2016,2017,2018,2019,2020,2021,2022,2023,2024,2025,2026,2027,2028,2029,2030,2031,2032,2033,2034,2035,2036,2037,2038,2039,2040,2041,2042,2043,2044,2045,2046,2047,2048,2049,2050,2051,2052,2053,2054,2055,2056,2057,2058,2059,2060,2061,2062,2063,2064],\"y\":[10,8,10,12,14,10,11,12,8,9,9,11,10,9,9,10,12,11,10,9,11,11,12,12,10,11,8,10,12,9,7,9,8,10,9,12,9,9,10,8,10,10,9,10,9,11,10,10,7,9,10,8,11,11,7,12,11,10,11,14,9,8,12,8],\"type\":\"bar\"}],                        {\"template\":{\"data\":{\"histogram2dcontour\":[{\"type\":\"histogram2dcontour\",\"colorbar\":{\"outlinewidth\":0,\"ticks\":\"\"},\"colorscale\":[[0.0,\"#0d0887\"],[0.1111111111111111,\"#46039f\"],[0.2222222222222222,\"#7201a8\"],[0.3333333333333333,\"#9c179e\"],[0.4444444444444444,\"#bd3786\"],[0.5555555555555556,\"#d8576b\"],[0.6666666666666666,\"#ed7953\"],[0.7777777777777778,\"#fb9f3a\"],[0.8888888888888888,\"#fdca26\"],[1.0,\"#f0f921\"]]}],\"choropleth\":[{\"type\":\"choropleth\",\"colorbar\":{\"outlinewidth\":0,\"ticks\":\"\"}}],\"histogram2d\":[{\"type\":\"histogram2d\",\"colorbar\":{\"outlinewidth\":0,\"ticks\":\"\"},\"colorscale\":[[0.0,\"#0d0887\"],[0.1111111111111111,\"#46039f\"],[0.2222222222222222,\"#7201a8\"],[0.3333333333333333,\"#9c179e\"],[0.4444444444444444,\"#bd3786\"],[0.5555555555555556,\"#d8576b\"],[0.6666666666666666,\"#ed7953\"],[0.7777777777777778,\"#fb9f3a\"],[0.8888888888888888,\"#fdca26\"],[1.0,\"#f0f921\"]]}],\"heatmap\":[{\"type\":\"heatmap\",\"colorbar\":{\"outlinewidth\":0,\"ticks\":\"\"},\"colorscale\":[[0.0,\"#0d0887\"],[0.1111111111111111,\"#46039f\"],[0.2222222222222222,\"#7201a8\"],[0.3333333333333333,\"#9c179e\"],[0.4444444444444444,\"#bd3786\"],[0.5555555555555556,\"#d8576b\"],[0.6666666666666666,\"#ed7953\"],[0.7777777777777778,\"#fb9f3a\"],[0.8888888888888888,\"#fdca26\"],[1.0,\"#f0f921\"]]}],\"heatmapgl\":[{\"type\":\"heatmapgl\",\"colorbar\":{\"outlinewidth\":0,\"ticks\":\"\"},\"colorscale\":[[0.0,\"#0d0887\"],[0.1111111111111111,\"#46039f\"],[0.2222222222222222,\"#7201a8\"],[0.3333333333333333,\"#9c179e\"],[0.4444444444444444,\"#bd3786\"],[0.5555555555555556,\"#d8576b\"],[0.6666666666666666,\"#ed7953\"],[0.7777777777777778,\"#fb9f3a\"],[0.8888888888888888,\"#fdca26\"],[1.0,\"#f0f921\"]]}],\"contourcarpet\":[{\"type\":\"contourcarpet\",\"colorbar\":{\"outlinewidth\":0,\"ticks\":\"\"}}],\"contour\":[{\"type\":\"contour\",\"colorbar\":{\"outlinewidth\":0,\"ticks\":\"\"},\"colorscale\":[[0.0,\"#0d0887\"],[0.1111111111111111,\"#46039f\"],[0.2222222222222222,\"#7201a8\"],[0.3333333333333333,\"#9c179e\"],[0.4444444444444444,\"#bd3786\"],[0.5555555555555556,\"#d8576b\"],[0.6666666666666666,\"#ed7953\"],[0.7777777777777778,\"#fb9f3a\"],[0.8888888888888888,\"#fdca26\"],[1.0,\"#f0f921\"]]}],\"surface\":[{\"type\":\"surface\",\"colorbar\":{\"outlinewidth\":0,\"ticks\":\"\"},\"colorscale\":[[0.0,\"#0d0887\"],[0.1111111111111111,\"#46039f\"],[0.2222222222222222,\"#7201a8\"],[0.3333333333333333,\"#9c179e\"],[0.4444444444444444,\"#bd3786\"],[0.5555555555555556,\"#d8576b\"],[0.6666666666666666,\"#ed7953\"],[0.7777777777777778,\"#fb9f3a\"],[0.8888888888888888,\"#fdca26\"],[1.0,\"#f0f921\"]]}],\"mesh3d\":[{\"type\":\"mesh3d\",\"colorbar\":{\"outlinewidth\":0,\"ticks\":\"\"}}],\"scatter\":[{\"fillpattern\":{\"fillmode\":\"overlay\",\"size\":10,\"solidity\":0.2},\"type\":\"scatter\"}],\"parcoords\":[{\"type\":\"parcoords\",\"line\":{\"colorbar\":{\"outlinewidth\":0,\"ticks\":\"\"}}}],\"scatterpolargl\":[{\"type\":\"scatterpolargl\",\"marker\":{\"colorbar\":{\"outlinewidth\":0,\"ticks\":\"\"}}}],\"bar\":[{\"error_x\":{\"color\":\"#2a3f5f\"},\"error_y\":{\"color\":\"#2a3f5f\"},\"marker\":{\"line\":{\"color\":\"#E5ECF6\",\"width\":0.5},\"pattern\":{\"fillmode\":\"overlay\",\"size\":10,\"solidity\":0.2}},\"type\":\"bar\"}],\"scattergeo\":[{\"type\":\"scattergeo\",\"marker\":{\"colorbar\":{\"outlinewidth\":0,\"ticks\":\"\"}}}],\"scatterpolar\":[{\"type\":\"scatterpolar\",\"marker\":{\"colorbar\":{\"outlinewidth\":0,\"ticks\":\"\"}}}],\"histogram\":[{\"marker\":{\"pattern\":{\"fillmode\":\"overlay\",\"size\":10,\"solidity\":0.2}},\"type\":\"histogram\"}],\"scattergl\":[{\"type\":\"scattergl\",\"marker\":{\"colorbar\":{\"outlinewidth\":0,\"ticks\":\"\"}}}],\"scatter3d\":[{\"type\":\"scatter3d\",\"line\":{\"colorbar\":{\"outlinewidth\":0,\"ticks\":\"\"}},\"marker\":{\"colorbar\":{\"outlinewidth\":0,\"ticks\":\"\"}}}],\"scattermapbox\":[{\"type\":\"scattermapbox\",\"marker\":{\"colorbar\":{\"outlinewidth\":0,\"ticks\":\"\"}}}],\"scatterternary\":[{\"type\":\"scatterternary\",\"marker\":{\"colorbar\":{\"outlinewidth\":0,\"ticks\":\"\"}}}],\"scattercarpet\":[{\"type\":\"scattercarpet\",\"marker\":{\"colorbar\":{\"outlinewidth\":0,\"ticks\":\"\"}}}],\"carpet\":[{\"aaxis\":{\"endlinecolor\":\"#2a3f5f\",\"gridcolor\":\"white\",\"linecolor\":\"white\",\"minorgridcolor\":\"white\",\"startlinecolor\":\"#2a3f5f\"},\"baxis\":{\"endlinecolor\":\"#2a3f5f\",\"gridcolor\":\"white\",\"linecolor\":\"white\",\"minorgridcolor\":\"white\",\"startlinecolor\":\"#2a3f5f\"},\"type\":\"carpet\"}],\"table\":[{\"cells\":{\"fill\":{\"color\":\"#EBF0F8\"},\"line\":{\"color\":\"white\"}},\"header\":{\"fill\":{\"color\":\"#C8D4E3\"},\"line\":{\"color\":\"white\"}},\"type\":\"table\"}],\"barpolar\":[{\"marker\":{\"line\":{\"color\":\"#E5ECF6\",\"width\":0.5},\"pattern\":{\"fillmode\":\"overlay\",\"size\":10,\"solidity\":0.2}},\"type\":\"barpolar\"}],\"pie\":[{\"automargin\":true,\"type\":\"pie\"}]},\"layout\":{\"autotypenumbers\":\"strict\",\"colorway\":[\"#636efa\",\"#EF553B\",\"#00cc96\",\"#ab63fa\",\"#FFA15A\",\"#19d3f3\",\"#FF6692\",\"#B6E880\",\"#FF97FF\",\"#FECB52\"],\"font\":{\"color\":\"#2a3f5f\"},\"hovermode\":\"closest\",\"hoverlabel\":{\"align\":\"left\"},\"paper_bgcolor\":\"white\",\"plot_bgcolor\":\"#E5ECF6\",\"polar\":{\"bgcolor\":\"#E5ECF6\",\"angularaxis\":{\"gridcolor\":\"white\",\"linecolor\":\"white\",\"ticks\":\"\"},\"radialaxis\":{\"gridcolor\":\"white\",\"linecolor\":\"white\",\"ticks\":\"\"}},\"ternary\":{\"bgcolor\":\"#E5ECF6\",\"aaxis\":{\"gridcolor\":\"white\",\"linecolor\":\"white\",\"ticks\":\"\"},\"baxis\":{\"gridcolor\":\"white\",\"linecolor\":\"white\",\"ticks\":\"\"},\"caxis\":{\"gridcolor\":\"white\",\"linecolor\":\"white\",\"ticks\":\"\"}},\"coloraxis\":{\"colorbar\":{\"outlinewidth\":0,\"ticks\":\"\"}},\"colorscale\":{\"sequential\":[[0.0,\"#0d0887\"],[0.1111111111111111,\"#46039f\"],[0.2222222222222222,\"#7201a8\"],[0.3333333333333333,\"#9c179e\"],[0.4444444444444444,\"#bd3786\"],[0.5555555555555556,\"#d8576b\"],[0.6666666666666666,\"#ed7953\"],[0.7777777777777778,\"#fb9f3a\"],[0.8888888888888888,\"#fdca26\"],[1.0,\"#f0f921\"]],\"sequentialminus\":[[0.0,\"#0d0887\"],[0.1111111111111111,\"#46039f\"],[0.2222222222222222,\"#7201a8\"],[0.3333333333333333,\"#9c179e\"],[0.4444444444444444,\"#bd3786\"],[0.5555555555555556,\"#d8576b\"],[0.6666666666666666,\"#ed7953\"],[0.7777777777777778,\"#fb9f3a\"],[0.8888888888888888,\"#fdca26\"],[1.0,\"#f0f921\"]],\"diverging\":[[0,\"#8e0152\"],[0.1,\"#c51b7d\"],[0.2,\"#de77ae\"],[0.3,\"#f1b6da\"],[0.4,\"#fde0ef\"],[0.5,\"#f7f7f7\"],[0.6,\"#e6f5d0\"],[0.7,\"#b8e186\"],[0.8,\"#7fbc41\"],[0.9,\"#4d9221\"],[1,\"#276419\"]]},\"xaxis\":{\"gridcolor\":\"white\",\"linecolor\":\"white\",\"ticks\":\"\",\"title\":{\"standoff\":15},\"zerolinecolor\":\"white\",\"automargin\":true,\"zerolinewidth\":2},\"yaxis\":{\"gridcolor\":\"white\",\"linecolor\":\"white\",\"ticks\":\"\",\"title\":{\"standoff\":15},\"zerolinecolor\":\"white\",\"automargin\":true,\"zerolinewidth\":2},\"scene\":{\"xaxis\":{\"backgroundcolor\":\"#E5ECF6\",\"gridcolor\":\"white\",\"linecolor\":\"white\",\"showbackground\":true,\"ticks\":\"\",\"zerolinecolor\":\"white\",\"gridwidth\":2},\"yaxis\":{\"backgroundcolor\":\"#E5ECF6\",\"gridcolor\":\"white\",\"linecolor\":\"white\",\"showbackground\":true,\"ticks\":\"\",\"zerolinecolor\":\"white\",\"gridwidth\":2},\"zaxis\":{\"backgroundcolor\":\"#E5ECF6\",\"gridcolor\":\"white\",\"linecolor\":\"white\",\"showbackground\":true,\"ticks\":\"\",\"zerolinecolor\":\"white\",\"gridwidth\":2}},\"shapedefaults\":{\"line\":{\"color\":\"#2a3f5f\"}},\"annotationdefaults\":{\"arrowcolor\":\"#2a3f5f\",\"arrowhead\":0,\"arrowwidth\":1},\"geo\":{\"bgcolor\":\"white\",\"landcolor\":\"#E5ECF6\",\"subunitcolor\":\"white\",\"showland\":true,\"showlakes\":true,\"lakecolor\":\"white\"},\"title\":{\"x\":0.05},\"mapbox\":{\"style\":\"light\"}}},\"width\":1000,\"title\":{\"text\":\"Grouped Bar Chart of token lengths\"},\"xaxis\":{\"title\":{\"text\":\"Object label\"}},\"yaxis\":{\"title\":{\"text\":\"Token length\"}},\"barmode\":\"group\",\"bargap\":0.1,\"bargroupgap\":0.3},                        {\"responsive\": true}                    ).then(function(){\n",
       "                            \n",
       "var gd = document.getElementById('9b661ec3-bb5d-47fe-b74a-33cc8bdde25d');\n",
       "var x = new MutationObserver(function (mutations, observer) {{\n",
       "        var display = window.getComputedStyle(gd).display;\n",
       "        if (!display || display === 'none') {{\n",
       "            console.log([gd, 'removed!']);\n",
       "            Plotly.purge(gd);\n",
       "            observer.disconnect();\n",
       "        }}\n",
       "}});\n",
       "\n",
       "// Listen for the removal of the full notebook cells\n",
       "var notebookContainer = gd.closest('#notebook-container');\n",
       "if (notebookContainer) {{\n",
       "    x.observe(notebookContainer, {childList: true});\n",
       "}}\n",
       "\n",
       "// Listen for the clearing of the current output cell\n",
       "var outputEl = gd.closest('.output');\n",
       "if (outputEl) {{\n",
       "    x.observe(outputEl, {childList: true});\n",
       "}}\n",
       "\n",
       "                        })                };                });            </script>        </div>"
      ]
     },
     "metadata": {},
     "output_type": "display_data"
    }
   ],
   "source": [
    "import plotly.graph_objects as go\n",
    "import pandas as pd\n",
    "\n",
    "# Assuming your dataframe is called 'df'\n",
    "# You can load your data into a dataframe using pd.read_csv() or any other method\n",
    "\n",
    "# Create a list of row indices to use as labels for x-axis\n",
    "labels = data['number label'].tolist()\n",
    "\n",
    "# Create a figure object\n",
    "fig = go.Figure()\n",
    "\n",
    "# Add the bars for each length column\n",
    "fig.add_trace(go.Bar(x=labels, y=data['length greedy'], name='Length Greedy'))\n",
    "fig.add_trace(go.Bar(x=labels, y=data['length nucleus'], name='Length Nucleus'))\n",
    "fig.add_trace(go.Bar(x=labels, y=data['length beam'], name='Length Beam'))\n",
    "\n",
    "# Update the layout\n",
    "fig.update_layout(\n",
    "    width=1000,\n",
    "    title='Grouped Bar Chart of token lengths',\n",
    "    xaxis_title='Object label',\n",
    "    yaxis_title='Token length',\n",
    "    barmode='group',  # Set the bar mode to 'group' for grouped bars\n",
    "    bargap=0.1,  # Adjust the spacing between bars within each group\n",
    "    bargroupgap=0.3  # Adjust the spacing between groups\n",
    ")\n",
    "\n",
    "# Show the plot\n",
    "fig.show()\n",
    "\n",
    "# # Save the plot as JSON\n",
    "fig_json = fig.to_json()\n",
    "with open('token_length.json', 'w') as file:\n",
    "    file.write(fig_json)"
   ]
  },
  {
   "cell_type": "code",
   "execution_count": 59,
   "metadata": {},
   "outputs": [
    {
     "data": {
      "application/vnd.plotly.v1+json": {
       "config": {
        "plotlyServerURL": "https://plot.ly"
       },
       "data": [
        {
         "alignmentgroup": "True",
         "hovertemplate": "Column=%{x}<br>Count=%{y}<extra></extra>",
         "legendgroup": "",
         "marker": {
          "color": "#636efa",
          "pattern": {
           "shape": ""
          }
         },
         "name": "",
         "offsetgroup": "",
         "orientation": "v",
         "showlegend": false,
         "textposition": "auto",
         "type": "bar",
         "x": [
          "BLIP-2, greedy, bool",
          "BLIP-2, beam, bool",
          "BLIP-2, nucleus, bool"
         ],
         "xaxis": "x",
         "y": [
          64,
          23,
          40
         ],
         "yaxis": "y"
        }
       ],
       "layout": {
        "barmode": "relative",
        "legend": {
         "tracegroupgap": 0
        },
        "margin": {
         "t": 60
        },
        "template": {
         "data": {
          "bar": [
           {
            "error_x": {
             "color": "#2a3f5f"
            },
            "error_y": {
             "color": "#2a3f5f"
            },
            "marker": {
             "line": {
              "color": "#E5ECF6",
              "width": 0.5
             },
             "pattern": {
              "fillmode": "overlay",
              "size": 10,
              "solidity": 0.2
             }
            },
            "type": "bar"
           }
          ],
          "barpolar": [
           {
            "marker": {
             "line": {
              "color": "#E5ECF6",
              "width": 0.5
             },
             "pattern": {
              "fillmode": "overlay",
              "size": 10,
              "solidity": 0.2
             }
            },
            "type": "barpolar"
           }
          ],
          "carpet": [
           {
            "aaxis": {
             "endlinecolor": "#2a3f5f",
             "gridcolor": "white",
             "linecolor": "white",
             "minorgridcolor": "white",
             "startlinecolor": "#2a3f5f"
            },
            "baxis": {
             "endlinecolor": "#2a3f5f",
             "gridcolor": "white",
             "linecolor": "white",
             "minorgridcolor": "white",
             "startlinecolor": "#2a3f5f"
            },
            "type": "carpet"
           }
          ],
          "choropleth": [
           {
            "colorbar": {
             "outlinewidth": 0,
             "ticks": ""
            },
            "type": "choropleth"
           }
          ],
          "contour": [
           {
            "colorbar": {
             "outlinewidth": 0,
             "ticks": ""
            },
            "colorscale": [
             [
              0,
              "#0d0887"
             ],
             [
              0.1111111111111111,
              "#46039f"
             ],
             [
              0.2222222222222222,
              "#7201a8"
             ],
             [
              0.3333333333333333,
              "#9c179e"
             ],
             [
              0.4444444444444444,
              "#bd3786"
             ],
             [
              0.5555555555555556,
              "#d8576b"
             ],
             [
              0.6666666666666666,
              "#ed7953"
             ],
             [
              0.7777777777777778,
              "#fb9f3a"
             ],
             [
              0.8888888888888888,
              "#fdca26"
             ],
             [
              1,
              "#f0f921"
             ]
            ],
            "type": "contour"
           }
          ],
          "contourcarpet": [
           {
            "colorbar": {
             "outlinewidth": 0,
             "ticks": ""
            },
            "type": "contourcarpet"
           }
          ],
          "heatmap": [
           {
            "colorbar": {
             "outlinewidth": 0,
             "ticks": ""
            },
            "colorscale": [
             [
              0,
              "#0d0887"
             ],
             [
              0.1111111111111111,
              "#46039f"
             ],
             [
              0.2222222222222222,
              "#7201a8"
             ],
             [
              0.3333333333333333,
              "#9c179e"
             ],
             [
              0.4444444444444444,
              "#bd3786"
             ],
             [
              0.5555555555555556,
              "#d8576b"
             ],
             [
              0.6666666666666666,
              "#ed7953"
             ],
             [
              0.7777777777777778,
              "#fb9f3a"
             ],
             [
              0.8888888888888888,
              "#fdca26"
             ],
             [
              1,
              "#f0f921"
             ]
            ],
            "type": "heatmap"
           }
          ],
          "heatmapgl": [
           {
            "colorbar": {
             "outlinewidth": 0,
             "ticks": ""
            },
            "colorscale": [
             [
              0,
              "#0d0887"
             ],
             [
              0.1111111111111111,
              "#46039f"
             ],
             [
              0.2222222222222222,
              "#7201a8"
             ],
             [
              0.3333333333333333,
              "#9c179e"
             ],
             [
              0.4444444444444444,
              "#bd3786"
             ],
             [
              0.5555555555555556,
              "#d8576b"
             ],
             [
              0.6666666666666666,
              "#ed7953"
             ],
             [
              0.7777777777777778,
              "#fb9f3a"
             ],
             [
              0.8888888888888888,
              "#fdca26"
             ],
             [
              1,
              "#f0f921"
             ]
            ],
            "type": "heatmapgl"
           }
          ],
          "histogram": [
           {
            "marker": {
             "pattern": {
              "fillmode": "overlay",
              "size": 10,
              "solidity": 0.2
             }
            },
            "type": "histogram"
           }
          ],
          "histogram2d": [
           {
            "colorbar": {
             "outlinewidth": 0,
             "ticks": ""
            },
            "colorscale": [
             [
              0,
              "#0d0887"
             ],
             [
              0.1111111111111111,
              "#46039f"
             ],
             [
              0.2222222222222222,
              "#7201a8"
             ],
             [
              0.3333333333333333,
              "#9c179e"
             ],
             [
              0.4444444444444444,
              "#bd3786"
             ],
             [
              0.5555555555555556,
              "#d8576b"
             ],
             [
              0.6666666666666666,
              "#ed7953"
             ],
             [
              0.7777777777777778,
              "#fb9f3a"
             ],
             [
              0.8888888888888888,
              "#fdca26"
             ],
             [
              1,
              "#f0f921"
             ]
            ],
            "type": "histogram2d"
           }
          ],
          "histogram2dcontour": [
           {
            "colorbar": {
             "outlinewidth": 0,
             "ticks": ""
            },
            "colorscale": [
             [
              0,
              "#0d0887"
             ],
             [
              0.1111111111111111,
              "#46039f"
             ],
             [
              0.2222222222222222,
              "#7201a8"
             ],
             [
              0.3333333333333333,
              "#9c179e"
             ],
             [
              0.4444444444444444,
              "#bd3786"
             ],
             [
              0.5555555555555556,
              "#d8576b"
             ],
             [
              0.6666666666666666,
              "#ed7953"
             ],
             [
              0.7777777777777778,
              "#fb9f3a"
             ],
             [
              0.8888888888888888,
              "#fdca26"
             ],
             [
              1,
              "#f0f921"
             ]
            ],
            "type": "histogram2dcontour"
           }
          ],
          "mesh3d": [
           {
            "colorbar": {
             "outlinewidth": 0,
             "ticks": ""
            },
            "type": "mesh3d"
           }
          ],
          "parcoords": [
           {
            "line": {
             "colorbar": {
              "outlinewidth": 0,
              "ticks": ""
             }
            },
            "type": "parcoords"
           }
          ],
          "pie": [
           {
            "automargin": true,
            "type": "pie"
           }
          ],
          "scatter": [
           {
            "fillpattern": {
             "fillmode": "overlay",
             "size": 10,
             "solidity": 0.2
            },
            "type": "scatter"
           }
          ],
          "scatter3d": [
           {
            "line": {
             "colorbar": {
              "outlinewidth": 0,
              "ticks": ""
             }
            },
            "marker": {
             "colorbar": {
              "outlinewidth": 0,
              "ticks": ""
             }
            },
            "type": "scatter3d"
           }
          ],
          "scattercarpet": [
           {
            "marker": {
             "colorbar": {
              "outlinewidth": 0,
              "ticks": ""
             }
            },
            "type": "scattercarpet"
           }
          ],
          "scattergeo": [
           {
            "marker": {
             "colorbar": {
              "outlinewidth": 0,
              "ticks": ""
             }
            },
            "type": "scattergeo"
           }
          ],
          "scattergl": [
           {
            "marker": {
             "colorbar": {
              "outlinewidth": 0,
              "ticks": ""
             }
            },
            "type": "scattergl"
           }
          ],
          "scattermapbox": [
           {
            "marker": {
             "colorbar": {
              "outlinewidth": 0,
              "ticks": ""
             }
            },
            "type": "scattermapbox"
           }
          ],
          "scatterpolar": [
           {
            "marker": {
             "colorbar": {
              "outlinewidth": 0,
              "ticks": ""
             }
            },
            "type": "scatterpolar"
           }
          ],
          "scatterpolargl": [
           {
            "marker": {
             "colorbar": {
              "outlinewidth": 0,
              "ticks": ""
             }
            },
            "type": "scatterpolargl"
           }
          ],
          "scatterternary": [
           {
            "marker": {
             "colorbar": {
              "outlinewidth": 0,
              "ticks": ""
             }
            },
            "type": "scatterternary"
           }
          ],
          "surface": [
           {
            "colorbar": {
             "outlinewidth": 0,
             "ticks": ""
            },
            "colorscale": [
             [
              0,
              "#0d0887"
             ],
             [
              0.1111111111111111,
              "#46039f"
             ],
             [
              0.2222222222222222,
              "#7201a8"
             ],
             [
              0.3333333333333333,
              "#9c179e"
             ],
             [
              0.4444444444444444,
              "#bd3786"
             ],
             [
              0.5555555555555556,
              "#d8576b"
             ],
             [
              0.6666666666666666,
              "#ed7953"
             ],
             [
              0.7777777777777778,
              "#fb9f3a"
             ],
             [
              0.8888888888888888,
              "#fdca26"
             ],
             [
              1,
              "#f0f921"
             ]
            ],
            "type": "surface"
           }
          ],
          "table": [
           {
            "cells": {
             "fill": {
              "color": "#EBF0F8"
             },
             "line": {
              "color": "white"
             }
            },
            "header": {
             "fill": {
              "color": "#C8D4E3"
             },
             "line": {
              "color": "white"
             }
            },
            "type": "table"
           }
          ]
         },
         "layout": {
          "annotationdefaults": {
           "arrowcolor": "#2a3f5f",
           "arrowhead": 0,
           "arrowwidth": 1
          },
          "autotypenumbers": "strict",
          "coloraxis": {
           "colorbar": {
            "outlinewidth": 0,
            "ticks": ""
           }
          },
          "colorscale": {
           "diverging": [
            [
             0,
             "#8e0152"
            ],
            [
             0.1,
             "#c51b7d"
            ],
            [
             0.2,
             "#de77ae"
            ],
            [
             0.3,
             "#f1b6da"
            ],
            [
             0.4,
             "#fde0ef"
            ],
            [
             0.5,
             "#f7f7f7"
            ],
            [
             0.6,
             "#e6f5d0"
            ],
            [
             0.7,
             "#b8e186"
            ],
            [
             0.8,
             "#7fbc41"
            ],
            [
             0.9,
             "#4d9221"
            ],
            [
             1,
             "#276419"
            ]
           ],
           "sequential": [
            [
             0,
             "#0d0887"
            ],
            [
             0.1111111111111111,
             "#46039f"
            ],
            [
             0.2222222222222222,
             "#7201a8"
            ],
            [
             0.3333333333333333,
             "#9c179e"
            ],
            [
             0.4444444444444444,
             "#bd3786"
            ],
            [
             0.5555555555555556,
             "#d8576b"
            ],
            [
             0.6666666666666666,
             "#ed7953"
            ],
            [
             0.7777777777777778,
             "#fb9f3a"
            ],
            [
             0.8888888888888888,
             "#fdca26"
            ],
            [
             1,
             "#f0f921"
            ]
           ],
           "sequentialminus": [
            [
             0,
             "#0d0887"
            ],
            [
             0.1111111111111111,
             "#46039f"
            ],
            [
             0.2222222222222222,
             "#7201a8"
            ],
            [
             0.3333333333333333,
             "#9c179e"
            ],
            [
             0.4444444444444444,
             "#bd3786"
            ],
            [
             0.5555555555555556,
             "#d8576b"
            ],
            [
             0.6666666666666666,
             "#ed7953"
            ],
            [
             0.7777777777777778,
             "#fb9f3a"
            ],
            [
             0.8888888888888888,
             "#fdca26"
            ],
            [
             1,
             "#f0f921"
            ]
           ]
          },
          "colorway": [
           "#636efa",
           "#EF553B",
           "#00cc96",
           "#ab63fa",
           "#FFA15A",
           "#19d3f3",
           "#FF6692",
           "#B6E880",
           "#FF97FF",
           "#FECB52"
          ],
          "font": {
           "color": "#2a3f5f"
          },
          "geo": {
           "bgcolor": "white",
           "lakecolor": "white",
           "landcolor": "#E5ECF6",
           "showlakes": true,
           "showland": true,
           "subunitcolor": "white"
          },
          "hoverlabel": {
           "align": "left"
          },
          "hovermode": "closest",
          "mapbox": {
           "style": "light"
          },
          "paper_bgcolor": "white",
          "plot_bgcolor": "#E5ECF6",
          "polar": {
           "angularaxis": {
            "gridcolor": "white",
            "linecolor": "white",
            "ticks": ""
           },
           "bgcolor": "#E5ECF6",
           "radialaxis": {
            "gridcolor": "white",
            "linecolor": "white",
            "ticks": ""
           }
          },
          "scene": {
           "xaxis": {
            "backgroundcolor": "#E5ECF6",
            "gridcolor": "white",
            "gridwidth": 2,
            "linecolor": "white",
            "showbackground": true,
            "ticks": "",
            "zerolinecolor": "white"
           },
           "yaxis": {
            "backgroundcolor": "#E5ECF6",
            "gridcolor": "white",
            "gridwidth": 2,
            "linecolor": "white",
            "showbackground": true,
            "ticks": "",
            "zerolinecolor": "white"
           },
           "zaxis": {
            "backgroundcolor": "#E5ECF6",
            "gridcolor": "white",
            "gridwidth": 2,
            "linecolor": "white",
            "showbackground": true,
            "ticks": "",
            "zerolinecolor": "white"
           }
          },
          "shapedefaults": {
           "line": {
            "color": "#2a3f5f"
           }
          },
          "ternary": {
           "aaxis": {
            "gridcolor": "white",
            "linecolor": "white",
            "ticks": ""
           },
           "baxis": {
            "gridcolor": "white",
            "linecolor": "white",
            "ticks": ""
           },
           "bgcolor": "#E5ECF6",
           "caxis": {
            "gridcolor": "white",
            "linecolor": "white",
            "ticks": ""
           }
          },
          "title": {
           "x": 0.05
          },
          "xaxis": {
           "automargin": true,
           "gridcolor": "white",
           "linecolor": "white",
           "ticks": "",
           "title": {
            "standoff": 15
           },
           "zerolinecolor": "white",
           "zerolinewidth": 2
          },
          "yaxis": {
           "automargin": true,
           "gridcolor": "white",
           "linecolor": "white",
           "ticks": "",
           "title": {
            "standoff": 15
           },
           "zerolinecolor": "white",
           "zerolinewidth": 2
          }
         }
        },
        "title": {
         "text": "Model belief in recognizing object"
        },
        "width": 1000,
        "xaxis": {
         "anchor": "y",
         "domain": [
          0,
          1
         ],
         "title": {
          "text": "Decoding strategy"
         }
        },
        "yaxis": {
         "anchor": "x",
         "domain": [
          0,
          1
         ],
         "title": {
          "text": "Count"
         }
        }
       }
      },
      "text/html": [
       "<div>                            <div id=\"7bcdbbbb-6ffb-4057-8578-e8b2c0d583f5\" class=\"plotly-graph-div\" style=\"height:525px; width:1000px;\"></div>            <script type=\"text/javascript\">                require([\"plotly\"], function(Plotly) {                    window.PLOTLYENV=window.PLOTLYENV || {};                                    if (document.getElementById(\"7bcdbbbb-6ffb-4057-8578-e8b2c0d583f5\")) {                    Plotly.newPlot(                        \"7bcdbbbb-6ffb-4057-8578-e8b2c0d583f5\",                        [{\"alignmentgroup\":\"True\",\"hovertemplate\":\"Column=%{x}<br>Count=%{y}<extra></extra>\",\"legendgroup\":\"\",\"marker\":{\"color\":\"#636efa\",\"pattern\":{\"shape\":\"\"}},\"name\":\"\",\"offsetgroup\":\"\",\"orientation\":\"v\",\"showlegend\":false,\"textposition\":\"auto\",\"x\":[\"BLIP-2, greedy, bool\",\"BLIP-2, beam, bool\",\"BLIP-2, nucleus, bool\"],\"xaxis\":\"x\",\"y\":[64,23,40],\"yaxis\":\"y\",\"type\":\"bar\"}],                        {\"template\":{\"data\":{\"histogram2dcontour\":[{\"type\":\"histogram2dcontour\",\"colorbar\":{\"outlinewidth\":0,\"ticks\":\"\"},\"colorscale\":[[0.0,\"#0d0887\"],[0.1111111111111111,\"#46039f\"],[0.2222222222222222,\"#7201a8\"],[0.3333333333333333,\"#9c179e\"],[0.4444444444444444,\"#bd3786\"],[0.5555555555555556,\"#d8576b\"],[0.6666666666666666,\"#ed7953\"],[0.7777777777777778,\"#fb9f3a\"],[0.8888888888888888,\"#fdca26\"],[1.0,\"#f0f921\"]]}],\"choropleth\":[{\"type\":\"choropleth\",\"colorbar\":{\"outlinewidth\":0,\"ticks\":\"\"}}],\"histogram2d\":[{\"type\":\"histogram2d\",\"colorbar\":{\"outlinewidth\":0,\"ticks\":\"\"},\"colorscale\":[[0.0,\"#0d0887\"],[0.1111111111111111,\"#46039f\"],[0.2222222222222222,\"#7201a8\"],[0.3333333333333333,\"#9c179e\"],[0.4444444444444444,\"#bd3786\"],[0.5555555555555556,\"#d8576b\"],[0.6666666666666666,\"#ed7953\"],[0.7777777777777778,\"#fb9f3a\"],[0.8888888888888888,\"#fdca26\"],[1.0,\"#f0f921\"]]}],\"heatmap\":[{\"type\":\"heatmap\",\"colorbar\":{\"outlinewidth\":0,\"ticks\":\"\"},\"colorscale\":[[0.0,\"#0d0887\"],[0.1111111111111111,\"#46039f\"],[0.2222222222222222,\"#7201a8\"],[0.3333333333333333,\"#9c179e\"],[0.4444444444444444,\"#bd3786\"],[0.5555555555555556,\"#d8576b\"],[0.6666666666666666,\"#ed7953\"],[0.7777777777777778,\"#fb9f3a\"],[0.8888888888888888,\"#fdca26\"],[1.0,\"#f0f921\"]]}],\"heatmapgl\":[{\"type\":\"heatmapgl\",\"colorbar\":{\"outlinewidth\":0,\"ticks\":\"\"},\"colorscale\":[[0.0,\"#0d0887\"],[0.1111111111111111,\"#46039f\"],[0.2222222222222222,\"#7201a8\"],[0.3333333333333333,\"#9c179e\"],[0.4444444444444444,\"#bd3786\"],[0.5555555555555556,\"#d8576b\"],[0.6666666666666666,\"#ed7953\"],[0.7777777777777778,\"#fb9f3a\"],[0.8888888888888888,\"#fdca26\"],[1.0,\"#f0f921\"]]}],\"contourcarpet\":[{\"type\":\"contourcarpet\",\"colorbar\":{\"outlinewidth\":0,\"ticks\":\"\"}}],\"contour\":[{\"type\":\"contour\",\"colorbar\":{\"outlinewidth\":0,\"ticks\":\"\"},\"colorscale\":[[0.0,\"#0d0887\"],[0.1111111111111111,\"#46039f\"],[0.2222222222222222,\"#7201a8\"],[0.3333333333333333,\"#9c179e\"],[0.4444444444444444,\"#bd3786\"],[0.5555555555555556,\"#d8576b\"],[0.6666666666666666,\"#ed7953\"],[0.7777777777777778,\"#fb9f3a\"],[0.8888888888888888,\"#fdca26\"],[1.0,\"#f0f921\"]]}],\"surface\":[{\"type\":\"surface\",\"colorbar\":{\"outlinewidth\":0,\"ticks\":\"\"},\"colorscale\":[[0.0,\"#0d0887\"],[0.1111111111111111,\"#46039f\"],[0.2222222222222222,\"#7201a8\"],[0.3333333333333333,\"#9c179e\"],[0.4444444444444444,\"#bd3786\"],[0.5555555555555556,\"#d8576b\"],[0.6666666666666666,\"#ed7953\"],[0.7777777777777778,\"#fb9f3a\"],[0.8888888888888888,\"#fdca26\"],[1.0,\"#f0f921\"]]}],\"mesh3d\":[{\"type\":\"mesh3d\",\"colorbar\":{\"outlinewidth\":0,\"ticks\":\"\"}}],\"scatter\":[{\"fillpattern\":{\"fillmode\":\"overlay\",\"size\":10,\"solidity\":0.2},\"type\":\"scatter\"}],\"parcoords\":[{\"type\":\"parcoords\",\"line\":{\"colorbar\":{\"outlinewidth\":0,\"ticks\":\"\"}}}],\"scatterpolargl\":[{\"type\":\"scatterpolargl\",\"marker\":{\"colorbar\":{\"outlinewidth\":0,\"ticks\":\"\"}}}],\"bar\":[{\"error_x\":{\"color\":\"#2a3f5f\"},\"error_y\":{\"color\":\"#2a3f5f\"},\"marker\":{\"line\":{\"color\":\"#E5ECF6\",\"width\":0.5},\"pattern\":{\"fillmode\":\"overlay\",\"size\":10,\"solidity\":0.2}},\"type\":\"bar\"}],\"scattergeo\":[{\"type\":\"scattergeo\",\"marker\":{\"colorbar\":{\"outlinewidth\":0,\"ticks\":\"\"}}}],\"scatterpolar\":[{\"type\":\"scatterpolar\",\"marker\":{\"colorbar\":{\"outlinewidth\":0,\"ticks\":\"\"}}}],\"histogram\":[{\"marker\":{\"pattern\":{\"fillmode\":\"overlay\",\"size\":10,\"solidity\":0.2}},\"type\":\"histogram\"}],\"scattergl\":[{\"type\":\"scattergl\",\"marker\":{\"colorbar\":{\"outlinewidth\":0,\"ticks\":\"\"}}}],\"scatter3d\":[{\"type\":\"scatter3d\",\"line\":{\"colorbar\":{\"outlinewidth\":0,\"ticks\":\"\"}},\"marker\":{\"colorbar\":{\"outlinewidth\":0,\"ticks\":\"\"}}}],\"scattermapbox\":[{\"type\":\"scattermapbox\",\"marker\":{\"colorbar\":{\"outlinewidth\":0,\"ticks\":\"\"}}}],\"scatterternary\":[{\"type\":\"scatterternary\",\"marker\":{\"colorbar\":{\"outlinewidth\":0,\"ticks\":\"\"}}}],\"scattercarpet\":[{\"type\":\"scattercarpet\",\"marker\":{\"colorbar\":{\"outlinewidth\":0,\"ticks\":\"\"}}}],\"carpet\":[{\"aaxis\":{\"endlinecolor\":\"#2a3f5f\",\"gridcolor\":\"white\",\"linecolor\":\"white\",\"minorgridcolor\":\"white\",\"startlinecolor\":\"#2a3f5f\"},\"baxis\":{\"endlinecolor\":\"#2a3f5f\",\"gridcolor\":\"white\",\"linecolor\":\"white\",\"minorgridcolor\":\"white\",\"startlinecolor\":\"#2a3f5f\"},\"type\":\"carpet\"}],\"table\":[{\"cells\":{\"fill\":{\"color\":\"#EBF0F8\"},\"line\":{\"color\":\"white\"}},\"header\":{\"fill\":{\"color\":\"#C8D4E3\"},\"line\":{\"color\":\"white\"}},\"type\":\"table\"}],\"barpolar\":[{\"marker\":{\"line\":{\"color\":\"#E5ECF6\",\"width\":0.5},\"pattern\":{\"fillmode\":\"overlay\",\"size\":10,\"solidity\":0.2}},\"type\":\"barpolar\"}],\"pie\":[{\"automargin\":true,\"type\":\"pie\"}]},\"layout\":{\"autotypenumbers\":\"strict\",\"colorway\":[\"#636efa\",\"#EF553B\",\"#00cc96\",\"#ab63fa\",\"#FFA15A\",\"#19d3f3\",\"#FF6692\",\"#B6E880\",\"#FF97FF\",\"#FECB52\"],\"font\":{\"color\":\"#2a3f5f\"},\"hovermode\":\"closest\",\"hoverlabel\":{\"align\":\"left\"},\"paper_bgcolor\":\"white\",\"plot_bgcolor\":\"#E5ECF6\",\"polar\":{\"bgcolor\":\"#E5ECF6\",\"angularaxis\":{\"gridcolor\":\"white\",\"linecolor\":\"white\",\"ticks\":\"\"},\"radialaxis\":{\"gridcolor\":\"white\",\"linecolor\":\"white\",\"ticks\":\"\"}},\"ternary\":{\"bgcolor\":\"#E5ECF6\",\"aaxis\":{\"gridcolor\":\"white\",\"linecolor\":\"white\",\"ticks\":\"\"},\"baxis\":{\"gridcolor\":\"white\",\"linecolor\":\"white\",\"ticks\":\"\"},\"caxis\":{\"gridcolor\":\"white\",\"linecolor\":\"white\",\"ticks\":\"\"}},\"coloraxis\":{\"colorbar\":{\"outlinewidth\":0,\"ticks\":\"\"}},\"colorscale\":{\"sequential\":[[0.0,\"#0d0887\"],[0.1111111111111111,\"#46039f\"],[0.2222222222222222,\"#7201a8\"],[0.3333333333333333,\"#9c179e\"],[0.4444444444444444,\"#bd3786\"],[0.5555555555555556,\"#d8576b\"],[0.6666666666666666,\"#ed7953\"],[0.7777777777777778,\"#fb9f3a\"],[0.8888888888888888,\"#fdca26\"],[1.0,\"#f0f921\"]],\"sequentialminus\":[[0.0,\"#0d0887\"],[0.1111111111111111,\"#46039f\"],[0.2222222222222222,\"#7201a8\"],[0.3333333333333333,\"#9c179e\"],[0.4444444444444444,\"#bd3786\"],[0.5555555555555556,\"#d8576b\"],[0.6666666666666666,\"#ed7953\"],[0.7777777777777778,\"#fb9f3a\"],[0.8888888888888888,\"#fdca26\"],[1.0,\"#f0f921\"]],\"diverging\":[[0,\"#8e0152\"],[0.1,\"#c51b7d\"],[0.2,\"#de77ae\"],[0.3,\"#f1b6da\"],[0.4,\"#fde0ef\"],[0.5,\"#f7f7f7\"],[0.6,\"#e6f5d0\"],[0.7,\"#b8e186\"],[0.8,\"#7fbc41\"],[0.9,\"#4d9221\"],[1,\"#276419\"]]},\"xaxis\":{\"gridcolor\":\"white\",\"linecolor\":\"white\",\"ticks\":\"\",\"title\":{\"standoff\":15},\"zerolinecolor\":\"white\",\"automargin\":true,\"zerolinewidth\":2},\"yaxis\":{\"gridcolor\":\"white\",\"linecolor\":\"white\",\"ticks\":\"\",\"title\":{\"standoff\":15},\"zerolinecolor\":\"white\",\"automargin\":true,\"zerolinewidth\":2},\"scene\":{\"xaxis\":{\"backgroundcolor\":\"#E5ECF6\",\"gridcolor\":\"white\",\"linecolor\":\"white\",\"showbackground\":true,\"ticks\":\"\",\"zerolinecolor\":\"white\",\"gridwidth\":2},\"yaxis\":{\"backgroundcolor\":\"#E5ECF6\",\"gridcolor\":\"white\",\"linecolor\":\"white\",\"showbackground\":true,\"ticks\":\"\",\"zerolinecolor\":\"white\",\"gridwidth\":2},\"zaxis\":{\"backgroundcolor\":\"#E5ECF6\",\"gridcolor\":\"white\",\"linecolor\":\"white\",\"showbackground\":true,\"ticks\":\"\",\"zerolinecolor\":\"white\",\"gridwidth\":2}},\"shapedefaults\":{\"line\":{\"color\":\"#2a3f5f\"}},\"annotationdefaults\":{\"arrowcolor\":\"#2a3f5f\",\"arrowhead\":0,\"arrowwidth\":1},\"geo\":{\"bgcolor\":\"white\",\"landcolor\":\"#E5ECF6\",\"subunitcolor\":\"white\",\"showland\":true,\"showlakes\":true,\"lakecolor\":\"white\"},\"title\":{\"x\":0.05},\"mapbox\":{\"style\":\"light\"}}},\"xaxis\":{\"anchor\":\"y\",\"domain\":[0.0,1.0],\"title\":{\"text\":\"Decoding strategy\"}},\"yaxis\":{\"anchor\":\"x\",\"domain\":[0.0,1.0],\"title\":{\"text\":\"Count\"}},\"legend\":{\"tracegroupgap\":0},\"margin\":{\"t\":60},\"barmode\":\"relative\",\"width\":1000,\"title\":{\"text\":\"Model belief in recognizing object\"}},                        {\"responsive\": true}                    ).then(function(){\n",
       "                            \n",
       "var gd = document.getElementById('7bcdbbbb-6ffb-4057-8578-e8b2c0d583f5');\n",
       "var x = new MutationObserver(function (mutations, observer) {{\n",
       "        var display = window.getComputedStyle(gd).display;\n",
       "        if (!display || display === 'none') {{\n",
       "            console.log([gd, 'removed!']);\n",
       "            Plotly.purge(gd);\n",
       "            observer.disconnect();\n",
       "        }}\n",
       "}});\n",
       "\n",
       "// Listen for the removal of the full notebook cells\n",
       "var notebookContainer = gd.closest('#notebook-container');\n",
       "if (notebookContainer) {{\n",
       "    x.observe(notebookContainer, {childList: true});\n",
       "}}\n",
       "\n",
       "// Listen for the clearing of the current output cell\n",
       "var outputEl = gd.closest('.output');\n",
       "if (outputEl) {{\n",
       "    x.observe(outputEl, {childList: true});\n",
       "}}\n",
       "\n",
       "                        })                };                });            </script>        </div>"
      ]
     },
     "metadata": {},
     "output_type": "display_data"
    }
   ],
   "source": [
    "import pandas as pd\n",
    "import plotly.express as px\n",
    "\n",
    "\n",
    "# Count the occurrences of \"yes\" in each column\n",
    "count_column1 = data[\"BLIP-2, greedy, bool\"].str.lower().str.count(r'\\byes\\b').sum()\n",
    "count_column2 = data[\"BLIP-2, beam, bool\"].str.lower().str.count(r'\\byes\\b').sum()\n",
    "count_column3 = data[\"BLIP-2, nucleus, bool\"].str.lower().str.count(r'\\byes\\b').sum()\n",
    "\n",
    "# Create a DataFrame for the pie chart\n",
    "data_plot = pd.DataFrame({\n",
    "    \"Column\": [\"BLIP-2, greedy, bool\", \"BLIP-2, beam, bool\", \"BLIP-2, nucleus, bool\"],\n",
    "    \"Count\": [count_column1, count_column2, count_column3]\n",
    "})\n",
    "\n",
    "# Create the bar chart using Plotly\n",
    "fig = px.bar(data_plot, x='Column', y='Count')\n",
    "\n",
    "# Set the axis labels\n",
    "fig.update_layout(width=1000, title='Model belief in recognizing object', xaxis_title='Decoding strategy', yaxis_title='Count')\n",
    "\n",
    "\n",
    "# Show the plot\n",
    "fig.show()\n",
    "\n",
    "# # Save the plot as JSON\n",
    "fig_json = fig.to_json()\n",
    "with open('familiarity.json', 'w') as file:\n",
    "    file.write(fig_json)"
   ]
  },
  {
   "cell_type": "code",
   "execution_count": 65,
   "metadata": {},
   "outputs": [],
   "source": [
    "import spacy\n",
    "nlp = spacy.load('en_core_web_sm')\n",
    "\n",
    "def calculate_similarity(string1, string2, string3):\n",
    "    # Process the sentences with spaCy\n",
    "    doc1 = nlp(string1)\n",
    "    doc2 = nlp(string2)\n",
    "    doc3 = nlp(string3)\n",
    "\n",
    "    # Calculate the average similarity between the three sentences\n",
    "    similarity1_2 = doc1.similarity(doc2)\n",
    "    similarity1_3 = doc1.similarity(doc3)\n",
    "    similarity2_3 = doc2.similarity(doc3)\n",
    "\n",
    "    average_similarity = (similarity1_2 + similarity1_3 + similarity2_3) / 3\n",
    "    return average_similarity\n"
   ]
  },
  {
   "cell_type": "code",
   "execution_count": 66,
   "metadata": {},
   "outputs": [
    {
     "name": "stderr",
     "output_type": "stream",
     "text": [
      "/scratch-local/jsprott.2829221/ipykernel_4099205/37367278.py:12: UserWarning:\n",
      "\n",
      "[W007] The model you're using has no word vectors loaded, so the result of the Doc.similarity method will be based on the tagger, parser and NER, which may not give useful similarity judgements. This may happen if you're using one of the small models, e.g. `en_core_web_sm`, which don't ship with word vectors and only use context-sensitive tensors. You can always add your own word vectors, or use one of the larger models instead if available.\n",
      "\n",
      "/scratch-local/jsprott.2829221/ipykernel_4099205/37367278.py:13: UserWarning:\n",
      "\n",
      "[W007] The model you're using has no word vectors loaded, so the result of the Doc.similarity method will be based on the tagger, parser and NER, which may not give useful similarity judgements. This may happen if you're using one of the small models, e.g. `en_core_web_sm`, which don't ship with word vectors and only use context-sensitive tensors. You can always add your own word vectors, or use one of the larger models instead if available.\n",
      "\n",
      "/scratch-local/jsprott.2829221/ipykernel_4099205/37367278.py:11: UserWarning:\n",
      "\n",
      "[W007] The model you're using has no word vectors loaded, so the result of the Doc.similarity method will be based on the tagger, parser and NER, which may not give useful similarity judgements. This may happen if you're using one of the small models, e.g. `en_core_web_sm`, which don't ship with word vectors and only use context-sensitive tensors. You can always add your own word vectors, or use one of the larger models instead if available.\n",
      "\n"
     ]
    }
   ],
   "source": [
    "# Assuming your dataframe is named 'df' and the two columns are 'column1' and 'column2'\n",
    "data['similarity'] = data.apply(lambda row: calculate_similarity(row['BLIP-2, greedy, caption'], row['BLIP-2, beam, caption'], row['BLIP-2, nucleus, caption']), axis=1)\n"
   ]
  },
  {
   "cell_type": "code",
   "execution_count": 70,
   "metadata": {},
   "outputs": [
    {
     "data": {
      "text/html": [
       "<div>\n",
       "<style scoped>\n",
       "    .dataframe tbody tr th:only-of-type {\n",
       "        vertical-align: middle;\n",
       "    }\n",
       "\n",
       "    .dataframe tbody tr th {\n",
       "        vertical-align: top;\n",
       "    }\n",
       "\n",
       "    .dataframe thead th {\n",
       "        text-align: right;\n",
       "    }\n",
       "</style>\n",
       "<table border=\"1\" class=\"dataframe\">\n",
       "  <thead>\n",
       "    <tr style=\"text-align: right;\">\n",
       "      <th></th>\n",
       "      <th>image</th>\n",
       "      <th>number label</th>\n",
       "      <th>actual name</th>\n",
       "      <th>familiarity score</th>\n",
       "      <th>nameability score</th>\n",
       "      <th>color saliency</th>\n",
       "      <th>texture saliency</th>\n",
       "      <th>BLIP-2, greedy, caption</th>\n",
       "      <th>BLIP-2, greedy, bool</th>\n",
       "      <th>BLIP-2, greedy, name</th>\n",
       "      <th>...</th>\n",
       "      <th>color greedy</th>\n",
       "      <th>color nucleus</th>\n",
       "      <th>color beam</th>\n",
       "      <th>texture greedy</th>\n",
       "      <th>texture nucleus</th>\n",
       "      <th>texture beam</th>\n",
       "      <th>length greedy</th>\n",
       "      <th>length nucleus</th>\n",
       "      <th>length beam</th>\n",
       "      <th>similarity</th>\n",
       "    </tr>\n",
       "  </thead>\n",
       "  <tbody>\n",
       "    <tr>\n",
       "      <th>0</th>\n",
       "      <td>&lt;PIL.JpegImagePlugin.JpegImageFile image mode=...</td>\n",
       "      <td>2001</td>\n",
       "      <td>bee have trap</td>\n",
       "      <td>19</td>\n",
       "      <td>50</td>\n",
       "      <td>66</td>\n",
       "      <td>14</td>\n",
       "      <td>a pair of orange plastic toys on a white backg...</td>\n",
       "      <td>Yes, it is a plastic egg</td>\n",
       "      <td>the object in this image is an orange plastic ...</td>\n",
       "      <td>...</td>\n",
       "      <td>True</td>\n",
       "      <td>False</td>\n",
       "      <td>True</td>\n",
       "      <td>True</td>\n",
       "      <td>False</td>\n",
       "      <td>True</td>\n",
       "      <td>10</td>\n",
       "      <td>5</td>\n",
       "      <td>10</td>\n",
       "      <td>0.666134</td>\n",
       "    </tr>\n",
       "    <tr>\n",
       "      <th>1</th>\n",
       "      <td>&lt;PIL.JpegImagePlugin.JpegImageFile image mode=...</td>\n",
       "      <td>2002</td>\n",
       "      <td>bookend</td>\n",
       "      <td>22</td>\n",
       "      <td>83</td>\n",
       "      <td>59</td>\n",
       "      <td>9</td>\n",
       "      <td>a red metal sculpture with a curved shape</td>\n",
       "      <td>Yes, I recognize this object.</td>\n",
       "      <td>a red vase</td>\n",
       "      <td>...</td>\n",
       "      <td>True</td>\n",
       "      <td>True</td>\n",
       "      <td>True</td>\n",
       "      <td>False</td>\n",
       "      <td>False</td>\n",
       "      <td>False</td>\n",
       "      <td>8</td>\n",
       "      <td>8</td>\n",
       "      <td>8</td>\n",
       "      <td>0.919534</td>\n",
       "    </tr>\n",
       "    <tr>\n",
       "      <th>2</th>\n",
       "      <td>&lt;PIL.JpegImagePlugin.JpegImageFile image mode=...</td>\n",
       "      <td>2003</td>\n",
       "      <td>fidget toy</td>\n",
       "      <td>59</td>\n",
       "      <td>74</td>\n",
       "      <td>19</td>\n",
       "      <td>0</td>\n",
       "      <td>a set of colorful wooden blocks arranged in a ...</td>\n",
       "      <td>Yes, it is a wooden block</td>\n",
       "      <td>a stack of multi-colored blocks on a white bac...</td>\n",
       "      <td>...</td>\n",
       "      <td>False</td>\n",
       "      <td>True</td>\n",
       "      <td>False</td>\n",
       "      <td>True</td>\n",
       "      <td>True</td>\n",
       "      <td>True</td>\n",
       "      <td>10</td>\n",
       "      <td>11</td>\n",
       "      <td>10</td>\n",
       "      <td>0.841551</td>\n",
       "    </tr>\n",
       "    <tr>\n",
       "      <th>3</th>\n",
       "      <td>&lt;PIL.JpegImagePlugin.JpegImageFile image mode=...</td>\n",
       "      <td>2004</td>\n",
       "      <td>pencil sharpener</td>\n",
       "      <td>41</td>\n",
       "      <td>70</td>\n",
       "      <td>48</td>\n",
       "      <td>52</td>\n",
       "      <td>a yellow and orange plastic egg shaped object</td>\n",
       "      <td>Yes, it is a plastic ball with a hole in the m...</td>\n",
       "      <td>the object in this image is an orange and yell...</td>\n",
       "      <td>...</td>\n",
       "      <td>True</td>\n",
       "      <td>True</td>\n",
       "      <td>True</td>\n",
       "      <td>True</td>\n",
       "      <td>False</td>\n",
       "      <td>True</td>\n",
       "      <td>8</td>\n",
       "      <td>5</td>\n",
       "      <td>12</td>\n",
       "      <td>0.592867</td>\n",
       "    </tr>\n",
       "    <tr>\n",
       "      <th>4</th>\n",
       "      <td>&lt;PIL.JpegImagePlugin.JpegImageFile image mode=...</td>\n",
       "      <td>2005</td>\n",
       "      <td>fish tank stone</td>\n",
       "      <td>6</td>\n",
       "      <td>25</td>\n",
       "      <td>81</td>\n",
       "      <td>13</td>\n",
       "      <td>a pink and blue tie dye headband</td>\n",
       "      <td>Yes, I recognize this object.</td>\n",
       "      <td>a rainbow tie-dye tie-dye tie-dye tie-dye tie-</td>\n",
       "      <td>...</td>\n",
       "      <td>True</td>\n",
       "      <td>True</td>\n",
       "      <td>True</td>\n",
       "      <td>False</td>\n",
       "      <td>False</td>\n",
       "      <td>False</td>\n",
       "      <td>7</td>\n",
       "      <td>8</td>\n",
       "      <td>14</td>\n",
       "      <td>0.777000</td>\n",
       "    </tr>\n",
       "    <tr>\n",
       "      <th>...</th>\n",
       "      <td>...</td>\n",
       "      <td>...</td>\n",
       "      <td>...</td>\n",
       "      <td>...</td>\n",
       "      <td>...</td>\n",
       "      <td>...</td>\n",
       "      <td>...</td>\n",
       "      <td>...</td>\n",
       "      <td>...</td>\n",
       "      <td>...</td>\n",
       "      <td>...</td>\n",
       "      <td>...</td>\n",
       "      <td>...</td>\n",
       "      <td>...</td>\n",
       "      <td>...</td>\n",
       "      <td>...</td>\n",
       "      <td>...</td>\n",
       "      <td>...</td>\n",
       "      <td>...</td>\n",
       "      <td>...</td>\n",
       "      <td>...</td>\n",
       "    </tr>\n",
       "    <tr>\n",
       "      <th>59</th>\n",
       "      <td>&lt;PIL.JpegImagePlugin.JpegImageFile image mode=...</td>\n",
       "      <td>2060</td>\n",
       "      <td>dog toy with removed rope</td>\n",
       "      <td>38</td>\n",
       "      <td>32</td>\n",
       "      <td>55</td>\n",
       "      <td>29</td>\n",
       "      <td>a red plastic toy with four balls inside</td>\n",
       "      <td>Yes, it is a red jelly bean</td>\n",
       "      <td>a red ball with a bunch of small balls inside ...</td>\n",
       "      <td>...</td>\n",
       "      <td>True</td>\n",
       "      <td>True</td>\n",
       "      <td>True</td>\n",
       "      <td>True</td>\n",
       "      <td>True</td>\n",
       "      <td>True</td>\n",
       "      <td>8</td>\n",
       "      <td>12</td>\n",
       "      <td>14</td>\n",
       "      <td>0.657593</td>\n",
       "    </tr>\n",
       "    <tr>\n",
       "      <th>60</th>\n",
       "      <td>&lt;PIL.JpegImagePlugin.JpegImageFile image mode=...</td>\n",
       "      <td>2061</td>\n",
       "      <td>dog toy</td>\n",
       "      <td>53</td>\n",
       "      <td>53</td>\n",
       "      <td>59</td>\n",
       "      <td>13</td>\n",
       "      <td>a green donut with colorful dots on it</td>\n",
       "      <td>Yes</td>\n",
       "      <td>a donut</td>\n",
       "      <td>...</td>\n",
       "      <td>True</td>\n",
       "      <td>True</td>\n",
       "      <td>True</td>\n",
       "      <td>False</td>\n",
       "      <td>True</td>\n",
       "      <td>False</td>\n",
       "      <td>8</td>\n",
       "      <td>10</td>\n",
       "      <td>9</td>\n",
       "      <td>0.711922</td>\n",
       "    </tr>\n",
       "    <tr>\n",
       "      <th>61</th>\n",
       "      <td>&lt;PIL.JpegImagePlugin.JpegImageFile image mode=...</td>\n",
       "      <td>2062</td>\n",
       "      <td>dog toy</td>\n",
       "      <td>44</td>\n",
       "      <td>56</td>\n",
       "      <td>29</td>\n",
       "      <td>42</td>\n",
       "      <td>an orange plastic ring with spikes on it</td>\n",
       "      <td>Yes, it is a rubber ball with spikes</td>\n",
       "      <td>an orange rubber ring with spikes on it</td>\n",
       "      <td>...</td>\n",
       "      <td>True</td>\n",
       "      <td>True</td>\n",
       "      <td>True</td>\n",
       "      <td>True</td>\n",
       "      <td>True</td>\n",
       "      <td>True</td>\n",
       "      <td>8</td>\n",
       "      <td>10</td>\n",
       "      <td>8</td>\n",
       "      <td>0.638677</td>\n",
       "    </tr>\n",
       "    <tr>\n",
       "      <th>62</th>\n",
       "      <td>&lt;PIL.JpegImagePlugin.JpegImageFile image mode=...</td>\n",
       "      <td>2063</td>\n",
       "      <td>magic loops</td>\n",
       "      <td>25</td>\n",
       "      <td>38</td>\n",
       "      <td>13</td>\n",
       "      <td>19</td>\n",
       "      <td>a metal sculpture with colorful beads on it</td>\n",
       "      <td>Yes, it is a planet</td>\n",
       "      <td>a solar system.</td>\n",
       "      <td>...</td>\n",
       "      <td>False</td>\n",
       "      <td>False</td>\n",
       "      <td>True</td>\n",
       "      <td>False</td>\n",
       "      <td>False</td>\n",
       "      <td>False</td>\n",
       "      <td>8</td>\n",
       "      <td>3</td>\n",
       "      <td>12</td>\n",
       "      <td>0.458182</td>\n",
       "    </tr>\n",
       "    <tr>\n",
       "      <th>63</th>\n",
       "      <td>&lt;PIL.JpegImagePlugin.JpegImageFile image mode=...</td>\n",
       "      <td>2064</td>\n",
       "      <td>massager</td>\n",
       "      <td>28</td>\n",
       "      <td>33</td>\n",
       "      <td>45</td>\n",
       "      <td>3</td>\n",
       "      <td>a green and silver object with legs</td>\n",
       "      <td>Yes, it is a foot massager</td>\n",
       "      <td>a foot massager</td>\n",
       "      <td>...</td>\n",
       "      <td>True</td>\n",
       "      <td>True</td>\n",
       "      <td>True</td>\n",
       "      <td>False</td>\n",
       "      <td>False</td>\n",
       "      <td>False</td>\n",
       "      <td>7</td>\n",
       "      <td>8</td>\n",
       "      <td>8</td>\n",
       "      <td>0.638759</td>\n",
       "    </tr>\n",
       "  </tbody>\n",
       "</table>\n",
       "<p>64 rows × 31 columns</p>\n",
       "</div>"
      ],
      "text/plain": [
       "                                                image  number label   \n",
       "0   <PIL.JpegImagePlugin.JpegImageFile image mode=...          2001  \\\n",
       "1   <PIL.JpegImagePlugin.JpegImageFile image mode=...          2002   \n",
       "2   <PIL.JpegImagePlugin.JpegImageFile image mode=...          2003   \n",
       "3   <PIL.JpegImagePlugin.JpegImageFile image mode=...          2004   \n",
       "4   <PIL.JpegImagePlugin.JpegImageFile image mode=...          2005   \n",
       "..                                                ...           ...   \n",
       "59  <PIL.JpegImagePlugin.JpegImageFile image mode=...          2060   \n",
       "60  <PIL.JpegImagePlugin.JpegImageFile image mode=...          2061   \n",
       "61  <PIL.JpegImagePlugin.JpegImageFile image mode=...          2062   \n",
       "62  <PIL.JpegImagePlugin.JpegImageFile image mode=...          2063   \n",
       "63  <PIL.JpegImagePlugin.JpegImageFile image mode=...          2064   \n",
       "\n",
       "                  actual name  familiarity score  nameability score   \n",
       "0               bee have trap                 19                 50  \\\n",
       "1                     bookend                 22                 83   \n",
       "2                  fidget toy                 59                 74   \n",
       "3            pencil sharpener                 41                 70   \n",
       "4             fish tank stone                  6                 25   \n",
       "..                        ...                ...                ...   \n",
       "59  dog toy with removed rope                 38                 32   \n",
       "60                    dog toy                 53                 53   \n",
       "61                    dog toy                 44                 56   \n",
       "62                magic loops                 25                 38   \n",
       "63                   massager                 28                 33   \n",
       "\n",
       "    color saliency  texture saliency   \n",
       "0               66                14  \\\n",
       "1               59                 9   \n",
       "2               19                 0   \n",
       "3               48                52   \n",
       "4               81                13   \n",
       "..             ...               ...   \n",
       "59              55                29   \n",
       "60              59                13   \n",
       "61              29                42   \n",
       "62              13                19   \n",
       "63              45                 3   \n",
       "\n",
       "                              BLIP-2, greedy, caption   \n",
       "0   a pair of orange plastic toys on a white backg...  \\\n",
       "1           a red metal sculpture with a curved shape   \n",
       "2   a set of colorful wooden blocks arranged in a ...   \n",
       "3       a yellow and orange plastic egg shaped object   \n",
       "4                    a pink and blue tie dye headband   \n",
       "..                                                ...   \n",
       "59           a red plastic toy with four balls inside   \n",
       "60             a green donut with colorful dots on it   \n",
       "61           an orange plastic ring with spikes on it   \n",
       "62        a metal sculpture with colorful beads on it   \n",
       "63                a green and silver object with legs   \n",
       "\n",
       "                                 BLIP-2, greedy, bool   \n",
       "0                            Yes, it is a plastic egg  \\\n",
       "1                       Yes, I recognize this object.   \n",
       "2                           Yes, it is a wooden block   \n",
       "3   Yes, it is a plastic ball with a hole in the m...   \n",
       "4                       Yes, I recognize this object.   \n",
       "..                                                ...   \n",
       "59                        Yes, it is a red jelly bean   \n",
       "60                                                Yes   \n",
       "61               Yes, it is a rubber ball with spikes   \n",
       "62                                Yes, it is a planet   \n",
       "63                         Yes, it is a foot massager   \n",
       "\n",
       "                                 BLIP-2, greedy, name  ... color greedy   \n",
       "0   the object in this image is an orange plastic ...  ...         True  \\\n",
       "1                                          a red vase  ...         True   \n",
       "2   a stack of multi-colored blocks on a white bac...  ...        False   \n",
       "3   the object in this image is an orange and yell...  ...         True   \n",
       "4      a rainbow tie-dye tie-dye tie-dye tie-dye tie-  ...         True   \n",
       "..                                                ...  ...          ...   \n",
       "59  a red ball with a bunch of small balls inside ...  ...         True   \n",
       "60                                            a donut  ...         True   \n",
       "61            an orange rubber ring with spikes on it  ...         True   \n",
       "62                                    a solar system.  ...        False   \n",
       "63                                    a foot massager  ...         True   \n",
       "\n",
       "   color nucleus color beam texture greedy texture nucleus texture beam   \n",
       "0          False       True           True           False         True  \\\n",
       "1           True       True          False           False        False   \n",
       "2           True      False           True            True         True   \n",
       "3           True       True           True           False         True   \n",
       "4           True       True          False           False        False   \n",
       "..           ...        ...            ...             ...          ...   \n",
       "59          True       True           True            True         True   \n",
       "60          True       True          False            True        False   \n",
       "61          True       True           True            True         True   \n",
       "62         False       True          False           False        False   \n",
       "63          True       True          False           False        False   \n",
       "\n",
       "   length greedy length nucleus length beam similarity  \n",
       "0             10              5          10   0.666134  \n",
       "1              8              8           8   0.919534  \n",
       "2             10             11          10   0.841551  \n",
       "3              8              5          12   0.592867  \n",
       "4              7              8          14   0.777000  \n",
       "..           ...            ...         ...        ...  \n",
       "59             8             12          14   0.657593  \n",
       "60             8             10           9   0.711922  \n",
       "61             8             10           8   0.638677  \n",
       "62             8              3          12   0.458182  \n",
       "63             7              8           8   0.638759  \n",
       "\n",
       "[64 rows x 31 columns]"
      ]
     },
     "metadata": {},
     "output_type": "display_data"
    }
   ],
   "source": [
    "data = data.drop(['Category Bin Color', 'Category Bin Texture'], axis=1)\n",
    "display(data)"
   ]
  }
 ],
 "metadata": {
  "kernelspec": {
   "display_name": "noun2",
   "language": "python",
   "name": "noun2"
  },
  "language_info": {
   "codemirror_mode": {
    "name": "ipython",
    "version": 3
   },
   "file_extension": ".py",
   "mimetype": "text/x-python",
   "name": "python",
   "nbconvert_exporter": "python",
   "pygments_lexer": "ipython3",
   "version": "3.10.4"
  }
 },
 "nbformat": 4,
 "nbformat_minor": 2
}
