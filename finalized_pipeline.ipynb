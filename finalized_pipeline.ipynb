{
 "cells": [
  {
   "attachments": {},
   "cell_type": "markdown",
   "metadata": {},
   "source": [
    "### NOUN Dataset + BLIP-2 Multimodal Model Pipeline\n",
    "#### This notebook contains the pipeline for loading the BLIP2 Opt-2.7b model and running inference on the NOUN Dataset\n",
    "\n",
    "Note that for this pipeline it is recommended to use a GPU with sufficient RAM."
   ]
  },
  {
   "attachments": {},
   "cell_type": "markdown",
   "metadata": {},
   "source": [
    "##### Imports\n",
    "Import modules, requires the installation of bitsandbytes and accelerate"
   ]
  },
  {
   "cell_type": "code",
   "execution_count": null,
   "metadata": {},
   "outputs": [],
   "source": [
    "# %pip install bitsandbytes accelerate Pillow git+https://github.com/huggingface/transformers tqdm"
   ]
  },
  {
   "cell_type": "code",
   "execution_count": 3,
   "metadata": {},
   "outputs": [
    {
     "name": "stdout",
     "output_type": "stream",
     "text": [
      "Collecting bert-score\n",
      "  Using cached bert_score-0.3.13-py3-none-any.whl (61 kB)\n",
      "Requirement already satisfied: torch>=1.0.0 in ./noun2-env/lib/python3.10/site-packages (from bert-score) (2.0.1+cu117)\n",
      "Requirement already satisfied: pandas>=1.0.1 in ./noun2-env/lib/python3.10/site-packages (from bert-score) (2.0.1)\n",
      "Requirement already satisfied: transformers>=3.0.0 in ./noun2-env/lib/python3.10/site-packages (from bert-score) (4.30.0.dev0)\n",
      "Requirement already satisfied: numpy in ./noun2-env/lib/python3.10/site-packages (from bert-score) (1.24.1)\n",
      "Requirement already satisfied: requests in ./noun2-env/lib/python3.10/site-packages (from bert-score) (2.28.1)\n",
      "Requirement already satisfied: tqdm>=4.31.1 in ./noun2-env/lib/python3.10/site-packages (from bert-score) (4.65.0)\n",
      "Collecting matplotlib (from bert-score)\n",
      "  Using cached matplotlib-3.7.1-cp310-cp310-manylinux_2_17_x86_64.manylinux2014_x86_64.whl (11.6 MB)\n",
      "Requirement already satisfied: packaging>=20.9 in ./noun2-env/lib/python3.10/site-packages (from bert-score) (23.1)\n",
      "Requirement already satisfied: python-dateutil>=2.8.2 in ./noun2-env/lib/python3.10/site-packages (from pandas>=1.0.1->bert-score) (2.8.2)\n",
      "Requirement already satisfied: pytz>=2020.1 in ./noun2-env/lib/python3.10/site-packages (from pandas>=1.0.1->bert-score) (2023.3)\n",
      "Requirement already satisfied: tzdata>=2022.1 in ./noun2-env/lib/python3.10/site-packages (from pandas>=1.0.1->bert-score) (2023.3)\n",
      "Requirement already satisfied: filelock in ./noun2-env/lib/python3.10/site-packages (from torch>=1.0.0->bert-score) (3.9.0)\n",
      "Requirement already satisfied: typing-extensions in ./noun2-env/lib/python3.10/site-packages (from torch>=1.0.0->bert-score) (4.4.0)\n",
      "Requirement already satisfied: sympy in ./noun2-env/lib/python3.10/site-packages (from torch>=1.0.0->bert-score) (1.11.1)\n",
      "Requirement already satisfied: networkx in ./noun2-env/lib/python3.10/site-packages (from torch>=1.0.0->bert-score) (3.0)\n",
      "Requirement already satisfied: jinja2 in ./noun2-env/lib/python3.10/site-packages (from torch>=1.0.0->bert-score) (3.1.2)\n",
      "Requirement already satisfied: triton==2.0.0 in ./noun2-env/lib/python3.10/site-packages (from torch>=1.0.0->bert-score) (2.0.0)\n",
      "Requirement already satisfied: cmake in ./noun2-env/lib/python3.10/site-packages (from triton==2.0.0->torch>=1.0.0->bert-score) (3.25.0)\n",
      "Requirement already satisfied: lit in ./noun2-env/lib/python3.10/site-packages (from triton==2.0.0->torch>=1.0.0->bert-score) (15.0.7)\n",
      "Requirement already satisfied: huggingface-hub<1.0,>=0.14.1 in ./noun2-env/lib/python3.10/site-packages (from transformers>=3.0.0->bert-score) (0.14.1)\n",
      "Requirement already satisfied: pyyaml>=5.1 in ./noun2-env/lib/python3.10/site-packages (from transformers>=3.0.0->bert-score) (6.0)\n",
      "Requirement already satisfied: regex!=2019.12.17 in ./noun2-env/lib/python3.10/site-packages (from transformers>=3.0.0->bert-score) (2023.5.5)\n",
      "Requirement already satisfied: tokenizers!=0.11.3,<0.14,>=0.11.1 in ./noun2-env/lib/python3.10/site-packages (from transformers>=3.0.0->bert-score) (0.13.3)\n",
      "Collecting contourpy>=1.0.1 (from matplotlib->bert-score)\n",
      "  Using cached contourpy-1.1.0-cp310-cp310-manylinux_2_17_x86_64.manylinux2014_x86_64.whl (300 kB)\n",
      "Collecting cycler>=0.10 (from matplotlib->bert-score)\n",
      "  Using cached cycler-0.11.0-py3-none-any.whl (6.4 kB)\n",
      "Collecting fonttools>=4.22.0 (from matplotlib->bert-score)\n",
      "  Using cached fonttools-4.40.0-cp310-cp310-manylinux_2_17_x86_64.manylinux2014_x86_64.whl (4.2 MB)\n",
      "Collecting kiwisolver>=1.0.1 (from matplotlib->bert-score)\n",
      "  Using cached kiwisolver-1.4.4-cp310-cp310-manylinux_2_12_x86_64.manylinux2010_x86_64.whl (1.6 MB)\n",
      "Requirement already satisfied: pillow>=6.2.0 in ./noun2-env/lib/python3.10/site-packages (from matplotlib->bert-score) (9.3.0)\n",
      "Collecting pyparsing>=2.3.1 (from matplotlib->bert-score)\n",
      "  Downloading pyparsing-3.1.0-py3-none-any.whl (102 kB)\n",
      "\u001b[2K     \u001b[90m━━━━━━━━━━━━━━━━━━━━━━━━━━━━━━━━━━━━━━\u001b[0m \u001b[32m102.6/102.6 kB\u001b[0m \u001b[31m25.3 MB/s\u001b[0m eta \u001b[36m0:00:00\u001b[0m\n",
      "\u001b[?25hRequirement already satisfied: charset-normalizer<3,>=2 in ./noun2-env/lib/python3.10/site-packages (from requests->bert-score) (2.1.1)\n",
      "Requirement already satisfied: idna<4,>=2.5 in ./noun2-env/lib/python3.10/site-packages (from requests->bert-score) (3.4)\n",
      "Requirement already satisfied: urllib3<1.27,>=1.21.1 in ./noun2-env/lib/python3.10/site-packages (from requests->bert-score) (1.26.13)\n",
      "Requirement already satisfied: certifi>=2017.4.17 in ./noun2-env/lib/python3.10/site-packages (from requests->bert-score) (2022.12.7)\n",
      "Requirement already satisfied: fsspec in ./noun2-env/lib/python3.10/site-packages (from huggingface-hub<1.0,>=0.14.1->transformers>=3.0.0->bert-score) (2023.5.0)\n",
      "Requirement already satisfied: six>=1.5 in ./noun2-env/lib/python3.10/site-packages (from python-dateutil>=2.8.2->pandas>=1.0.1->bert-score) (1.16.0)\n",
      "Requirement already satisfied: MarkupSafe>=2.0 in ./noun2-env/lib/python3.10/site-packages (from jinja2->torch>=1.0.0->bert-score) (2.1.2)\n",
      "Requirement already satisfied: mpmath>=0.19 in ./noun2-env/lib/python3.10/site-packages (from sympy->torch>=1.0.0->bert-score) (1.2.1)\n",
      "Installing collected packages: pyparsing, kiwisolver, fonttools, cycler, contourpy, matplotlib, bert-score\n",
      "Successfully installed bert-score-0.3.13 contourpy-1.1.0 cycler-0.11.0 fonttools-4.40.0 kiwisolver-1.4.4 matplotlib-3.7.1 pyparsing-3.1.0\n",
      "Note: you may need to restart the kernel to use updated packages.\n"
     ]
    }
   ],
   "source": [
    "%pip install bert-score"
   ]
  },
  {
   "cell_type": "code",
   "execution_count": 1,
   "metadata": {},
   "outputs": [
    {
     "name": "stderr",
     "output_type": "stream",
     "text": [
      "c:\\Users\\Juell\\AppData\\Local\\Programs\\Python\\Python39\\lib\\site-packages\\tqdm\\auto.py:22: TqdmWarning: IProgress not found. Please update jupyter and ipywidgets. See https://ipywidgets.readthedocs.io/en/stable/user_install.html\n",
      "  from .autonotebook import tqdm as notebook_tqdm\n",
      "c:\\Users\\Juell\\AppData\\Local\\Programs\\Python\\Python39\\lib\\site-packages\\requests\\__init__.py:102: RequestsDependencyWarning: urllib3 (1.26.9) or chardet (5.0.0)/charset_normalizer (2.0.12) doesn't match a supported version!\n",
      "  warnings.warn(\"urllib3 ({}) or chardet ({})/charset_normalizer ({}) doesn't match a supported \"\n"
     ]
    }
   ],
   "source": [
    "import csv\n",
    "from PIL import Image\n",
    "from transformers import AutoProcessor, Blip2ForConditionalGeneration\n",
    "import torch\n",
    "from tqdm import tqdm\n",
    "from scipy.stats import pearsonr\n",
    "\n",
    "import re\n",
    "import pandas as pd\n",
    "\n",
    "import plotly.graph_objects as go\n",
    "import plotly.express as px\n",
    "import numpy as np\n",
    "import json\n",
    "\n",
    "from PIL import Image\n",
    "from IPython.display import HTML\n",
    "from html_formatter import get_thumbnail, image_formatter\n",
    "from evaluate import check_colors_and_textures, colors_to_boolean, textures_to_boolean"
   ]
  },
  {
   "attachments": {},
   "cell_type": "markdown",
   "metadata": {},
   "source": [
    "##### Load model\n",
    "uses bitsandbytes to allow int8 quanitization for greatly reduced memory usage, allowing the model to be run on Google Colab."
   ]
  },
  {
   "cell_type": "code",
   "execution_count": 2,
   "metadata": {},
   "outputs": [
    {
     "name": "stderr",
     "output_type": "stream",
     "text": [
      "Overriding torch_dtype=None with `torch_dtype=torch.float16` due to requirements of `bitsandbytes` to enable model loading in mixed int8. Either pass torch_dtype=torch.float16 or don't pass this argument at all to remove this warning.\n"
     ]
    },
    {
     "name": "stdout",
     "output_type": "stream",
     "text": [
      "\n",
      "===================================BUG REPORT===================================\n",
      "Welcome to bitsandbytes. For bug reports, please run\n",
      "\n",
      "python -m bitsandbytes\n",
      "\n",
      " and submit this information together with your error trace to: https://github.com/TimDettmers/bitsandbytes/issues\n",
      "================================================================================\n",
      "bin /gpfs/home5/jsprott/thesis-novel-objects/noun2-env/lib/python3.10/site-packages/bitsandbytes/libbitsandbytes_cuda117.so\n",
      "CUDA SETUP: CUDA runtime path found: /sw/arch/RHEL8/EB_production/2022/software/CUDA/11.7.0/lib/libcudart.so.11.0\n",
      "CUDA SETUP: Highest compute capability among GPUs detected: 8.0\n",
      "CUDA SETUP: Detected CUDA version 117\n",
      "CUDA SETUP: Loading binary /gpfs/home5/jsprott/thesis-novel-objects/noun2-env/lib/python3.10/site-packages/bitsandbytes/libbitsandbytes_cuda117.so...\n"
     ]
    },
    {
     "data": {
      "application/vnd.jupyter.widget-view+json": {
       "model_id": "48440f8df0cc4827974402edde93f97b",
       "version_major": 2,
       "version_minor": 0
      },
      "text/plain": [
       "Loading checkpoint shards:   0%|          | 0/2 [00:00<?, ?it/s]"
      ]
     },
     "metadata": {},
     "output_type": "display_data"
    }
   ],
   "source": [
    "# load processor\n",
    "processor = AutoProcessor.from_pretrained(\"Salesforce/blip2-opt-2.7b\")\n",
    "\n",
    "# load in float16 # load in int8\n",
    "model = Blip2ForConditionalGeneration.from_pretrained(\"Salesforce/blip2-opt-2.7b\",\n",
    "                                                      load_in_8bit=True, device_map=\"auto\")\n",
    "# setup device\n",
    "DEVICE = \"cuda\" if torch.cuda.is_available() else \"cpu\""
   ]
  },
  {
   "attachments": {},
   "cell_type": "markdown",
   "metadata": {},
   "source": [
    "##### Perform inference on NOUN Dataset\n",
    "Currently uses default hyperparameters"
   ]
  },
  {
   "cell_type": "code",
   "execution_count": null,
   "metadata": {},
   "outputs": [],
   "source": [
    "import pandas as pd\n",
    "from tqdm import tqdm\n",
    "from evaluate import check_colors_and_textures\n",
    "\n",
    "# Define path to input and output files\n",
    "input_file = 'data/datasets/dataset_full.csv'\n",
    "output_file = 'data/datasets/dataset_final_inference.csv'\n",
    "extra_file = 'data/datasets/dataset_bonus_inference.csv'\n",
    "\n",
    "# Define question templates\n",
    "questions = [\n",
    "    \"Q: Only answer with yes or no, do you recognize this object? \\n A:\",\n",
    "    \"Q: what do you call the object in this image? \\n A:\",\n",
    "    \"Q: What do you really think this is? \\n A:\"\n",
    "]\n",
    "\n",
    "# Load data from input file into a pandas DataFrame\n",
    "data = pd.read_csv(input_file)\n",
    "\n",
    "tqdm.pandas()\n",
    "\n",
    "# Define function to generate text using the model\n",
    "def generate_text(row, decode='greedy', token_length=20, beams=5, top_p=0.9):\n",
    "    raw_image = Image.open(row[0].replace(\"\\\\\", \"/\")).convert(\"RGB\")\n",
    "    inputs = [processor(raw_image, return_tensors=\"pt\").to(DEVICE, torch.float16)] + [processor(raw_image, text=q, return_tensors=\"pt\").to(DEVICE, torch.float16) for q in questions]\n",
    "\n",
    "    if decode == 'greedy':\n",
    "        generated_ids = [model.generate(**input_, max_new_tokens=token_length) for input_ in inputs]\n",
    "    elif decode == 'nucleus':\n",
    "        generated_ids = [model.generate(**input_, do_sample=True, top_p=top_p, max_new_tokens=token_length) for input_ in inputs]\n",
    "    elif decode == 'beam':\n",
    "        generated_ids = [model.generate(**input_, num_beams=beams, max_new_tokens=token_length, repetition_penalty=1.0, length_penalty=1.0, temperature=1) for input_ in inputs]\n",
    "\n",
    "    generated_texts = [processor.batch_decode(generated_id, skip_special_tokens=True)[0].strip() for generated_id in generated_ids]\n",
    "    matches = [check_colors_and_textures(text) for text in generated_texts]\n",
    "\n",
    "    return generated_texts + matches\n",
    "\n",
    "# Apply the generate_text function to each row in the DataFrame\n",
    "decode_methods = ['greedy', 'nucleus', 'beam']\n",
    "columns = ['caption', 'bool', 'name', 'real', 'caption saliency', 'bool saliency', 'color saliency', 'real saliency']\n",
    "\n",
    "for method in decode_methods:\n",
    "    generated_cols = [f'BLIP-2, {method}, {column}' for column in columns]\n",
    "    generated_data = data.progress_apply(lambda row: generate_text(row, decode=method), axis=1)\n",
    "    data[generated_cols] = pd.DataFrame(np.array(generated_data).T.tolist(), columns=generated_cols)\n",
    "\n",
    "\n",
    "display(data)\n",
    "\n",
    "# Write updated data to output file\n",
    "data.to_csv(output_file, index=False)"
   ]
  },
  {
   "attachments": {},
   "cell_type": "markdown",
   "metadata": {},
   "source": [
    "#### Ablative study: token lenght for greedy"
   ]
  },
  {
   "cell_type": "code",
   "execution_count": 97,
   "metadata": {},
   "outputs": [
    {
     "name": "stderr",
     "output_type": "stream",
     "text": [
      "100%|██████████| 64/64 [03:43<00:00,  3.49s/it]\n",
      "100%|██████████| 64/64 [05:07<00:00,  4.80s/it]\n",
      "100%|██████████| 64/64 [05:20<00:00,  5.01s/it]\n"
     ]
    }
   ],
   "source": [
    "method = 'greedy'\n",
    "params = [5, 10, 20]\n",
    "columns = ['caption', 'bool', 'name', 'real', 'caption saliency', 'bool saliency', 'color saliency', 'real saliency']\n",
    "\n",
    "for param in params:\n",
    "    generated_cols = [f'BLIP-2, {method}, max_new_tokens={param}, {column}' for column in columns]\n",
    "    generated_data = data.progress_apply(lambda row: generate_text(row, decode=method, token_length=param), axis=1)\n",
    "    data[generated_cols] = pd.DataFrame(np.array(generated_data).T.tolist(), columns=generated_cols)"
   ]
  },
  {
   "attachments": {},
   "cell_type": "markdown",
   "metadata": {},
   "source": [
    "#### Ablative study: top_p for nucleus sampling"
   ]
  },
  {
   "cell_type": "code",
   "execution_count": 98,
   "metadata": {},
   "outputs": [
    {
     "name": "stderr",
     "output_type": "stream",
     "text": [
      "100%|██████████| 64/64 [05:20<00:00,  5.01s/it]\n",
      "100%|██████████| 64/64 [05:21<00:00,  5.03s/it]\n",
      "100%|██████████| 64/64 [06:32<00:00,  6.14s/it]\n"
     ]
    }
   ],
   "source": [
    "method = 'nucleus'\n",
    "params = [0.1, 0.5, 0.9]\n",
    "columns = ['caption', 'bool', 'name', 'real', 'caption saliency', 'bool saliency', 'color saliency', 'real saliency']\n",
    "\n",
    "for param in params:\n",
    "    generated_cols = [f'BLIP-2, {method}, top_p={param}, {column}' for column in columns]\n",
    "    generated_data = data.progress_apply(lambda row: generate_text(row, decode=method, top_p=param), axis=1)\n",
    "    data[generated_cols] = pd.DataFrame(np.array(generated_data).T.tolist(), columns=generated_cols)"
   ]
  },
  {
   "attachments": {},
   "cell_type": "markdown",
   "metadata": {},
   "source": [
    "#### Ablative study: num_beams for beam search"
   ]
  },
  {
   "cell_type": "code",
   "execution_count": 100,
   "metadata": {},
   "outputs": [
    {
     "name": "stderr",
     "output_type": "stream",
     "text": [
      "100%|██████████| 64/64 [05:16<00:00,  4.94s/it]\n",
      "100%|██████████| 64/64 [10:43<00:00, 10.05s/it]\n",
      "100%|██████████| 64/64 [11:39<00:00, 10.93s/it]\n"
     ]
    }
   ],
   "source": [
    "method = 'beam'\n",
    "params = [1, 5, 10]\n",
    "columns = ['caption', 'bool', 'name', 'real', 'caption saliency', 'bool saliency', 'color saliency', 'real saliency']\n",
    "\n",
    "for param in params:\n",
    "    generated_cols = [f'BLIP-2, {method}, num_beams={param}, {column}' for column in columns]\n",
    "    generated_data = data.progress_apply(lambda row: generate_text(row, decode=method, beams=param), axis=1)\n",
    "    data[generated_cols] = pd.DataFrame(np.array(generated_data).T.tolist(), columns=generated_cols)"
   ]
  },
  {
   "cell_type": "code",
   "execution_count": 104,
   "metadata": {},
   "outputs": [],
   "source": [
    "data.to_csv(extra_file, index=False)"
   ]
  },
  {
   "attachments": {},
   "cell_type": "markdown",
   "metadata": {},
   "source": [
    "#### Display data"
   ]
  },
  {
   "attachments": {},
   "cell_type": "markdown",
   "metadata": {},
   "source": [
    "##### Reformat color extraction and add image objects for html display"
   ]
  },
  {
   "cell_type": "code",
   "execution_count": 2,
   "metadata": {},
   "outputs": [],
   "source": [
    "data = pd.read_csv('data/datasets/dataset_bonus_inference.csv')\n",
    "redundant = [\n",
    "    'BLIP-2, nucleus, caption',\n",
    "    'BLIP-2, nucleus, bool',\n",
    "    'BLIP-2, nucleus, name',\n",
    "    'BLIP-2, nucleus, real',\n",
    "    'BLIP-2, nucleus, caption saliency',\n",
    "    'BLIP-2, nucleus, bool saliency',\n",
    "    'BLIP-2, nucleus, name saliency',\n",
    "    'BLIP-2, nucleus, real saliency',\n",
    "    'BLIP-2, beam, caption',\n",
    "    'BLIP-2, beam, bool',\n",
    "    'BLIP-2, beam, name',\n",
    "    'BLIP-2, beam, real',\n",
    "    'BLIP-2, beam, caption saliency',\n",
    "    'BLIP-2, beam, bool saliency',\n",
    "    'BLIP-2, beam, name saliency',\n",
    "    'BLIP-2, beam, real saliency'\n",
    "]\n",
    "\n",
    "for c in data.columns:\n",
    "    if 'max_new_tokens' in c:\n",
    "        redundant.append(c)\n",
    "\n",
    "data = data.drop(redundant, axis=1)\n"
   ]
  },
  {
   "cell_type": "code",
   "execution_count": 3,
   "metadata": {},
   "outputs": [],
   "source": [
    "columns = list(data.columns)\n",
    "columns.remove('color saliency')\n",
    "columns.remove('texture saliency')\n",
    "string_to_match = 'saliency'\n",
    "\n",
    "for column in columns:\n",
    "    if string_to_match in column:\n",
    "        data[column] = data[column].apply(lambda x: re.sub(r'[^\\w]', ' ', x))\n",
    "\n",
    "        column_color = re.sub(r'\\s+saliency', ' to boolean', re.sub(r'BLIP-2', 'color', column))\n",
    "        column_texture = re.sub(r'\\s+saliency', ' to boolean', re.sub(r'BLIP-2', 'texture', column))\n",
    "\n",
    "        data[column_color] = data[column].apply(lambda x: colors_to_boolean(x))\n",
    "        data[column_texture] = data[column].apply(lambda x: textures_to_boolean(x))\n"
   ]
  },
  {
   "cell_type": "code",
   "execution_count": null,
   "metadata": {},
   "outputs": [],
   "source": [
    "display(data)"
   ]
  },
  {
   "cell_type": "code",
   "execution_count": 51,
   "metadata": {},
   "outputs": [
    {
     "name": "stderr",
     "output_type": "stream",
     "text": [
      "/scratch-local/jsprott.2829221/ipykernel_4099205/257187248.py:13: DeprecationWarning:\n",
      "\n",
      "LANCZOS is deprecated and will be removed in Pillow 10 (2023-07-01). Use Resampling.LANCZOS instead.\n",
      "\n"
     ]
    }
   ],
   "source": [
    "#data.rename(columns={'image_path': 'image'}, inplace=True)\n",
    "#data['image'] = data.image.map(lambda f: get_thumbnail(f))"
   ]
  },
  {
   "attachments": {},
   "cell_type": "markdown",
   "metadata": {},
   "source": [
    "Export data"
   ]
  },
  {
   "cell_type": "code",
   "execution_count": 71,
   "metadata": {},
   "outputs": [],
   "source": [
    "html_content = data.to_html(formatters={'image': image_formatter}, escape=False)\n",
    "\n",
    "with open('data/datasets/sorted_results.html', 'w') as file:\n",
    "    file.write(html_content)\n",
    "    \n",
    "output_file = 'data/datasets/dataset_with_bert.csv'\n",
    "data.to_csv(output_file, index=False)"
   ]
  },
  {
   "attachments": {},
   "cell_type": "markdown",
   "metadata": {},
   "source": [
    "## Evaluation"
   ]
  },
  {
   "attachments": {},
   "cell_type": "markdown",
   "metadata": {},
   "source": [
    "Check whether model uses color or texture terms"
   ]
  },
  {
   "cell_type": "code",
   "execution_count": null,
   "metadata": {},
   "outputs": [],
   "source": [
    "get_token_count = lambda text: len(text.split())\n",
    "\n",
    "data['length greedy'] = data['BLIP-2, greedy, caption'].apply(get_token_count)\n",
    "data['length nucleus'] = data['BLIP-2, nucleus, caption'].apply(get_token_count)\n",
    "data['length beam'] = data['BLIP-2, beam, caption'].apply(get_token_count)"
   ]
  },
  {
   "cell_type": "code",
   "execution_count": 219,
   "metadata": {},
   "outputs": [
    {
     "name": "stdout",
     "output_type": "stream",
     "text": [
      "image_path\n",
      "number label\n",
      "actual name\n",
      "familiarity score\n",
      "nameability score\n",
      "color saliency\n",
      "texture saliency\n",
      "BLIP-2, greedy, caption\n",
      "BLIP-2, greedy, bool\n",
      "BLIP-2, greedy, name\n",
      "BLIP-2, greedy, real\n",
      "BLIP-2, greedy, caption saliency\n",
      "BLIP-2, greedy, bool saliency\n",
      "BLIP-2, greedy, name saliency\n",
      "BLIP-2, greedy, real saliency\n",
      "BLIP-2, nucleus, caption\n",
      "BLIP-2, nucleus, bool\n",
      "BLIP-2, nucleus, name\n",
      "BLIP-2, nucleus, real\n",
      "BLIP-2, nucleus, caption saliency\n",
      "BLIP-2, nucleus, bool saliency\n",
      "BLIP-2, nucleus, name saliency\n",
      "BLIP-2, nucleus, real saliency\n",
      "BLIP-2, beam, caption\n",
      "BLIP-2, beam, bool\n",
      "BLIP-2, beam, name\n",
      "BLIP-2, beam, real\n",
      "BLIP-2, beam, caption saliency\n",
      "BLIP-2, beam, bool saliency\n",
      "BLIP-2, beam, name saliency\n",
      "BLIP-2, beam, real saliency\n",
      "BLIP-2, greedy, max_new_tokens=5, caption\n",
      "BLIP-2, greedy, max_new_tokens=5, bool\n",
      "BLIP-2, greedy, max_new_tokens=5, name\n",
      "BLIP-2, greedy, max_new_tokens=5, real\n",
      "BLIP-2, greedy, max_new_tokens=5, caption saliency\n",
      "BLIP-2, greedy, max_new_tokens=5, bool saliency\n",
      "BLIP-2, greedy, max_new_tokens=5, name saliency\n",
      "BLIP-2, greedy, max_new_tokens=5, real saliency\n",
      "BLIP-2, greedy, max_new_tokens=10, caption\n",
      "BLIP-2, greedy, max_new_tokens=10, bool\n",
      "BLIP-2, greedy, max_new_tokens=10, name\n",
      "BLIP-2, greedy, max_new_tokens=10, real\n",
      "BLIP-2, greedy, max_new_tokens=10, caption saliency\n",
      "BLIP-2, greedy, max_new_tokens=10, bool saliency\n",
      "BLIP-2, greedy, max_new_tokens=10, name saliency\n",
      "BLIP-2, greedy, max_new_tokens=10, real saliency\n",
      "BLIP-2, greedy, max_new_tokens=20, caption\n",
      "BLIP-2, greedy, max_new_tokens=20, bool\n",
      "BLIP-2, greedy, max_new_tokens=20, name\n",
      "BLIP-2, greedy, max_new_tokens=20, real\n",
      "BLIP-2, greedy, max_new_tokens=20, caption saliency\n",
      "BLIP-2, greedy, max_new_tokens=20, bool saliency\n",
      "BLIP-2, greedy, max_new_tokens=20, name saliency\n",
      "BLIP-2, greedy, max_new_tokens=20, real saliency\n",
      "BLIP-2, nucleus, top_p=0.1, caption\n",
      "BLIP-2, nucleus, top_p=0.1, bool\n",
      "BLIP-2, nucleus, top_p=0.1, name\n",
      "BLIP-2, nucleus, top_p=0.1, real\n",
      "BLIP-2, nucleus, top_p=0.1, caption saliency\n",
      "BLIP-2, nucleus, top_p=0.1, bool saliency\n",
      "BLIP-2, nucleus, top_p=0.1, name saliency\n",
      "BLIP-2, nucleus, top_p=0.1, real saliency\n",
      "BLIP-2, nucleus, top_p=0.5, caption\n",
      "BLIP-2, nucleus, top_p=0.5, bool\n",
      "BLIP-2, nucleus, top_p=0.5, name\n",
      "BLIP-2, nucleus, top_p=0.5, real\n",
      "BLIP-2, nucleus, top_p=0.5, caption saliency\n",
      "BLIP-2, nucleus, top_p=0.5, bool saliency\n",
      "BLIP-2, nucleus, top_p=0.5, name saliency\n",
      "BLIP-2, nucleus, top_p=0.5, real saliency\n",
      "BLIP-2, nucleus, top_p=0.9, caption\n",
      "BLIP-2, nucleus, top_p=0.9, bool\n",
      "BLIP-2, nucleus, top_p=0.9, name\n",
      "BLIP-2, nucleus, top_p=0.9, real\n",
      "BLIP-2, nucleus, top_p=0.9, caption saliency\n",
      "BLIP-2, nucleus, top_p=0.9, bool saliency\n",
      "BLIP-2, nucleus, top_p=0.9, name saliency\n",
      "BLIP-2, nucleus, top_p=0.9, real saliency\n",
      "BLIP-2, beam, num_beams=1, caption\n",
      "BLIP-2, beam, num_beams=1, bool\n",
      "BLIP-2, beam, num_beams=1, name\n",
      "BLIP-2, beam, num_beams=1, real\n",
      "BLIP-2, beam, num_beams=1, caption saliency\n",
      "BLIP-2, beam, num_beams=1, bool saliency\n",
      "BLIP-2, beam, num_beams=1, name saliency\n",
      "BLIP-2, beam, num_beams=1, real saliency\n",
      "BLIP-2, beam, num_beams=5, caption\n",
      "BLIP-2, beam, num_beams=5, bool\n",
      "BLIP-2, beam, num_beams=5, name\n",
      "BLIP-2, beam, num_beams=5, real\n",
      "BLIP-2, beam, num_beams=5, caption saliency\n",
      "BLIP-2, beam, num_beams=5, bool saliency\n",
      "BLIP-2, beam, num_beams=5, name saliency\n",
      "BLIP-2, beam, num_beams=5, real saliency\n",
      "BLIP-2, beam, num_beams=10, caption\n",
      "BLIP-2, beam, num_beams=10, bool\n",
      "BLIP-2, beam, num_beams=10, name\n",
      "BLIP-2, beam, num_beams=10, real\n",
      "BLIP-2, beam, num_beams=10, caption saliency\n",
      "BLIP-2, beam, num_beams=10, bool saliency\n",
      "BLIP-2, beam, num_beams=10, name saliency\n",
      "BLIP-2, beam, num_beams=10, real saliency\n",
      "color, greedy, caption to boolean\n",
      "texture, greedy, caption to boolean\n",
      "color, greedy, bool to boolean\n",
      "texture, greedy, bool to boolean\n",
      "color, greedy, name to boolean\n",
      "texture, greedy, name to boolean\n",
      "color, greedy, real to boolean\n",
      "texture, greedy, real to boolean\n",
      "color, nucleus, caption to boolean\n",
      "texture, nucleus, caption to boolean\n",
      "color, nucleus, bool to boolean\n",
      "texture, nucleus, bool to boolean\n",
      "color, nucleus, name to boolean\n",
      "texture, nucleus, name to boolean\n",
      "color, nucleus, real to boolean\n",
      "texture, nucleus, real to boolean\n",
      "color, beam, caption to boolean\n",
      "texture, beam, caption to boolean\n",
      "color, beam, bool to boolean\n",
      "texture, beam, bool to boolean\n",
      "color, beam, name to boolean\n",
      "texture, beam, name to boolean\n",
      "color, beam, real to boolean\n",
      "texture, beam, real to boolean\n",
      "color, greedy, max_new_tokens=5, caption to boolean\n",
      "texture, greedy, max_new_tokens=5, caption to boolean\n",
      "color, greedy, max_new_tokens=5, bool to boolean\n",
      "texture, greedy, max_new_tokens=5, bool to boolean\n",
      "color, greedy, max_new_tokens=5, name to boolean\n",
      "texture, greedy, max_new_tokens=5, name to boolean\n",
      "color, greedy, max_new_tokens=5, real to boolean\n",
      "texture, greedy, max_new_tokens=5, real to boolean\n",
      "color, greedy, max_new_tokens=10, caption to boolean\n",
      "texture, greedy, max_new_tokens=10, caption to boolean\n",
      "color, greedy, max_new_tokens=10, bool to boolean\n",
      "texture, greedy, max_new_tokens=10, bool to boolean\n",
      "color, greedy, max_new_tokens=10, name to boolean\n",
      "texture, greedy, max_new_tokens=10, name to boolean\n",
      "color, greedy, max_new_tokens=10, real to boolean\n",
      "texture, greedy, max_new_tokens=10, real to boolean\n",
      "color, greedy, max_new_tokens=20, caption to boolean\n",
      "texture, greedy, max_new_tokens=20, caption to boolean\n",
      "color, greedy, max_new_tokens=20, bool to boolean\n",
      "texture, greedy, max_new_tokens=20, bool to boolean\n",
      "color, greedy, max_new_tokens=20, name to boolean\n",
      "texture, greedy, max_new_tokens=20, name to boolean\n",
      "color, greedy, max_new_tokens=20, real to boolean\n",
      "texture, greedy, max_new_tokens=20, real to boolean\n",
      "color, nucleus, top_p=0.1, caption to boolean\n",
      "texture, nucleus, top_p=0.1, caption to boolean\n",
      "color, nucleus, top_p=0.1, bool to boolean\n",
      "texture, nucleus, top_p=0.1, bool to boolean\n",
      "color, nucleus, top_p=0.1, name to boolean\n",
      "texture, nucleus, top_p=0.1, name to boolean\n",
      "color, nucleus, top_p=0.1, real to boolean\n",
      "texture, nucleus, top_p=0.1, real to boolean\n",
      "color, nucleus, top_p=0.5, caption to boolean\n",
      "texture, nucleus, top_p=0.5, caption to boolean\n",
      "color, nucleus, top_p=0.5, bool to boolean\n",
      "texture, nucleus, top_p=0.5, bool to boolean\n",
      "color, nucleus, top_p=0.5, name to boolean\n",
      "texture, nucleus, top_p=0.5, name to boolean\n",
      "color, nucleus, top_p=0.5, real to boolean\n",
      "texture, nucleus, top_p=0.5, real to boolean\n",
      "color, nucleus, top_p=0.9, caption to boolean\n",
      "texture, nucleus, top_p=0.9, caption to boolean\n",
      "color, nucleus, top_p=0.9, bool to boolean\n",
      "texture, nucleus, top_p=0.9, bool to boolean\n",
      "color, nucleus, top_p=0.9, name to boolean\n",
      "texture, nucleus, top_p=0.9, name to boolean\n",
      "color, nucleus, top_p=0.9, real to boolean\n",
      "texture, nucleus, top_p=0.9, real to boolean\n",
      "color, beam, num_beams=1, caption to boolean\n",
      "texture, beam, num_beams=1, caption to boolean\n",
      "color, beam, num_beams=1, bool to boolean\n",
      "texture, beam, num_beams=1, bool to boolean\n",
      "color, beam, num_beams=1, name to boolean\n",
      "texture, beam, num_beams=1, name to boolean\n",
      "color, beam, num_beams=1, real to boolean\n",
      "texture, beam, num_beams=1, real to boolean\n",
      "color, beam, num_beams=5, caption to boolean\n",
      "texture, beam, num_beams=5, caption to boolean\n",
      "color, beam, num_beams=5, bool to boolean\n",
      "texture, beam, num_beams=5, bool to boolean\n",
      "color, beam, num_beams=5, name to boolean\n",
      "texture, beam, num_beams=5, name to boolean\n",
      "color, beam, num_beams=5, real to boolean\n",
      "texture, beam, num_beams=5, real to boolean\n",
      "color, beam, num_beams=10, caption to boolean\n",
      "texture, beam, num_beams=10, caption to boolean\n",
      "color, beam, num_beams=10, bool to boolean\n",
      "texture, beam, num_beams=10, bool to boolean\n",
      "color, beam, num_beams=10, name to boolean\n",
      "texture, beam, num_beams=10, name to boolean\n",
      "color, beam, num_beams=10, real to boolean\n",
      "texture, beam, num_beams=10, real to boolean\n"
     ]
    }
   ],
   "source": [
    "for c in data.columns:\n",
    "    print(c)"
   ]
  },
  {
   "cell_type": "code",
   "execution_count": 25,
   "metadata": {},
   "outputs": [
    {
     "data": {
      "application/vnd.plotly.v1+json": {
       "config": {
        "plotlyServerURL": "https://plot.ly"
       },
       "data": [
        {
         "hovertemplate": "familiarity score=%{x}<br>nameability score=%{y}<br>color saliency=%{marker.size}<br>texture saliency=%{marker.color}<extra></extra>",
         "legendgroup": "",
         "marker": {
          "color": [
           14,
           9,
           0,
           52,
           13,
           3,
           6,
           16,
           45,
           25,
           3,
           41,
           6,
           0,
           10,
           6,
           13,
           6,
           25,
           6,
           3,
           13,
           17,
           3,
           13,
           17,
           9,
           63,
           16,
           0,
           26,
           3,
           3,
           26,
           13,
           20,
           3,
           6,
           13,
           16,
           20,
           3,
           6,
           6,
           55,
           3,
           3,
           6,
           10,
           0,
           9,
           7,
           6,
           48,
           13,
           13,
           3,
           3,
           0,
           29,
           13,
           42,
           19,
           3
          ],
          "coloraxis": "coloraxis",
          "size": [
           66,
           59,
           19,
           48,
           81,
           31,
           78,
           48,
           65,
           50,
           88,
           59,
           87,
           39,
           55,
           61,
           23,
           61,
           38,
           29,
           84,
           70,
           87,
           41,
           58,
           63,
           47,
           53,
           65,
           53,
           35,
           50,
           55,
           45,
           47,
           20,
           37,
           26,
           61,
           63,
           23,
           81,
           65,
           94,
           3,
           42,
           50,
           55,
           39,
           45,
           47,
           63,
           45,
           38,
           53,
           61,
           35,
           58,
           28,
           55,
           59,
           29,
           13,
           45
          ],
          "sizemode": "area",
          "sizeref": 0.235,
          "symbol": "circle"
         },
         "mode": "markers",
         "name": "",
         "orientation": "v",
         "showlegend": false,
         "type": "scatter",
         "x": [
          19,
          22,
          59,
          41,
          6,
          34,
          22,
          34,
          47,
          66,
          22,
          41,
          6,
          38,
          38,
          28,
          41,
          16,
          31,
          41,
          9,
          9,
          13,
          81,
          6,
          16,
          22,
          6,
          19,
          9,
          16,
          47,
          9,
          72,
          13,
          59,
          34,
          56,
          28,
          31,
          34,
          38,
          66,
          6,
          25,
          34,
          41,
          13,
          19,
          31,
          53,
          41,
          44,
          3,
          13,
          19,
          34,
          22,
          75,
          38,
          53,
          44,
          25,
          28
         ],
         "xaxis": "x",
         "y": [
          50,
          83,
          74,
          70,
          25,
          64,
          46,
          25,
          78,
          52,
          75,
          50,
          20,
          75,
          78,
          21,
          29,
          50,
          67,
          36,
          29,
          15,
          31,
          44,
          14,
          71,
          38,
          47,
          27,
          43,
          32,
          90,
          57,
          39,
          54,
          70,
          24,
          63,
          64,
          64,
          38,
          67,
          76,
          27,
          29,
          67,
          32,
          47,
          44,
          68,
          60,
          53,
          79,
          25,
          33,
          59,
          32,
          33,
          92,
          32,
          53,
          56,
          38,
          33
         ],
         "yaxis": "y"
        }
       ],
       "layout": {
        "coloraxis": {
         "colorbar": {
          "title": {
           "text": "texture saliency"
          }
         },
         "colorscale": [
          [
           0,
           "#0d0887"
          ],
          [
           0.1111111111111111,
           "#46039f"
          ],
          [
           0.2222222222222222,
           "#7201a8"
          ],
          [
           0.3333333333333333,
           "#9c179e"
          ],
          [
           0.4444444444444444,
           "#bd3786"
          ],
          [
           0.5555555555555556,
           "#d8576b"
          ],
          [
           0.6666666666666666,
           "#ed7953"
          ],
          [
           0.7777777777777778,
           "#fb9f3a"
          ],
          [
           0.8888888888888888,
           "#fdca26"
          ],
          [
           1,
           "#f0f921"
          ]
         ]
        },
        "height": 1000,
        "legend": {
         "itemsizing": "constant",
         "tracegroupgap": 0
        },
        "margin": {
         "t": 60
        },
        "template": {
         "data": {
          "bar": [
           {
            "error_x": {
             "color": "#2a3f5f"
            },
            "error_y": {
             "color": "#2a3f5f"
            },
            "marker": {
             "line": {
              "color": "#E5ECF6",
              "width": 0.5
             },
             "pattern": {
              "fillmode": "overlay",
              "size": 10,
              "solidity": 0.2
             }
            },
            "type": "bar"
           }
          ],
          "barpolar": [
           {
            "marker": {
             "line": {
              "color": "#E5ECF6",
              "width": 0.5
             },
             "pattern": {
              "fillmode": "overlay",
              "size": 10,
              "solidity": 0.2
             }
            },
            "type": "barpolar"
           }
          ],
          "carpet": [
           {
            "aaxis": {
             "endlinecolor": "#2a3f5f",
             "gridcolor": "white",
             "linecolor": "white",
             "minorgridcolor": "white",
             "startlinecolor": "#2a3f5f"
            },
            "baxis": {
             "endlinecolor": "#2a3f5f",
             "gridcolor": "white",
             "linecolor": "white",
             "minorgridcolor": "white",
             "startlinecolor": "#2a3f5f"
            },
            "type": "carpet"
           }
          ],
          "choropleth": [
           {
            "colorbar": {
             "outlinewidth": 0,
             "ticks": ""
            },
            "type": "choropleth"
           }
          ],
          "contour": [
           {
            "colorbar": {
             "outlinewidth": 0,
             "ticks": ""
            },
            "colorscale": [
             [
              0,
              "#0d0887"
             ],
             [
              0.1111111111111111,
              "#46039f"
             ],
             [
              0.2222222222222222,
              "#7201a8"
             ],
             [
              0.3333333333333333,
              "#9c179e"
             ],
             [
              0.4444444444444444,
              "#bd3786"
             ],
             [
              0.5555555555555556,
              "#d8576b"
             ],
             [
              0.6666666666666666,
              "#ed7953"
             ],
             [
              0.7777777777777778,
              "#fb9f3a"
             ],
             [
              0.8888888888888888,
              "#fdca26"
             ],
             [
              1,
              "#f0f921"
             ]
            ],
            "type": "contour"
           }
          ],
          "contourcarpet": [
           {
            "colorbar": {
             "outlinewidth": 0,
             "ticks": ""
            },
            "type": "contourcarpet"
           }
          ],
          "heatmap": [
           {
            "colorbar": {
             "outlinewidth": 0,
             "ticks": ""
            },
            "colorscale": [
             [
              0,
              "#0d0887"
             ],
             [
              0.1111111111111111,
              "#46039f"
             ],
             [
              0.2222222222222222,
              "#7201a8"
             ],
             [
              0.3333333333333333,
              "#9c179e"
             ],
             [
              0.4444444444444444,
              "#bd3786"
             ],
             [
              0.5555555555555556,
              "#d8576b"
             ],
             [
              0.6666666666666666,
              "#ed7953"
             ],
             [
              0.7777777777777778,
              "#fb9f3a"
             ],
             [
              0.8888888888888888,
              "#fdca26"
             ],
             [
              1,
              "#f0f921"
             ]
            ],
            "type": "heatmap"
           }
          ],
          "heatmapgl": [
           {
            "colorbar": {
             "outlinewidth": 0,
             "ticks": ""
            },
            "colorscale": [
             [
              0,
              "#0d0887"
             ],
             [
              0.1111111111111111,
              "#46039f"
             ],
             [
              0.2222222222222222,
              "#7201a8"
             ],
             [
              0.3333333333333333,
              "#9c179e"
             ],
             [
              0.4444444444444444,
              "#bd3786"
             ],
             [
              0.5555555555555556,
              "#d8576b"
             ],
             [
              0.6666666666666666,
              "#ed7953"
             ],
             [
              0.7777777777777778,
              "#fb9f3a"
             ],
             [
              0.8888888888888888,
              "#fdca26"
             ],
             [
              1,
              "#f0f921"
             ]
            ],
            "type": "heatmapgl"
           }
          ],
          "histogram": [
           {
            "marker": {
             "pattern": {
              "fillmode": "overlay",
              "size": 10,
              "solidity": 0.2
             }
            },
            "type": "histogram"
           }
          ],
          "histogram2d": [
           {
            "colorbar": {
             "outlinewidth": 0,
             "ticks": ""
            },
            "colorscale": [
             [
              0,
              "#0d0887"
             ],
             [
              0.1111111111111111,
              "#46039f"
             ],
             [
              0.2222222222222222,
              "#7201a8"
             ],
             [
              0.3333333333333333,
              "#9c179e"
             ],
             [
              0.4444444444444444,
              "#bd3786"
             ],
             [
              0.5555555555555556,
              "#d8576b"
             ],
             [
              0.6666666666666666,
              "#ed7953"
             ],
             [
              0.7777777777777778,
              "#fb9f3a"
             ],
             [
              0.8888888888888888,
              "#fdca26"
             ],
             [
              1,
              "#f0f921"
             ]
            ],
            "type": "histogram2d"
           }
          ],
          "histogram2dcontour": [
           {
            "colorbar": {
             "outlinewidth": 0,
             "ticks": ""
            },
            "colorscale": [
             [
              0,
              "#0d0887"
             ],
             [
              0.1111111111111111,
              "#46039f"
             ],
             [
              0.2222222222222222,
              "#7201a8"
             ],
             [
              0.3333333333333333,
              "#9c179e"
             ],
             [
              0.4444444444444444,
              "#bd3786"
             ],
             [
              0.5555555555555556,
              "#d8576b"
             ],
             [
              0.6666666666666666,
              "#ed7953"
             ],
             [
              0.7777777777777778,
              "#fb9f3a"
             ],
             [
              0.8888888888888888,
              "#fdca26"
             ],
             [
              1,
              "#f0f921"
             ]
            ],
            "type": "histogram2dcontour"
           }
          ],
          "mesh3d": [
           {
            "colorbar": {
             "outlinewidth": 0,
             "ticks": ""
            },
            "type": "mesh3d"
           }
          ],
          "parcoords": [
           {
            "line": {
             "colorbar": {
              "outlinewidth": 0,
              "ticks": ""
             }
            },
            "type": "parcoords"
           }
          ],
          "pie": [
           {
            "automargin": true,
            "type": "pie"
           }
          ],
          "scatter": [
           {
            "fillpattern": {
             "fillmode": "overlay",
             "size": 10,
             "solidity": 0.2
            },
            "type": "scatter"
           }
          ],
          "scatter3d": [
           {
            "line": {
             "colorbar": {
              "outlinewidth": 0,
              "ticks": ""
             }
            },
            "marker": {
             "colorbar": {
              "outlinewidth": 0,
              "ticks": ""
             }
            },
            "type": "scatter3d"
           }
          ],
          "scattercarpet": [
           {
            "marker": {
             "colorbar": {
              "outlinewidth": 0,
              "ticks": ""
             }
            },
            "type": "scattercarpet"
           }
          ],
          "scattergeo": [
           {
            "marker": {
             "colorbar": {
              "outlinewidth": 0,
              "ticks": ""
             }
            },
            "type": "scattergeo"
           }
          ],
          "scattergl": [
           {
            "marker": {
             "colorbar": {
              "outlinewidth": 0,
              "ticks": ""
             }
            },
            "type": "scattergl"
           }
          ],
          "scattermapbox": [
           {
            "marker": {
             "colorbar": {
              "outlinewidth": 0,
              "ticks": ""
             }
            },
            "type": "scattermapbox"
           }
          ],
          "scatterpolar": [
           {
            "marker": {
             "colorbar": {
              "outlinewidth": 0,
              "ticks": ""
             }
            },
            "type": "scatterpolar"
           }
          ],
          "scatterpolargl": [
           {
            "marker": {
             "colorbar": {
              "outlinewidth": 0,
              "ticks": ""
             }
            },
            "type": "scatterpolargl"
           }
          ],
          "scatterternary": [
           {
            "marker": {
             "colorbar": {
              "outlinewidth": 0,
              "ticks": ""
             }
            },
            "type": "scatterternary"
           }
          ],
          "surface": [
           {
            "colorbar": {
             "outlinewidth": 0,
             "ticks": ""
            },
            "colorscale": [
             [
              0,
              "#0d0887"
             ],
             [
              0.1111111111111111,
              "#46039f"
             ],
             [
              0.2222222222222222,
              "#7201a8"
             ],
             [
              0.3333333333333333,
              "#9c179e"
             ],
             [
              0.4444444444444444,
              "#bd3786"
             ],
             [
              0.5555555555555556,
              "#d8576b"
             ],
             [
              0.6666666666666666,
              "#ed7953"
             ],
             [
              0.7777777777777778,
              "#fb9f3a"
             ],
             [
              0.8888888888888888,
              "#fdca26"
             ],
             [
              1,
              "#f0f921"
             ]
            ],
            "type": "surface"
           }
          ],
          "table": [
           {
            "cells": {
             "fill": {
              "color": "#EBF0F8"
             },
             "line": {
              "color": "white"
             }
            },
            "header": {
             "fill": {
              "color": "#C8D4E3"
             },
             "line": {
              "color": "white"
             }
            },
            "type": "table"
           }
          ]
         },
         "layout": {
          "annotationdefaults": {
           "arrowcolor": "#2a3f5f",
           "arrowhead": 0,
           "arrowwidth": 1
          },
          "autotypenumbers": "strict",
          "coloraxis": {
           "colorbar": {
            "outlinewidth": 0,
            "ticks": ""
           }
          },
          "colorscale": {
           "diverging": [
            [
             0,
             "#8e0152"
            ],
            [
             0.1,
             "#c51b7d"
            ],
            [
             0.2,
             "#de77ae"
            ],
            [
             0.3,
             "#f1b6da"
            ],
            [
             0.4,
             "#fde0ef"
            ],
            [
             0.5,
             "#f7f7f7"
            ],
            [
             0.6,
             "#e6f5d0"
            ],
            [
             0.7,
             "#b8e186"
            ],
            [
             0.8,
             "#7fbc41"
            ],
            [
             0.9,
             "#4d9221"
            ],
            [
             1,
             "#276419"
            ]
           ],
           "sequential": [
            [
             0,
             "#0d0887"
            ],
            [
             0.1111111111111111,
             "#46039f"
            ],
            [
             0.2222222222222222,
             "#7201a8"
            ],
            [
             0.3333333333333333,
             "#9c179e"
            ],
            [
             0.4444444444444444,
             "#bd3786"
            ],
            [
             0.5555555555555556,
             "#d8576b"
            ],
            [
             0.6666666666666666,
             "#ed7953"
            ],
            [
             0.7777777777777778,
             "#fb9f3a"
            ],
            [
             0.8888888888888888,
             "#fdca26"
            ],
            [
             1,
             "#f0f921"
            ]
           ],
           "sequentialminus": [
            [
             0,
             "#0d0887"
            ],
            [
             0.1111111111111111,
             "#46039f"
            ],
            [
             0.2222222222222222,
             "#7201a8"
            ],
            [
             0.3333333333333333,
             "#9c179e"
            ],
            [
             0.4444444444444444,
             "#bd3786"
            ],
            [
             0.5555555555555556,
             "#d8576b"
            ],
            [
             0.6666666666666666,
             "#ed7953"
            ],
            [
             0.7777777777777778,
             "#fb9f3a"
            ],
            [
             0.8888888888888888,
             "#fdca26"
            ],
            [
             1,
             "#f0f921"
            ]
           ]
          },
          "colorway": [
           "#636efa",
           "#EF553B",
           "#00cc96",
           "#ab63fa",
           "#FFA15A",
           "#19d3f3",
           "#FF6692",
           "#B6E880",
           "#FF97FF",
           "#FECB52"
          ],
          "font": {
           "color": "#2a3f5f"
          },
          "geo": {
           "bgcolor": "white",
           "lakecolor": "white",
           "landcolor": "#E5ECF6",
           "showlakes": true,
           "showland": true,
           "subunitcolor": "white"
          },
          "hoverlabel": {
           "align": "left"
          },
          "hovermode": "closest",
          "mapbox": {
           "style": "light"
          },
          "paper_bgcolor": "white",
          "plot_bgcolor": "#E5ECF6",
          "polar": {
           "angularaxis": {
            "gridcolor": "white",
            "linecolor": "white",
            "ticks": ""
           },
           "bgcolor": "#E5ECF6",
           "radialaxis": {
            "gridcolor": "white",
            "linecolor": "white",
            "ticks": ""
           }
          },
          "scene": {
           "xaxis": {
            "backgroundcolor": "#E5ECF6",
            "gridcolor": "white",
            "gridwidth": 2,
            "linecolor": "white",
            "showbackground": true,
            "ticks": "",
            "zerolinecolor": "white"
           },
           "yaxis": {
            "backgroundcolor": "#E5ECF6",
            "gridcolor": "white",
            "gridwidth": 2,
            "linecolor": "white",
            "showbackground": true,
            "ticks": "",
            "zerolinecolor": "white"
           },
           "zaxis": {
            "backgroundcolor": "#E5ECF6",
            "gridcolor": "white",
            "gridwidth": 2,
            "linecolor": "white",
            "showbackground": true,
            "ticks": "",
            "zerolinecolor": "white"
           }
          },
          "shapedefaults": {
           "line": {
            "color": "#2a3f5f"
           }
          },
          "ternary": {
           "aaxis": {
            "gridcolor": "white",
            "linecolor": "white",
            "ticks": ""
           },
           "baxis": {
            "gridcolor": "white",
            "linecolor": "white",
            "ticks": ""
           },
           "bgcolor": "#E5ECF6",
           "caxis": {
            "gridcolor": "white",
            "linecolor": "white",
            "ticks": ""
           }
          },
          "title": {
           "x": 0.05
          },
          "xaxis": {
           "automargin": true,
           "gridcolor": "white",
           "linecolor": "white",
           "ticks": "",
           "title": {
            "standoff": 15
           },
           "zerolinecolor": "white",
           "zerolinewidth": 2
          },
          "yaxis": {
           "automargin": true,
           "gridcolor": "white",
           "linecolor": "white",
           "ticks": "",
           "title": {
            "standoff": 15
           },
           "zerolinecolor": "white",
           "zerolinewidth": 2
          }
         }
        },
        "width": 1000,
        "xaxis": {
         "anchor": "y",
         "domain": [
          0,
          1
         ],
         "title": {
          "text": "familiarity score"
         }
        },
        "yaxis": {
         "anchor": "x",
         "domain": [
          0,
          1
         ],
         "title": {
          "text": "nameability score"
         }
        }
       }
      }
     },
     "metadata": {},
     "output_type": "display_data"
    }
   ],
   "source": [
    "fig = px.scatter(data, size='color saliency', color='texture saliency', y='nameability score', x='familiarity score')\n",
    "fig.update_layout(\n",
    "    width=1000,  # Adjust the width of the plot as desired\n",
    "    height=1000,  # Adjust the height of the plot as desired\n",
    ")\n",
    "fig.show()"
   ]
  },
  {
   "cell_type": "code",
   "execution_count": 235,
   "metadata": {},
   "outputs": [
    {
     "data": {
      "application/vnd.plotly.v1+json": {
       "config": {
        "plotlyServerURL": "https://plot.ly"
       },
       "data": [
        {
         "name": "greedy, caption",
         "type": "bar",
         "x": [
          "(-0.063, 12.6]",
          "(12.6, 25.2]",
          "(25.2, 37.8]",
          "(37.8, 50.4]",
          "(50.4, 63.0]"
         ],
         "y": [
          0.47058823529411764,
          0.55,
          0.6666666666666666,
          0.75,
          0.6666666666666666
         ]
        },
        {
         "name": "nucleus, top_p=0.1, caption",
         "type": "bar",
         "x": [
          "(-0.063, 12.6]",
          "(12.6, 25.2]",
          "(25.2, 37.8]",
          "(37.8, 50.4]",
          "(50.4, 63.0]"
         ],
         "y": [
          0.47058823529411764,
          0.55,
          0.6666666666666666,
          0.75,
          0.6666666666666666
         ]
        },
        {
         "name": "nucleus, top_p=0.5, caption",
         "type": "bar",
         "x": [
          "(-0.063, 12.6]",
          "(12.6, 25.2]",
          "(25.2, 37.8]",
          "(37.8, 50.4]",
          "(50.4, 63.0]"
         ],
         "y": [
          0.5294117647058824,
          0.5,
          0.6666666666666666,
          0.75,
          0.3333333333333333
         ]
        },
        {
         "name": "nucleus, top_p=0.9, caption",
         "type": "bar",
         "x": [
          "(-0.063, 12.6]",
          "(12.6, 25.2]",
          "(25.2, 37.8]",
          "(37.8, 50.4]",
          "(50.4, 63.0]"
         ],
         "y": [
          0.5,
          0.3,
          0.3333333333333333,
          0.75,
          0.6666666666666666
         ]
        },
        {
         "name": "beam, num_beams=1, caption",
         "type": "bar",
         "x": [
          "(-0.063, 12.6]",
          "(12.6, 25.2]",
          "(25.2, 37.8]",
          "(37.8, 50.4]",
          "(50.4, 63.0]"
         ],
         "y": [
          0.47058823529411764,
          0.55,
          0.6666666666666666,
          0.75,
          0.6666666666666666
         ]
        },
        {
         "name": "beam, num_beams=5, caption",
         "type": "bar",
         "x": [
          "(-0.063, 12.6]",
          "(12.6, 25.2]",
          "(25.2, 37.8]",
          "(37.8, 50.4]",
          "(50.4, 63.0]"
         ],
         "y": [
          0.5,
          0.5,
          0.6666666666666666,
          0.75,
          0.6666666666666666
         ]
        },
        {
         "name": "beam, num_beams=10, caption",
         "type": "bar",
         "x": [
          "(-0.063, 12.6]",
          "(12.6, 25.2]",
          "(25.2, 37.8]",
          "(37.8, 50.4]",
          "(50.4, 63.0]"
         ],
         "y": [
          0.5,
          0.45,
          0.6666666666666666,
          0.75,
          0.6666666666666666
         ]
        }
       ],
       "layout": {
        "barmode": "group",
        "template": {
         "data": {
          "bar": [
           {
            "error_x": {
             "color": "#2a3f5f"
            },
            "error_y": {
             "color": "#2a3f5f"
            },
            "marker": {
             "line": {
              "color": "#E5ECF6",
              "width": 0.5
             },
             "pattern": {
              "fillmode": "overlay",
              "size": 10,
              "solidity": 0.2
             }
            },
            "type": "bar"
           }
          ],
          "barpolar": [
           {
            "marker": {
             "line": {
              "color": "#E5ECF6",
              "width": 0.5
             },
             "pattern": {
              "fillmode": "overlay",
              "size": 10,
              "solidity": 0.2
             }
            },
            "type": "barpolar"
           }
          ],
          "carpet": [
           {
            "aaxis": {
             "endlinecolor": "#2a3f5f",
             "gridcolor": "white",
             "linecolor": "white",
             "minorgridcolor": "white",
             "startlinecolor": "#2a3f5f"
            },
            "baxis": {
             "endlinecolor": "#2a3f5f",
             "gridcolor": "white",
             "linecolor": "white",
             "minorgridcolor": "white",
             "startlinecolor": "#2a3f5f"
            },
            "type": "carpet"
           }
          ],
          "choropleth": [
           {
            "colorbar": {
             "outlinewidth": 0,
             "ticks": ""
            },
            "type": "choropleth"
           }
          ],
          "contour": [
           {
            "colorbar": {
             "outlinewidth": 0,
             "ticks": ""
            },
            "colorscale": [
             [
              0,
              "#0d0887"
             ],
             [
              0.1111111111111111,
              "#46039f"
             ],
             [
              0.2222222222222222,
              "#7201a8"
             ],
             [
              0.3333333333333333,
              "#9c179e"
             ],
             [
              0.4444444444444444,
              "#bd3786"
             ],
             [
              0.5555555555555556,
              "#d8576b"
             ],
             [
              0.6666666666666666,
              "#ed7953"
             ],
             [
              0.7777777777777778,
              "#fb9f3a"
             ],
             [
              0.8888888888888888,
              "#fdca26"
             ],
             [
              1,
              "#f0f921"
             ]
            ],
            "type": "contour"
           }
          ],
          "contourcarpet": [
           {
            "colorbar": {
             "outlinewidth": 0,
             "ticks": ""
            },
            "type": "contourcarpet"
           }
          ],
          "heatmap": [
           {
            "colorbar": {
             "outlinewidth": 0,
             "ticks": ""
            },
            "colorscale": [
             [
              0,
              "#0d0887"
             ],
             [
              0.1111111111111111,
              "#46039f"
             ],
             [
              0.2222222222222222,
              "#7201a8"
             ],
             [
              0.3333333333333333,
              "#9c179e"
             ],
             [
              0.4444444444444444,
              "#bd3786"
             ],
             [
              0.5555555555555556,
              "#d8576b"
             ],
             [
              0.6666666666666666,
              "#ed7953"
             ],
             [
              0.7777777777777778,
              "#fb9f3a"
             ],
             [
              0.8888888888888888,
              "#fdca26"
             ],
             [
              1,
              "#f0f921"
             ]
            ],
            "type": "heatmap"
           }
          ],
          "heatmapgl": [
           {
            "colorbar": {
             "outlinewidth": 0,
             "ticks": ""
            },
            "colorscale": [
             [
              0,
              "#0d0887"
             ],
             [
              0.1111111111111111,
              "#46039f"
             ],
             [
              0.2222222222222222,
              "#7201a8"
             ],
             [
              0.3333333333333333,
              "#9c179e"
             ],
             [
              0.4444444444444444,
              "#bd3786"
             ],
             [
              0.5555555555555556,
              "#d8576b"
             ],
             [
              0.6666666666666666,
              "#ed7953"
             ],
             [
              0.7777777777777778,
              "#fb9f3a"
             ],
             [
              0.8888888888888888,
              "#fdca26"
             ],
             [
              1,
              "#f0f921"
             ]
            ],
            "type": "heatmapgl"
           }
          ],
          "histogram": [
           {
            "marker": {
             "pattern": {
              "fillmode": "overlay",
              "size": 10,
              "solidity": 0.2
             }
            },
            "type": "histogram"
           }
          ],
          "histogram2d": [
           {
            "colorbar": {
             "outlinewidth": 0,
             "ticks": ""
            },
            "colorscale": [
             [
              0,
              "#0d0887"
             ],
             [
              0.1111111111111111,
              "#46039f"
             ],
             [
              0.2222222222222222,
              "#7201a8"
             ],
             [
              0.3333333333333333,
              "#9c179e"
             ],
             [
              0.4444444444444444,
              "#bd3786"
             ],
             [
              0.5555555555555556,
              "#d8576b"
             ],
             [
              0.6666666666666666,
              "#ed7953"
             ],
             [
              0.7777777777777778,
              "#fb9f3a"
             ],
             [
              0.8888888888888888,
              "#fdca26"
             ],
             [
              1,
              "#f0f921"
             ]
            ],
            "type": "histogram2d"
           }
          ],
          "histogram2dcontour": [
           {
            "colorbar": {
             "outlinewidth": 0,
             "ticks": ""
            },
            "colorscale": [
             [
              0,
              "#0d0887"
             ],
             [
              0.1111111111111111,
              "#46039f"
             ],
             [
              0.2222222222222222,
              "#7201a8"
             ],
             [
              0.3333333333333333,
              "#9c179e"
             ],
             [
              0.4444444444444444,
              "#bd3786"
             ],
             [
              0.5555555555555556,
              "#d8576b"
             ],
             [
              0.6666666666666666,
              "#ed7953"
             ],
             [
              0.7777777777777778,
              "#fb9f3a"
             ],
             [
              0.8888888888888888,
              "#fdca26"
             ],
             [
              1,
              "#f0f921"
             ]
            ],
            "type": "histogram2dcontour"
           }
          ],
          "mesh3d": [
           {
            "colorbar": {
             "outlinewidth": 0,
             "ticks": ""
            },
            "type": "mesh3d"
           }
          ],
          "parcoords": [
           {
            "line": {
             "colorbar": {
              "outlinewidth": 0,
              "ticks": ""
             }
            },
            "type": "parcoords"
           }
          ],
          "pie": [
           {
            "automargin": true,
            "type": "pie"
           }
          ],
          "scatter": [
           {
            "fillpattern": {
             "fillmode": "overlay",
             "size": 10,
             "solidity": 0.2
            },
            "type": "scatter"
           }
          ],
          "scatter3d": [
           {
            "line": {
             "colorbar": {
              "outlinewidth": 0,
              "ticks": ""
             }
            },
            "marker": {
             "colorbar": {
              "outlinewidth": 0,
              "ticks": ""
             }
            },
            "type": "scatter3d"
           }
          ],
          "scattercarpet": [
           {
            "marker": {
             "colorbar": {
              "outlinewidth": 0,
              "ticks": ""
             }
            },
            "type": "scattercarpet"
           }
          ],
          "scattergeo": [
           {
            "marker": {
             "colorbar": {
              "outlinewidth": 0,
              "ticks": ""
             }
            },
            "type": "scattergeo"
           }
          ],
          "scattergl": [
           {
            "marker": {
             "colorbar": {
              "outlinewidth": 0,
              "ticks": ""
             }
            },
            "type": "scattergl"
           }
          ],
          "scattermapbox": [
           {
            "marker": {
             "colorbar": {
              "outlinewidth": 0,
              "ticks": ""
             }
            },
            "type": "scattermapbox"
           }
          ],
          "scatterpolar": [
           {
            "marker": {
             "colorbar": {
              "outlinewidth": 0,
              "ticks": ""
             }
            },
            "type": "scatterpolar"
           }
          ],
          "scatterpolargl": [
           {
            "marker": {
             "colorbar": {
              "outlinewidth": 0,
              "ticks": ""
             }
            },
            "type": "scatterpolargl"
           }
          ],
          "scatterternary": [
           {
            "marker": {
             "colorbar": {
              "outlinewidth": 0,
              "ticks": ""
             }
            },
            "type": "scatterternary"
           }
          ],
          "surface": [
           {
            "colorbar": {
             "outlinewidth": 0,
             "ticks": ""
            },
            "colorscale": [
             [
              0,
              "#0d0887"
             ],
             [
              0.1111111111111111,
              "#46039f"
             ],
             [
              0.2222222222222222,
              "#7201a8"
             ],
             [
              0.3333333333333333,
              "#9c179e"
             ],
             [
              0.4444444444444444,
              "#bd3786"
             ],
             [
              0.5555555555555556,
              "#d8576b"
             ],
             [
              0.6666666666666666,
              "#ed7953"
             ],
             [
              0.7777777777777778,
              "#fb9f3a"
             ],
             [
              0.8888888888888888,
              "#fdca26"
             ],
             [
              1,
              "#f0f921"
             ]
            ],
            "type": "surface"
           }
          ],
          "table": [
           {
            "cells": {
             "fill": {
              "color": "#EBF0F8"
             },
             "line": {
              "color": "white"
             }
            },
            "header": {
             "fill": {
              "color": "#C8D4E3"
             },
             "line": {
              "color": "white"
             }
            },
            "type": "table"
           }
          ]
         },
         "layout": {
          "annotationdefaults": {
           "arrowcolor": "#2a3f5f",
           "arrowhead": 0,
           "arrowwidth": 1
          },
          "autotypenumbers": "strict",
          "coloraxis": {
           "colorbar": {
            "outlinewidth": 0,
            "ticks": ""
           }
          },
          "colorscale": {
           "diverging": [
            [
             0,
             "#8e0152"
            ],
            [
             0.1,
             "#c51b7d"
            ],
            [
             0.2,
             "#de77ae"
            ],
            [
             0.3,
             "#f1b6da"
            ],
            [
             0.4,
             "#fde0ef"
            ],
            [
             0.5,
             "#f7f7f7"
            ],
            [
             0.6,
             "#e6f5d0"
            ],
            [
             0.7,
             "#b8e186"
            ],
            [
             0.8,
             "#7fbc41"
            ],
            [
             0.9,
             "#4d9221"
            ],
            [
             1,
             "#276419"
            ]
           ],
           "sequential": [
            [
             0,
             "#0d0887"
            ],
            [
             0.1111111111111111,
             "#46039f"
            ],
            [
             0.2222222222222222,
             "#7201a8"
            ],
            [
             0.3333333333333333,
             "#9c179e"
            ],
            [
             0.4444444444444444,
             "#bd3786"
            ],
            [
             0.5555555555555556,
             "#d8576b"
            ],
            [
             0.6666666666666666,
             "#ed7953"
            ],
            [
             0.7777777777777778,
             "#fb9f3a"
            ],
            [
             0.8888888888888888,
             "#fdca26"
            ],
            [
             1,
             "#f0f921"
            ]
           ],
           "sequentialminus": [
            [
             0,
             "#0d0887"
            ],
            [
             0.1111111111111111,
             "#46039f"
            ],
            [
             0.2222222222222222,
             "#7201a8"
            ],
            [
             0.3333333333333333,
             "#9c179e"
            ],
            [
             0.4444444444444444,
             "#bd3786"
            ],
            [
             0.5555555555555556,
             "#d8576b"
            ],
            [
             0.6666666666666666,
             "#ed7953"
            ],
            [
             0.7777777777777778,
             "#fb9f3a"
            ],
            [
             0.8888888888888888,
             "#fdca26"
            ],
            [
             1,
             "#f0f921"
            ]
           ]
          },
          "colorway": [
           "#636efa",
           "#EF553B",
           "#00cc96",
           "#ab63fa",
           "#FFA15A",
           "#19d3f3",
           "#FF6692",
           "#B6E880",
           "#FF97FF",
           "#FECB52"
          ],
          "font": {
           "color": "#2a3f5f"
          },
          "geo": {
           "bgcolor": "white",
           "lakecolor": "white",
           "landcolor": "#E5ECF6",
           "showlakes": true,
           "showland": true,
           "subunitcolor": "white"
          },
          "hoverlabel": {
           "align": "left"
          },
          "hovermode": "closest",
          "mapbox": {
           "style": "light"
          },
          "paper_bgcolor": "white",
          "plot_bgcolor": "#E5ECF6",
          "polar": {
           "angularaxis": {
            "gridcolor": "white",
            "linecolor": "white",
            "ticks": ""
           },
           "bgcolor": "#E5ECF6",
           "radialaxis": {
            "gridcolor": "white",
            "linecolor": "white",
            "ticks": ""
           }
          },
          "scene": {
           "xaxis": {
            "backgroundcolor": "#E5ECF6",
            "gridcolor": "white",
            "gridwidth": 2,
            "linecolor": "white",
            "showbackground": true,
            "ticks": "",
            "zerolinecolor": "white"
           },
           "yaxis": {
            "backgroundcolor": "#E5ECF6",
            "gridcolor": "white",
            "gridwidth": 2,
            "linecolor": "white",
            "showbackground": true,
            "ticks": "",
            "zerolinecolor": "white"
           },
           "zaxis": {
            "backgroundcolor": "#E5ECF6",
            "gridcolor": "white",
            "gridwidth": 2,
            "linecolor": "white",
            "showbackground": true,
            "ticks": "",
            "zerolinecolor": "white"
           }
          },
          "shapedefaults": {
           "line": {
            "color": "#2a3f5f"
           }
          },
          "ternary": {
           "aaxis": {
            "gridcolor": "white",
            "linecolor": "white",
            "ticks": ""
           },
           "baxis": {
            "gridcolor": "white",
            "linecolor": "white",
            "ticks": ""
           },
           "bgcolor": "#E5ECF6",
           "caxis": {
            "gridcolor": "white",
            "linecolor": "white",
            "ticks": ""
           }
          },
          "title": {
           "x": 0.05
          },
          "xaxis": {
           "automargin": true,
           "gridcolor": "white",
           "linecolor": "white",
           "ticks": "",
           "title": {
            "standoff": 15
           },
           "zerolinecolor": "white",
           "zerolinewidth": 2
          },
          "yaxis": {
           "automargin": true,
           "gridcolor": "white",
           "linecolor": "white",
           "ticks": "",
           "title": {
            "standoff": 15
           },
           "zerolinecolor": "white",
           "zerolinewidth": 2
          }
         }
        },
        "title": {
         "text": "texture term usage rate per saliency bin for BLIP-2, caption"
        },
        "width": 1000,
        "xaxis": {
         "tickmode": "array",
         "ticktext": [
          "0-20",
          "21-40",
          "41-60",
          "61-80",
          "81-100"
         ],
         "tickvals": [
          0,
          1,
          2,
          3,
          4
         ],
         "title": {
          "text": "Texture saliency in %"
         }
        },
        "yaxis": {
         "range": [
          0,
          1
         ],
         "title": {
          "text": "Rate of using texture terms"
         }
        }
       }
      }
     },
     "metadata": {},
     "output_type": "display_data"
    },
    {
     "data": {
      "application/vnd.plotly.v1+json": {
       "config": {
        "plotlyServerURL": "https://plot.ly"
       },
       "data": [
        {
         "name": "greedy, name",
         "type": "bar",
         "x": [
          "(-0.063, 12.6]",
          "(12.6, 25.2]",
          "(25.2, 37.8]",
          "(37.8, 50.4]",
          "(50.4, 63.0]"
         ],
         "y": [
          0.23529411764705882,
          0.2,
          0.3333333333333333,
          0.5,
          0
         ]
        },
        {
         "name": "nucleus, top_p=0.1, name",
         "type": "bar",
         "x": [
          "(-0.063, 12.6]",
          "(12.6, 25.2]",
          "(25.2, 37.8]",
          "(37.8, 50.4]",
          "(50.4, 63.0]"
         ],
         "y": [
          0.23529411764705882,
          0.2,
          0.3333333333333333,
          0.5,
          0
         ]
        },
        {
         "name": "nucleus, top_p=0.5, name",
         "type": "bar",
         "x": [
          "(-0.063, 12.6]",
          "(12.6, 25.2]",
          "(25.2, 37.8]",
          "(37.8, 50.4]",
          "(50.4, 63.0]"
         ],
         "y": [
          0.3235294117647059,
          0.05,
          0,
          0.25,
          0
         ]
        },
        {
         "name": "nucleus, top_p=0.9, name",
         "type": "bar",
         "x": [
          "(-0.063, 12.6]",
          "(12.6, 25.2]",
          "(25.2, 37.8]",
          "(37.8, 50.4]",
          "(50.4, 63.0]"
         ],
         "y": [
          0.20588235294117646,
          0.15,
          0.3333333333333333,
          0.25,
          0.3333333333333333
         ]
        },
        {
         "name": "beam, num_beams=1, name",
         "type": "bar",
         "x": [
          "(-0.063, 12.6]",
          "(12.6, 25.2]",
          "(25.2, 37.8]",
          "(37.8, 50.4]",
          "(50.4, 63.0]"
         ],
         "y": [
          0.23529411764705882,
          0.2,
          0.3333333333333333,
          0.5,
          0
         ]
        },
        {
         "name": "beam, num_beams=5, name",
         "type": "bar",
         "x": [
          "(-0.063, 12.6]",
          "(12.6, 25.2]",
          "(25.2, 37.8]",
          "(37.8, 50.4]",
          "(50.4, 63.0]"
         ],
         "y": [
          0.2647058823529412,
          0.25,
          0.3333333333333333,
          0.5,
          0.3333333333333333
         ]
        },
        {
         "name": "beam, num_beams=10, name",
         "type": "bar",
         "x": [
          "(-0.063, 12.6]",
          "(12.6, 25.2]",
          "(25.2, 37.8]",
          "(37.8, 50.4]",
          "(50.4, 63.0]"
         ],
         "y": [
          0.20588235294117646,
          0.25,
          0.3333333333333333,
          0.5,
          0.3333333333333333
         ]
        }
       ],
       "layout": {
        "barmode": "group",
        "template": {
         "data": {
          "bar": [
           {
            "error_x": {
             "color": "#2a3f5f"
            },
            "error_y": {
             "color": "#2a3f5f"
            },
            "marker": {
             "line": {
              "color": "#E5ECF6",
              "width": 0.5
             },
             "pattern": {
              "fillmode": "overlay",
              "size": 10,
              "solidity": 0.2
             }
            },
            "type": "bar"
           }
          ],
          "barpolar": [
           {
            "marker": {
             "line": {
              "color": "#E5ECF6",
              "width": 0.5
             },
             "pattern": {
              "fillmode": "overlay",
              "size": 10,
              "solidity": 0.2
             }
            },
            "type": "barpolar"
           }
          ],
          "carpet": [
           {
            "aaxis": {
             "endlinecolor": "#2a3f5f",
             "gridcolor": "white",
             "linecolor": "white",
             "minorgridcolor": "white",
             "startlinecolor": "#2a3f5f"
            },
            "baxis": {
             "endlinecolor": "#2a3f5f",
             "gridcolor": "white",
             "linecolor": "white",
             "minorgridcolor": "white",
             "startlinecolor": "#2a3f5f"
            },
            "type": "carpet"
           }
          ],
          "choropleth": [
           {
            "colorbar": {
             "outlinewidth": 0,
             "ticks": ""
            },
            "type": "choropleth"
           }
          ],
          "contour": [
           {
            "colorbar": {
             "outlinewidth": 0,
             "ticks": ""
            },
            "colorscale": [
             [
              0,
              "#0d0887"
             ],
             [
              0.1111111111111111,
              "#46039f"
             ],
             [
              0.2222222222222222,
              "#7201a8"
             ],
             [
              0.3333333333333333,
              "#9c179e"
             ],
             [
              0.4444444444444444,
              "#bd3786"
             ],
             [
              0.5555555555555556,
              "#d8576b"
             ],
             [
              0.6666666666666666,
              "#ed7953"
             ],
             [
              0.7777777777777778,
              "#fb9f3a"
             ],
             [
              0.8888888888888888,
              "#fdca26"
             ],
             [
              1,
              "#f0f921"
             ]
            ],
            "type": "contour"
           }
          ],
          "contourcarpet": [
           {
            "colorbar": {
             "outlinewidth": 0,
             "ticks": ""
            },
            "type": "contourcarpet"
           }
          ],
          "heatmap": [
           {
            "colorbar": {
             "outlinewidth": 0,
             "ticks": ""
            },
            "colorscale": [
             [
              0,
              "#0d0887"
             ],
             [
              0.1111111111111111,
              "#46039f"
             ],
             [
              0.2222222222222222,
              "#7201a8"
             ],
             [
              0.3333333333333333,
              "#9c179e"
             ],
             [
              0.4444444444444444,
              "#bd3786"
             ],
             [
              0.5555555555555556,
              "#d8576b"
             ],
             [
              0.6666666666666666,
              "#ed7953"
             ],
             [
              0.7777777777777778,
              "#fb9f3a"
             ],
             [
              0.8888888888888888,
              "#fdca26"
             ],
             [
              1,
              "#f0f921"
             ]
            ],
            "type": "heatmap"
           }
          ],
          "heatmapgl": [
           {
            "colorbar": {
             "outlinewidth": 0,
             "ticks": ""
            },
            "colorscale": [
             [
              0,
              "#0d0887"
             ],
             [
              0.1111111111111111,
              "#46039f"
             ],
             [
              0.2222222222222222,
              "#7201a8"
             ],
             [
              0.3333333333333333,
              "#9c179e"
             ],
             [
              0.4444444444444444,
              "#bd3786"
             ],
             [
              0.5555555555555556,
              "#d8576b"
             ],
             [
              0.6666666666666666,
              "#ed7953"
             ],
             [
              0.7777777777777778,
              "#fb9f3a"
             ],
             [
              0.8888888888888888,
              "#fdca26"
             ],
             [
              1,
              "#f0f921"
             ]
            ],
            "type": "heatmapgl"
           }
          ],
          "histogram": [
           {
            "marker": {
             "pattern": {
              "fillmode": "overlay",
              "size": 10,
              "solidity": 0.2
             }
            },
            "type": "histogram"
           }
          ],
          "histogram2d": [
           {
            "colorbar": {
             "outlinewidth": 0,
             "ticks": ""
            },
            "colorscale": [
             [
              0,
              "#0d0887"
             ],
             [
              0.1111111111111111,
              "#46039f"
             ],
             [
              0.2222222222222222,
              "#7201a8"
             ],
             [
              0.3333333333333333,
              "#9c179e"
             ],
             [
              0.4444444444444444,
              "#bd3786"
             ],
             [
              0.5555555555555556,
              "#d8576b"
             ],
             [
              0.6666666666666666,
              "#ed7953"
             ],
             [
              0.7777777777777778,
              "#fb9f3a"
             ],
             [
              0.8888888888888888,
              "#fdca26"
             ],
             [
              1,
              "#f0f921"
             ]
            ],
            "type": "histogram2d"
           }
          ],
          "histogram2dcontour": [
           {
            "colorbar": {
             "outlinewidth": 0,
             "ticks": ""
            },
            "colorscale": [
             [
              0,
              "#0d0887"
             ],
             [
              0.1111111111111111,
              "#46039f"
             ],
             [
              0.2222222222222222,
              "#7201a8"
             ],
             [
              0.3333333333333333,
              "#9c179e"
             ],
             [
              0.4444444444444444,
              "#bd3786"
             ],
             [
              0.5555555555555556,
              "#d8576b"
             ],
             [
              0.6666666666666666,
              "#ed7953"
             ],
             [
              0.7777777777777778,
              "#fb9f3a"
             ],
             [
              0.8888888888888888,
              "#fdca26"
             ],
             [
              1,
              "#f0f921"
             ]
            ],
            "type": "histogram2dcontour"
           }
          ],
          "mesh3d": [
           {
            "colorbar": {
             "outlinewidth": 0,
             "ticks": ""
            },
            "type": "mesh3d"
           }
          ],
          "parcoords": [
           {
            "line": {
             "colorbar": {
              "outlinewidth": 0,
              "ticks": ""
             }
            },
            "type": "parcoords"
           }
          ],
          "pie": [
           {
            "automargin": true,
            "type": "pie"
           }
          ],
          "scatter": [
           {
            "fillpattern": {
             "fillmode": "overlay",
             "size": 10,
             "solidity": 0.2
            },
            "type": "scatter"
           }
          ],
          "scatter3d": [
           {
            "line": {
             "colorbar": {
              "outlinewidth": 0,
              "ticks": ""
             }
            },
            "marker": {
             "colorbar": {
              "outlinewidth": 0,
              "ticks": ""
             }
            },
            "type": "scatter3d"
           }
          ],
          "scattercarpet": [
           {
            "marker": {
             "colorbar": {
              "outlinewidth": 0,
              "ticks": ""
             }
            },
            "type": "scattercarpet"
           }
          ],
          "scattergeo": [
           {
            "marker": {
             "colorbar": {
              "outlinewidth": 0,
              "ticks": ""
             }
            },
            "type": "scattergeo"
           }
          ],
          "scattergl": [
           {
            "marker": {
             "colorbar": {
              "outlinewidth": 0,
              "ticks": ""
             }
            },
            "type": "scattergl"
           }
          ],
          "scattermapbox": [
           {
            "marker": {
             "colorbar": {
              "outlinewidth": 0,
              "ticks": ""
             }
            },
            "type": "scattermapbox"
           }
          ],
          "scatterpolar": [
           {
            "marker": {
             "colorbar": {
              "outlinewidth": 0,
              "ticks": ""
             }
            },
            "type": "scatterpolar"
           }
          ],
          "scatterpolargl": [
           {
            "marker": {
             "colorbar": {
              "outlinewidth": 0,
              "ticks": ""
             }
            },
            "type": "scatterpolargl"
           }
          ],
          "scatterternary": [
           {
            "marker": {
             "colorbar": {
              "outlinewidth": 0,
              "ticks": ""
             }
            },
            "type": "scatterternary"
           }
          ],
          "surface": [
           {
            "colorbar": {
             "outlinewidth": 0,
             "ticks": ""
            },
            "colorscale": [
             [
              0,
              "#0d0887"
             ],
             [
              0.1111111111111111,
              "#46039f"
             ],
             [
              0.2222222222222222,
              "#7201a8"
             ],
             [
              0.3333333333333333,
              "#9c179e"
             ],
             [
              0.4444444444444444,
              "#bd3786"
             ],
             [
              0.5555555555555556,
              "#d8576b"
             ],
             [
              0.6666666666666666,
              "#ed7953"
             ],
             [
              0.7777777777777778,
              "#fb9f3a"
             ],
             [
              0.8888888888888888,
              "#fdca26"
             ],
             [
              1,
              "#f0f921"
             ]
            ],
            "type": "surface"
           }
          ],
          "table": [
           {
            "cells": {
             "fill": {
              "color": "#EBF0F8"
             },
             "line": {
              "color": "white"
             }
            },
            "header": {
             "fill": {
              "color": "#C8D4E3"
             },
             "line": {
              "color": "white"
             }
            },
            "type": "table"
           }
          ]
         },
         "layout": {
          "annotationdefaults": {
           "arrowcolor": "#2a3f5f",
           "arrowhead": 0,
           "arrowwidth": 1
          },
          "autotypenumbers": "strict",
          "coloraxis": {
           "colorbar": {
            "outlinewidth": 0,
            "ticks": ""
           }
          },
          "colorscale": {
           "diverging": [
            [
             0,
             "#8e0152"
            ],
            [
             0.1,
             "#c51b7d"
            ],
            [
             0.2,
             "#de77ae"
            ],
            [
             0.3,
             "#f1b6da"
            ],
            [
             0.4,
             "#fde0ef"
            ],
            [
             0.5,
             "#f7f7f7"
            ],
            [
             0.6,
             "#e6f5d0"
            ],
            [
             0.7,
             "#b8e186"
            ],
            [
             0.8,
             "#7fbc41"
            ],
            [
             0.9,
             "#4d9221"
            ],
            [
             1,
             "#276419"
            ]
           ],
           "sequential": [
            [
             0,
             "#0d0887"
            ],
            [
             0.1111111111111111,
             "#46039f"
            ],
            [
             0.2222222222222222,
             "#7201a8"
            ],
            [
             0.3333333333333333,
             "#9c179e"
            ],
            [
             0.4444444444444444,
             "#bd3786"
            ],
            [
             0.5555555555555556,
             "#d8576b"
            ],
            [
             0.6666666666666666,
             "#ed7953"
            ],
            [
             0.7777777777777778,
             "#fb9f3a"
            ],
            [
             0.8888888888888888,
             "#fdca26"
            ],
            [
             1,
             "#f0f921"
            ]
           ],
           "sequentialminus": [
            [
             0,
             "#0d0887"
            ],
            [
             0.1111111111111111,
             "#46039f"
            ],
            [
             0.2222222222222222,
             "#7201a8"
            ],
            [
             0.3333333333333333,
             "#9c179e"
            ],
            [
             0.4444444444444444,
             "#bd3786"
            ],
            [
             0.5555555555555556,
             "#d8576b"
            ],
            [
             0.6666666666666666,
             "#ed7953"
            ],
            [
             0.7777777777777778,
             "#fb9f3a"
            ],
            [
             0.8888888888888888,
             "#fdca26"
            ],
            [
             1,
             "#f0f921"
            ]
           ]
          },
          "colorway": [
           "#636efa",
           "#EF553B",
           "#00cc96",
           "#ab63fa",
           "#FFA15A",
           "#19d3f3",
           "#FF6692",
           "#B6E880",
           "#FF97FF",
           "#FECB52"
          ],
          "font": {
           "color": "#2a3f5f"
          },
          "geo": {
           "bgcolor": "white",
           "lakecolor": "white",
           "landcolor": "#E5ECF6",
           "showlakes": true,
           "showland": true,
           "subunitcolor": "white"
          },
          "hoverlabel": {
           "align": "left"
          },
          "hovermode": "closest",
          "mapbox": {
           "style": "light"
          },
          "paper_bgcolor": "white",
          "plot_bgcolor": "#E5ECF6",
          "polar": {
           "angularaxis": {
            "gridcolor": "white",
            "linecolor": "white",
            "ticks": ""
           },
           "bgcolor": "#E5ECF6",
           "radialaxis": {
            "gridcolor": "white",
            "linecolor": "white",
            "ticks": ""
           }
          },
          "scene": {
           "xaxis": {
            "backgroundcolor": "#E5ECF6",
            "gridcolor": "white",
            "gridwidth": 2,
            "linecolor": "white",
            "showbackground": true,
            "ticks": "",
            "zerolinecolor": "white"
           },
           "yaxis": {
            "backgroundcolor": "#E5ECF6",
            "gridcolor": "white",
            "gridwidth": 2,
            "linecolor": "white",
            "showbackground": true,
            "ticks": "",
            "zerolinecolor": "white"
           },
           "zaxis": {
            "backgroundcolor": "#E5ECF6",
            "gridcolor": "white",
            "gridwidth": 2,
            "linecolor": "white",
            "showbackground": true,
            "ticks": "",
            "zerolinecolor": "white"
           }
          },
          "shapedefaults": {
           "line": {
            "color": "#2a3f5f"
           }
          },
          "ternary": {
           "aaxis": {
            "gridcolor": "white",
            "linecolor": "white",
            "ticks": ""
           },
           "baxis": {
            "gridcolor": "white",
            "linecolor": "white",
            "ticks": ""
           },
           "bgcolor": "#E5ECF6",
           "caxis": {
            "gridcolor": "white",
            "linecolor": "white",
            "ticks": ""
           }
          },
          "title": {
           "x": 0.05
          },
          "xaxis": {
           "automargin": true,
           "gridcolor": "white",
           "linecolor": "white",
           "ticks": "",
           "title": {
            "standoff": 15
           },
           "zerolinecolor": "white",
           "zerolinewidth": 2
          },
          "yaxis": {
           "automargin": true,
           "gridcolor": "white",
           "linecolor": "white",
           "ticks": "",
           "title": {
            "standoff": 15
           },
           "zerolinecolor": "white",
           "zerolinewidth": 2
          }
         }
        },
        "title": {
         "text": "texture term usage rate per saliency bin for BLIP-2, name"
        },
        "width": 1000,
        "xaxis": {
         "tickmode": "array",
         "ticktext": [
          "0-20",
          "21-40",
          "41-60",
          "61-80",
          "81-100"
         ],
         "tickvals": [
          0,
          1,
          2,
          3,
          4
         ],
         "title": {
          "text": "Texture saliency in %"
         }
        },
        "yaxis": {
         "range": [
          0,
          1
         ],
         "title": {
          "text": "Rate of using texture terms"
         }
        }
       }
      }
     },
     "metadata": {},
     "output_type": "display_data"
    },
    {
     "data": {
      "application/vnd.plotly.v1+json": {
       "config": {
        "plotlyServerURL": "https://plot.ly"
       },
       "data": [
        {
         "name": "greedy, real",
         "type": "bar",
         "x": [
          "(-0.063, 12.6]",
          "(12.6, 25.2]",
          "(25.2, 37.8]",
          "(37.8, 50.4]",
          "(50.4, 63.0]"
         ],
         "y": [
          0.5,
          0.4,
          0.3333333333333333,
          0.5,
          0.6666666666666666
         ]
        },
        {
         "name": "nucleus, top_p=0.1, real",
         "type": "bar",
         "x": [
          "(-0.063, 12.6]",
          "(12.6, 25.2]",
          "(25.2, 37.8]",
          "(37.8, 50.4]",
          "(50.4, 63.0]"
         ],
         "y": [
          0.4411764705882353,
          0.45,
          0.3333333333333333,
          0.5,
          0.6666666666666666
         ]
        },
        {
         "name": "nucleus, top_p=0.5, real",
         "type": "bar",
         "x": [
          "(-0.063, 12.6]",
          "(12.6, 25.2]",
          "(25.2, 37.8]",
          "(37.8, 50.4]",
          "(50.4, 63.0]"
         ],
         "y": [
          0.35294117647058826,
          0.25,
          0.3333333333333333,
          0.75,
          0.6666666666666666
         ]
        },
        {
         "name": "nucleus, top_p=0.9, real",
         "type": "bar",
         "x": [
          "(-0.063, 12.6]",
          "(12.6, 25.2]",
          "(25.2, 37.8]",
          "(37.8, 50.4]",
          "(50.4, 63.0]"
         ],
         "y": [
          0.2647058823529412,
          0.2,
          0.3333333333333333,
          0.5,
          0.3333333333333333
         ]
        },
        {
         "name": "beam, num_beams=1, real",
         "type": "bar",
         "x": [
          "(-0.063, 12.6]",
          "(12.6, 25.2]",
          "(25.2, 37.8]",
          "(37.8, 50.4]",
          "(50.4, 63.0]"
         ],
         "y": [
          0.5,
          0.4,
          0.3333333333333333,
          0.5,
          0.6666666666666666
         ]
        },
        {
         "name": "beam, num_beams=5, real",
         "type": "bar",
         "x": [
          "(-0.063, 12.6]",
          "(12.6, 25.2]",
          "(25.2, 37.8]",
          "(37.8, 50.4]",
          "(50.4, 63.0]"
         ],
         "y": [
          0.5294117647058824,
          0.35,
          0.3333333333333333,
          0.5,
          0.6666666666666666
         ]
        },
        {
         "name": "beam, num_beams=10, real",
         "type": "bar",
         "x": [
          "(-0.063, 12.6]",
          "(12.6, 25.2]",
          "(25.2, 37.8]",
          "(37.8, 50.4]",
          "(50.4, 63.0]"
         ],
         "y": [
          0.6176470588235294,
          0.25,
          0.3333333333333333,
          0.5,
          0.6666666666666666
         ]
        }
       ],
       "layout": {
        "barmode": "group",
        "template": {
         "data": {
          "bar": [
           {
            "error_x": {
             "color": "#2a3f5f"
            },
            "error_y": {
             "color": "#2a3f5f"
            },
            "marker": {
             "line": {
              "color": "#E5ECF6",
              "width": 0.5
             },
             "pattern": {
              "fillmode": "overlay",
              "size": 10,
              "solidity": 0.2
             }
            },
            "type": "bar"
           }
          ],
          "barpolar": [
           {
            "marker": {
             "line": {
              "color": "#E5ECF6",
              "width": 0.5
             },
             "pattern": {
              "fillmode": "overlay",
              "size": 10,
              "solidity": 0.2
             }
            },
            "type": "barpolar"
           }
          ],
          "carpet": [
           {
            "aaxis": {
             "endlinecolor": "#2a3f5f",
             "gridcolor": "white",
             "linecolor": "white",
             "minorgridcolor": "white",
             "startlinecolor": "#2a3f5f"
            },
            "baxis": {
             "endlinecolor": "#2a3f5f",
             "gridcolor": "white",
             "linecolor": "white",
             "minorgridcolor": "white",
             "startlinecolor": "#2a3f5f"
            },
            "type": "carpet"
           }
          ],
          "choropleth": [
           {
            "colorbar": {
             "outlinewidth": 0,
             "ticks": ""
            },
            "type": "choropleth"
           }
          ],
          "contour": [
           {
            "colorbar": {
             "outlinewidth": 0,
             "ticks": ""
            },
            "colorscale": [
             [
              0,
              "#0d0887"
             ],
             [
              0.1111111111111111,
              "#46039f"
             ],
             [
              0.2222222222222222,
              "#7201a8"
             ],
             [
              0.3333333333333333,
              "#9c179e"
             ],
             [
              0.4444444444444444,
              "#bd3786"
             ],
             [
              0.5555555555555556,
              "#d8576b"
             ],
             [
              0.6666666666666666,
              "#ed7953"
             ],
             [
              0.7777777777777778,
              "#fb9f3a"
             ],
             [
              0.8888888888888888,
              "#fdca26"
             ],
             [
              1,
              "#f0f921"
             ]
            ],
            "type": "contour"
           }
          ],
          "contourcarpet": [
           {
            "colorbar": {
             "outlinewidth": 0,
             "ticks": ""
            },
            "type": "contourcarpet"
           }
          ],
          "heatmap": [
           {
            "colorbar": {
             "outlinewidth": 0,
             "ticks": ""
            },
            "colorscale": [
             [
              0,
              "#0d0887"
             ],
             [
              0.1111111111111111,
              "#46039f"
             ],
             [
              0.2222222222222222,
              "#7201a8"
             ],
             [
              0.3333333333333333,
              "#9c179e"
             ],
             [
              0.4444444444444444,
              "#bd3786"
             ],
             [
              0.5555555555555556,
              "#d8576b"
             ],
             [
              0.6666666666666666,
              "#ed7953"
             ],
             [
              0.7777777777777778,
              "#fb9f3a"
             ],
             [
              0.8888888888888888,
              "#fdca26"
             ],
             [
              1,
              "#f0f921"
             ]
            ],
            "type": "heatmap"
           }
          ],
          "heatmapgl": [
           {
            "colorbar": {
             "outlinewidth": 0,
             "ticks": ""
            },
            "colorscale": [
             [
              0,
              "#0d0887"
             ],
             [
              0.1111111111111111,
              "#46039f"
             ],
             [
              0.2222222222222222,
              "#7201a8"
             ],
             [
              0.3333333333333333,
              "#9c179e"
             ],
             [
              0.4444444444444444,
              "#bd3786"
             ],
             [
              0.5555555555555556,
              "#d8576b"
             ],
             [
              0.6666666666666666,
              "#ed7953"
             ],
             [
              0.7777777777777778,
              "#fb9f3a"
             ],
             [
              0.8888888888888888,
              "#fdca26"
             ],
             [
              1,
              "#f0f921"
             ]
            ],
            "type": "heatmapgl"
           }
          ],
          "histogram": [
           {
            "marker": {
             "pattern": {
              "fillmode": "overlay",
              "size": 10,
              "solidity": 0.2
             }
            },
            "type": "histogram"
           }
          ],
          "histogram2d": [
           {
            "colorbar": {
             "outlinewidth": 0,
             "ticks": ""
            },
            "colorscale": [
             [
              0,
              "#0d0887"
             ],
             [
              0.1111111111111111,
              "#46039f"
             ],
             [
              0.2222222222222222,
              "#7201a8"
             ],
             [
              0.3333333333333333,
              "#9c179e"
             ],
             [
              0.4444444444444444,
              "#bd3786"
             ],
             [
              0.5555555555555556,
              "#d8576b"
             ],
             [
              0.6666666666666666,
              "#ed7953"
             ],
             [
              0.7777777777777778,
              "#fb9f3a"
             ],
             [
              0.8888888888888888,
              "#fdca26"
             ],
             [
              1,
              "#f0f921"
             ]
            ],
            "type": "histogram2d"
           }
          ],
          "histogram2dcontour": [
           {
            "colorbar": {
             "outlinewidth": 0,
             "ticks": ""
            },
            "colorscale": [
             [
              0,
              "#0d0887"
             ],
             [
              0.1111111111111111,
              "#46039f"
             ],
             [
              0.2222222222222222,
              "#7201a8"
             ],
             [
              0.3333333333333333,
              "#9c179e"
             ],
             [
              0.4444444444444444,
              "#bd3786"
             ],
             [
              0.5555555555555556,
              "#d8576b"
             ],
             [
              0.6666666666666666,
              "#ed7953"
             ],
             [
              0.7777777777777778,
              "#fb9f3a"
             ],
             [
              0.8888888888888888,
              "#fdca26"
             ],
             [
              1,
              "#f0f921"
             ]
            ],
            "type": "histogram2dcontour"
           }
          ],
          "mesh3d": [
           {
            "colorbar": {
             "outlinewidth": 0,
             "ticks": ""
            },
            "type": "mesh3d"
           }
          ],
          "parcoords": [
           {
            "line": {
             "colorbar": {
              "outlinewidth": 0,
              "ticks": ""
             }
            },
            "type": "parcoords"
           }
          ],
          "pie": [
           {
            "automargin": true,
            "type": "pie"
           }
          ],
          "scatter": [
           {
            "fillpattern": {
             "fillmode": "overlay",
             "size": 10,
             "solidity": 0.2
            },
            "type": "scatter"
           }
          ],
          "scatter3d": [
           {
            "line": {
             "colorbar": {
              "outlinewidth": 0,
              "ticks": ""
             }
            },
            "marker": {
             "colorbar": {
              "outlinewidth": 0,
              "ticks": ""
             }
            },
            "type": "scatter3d"
           }
          ],
          "scattercarpet": [
           {
            "marker": {
             "colorbar": {
              "outlinewidth": 0,
              "ticks": ""
             }
            },
            "type": "scattercarpet"
           }
          ],
          "scattergeo": [
           {
            "marker": {
             "colorbar": {
              "outlinewidth": 0,
              "ticks": ""
             }
            },
            "type": "scattergeo"
           }
          ],
          "scattergl": [
           {
            "marker": {
             "colorbar": {
              "outlinewidth": 0,
              "ticks": ""
             }
            },
            "type": "scattergl"
           }
          ],
          "scattermapbox": [
           {
            "marker": {
             "colorbar": {
              "outlinewidth": 0,
              "ticks": ""
             }
            },
            "type": "scattermapbox"
           }
          ],
          "scatterpolar": [
           {
            "marker": {
             "colorbar": {
              "outlinewidth": 0,
              "ticks": ""
             }
            },
            "type": "scatterpolar"
           }
          ],
          "scatterpolargl": [
           {
            "marker": {
             "colorbar": {
              "outlinewidth": 0,
              "ticks": ""
             }
            },
            "type": "scatterpolargl"
           }
          ],
          "scatterternary": [
           {
            "marker": {
             "colorbar": {
              "outlinewidth": 0,
              "ticks": ""
             }
            },
            "type": "scatterternary"
           }
          ],
          "surface": [
           {
            "colorbar": {
             "outlinewidth": 0,
             "ticks": ""
            },
            "colorscale": [
             [
              0,
              "#0d0887"
             ],
             [
              0.1111111111111111,
              "#46039f"
             ],
             [
              0.2222222222222222,
              "#7201a8"
             ],
             [
              0.3333333333333333,
              "#9c179e"
             ],
             [
              0.4444444444444444,
              "#bd3786"
             ],
             [
              0.5555555555555556,
              "#d8576b"
             ],
             [
              0.6666666666666666,
              "#ed7953"
             ],
             [
              0.7777777777777778,
              "#fb9f3a"
             ],
             [
              0.8888888888888888,
              "#fdca26"
             ],
             [
              1,
              "#f0f921"
             ]
            ],
            "type": "surface"
           }
          ],
          "table": [
           {
            "cells": {
             "fill": {
              "color": "#EBF0F8"
             },
             "line": {
              "color": "white"
             }
            },
            "header": {
             "fill": {
              "color": "#C8D4E3"
             },
             "line": {
              "color": "white"
             }
            },
            "type": "table"
           }
          ]
         },
         "layout": {
          "annotationdefaults": {
           "arrowcolor": "#2a3f5f",
           "arrowhead": 0,
           "arrowwidth": 1
          },
          "autotypenumbers": "strict",
          "coloraxis": {
           "colorbar": {
            "outlinewidth": 0,
            "ticks": ""
           }
          },
          "colorscale": {
           "diverging": [
            [
             0,
             "#8e0152"
            ],
            [
             0.1,
             "#c51b7d"
            ],
            [
             0.2,
             "#de77ae"
            ],
            [
             0.3,
             "#f1b6da"
            ],
            [
             0.4,
             "#fde0ef"
            ],
            [
             0.5,
             "#f7f7f7"
            ],
            [
             0.6,
             "#e6f5d0"
            ],
            [
             0.7,
             "#b8e186"
            ],
            [
             0.8,
             "#7fbc41"
            ],
            [
             0.9,
             "#4d9221"
            ],
            [
             1,
             "#276419"
            ]
           ],
           "sequential": [
            [
             0,
             "#0d0887"
            ],
            [
             0.1111111111111111,
             "#46039f"
            ],
            [
             0.2222222222222222,
             "#7201a8"
            ],
            [
             0.3333333333333333,
             "#9c179e"
            ],
            [
             0.4444444444444444,
             "#bd3786"
            ],
            [
             0.5555555555555556,
             "#d8576b"
            ],
            [
             0.6666666666666666,
             "#ed7953"
            ],
            [
             0.7777777777777778,
             "#fb9f3a"
            ],
            [
             0.8888888888888888,
             "#fdca26"
            ],
            [
             1,
             "#f0f921"
            ]
           ],
           "sequentialminus": [
            [
             0,
             "#0d0887"
            ],
            [
             0.1111111111111111,
             "#46039f"
            ],
            [
             0.2222222222222222,
             "#7201a8"
            ],
            [
             0.3333333333333333,
             "#9c179e"
            ],
            [
             0.4444444444444444,
             "#bd3786"
            ],
            [
             0.5555555555555556,
             "#d8576b"
            ],
            [
             0.6666666666666666,
             "#ed7953"
            ],
            [
             0.7777777777777778,
             "#fb9f3a"
            ],
            [
             0.8888888888888888,
             "#fdca26"
            ],
            [
             1,
             "#f0f921"
            ]
           ]
          },
          "colorway": [
           "#636efa",
           "#EF553B",
           "#00cc96",
           "#ab63fa",
           "#FFA15A",
           "#19d3f3",
           "#FF6692",
           "#B6E880",
           "#FF97FF",
           "#FECB52"
          ],
          "font": {
           "color": "#2a3f5f"
          },
          "geo": {
           "bgcolor": "white",
           "lakecolor": "white",
           "landcolor": "#E5ECF6",
           "showlakes": true,
           "showland": true,
           "subunitcolor": "white"
          },
          "hoverlabel": {
           "align": "left"
          },
          "hovermode": "closest",
          "mapbox": {
           "style": "light"
          },
          "paper_bgcolor": "white",
          "plot_bgcolor": "#E5ECF6",
          "polar": {
           "angularaxis": {
            "gridcolor": "white",
            "linecolor": "white",
            "ticks": ""
           },
           "bgcolor": "#E5ECF6",
           "radialaxis": {
            "gridcolor": "white",
            "linecolor": "white",
            "ticks": ""
           }
          },
          "scene": {
           "xaxis": {
            "backgroundcolor": "#E5ECF6",
            "gridcolor": "white",
            "gridwidth": 2,
            "linecolor": "white",
            "showbackground": true,
            "ticks": "",
            "zerolinecolor": "white"
           },
           "yaxis": {
            "backgroundcolor": "#E5ECF6",
            "gridcolor": "white",
            "gridwidth": 2,
            "linecolor": "white",
            "showbackground": true,
            "ticks": "",
            "zerolinecolor": "white"
           },
           "zaxis": {
            "backgroundcolor": "#E5ECF6",
            "gridcolor": "white",
            "gridwidth": 2,
            "linecolor": "white",
            "showbackground": true,
            "ticks": "",
            "zerolinecolor": "white"
           }
          },
          "shapedefaults": {
           "line": {
            "color": "#2a3f5f"
           }
          },
          "ternary": {
           "aaxis": {
            "gridcolor": "white",
            "linecolor": "white",
            "ticks": ""
           },
           "baxis": {
            "gridcolor": "white",
            "linecolor": "white",
            "ticks": ""
           },
           "bgcolor": "#E5ECF6",
           "caxis": {
            "gridcolor": "white",
            "linecolor": "white",
            "ticks": ""
           }
          },
          "title": {
           "x": 0.05
          },
          "xaxis": {
           "automargin": true,
           "gridcolor": "white",
           "linecolor": "white",
           "ticks": "",
           "title": {
            "standoff": 15
           },
           "zerolinecolor": "white",
           "zerolinewidth": 2
          },
          "yaxis": {
           "automargin": true,
           "gridcolor": "white",
           "linecolor": "white",
           "ticks": "",
           "title": {
            "standoff": 15
           },
           "zerolinecolor": "white",
           "zerolinewidth": 2
          }
         }
        },
        "title": {
         "text": "texture term usage rate per saliency bin for BLIP-2, real"
        },
        "width": 1000,
        "xaxis": {
         "tickmode": "array",
         "ticktext": [
          "0-20",
          "21-40",
          "41-60",
          "61-80",
          "81-100"
         ],
         "tickvals": [
          0,
          1,
          2,
          3,
          4
         ],
         "title": {
          "text": "Texture saliency in %"
         }
        },
        "yaxis": {
         "range": [
          0,
          1
         ],
         "title": {
          "text": "Rate of using texture terms"
         }
        }
       }
      }
     },
     "metadata": {},
     "output_type": "display_data"
    }
   ],
   "source": [
    "import visualizations\n",
    "import importlib\n",
    "importlib.reload(visualizations)\n",
    "from visualizations import visualize_saliency\n",
    "\n",
    "figs = visualize_saliency(data, 'texture')\n",
    "\n",
    "for fig in figs:\n",
    "    fig.show()"
   ]
  },
  {
   "cell_type": "code",
   "execution_count": 60,
   "metadata": {},
   "outputs": [
    {
     "data": {
      "application/vnd.plotly.v1+json": {
       "config": {
        "plotlyServerURL": "https://plot.ly"
       },
       "data": [
        {
         "name": "Length Greedy",
         "type": "bar",
         "x": [
          2001,
          2002,
          2003,
          2004,
          2005,
          2006,
          2007,
          2008,
          2009,
          2010,
          2011,
          2012,
          2013,
          2014,
          2015,
          2016,
          2017,
          2018,
          2019,
          2020,
          2021,
          2022,
          2023,
          2024,
          2025,
          2026,
          2027,
          2028,
          2029,
          2030,
          2031,
          2032,
          2033,
          2034,
          2035,
          2036,
          2037,
          2038,
          2039,
          2040,
          2041,
          2042,
          2043,
          2044,
          2045,
          2046,
          2047,
          2048,
          2049,
          2050,
          2051,
          2052,
          2053,
          2054,
          2055,
          2056,
          2057,
          2058,
          2059,
          2060,
          2061,
          2062,
          2063,
          2064
         ],
         "y": [
          10,
          8,
          10,
          8,
          7,
          10,
          7,
          7,
          9,
          8,
          9,
          7,
          9,
          9,
          10,
          9,
          9,
          7,
          10,
          9,
          9,
          8,
          11,
          15,
          9,
          10,
          9,
          9,
          10,
          9,
          7,
          11,
          9,
          10,
          10,
          10,
          9,
          10,
          9,
          8,
          8,
          7,
          8,
          9,
          8,
          12,
          10,
          10,
          10,
          8,
          10,
          10,
          10,
          11,
          7,
          12,
          11,
          6,
          10,
          8,
          8,
          8,
          8,
          7
         ]
        },
        {
         "name": "Length Nucleus",
         "type": "bar",
         "x": [
          2001,
          2002,
          2003,
          2004,
          2005,
          2006,
          2007,
          2008,
          2009,
          2010,
          2011,
          2012,
          2013,
          2014,
          2015,
          2016,
          2017,
          2018,
          2019,
          2020,
          2021,
          2022,
          2023,
          2024,
          2025,
          2026,
          2027,
          2028,
          2029,
          2030,
          2031,
          2032,
          2033,
          2034,
          2035,
          2036,
          2037,
          2038,
          2039,
          2040,
          2041,
          2042,
          2043,
          2044,
          2045,
          2046,
          2047,
          2048,
          2049,
          2050,
          2051,
          2052,
          2053,
          2054,
          2055,
          2056,
          2057,
          2058,
          2059,
          2060,
          2061,
          2062,
          2063,
          2064
         ],
         "y": [
          5,
          8,
          11,
          5,
          8,
          11,
          10,
          8,
          13,
          12,
          9,
          7,
          7,
          4,
          9,
          10,
          9,
          12,
          13,
          6,
          14,
          9,
          8,
          5,
          9,
          5,
          9,
          8,
          10,
          11,
          9,
          11,
          8,
          12,
          10,
          17,
          9,
          15,
          10,
          10,
          13,
          7,
          8,
          11,
          9,
          12,
          7,
          10,
          12,
          4,
          4,
          9,
          9,
          4,
          8,
          6,
          9,
          8,
          8,
          12,
          10,
          10,
          3,
          8
         ]
        },
        {
         "name": "Length Beam",
         "type": "bar",
         "x": [
          2001,
          2002,
          2003,
          2004,
          2005,
          2006,
          2007,
          2008,
          2009,
          2010,
          2011,
          2012,
          2013,
          2014,
          2015,
          2016,
          2017,
          2018,
          2019,
          2020,
          2021,
          2022,
          2023,
          2024,
          2025,
          2026,
          2027,
          2028,
          2029,
          2030,
          2031,
          2032,
          2033,
          2034,
          2035,
          2036,
          2037,
          2038,
          2039,
          2040,
          2041,
          2042,
          2043,
          2044,
          2045,
          2046,
          2047,
          2048,
          2049,
          2050,
          2051,
          2052,
          2053,
          2054,
          2055,
          2056,
          2057,
          2058,
          2059,
          2060,
          2061,
          2062,
          2063,
          2064
         ],
         "y": [
          10,
          8,
          10,
          12,
          14,
          10,
          11,
          12,
          8,
          9,
          9,
          11,
          10,
          9,
          9,
          10,
          12,
          11,
          10,
          9,
          11,
          11,
          12,
          12,
          10,
          11,
          8,
          10,
          12,
          9,
          7,
          9,
          8,
          10,
          9,
          12,
          9,
          9,
          10,
          8,
          10,
          10,
          9,
          10,
          9,
          11,
          10,
          10,
          7,
          9,
          10,
          8,
          11,
          11,
          7,
          12,
          11,
          10,
          11,
          14,
          9,
          8,
          12,
          8
         ]
        }
       ],
       "layout": {
        "bargap": 0.1,
        "bargroupgap": 0.3,
        "barmode": "group",
        "template": {
         "data": {
          "bar": [
           {
            "error_x": {
             "color": "#2a3f5f"
            },
            "error_y": {
             "color": "#2a3f5f"
            },
            "marker": {
             "line": {
              "color": "#E5ECF6",
              "width": 0.5
             },
             "pattern": {
              "fillmode": "overlay",
              "size": 10,
              "solidity": 0.2
             }
            },
            "type": "bar"
           }
          ],
          "barpolar": [
           {
            "marker": {
             "line": {
              "color": "#E5ECF6",
              "width": 0.5
             },
             "pattern": {
              "fillmode": "overlay",
              "size": 10,
              "solidity": 0.2
             }
            },
            "type": "barpolar"
           }
          ],
          "carpet": [
           {
            "aaxis": {
             "endlinecolor": "#2a3f5f",
             "gridcolor": "white",
             "linecolor": "white",
             "minorgridcolor": "white",
             "startlinecolor": "#2a3f5f"
            },
            "baxis": {
             "endlinecolor": "#2a3f5f",
             "gridcolor": "white",
             "linecolor": "white",
             "minorgridcolor": "white",
             "startlinecolor": "#2a3f5f"
            },
            "type": "carpet"
           }
          ],
          "choropleth": [
           {
            "colorbar": {
             "outlinewidth": 0,
             "ticks": ""
            },
            "type": "choropleth"
           }
          ],
          "contour": [
           {
            "colorbar": {
             "outlinewidth": 0,
             "ticks": ""
            },
            "colorscale": [
             [
              0,
              "#0d0887"
             ],
             [
              0.1111111111111111,
              "#46039f"
             ],
             [
              0.2222222222222222,
              "#7201a8"
             ],
             [
              0.3333333333333333,
              "#9c179e"
             ],
             [
              0.4444444444444444,
              "#bd3786"
             ],
             [
              0.5555555555555556,
              "#d8576b"
             ],
             [
              0.6666666666666666,
              "#ed7953"
             ],
             [
              0.7777777777777778,
              "#fb9f3a"
             ],
             [
              0.8888888888888888,
              "#fdca26"
             ],
             [
              1,
              "#f0f921"
             ]
            ],
            "type": "contour"
           }
          ],
          "contourcarpet": [
           {
            "colorbar": {
             "outlinewidth": 0,
             "ticks": ""
            },
            "type": "contourcarpet"
           }
          ],
          "heatmap": [
           {
            "colorbar": {
             "outlinewidth": 0,
             "ticks": ""
            },
            "colorscale": [
             [
              0,
              "#0d0887"
             ],
             [
              0.1111111111111111,
              "#46039f"
             ],
             [
              0.2222222222222222,
              "#7201a8"
             ],
             [
              0.3333333333333333,
              "#9c179e"
             ],
             [
              0.4444444444444444,
              "#bd3786"
             ],
             [
              0.5555555555555556,
              "#d8576b"
             ],
             [
              0.6666666666666666,
              "#ed7953"
             ],
             [
              0.7777777777777778,
              "#fb9f3a"
             ],
             [
              0.8888888888888888,
              "#fdca26"
             ],
             [
              1,
              "#f0f921"
             ]
            ],
            "type": "heatmap"
           }
          ],
          "heatmapgl": [
           {
            "colorbar": {
             "outlinewidth": 0,
             "ticks": ""
            },
            "colorscale": [
             [
              0,
              "#0d0887"
             ],
             [
              0.1111111111111111,
              "#46039f"
             ],
             [
              0.2222222222222222,
              "#7201a8"
             ],
             [
              0.3333333333333333,
              "#9c179e"
             ],
             [
              0.4444444444444444,
              "#bd3786"
             ],
             [
              0.5555555555555556,
              "#d8576b"
             ],
             [
              0.6666666666666666,
              "#ed7953"
             ],
             [
              0.7777777777777778,
              "#fb9f3a"
             ],
             [
              0.8888888888888888,
              "#fdca26"
             ],
             [
              1,
              "#f0f921"
             ]
            ],
            "type": "heatmapgl"
           }
          ],
          "histogram": [
           {
            "marker": {
             "pattern": {
              "fillmode": "overlay",
              "size": 10,
              "solidity": 0.2
             }
            },
            "type": "histogram"
           }
          ],
          "histogram2d": [
           {
            "colorbar": {
             "outlinewidth": 0,
             "ticks": ""
            },
            "colorscale": [
             [
              0,
              "#0d0887"
             ],
             [
              0.1111111111111111,
              "#46039f"
             ],
             [
              0.2222222222222222,
              "#7201a8"
             ],
             [
              0.3333333333333333,
              "#9c179e"
             ],
             [
              0.4444444444444444,
              "#bd3786"
             ],
             [
              0.5555555555555556,
              "#d8576b"
             ],
             [
              0.6666666666666666,
              "#ed7953"
             ],
             [
              0.7777777777777778,
              "#fb9f3a"
             ],
             [
              0.8888888888888888,
              "#fdca26"
             ],
             [
              1,
              "#f0f921"
             ]
            ],
            "type": "histogram2d"
           }
          ],
          "histogram2dcontour": [
           {
            "colorbar": {
             "outlinewidth": 0,
             "ticks": ""
            },
            "colorscale": [
             [
              0,
              "#0d0887"
             ],
             [
              0.1111111111111111,
              "#46039f"
             ],
             [
              0.2222222222222222,
              "#7201a8"
             ],
             [
              0.3333333333333333,
              "#9c179e"
             ],
             [
              0.4444444444444444,
              "#bd3786"
             ],
             [
              0.5555555555555556,
              "#d8576b"
             ],
             [
              0.6666666666666666,
              "#ed7953"
             ],
             [
              0.7777777777777778,
              "#fb9f3a"
             ],
             [
              0.8888888888888888,
              "#fdca26"
             ],
             [
              1,
              "#f0f921"
             ]
            ],
            "type": "histogram2dcontour"
           }
          ],
          "mesh3d": [
           {
            "colorbar": {
             "outlinewidth": 0,
             "ticks": ""
            },
            "type": "mesh3d"
           }
          ],
          "parcoords": [
           {
            "line": {
             "colorbar": {
              "outlinewidth": 0,
              "ticks": ""
             }
            },
            "type": "parcoords"
           }
          ],
          "pie": [
           {
            "automargin": true,
            "type": "pie"
           }
          ],
          "scatter": [
           {
            "fillpattern": {
             "fillmode": "overlay",
             "size": 10,
             "solidity": 0.2
            },
            "type": "scatter"
           }
          ],
          "scatter3d": [
           {
            "line": {
             "colorbar": {
              "outlinewidth": 0,
              "ticks": ""
             }
            },
            "marker": {
             "colorbar": {
              "outlinewidth": 0,
              "ticks": ""
             }
            },
            "type": "scatter3d"
           }
          ],
          "scattercarpet": [
           {
            "marker": {
             "colorbar": {
              "outlinewidth": 0,
              "ticks": ""
             }
            },
            "type": "scattercarpet"
           }
          ],
          "scattergeo": [
           {
            "marker": {
             "colorbar": {
              "outlinewidth": 0,
              "ticks": ""
             }
            },
            "type": "scattergeo"
           }
          ],
          "scattergl": [
           {
            "marker": {
             "colorbar": {
              "outlinewidth": 0,
              "ticks": ""
             }
            },
            "type": "scattergl"
           }
          ],
          "scattermapbox": [
           {
            "marker": {
             "colorbar": {
              "outlinewidth": 0,
              "ticks": ""
             }
            },
            "type": "scattermapbox"
           }
          ],
          "scatterpolar": [
           {
            "marker": {
             "colorbar": {
              "outlinewidth": 0,
              "ticks": ""
             }
            },
            "type": "scatterpolar"
           }
          ],
          "scatterpolargl": [
           {
            "marker": {
             "colorbar": {
              "outlinewidth": 0,
              "ticks": ""
             }
            },
            "type": "scatterpolargl"
           }
          ],
          "scatterternary": [
           {
            "marker": {
             "colorbar": {
              "outlinewidth": 0,
              "ticks": ""
             }
            },
            "type": "scatterternary"
           }
          ],
          "surface": [
           {
            "colorbar": {
             "outlinewidth": 0,
             "ticks": ""
            },
            "colorscale": [
             [
              0,
              "#0d0887"
             ],
             [
              0.1111111111111111,
              "#46039f"
             ],
             [
              0.2222222222222222,
              "#7201a8"
             ],
             [
              0.3333333333333333,
              "#9c179e"
             ],
             [
              0.4444444444444444,
              "#bd3786"
             ],
             [
              0.5555555555555556,
              "#d8576b"
             ],
             [
              0.6666666666666666,
              "#ed7953"
             ],
             [
              0.7777777777777778,
              "#fb9f3a"
             ],
             [
              0.8888888888888888,
              "#fdca26"
             ],
             [
              1,
              "#f0f921"
             ]
            ],
            "type": "surface"
           }
          ],
          "table": [
           {
            "cells": {
             "fill": {
              "color": "#EBF0F8"
             },
             "line": {
              "color": "white"
             }
            },
            "header": {
             "fill": {
              "color": "#C8D4E3"
             },
             "line": {
              "color": "white"
             }
            },
            "type": "table"
           }
          ]
         },
         "layout": {
          "annotationdefaults": {
           "arrowcolor": "#2a3f5f",
           "arrowhead": 0,
           "arrowwidth": 1
          },
          "autotypenumbers": "strict",
          "coloraxis": {
           "colorbar": {
            "outlinewidth": 0,
            "ticks": ""
           }
          },
          "colorscale": {
           "diverging": [
            [
             0,
             "#8e0152"
            ],
            [
             0.1,
             "#c51b7d"
            ],
            [
             0.2,
             "#de77ae"
            ],
            [
             0.3,
             "#f1b6da"
            ],
            [
             0.4,
             "#fde0ef"
            ],
            [
             0.5,
             "#f7f7f7"
            ],
            [
             0.6,
             "#e6f5d0"
            ],
            [
             0.7,
             "#b8e186"
            ],
            [
             0.8,
             "#7fbc41"
            ],
            [
             0.9,
             "#4d9221"
            ],
            [
             1,
             "#276419"
            ]
           ],
           "sequential": [
            [
             0,
             "#0d0887"
            ],
            [
             0.1111111111111111,
             "#46039f"
            ],
            [
             0.2222222222222222,
             "#7201a8"
            ],
            [
             0.3333333333333333,
             "#9c179e"
            ],
            [
             0.4444444444444444,
             "#bd3786"
            ],
            [
             0.5555555555555556,
             "#d8576b"
            ],
            [
             0.6666666666666666,
             "#ed7953"
            ],
            [
             0.7777777777777778,
             "#fb9f3a"
            ],
            [
             0.8888888888888888,
             "#fdca26"
            ],
            [
             1,
             "#f0f921"
            ]
           ],
           "sequentialminus": [
            [
             0,
             "#0d0887"
            ],
            [
             0.1111111111111111,
             "#46039f"
            ],
            [
             0.2222222222222222,
             "#7201a8"
            ],
            [
             0.3333333333333333,
             "#9c179e"
            ],
            [
             0.4444444444444444,
             "#bd3786"
            ],
            [
             0.5555555555555556,
             "#d8576b"
            ],
            [
             0.6666666666666666,
             "#ed7953"
            ],
            [
             0.7777777777777778,
             "#fb9f3a"
            ],
            [
             0.8888888888888888,
             "#fdca26"
            ],
            [
             1,
             "#f0f921"
            ]
           ]
          },
          "colorway": [
           "#636efa",
           "#EF553B",
           "#00cc96",
           "#ab63fa",
           "#FFA15A",
           "#19d3f3",
           "#FF6692",
           "#B6E880",
           "#FF97FF",
           "#FECB52"
          ],
          "font": {
           "color": "#2a3f5f"
          },
          "geo": {
           "bgcolor": "white",
           "lakecolor": "white",
           "landcolor": "#E5ECF6",
           "showlakes": true,
           "showland": true,
           "subunitcolor": "white"
          },
          "hoverlabel": {
           "align": "left"
          },
          "hovermode": "closest",
          "mapbox": {
           "style": "light"
          },
          "paper_bgcolor": "white",
          "plot_bgcolor": "#E5ECF6",
          "polar": {
           "angularaxis": {
            "gridcolor": "white",
            "linecolor": "white",
            "ticks": ""
           },
           "bgcolor": "#E5ECF6",
           "radialaxis": {
            "gridcolor": "white",
            "linecolor": "white",
            "ticks": ""
           }
          },
          "scene": {
           "xaxis": {
            "backgroundcolor": "#E5ECF6",
            "gridcolor": "white",
            "gridwidth": 2,
            "linecolor": "white",
            "showbackground": true,
            "ticks": "",
            "zerolinecolor": "white"
           },
           "yaxis": {
            "backgroundcolor": "#E5ECF6",
            "gridcolor": "white",
            "gridwidth": 2,
            "linecolor": "white",
            "showbackground": true,
            "ticks": "",
            "zerolinecolor": "white"
           },
           "zaxis": {
            "backgroundcolor": "#E5ECF6",
            "gridcolor": "white",
            "gridwidth": 2,
            "linecolor": "white",
            "showbackground": true,
            "ticks": "",
            "zerolinecolor": "white"
           }
          },
          "shapedefaults": {
           "line": {
            "color": "#2a3f5f"
           }
          },
          "ternary": {
           "aaxis": {
            "gridcolor": "white",
            "linecolor": "white",
            "ticks": ""
           },
           "baxis": {
            "gridcolor": "white",
            "linecolor": "white",
            "ticks": ""
           },
           "bgcolor": "#E5ECF6",
           "caxis": {
            "gridcolor": "white",
            "linecolor": "white",
            "ticks": ""
           }
          },
          "title": {
           "x": 0.05
          },
          "xaxis": {
           "automargin": true,
           "gridcolor": "white",
           "linecolor": "white",
           "ticks": "",
           "title": {
            "standoff": 15
           },
           "zerolinecolor": "white",
           "zerolinewidth": 2
          },
          "yaxis": {
           "automargin": true,
           "gridcolor": "white",
           "linecolor": "white",
           "ticks": "",
           "title": {
            "standoff": 15
           },
           "zerolinecolor": "white",
           "zerolinewidth": 2
          }
         }
        },
        "title": {
         "text": "Grouped Bar Chart of token lengths"
        },
        "width": 1000,
        "xaxis": {
         "title": {
          "text": "Object label"
         }
        },
        "yaxis": {
         "title": {
          "text": "Token length"
         }
        }
       }
      },
      "text/html": [
       "<div>                            <div id=\"9b661ec3-bb5d-47fe-b74a-33cc8bdde25d\" class=\"plotly-graph-div\" style=\"height:525px; width:1000px;\"></div>            <script type=\"text/javascript\">                require([\"plotly\"], function(Plotly) {                    window.PLOTLYENV=window.PLOTLYENV || {};                                    if (document.getElementById(\"9b661ec3-bb5d-47fe-b74a-33cc8bdde25d\")) {                    Plotly.newPlot(                        \"9b661ec3-bb5d-47fe-b74a-33cc8bdde25d\",                        [{\"name\":\"Length Greedy\",\"x\":[2001,2002,2003,2004,2005,2006,2007,2008,2009,2010,2011,2012,2013,2014,2015,2016,2017,2018,2019,2020,2021,2022,2023,2024,2025,2026,2027,2028,2029,2030,2031,2032,2033,2034,2035,2036,2037,2038,2039,2040,2041,2042,2043,2044,2045,2046,2047,2048,2049,2050,2051,2052,2053,2054,2055,2056,2057,2058,2059,2060,2061,2062,2063,2064],\"y\":[10,8,10,8,7,10,7,7,9,8,9,7,9,9,10,9,9,7,10,9,9,8,11,15,9,10,9,9,10,9,7,11,9,10,10,10,9,10,9,8,8,7,8,9,8,12,10,10,10,8,10,10,10,11,7,12,11,6,10,8,8,8,8,7],\"type\":\"bar\"},{\"name\":\"Length Nucleus\",\"x\":[2001,2002,2003,2004,2005,2006,2007,2008,2009,2010,2011,2012,2013,2014,2015,2016,2017,2018,2019,2020,2021,2022,2023,2024,2025,2026,2027,2028,2029,2030,2031,2032,2033,2034,2035,2036,2037,2038,2039,2040,2041,2042,2043,2044,2045,2046,2047,2048,2049,2050,2051,2052,2053,2054,2055,2056,2057,2058,2059,2060,2061,2062,2063,2064],\"y\":[5,8,11,5,8,11,10,8,13,12,9,7,7,4,9,10,9,12,13,6,14,9,8,5,9,5,9,8,10,11,9,11,8,12,10,17,9,15,10,10,13,7,8,11,9,12,7,10,12,4,4,9,9,4,8,6,9,8,8,12,10,10,3,8],\"type\":\"bar\"},{\"name\":\"Length Beam\",\"x\":[2001,2002,2003,2004,2005,2006,2007,2008,2009,2010,2011,2012,2013,2014,2015,2016,2017,2018,2019,2020,2021,2022,2023,2024,2025,2026,2027,2028,2029,2030,2031,2032,2033,2034,2035,2036,2037,2038,2039,2040,2041,2042,2043,2044,2045,2046,2047,2048,2049,2050,2051,2052,2053,2054,2055,2056,2057,2058,2059,2060,2061,2062,2063,2064],\"y\":[10,8,10,12,14,10,11,12,8,9,9,11,10,9,9,10,12,11,10,9,11,11,12,12,10,11,8,10,12,9,7,9,8,10,9,12,9,9,10,8,10,10,9,10,9,11,10,10,7,9,10,8,11,11,7,12,11,10,11,14,9,8,12,8],\"type\":\"bar\"}],                        {\"template\":{\"data\":{\"histogram2dcontour\":[{\"type\":\"histogram2dcontour\",\"colorbar\":{\"outlinewidth\":0,\"ticks\":\"\"},\"colorscale\":[[0.0,\"#0d0887\"],[0.1111111111111111,\"#46039f\"],[0.2222222222222222,\"#7201a8\"],[0.3333333333333333,\"#9c179e\"],[0.4444444444444444,\"#bd3786\"],[0.5555555555555556,\"#d8576b\"],[0.6666666666666666,\"#ed7953\"],[0.7777777777777778,\"#fb9f3a\"],[0.8888888888888888,\"#fdca26\"],[1.0,\"#f0f921\"]]}],\"choropleth\":[{\"type\":\"choropleth\",\"colorbar\":{\"outlinewidth\":0,\"ticks\":\"\"}}],\"histogram2d\":[{\"type\":\"histogram2d\",\"colorbar\":{\"outlinewidth\":0,\"ticks\":\"\"},\"colorscale\":[[0.0,\"#0d0887\"],[0.1111111111111111,\"#46039f\"],[0.2222222222222222,\"#7201a8\"],[0.3333333333333333,\"#9c179e\"],[0.4444444444444444,\"#bd3786\"],[0.5555555555555556,\"#d8576b\"],[0.6666666666666666,\"#ed7953\"],[0.7777777777777778,\"#fb9f3a\"],[0.8888888888888888,\"#fdca26\"],[1.0,\"#f0f921\"]]}],\"heatmap\":[{\"type\":\"heatmap\",\"colorbar\":{\"outlinewidth\":0,\"ticks\":\"\"},\"colorscale\":[[0.0,\"#0d0887\"],[0.1111111111111111,\"#46039f\"],[0.2222222222222222,\"#7201a8\"],[0.3333333333333333,\"#9c179e\"],[0.4444444444444444,\"#bd3786\"],[0.5555555555555556,\"#d8576b\"],[0.6666666666666666,\"#ed7953\"],[0.7777777777777778,\"#fb9f3a\"],[0.8888888888888888,\"#fdca26\"],[1.0,\"#f0f921\"]]}],\"heatmapgl\":[{\"type\":\"heatmapgl\",\"colorbar\":{\"outlinewidth\":0,\"ticks\":\"\"},\"colorscale\":[[0.0,\"#0d0887\"],[0.1111111111111111,\"#46039f\"],[0.2222222222222222,\"#7201a8\"],[0.3333333333333333,\"#9c179e\"],[0.4444444444444444,\"#bd3786\"],[0.5555555555555556,\"#d8576b\"],[0.6666666666666666,\"#ed7953\"],[0.7777777777777778,\"#fb9f3a\"],[0.8888888888888888,\"#fdca26\"],[1.0,\"#f0f921\"]]}],\"contourcarpet\":[{\"type\":\"contourcarpet\",\"colorbar\":{\"outlinewidth\":0,\"ticks\":\"\"}}],\"contour\":[{\"type\":\"contour\",\"colorbar\":{\"outlinewidth\":0,\"ticks\":\"\"},\"colorscale\":[[0.0,\"#0d0887\"],[0.1111111111111111,\"#46039f\"],[0.2222222222222222,\"#7201a8\"],[0.3333333333333333,\"#9c179e\"],[0.4444444444444444,\"#bd3786\"],[0.5555555555555556,\"#d8576b\"],[0.6666666666666666,\"#ed7953\"],[0.7777777777777778,\"#fb9f3a\"],[0.8888888888888888,\"#fdca26\"],[1.0,\"#f0f921\"]]}],\"surface\":[{\"type\":\"surface\",\"colorbar\":{\"outlinewidth\":0,\"ticks\":\"\"},\"colorscale\":[[0.0,\"#0d0887\"],[0.1111111111111111,\"#46039f\"],[0.2222222222222222,\"#7201a8\"],[0.3333333333333333,\"#9c179e\"],[0.4444444444444444,\"#bd3786\"],[0.5555555555555556,\"#d8576b\"],[0.6666666666666666,\"#ed7953\"],[0.7777777777777778,\"#fb9f3a\"],[0.8888888888888888,\"#fdca26\"],[1.0,\"#f0f921\"]]}],\"mesh3d\":[{\"type\":\"mesh3d\",\"colorbar\":{\"outlinewidth\":0,\"ticks\":\"\"}}],\"scatter\":[{\"fillpattern\":{\"fillmode\":\"overlay\",\"size\":10,\"solidity\":0.2},\"type\":\"scatter\"}],\"parcoords\":[{\"type\":\"parcoords\",\"line\":{\"colorbar\":{\"outlinewidth\":0,\"ticks\":\"\"}}}],\"scatterpolargl\":[{\"type\":\"scatterpolargl\",\"marker\":{\"colorbar\":{\"outlinewidth\":0,\"ticks\":\"\"}}}],\"bar\":[{\"error_x\":{\"color\":\"#2a3f5f\"},\"error_y\":{\"color\":\"#2a3f5f\"},\"marker\":{\"line\":{\"color\":\"#E5ECF6\",\"width\":0.5},\"pattern\":{\"fillmode\":\"overlay\",\"size\":10,\"solidity\":0.2}},\"type\":\"bar\"}],\"scattergeo\":[{\"type\":\"scattergeo\",\"marker\":{\"colorbar\":{\"outlinewidth\":0,\"ticks\":\"\"}}}],\"scatterpolar\":[{\"type\":\"scatterpolar\",\"marker\":{\"colorbar\":{\"outlinewidth\":0,\"ticks\":\"\"}}}],\"histogram\":[{\"marker\":{\"pattern\":{\"fillmode\":\"overlay\",\"size\":10,\"solidity\":0.2}},\"type\":\"histogram\"}],\"scattergl\":[{\"type\":\"scattergl\",\"marker\":{\"colorbar\":{\"outlinewidth\":0,\"ticks\":\"\"}}}],\"scatter3d\":[{\"type\":\"scatter3d\",\"line\":{\"colorbar\":{\"outlinewidth\":0,\"ticks\":\"\"}},\"marker\":{\"colorbar\":{\"outlinewidth\":0,\"ticks\":\"\"}}}],\"scattermapbox\":[{\"type\":\"scattermapbox\",\"marker\":{\"colorbar\":{\"outlinewidth\":0,\"ticks\":\"\"}}}],\"scatterternary\":[{\"type\":\"scatterternary\",\"marker\":{\"colorbar\":{\"outlinewidth\":0,\"ticks\":\"\"}}}],\"scattercarpet\":[{\"type\":\"scattercarpet\",\"marker\":{\"colorbar\":{\"outlinewidth\":0,\"ticks\":\"\"}}}],\"carpet\":[{\"aaxis\":{\"endlinecolor\":\"#2a3f5f\",\"gridcolor\":\"white\",\"linecolor\":\"white\",\"minorgridcolor\":\"white\",\"startlinecolor\":\"#2a3f5f\"},\"baxis\":{\"endlinecolor\":\"#2a3f5f\",\"gridcolor\":\"white\",\"linecolor\":\"white\",\"minorgridcolor\":\"white\",\"startlinecolor\":\"#2a3f5f\"},\"type\":\"carpet\"}],\"table\":[{\"cells\":{\"fill\":{\"color\":\"#EBF0F8\"},\"line\":{\"color\":\"white\"}},\"header\":{\"fill\":{\"color\":\"#C8D4E3\"},\"line\":{\"color\":\"white\"}},\"type\":\"table\"}],\"barpolar\":[{\"marker\":{\"line\":{\"color\":\"#E5ECF6\",\"width\":0.5},\"pattern\":{\"fillmode\":\"overlay\",\"size\":10,\"solidity\":0.2}},\"type\":\"barpolar\"}],\"pie\":[{\"automargin\":true,\"type\":\"pie\"}]},\"layout\":{\"autotypenumbers\":\"strict\",\"colorway\":[\"#636efa\",\"#EF553B\",\"#00cc96\",\"#ab63fa\",\"#FFA15A\",\"#19d3f3\",\"#FF6692\",\"#B6E880\",\"#FF97FF\",\"#FECB52\"],\"font\":{\"color\":\"#2a3f5f\"},\"hovermode\":\"closest\",\"hoverlabel\":{\"align\":\"left\"},\"paper_bgcolor\":\"white\",\"plot_bgcolor\":\"#E5ECF6\",\"polar\":{\"bgcolor\":\"#E5ECF6\",\"angularaxis\":{\"gridcolor\":\"white\",\"linecolor\":\"white\",\"ticks\":\"\"},\"radialaxis\":{\"gridcolor\":\"white\",\"linecolor\":\"white\",\"ticks\":\"\"}},\"ternary\":{\"bgcolor\":\"#E5ECF6\",\"aaxis\":{\"gridcolor\":\"white\",\"linecolor\":\"white\",\"ticks\":\"\"},\"baxis\":{\"gridcolor\":\"white\",\"linecolor\":\"white\",\"ticks\":\"\"},\"caxis\":{\"gridcolor\":\"white\",\"linecolor\":\"white\",\"ticks\":\"\"}},\"coloraxis\":{\"colorbar\":{\"outlinewidth\":0,\"ticks\":\"\"}},\"colorscale\":{\"sequential\":[[0.0,\"#0d0887\"],[0.1111111111111111,\"#46039f\"],[0.2222222222222222,\"#7201a8\"],[0.3333333333333333,\"#9c179e\"],[0.4444444444444444,\"#bd3786\"],[0.5555555555555556,\"#d8576b\"],[0.6666666666666666,\"#ed7953\"],[0.7777777777777778,\"#fb9f3a\"],[0.8888888888888888,\"#fdca26\"],[1.0,\"#f0f921\"]],\"sequentialminus\":[[0.0,\"#0d0887\"],[0.1111111111111111,\"#46039f\"],[0.2222222222222222,\"#7201a8\"],[0.3333333333333333,\"#9c179e\"],[0.4444444444444444,\"#bd3786\"],[0.5555555555555556,\"#d8576b\"],[0.6666666666666666,\"#ed7953\"],[0.7777777777777778,\"#fb9f3a\"],[0.8888888888888888,\"#fdca26\"],[1.0,\"#f0f921\"]],\"diverging\":[[0,\"#8e0152\"],[0.1,\"#c51b7d\"],[0.2,\"#de77ae\"],[0.3,\"#f1b6da\"],[0.4,\"#fde0ef\"],[0.5,\"#f7f7f7\"],[0.6,\"#e6f5d0\"],[0.7,\"#b8e186\"],[0.8,\"#7fbc41\"],[0.9,\"#4d9221\"],[1,\"#276419\"]]},\"xaxis\":{\"gridcolor\":\"white\",\"linecolor\":\"white\",\"ticks\":\"\",\"title\":{\"standoff\":15},\"zerolinecolor\":\"white\",\"automargin\":true,\"zerolinewidth\":2},\"yaxis\":{\"gridcolor\":\"white\",\"linecolor\":\"white\",\"ticks\":\"\",\"title\":{\"standoff\":15},\"zerolinecolor\":\"white\",\"automargin\":true,\"zerolinewidth\":2},\"scene\":{\"xaxis\":{\"backgroundcolor\":\"#E5ECF6\",\"gridcolor\":\"white\",\"linecolor\":\"white\",\"showbackground\":true,\"ticks\":\"\",\"zerolinecolor\":\"white\",\"gridwidth\":2},\"yaxis\":{\"backgroundcolor\":\"#E5ECF6\",\"gridcolor\":\"white\",\"linecolor\":\"white\",\"showbackground\":true,\"ticks\":\"\",\"zerolinecolor\":\"white\",\"gridwidth\":2},\"zaxis\":{\"backgroundcolor\":\"#E5ECF6\",\"gridcolor\":\"white\",\"linecolor\":\"white\",\"showbackground\":true,\"ticks\":\"\",\"zerolinecolor\":\"white\",\"gridwidth\":2}},\"shapedefaults\":{\"line\":{\"color\":\"#2a3f5f\"}},\"annotationdefaults\":{\"arrowcolor\":\"#2a3f5f\",\"arrowhead\":0,\"arrowwidth\":1},\"geo\":{\"bgcolor\":\"white\",\"landcolor\":\"#E5ECF6\",\"subunitcolor\":\"white\",\"showland\":true,\"showlakes\":true,\"lakecolor\":\"white\"},\"title\":{\"x\":0.05},\"mapbox\":{\"style\":\"light\"}}},\"width\":1000,\"title\":{\"text\":\"Grouped Bar Chart of token lengths\"},\"xaxis\":{\"title\":{\"text\":\"Object label\"}},\"yaxis\":{\"title\":{\"text\":\"Token length\"}},\"barmode\":\"group\",\"bargap\":0.1,\"bargroupgap\":0.3},                        {\"responsive\": true}                    ).then(function(){\n",
       "                            \n",
       "var gd = document.getElementById('9b661ec3-bb5d-47fe-b74a-33cc8bdde25d');\n",
       "var x = new MutationObserver(function (mutations, observer) {{\n",
       "        var display = window.getComputedStyle(gd).display;\n",
       "        if (!display || display === 'none') {{\n",
       "            console.log([gd, 'removed!']);\n",
       "            Plotly.purge(gd);\n",
       "            observer.disconnect();\n",
       "        }}\n",
       "}});\n",
       "\n",
       "// Listen for the removal of the full notebook cells\n",
       "var notebookContainer = gd.closest('#notebook-container');\n",
       "if (notebookContainer) {{\n",
       "    x.observe(notebookContainer, {childList: true});\n",
       "}}\n",
       "\n",
       "// Listen for the clearing of the current output cell\n",
       "var outputEl = gd.closest('.output');\n",
       "if (outputEl) {{\n",
       "    x.observe(outputEl, {childList: true});\n",
       "}}\n",
       "\n",
       "                        })                };                });            </script>        </div>"
      ]
     },
     "metadata": {},
     "output_type": "display_data"
    }
   ],
   "source": [
    "import plotly.graph_objects as go\n",
    "import pandas as pd\n",
    "\n",
    "# Assuming your dataframe is called 'df'\n",
    "# You can load your data into a dataframe using pd.read_csv() or any other method\n",
    "\n",
    "# Create a list of row indices to use as labels for x-axis\n",
    "labels = data['number label'].tolist()\n",
    "\n",
    "# Create a figure object\n",
    "fig = go.Figure()\n",
    "\n",
    "# Add the bars for each length column\n",
    "fig.add_trace(go.Bar(x=labels, y=data['length greedy'], name='Length Greedy'))\n",
    "fig.add_trace(go.Bar(x=labels, y=data['length nucleus'], name='Length Nucleus'))\n",
    "fig.add_trace(go.Bar(x=labels, y=data['length beam'], name='Length Beam'))\n",
    "\n",
    "# Update the layout\n",
    "fig.update_layout(\n",
    "    width=1000,\n",
    "    title='Grouped Bar Chart of token lengths',\n",
    "    xaxis_title='Object label',\n",
    "    yaxis_title='Token length',\n",
    "    barmode='group',  # Set the bar mode to 'group' for grouped bars\n",
    "    bargap=0.1,  # Adjust the spacing between bars within each group\n",
    "    bargroupgap=0.3  # Adjust the spacing between groups\n",
    ")\n",
    "\n",
    "# Show the plot\n",
    "fig.show()\n",
    "\n",
    "# # Save the plot as JSON\n",
    "fig_json = fig.to_json()\n",
    "with open('token_length.json', 'w') as file:\n",
    "    file.write(fig_json)"
   ]
  },
  {
   "attachments": {},
   "cell_type": "markdown",
   "metadata": {},
   "source": [
    "#### Bool breakdown"
   ]
  },
  {
   "cell_type": "code",
   "execution_count": 218,
   "metadata": {},
   "outputs": [
    {
     "name": "stdout",
     "output_type": "stream",
     "text": [
      "image_path\n",
      "number label\n",
      "actual name\n",
      "familiarity score\n",
      "nameability score\n",
      "color saliency\n",
      "texture saliency\n",
      "BLIP-2, greedy, caption\n",
      "BLIP-2, greedy, bool\n",
      "BLIP-2, greedy, name\n",
      "BLIP-2, greedy, real\n",
      "BLIP-2, greedy, caption saliency\n",
      "BLIP-2, greedy, bool saliency\n",
      "BLIP-2, greedy, name saliency\n",
      "BLIP-2, greedy, real saliency\n",
      "BLIP-2, nucleus, caption\n",
      "BLIP-2, nucleus, bool\n",
      "BLIP-2, nucleus, name\n",
      "BLIP-2, nucleus, real\n",
      "BLIP-2, nucleus, caption saliency\n",
      "BLIP-2, nucleus, bool saliency\n",
      "BLIP-2, nucleus, name saliency\n",
      "BLIP-2, nucleus, real saliency\n",
      "BLIP-2, beam, caption\n",
      "BLIP-2, beam, bool\n",
      "BLIP-2, beam, name\n",
      "BLIP-2, beam, real\n",
      "BLIP-2, beam, caption saliency\n",
      "BLIP-2, beam, bool saliency\n",
      "BLIP-2, beam, name saliency\n",
      "BLIP-2, beam, real saliency\n",
      "BLIP-2, greedy, max_new_tokens=5, caption\n",
      "BLIP-2, greedy, max_new_tokens=5, bool\n",
      "BLIP-2, greedy, max_new_tokens=5, name\n",
      "BLIP-2, greedy, max_new_tokens=5, real\n",
      "BLIP-2, greedy, max_new_tokens=5, caption saliency\n",
      "BLIP-2, greedy, max_new_tokens=5, bool saliency\n",
      "BLIP-2, greedy, max_new_tokens=5, name saliency\n",
      "BLIP-2, greedy, max_new_tokens=5, real saliency\n",
      "BLIP-2, greedy, max_new_tokens=10, caption\n",
      "BLIP-2, greedy, max_new_tokens=10, bool\n",
      "BLIP-2, greedy, max_new_tokens=10, name\n",
      "BLIP-2, greedy, max_new_tokens=10, real\n",
      "BLIP-2, greedy, max_new_tokens=10, caption saliency\n",
      "BLIP-2, greedy, max_new_tokens=10, bool saliency\n",
      "BLIP-2, greedy, max_new_tokens=10, name saliency\n",
      "BLIP-2, greedy, max_new_tokens=10, real saliency\n",
      "BLIP-2, greedy, max_new_tokens=20, caption\n",
      "BLIP-2, greedy, max_new_tokens=20, bool\n",
      "BLIP-2, greedy, max_new_tokens=20, name\n",
      "BLIP-2, greedy, max_new_tokens=20, real\n",
      "BLIP-2, greedy, max_new_tokens=20, caption saliency\n",
      "BLIP-2, greedy, max_new_tokens=20, bool saliency\n",
      "BLIP-2, greedy, max_new_tokens=20, name saliency\n",
      "BLIP-2, greedy, max_new_tokens=20, real saliency\n",
      "BLIP-2, nucleus, top_p=0.1, caption\n",
      "BLIP-2, nucleus, top_p=0.1, bool\n",
      "BLIP-2, nucleus, top_p=0.1, name\n",
      "BLIP-2, nucleus, top_p=0.1, real\n",
      "BLIP-2, nucleus, top_p=0.1, caption saliency\n",
      "BLIP-2, nucleus, top_p=0.1, bool saliency\n",
      "BLIP-2, nucleus, top_p=0.1, name saliency\n",
      "BLIP-2, nucleus, top_p=0.1, real saliency\n",
      "BLIP-2, nucleus, top_p=0.5, caption\n",
      "BLIP-2, nucleus, top_p=0.5, bool\n",
      "BLIP-2, nucleus, top_p=0.5, name\n",
      "BLIP-2, nucleus, top_p=0.5, real\n",
      "BLIP-2, nucleus, top_p=0.5, caption saliency\n",
      "BLIP-2, nucleus, top_p=0.5, bool saliency\n",
      "BLIP-2, nucleus, top_p=0.5, name saliency\n",
      "BLIP-2, nucleus, top_p=0.5, real saliency\n",
      "BLIP-2, nucleus, top_p=0.9, caption\n",
      "BLIP-2, nucleus, top_p=0.9, bool\n",
      "BLIP-2, nucleus, top_p=0.9, name\n",
      "BLIP-2, nucleus, top_p=0.9, real\n",
      "BLIP-2, nucleus, top_p=0.9, caption saliency\n",
      "BLIP-2, nucleus, top_p=0.9, bool saliency\n",
      "BLIP-2, nucleus, top_p=0.9, name saliency\n",
      "BLIP-2, nucleus, top_p=0.9, real saliency\n",
      "BLIP-2, beam, num_beams=1, caption\n",
      "BLIP-2, beam, num_beams=1, bool\n",
      "BLIP-2, beam, num_beams=1, name\n",
      "BLIP-2, beam, num_beams=1, real\n",
      "BLIP-2, beam, num_beams=1, caption saliency\n",
      "BLIP-2, beam, num_beams=1, bool saliency\n",
      "BLIP-2, beam, num_beams=1, name saliency\n",
      "BLIP-2, beam, num_beams=1, real saliency\n",
      "BLIP-2, beam, num_beams=5, caption\n",
      "BLIP-2, beam, num_beams=5, bool\n",
      "BLIP-2, beam, num_beams=5, name\n",
      "BLIP-2, beam, num_beams=5, real\n",
      "BLIP-2, beam, num_beams=5, caption saliency\n",
      "BLIP-2, beam, num_beams=5, bool saliency\n",
      "BLIP-2, beam, num_beams=5, name saliency\n",
      "BLIP-2, beam, num_beams=5, real saliency\n",
      "BLIP-2, beam, num_beams=10, caption\n",
      "BLIP-2, beam, num_beams=10, bool\n",
      "BLIP-2, beam, num_beams=10, name\n",
      "BLIP-2, beam, num_beams=10, real\n",
      "BLIP-2, beam, num_beams=10, caption saliency\n",
      "BLIP-2, beam, num_beams=10, bool saliency\n",
      "BLIP-2, beam, num_beams=10, name saliency\n",
      "BLIP-2, beam, num_beams=10, real saliency\n",
      "color, greedy, caption to boolean\n",
      "texture, greedy, caption to boolean\n",
      "color, greedy, bool to boolean\n",
      "texture, greedy, bool to boolean\n",
      "color, greedy, name to boolean\n",
      "texture, greedy, name to boolean\n",
      "color, greedy, real to boolean\n",
      "texture, greedy, real to boolean\n",
      "color, nucleus, caption to boolean\n",
      "texture, nucleus, caption to boolean\n",
      "color, nucleus, bool to boolean\n",
      "texture, nucleus, bool to boolean\n",
      "color, nucleus, name to boolean\n",
      "texture, nucleus, name to boolean\n",
      "color, nucleus, real to boolean\n",
      "texture, nucleus, real to boolean\n",
      "color, beam, caption to boolean\n",
      "texture, beam, caption to boolean\n",
      "color, beam, bool to boolean\n",
      "texture, beam, bool to boolean\n",
      "color, beam, name to boolean\n",
      "texture, beam, name to boolean\n",
      "color, beam, real to boolean\n",
      "texture, beam, real to boolean\n",
      "color, greedy, max_new_tokens=5, caption to boolean\n",
      "texture, greedy, max_new_tokens=5, caption to boolean\n",
      "color, greedy, max_new_tokens=5, bool to boolean\n",
      "texture, greedy, max_new_tokens=5, bool to boolean\n",
      "color, greedy, max_new_tokens=5, name to boolean\n",
      "texture, greedy, max_new_tokens=5, name to boolean\n",
      "color, greedy, max_new_tokens=5, real to boolean\n",
      "texture, greedy, max_new_tokens=5, real to boolean\n",
      "color, greedy, max_new_tokens=10, caption to boolean\n",
      "texture, greedy, max_new_tokens=10, caption to boolean\n",
      "color, greedy, max_new_tokens=10, bool to boolean\n",
      "texture, greedy, max_new_tokens=10, bool to boolean\n",
      "color, greedy, max_new_tokens=10, name to boolean\n",
      "texture, greedy, max_new_tokens=10, name to boolean\n",
      "color, greedy, max_new_tokens=10, real to boolean\n",
      "texture, greedy, max_new_tokens=10, real to boolean\n",
      "color, greedy, max_new_tokens=20, caption to boolean\n",
      "texture, greedy, max_new_tokens=20, caption to boolean\n",
      "color, greedy, max_new_tokens=20, bool to boolean\n",
      "texture, greedy, max_new_tokens=20, bool to boolean\n",
      "color, greedy, max_new_tokens=20, name to boolean\n",
      "texture, greedy, max_new_tokens=20, name to boolean\n",
      "color, greedy, max_new_tokens=20, real to boolean\n",
      "texture, greedy, max_new_tokens=20, real to boolean\n",
      "color, nucleus, top_p=0.1, caption to boolean\n",
      "texture, nucleus, top_p=0.1, caption to boolean\n",
      "color, nucleus, top_p=0.1, bool to boolean\n",
      "texture, nucleus, top_p=0.1, bool to boolean\n",
      "color, nucleus, top_p=0.1, name to boolean\n",
      "texture, nucleus, top_p=0.1, name to boolean\n",
      "color, nucleus, top_p=0.1, real to boolean\n",
      "texture, nucleus, top_p=0.1, real to boolean\n",
      "color, nucleus, top_p=0.5, caption to boolean\n",
      "texture, nucleus, top_p=0.5, caption to boolean\n",
      "color, nucleus, top_p=0.5, bool to boolean\n",
      "texture, nucleus, top_p=0.5, bool to boolean\n",
      "color, nucleus, top_p=0.5, name to boolean\n",
      "texture, nucleus, top_p=0.5, name to boolean\n",
      "color, nucleus, top_p=0.5, real to boolean\n",
      "texture, nucleus, top_p=0.5, real to boolean\n",
      "color, nucleus, top_p=0.9, caption to boolean\n",
      "texture, nucleus, top_p=0.9, caption to boolean\n",
      "color, nucleus, top_p=0.9, bool to boolean\n",
      "texture, nucleus, top_p=0.9, bool to boolean\n",
      "color, nucleus, top_p=0.9, name to boolean\n",
      "texture, nucleus, top_p=0.9, name to boolean\n",
      "color, nucleus, top_p=0.9, real to boolean\n",
      "texture, nucleus, top_p=0.9, real to boolean\n",
      "color, beam, num_beams=1, caption to boolean\n",
      "texture, beam, num_beams=1, caption to boolean\n",
      "color, beam, num_beams=1, bool to boolean\n",
      "texture, beam, num_beams=1, bool to boolean\n",
      "color, beam, num_beams=1, name to boolean\n",
      "texture, beam, num_beams=1, name to boolean\n",
      "color, beam, num_beams=1, real to boolean\n",
      "texture, beam, num_beams=1, real to boolean\n",
      "color, beam, num_beams=5, caption to boolean\n",
      "texture, beam, num_beams=5, caption to boolean\n",
      "color, beam, num_beams=5, bool to boolean\n",
      "texture, beam, num_beams=5, bool to boolean\n",
      "color, beam, num_beams=5, name to boolean\n",
      "texture, beam, num_beams=5, name to boolean\n",
      "color, beam, num_beams=5, real to boolean\n",
      "texture, beam, num_beams=5, real to boolean\n",
      "color, beam, num_beams=10, caption to boolean\n",
      "texture, beam, num_beams=10, caption to boolean\n",
      "color, beam, num_beams=10, bool to boolean\n",
      "texture, beam, num_beams=10, bool to boolean\n",
      "color, beam, num_beams=10, name to boolean\n",
      "texture, beam, num_beams=10, name to boolean\n",
      "color, beam, num_beams=10, real to boolean\n",
      "texture, beam, num_beams=10, real to boolean\n"
     ]
    }
   ],
   "source": [
    "for c in data.columns:\n",
    "    print(c)"
   ]
  },
  {
   "cell_type": "code",
   "execution_count": 243,
   "metadata": {},
   "outputs": [
    {
     "name": "stdout",
     "output_type": "stream",
     "text": [
      "0            Plastic   \n",
      "1                      \n",
      "2             Wooden   \n",
      "3            Plastic   \n",
      "4                      \n",
      "            ...        \n",
      "59           Red       \n",
      "60                     \n",
      "61            Rubber   \n",
      "62                     \n",
      "63                     \n",
      "Name: BLIP-2, nucleus, top_p=0.1, bool saliency, Length: 64, dtype: object\n"
     ]
    }
   ],
   "source": [
    "print(data['BLIP-2, nucleus, top_p=0.1, bool saliency'])"
   ]
  },
  {
   "cell_type": "code",
   "execution_count": 245,
   "metadata": {},
   "outputs": [
    {
     "name": "stdout",
     "output_type": "stream",
     "text": [
      "BLIP-2, greedy, bool\n",
      "BLIP-2, nucleus, top_p=0.1, bool\n",
      "BLIP-2, nucleus, top_p=0.5, bool\n",
      "BLIP-2, nucleus, top_p=0.9, bool\n",
      "BLIP-2, beam, num_beams=1, bool\n",
      "BLIP-2, beam, num_beams=5, bool\n",
      "BLIP-2, beam, num_beams=10, bool\n"
     ]
    }
   ],
   "source": [
    "data_plot = data.copy()\n",
    "\n",
    "for c in data_plot.columns:\n",
    "    if 'bool' in c and 'saliency' not in c and 'boolean' not in c:\n",
    "        print(c)"
   ]
  },
  {
   "cell_type": "code",
   "execution_count": 22,
   "metadata": {},
   "outputs": [
    {
     "data": {
      "application/vnd.plotly.v1+json": {
       "config": {
        "plotlyServerURL": "https://plot.ly"
       },
       "data": [
        {
         "name": "Greedy decoding",
         "type": "bar",
         "x": [
          "(18.6, 34.2]",
          "(2.922, 18.6]",
          "(34.2, 49.8]",
          "(49.8, 65.4]",
          "(65.4, 81.0]"
         ],
         "y": [
          1,
          1,
          1,
          1,
          1
         ]
        },
        {
         "name": "Nucleus Sampling, top_p=0.1",
         "type": "bar",
         "x": [
          "(18.6, 34.2]",
          "(2.922, 18.6]",
          "(34.2, 49.8]",
          "(49.8, 65.4]",
          "(65.4, 81.0]"
         ],
         "y": [
          1,
          1,
          1,
          1,
          1
         ]
        },
        {
         "name": "Nucleus Sampling, top_p=0.5",
         "type": "bar",
         "x": [
          "(18.6, 34.2]",
          "(2.922, 18.6]",
          "(34.2, 49.8]",
          "(49.8, 65.4]",
          "(65.4, 81.0]"
         ],
         "y": [
          0.5217391304347826,
          0.5294117647058824,
          0.8571428571428571,
          0.6,
          1
         ]
        },
        {
         "name": "Nucleus Sampling, top_p=0.9",
         "type": "bar",
         "x": [
          "(18.6, 34.2]",
          "(2.922, 18.6]",
          "(34.2, 49.8]",
          "(49.8, 65.4]",
          "(65.4, 81.0]"
         ],
         "y": [
          0.4782608695652174,
          0.5294117647058824,
          0.5714285714285714,
          0.6,
          0.8
         ]
        },
        {
         "name": "Beam Search, num_beams=1",
         "type": "bar",
         "x": [
          "(18.6, 34.2]",
          "(2.922, 18.6]",
          "(34.2, 49.8]",
          "(49.8, 65.4]",
          "(65.4, 81.0]"
         ],
         "y": [
          1,
          1,
          1,
          1,
          1
         ]
        },
        {
         "name": "Beam Search, num_beams=5",
         "type": "bar",
         "x": [
          "(18.6, 34.2]",
          "(2.922, 18.6]",
          "(34.2, 49.8]",
          "(49.8, 65.4]",
          "(65.4, 81.0]"
         ],
         "y": [
          0.2608695652173913,
          0.29411764705882354,
          0.35714285714285715,
          0.8,
          0.6
         ]
        },
        {
         "name": "Beam Search, num_beams=10",
         "type": "bar",
         "x": [
          "(18.6, 34.2]",
          "(2.922, 18.6]",
          "(34.2, 49.8]",
          "(49.8, 65.4]",
          "(65.4, 81.0]"
         ],
         "y": [
          0.08695652173913043,
          0.058823529411764705,
          0.2857142857142857,
          0.4,
          0
         ]
        }
       ],
       "layout": {
        "template": {
         "data": {
          "bar": [
           {
            "error_x": {
             "color": "#2a3f5f"
            },
            "error_y": {
             "color": "#2a3f5f"
            },
            "marker": {
             "line": {
              "color": "#E5ECF6",
              "width": 0.5
             },
             "pattern": {
              "fillmode": "overlay",
              "size": 10,
              "solidity": 0.2
             }
            },
            "type": "bar"
           }
          ],
          "barpolar": [
           {
            "marker": {
             "line": {
              "color": "#E5ECF6",
              "width": 0.5
             },
             "pattern": {
              "fillmode": "overlay",
              "size": 10,
              "solidity": 0.2
             }
            },
            "type": "barpolar"
           }
          ],
          "carpet": [
           {
            "aaxis": {
             "endlinecolor": "#2a3f5f",
             "gridcolor": "white",
             "linecolor": "white",
             "minorgridcolor": "white",
             "startlinecolor": "#2a3f5f"
            },
            "baxis": {
             "endlinecolor": "#2a3f5f",
             "gridcolor": "white",
             "linecolor": "white",
             "minorgridcolor": "white",
             "startlinecolor": "#2a3f5f"
            },
            "type": "carpet"
           }
          ],
          "choropleth": [
           {
            "colorbar": {
             "outlinewidth": 0,
             "ticks": ""
            },
            "type": "choropleth"
           }
          ],
          "contour": [
           {
            "colorbar": {
             "outlinewidth": 0,
             "ticks": ""
            },
            "colorscale": [
             [
              0,
              "#0d0887"
             ],
             [
              0.1111111111111111,
              "#46039f"
             ],
             [
              0.2222222222222222,
              "#7201a8"
             ],
             [
              0.3333333333333333,
              "#9c179e"
             ],
             [
              0.4444444444444444,
              "#bd3786"
             ],
             [
              0.5555555555555556,
              "#d8576b"
             ],
             [
              0.6666666666666666,
              "#ed7953"
             ],
             [
              0.7777777777777778,
              "#fb9f3a"
             ],
             [
              0.8888888888888888,
              "#fdca26"
             ],
             [
              1,
              "#f0f921"
             ]
            ],
            "type": "contour"
           }
          ],
          "contourcarpet": [
           {
            "colorbar": {
             "outlinewidth": 0,
             "ticks": ""
            },
            "type": "contourcarpet"
           }
          ],
          "heatmap": [
           {
            "colorbar": {
             "outlinewidth": 0,
             "ticks": ""
            },
            "colorscale": [
             [
              0,
              "#0d0887"
             ],
             [
              0.1111111111111111,
              "#46039f"
             ],
             [
              0.2222222222222222,
              "#7201a8"
             ],
             [
              0.3333333333333333,
              "#9c179e"
             ],
             [
              0.4444444444444444,
              "#bd3786"
             ],
             [
              0.5555555555555556,
              "#d8576b"
             ],
             [
              0.6666666666666666,
              "#ed7953"
             ],
             [
              0.7777777777777778,
              "#fb9f3a"
             ],
             [
              0.8888888888888888,
              "#fdca26"
             ],
             [
              1,
              "#f0f921"
             ]
            ],
            "type": "heatmap"
           }
          ],
          "heatmapgl": [
           {
            "colorbar": {
             "outlinewidth": 0,
             "ticks": ""
            },
            "colorscale": [
             [
              0,
              "#0d0887"
             ],
             [
              0.1111111111111111,
              "#46039f"
             ],
             [
              0.2222222222222222,
              "#7201a8"
             ],
             [
              0.3333333333333333,
              "#9c179e"
             ],
             [
              0.4444444444444444,
              "#bd3786"
             ],
             [
              0.5555555555555556,
              "#d8576b"
             ],
             [
              0.6666666666666666,
              "#ed7953"
             ],
             [
              0.7777777777777778,
              "#fb9f3a"
             ],
             [
              0.8888888888888888,
              "#fdca26"
             ],
             [
              1,
              "#f0f921"
             ]
            ],
            "type": "heatmapgl"
           }
          ],
          "histogram": [
           {
            "marker": {
             "pattern": {
              "fillmode": "overlay",
              "size": 10,
              "solidity": 0.2
             }
            },
            "type": "histogram"
           }
          ],
          "histogram2d": [
           {
            "colorbar": {
             "outlinewidth": 0,
             "ticks": ""
            },
            "colorscale": [
             [
              0,
              "#0d0887"
             ],
             [
              0.1111111111111111,
              "#46039f"
             ],
             [
              0.2222222222222222,
              "#7201a8"
             ],
             [
              0.3333333333333333,
              "#9c179e"
             ],
             [
              0.4444444444444444,
              "#bd3786"
             ],
             [
              0.5555555555555556,
              "#d8576b"
             ],
             [
              0.6666666666666666,
              "#ed7953"
             ],
             [
              0.7777777777777778,
              "#fb9f3a"
             ],
             [
              0.8888888888888888,
              "#fdca26"
             ],
             [
              1,
              "#f0f921"
             ]
            ],
            "type": "histogram2d"
           }
          ],
          "histogram2dcontour": [
           {
            "colorbar": {
             "outlinewidth": 0,
             "ticks": ""
            },
            "colorscale": [
             [
              0,
              "#0d0887"
             ],
             [
              0.1111111111111111,
              "#46039f"
             ],
             [
              0.2222222222222222,
              "#7201a8"
             ],
             [
              0.3333333333333333,
              "#9c179e"
             ],
             [
              0.4444444444444444,
              "#bd3786"
             ],
             [
              0.5555555555555556,
              "#d8576b"
             ],
             [
              0.6666666666666666,
              "#ed7953"
             ],
             [
              0.7777777777777778,
              "#fb9f3a"
             ],
             [
              0.8888888888888888,
              "#fdca26"
             ],
             [
              1,
              "#f0f921"
             ]
            ],
            "type": "histogram2dcontour"
           }
          ],
          "mesh3d": [
           {
            "colorbar": {
             "outlinewidth": 0,
             "ticks": ""
            },
            "type": "mesh3d"
           }
          ],
          "parcoords": [
           {
            "line": {
             "colorbar": {
              "outlinewidth": 0,
              "ticks": ""
             }
            },
            "type": "parcoords"
           }
          ],
          "pie": [
           {
            "automargin": true,
            "type": "pie"
           }
          ],
          "scatter": [
           {
            "fillpattern": {
             "fillmode": "overlay",
             "size": 10,
             "solidity": 0.2
            },
            "type": "scatter"
           }
          ],
          "scatter3d": [
           {
            "line": {
             "colorbar": {
              "outlinewidth": 0,
              "ticks": ""
             }
            },
            "marker": {
             "colorbar": {
              "outlinewidth": 0,
              "ticks": ""
             }
            },
            "type": "scatter3d"
           }
          ],
          "scattercarpet": [
           {
            "marker": {
             "colorbar": {
              "outlinewidth": 0,
              "ticks": ""
             }
            },
            "type": "scattercarpet"
           }
          ],
          "scattergeo": [
           {
            "marker": {
             "colorbar": {
              "outlinewidth": 0,
              "ticks": ""
             }
            },
            "type": "scattergeo"
           }
          ],
          "scattergl": [
           {
            "marker": {
             "colorbar": {
              "outlinewidth": 0,
              "ticks": ""
             }
            },
            "type": "scattergl"
           }
          ],
          "scattermapbox": [
           {
            "marker": {
             "colorbar": {
              "outlinewidth": 0,
              "ticks": ""
             }
            },
            "type": "scattermapbox"
           }
          ],
          "scatterpolar": [
           {
            "marker": {
             "colorbar": {
              "outlinewidth": 0,
              "ticks": ""
             }
            },
            "type": "scatterpolar"
           }
          ],
          "scatterpolargl": [
           {
            "marker": {
             "colorbar": {
              "outlinewidth": 0,
              "ticks": ""
             }
            },
            "type": "scatterpolargl"
           }
          ],
          "scatterternary": [
           {
            "marker": {
             "colorbar": {
              "outlinewidth": 0,
              "ticks": ""
             }
            },
            "type": "scatterternary"
           }
          ],
          "surface": [
           {
            "colorbar": {
             "outlinewidth": 0,
             "ticks": ""
            },
            "colorscale": [
             [
              0,
              "#0d0887"
             ],
             [
              0.1111111111111111,
              "#46039f"
             ],
             [
              0.2222222222222222,
              "#7201a8"
             ],
             [
              0.3333333333333333,
              "#9c179e"
             ],
             [
              0.4444444444444444,
              "#bd3786"
             ],
             [
              0.5555555555555556,
              "#d8576b"
             ],
             [
              0.6666666666666666,
              "#ed7953"
             ],
             [
              0.7777777777777778,
              "#fb9f3a"
             ],
             [
              0.8888888888888888,
              "#fdca26"
             ],
             [
              1,
              "#f0f921"
             ]
            ],
            "type": "surface"
           }
          ],
          "table": [
           {
            "cells": {
             "fill": {
              "color": "#EBF0F8"
             },
             "line": {
              "color": "white"
             }
            },
            "header": {
             "fill": {
              "color": "#C8D4E3"
             },
             "line": {
              "color": "white"
             }
            },
            "type": "table"
           }
          ]
         },
         "layout": {
          "annotationdefaults": {
           "arrowcolor": "#2a3f5f",
           "arrowhead": 0,
           "arrowwidth": 1
          },
          "autotypenumbers": "strict",
          "coloraxis": {
           "colorbar": {
            "outlinewidth": 0,
            "ticks": ""
           }
          },
          "colorscale": {
           "diverging": [
            [
             0,
             "#8e0152"
            ],
            [
             0.1,
             "#c51b7d"
            ],
            [
             0.2,
             "#de77ae"
            ],
            [
             0.3,
             "#f1b6da"
            ],
            [
             0.4,
             "#fde0ef"
            ],
            [
             0.5,
             "#f7f7f7"
            ],
            [
             0.6,
             "#e6f5d0"
            ],
            [
             0.7,
             "#b8e186"
            ],
            [
             0.8,
             "#7fbc41"
            ],
            [
             0.9,
             "#4d9221"
            ],
            [
             1,
             "#276419"
            ]
           ],
           "sequential": [
            [
             0,
             "#0d0887"
            ],
            [
             0.1111111111111111,
             "#46039f"
            ],
            [
             0.2222222222222222,
             "#7201a8"
            ],
            [
             0.3333333333333333,
             "#9c179e"
            ],
            [
             0.4444444444444444,
             "#bd3786"
            ],
            [
             0.5555555555555556,
             "#d8576b"
            ],
            [
             0.6666666666666666,
             "#ed7953"
            ],
            [
             0.7777777777777778,
             "#fb9f3a"
            ],
            [
             0.8888888888888888,
             "#fdca26"
            ],
            [
             1,
             "#f0f921"
            ]
           ],
           "sequentialminus": [
            [
             0,
             "#0d0887"
            ],
            [
             0.1111111111111111,
             "#46039f"
            ],
            [
             0.2222222222222222,
             "#7201a8"
            ],
            [
             0.3333333333333333,
             "#9c179e"
            ],
            [
             0.4444444444444444,
             "#bd3786"
            ],
            [
             0.5555555555555556,
             "#d8576b"
            ],
            [
             0.6666666666666666,
             "#ed7953"
            ],
            [
             0.7777777777777778,
             "#fb9f3a"
            ],
            [
             0.8888888888888888,
             "#fdca26"
            ],
            [
             1,
             "#f0f921"
            ]
           ]
          },
          "colorway": [
           "#636efa",
           "#EF553B",
           "#00cc96",
           "#ab63fa",
           "#FFA15A",
           "#19d3f3",
           "#FF6692",
           "#B6E880",
           "#FF97FF",
           "#FECB52"
          ],
          "font": {
           "color": "#2a3f5f"
          },
          "geo": {
           "bgcolor": "white",
           "lakecolor": "white",
           "landcolor": "#E5ECF6",
           "showlakes": true,
           "showland": true,
           "subunitcolor": "white"
          },
          "hoverlabel": {
           "align": "left"
          },
          "hovermode": "closest",
          "mapbox": {
           "style": "light"
          },
          "paper_bgcolor": "white",
          "plot_bgcolor": "#E5ECF6",
          "polar": {
           "angularaxis": {
            "gridcolor": "white",
            "linecolor": "white",
            "ticks": ""
           },
           "bgcolor": "#E5ECF6",
           "radialaxis": {
            "gridcolor": "white",
            "linecolor": "white",
            "ticks": ""
           }
          },
          "scene": {
           "xaxis": {
            "backgroundcolor": "#E5ECF6",
            "gridcolor": "white",
            "gridwidth": 2,
            "linecolor": "white",
            "showbackground": true,
            "ticks": "",
            "zerolinecolor": "white"
           },
           "yaxis": {
            "backgroundcolor": "#E5ECF6",
            "gridcolor": "white",
            "gridwidth": 2,
            "linecolor": "white",
            "showbackground": true,
            "ticks": "",
            "zerolinecolor": "white"
           },
           "zaxis": {
            "backgroundcolor": "#E5ECF6",
            "gridcolor": "white",
            "gridwidth": 2,
            "linecolor": "white",
            "showbackground": true,
            "ticks": "",
            "zerolinecolor": "white"
           }
          },
          "shapedefaults": {
           "line": {
            "color": "#2a3f5f"
           }
          },
          "ternary": {
           "aaxis": {
            "gridcolor": "white",
            "linecolor": "white",
            "ticks": ""
           },
           "baxis": {
            "gridcolor": "white",
            "linecolor": "white",
            "ticks": ""
           },
           "bgcolor": "#E5ECF6",
           "caxis": {
            "gridcolor": "white",
            "linecolor": "white",
            "ticks": ""
           }
          },
          "title": {
           "x": 0.05
          },
          "xaxis": {
           "automargin": true,
           "gridcolor": "white",
           "linecolor": "white",
           "ticks": "",
           "title": {
            "standoff": 15
           },
           "zerolinecolor": "white",
           "zerolinewidth": 2
          },
          "yaxis": {
           "automargin": true,
           "gridcolor": "white",
           "linecolor": "white",
           "ticks": "",
           "title": {
            "standoff": 15
           },
           "zerolinecolor": "white",
           "zerolinewidth": 2
          }
         }
        },
        "title": {
         "text": "Model comparison on rate of answering \"yes\" to the recognition question across various familiarity scores"
        },
        "width": 1200,
        "xaxis": {
         "tickmode": "array",
         "ticktext": [
          "0-20",
          "21-40",
          "41-60",
          "61-80",
          "81-100"
         ],
         "tickvals": [
          0,
          1,
          2,
          3,
          4
         ],
         "title": {
          "text": "Familiarity score in %"
         }
        },
        "yaxis": {
         "title": {
          "text": "Rate of model answering \"yes\""
         }
        }
       }
      }
     },
     "metadata": {},
     "output_type": "display_data"
    }
   ],
   "source": [
    "num_bins = 5\n",
    "category_bins_familiarity = pd.cut(data['familiarity score'], bins=num_bins)\n",
    "\n",
    "data_plot = data.copy()\n",
    "\n",
    "data['category bin familiarity'] = category_bins_familiarity.astype(str)\n",
    "\n",
    "data['greedy bool count'] = data_plot[\"BLIP-2, greedy, bool\"].str.lower().str.count(r'\\byes\\b')\n",
    "data['nucleus top_p=0.1 bool count'] = data_plot[\"BLIP-2, nucleus, top_p=0.1, bool\"].str.lower().str.count(r'\\byes\\b')\n",
    "data['nucleus top_p=0.5 bool count'] = data_plot[\"BLIP-2, nucleus, top_p=0.5, bool\"].str.lower().str.count(r'\\byes\\b')\n",
    "data['nucleus top_p=0.9 bool count'] = data_plot[\"BLIP-2, nucleus, top_p=0.9, bool\"].str.lower().str.count(r'\\byes\\b')\n",
    "data['beam num_beams=1 bool count'] = data_plot[\"BLIP-2, beam, num_beams=1, bool\"].str.lower().str.count(r'\\byes\\b')\n",
    "data['beam num_beams=5 bool count'] = data_plot[\"BLIP-2, beam, num_beams=5, bool\"].str.lower().str.count(r'\\byes\\b')\n",
    "data['beam num_beams=10 bool count'] = data_plot[\"BLIP-2, beam, num_beams=10, bool\"].str.lower().str.count(r'\\byes\\b')\n",
    "\n",
    "f_greedy = data.groupby('category bin familiarity')[\n",
    "    'greedy bool count'].mean()\n",
    "\n",
    "f_beam = data.groupby('category bin familiarity')[\n",
    "    'beam num_beams=1 bool count'].mean()\n",
    "f_nucleus = data.groupby('category bin familiarity')[\n",
    "    'nucleus top_p=0.1 bool count'].mean()\n",
    "\n",
    "f_nucleus2 = data.groupby('category bin familiarity')[\n",
    "    'nucleus top_p=0.5 bool count'].mean()\n",
    "\n",
    "f_nucleus3 = data.groupby('category bin familiarity')[\n",
    "    'nucleus top_p=0.9 bool count'].mean()\n",
    "f_beam2 = data.groupby('category bin familiarity')[\n",
    "    'beam num_beams=5 bool count'].mean()\n",
    "f_beam3 = data.groupby('category bin familiarity')[\n",
    "    'beam num_beams=10 bool count'].mean()\n",
    "\n",
    "\n",
    "\n",
    "fig = go.Figure()\n",
    "# data=[go.Bar(x=bin_percentages.index.astype(str), y=bin_percentages)])\n",
    "\n",
    "fig.add_trace(go.Bar(x=f_greedy.index.astype(\n",
    "    str), y=f_greedy, name='Greedy decoding'))\n",
    "\n",
    "fig.add_trace(go.Bar(x=f_nucleus.index.astype(\n",
    "    str), y=f_nucleus, name='Nucleus Sampling, top_p=0.1'))\n",
    "fig.add_trace(go.Bar(x=f_nucleus2.index.astype(\n",
    "    str), y=f_nucleus2, name='Nucleus Sampling, top_p=0.5'))\n",
    "fig.add_trace(go.Bar(x=f_nucleus3.index.astype(\n",
    "    str), y=f_nucleus3, name='Nucleus Sampling, top_p=0.9'))\n",
    "\n",
    "fig.add_trace(go.Bar(x=f_beam.index.astype(str),\n",
    "              y=f_beam, name='Beam Search, num_beams=1'))\n",
    "\n",
    "\n",
    "\n",
    "fig.add_trace(go.Bar(x=f_beam2.index.astype(str),\n",
    "              y=f_beam2, name='Beam Search, num_beams=5'))\n",
    "\n",
    "\n",
    "\n",
    "fig.add_trace(go.Bar(x=f_beam3.index.astype(str),\n",
    "              y=f_beam3, name='Beam Search, num_beams=10'))\n",
    "\n",
    "fig.update_layout(width=1200, title='Model comparison on rate of answering \"yes\" to the recognition question across various familiarity scores',\n",
    "                  xaxis_title='Bins', yaxis_title='Rate of model answering \"yes\"', xaxis=dict(title='Familiarity score in %', tickmode='array',\n",
    "                tickvals=[\n",
    "                0, 1, 2, 3, 4],\n",
    "                ticktext=['0-20', '21-40', '41-60', '61-80', '81-100']))\n",
    "fig.show()\n",
    "\n",
    "# fig.show()\n",
    "\n",
    "# # Save the plot as JSON\n",
    "# fig_json = fig.to_json()\n",
    "# with open('familiarity.json', 'w') as file:\n",
    "#     file.write(fig_json)"
   ]
  },
  {
   "attachments": {},
   "cell_type": "markdown",
   "metadata": {},
   "source": [
    "## BERTScore \n"
   ]
  },
  {
   "cell_type": "code",
   "execution_count": 5,
   "metadata": {},
   "outputs": [],
   "source": [
    "import bert_score\n",
    "from bert_score import score\n",
    "\n",
    "# hide the loading messages\n",
    "import logging\n",
    "import transformers\n",
    "transformers.tokenization_utils.logger.setLevel(logging.ERROR)\n",
    "transformers.configuration_utils.logger.setLevel(logging.ERROR)\n",
    "transformers.modeling_utils.logger.setLevel(logging.ERROR)\n",
    "\n",
    "%matplotlib inline\n",
    "import matplotlib.pyplot as plt\n",
    "from matplotlib import rcParams\n",
    "\n",
    "rcParams[\"xtick.major.size\"] = 0\n",
    "rcParams[\"xtick.minor.size\"] = 0\n",
    "rcParams[\"ytick.major.size\"] = 0\n",
    "rcParams[\"ytick.minor.size\"] = 0\n",
    "\n",
    "rcParams[\"axes.labelsize\"] = \"large\"\n",
    "rcParams[\"axes.axisbelow\"] = True\n",
    "rcParams[\"axes.grid\"] = True"
   ]
  },
  {
   "attachments": {},
   "cell_type": "markdown",
   "metadata": {},
   "source": [
    "#### Get candidate and reference sentences"
   ]
  },
  {
   "cell_type": "code",
   "execution_count": 6,
   "metadata": {},
   "outputs": [],
   "source": [
    "refs = list(data['actual name'])\n",
    "candidates = {}\n",
    "title = 'BLIP-2'\n",
    "columns = data.columns\n",
    "for column in columns:\n",
    "    if title in column and 'saliency' not in column and 'bool' not in column and 'max_new_tokens' not in column:\n",
    "        candidates[column] = list(data[column])\n",
    "\n",
    "\n",
    "# cands_greedy_caption = list(data['BLIP-2, greedy, caption'])\n",
    "# cands_beam_caption = list(data['BLIP-2, beam, caption'])\n",
    "# cands_nucleus_caption = list(data['BLIP-2, nucleus, caption'])\n",
    "\n",
    "\n",
    "# cands_greedy_name = data['BLIP-2, greedy, name']\n",
    "# cands_beam_name = data['BLIP-2, beam, name']\n",
    "# cands_nucleus_name = data['BLIP-2, nucleus, name']\n",
    "\n",
    "# cands_greedy_real = list(data['BLIP-2, greedy, real'])\n",
    "# cands_beam_real = list(data['BLIP-2, beam, real'])\n",
    "# cands_nucleus_real = list(data['BLIP-2, nucleus, real'])"
   ]
  },
  {
   "cell_type": "code",
   "execution_count": 291,
   "metadata": {},
   "outputs": [
    {
     "data": {
      "text/plain": [
       "dict_keys(['BLIP-2, greedy, caption', 'BLIP-2, greedy, name', 'BLIP-2, greedy, real', 'BLIP-2, nucleus, top_p=0.1, caption', 'BLIP-2, nucleus, top_p=0.1, name', 'BLIP-2, nucleus, top_p=0.1, real', 'BLIP-2, nucleus, top_p=0.5, caption', 'BLIP-2, nucleus, top_p=0.5, name', 'BLIP-2, nucleus, top_p=0.5, real', 'BLIP-2, nucleus, top_p=0.9, caption', 'BLIP-2, nucleus, top_p=0.9, name', 'BLIP-2, nucleus, top_p=0.9, real', 'BLIP-2, beam, num_beams=1, caption', 'BLIP-2, beam, num_beams=1, name', 'BLIP-2, beam, num_beams=1, real', 'BLIP-2, beam, num_beams=5, caption', 'BLIP-2, beam, num_beams=5, name', 'BLIP-2, beam, num_beams=5, real', 'BLIP-2, beam, num_beams=10, caption', 'BLIP-2, beam, num_beams=10, name', 'BLIP-2, beam, num_beams=10, real'])"
      ]
     },
     "execution_count": 291,
     "metadata": {},
     "output_type": "execute_result"
    }
   ],
   "source": [
    "candidates.keys()"
   ]
  },
  {
   "attachments": {},
   "cell_type": "markdown",
   "metadata": {},
   "source": [
    "#### BERTScore familiarity measurement\n",
    "BERTScore produces P, R, F1 scores respectively. "
   ]
  },
  {
   "cell_type": "code",
   "execution_count": 7,
   "metadata": {},
   "outputs": [
    {
     "name": "stdout",
     "output_type": "stream",
     "text": [
      "calculating scores...\n",
      "computing bert embedding.\n"
     ]
    },
    {
     "name": "stderr",
     "output_type": "stream",
     "text": [
      "100%|██████████| 2/2 [00:03<00:00,  1.72s/it]\n"
     ]
    },
    {
     "name": "stdout",
     "output_type": "stream",
     "text": [
      "computing greedy matching.\n"
     ]
    },
    {
     "name": "stderr",
     "output_type": "stream",
     "text": [
      "100%|██████████| 1/1 [00:00<00:00, 34.46it/s]\n"
     ]
    },
    {
     "name": "stdout",
     "output_type": "stream",
     "text": [
      "done in 3.48 seconds, 18.39 sentences/sec\n",
      "calculating scores...\n",
      "computing bert embedding.\n"
     ]
    },
    {
     "name": "stderr",
     "output_type": "stream",
     "text": [
      "100%|██████████| 2/2 [00:00<00:00,  9.92it/s]\n"
     ]
    },
    {
     "name": "stdout",
     "output_type": "stream",
     "text": [
      "computing greedy matching.\n"
     ]
    },
    {
     "name": "stderr",
     "output_type": "stream",
     "text": [
      "100%|██████████| 1/1 [00:00<00:00, 66.67it/s]\n"
     ]
    },
    {
     "name": "stdout",
     "output_type": "stream",
     "text": [
      "done in 0.22 seconds, 289.79 sentences/sec\n",
      "calculating scores...\n",
      "computing bert embedding.\n"
     ]
    },
    {
     "name": "stderr",
     "output_type": "stream",
     "text": [
      "100%|██████████| 2/2 [00:00<00:00,  9.12it/s]\n"
     ]
    },
    {
     "name": "stdout",
     "output_type": "stream",
     "text": [
      "computing greedy matching.\n"
     ]
    },
    {
     "name": "stderr",
     "output_type": "stream",
     "text": [
      "100%|██████████| 1/1 [00:00<00:00, 66.67it/s]\n"
     ]
    },
    {
     "name": "stdout",
     "output_type": "stream",
     "text": [
      "done in 0.24 seconds, 269.31 sentences/sec\n",
      "calculating scores...\n",
      "computing bert embedding.\n"
     ]
    },
    {
     "name": "stderr",
     "output_type": "stream",
     "text": [
      "100%|██████████| 2/2 [00:00<00:00,  9.20it/s]\n"
     ]
    },
    {
     "name": "stdout",
     "output_type": "stream",
     "text": [
      "computing greedy matching.\n"
     ]
    },
    {
     "name": "stderr",
     "output_type": "stream",
     "text": [
      "100%|██████████| 1/1 [00:00<00:00, 71.40it/s]\n"
     ]
    },
    {
     "name": "stdout",
     "output_type": "stream",
     "text": [
      "done in 0.24 seconds, 272.33 sentences/sec\n",
      "calculating scores...\n",
      "computing bert embedding.\n"
     ]
    },
    {
     "name": "stderr",
     "output_type": "stream",
     "text": [
      "100%|██████████| 2/2 [00:00<00:00, 11.12it/s]\n"
     ]
    },
    {
     "name": "stdout",
     "output_type": "stream",
     "text": [
      "computing greedy matching.\n"
     ]
    },
    {
     "name": "stderr",
     "output_type": "stream",
     "text": [
      "100%|██████████| 1/1 [00:00<00:00, 71.41it/s]\n"
     ]
    },
    {
     "name": "stdout",
     "output_type": "stream",
     "text": [
      "done in 0.20 seconds, 324.72 sentences/sec\n",
      "calculating scores...\n",
      "computing bert embedding.\n"
     ]
    },
    {
     "name": "stderr",
     "output_type": "stream",
     "text": [
      "100%|██████████| 2/2 [00:00<00:00,  9.78it/s]\n"
     ]
    },
    {
     "name": "stdout",
     "output_type": "stream",
     "text": [
      "computing greedy matching.\n"
     ]
    },
    {
     "name": "stderr",
     "output_type": "stream",
     "text": [
      "100%|██████████| 1/1 [00:00<00:00, 66.66it/s]\n"
     ]
    },
    {
     "name": "stdout",
     "output_type": "stream",
     "text": [
      "done in 0.22 seconds, 285.20 sentences/sec\n",
      "calculating scores...\n",
      "computing bert embedding.\n"
     ]
    },
    {
     "name": "stderr",
     "output_type": "stream",
     "text": [
      "100%|██████████| 2/2 [00:00<00:00,  9.15it/s]\n"
     ]
    },
    {
     "name": "stdout",
     "output_type": "stream",
     "text": [
      "computing greedy matching.\n"
     ]
    },
    {
     "name": "stderr",
     "output_type": "stream",
     "text": [
      "100%|██████████| 1/1 [00:00<00:00, 52.63it/s]\n"
     ]
    },
    {
     "name": "stdout",
     "output_type": "stream",
     "text": [
      "done in 0.24 seconds, 264.81 sentences/sec\n",
      "calculating scores...\n",
      "computing bert embedding.\n"
     ]
    },
    {
     "name": "stderr",
     "output_type": "stream",
     "text": [
      "100%|██████████| 2/2 [00:00<00:00, 10.55it/s]\n"
     ]
    },
    {
     "name": "stdout",
     "output_type": "stream",
     "text": [
      "computing greedy matching.\n"
     ]
    },
    {
     "name": "stderr",
     "output_type": "stream",
     "text": [
      "100%|██████████| 1/1 [00:00<00:00, 66.68it/s]\n"
     ]
    },
    {
     "name": "stdout",
     "output_type": "stream",
     "text": [
      "done in 0.21 seconds, 308.17 sentences/sec\n",
      "calculating scores...\n",
      "computing bert embedding.\n"
     ]
    },
    {
     "name": "stderr",
     "output_type": "stream",
     "text": [
      "100%|██████████| 2/2 [00:00<00:00,  9.29it/s]\n"
     ]
    },
    {
     "name": "stdout",
     "output_type": "stream",
     "text": [
      "computing greedy matching.\n"
     ]
    },
    {
     "name": "stderr",
     "output_type": "stream",
     "text": [
      "100%|██████████| 1/1 [00:00<00:00, 66.60it/s]\n"
     ]
    },
    {
     "name": "stdout",
     "output_type": "stream",
     "text": [
      "done in 0.23 seconds, 273.76 sentences/sec\n",
      "calculating scores...\n",
      "computing bert embedding.\n"
     ]
    },
    {
     "name": "stderr",
     "output_type": "stream",
     "text": [
      "100%|██████████| 2/2 [00:00<00:00,  8.36it/s]\n"
     ]
    },
    {
     "name": "stdout",
     "output_type": "stream",
     "text": [
      "computing greedy matching.\n"
     ]
    },
    {
     "name": "stderr",
     "output_type": "stream",
     "text": [
      "100%|██████████| 1/1 [00:00<00:00, 66.66it/s]\n"
     ]
    },
    {
     "name": "stdout",
     "output_type": "stream",
     "text": [
      "done in 0.26 seconds, 246.49 sentences/sec\n",
      "calculating scores...\n",
      "computing bert embedding.\n"
     ]
    },
    {
     "name": "stderr",
     "output_type": "stream",
     "text": [
      "100%|██████████| 2/2 [00:00<00:00,  9.72it/s]\n"
     ]
    },
    {
     "name": "stdout",
     "output_type": "stream",
     "text": [
      "computing greedy matching.\n"
     ]
    },
    {
     "name": "stderr",
     "output_type": "stream",
     "text": [
      "  0%|          | 0/1 [00:00<?, ?it/s]Warning: Empty candidate sentence detected; setting raw BERTscores to 0.\n",
      "100%|██████████| 1/1 [00:00<00:00, 66.67it/s]\n"
     ]
    },
    {
     "name": "stdout",
     "output_type": "stream",
     "text": [
      "done in 0.23 seconds, 282.71 sentences/sec\n",
      "calculating scores...\n",
      "computing bert embedding.\n"
     ]
    },
    {
     "name": "stderr",
     "output_type": "stream",
     "text": [
      "100%|██████████| 2/2 [00:00<00:00,  8.54it/s]\n"
     ]
    },
    {
     "name": "stdout",
     "output_type": "stream",
     "text": [
      "computing greedy matching.\n"
     ]
    },
    {
     "name": "stderr",
     "output_type": "stream",
     "text": [
      "  0%|          | 0/1 [00:00<?, ?it/s]Warning: Empty candidate sentence detected; setting raw BERTscores to 0.\n",
      "100%|██████████| 1/1 [00:00<00:00, 55.52it/s]\n"
     ]
    },
    {
     "name": "stdout",
     "output_type": "stream",
     "text": [
      "done in 0.26 seconds, 250.02 sentences/sec\n",
      "calculating scores...\n",
      "computing bert embedding.\n"
     ]
    },
    {
     "name": "stderr",
     "output_type": "stream",
     "text": [
      "100%|██████████| 2/2 [00:00<00:00,  9.40it/s]\n"
     ]
    },
    {
     "name": "stdout",
     "output_type": "stream",
     "text": [
      "computing greedy matching.\n"
     ]
    },
    {
     "name": "stderr",
     "output_type": "stream",
     "text": [
      "100%|██████████| 1/1 [00:00<00:00, 66.65it/s]\n"
     ]
    },
    {
     "name": "stdout",
     "output_type": "stream",
     "text": [
      "done in 0.23 seconds, 277.34 sentences/sec\n",
      "calculating scores...\n",
      "computing bert embedding.\n"
     ]
    },
    {
     "name": "stderr",
     "output_type": "stream",
     "text": [
      "100%|██████████| 2/2 [00:00<00:00, 10.30it/s]\n"
     ]
    },
    {
     "name": "stdout",
     "output_type": "stream",
     "text": [
      "computing greedy matching.\n"
     ]
    },
    {
     "name": "stderr",
     "output_type": "stream",
     "text": [
      "100%|██████████| 1/1 [00:00<00:00, 66.64it/s]\n"
     ]
    },
    {
     "name": "stdout",
     "output_type": "stream",
     "text": [
      "done in 0.21 seconds, 297.92 sentences/sec\n",
      "calculating scores...\n",
      "computing bert embedding.\n"
     ]
    },
    {
     "name": "stderr",
     "output_type": "stream",
     "text": [
      "100%|██████████| 2/2 [00:00<00:00,  8.69it/s]\n"
     ]
    },
    {
     "name": "stdout",
     "output_type": "stream",
     "text": [
      "computing greedy matching.\n"
     ]
    },
    {
     "name": "stderr",
     "output_type": "stream",
     "text": [
      "100%|██████████| 1/1 [00:00<00:00, 71.45it/s]\n"
     ]
    },
    {
     "name": "stdout",
     "output_type": "stream",
     "text": [
      "done in 0.25 seconds, 257.72 sentences/sec\n",
      "calculating scores...\n",
      "computing bert embedding.\n"
     ]
    },
    {
     "name": "stderr",
     "output_type": "stream",
     "text": [
      "100%|██████████| 2/2 [00:00<00:00,  8.46it/s]\n"
     ]
    },
    {
     "name": "stdout",
     "output_type": "stream",
     "text": [
      "computing greedy matching.\n"
     ]
    },
    {
     "name": "stderr",
     "output_type": "stream",
     "text": [
      "100%|██████████| 1/1 [00:00<00:00, 64.46it/s]\n"
     ]
    },
    {
     "name": "stdout",
     "output_type": "stream",
     "text": [
      "done in 0.26 seconds, 250.29 sentences/sec\n",
      "calculating scores...\n",
      "computing bert embedding.\n"
     ]
    },
    {
     "name": "stderr",
     "output_type": "stream",
     "text": [
      "100%|██████████| 2/2 [00:00<00:00,  9.32it/s]\n"
     ]
    },
    {
     "name": "stdout",
     "output_type": "stream",
     "text": [
      "computing greedy matching.\n"
     ]
    },
    {
     "name": "stderr",
     "output_type": "stream",
     "text": [
      "100%|██████████| 1/1 [00:00<00:00, 66.63it/s]\n"
     ]
    },
    {
     "name": "stdout",
     "output_type": "stream",
     "text": [
      "done in 0.23 seconds, 273.06 sentences/sec\n",
      "calculating scores...\n",
      "computing bert embedding.\n"
     ]
    },
    {
     "name": "stderr",
     "output_type": "stream",
     "text": [
      "100%|██████████| 2/2 [00:00<00:00,  8.24it/s]\n"
     ]
    },
    {
     "name": "stdout",
     "output_type": "stream",
     "text": [
      "computing greedy matching.\n"
     ]
    },
    {
     "name": "stderr",
     "output_type": "stream",
     "text": [
      "100%|██████████| 1/1 [00:00<00:00, 62.50it/s]\n"
     ]
    },
    {
     "name": "stdout",
     "output_type": "stream",
     "text": [
      "done in 0.26 seconds, 244.66 sentences/sec\n",
      "calculating scores...\n",
      "computing bert embedding.\n"
     ]
    },
    {
     "name": "stderr",
     "output_type": "stream",
     "text": [
      "100%|██████████| 2/2 [00:00<00:00,  8.88it/s]\n"
     ]
    },
    {
     "name": "stdout",
     "output_type": "stream",
     "text": [
      "computing greedy matching.\n"
     ]
    },
    {
     "name": "stderr",
     "output_type": "stream",
     "text": [
      "100%|██████████| 1/1 [00:00<00:00, 66.65it/s]\n"
     ]
    },
    {
     "name": "stdout",
     "output_type": "stream",
     "text": [
      "done in 0.24 seconds, 261.26 sentences/sec\n",
      "calculating scores...\n",
      "computing bert embedding.\n"
     ]
    },
    {
     "name": "stderr",
     "output_type": "stream",
     "text": [
      "100%|██████████| 2/2 [00:00<00:00,  9.33it/s]\n"
     ]
    },
    {
     "name": "stdout",
     "output_type": "stream",
     "text": [
      "computing greedy matching.\n"
     ]
    },
    {
     "name": "stderr",
     "output_type": "stream",
     "text": [
      "100%|██████████| 1/1 [00:00<00:00, 62.51it/s]\n"
     ]
    },
    {
     "name": "stdout",
     "output_type": "stream",
     "text": [
      "done in 0.23 seconds, 272.98 sentences/sec\n",
      "calculating scores...\n",
      "computing bert embedding.\n"
     ]
    },
    {
     "name": "stderr",
     "output_type": "stream",
     "text": [
      "100%|██████████| 2/2 [00:00<00:00,  8.65it/s]\n"
     ]
    },
    {
     "name": "stdout",
     "output_type": "stream",
     "text": [
      "computing greedy matching.\n"
     ]
    },
    {
     "name": "stderr",
     "output_type": "stream",
     "text": [
      "100%|██████████| 1/1 [00:00<00:00, 68.93it/s]"
     ]
    },
    {
     "name": "stdout",
     "output_type": "stream",
     "text": [
      "done in 0.25 seconds, 256.00 sentences/sec\n"
     ]
    },
    {
     "name": "stderr",
     "output_type": "stream",
     "text": [
      "\n"
     ]
    }
   ],
   "source": [
    "familiarity_scores = {}\n",
    "for item in candidates.items():\n",
    "    familiarity_scores[f'{item[0]} familiarity bertscore'] = score(item[1], refs, lang='en', verbose=True)\n"
   ]
  },
  {
   "cell_type": "code",
   "execution_count": 20,
   "metadata": {},
   "outputs": [
    {
     "name": "stdout",
     "output_type": "stream",
     "text": [
      "BLIP-2, greedy, real\n",
      "real name:  noisemaker gen text:  A toy that is made of plastic and has two orange and green plastic handles tensor(0.7734)\n",
      "BLIP-2, nucleus, top_p=0.1, real\n",
      "real name:  noisemaker gen text:  A toy that is made of plastic and has two orange and green plastic handles tensor(0.7734)\n",
      "BLIP-2, nucleus, top_p=0.5, real\n",
      "real name:  noisemaker gen text:  A small, plastic, plastic flower with a handle and a green plastic stem tensor(0.7870)\n",
      "BLIP-2, nucleus, top_p=0.9, real\n",
      "real name:  book end gen text:    tensor(0.)\n",
      "BLIP-2, beam, num_beams=1, real\n",
      "real name:  noisemaker gen text:  A toy that is made of plastic and has two orange and green plastic handles tensor(0.7734)\n",
      "BLIP-2, beam, num_beams=5, real\n",
      "real name:  boomerang gen text:  I think it's a footrest for a chair, but I don't know what kind of chair tensor(0.7736)\n",
      "BLIP-2, beam, num_beams=10, real\n",
      "real name:  noisemaker gen text:  This is a plastic toy with two orange and one green handle tensor(0.7739)\n"
     ]
    }
   ],
   "source": [
    "for i in familiarity_scores.keys():\n",
    "    if 'real' in i:\n",
    "        index = np.argmin(np.array(familiarity_scores[i][-1]))\n",
    "        col_name = re.sub(r'\\s+familiarity bertscore', '', i)\n",
    "        print(col_name)\n",
    "        print('real name: ', list(data['actual name'])[index], 'gen text: ', list(data[col_name])[index], familiarity_scores[i][-1][index])"
   ]
  },
  {
   "cell_type": "code",
   "execution_count": 310,
   "metadata": {},
   "outputs": [
    {
     "name": "stdout",
     "output_type": "stream",
     "text": [
      "BLIP-2, greedy, caption familiarity bertscore Precision mean is  0.8230213\n",
      "BLIP-2, greedy, caption familiarity bertscore Precision median is  0.8230213\n",
      "BLIP-2, greedy, caption familiarity bertscore Precision std is  0.024830252\n",
      "BLIP-2, greedy, caption familiarity bertscore Recall mean is  0.85193086\n",
      "BLIP-2, greedy, caption familiarity bertscore Recall median is  0.85193086\n",
      "BLIP-2, greedy, caption familiarity bertscore Recall std is  0.047016505\n",
      "BLIP-2, greedy, caption familiarity bertscore F1-score mean is  0.8297333\n",
      "BLIP-2, greedy, caption familiarity bertscore F1-score median is  0.8297333\n",
      "BLIP-2, greedy, caption familiarity bertscore F1-score std is  0.027628524\n",
      "=========================== END OF BLIP-2, greedy, caption familiarity bertscore ==============================\n",
      "BLIP-2, nucleus, top_p=0.1, caption familiarity bertscore Precision mean is  0.823554\n",
      "BLIP-2, nucleus, top_p=0.1, caption familiarity bertscore Precision median is  0.823554\n",
      "BLIP-2, nucleus, top_p=0.1, caption familiarity bertscore Precision std is  0.024644785\n",
      "BLIP-2, nucleus, top_p=0.1, caption familiarity bertscore Recall mean is  0.85288954\n",
      "BLIP-2, nucleus, top_p=0.1, caption familiarity bertscore Recall median is  0.85288954\n",
      "BLIP-2, nucleus, top_p=0.1, caption familiarity bertscore Recall std is  0.048116114\n",
      "BLIP-2, nucleus, top_p=0.1, caption familiarity bertscore F1-score mean is  0.83743984\n",
      "BLIP-2, nucleus, top_p=0.1, caption familiarity bertscore F1-score median is  0.83743984\n",
      "BLIP-2, nucleus, top_p=0.1, caption familiarity bertscore F1-score std is  0.031050557\n",
      "=========================== END OF BLIP-2, nucleus, top_p=0.1, caption familiarity bertscore ==============================\n",
      "BLIP-2, nucleus, top_p=0.5, caption familiarity bertscore Precision mean is  0.82435477\n",
      "BLIP-2, nucleus, top_p=0.5, caption familiarity bertscore Precision median is  0.82435477\n",
      "BLIP-2, nucleus, top_p=0.5, caption familiarity bertscore Precision std is  0.027974635\n",
      "BLIP-2, nucleus, top_p=0.5, caption familiarity bertscore Recall mean is  0.8528884\n",
      "BLIP-2, nucleus, top_p=0.5, caption familiarity bertscore Recall median is  0.8528884\n",
      "BLIP-2, nucleus, top_p=0.5, caption familiarity bertscore Recall std is  0.049772594\n",
      "BLIP-2, nucleus, top_p=0.5, caption familiarity bertscore F1-score mean is  0.837849\n",
      "BLIP-2, nucleus, top_p=0.5, caption familiarity bertscore F1-score median is  0.837849\n",
      "BLIP-2, nucleus, top_p=0.5, caption familiarity bertscore F1-score std is  0.033694454\n",
      "=========================== END OF BLIP-2, nucleus, top_p=0.5, caption familiarity bertscore ==============================\n",
      "BLIP-2, nucleus, top_p=0.9, caption familiarity bertscore Precision mean is  0.81905586\n",
      "BLIP-2, nucleus, top_p=0.9, caption familiarity bertscore Precision median is  0.81905586\n",
      "BLIP-2, nucleus, top_p=0.9, caption familiarity bertscore Precision std is  0.026534246\n",
      "BLIP-2, nucleus, top_p=0.9, caption familiarity bertscore Recall mean is  0.84158564\n",
      "BLIP-2, nucleus, top_p=0.9, caption familiarity bertscore Recall median is  0.84158564\n",
      "BLIP-2, nucleus, top_p=0.9, caption familiarity bertscore Recall std is  0.040993392\n",
      "BLIP-2, nucleus, top_p=0.9, caption familiarity bertscore F1-score mean is  0.8298379\n",
      "BLIP-2, nucleus, top_p=0.9, caption familiarity bertscore F1-score median is  0.8298379\n",
      "BLIP-2, nucleus, top_p=0.9, caption familiarity bertscore F1-score std is  0.029920375\n",
      "=========================== END OF BLIP-2, nucleus, top_p=0.9, caption familiarity bertscore ==============================\n",
      "BLIP-2, beam, num_beams=1, caption familiarity bertscore Precision mean is  0.8230213\n",
      "BLIP-2, beam, num_beams=1, caption familiarity bertscore Precision median is  0.8230213\n",
      "BLIP-2, beam, num_beams=1, caption familiarity bertscore Precision std is  0.024830252\n",
      "BLIP-2, beam, num_beams=1, caption familiarity bertscore Recall mean is  0.85193086\n",
      "BLIP-2, beam, num_beams=1, caption familiarity bertscore Recall median is  0.85193086\n",
      "BLIP-2, beam, num_beams=1, caption familiarity bertscore Recall std is  0.047016505\n",
      "BLIP-2, beam, num_beams=1, caption familiarity bertscore F1-score mean is  0.8367176\n",
      "BLIP-2, beam, num_beams=1, caption familiarity bertscore F1-score median is  0.8367176\n",
      "BLIP-2, beam, num_beams=1, caption familiarity bertscore F1-score std is  0.030605547\n",
      "=========================== END OF BLIP-2, beam, num_beams=1, caption familiarity bertscore ==============================\n",
      "BLIP-2, beam, num_beams=5, caption familiarity bertscore Precision mean is  0.81370485\n",
      "BLIP-2, beam, num_beams=5, caption familiarity bertscore Precision median is  0.81370485\n",
      "BLIP-2, beam, num_beams=5, caption familiarity bertscore Precision std is  0.021681422\n",
      "BLIP-2, beam, num_beams=5, caption familiarity bertscore Recall mean is  0.8490441\n",
      "BLIP-2, beam, num_beams=5, caption familiarity bertscore Recall median is  0.8490441\n",
      "BLIP-2, beam, num_beams=5, caption familiarity bertscore Recall std is  0.046459757\n",
      "BLIP-2, beam, num_beams=5, caption familiarity bertscore F1-score mean is  0.83051956\n",
      "BLIP-2, beam, num_beams=5, caption familiarity bertscore F1-score median is  0.83051956\n",
      "BLIP-2, beam, num_beams=5, caption familiarity bertscore F1-score std is  0.02922423\n",
      "=========================== END OF BLIP-2, beam, num_beams=5, caption familiarity bertscore ==============================\n",
      "BLIP-2, beam, num_beams=10, caption familiarity bertscore Precision mean is  0.8130909\n",
      "BLIP-2, beam, num_beams=10, caption familiarity bertscore Precision median is  0.8130909\n",
      "BLIP-2, beam, num_beams=10, caption familiarity bertscore Precision std is  0.02173571\n",
      "BLIP-2, beam, num_beams=10, caption familiarity bertscore Recall mean is  0.84819406\n",
      "BLIP-2, beam, num_beams=10, caption familiarity bertscore Recall median is  0.84819406\n",
      "BLIP-2, beam, num_beams=10, caption familiarity bertscore Recall std is  0.046045713\n",
      "BLIP-2, beam, num_beams=10, caption familiarity bertscore F1-score mean is  0.8298079\n",
      "BLIP-2, beam, num_beams=10, caption familiarity bertscore F1-score median is  0.8298079\n",
      "BLIP-2, beam, num_beams=10, caption familiarity bertscore F1-score std is  0.029134063\n",
      "=========================== END OF BLIP-2, beam, num_beams=10, caption familiarity bertscore ==============================\n"
     ]
    },
    {
     "data": {
      "application/vnd.plotly.v1+json": {
       "config": {
        "plotlyServerURL": "https://plot.ly"
       },
       "data": [
        {
         "name": "BLIP-2, greedy",
         "type": "bar",
         "x": [
          "(18.6, 34.2]",
          "(2.922, 18.6]",
          "(34.2, 49.8]",
          "(49.8, 65.4]",
          "(65.4, 81.0]"
         ],
         "y": [
          0.8211280703544617,
          0.8303884863853455,
          0.8375796675682068,
          0.844850480556488,
          0.8300026059150696
         ]
        },
        {
         "name": "BLIP-2, nucleus, top_p=0.1",
         "type": "bar",
         "x": [
          "(18.6, 34.2]",
          "(2.922, 18.6]",
          "(34.2, 49.8]",
          "(49.8, 65.4]",
          "(65.4, 81.0]"
         ],
         "y": [
          0.829975962638855,
          0.8414708971977234,
          0.8366702795028687,
          0.8581766486167908,
          0.8394863605499268
         ]
        },
        {
         "name": "BLIP-2, nucleus, top_p=0.5",
         "type": "bar",
         "x": [
          "(18.6, 34.2]",
          "(2.922, 18.6]",
          "(34.2, 49.8]",
          "(49.8, 65.4]",
          "(65.4, 81.0]"
         ],
         "y": [
          0.8326765894889832,
          0.8415744304656982,
          0.8379449248313904,
          0.8443980813026428,
          0.8421576023101807
         ]
        },
        {
         "name": "BLIP-2, nucleus, top_p=0.9",
         "type": "bar",
         "x": [
          "(18.6, 34.2]",
          "(2.922, 18.6]",
          "(34.2, 49.8]",
          "(49.8, 65.4]",
          "(65.4, 81.0]"
         ],
         "y": [
          0.8216626048088074,
          0.8333393931388855,
          0.8326881527900696,
          0.8456522822380066,
          0.8317445516586304
         ]
        },
        {
         "name": "BLIP-2, beam, num_beams=1",
         "type": "bar",
         "x": [
          "(18.6, 34.2]",
          "(2.922, 18.6]",
          "(34.2, 49.8]",
          "(49.8, 65.4]",
          "(65.4, 81.0]"
         ],
         "y": [
          0.8301506638526917,
          0.8412748575210571,
          0.8353670239448547,
          0.8524444699287415,
          0.8394863605499268
         ]
        },
        {
         "name": "BLIP-2, beam, num_beams=5",
         "type": "bar",
         "x": [
          "(18.6, 34.2]",
          "(2.922, 18.6]",
          "(34.2, 49.8]",
          "(49.8, 65.4]",
          "(65.4, 81.0]"
         ],
         "y": [
          0.823804497718811,
          0.8348987102508545,
          0.8262574076652527,
          0.8529350757598877,
          0.8360384702682495
         ]
        },
        {
         "name": "BLIP-2, beam, num_beams=10",
         "type": "bar",
         "x": [
          "(18.6, 34.2]",
          "(2.922, 18.6]",
          "(34.2, 49.8]",
          "(49.8, 65.4]",
          "(65.4, 81.0]"
         ],
         "y": [
          0.8240705728530884,
          0.8336821794509888,
          0.8251909613609314,
          0.8499901294708252,
          0.8357718586921692
         ]
        }
       ],
       "layout": {
        "barmode": "group",
        "template": {
         "data": {
          "bar": [
           {
            "error_x": {
             "color": "#2a3f5f"
            },
            "error_y": {
             "color": "#2a3f5f"
            },
            "marker": {
             "line": {
              "color": "#E5ECF6",
              "width": 0.5
             },
             "pattern": {
              "fillmode": "overlay",
              "size": 10,
              "solidity": 0.2
             }
            },
            "type": "bar"
           }
          ],
          "barpolar": [
           {
            "marker": {
             "line": {
              "color": "#E5ECF6",
              "width": 0.5
             },
             "pattern": {
              "fillmode": "overlay",
              "size": 10,
              "solidity": 0.2
             }
            },
            "type": "barpolar"
           }
          ],
          "carpet": [
           {
            "aaxis": {
             "endlinecolor": "#2a3f5f",
             "gridcolor": "white",
             "linecolor": "white",
             "minorgridcolor": "white",
             "startlinecolor": "#2a3f5f"
            },
            "baxis": {
             "endlinecolor": "#2a3f5f",
             "gridcolor": "white",
             "linecolor": "white",
             "minorgridcolor": "white",
             "startlinecolor": "#2a3f5f"
            },
            "type": "carpet"
           }
          ],
          "choropleth": [
           {
            "colorbar": {
             "outlinewidth": 0,
             "ticks": ""
            },
            "type": "choropleth"
           }
          ],
          "contour": [
           {
            "colorbar": {
             "outlinewidth": 0,
             "ticks": ""
            },
            "colorscale": [
             [
              0,
              "#0d0887"
             ],
             [
              0.1111111111111111,
              "#46039f"
             ],
             [
              0.2222222222222222,
              "#7201a8"
             ],
             [
              0.3333333333333333,
              "#9c179e"
             ],
             [
              0.4444444444444444,
              "#bd3786"
             ],
             [
              0.5555555555555556,
              "#d8576b"
             ],
             [
              0.6666666666666666,
              "#ed7953"
             ],
             [
              0.7777777777777778,
              "#fb9f3a"
             ],
             [
              0.8888888888888888,
              "#fdca26"
             ],
             [
              1,
              "#f0f921"
             ]
            ],
            "type": "contour"
           }
          ],
          "contourcarpet": [
           {
            "colorbar": {
             "outlinewidth": 0,
             "ticks": ""
            },
            "type": "contourcarpet"
           }
          ],
          "heatmap": [
           {
            "colorbar": {
             "outlinewidth": 0,
             "ticks": ""
            },
            "colorscale": [
             [
              0,
              "#0d0887"
             ],
             [
              0.1111111111111111,
              "#46039f"
             ],
             [
              0.2222222222222222,
              "#7201a8"
             ],
             [
              0.3333333333333333,
              "#9c179e"
             ],
             [
              0.4444444444444444,
              "#bd3786"
             ],
             [
              0.5555555555555556,
              "#d8576b"
             ],
             [
              0.6666666666666666,
              "#ed7953"
             ],
             [
              0.7777777777777778,
              "#fb9f3a"
             ],
             [
              0.8888888888888888,
              "#fdca26"
             ],
             [
              1,
              "#f0f921"
             ]
            ],
            "type": "heatmap"
           }
          ],
          "heatmapgl": [
           {
            "colorbar": {
             "outlinewidth": 0,
             "ticks": ""
            },
            "colorscale": [
             [
              0,
              "#0d0887"
             ],
             [
              0.1111111111111111,
              "#46039f"
             ],
             [
              0.2222222222222222,
              "#7201a8"
             ],
             [
              0.3333333333333333,
              "#9c179e"
             ],
             [
              0.4444444444444444,
              "#bd3786"
             ],
             [
              0.5555555555555556,
              "#d8576b"
             ],
             [
              0.6666666666666666,
              "#ed7953"
             ],
             [
              0.7777777777777778,
              "#fb9f3a"
             ],
             [
              0.8888888888888888,
              "#fdca26"
             ],
             [
              1,
              "#f0f921"
             ]
            ],
            "type": "heatmapgl"
           }
          ],
          "histogram": [
           {
            "marker": {
             "pattern": {
              "fillmode": "overlay",
              "size": 10,
              "solidity": 0.2
             }
            },
            "type": "histogram"
           }
          ],
          "histogram2d": [
           {
            "colorbar": {
             "outlinewidth": 0,
             "ticks": ""
            },
            "colorscale": [
             [
              0,
              "#0d0887"
             ],
             [
              0.1111111111111111,
              "#46039f"
             ],
             [
              0.2222222222222222,
              "#7201a8"
             ],
             [
              0.3333333333333333,
              "#9c179e"
             ],
             [
              0.4444444444444444,
              "#bd3786"
             ],
             [
              0.5555555555555556,
              "#d8576b"
             ],
             [
              0.6666666666666666,
              "#ed7953"
             ],
             [
              0.7777777777777778,
              "#fb9f3a"
             ],
             [
              0.8888888888888888,
              "#fdca26"
             ],
             [
              1,
              "#f0f921"
             ]
            ],
            "type": "histogram2d"
           }
          ],
          "histogram2dcontour": [
           {
            "colorbar": {
             "outlinewidth": 0,
             "ticks": ""
            },
            "colorscale": [
             [
              0,
              "#0d0887"
             ],
             [
              0.1111111111111111,
              "#46039f"
             ],
             [
              0.2222222222222222,
              "#7201a8"
             ],
             [
              0.3333333333333333,
              "#9c179e"
             ],
             [
              0.4444444444444444,
              "#bd3786"
             ],
             [
              0.5555555555555556,
              "#d8576b"
             ],
             [
              0.6666666666666666,
              "#ed7953"
             ],
             [
              0.7777777777777778,
              "#fb9f3a"
             ],
             [
              0.8888888888888888,
              "#fdca26"
             ],
             [
              1,
              "#f0f921"
             ]
            ],
            "type": "histogram2dcontour"
           }
          ],
          "mesh3d": [
           {
            "colorbar": {
             "outlinewidth": 0,
             "ticks": ""
            },
            "type": "mesh3d"
           }
          ],
          "parcoords": [
           {
            "line": {
             "colorbar": {
              "outlinewidth": 0,
              "ticks": ""
             }
            },
            "type": "parcoords"
           }
          ],
          "pie": [
           {
            "automargin": true,
            "type": "pie"
           }
          ],
          "scatter": [
           {
            "fillpattern": {
             "fillmode": "overlay",
             "size": 10,
             "solidity": 0.2
            },
            "type": "scatter"
           }
          ],
          "scatter3d": [
           {
            "line": {
             "colorbar": {
              "outlinewidth": 0,
              "ticks": ""
             }
            },
            "marker": {
             "colorbar": {
              "outlinewidth": 0,
              "ticks": ""
             }
            },
            "type": "scatter3d"
           }
          ],
          "scattercarpet": [
           {
            "marker": {
             "colorbar": {
              "outlinewidth": 0,
              "ticks": ""
             }
            },
            "type": "scattercarpet"
           }
          ],
          "scattergeo": [
           {
            "marker": {
             "colorbar": {
              "outlinewidth": 0,
              "ticks": ""
             }
            },
            "type": "scattergeo"
           }
          ],
          "scattergl": [
           {
            "marker": {
             "colorbar": {
              "outlinewidth": 0,
              "ticks": ""
             }
            },
            "type": "scattergl"
           }
          ],
          "scattermapbox": [
           {
            "marker": {
             "colorbar": {
              "outlinewidth": 0,
              "ticks": ""
             }
            },
            "type": "scattermapbox"
           }
          ],
          "scatterpolar": [
           {
            "marker": {
             "colorbar": {
              "outlinewidth": 0,
              "ticks": ""
             }
            },
            "type": "scatterpolar"
           }
          ],
          "scatterpolargl": [
           {
            "marker": {
             "colorbar": {
              "outlinewidth": 0,
              "ticks": ""
             }
            },
            "type": "scatterpolargl"
           }
          ],
          "scatterternary": [
           {
            "marker": {
             "colorbar": {
              "outlinewidth": 0,
              "ticks": ""
             }
            },
            "type": "scatterternary"
           }
          ],
          "surface": [
           {
            "colorbar": {
             "outlinewidth": 0,
             "ticks": ""
            },
            "colorscale": [
             [
              0,
              "#0d0887"
             ],
             [
              0.1111111111111111,
              "#46039f"
             ],
             [
              0.2222222222222222,
              "#7201a8"
             ],
             [
              0.3333333333333333,
              "#9c179e"
             ],
             [
              0.4444444444444444,
              "#bd3786"
             ],
             [
              0.5555555555555556,
              "#d8576b"
             ],
             [
              0.6666666666666666,
              "#ed7953"
             ],
             [
              0.7777777777777778,
              "#fb9f3a"
             ],
             [
              0.8888888888888888,
              "#fdca26"
             ],
             [
              1,
              "#f0f921"
             ]
            ],
            "type": "surface"
           }
          ],
          "table": [
           {
            "cells": {
             "fill": {
              "color": "#EBF0F8"
             },
             "line": {
              "color": "white"
             }
            },
            "header": {
             "fill": {
              "color": "#C8D4E3"
             },
             "line": {
              "color": "white"
             }
            },
            "type": "table"
           }
          ]
         },
         "layout": {
          "annotationdefaults": {
           "arrowcolor": "#2a3f5f",
           "arrowhead": 0,
           "arrowwidth": 1
          },
          "autotypenumbers": "strict",
          "coloraxis": {
           "colorbar": {
            "outlinewidth": 0,
            "ticks": ""
           }
          },
          "colorscale": {
           "diverging": [
            [
             0,
             "#8e0152"
            ],
            [
             0.1,
             "#c51b7d"
            ],
            [
             0.2,
             "#de77ae"
            ],
            [
             0.3,
             "#f1b6da"
            ],
            [
             0.4,
             "#fde0ef"
            ],
            [
             0.5,
             "#f7f7f7"
            ],
            [
             0.6,
             "#e6f5d0"
            ],
            [
             0.7,
             "#b8e186"
            ],
            [
             0.8,
             "#7fbc41"
            ],
            [
             0.9,
             "#4d9221"
            ],
            [
             1,
             "#276419"
            ]
           ],
           "sequential": [
            [
             0,
             "#0d0887"
            ],
            [
             0.1111111111111111,
             "#46039f"
            ],
            [
             0.2222222222222222,
             "#7201a8"
            ],
            [
             0.3333333333333333,
             "#9c179e"
            ],
            [
             0.4444444444444444,
             "#bd3786"
            ],
            [
             0.5555555555555556,
             "#d8576b"
            ],
            [
             0.6666666666666666,
             "#ed7953"
            ],
            [
             0.7777777777777778,
             "#fb9f3a"
            ],
            [
             0.8888888888888888,
             "#fdca26"
            ],
            [
             1,
             "#f0f921"
            ]
           ],
           "sequentialminus": [
            [
             0,
             "#0d0887"
            ],
            [
             0.1111111111111111,
             "#46039f"
            ],
            [
             0.2222222222222222,
             "#7201a8"
            ],
            [
             0.3333333333333333,
             "#9c179e"
            ],
            [
             0.4444444444444444,
             "#bd3786"
            ],
            [
             0.5555555555555556,
             "#d8576b"
            ],
            [
             0.6666666666666666,
             "#ed7953"
            ],
            [
             0.7777777777777778,
             "#fb9f3a"
            ],
            [
             0.8888888888888888,
             "#fdca26"
            ],
            [
             1,
             "#f0f921"
            ]
           ]
          },
          "colorway": [
           "#636efa",
           "#EF553B",
           "#00cc96",
           "#ab63fa",
           "#FFA15A",
           "#19d3f3",
           "#FF6692",
           "#B6E880",
           "#FF97FF",
           "#FECB52"
          ],
          "font": {
           "color": "#2a3f5f"
          },
          "geo": {
           "bgcolor": "white",
           "lakecolor": "white",
           "landcolor": "#E5ECF6",
           "showlakes": true,
           "showland": true,
           "subunitcolor": "white"
          },
          "hoverlabel": {
           "align": "left"
          },
          "hovermode": "closest",
          "mapbox": {
           "style": "light"
          },
          "paper_bgcolor": "white",
          "plot_bgcolor": "#E5ECF6",
          "polar": {
           "angularaxis": {
            "gridcolor": "white",
            "linecolor": "white",
            "ticks": ""
           },
           "bgcolor": "#E5ECF6",
           "radialaxis": {
            "gridcolor": "white",
            "linecolor": "white",
            "ticks": ""
           }
          },
          "scene": {
           "xaxis": {
            "backgroundcolor": "#E5ECF6",
            "gridcolor": "white",
            "gridwidth": 2,
            "linecolor": "white",
            "showbackground": true,
            "ticks": "",
            "zerolinecolor": "white"
           },
           "yaxis": {
            "backgroundcolor": "#E5ECF6",
            "gridcolor": "white",
            "gridwidth": 2,
            "linecolor": "white",
            "showbackground": true,
            "ticks": "",
            "zerolinecolor": "white"
           },
           "zaxis": {
            "backgroundcolor": "#E5ECF6",
            "gridcolor": "white",
            "gridwidth": 2,
            "linecolor": "white",
            "showbackground": true,
            "ticks": "",
            "zerolinecolor": "white"
           }
          },
          "shapedefaults": {
           "line": {
            "color": "#2a3f5f"
           }
          },
          "ternary": {
           "aaxis": {
            "gridcolor": "white",
            "linecolor": "white",
            "ticks": ""
           },
           "baxis": {
            "gridcolor": "white",
            "linecolor": "white",
            "ticks": ""
           },
           "bgcolor": "#E5ECF6",
           "caxis": {
            "gridcolor": "white",
            "linecolor": "white",
            "ticks": ""
           }
          },
          "title": {
           "x": 0.05
          },
          "xaxis": {
           "automargin": true,
           "gridcolor": "white",
           "linecolor": "white",
           "ticks": "",
           "title": {
            "standoff": 15
           },
           "zerolinecolor": "white",
           "zerolinewidth": 2
          },
          "yaxis": {
           "automargin": true,
           "gridcolor": "white",
           "linecolor": "white",
           "ticks": "",
           "title": {
            "standoff": 15
           },
           "zerolinecolor": "white",
           "zerolinewidth": 2
          }
         }
        },
        "title": {
         "text": "BERTScore real name similarity F1-Score compared to familiarity scores, binned, Image captioning"
        },
        "width": 1000,
        "xaxis": {
         "tickmode": "array",
         "ticktext": [
          "0-20",
          "21-40",
          "41-60",
          "61-80",
          "81-100"
         ],
         "tickvals": [
          0,
          1,
          2,
          3,
          4
         ],
         "title": {
          "text": "Familiarity score in %"
         }
        },
        "yaxis": {
         "title": {
          "text": "F1-Score"
         },
         "type": "log"
        }
       }
      }
     },
     "metadata": {},
     "output_type": "display_data"
    },
    {
     "name": "stdout",
     "output_type": "stream",
     "text": [
      "BLIP-2, greedy, name familiarity bertscore Precision mean is  0.8563696\n",
      "BLIP-2, greedy, name familiarity bertscore Precision median is  0.8563696\n",
      "BLIP-2, greedy, name familiarity bertscore Precision std is  0.038012788\n",
      "BLIP-2, greedy, name familiarity bertscore Recall mean is  0.8491865\n",
      "BLIP-2, greedy, name familiarity bertscore Recall median is  0.8491865\n",
      "BLIP-2, greedy, name familiarity bertscore Recall std is  0.04221396\n",
      "BLIP-2, greedy, name familiarity bertscore F1-score mean is  0.8521277\n",
      "BLIP-2, greedy, name familiarity bertscore F1-score median is  0.8521277\n",
      "BLIP-2, greedy, name familiarity bertscore F1-score std is  0.03275927\n",
      "=========================== END OF BLIP-2, greedy, name familiarity bertscore ==============================\n",
      "BLIP-2, nucleus, top_p=0.1, name familiarity bertscore Precision mean is  0.8566769\n",
      "BLIP-2, nucleus, top_p=0.1, name familiarity bertscore Precision median is  0.8566769\n",
      "BLIP-2, nucleus, top_p=0.1, name familiarity bertscore Precision std is  0.03796789\n",
      "BLIP-2, nucleus, top_p=0.1, name familiarity bertscore Recall mean is  0.84929496\n",
      "BLIP-2, nucleus, top_p=0.1, name familiarity bertscore Recall median is  0.84929496\n",
      "BLIP-2, nucleus, top_p=0.1, name familiarity bertscore Recall std is  0.04206741\n",
      "BLIP-2, nucleus, top_p=0.1, name familiarity bertscore F1-score mean is  0.8523287\n",
      "BLIP-2, nucleus, top_p=0.1, name familiarity bertscore F1-score median is  0.8523287\n",
      "BLIP-2, nucleus, top_p=0.1, name familiarity bertscore F1-score std is  0.032564484\n",
      "=========================== END OF BLIP-2, nucleus, top_p=0.1, name familiarity bertscore ==============================\n",
      "BLIP-2, nucleus, top_p=0.5, name familiarity bertscore Precision mean is  0.8476122\n",
      "BLIP-2, nucleus, top_p=0.5, name familiarity bertscore Precision median is  0.8476122\n",
      "BLIP-2, nucleus, top_p=0.5, name familiarity bertscore Precision std is  0.03393866\n",
      "BLIP-2, nucleus, top_p=0.5, name familiarity bertscore Recall mean is  0.84628725\n",
      "BLIP-2, nucleus, top_p=0.5, name familiarity bertscore Recall median is  0.84628725\n",
      "BLIP-2, nucleus, top_p=0.5, name familiarity bertscore Recall std is  0.041143175\n",
      "BLIP-2, nucleus, top_p=0.5, name familiarity bertscore F1-score mean is  0.84635586\n",
      "BLIP-2, nucleus, top_p=0.5, name familiarity bertscore F1-score median is  0.84635586\n",
      "BLIP-2, nucleus, top_p=0.5, name familiarity bertscore F1-score std is  0.030322999\n",
      "=========================== END OF BLIP-2, nucleus, top_p=0.5, name familiarity bertscore ==============================\n",
      "BLIP-2, nucleus, top_p=0.9, name familiarity bertscore Precision mean is  0.7853886\n",
      "BLIP-2, nucleus, top_p=0.9, name familiarity bertscore Precision median is  0.7853886\n",
      "BLIP-2, nucleus, top_p=0.9, name familiarity bertscore Precision std is  0.20709439\n",
      "BLIP-2, nucleus, top_p=0.9, name familiarity bertscore Recall mean is  0.79341197\n",
      "BLIP-2, nucleus, top_p=0.9, name familiarity bertscore Recall median is  0.79341197\n",
      "BLIP-2, nucleus, top_p=0.9, name familiarity bertscore Recall std is  0.21008036\n",
      "BLIP-2, nucleus, top_p=0.9, name familiarity bertscore F1-score mean is  0.78874594\n",
      "BLIP-2, nucleus, top_p=0.9, name familiarity bertscore F1-score median is  0.78874594\n",
      "BLIP-2, nucleus, top_p=0.9, name familiarity bertscore F1-score std is  0.20715338\n",
      "=========================== END OF BLIP-2, nucleus, top_p=0.9, name familiarity bertscore ==============================\n",
      "BLIP-2, beam, num_beams=1, name familiarity bertscore Precision mean is  0.8563696\n",
      "BLIP-2, beam, num_beams=1, name familiarity bertscore Precision median is  0.8563696\n",
      "BLIP-2, beam, num_beams=1, name familiarity bertscore Precision std is  0.038012788\n",
      "BLIP-2, beam, num_beams=1, name familiarity bertscore Recall mean is  0.8491865\n",
      "BLIP-2, beam, num_beams=1, name familiarity bertscore Recall median is  0.8491865\n",
      "BLIP-2, beam, num_beams=1, name familiarity bertscore Recall std is  0.04221396\n",
      "BLIP-2, beam, num_beams=1, name familiarity bertscore F1-score mean is  0.8521277\n",
      "BLIP-2, beam, num_beams=1, name familiarity bertscore F1-score median is  0.8521277\n",
      "BLIP-2, beam, num_beams=1, name familiarity bertscore F1-score std is  0.03275927\n",
      "=========================== END OF BLIP-2, beam, num_beams=1, name familiarity bertscore ==============================\n",
      "BLIP-2, beam, num_beams=5, name familiarity bertscore Precision mean is  0.8249608\n",
      "BLIP-2, beam, num_beams=5, name familiarity bertscore Precision median is  0.8249608\n",
      "BLIP-2, beam, num_beams=5, name familiarity bertscore Precision std is  0.02988632\n",
      "BLIP-2, beam, num_beams=5, name familiarity bertscore Recall mean is  0.83869344\n",
      "BLIP-2, beam, num_beams=5, name familiarity bertscore Recall median is  0.83869344\n",
      "BLIP-2, beam, num_beams=5, name familiarity bertscore Recall std is  0.044715922\n",
      "BLIP-2, beam, num_beams=5, name familiarity bertscore F1-score mean is  0.8312589\n",
      "BLIP-2, beam, num_beams=5, name familiarity bertscore F1-score median is  0.8312589\n",
      "BLIP-2, beam, num_beams=5, name familiarity bertscore F1-score std is  0.03161108\n",
      "=========================== END OF BLIP-2, beam, num_beams=5, name familiarity bertscore ==============================\n",
      "BLIP-2, beam, num_beams=10, name familiarity bertscore Precision mean is  0.8181702\n",
      "BLIP-2, beam, num_beams=10, name familiarity bertscore Precision median is  0.8181702\n",
      "BLIP-2, beam, num_beams=10, name familiarity bertscore Precision std is  0.028553696\n",
      "BLIP-2, beam, num_beams=10, name familiarity bertscore Recall mean is  0.8309177\n",
      "BLIP-2, beam, num_beams=10, name familiarity bertscore Recall median is  0.8309177\n",
      "BLIP-2, beam, num_beams=10, name familiarity bertscore Recall std is  0.04170785\n",
      "BLIP-2, beam, num_beams=10, name familiarity bertscore F1-score mean is  0.82403666\n",
      "BLIP-2, beam, num_beams=10, name familiarity bertscore F1-score median is  0.82403666\n",
      "BLIP-2, beam, num_beams=10, name familiarity bertscore F1-score std is  0.029686691\n",
      "=========================== END OF BLIP-2, beam, num_beams=10, name familiarity bertscore ==============================\n"
     ]
    },
    {
     "data": {
      "application/vnd.plotly.v1+json": {
       "config": {
        "plotlyServerURL": "https://plot.ly"
       },
       "data": [
        {
         "name": "BLIP-2, greedy",
         "type": "bar",
         "x": [
          "(18.6, 34.2]",
          "(2.922, 18.6]",
          "(34.2, 49.8]",
          "(49.8, 65.4]",
          "(65.4, 81.0]"
         ],
         "y": [
          0.8469489812850952,
          0.8589127063751221,
          0.8467331528663635,
          0.8599721193313599,
          0.860140323638916
         ]
        },
        {
         "name": "BLIP-2, nucleus, top_p=0.1",
         "type": "bar",
         "x": [
          "(18.6, 34.2]",
          "(2.922, 18.6]",
          "(34.2, 49.8]",
          "(49.8, 65.4]",
          "(65.4, 81.0]"
         ],
         "y": [
          0.8469489812850952,
          0.8589127063751221,
          0.8476523160934448,
          0.8599721193313599,
          0.860140323638916
         ]
        },
        {
         "name": "BLIP-2, nucleus, top_p=0.5",
         "type": "bar",
         "x": [
          "(18.6, 34.2]",
          "(2.922, 18.6]",
          "(34.2, 49.8]",
          "(49.8, 65.4]",
          "(65.4, 81.0]"
         ],
         "y": [
          0.8410729765892029,
          0.8481665849685669,
          0.8441706299781799,
          0.8594075441360474,
          0.857568085193634
         ]
        },
        {
         "name": "BLIP-2, nucleus, top_p=0.9",
         "type": "bar",
         "x": [
          "(18.6, 34.2]",
          "(2.922, 18.6]",
          "(34.2, 49.8]",
          "(49.8, 65.4]",
          "(65.4, 81.0]"
         ],
         "y": [
          0.7997651100158691,
          0.847466766834259,
          0.7179518342018127,
          0.6796315908432007,
          0.8457451462745667
         ]
        },
        {
         "name": "BLIP-2, beam, num_beams=1",
         "type": "bar",
         "x": [
          "(18.6, 34.2]",
          "(2.922, 18.6]",
          "(34.2, 49.8]",
          "(49.8, 65.4]",
          "(65.4, 81.0]"
         ],
         "y": [
          0.8469489812850952,
          0.8589127063751221,
          0.8467331528663635,
          0.8599721193313599,
          0.860140323638916
         ]
        },
        {
         "name": "BLIP-2, beam, num_beams=5",
         "type": "bar",
         "x": [
          "(18.6, 34.2]",
          "(2.922, 18.6]",
          "(34.2, 49.8]",
          "(49.8, 65.4]",
          "(65.4, 81.0]"
         ],
         "y": [
          0.8299797773361206,
          0.8314005136489868,
          0.8284276723861694,
          0.84447181224823,
          0.8313762545585632
         ]
        },
        {
         "name": "BLIP-2, beam, num_beams=10",
         "type": "bar",
         "x": [
          "(18.6, 34.2]",
          "(2.922, 18.6]",
          "(34.2, 49.8]",
          "(49.8, 65.4]",
          "(65.4, 81.0]"
         ],
         "y": [
          0.8236960768699646,
          0.8239578008651733,
          0.8207935690879822,
          0.839483380317688,
          0.819504976272583
         ]
        }
       ],
       "layout": {
        "barmode": "group",
        "template": {
         "data": {
          "bar": [
           {
            "error_x": {
             "color": "#2a3f5f"
            },
            "error_y": {
             "color": "#2a3f5f"
            },
            "marker": {
             "line": {
              "color": "#E5ECF6",
              "width": 0.5
             },
             "pattern": {
              "fillmode": "overlay",
              "size": 10,
              "solidity": 0.2
             }
            },
            "type": "bar"
           }
          ],
          "barpolar": [
           {
            "marker": {
             "line": {
              "color": "#E5ECF6",
              "width": 0.5
             },
             "pattern": {
              "fillmode": "overlay",
              "size": 10,
              "solidity": 0.2
             }
            },
            "type": "barpolar"
           }
          ],
          "carpet": [
           {
            "aaxis": {
             "endlinecolor": "#2a3f5f",
             "gridcolor": "white",
             "linecolor": "white",
             "minorgridcolor": "white",
             "startlinecolor": "#2a3f5f"
            },
            "baxis": {
             "endlinecolor": "#2a3f5f",
             "gridcolor": "white",
             "linecolor": "white",
             "minorgridcolor": "white",
             "startlinecolor": "#2a3f5f"
            },
            "type": "carpet"
           }
          ],
          "choropleth": [
           {
            "colorbar": {
             "outlinewidth": 0,
             "ticks": ""
            },
            "type": "choropleth"
           }
          ],
          "contour": [
           {
            "colorbar": {
             "outlinewidth": 0,
             "ticks": ""
            },
            "colorscale": [
             [
              0,
              "#0d0887"
             ],
             [
              0.1111111111111111,
              "#46039f"
             ],
             [
              0.2222222222222222,
              "#7201a8"
             ],
             [
              0.3333333333333333,
              "#9c179e"
             ],
             [
              0.4444444444444444,
              "#bd3786"
             ],
             [
              0.5555555555555556,
              "#d8576b"
             ],
             [
              0.6666666666666666,
              "#ed7953"
             ],
             [
              0.7777777777777778,
              "#fb9f3a"
             ],
             [
              0.8888888888888888,
              "#fdca26"
             ],
             [
              1,
              "#f0f921"
             ]
            ],
            "type": "contour"
           }
          ],
          "contourcarpet": [
           {
            "colorbar": {
             "outlinewidth": 0,
             "ticks": ""
            },
            "type": "contourcarpet"
           }
          ],
          "heatmap": [
           {
            "colorbar": {
             "outlinewidth": 0,
             "ticks": ""
            },
            "colorscale": [
             [
              0,
              "#0d0887"
             ],
             [
              0.1111111111111111,
              "#46039f"
             ],
             [
              0.2222222222222222,
              "#7201a8"
             ],
             [
              0.3333333333333333,
              "#9c179e"
             ],
             [
              0.4444444444444444,
              "#bd3786"
             ],
             [
              0.5555555555555556,
              "#d8576b"
             ],
             [
              0.6666666666666666,
              "#ed7953"
             ],
             [
              0.7777777777777778,
              "#fb9f3a"
             ],
             [
              0.8888888888888888,
              "#fdca26"
             ],
             [
              1,
              "#f0f921"
             ]
            ],
            "type": "heatmap"
           }
          ],
          "heatmapgl": [
           {
            "colorbar": {
             "outlinewidth": 0,
             "ticks": ""
            },
            "colorscale": [
             [
              0,
              "#0d0887"
             ],
             [
              0.1111111111111111,
              "#46039f"
             ],
             [
              0.2222222222222222,
              "#7201a8"
             ],
             [
              0.3333333333333333,
              "#9c179e"
             ],
             [
              0.4444444444444444,
              "#bd3786"
             ],
             [
              0.5555555555555556,
              "#d8576b"
             ],
             [
              0.6666666666666666,
              "#ed7953"
             ],
             [
              0.7777777777777778,
              "#fb9f3a"
             ],
             [
              0.8888888888888888,
              "#fdca26"
             ],
             [
              1,
              "#f0f921"
             ]
            ],
            "type": "heatmapgl"
           }
          ],
          "histogram": [
           {
            "marker": {
             "pattern": {
              "fillmode": "overlay",
              "size": 10,
              "solidity": 0.2
             }
            },
            "type": "histogram"
           }
          ],
          "histogram2d": [
           {
            "colorbar": {
             "outlinewidth": 0,
             "ticks": ""
            },
            "colorscale": [
             [
              0,
              "#0d0887"
             ],
             [
              0.1111111111111111,
              "#46039f"
             ],
             [
              0.2222222222222222,
              "#7201a8"
             ],
             [
              0.3333333333333333,
              "#9c179e"
             ],
             [
              0.4444444444444444,
              "#bd3786"
             ],
             [
              0.5555555555555556,
              "#d8576b"
             ],
             [
              0.6666666666666666,
              "#ed7953"
             ],
             [
              0.7777777777777778,
              "#fb9f3a"
             ],
             [
              0.8888888888888888,
              "#fdca26"
             ],
             [
              1,
              "#f0f921"
             ]
            ],
            "type": "histogram2d"
           }
          ],
          "histogram2dcontour": [
           {
            "colorbar": {
             "outlinewidth": 0,
             "ticks": ""
            },
            "colorscale": [
             [
              0,
              "#0d0887"
             ],
             [
              0.1111111111111111,
              "#46039f"
             ],
             [
              0.2222222222222222,
              "#7201a8"
             ],
             [
              0.3333333333333333,
              "#9c179e"
             ],
             [
              0.4444444444444444,
              "#bd3786"
             ],
             [
              0.5555555555555556,
              "#d8576b"
             ],
             [
              0.6666666666666666,
              "#ed7953"
             ],
             [
              0.7777777777777778,
              "#fb9f3a"
             ],
             [
              0.8888888888888888,
              "#fdca26"
             ],
             [
              1,
              "#f0f921"
             ]
            ],
            "type": "histogram2dcontour"
           }
          ],
          "mesh3d": [
           {
            "colorbar": {
             "outlinewidth": 0,
             "ticks": ""
            },
            "type": "mesh3d"
           }
          ],
          "parcoords": [
           {
            "line": {
             "colorbar": {
              "outlinewidth": 0,
              "ticks": ""
             }
            },
            "type": "parcoords"
           }
          ],
          "pie": [
           {
            "automargin": true,
            "type": "pie"
           }
          ],
          "scatter": [
           {
            "fillpattern": {
             "fillmode": "overlay",
             "size": 10,
             "solidity": 0.2
            },
            "type": "scatter"
           }
          ],
          "scatter3d": [
           {
            "line": {
             "colorbar": {
              "outlinewidth": 0,
              "ticks": ""
             }
            },
            "marker": {
             "colorbar": {
              "outlinewidth": 0,
              "ticks": ""
             }
            },
            "type": "scatter3d"
           }
          ],
          "scattercarpet": [
           {
            "marker": {
             "colorbar": {
              "outlinewidth": 0,
              "ticks": ""
             }
            },
            "type": "scattercarpet"
           }
          ],
          "scattergeo": [
           {
            "marker": {
             "colorbar": {
              "outlinewidth": 0,
              "ticks": ""
             }
            },
            "type": "scattergeo"
           }
          ],
          "scattergl": [
           {
            "marker": {
             "colorbar": {
              "outlinewidth": 0,
              "ticks": ""
             }
            },
            "type": "scattergl"
           }
          ],
          "scattermapbox": [
           {
            "marker": {
             "colorbar": {
              "outlinewidth": 0,
              "ticks": ""
             }
            },
            "type": "scattermapbox"
           }
          ],
          "scatterpolar": [
           {
            "marker": {
             "colorbar": {
              "outlinewidth": 0,
              "ticks": ""
             }
            },
            "type": "scatterpolar"
           }
          ],
          "scatterpolargl": [
           {
            "marker": {
             "colorbar": {
              "outlinewidth": 0,
              "ticks": ""
             }
            },
            "type": "scatterpolargl"
           }
          ],
          "scatterternary": [
           {
            "marker": {
             "colorbar": {
              "outlinewidth": 0,
              "ticks": ""
             }
            },
            "type": "scatterternary"
           }
          ],
          "surface": [
           {
            "colorbar": {
             "outlinewidth": 0,
             "ticks": ""
            },
            "colorscale": [
             [
              0,
              "#0d0887"
             ],
             [
              0.1111111111111111,
              "#46039f"
             ],
             [
              0.2222222222222222,
              "#7201a8"
             ],
             [
              0.3333333333333333,
              "#9c179e"
             ],
             [
              0.4444444444444444,
              "#bd3786"
             ],
             [
              0.5555555555555556,
              "#d8576b"
             ],
             [
              0.6666666666666666,
              "#ed7953"
             ],
             [
              0.7777777777777778,
              "#fb9f3a"
             ],
             [
              0.8888888888888888,
              "#fdca26"
             ],
             [
              1,
              "#f0f921"
             ]
            ],
            "type": "surface"
           }
          ],
          "table": [
           {
            "cells": {
             "fill": {
              "color": "#EBF0F8"
             },
             "line": {
              "color": "white"
             }
            },
            "header": {
             "fill": {
              "color": "#C8D4E3"
             },
             "line": {
              "color": "white"
             }
            },
            "type": "table"
           }
          ]
         },
         "layout": {
          "annotationdefaults": {
           "arrowcolor": "#2a3f5f",
           "arrowhead": 0,
           "arrowwidth": 1
          },
          "autotypenumbers": "strict",
          "coloraxis": {
           "colorbar": {
            "outlinewidth": 0,
            "ticks": ""
           }
          },
          "colorscale": {
           "diverging": [
            [
             0,
             "#8e0152"
            ],
            [
             0.1,
             "#c51b7d"
            ],
            [
             0.2,
             "#de77ae"
            ],
            [
             0.3,
             "#f1b6da"
            ],
            [
             0.4,
             "#fde0ef"
            ],
            [
             0.5,
             "#f7f7f7"
            ],
            [
             0.6,
             "#e6f5d0"
            ],
            [
             0.7,
             "#b8e186"
            ],
            [
             0.8,
             "#7fbc41"
            ],
            [
             0.9,
             "#4d9221"
            ],
            [
             1,
             "#276419"
            ]
           ],
           "sequential": [
            [
             0,
             "#0d0887"
            ],
            [
             0.1111111111111111,
             "#46039f"
            ],
            [
             0.2222222222222222,
             "#7201a8"
            ],
            [
             0.3333333333333333,
             "#9c179e"
            ],
            [
             0.4444444444444444,
             "#bd3786"
            ],
            [
             0.5555555555555556,
             "#d8576b"
            ],
            [
             0.6666666666666666,
             "#ed7953"
            ],
            [
             0.7777777777777778,
             "#fb9f3a"
            ],
            [
             0.8888888888888888,
             "#fdca26"
            ],
            [
             1,
             "#f0f921"
            ]
           ],
           "sequentialminus": [
            [
             0,
             "#0d0887"
            ],
            [
             0.1111111111111111,
             "#46039f"
            ],
            [
             0.2222222222222222,
             "#7201a8"
            ],
            [
             0.3333333333333333,
             "#9c179e"
            ],
            [
             0.4444444444444444,
             "#bd3786"
            ],
            [
             0.5555555555555556,
             "#d8576b"
            ],
            [
             0.6666666666666666,
             "#ed7953"
            ],
            [
             0.7777777777777778,
             "#fb9f3a"
            ],
            [
             0.8888888888888888,
             "#fdca26"
            ],
            [
             1,
             "#f0f921"
            ]
           ]
          },
          "colorway": [
           "#636efa",
           "#EF553B",
           "#00cc96",
           "#ab63fa",
           "#FFA15A",
           "#19d3f3",
           "#FF6692",
           "#B6E880",
           "#FF97FF",
           "#FECB52"
          ],
          "font": {
           "color": "#2a3f5f"
          },
          "geo": {
           "bgcolor": "white",
           "lakecolor": "white",
           "landcolor": "#E5ECF6",
           "showlakes": true,
           "showland": true,
           "subunitcolor": "white"
          },
          "hoverlabel": {
           "align": "left"
          },
          "hovermode": "closest",
          "mapbox": {
           "style": "light"
          },
          "paper_bgcolor": "white",
          "plot_bgcolor": "#E5ECF6",
          "polar": {
           "angularaxis": {
            "gridcolor": "white",
            "linecolor": "white",
            "ticks": ""
           },
           "bgcolor": "#E5ECF6",
           "radialaxis": {
            "gridcolor": "white",
            "linecolor": "white",
            "ticks": ""
           }
          },
          "scene": {
           "xaxis": {
            "backgroundcolor": "#E5ECF6",
            "gridcolor": "white",
            "gridwidth": 2,
            "linecolor": "white",
            "showbackground": true,
            "ticks": "",
            "zerolinecolor": "white"
           },
           "yaxis": {
            "backgroundcolor": "#E5ECF6",
            "gridcolor": "white",
            "gridwidth": 2,
            "linecolor": "white",
            "showbackground": true,
            "ticks": "",
            "zerolinecolor": "white"
           },
           "zaxis": {
            "backgroundcolor": "#E5ECF6",
            "gridcolor": "white",
            "gridwidth": 2,
            "linecolor": "white",
            "showbackground": true,
            "ticks": "",
            "zerolinecolor": "white"
           }
          },
          "shapedefaults": {
           "line": {
            "color": "#2a3f5f"
           }
          },
          "ternary": {
           "aaxis": {
            "gridcolor": "white",
            "linecolor": "white",
            "ticks": ""
           },
           "baxis": {
            "gridcolor": "white",
            "linecolor": "white",
            "ticks": ""
           },
           "bgcolor": "#E5ECF6",
           "caxis": {
            "gridcolor": "white",
            "linecolor": "white",
            "ticks": ""
           }
          },
          "title": {
           "x": 0.05
          },
          "xaxis": {
           "automargin": true,
           "gridcolor": "white",
           "linecolor": "white",
           "ticks": "",
           "title": {
            "standoff": 15
           },
           "zerolinecolor": "white",
           "zerolinewidth": 2
          },
          "yaxis": {
           "automargin": true,
           "gridcolor": "white",
           "linecolor": "white",
           "ticks": "",
           "title": {
            "standoff": 15
           },
           "zerolinecolor": "white",
           "zerolinewidth": 2
          }
         }
        },
        "title": {
         "text": "BERTScore real name similarity F1-Score compared to familiarity scores, binned, Name question VGA task"
        },
        "width": 1000,
        "xaxis": {
         "tickmode": "array",
         "ticktext": [
          "0-20",
          "21-40",
          "41-60",
          "61-80",
          "81-100"
         ],
         "tickvals": [
          0,
          1,
          2,
          3,
          4
         ],
         "title": {
          "text": "Familiarity score in %"
         }
        },
        "yaxis": {
         "title": {
          "text": "F1-Score"
         },
         "type": "log"
        }
       }
      }
     },
     "metadata": {},
     "output_type": "display_data"
    },
    {
     "name": "stdout",
     "output_type": "stream",
     "text": [
      "BLIP-2, greedy, real familiarity bertscore Precision mean is  0.84735537\n",
      "BLIP-2, greedy, real familiarity bertscore Precision median is  0.84735537\n",
      "BLIP-2, greedy, real familiarity bertscore Precision std is  0.04381848\n",
      "BLIP-2, greedy, real familiarity bertscore Recall mean is  0.8571454\n",
      "BLIP-2, greedy, real familiarity bertscore Recall median is  0.8571454\n",
      "BLIP-2, greedy, real familiarity bertscore Recall std is  0.052577756\n",
      "BLIP-2, greedy, real familiarity bertscore F1-score mean is  0.85184556\n",
      "BLIP-2, greedy, real familiarity bertscore F1-score median is  0.85184556\n",
      "BLIP-2, greedy, real familiarity bertscore F1-score std is  0.044909738\n",
      "=========================== END OF BLIP-2, greedy, real familiarity bertscore ==============================\n",
      "BLIP-2, nucleus, top_p=0.1, real familiarity bertscore Precision mean is  0.8470977\n",
      "BLIP-2, nucleus, top_p=0.1, real familiarity bertscore Precision median is  0.8470977\n",
      "BLIP-2, nucleus, top_p=0.1, real familiarity bertscore Precision std is  0.043499492\n",
      "BLIP-2, nucleus, top_p=0.1, real familiarity bertscore Recall mean is  0.8556325\n",
      "BLIP-2, nucleus, top_p=0.1, real familiarity bertscore Recall median is  0.8556325\n",
      "BLIP-2, nucleus, top_p=0.1, real familiarity bertscore Recall std is  0.052678656\n",
      "BLIP-2, nucleus, top_p=0.1, real familiarity bertscore F1-score mean is  0.8509698\n",
      "BLIP-2, nucleus, top_p=0.1, real familiarity bertscore F1-score median is  0.8509698\n",
      "BLIP-2, nucleus, top_p=0.1, real familiarity bertscore F1-score std is  0.044844393\n",
      "=========================== END OF BLIP-2, nucleus, top_p=0.1, real familiarity bertscore ==============================\n",
      "BLIP-2, nucleus, top_p=0.5, real familiarity bertscore Precision mean is  0.8453473\n",
      "BLIP-2, nucleus, top_p=0.5, real familiarity bertscore Precision median is  0.8453473\n",
      "BLIP-2, nucleus, top_p=0.5, real familiarity bertscore Precision std is  0.035166547\n",
      "BLIP-2, nucleus, top_p=0.5, real familiarity bertscore Recall mean is  0.847924\n",
      "BLIP-2, nucleus, top_p=0.5, real familiarity bertscore Recall median is  0.847924\n",
      "BLIP-2, nucleus, top_p=0.5, real familiarity bertscore Recall std is  0.045523334\n",
      "BLIP-2, nucleus, top_p=0.5, real familiarity bertscore F1-score mean is  0.84602845\n",
      "BLIP-2, nucleus, top_p=0.5, real familiarity bertscore F1-score median is  0.84602845\n",
      "BLIP-2, nucleus, top_p=0.5, real familiarity bertscore F1-score std is  0.033521656\n",
      "=========================== END OF BLIP-2, nucleus, top_p=0.5, real familiarity bertscore ==============================\n",
      "BLIP-2, nucleus, top_p=0.9, real familiarity bertscore Precision mean is  0.8202794\n",
      "BLIP-2, nucleus, top_p=0.9, real familiarity bertscore Precision median is  0.8202794\n",
      "BLIP-2, nucleus, top_p=0.9, real familiarity bertscore Precision std is  0.10766389\n",
      "BLIP-2, nucleus, top_p=0.9, real familiarity bertscore Recall mean is  0.8245653\n",
      "BLIP-2, nucleus, top_p=0.9, real familiarity bertscore Recall median is  0.8245653\n",
      "BLIP-2, nucleus, top_p=0.9, real familiarity bertscore Recall std is  0.11292486\n",
      "BLIP-2, nucleus, top_p=0.9, real familiarity bertscore F1-score mean is  0.8218893\n",
      "BLIP-2, nucleus, top_p=0.9, real familiarity bertscore F1-score median is  0.8218893\n",
      "BLIP-2, nucleus, top_p=0.9, real familiarity bertscore F1-score std is  0.108177766\n",
      "=========================== END OF BLIP-2, nucleus, top_p=0.9, real familiarity bertscore ==============================\n",
      "BLIP-2, beam, num_beams=1, real familiarity bertscore Precision mean is  0.84735537\n",
      "BLIP-2, beam, num_beams=1, real familiarity bertscore Precision median is  0.84735537\n",
      "BLIP-2, beam, num_beams=1, real familiarity bertscore Precision std is  0.04381848\n",
      "BLIP-2, beam, num_beams=1, real familiarity bertscore Recall mean is  0.8571454\n",
      "BLIP-2, beam, num_beams=1, real familiarity bertscore Recall median is  0.8571454\n",
      "BLIP-2, beam, num_beams=1, real familiarity bertscore Recall std is  0.052577756\n",
      "BLIP-2, beam, num_beams=1, real familiarity bertscore F1-score mean is  0.85184556\n",
      "BLIP-2, beam, num_beams=1, real familiarity bertscore F1-score median is  0.85184556\n",
      "BLIP-2, beam, num_beams=1, real familiarity bertscore F1-score std is  0.044909738\n",
      "=========================== END OF BLIP-2, beam, num_beams=1, real familiarity bertscore ==============================\n",
      "BLIP-2, beam, num_beams=5, real familiarity bertscore Precision mean is  0.835562\n",
      "BLIP-2, beam, num_beams=5, real familiarity bertscore Precision median is  0.835562\n",
      "BLIP-2, beam, num_beams=5, real familiarity bertscore Precision std is  0.032505736\n",
      "BLIP-2, beam, num_beams=5, real familiarity bertscore Recall mean is  0.8359987\n",
      "BLIP-2, beam, num_beams=5, real familiarity bertscore Recall median is  0.8359987\n",
      "BLIP-2, beam, num_beams=5, real familiarity bertscore Recall std is  0.040894292\n",
      "BLIP-2, beam, num_beams=5, real familiarity bertscore F1-score mean is  0.8351978\n",
      "BLIP-2, beam, num_beams=5, real familiarity bertscore F1-score median is  0.8351978\n",
      "BLIP-2, beam, num_beams=5, real familiarity bertscore F1-score std is  0.029556787\n",
      "=========================== END OF BLIP-2, beam, num_beams=5, real familiarity bertscore ==============================\n",
      "BLIP-2, beam, num_beams=10, real familiarity bertscore Precision mean is  0.8284471\n",
      "BLIP-2, beam, num_beams=10, real familiarity bertscore Precision median is  0.8284471\n",
      "BLIP-2, beam, num_beams=10, real familiarity bertscore Precision std is  0.029507175\n",
      "BLIP-2, beam, num_beams=10, real familiarity bertscore Recall mean is  0.83219624\n",
      "BLIP-2, beam, num_beams=10, real familiarity bertscore Recall median is  0.83219624\n",
      "BLIP-2, beam, num_beams=10, real familiarity bertscore Recall std is  0.04056036\n",
      "BLIP-2, beam, num_beams=10, real familiarity bertscore F1-score mean is  0.8297333\n",
      "BLIP-2, beam, num_beams=10, real familiarity bertscore F1-score median is  0.8297333\n",
      "BLIP-2, beam, num_beams=10, real familiarity bertscore F1-score std is  0.027628524\n",
      "=========================== END OF BLIP-2, beam, num_beams=10, real familiarity bertscore ==============================\n"
     ]
    },
    {
     "data": {
      "application/vnd.plotly.v1+json": {
       "config": {
        "plotlyServerURL": "https://plot.ly"
       },
       "data": [
        {
         "name": "BLIP-2, greedy",
         "type": "bar",
         "x": [
          "(18.6, 34.2]",
          "(2.922, 18.6]",
          "(34.2, 49.8]",
          "(49.8, 65.4]",
          "(65.4, 81.0]"
         ],
         "y": [
          0.850782036781311,
          0.8510554432868958,
          0.8492813110351562,
          0.8666344881057739,
          0.8518155217170715
         ]
        },
        {
         "name": "BLIP-2, nucleus, top_p=0.1",
         "type": "bar",
         "x": [
          "(18.6, 34.2]",
          "(2.922, 18.6]",
          "(34.2, 49.8]",
          "(49.8, 65.4]",
          "(65.4, 81.0]"
         ],
         "y": [
          0.851074755191803,
          0.848239541053772,
          0.848802924156189,
          0.8649920225143433,
          0.8518155217170715
         ]
        },
        {
         "name": "BLIP-2, nucleus, top_p=0.5",
         "type": "bar",
         "x": [
          "(18.6, 34.2]",
          "(2.922, 18.6]",
          "(34.2, 49.8]",
          "(49.8, 65.4]",
          "(65.4, 81.0]"
         ],
         "y": [
          0.84344083070755,
          0.85091233253479,
          0.8412278890609741,
          0.8548034429550171,
          0.8459925651550293
         ]
        },
        {
         "name": "BLIP-2, nucleus, top_p=0.9",
         "type": "bar",
         "x": [
          "(18.6, 34.2]",
          "(2.922, 18.6]",
          "(34.2, 49.8]",
          "(49.8, 65.4]",
          "(65.4, 81.0]"
         ],
         "y": [
          0.8262958526611328,
          0.7829630970954895,
          0.8370380401611328,
          0.8563063740730286,
          0.8571354150772095
         ]
        },
        {
         "name": "BLIP-2, beam, num_beams=1",
         "type": "bar",
         "x": [
          "(18.6, 34.2]",
          "(2.922, 18.6]",
          "(34.2, 49.8]",
          "(49.8, 65.4]",
          "(65.4, 81.0]"
         ],
         "y": [
          0.850782036781311,
          0.8510554432868958,
          0.8492813110351562,
          0.8666344881057739,
          0.8518155217170715
         ]
        },
        {
         "name": "BLIP-2, beam, num_beams=5",
         "type": "bar",
         "x": [
          "(18.6, 34.2]",
          "(2.922, 18.6]",
          "(34.2, 49.8]",
          "(49.8, 65.4]",
          "(65.4, 81.0]"
         ],
         "y": [
          0.8325222730636597,
          0.8373773097991943,
          0.8351185917854309,
          0.8467773199081421,
          0.8287370204925537
         ]
        },
        {
         "name": "BLIP-2, beam, num_beams=10",
         "type": "bar",
         "x": [
          "(18.6, 34.2]",
          "(2.922, 18.6]",
          "(34.2, 49.8]",
          "(49.8, 65.4]",
          "(65.4, 81.0]"
         ],
         "y": [
          0.8211280703544617,
          0.8303884863853455,
          0.8375796675682068,
          0.844850480556488,
          0.8300026059150696
         ]
        }
       ],
       "layout": {
        "barmode": "group",
        "template": {
         "data": {
          "bar": [
           {
            "error_x": {
             "color": "#2a3f5f"
            },
            "error_y": {
             "color": "#2a3f5f"
            },
            "marker": {
             "line": {
              "color": "#E5ECF6",
              "width": 0.5
             },
             "pattern": {
              "fillmode": "overlay",
              "size": 10,
              "solidity": 0.2
             }
            },
            "type": "bar"
           }
          ],
          "barpolar": [
           {
            "marker": {
             "line": {
              "color": "#E5ECF6",
              "width": 0.5
             },
             "pattern": {
              "fillmode": "overlay",
              "size": 10,
              "solidity": 0.2
             }
            },
            "type": "barpolar"
           }
          ],
          "carpet": [
           {
            "aaxis": {
             "endlinecolor": "#2a3f5f",
             "gridcolor": "white",
             "linecolor": "white",
             "minorgridcolor": "white",
             "startlinecolor": "#2a3f5f"
            },
            "baxis": {
             "endlinecolor": "#2a3f5f",
             "gridcolor": "white",
             "linecolor": "white",
             "minorgridcolor": "white",
             "startlinecolor": "#2a3f5f"
            },
            "type": "carpet"
           }
          ],
          "choropleth": [
           {
            "colorbar": {
             "outlinewidth": 0,
             "ticks": ""
            },
            "type": "choropleth"
           }
          ],
          "contour": [
           {
            "colorbar": {
             "outlinewidth": 0,
             "ticks": ""
            },
            "colorscale": [
             [
              0,
              "#0d0887"
             ],
             [
              0.1111111111111111,
              "#46039f"
             ],
             [
              0.2222222222222222,
              "#7201a8"
             ],
             [
              0.3333333333333333,
              "#9c179e"
             ],
             [
              0.4444444444444444,
              "#bd3786"
             ],
             [
              0.5555555555555556,
              "#d8576b"
             ],
             [
              0.6666666666666666,
              "#ed7953"
             ],
             [
              0.7777777777777778,
              "#fb9f3a"
             ],
             [
              0.8888888888888888,
              "#fdca26"
             ],
             [
              1,
              "#f0f921"
             ]
            ],
            "type": "contour"
           }
          ],
          "contourcarpet": [
           {
            "colorbar": {
             "outlinewidth": 0,
             "ticks": ""
            },
            "type": "contourcarpet"
           }
          ],
          "heatmap": [
           {
            "colorbar": {
             "outlinewidth": 0,
             "ticks": ""
            },
            "colorscale": [
             [
              0,
              "#0d0887"
             ],
             [
              0.1111111111111111,
              "#46039f"
             ],
             [
              0.2222222222222222,
              "#7201a8"
             ],
             [
              0.3333333333333333,
              "#9c179e"
             ],
             [
              0.4444444444444444,
              "#bd3786"
             ],
             [
              0.5555555555555556,
              "#d8576b"
             ],
             [
              0.6666666666666666,
              "#ed7953"
             ],
             [
              0.7777777777777778,
              "#fb9f3a"
             ],
             [
              0.8888888888888888,
              "#fdca26"
             ],
             [
              1,
              "#f0f921"
             ]
            ],
            "type": "heatmap"
           }
          ],
          "heatmapgl": [
           {
            "colorbar": {
             "outlinewidth": 0,
             "ticks": ""
            },
            "colorscale": [
             [
              0,
              "#0d0887"
             ],
             [
              0.1111111111111111,
              "#46039f"
             ],
             [
              0.2222222222222222,
              "#7201a8"
             ],
             [
              0.3333333333333333,
              "#9c179e"
             ],
             [
              0.4444444444444444,
              "#bd3786"
             ],
             [
              0.5555555555555556,
              "#d8576b"
             ],
             [
              0.6666666666666666,
              "#ed7953"
             ],
             [
              0.7777777777777778,
              "#fb9f3a"
             ],
             [
              0.8888888888888888,
              "#fdca26"
             ],
             [
              1,
              "#f0f921"
             ]
            ],
            "type": "heatmapgl"
           }
          ],
          "histogram": [
           {
            "marker": {
             "pattern": {
              "fillmode": "overlay",
              "size": 10,
              "solidity": 0.2
             }
            },
            "type": "histogram"
           }
          ],
          "histogram2d": [
           {
            "colorbar": {
             "outlinewidth": 0,
             "ticks": ""
            },
            "colorscale": [
             [
              0,
              "#0d0887"
             ],
             [
              0.1111111111111111,
              "#46039f"
             ],
             [
              0.2222222222222222,
              "#7201a8"
             ],
             [
              0.3333333333333333,
              "#9c179e"
             ],
             [
              0.4444444444444444,
              "#bd3786"
             ],
             [
              0.5555555555555556,
              "#d8576b"
             ],
             [
              0.6666666666666666,
              "#ed7953"
             ],
             [
              0.7777777777777778,
              "#fb9f3a"
             ],
             [
              0.8888888888888888,
              "#fdca26"
             ],
             [
              1,
              "#f0f921"
             ]
            ],
            "type": "histogram2d"
           }
          ],
          "histogram2dcontour": [
           {
            "colorbar": {
             "outlinewidth": 0,
             "ticks": ""
            },
            "colorscale": [
             [
              0,
              "#0d0887"
             ],
             [
              0.1111111111111111,
              "#46039f"
             ],
             [
              0.2222222222222222,
              "#7201a8"
             ],
             [
              0.3333333333333333,
              "#9c179e"
             ],
             [
              0.4444444444444444,
              "#bd3786"
             ],
             [
              0.5555555555555556,
              "#d8576b"
             ],
             [
              0.6666666666666666,
              "#ed7953"
             ],
             [
              0.7777777777777778,
              "#fb9f3a"
             ],
             [
              0.8888888888888888,
              "#fdca26"
             ],
             [
              1,
              "#f0f921"
             ]
            ],
            "type": "histogram2dcontour"
           }
          ],
          "mesh3d": [
           {
            "colorbar": {
             "outlinewidth": 0,
             "ticks": ""
            },
            "type": "mesh3d"
           }
          ],
          "parcoords": [
           {
            "line": {
             "colorbar": {
              "outlinewidth": 0,
              "ticks": ""
             }
            },
            "type": "parcoords"
           }
          ],
          "pie": [
           {
            "automargin": true,
            "type": "pie"
           }
          ],
          "scatter": [
           {
            "fillpattern": {
             "fillmode": "overlay",
             "size": 10,
             "solidity": 0.2
            },
            "type": "scatter"
           }
          ],
          "scatter3d": [
           {
            "line": {
             "colorbar": {
              "outlinewidth": 0,
              "ticks": ""
             }
            },
            "marker": {
             "colorbar": {
              "outlinewidth": 0,
              "ticks": ""
             }
            },
            "type": "scatter3d"
           }
          ],
          "scattercarpet": [
           {
            "marker": {
             "colorbar": {
              "outlinewidth": 0,
              "ticks": ""
             }
            },
            "type": "scattercarpet"
           }
          ],
          "scattergeo": [
           {
            "marker": {
             "colorbar": {
              "outlinewidth": 0,
              "ticks": ""
             }
            },
            "type": "scattergeo"
           }
          ],
          "scattergl": [
           {
            "marker": {
             "colorbar": {
              "outlinewidth": 0,
              "ticks": ""
             }
            },
            "type": "scattergl"
           }
          ],
          "scattermapbox": [
           {
            "marker": {
             "colorbar": {
              "outlinewidth": 0,
              "ticks": ""
             }
            },
            "type": "scattermapbox"
           }
          ],
          "scatterpolar": [
           {
            "marker": {
             "colorbar": {
              "outlinewidth": 0,
              "ticks": ""
             }
            },
            "type": "scatterpolar"
           }
          ],
          "scatterpolargl": [
           {
            "marker": {
             "colorbar": {
              "outlinewidth": 0,
              "ticks": ""
             }
            },
            "type": "scatterpolargl"
           }
          ],
          "scatterternary": [
           {
            "marker": {
             "colorbar": {
              "outlinewidth": 0,
              "ticks": ""
             }
            },
            "type": "scatterternary"
           }
          ],
          "surface": [
           {
            "colorbar": {
             "outlinewidth": 0,
             "ticks": ""
            },
            "colorscale": [
             [
              0,
              "#0d0887"
             ],
             [
              0.1111111111111111,
              "#46039f"
             ],
             [
              0.2222222222222222,
              "#7201a8"
             ],
             [
              0.3333333333333333,
              "#9c179e"
             ],
             [
              0.4444444444444444,
              "#bd3786"
             ],
             [
              0.5555555555555556,
              "#d8576b"
             ],
             [
              0.6666666666666666,
              "#ed7953"
             ],
             [
              0.7777777777777778,
              "#fb9f3a"
             ],
             [
              0.8888888888888888,
              "#fdca26"
             ],
             [
              1,
              "#f0f921"
             ]
            ],
            "type": "surface"
           }
          ],
          "table": [
           {
            "cells": {
             "fill": {
              "color": "#EBF0F8"
             },
             "line": {
              "color": "white"
             }
            },
            "header": {
             "fill": {
              "color": "#C8D4E3"
             },
             "line": {
              "color": "white"
             }
            },
            "type": "table"
           }
          ]
         },
         "layout": {
          "annotationdefaults": {
           "arrowcolor": "#2a3f5f",
           "arrowhead": 0,
           "arrowwidth": 1
          },
          "autotypenumbers": "strict",
          "coloraxis": {
           "colorbar": {
            "outlinewidth": 0,
            "ticks": ""
           }
          },
          "colorscale": {
           "diverging": [
            [
             0,
             "#8e0152"
            ],
            [
             0.1,
             "#c51b7d"
            ],
            [
             0.2,
             "#de77ae"
            ],
            [
             0.3,
             "#f1b6da"
            ],
            [
             0.4,
             "#fde0ef"
            ],
            [
             0.5,
             "#f7f7f7"
            ],
            [
             0.6,
             "#e6f5d0"
            ],
            [
             0.7,
             "#b8e186"
            ],
            [
             0.8,
             "#7fbc41"
            ],
            [
             0.9,
             "#4d9221"
            ],
            [
             1,
             "#276419"
            ]
           ],
           "sequential": [
            [
             0,
             "#0d0887"
            ],
            [
             0.1111111111111111,
             "#46039f"
            ],
            [
             0.2222222222222222,
             "#7201a8"
            ],
            [
             0.3333333333333333,
             "#9c179e"
            ],
            [
             0.4444444444444444,
             "#bd3786"
            ],
            [
             0.5555555555555556,
             "#d8576b"
            ],
            [
             0.6666666666666666,
             "#ed7953"
            ],
            [
             0.7777777777777778,
             "#fb9f3a"
            ],
            [
             0.8888888888888888,
             "#fdca26"
            ],
            [
             1,
             "#f0f921"
            ]
           ],
           "sequentialminus": [
            [
             0,
             "#0d0887"
            ],
            [
             0.1111111111111111,
             "#46039f"
            ],
            [
             0.2222222222222222,
             "#7201a8"
            ],
            [
             0.3333333333333333,
             "#9c179e"
            ],
            [
             0.4444444444444444,
             "#bd3786"
            ],
            [
             0.5555555555555556,
             "#d8576b"
            ],
            [
             0.6666666666666666,
             "#ed7953"
            ],
            [
             0.7777777777777778,
             "#fb9f3a"
            ],
            [
             0.8888888888888888,
             "#fdca26"
            ],
            [
             1,
             "#f0f921"
            ]
           ]
          },
          "colorway": [
           "#636efa",
           "#EF553B",
           "#00cc96",
           "#ab63fa",
           "#FFA15A",
           "#19d3f3",
           "#FF6692",
           "#B6E880",
           "#FF97FF",
           "#FECB52"
          ],
          "font": {
           "color": "#2a3f5f"
          },
          "geo": {
           "bgcolor": "white",
           "lakecolor": "white",
           "landcolor": "#E5ECF6",
           "showlakes": true,
           "showland": true,
           "subunitcolor": "white"
          },
          "hoverlabel": {
           "align": "left"
          },
          "hovermode": "closest",
          "mapbox": {
           "style": "light"
          },
          "paper_bgcolor": "white",
          "plot_bgcolor": "#E5ECF6",
          "polar": {
           "angularaxis": {
            "gridcolor": "white",
            "linecolor": "white",
            "ticks": ""
           },
           "bgcolor": "#E5ECF6",
           "radialaxis": {
            "gridcolor": "white",
            "linecolor": "white",
            "ticks": ""
           }
          },
          "scene": {
           "xaxis": {
            "backgroundcolor": "#E5ECF6",
            "gridcolor": "white",
            "gridwidth": 2,
            "linecolor": "white",
            "showbackground": true,
            "ticks": "",
            "zerolinecolor": "white"
           },
           "yaxis": {
            "backgroundcolor": "#E5ECF6",
            "gridcolor": "white",
            "gridwidth": 2,
            "linecolor": "white",
            "showbackground": true,
            "ticks": "",
            "zerolinecolor": "white"
           },
           "zaxis": {
            "backgroundcolor": "#E5ECF6",
            "gridcolor": "white",
            "gridwidth": 2,
            "linecolor": "white",
            "showbackground": true,
            "ticks": "",
            "zerolinecolor": "white"
           }
          },
          "shapedefaults": {
           "line": {
            "color": "#2a3f5f"
           }
          },
          "ternary": {
           "aaxis": {
            "gridcolor": "white",
            "linecolor": "white",
            "ticks": ""
           },
           "baxis": {
            "gridcolor": "white",
            "linecolor": "white",
            "ticks": ""
           },
           "bgcolor": "#E5ECF6",
           "caxis": {
            "gridcolor": "white",
            "linecolor": "white",
            "ticks": ""
           }
          },
          "title": {
           "x": 0.05
          },
          "xaxis": {
           "automargin": true,
           "gridcolor": "white",
           "linecolor": "white",
           "ticks": "",
           "title": {
            "standoff": 15
           },
           "zerolinecolor": "white",
           "zerolinewidth": 2
          },
          "yaxis": {
           "automargin": true,
           "gridcolor": "white",
           "linecolor": "white",
           "ticks": "",
           "title": {
            "standoff": 15
           },
           "zerolinecolor": "white",
           "zerolinewidth": 2
          }
         }
        },
        "title": {
         "text": "BERTScore real name similarity F1-Score compared to familiarity scores, binned, Identity question VGA task"
        },
        "width": 1000,
        "xaxis": {
         "tickmode": "array",
         "ticktext": [
          "0-20",
          "21-40",
          "41-60",
          "61-80",
          "81-100"
         ],
         "tickvals": [
          0,
          1,
          2,
          3,
          4
         ],
         "title": {
          "text": "Familiarity score in %"
         }
        },
        "yaxis": {
         "title": {
          "text": "F1-Score"
         },
         "type": "log"
        }
       }
      }
     },
     "metadata": {},
     "output_type": "display_data"
    }
   ],
   "source": [
    "input_types = ['caption', 'name', 'real']\n",
    "figs = []\n",
    "\n",
    "familiarity_data = data.copy()\n",
    "\n",
    "num_bins = 5\n",
    "category_bins_familiarity = pd.cut(familiarity_data['familiarity score'], bins=num_bins)\n",
    "familiarity_data['category bin familiarity'] = category_bins_familiarity.astype(str)\n",
    "\n",
    "for input in input_types:\n",
    "    fig = go.Figure()\n",
    "    for column in familiarity_scores.keys():\n",
    "        if input in column:\n",
    "            \n",
    "            familiarity_data[f'{column} f1-score'] = familiarity_scores[column][-1]\n",
    "            \n",
    "            f1_plot_data = familiarity_data.groupby('category bin familiarity')[f'{column} f1-score'].mean().reset_index()\n",
    "\n",
    "            \n",
    "            new_name = re.sub(r', {} familiarity bertscore'.format(input), '', re.sub('BLIP-2+\\s', '', column))\n",
    "            bar_trace = go.Bar(\n",
    "                            x=f1_plot_data['category bin familiarity'],\n",
    "                            y=f1_plot_data[f'{column} f1-score'],\n",
    "                            name=f'{new_name}',\n",
    "                        )\n",
    "            fig.add_trace(bar_trace)\n",
    "            \n",
    "            print(f\"{column} Precision mean is \", np.mean(np.array(familiarity_scores[column][0])))\n",
    "            print(f\"{column} Precision median is \", np.mean(np.array(familiarity_scores[column][0])))\n",
    "            print(f\"{column} Precision std is \", np.std(np.array(familiarity_scores[column][0])))\n",
    "            \n",
    "            print(f\"{column} Recall mean is \", np.mean(np.array(familiarity_scores[column][1])))\n",
    "            print(f\"{column} Recall median is \", np.mean(np.array(familiarity_scores[column][1])))\n",
    "            print(f\"{column} Recall std is \", np.std(np.array(familiarity_scores[column][1])))\n",
    "            \n",
    "            print(f\"{column} F1-score mean is \", np.mean(np.array(familiarity_scores[column][2])))\n",
    "            print(f\"{column} F1-score median is \", np.mean(np.array(familiarity_scores[column][2])))\n",
    "            print(f\"{column} F1-score std is \", np.std(np.array(familiarity_scores[column][2])))\n",
    "            print(f\"=========================== END OF {column} ==============================\")\n",
    "    if input == 'real':\n",
    "        fig_name = f'Identity question VGA task'\n",
    "    elif input == 'name':\n",
    "        fig_name = 'Name question VGA task'\n",
    "    else:\n",
    "        fig_name = 'Image captioning'\n",
    "    fig.update_layout(\n",
    "    width=1000,\n",
    "    yaxis_type='log',\n",
    "    title=f'BERTScore real name similarity F1-Score compared to familiarity scores, binned, {fig_name}',\n",
    "    xaxis=dict(title='Familiarity score in %', tickmode = 'array',\n",
    "            tickvals = [0, 1, 2, 3, 4],\n",
    "        ticktext = ['0-20', '21-40', '41-60', '61-80', '81-100']),\n",
    "    yaxis=dict(title=f'F1-Score'),\n",
    "            barmode='group')\n",
    "        \n",
    "    fig.show()\n",
    "\n"
   ]
  },
  {
   "attachments": {},
   "cell_type": "markdown",
   "metadata": {},
   "source": [
    "BERTScore nameability measurement for image captioning task"
   ]
  },
  {
   "cell_type": "code",
   "execution_count": 295,
   "metadata": {},
   "outputs": [
    {
     "name": "stdout",
     "output_type": "stream",
     "text": [
      "['BLIP-2, greedy, caption', 'BLIP-2, greedy, name', 'BLIP-2, greedy, real', 'BLIP-2, nucleus, top_p=0.1, caption', 'BLIP-2, nucleus, top_p=0.1, name', 'BLIP-2, nucleus, top_p=0.1, real', 'BLIP-2, nucleus, top_p=0.5, caption', 'BLIP-2, nucleus, top_p=0.5, name', 'BLIP-2, nucleus, top_p=0.5, real', 'BLIP-2, nucleus, top_p=0.9, caption', 'BLIP-2, nucleus, top_p=0.9, name', 'BLIP-2, nucleus, top_p=0.9, real', 'BLIP-2, beam, num_beams=1, caption', 'BLIP-2, beam, num_beams=1, name', 'BLIP-2, beam, num_beams=1, real', 'BLIP-2, beam, num_beams=5, caption', 'BLIP-2, beam, num_beams=5, name', 'BLIP-2, beam, num_beams=5, real', 'BLIP-2, beam, num_beams=10, caption', 'BLIP-2, beam, num_beams=10, name', 'BLIP-2, beam, num_beams=10, real']\n"
     ]
    }
   ],
   "source": [
    "keys = list(candidates.keys())\n",
    "print(keys)"
   ]
  },
  {
   "cell_type": "code",
   "execution_count": 296,
   "metadata": {},
   "outputs": [
    {
     "name": "stdout",
     "output_type": "stream",
     "text": [
      "calculating scores...\n",
      "computing bert embedding.\n"
     ]
    },
    {
     "name": "stderr",
     "output_type": "stream",
     "text": [
      "100%|██████████| 2/2 [00:00<00:00, 12.50it/s]\n"
     ]
    },
    {
     "name": "stdout",
     "output_type": "stream",
     "text": [
      "computing greedy matching.\n"
     ]
    },
    {
     "name": "stderr",
     "output_type": "stream",
     "text": [
      "100%|██████████| 1/1 [00:00<00:00, 68.91it/s]\n"
     ]
    },
    {
     "name": "stdout",
     "output_type": "stream",
     "text": [
      "done in 0.18 seconds, 358.90 sentences/sec\n",
      "calculating scores...\n",
      "computing bert embedding.\n"
     ]
    },
    {
     "name": "stderr",
     "output_type": "stream",
     "text": [
      "100%|██████████| 2/2 [00:00<00:00,  7.44it/s]\n"
     ]
    },
    {
     "name": "stdout",
     "output_type": "stream",
     "text": [
      "computing greedy matching.\n"
     ]
    },
    {
     "name": "stderr",
     "output_type": "stream",
     "text": [
      "100%|██████████| 1/1 [00:00<00:00, 66.51it/s]\n"
     ]
    },
    {
     "name": "stdout",
     "output_type": "stream",
     "text": [
      "done in 0.29 seconds, 222.07 sentences/sec\n",
      "calculating scores...\n",
      "computing bert embedding.\n"
     ]
    },
    {
     "name": "stderr",
     "output_type": "stream",
     "text": [
      "100%|██████████| 2/2 [00:00<00:00,  7.13it/s]\n"
     ]
    },
    {
     "name": "stdout",
     "output_type": "stream",
     "text": [
      "computing greedy matching.\n"
     ]
    },
    {
     "name": "stderr",
     "output_type": "stream",
     "text": [
      "100%|██████████| 1/1 [00:00<00:00, 62.36it/s]\n"
     ]
    },
    {
     "name": "stdout",
     "output_type": "stream",
     "text": [
      "done in 0.30 seconds, 212.91 sentences/sec\n",
      "calculating scores...\n",
      "computing bert embedding.\n"
     ]
    },
    {
     "name": "stderr",
     "output_type": "stream",
     "text": [
      "100%|██████████| 2/2 [00:00<00:00,  7.98it/s]\n"
     ]
    },
    {
     "name": "stdout",
     "output_type": "stream",
     "text": [
      "computing greedy matching.\n"
     ]
    },
    {
     "name": "stderr",
     "output_type": "stream",
     "text": [
      "100%|██████████| 1/1 [00:00<00:00, 64.15it/s]\n"
     ]
    },
    {
     "name": "stdout",
     "output_type": "stream",
     "text": [
      "done in 0.27 seconds, 235.72 sentences/sec\n",
      "calculating scores...\n",
      "computing bert embedding.\n"
     ]
    },
    {
     "name": "stderr",
     "output_type": "stream",
     "text": [
      "100%|██████████| 2/2 [00:00<00:00,  6.90it/s]\n"
     ]
    },
    {
     "name": "stdout",
     "output_type": "stream",
     "text": [
      "computing greedy matching.\n"
     ]
    },
    {
     "name": "stderr",
     "output_type": "stream",
     "text": [
      "100%|██████████| 1/1 [00:00<00:00, 66.26it/s]\n"
     ]
    },
    {
     "name": "stdout",
     "output_type": "stream",
     "text": [
      "done in 0.31 seconds, 206.39 sentences/sec\n",
      "calculating scores...\n",
      "computing bert embedding.\n"
     ]
    },
    {
     "name": "stderr",
     "output_type": "stream",
     "text": [
      "100%|██████████| 2/2 [00:00<00:00,  7.40it/s]\n"
     ]
    },
    {
     "name": "stdout",
     "output_type": "stream",
     "text": [
      "computing greedy matching.\n"
     ]
    },
    {
     "name": "stderr",
     "output_type": "stream",
     "text": [
      "100%|██████████| 1/1 [00:00<00:00, 65.63it/s]\n"
     ]
    },
    {
     "name": "stdout",
     "output_type": "stream",
     "text": [
      "done in 0.29 seconds, 221.57 sentences/sec\n",
      "calculating scores...\n",
      "computing bert embedding.\n"
     ]
    },
    {
     "name": "stderr",
     "output_type": "stream",
     "text": [
      "100%|██████████| 2/2 [00:00<00:00,  7.36it/s]\n"
     ]
    },
    {
     "name": "stdout",
     "output_type": "stream",
     "text": [
      "computing greedy matching.\n"
     ]
    },
    {
     "name": "stderr",
     "output_type": "stream",
     "text": [
      "100%|██████████| 1/1 [00:00<00:00, 58.72it/s]\n"
     ]
    },
    {
     "name": "stdout",
     "output_type": "stream",
     "text": [
      "done in 0.29 seconds, 218.33 sentences/sec\n",
      "calculating scores...\n",
      "computing bert embedding.\n"
     ]
    },
    {
     "name": "stderr",
     "output_type": "stream",
     "text": [
      "100%|██████████| 2/2 [00:00<00:00, 12.50it/s]\n"
     ]
    },
    {
     "name": "stdout",
     "output_type": "stream",
     "text": [
      "computing greedy matching.\n"
     ]
    },
    {
     "name": "stderr",
     "output_type": "stream",
     "text": [
      "100%|██████████| 1/1 [00:00<00:00, 66.53it/s]"
     ]
    },
    {
     "name": "stdout",
     "output_type": "stream",
     "text": [
      "done in 0.18 seconds, 358.57 sentences/sec\n"
     ]
    },
    {
     "name": "stderr",
     "output_type": "stream",
     "text": [
      "\n"
     ]
    },
    {
     "name": "stdout",
     "output_type": "stream",
     "text": [
      "calculating scores...\n",
      "computing bert embedding.\n"
     ]
    },
    {
     "name": "stderr",
     "output_type": "stream",
     "text": [
      "100%|██████████| 2/2 [00:00<00:00,  8.24it/s]\n"
     ]
    },
    {
     "name": "stdout",
     "output_type": "stream",
     "text": [
      "computing greedy matching.\n"
     ]
    },
    {
     "name": "stderr",
     "output_type": "stream",
     "text": [
      "100%|██████████| 1/1 [00:00<00:00, 66.60it/s]\n"
     ]
    },
    {
     "name": "stdout",
     "output_type": "stream",
     "text": [
      "done in 0.26 seconds, 245.39 sentences/sec\n",
      "calculating scores...\n",
      "computing bert embedding.\n"
     ]
    },
    {
     "name": "stderr",
     "output_type": "stream",
     "text": [
      "100%|██████████| 2/2 [00:00<00:00,  7.60it/s]\n"
     ]
    },
    {
     "name": "stdout",
     "output_type": "stream",
     "text": [
      "computing greedy matching.\n"
     ]
    },
    {
     "name": "stderr",
     "output_type": "stream",
     "text": [
      "100%|██████████| 1/1 [00:00<00:00, 64.48it/s]\n"
     ]
    },
    {
     "name": "stdout",
     "output_type": "stream",
     "text": [
      "done in 0.28 seconds, 226.77 sentences/sec\n",
      "calculating scores...\n",
      "computing bert embedding.\n"
     ]
    },
    {
     "name": "stderr",
     "output_type": "stream",
     "text": [
      "100%|██████████| 2/2 [00:00<00:00,  7.14it/s]\n"
     ]
    },
    {
     "name": "stdout",
     "output_type": "stream",
     "text": [
      "computing greedy matching.\n"
     ]
    },
    {
     "name": "stderr",
     "output_type": "stream",
     "text": [
      "100%|██████████| 1/1 [00:00<00:00, 51.71it/s]\n"
     ]
    },
    {
     "name": "stdout",
     "output_type": "stream",
     "text": [
      "done in 0.31 seconds, 209.61 sentences/sec\n",
      "calculating scores...\n",
      "computing bert embedding.\n"
     ]
    },
    {
     "name": "stderr",
     "output_type": "stream",
     "text": [
      "100%|██████████| 2/2 [00:00<00:00,  7.32it/s]\n"
     ]
    },
    {
     "name": "stdout",
     "output_type": "stream",
     "text": [
      "computing greedy matching.\n"
     ]
    },
    {
     "name": "stderr",
     "output_type": "stream",
     "text": [
      "100%|██████████| 1/1 [00:00<00:00, 71.12it/s]\n"
     ]
    },
    {
     "name": "stdout",
     "output_type": "stream",
     "text": [
      "done in 0.29 seconds, 218.80 sentences/sec\n",
      "calculating scores...\n",
      "computing bert embedding.\n"
     ]
    },
    {
     "name": "stderr",
     "output_type": "stream",
     "text": [
      "100%|██████████| 2/2 [00:00<00:00,  7.40it/s]\n"
     ]
    },
    {
     "name": "stdout",
     "output_type": "stream",
     "text": [
      "computing greedy matching.\n"
     ]
    },
    {
     "name": "stderr",
     "output_type": "stream",
     "text": [
      "100%|██████████| 1/1 [00:00<00:00, 56.91it/s]\n"
     ]
    },
    {
     "name": "stdout",
     "output_type": "stream",
     "text": [
      "done in 0.29 seconds, 218.58 sentences/sec\n",
      "calculating scores...\n",
      "computing bert embedding.\n"
     ]
    },
    {
     "name": "stderr",
     "output_type": "stream",
     "text": [
      "100%|██████████| 2/2 [00:00<00:00,  7.14it/s]\n"
     ]
    },
    {
     "name": "stdout",
     "output_type": "stream",
     "text": [
      "computing greedy matching.\n"
     ]
    },
    {
     "name": "stderr",
     "output_type": "stream",
     "text": [
      "100%|██████████| 1/1 [00:00<00:00, 68.92it/s]\n"
     ]
    },
    {
     "name": "stdout",
     "output_type": "stream",
     "text": [
      "done in 0.30 seconds, 213.98 sentences/sec\n",
      "calculating scores...\n",
      "computing bert embedding.\n"
     ]
    },
    {
     "name": "stderr",
     "output_type": "stream",
     "text": [
      "100%|██████████| 2/2 [00:00<00:00,  7.24it/s]\n"
     ]
    },
    {
     "name": "stdout",
     "output_type": "stream",
     "text": [
      "computing greedy matching.\n"
     ]
    },
    {
     "name": "stderr",
     "output_type": "stream",
     "text": [
      "100%|██████████| 1/1 [00:00<00:00, 64.48it/s]\n"
     ]
    },
    {
     "name": "stdout",
     "output_type": "stream",
     "text": [
      "done in 0.30 seconds, 215.87 sentences/sec\n",
      "calculating scores...\n",
      "computing bert embedding.\n"
     ]
    },
    {
     "name": "stderr",
     "output_type": "stream",
     "text": [
      "100%|██████████| 2/2 [00:00<00:00,  7.08it/s]\n"
     ]
    },
    {
     "name": "stdout",
     "output_type": "stream",
     "text": [
      "computing greedy matching.\n"
     ]
    },
    {
     "name": "stderr",
     "output_type": "stream",
     "text": [
      "100%|██████████| 1/1 [00:00<00:00, 68.08it/s]\n"
     ]
    },
    {
     "name": "stdout",
     "output_type": "stream",
     "text": [
      "done in 0.30 seconds, 212.35 sentences/sec\n",
      "calculating scores...\n",
      "computing bert embedding.\n"
     ]
    },
    {
     "name": "stderr",
     "output_type": "stream",
     "text": [
      "100%|██████████| 2/2 [00:00<00:00,  6.53it/s]\n"
     ]
    },
    {
     "name": "stdout",
     "output_type": "stream",
     "text": [
      "computing greedy matching.\n"
     ]
    },
    {
     "name": "stderr",
     "output_type": "stream",
     "text": [
      "100%|██████████| 1/1 [00:00<00:00, 68.92it/s]\n"
     ]
    },
    {
     "name": "stdout",
     "output_type": "stream",
     "text": [
      "done in 0.33 seconds, 196.32 sentences/sec\n",
      "calculating scores...\n",
      "computing bert embedding.\n"
     ]
    },
    {
     "name": "stderr",
     "output_type": "stream",
     "text": [
      "100%|██████████| 2/2 [00:00<00:00,  8.26it/s]\n"
     ]
    },
    {
     "name": "stdout",
     "output_type": "stream",
     "text": [
      "computing greedy matching.\n"
     ]
    },
    {
     "name": "stderr",
     "output_type": "stream",
     "text": [
      "100%|██████████| 1/1 [00:00<00:00, 58.70it/s]\n"
     ]
    },
    {
     "name": "stdout",
     "output_type": "stream",
     "text": [
      "done in 0.26 seconds, 242.74 sentences/sec\n",
      "calculating scores...\n",
      "computing bert embedding.\n"
     ]
    },
    {
     "name": "stderr",
     "output_type": "stream",
     "text": [
      "100%|██████████| 2/2 [00:00<00:00,  7.71it/s]\n"
     ]
    },
    {
     "name": "stdout",
     "output_type": "stream",
     "text": [
      "computing greedy matching.\n"
     ]
    },
    {
     "name": "stderr",
     "output_type": "stream",
     "text": [
      "100%|██████████| 1/1 [00:00<00:00, 70.44it/s]\n"
     ]
    },
    {
     "name": "stdout",
     "output_type": "stream",
     "text": [
      "done in 0.28 seconds, 229.83 sentences/sec\n",
      "calculating scores...\n",
      "computing bert embedding.\n"
     ]
    },
    {
     "name": "stderr",
     "output_type": "stream",
     "text": [
      "100%|██████████| 2/2 [00:00<00:00, 10.55it/s]\n"
     ]
    },
    {
     "name": "stdout",
     "output_type": "stream",
     "text": [
      "computing greedy matching.\n"
     ]
    },
    {
     "name": "stderr",
     "output_type": "stream",
     "text": [
      "100%|██████████| 1/1 [00:00<00:00, 62.38it/s]"
     ]
    },
    {
     "name": "stdout",
     "output_type": "stream",
     "text": [
      "done in 0.21 seconds, 305.54 sentences/sec\n"
     ]
    },
    {
     "name": "stderr",
     "output_type": "stream",
     "text": [
      "\n"
     ]
    }
   ],
   "source": [
    "# data2['BERTScore nameability caption'] = score(cands_greedy_caption, cands_nucleus_caption, lang='en', verbose=True)[2] + score(\n",
    "#     cands_greedy_caption, cands_beam_caption, lang='en', verbose=True)[2] + score(cands_beam_caption, cands_nucleus_caption, lang='en', verbose=True)[2]\n",
    "\n",
    "\n",
    "\n",
    "keys = list(candidates.keys())\n",
    "n = len(keys)\n",
    "\n",
    "mean = 0\n",
    "precisions = np.zeros(64)\n",
    "recalls = np.zeros(64)\n",
    "f1_scores = np.zeros(64)\n",
    "\n",
    "for i in range(n - 1):\n",
    "    for j in range(i + 1, n):\n",
    "        key1 = keys[i]\n",
    "        key2 = keys[j]\n",
    "        if candidates[key1] != candidates[key2]:  # Exclude pairs with two identical lists\n",
    "            if 'caption' in key1 and 'caption' in key2:\n",
    "                p, r, f1 = score(candidates[key1], candidates[key2], lang='en', verbose=True)\n",
    "                precisions += np.array(p)\n",
    "                recalls += np.array(r)\n",
    "                f1_scores += np.array(f1)\n",
    "                mean += 1\n",
    "\n",
    "precisions_caption = precisions / mean\n",
    "recalls_caption = recalls / mean\n",
    "f1_scores_caption = f1_scores / mean"
   ]
  },
  {
   "cell_type": "code",
   "execution_count": 297,
   "metadata": {},
   "outputs": [
    {
     "name": "stdout",
     "output_type": "stream",
     "text": [
      "calculating scores...\n",
      "computing bert embedding.\n"
     ]
    },
    {
     "name": "stderr",
     "output_type": "stream",
     "text": [
      "100%|██████████| 1/1 [00:00<00:00, 12.59it/s]\n"
     ]
    },
    {
     "name": "stdout",
     "output_type": "stream",
     "text": [
      "computing greedy matching.\n"
     ]
    },
    {
     "name": "stderr",
     "output_type": "stream",
     "text": [
      "100%|██████████| 1/1 [00:00<00:00, 71.23it/s]"
     ]
    },
    {
     "name": "stdout",
     "output_type": "stream",
     "text": [
      "done in 0.10 seconds, 652.10 sentences/sec\n"
     ]
    },
    {
     "name": "stderr",
     "output_type": "stream",
     "text": [
      "\n"
     ]
    },
    {
     "name": "stdout",
     "output_type": "stream",
     "text": [
      "calculating scores...\n",
      "computing bert embedding.\n"
     ]
    },
    {
     "name": "stderr",
     "output_type": "stream",
     "text": [
      "100%|██████████| 2/2 [00:00<00:00, 12.18it/s]\n"
     ]
    },
    {
     "name": "stdout",
     "output_type": "stream",
     "text": [
      "computing greedy matching.\n"
     ]
    },
    {
     "name": "stderr",
     "output_type": "stream",
     "text": [
      "100%|██████████| 1/1 [00:00<00:00, 68.90it/s]"
     ]
    },
    {
     "name": "stdout",
     "output_type": "stream",
     "text": [
      "done in 0.18 seconds, 351.22 sentences/sec\n"
     ]
    },
    {
     "name": "stderr",
     "output_type": "stream",
     "text": [
      "\n"
     ]
    },
    {
     "name": "stdout",
     "output_type": "stream",
     "text": [
      "calculating scores...\n",
      "computing bert embedding.\n"
     ]
    },
    {
     "name": "stderr",
     "output_type": "stream",
     "text": [
      "100%|██████████| 2/2 [00:00<00:00,  9.38it/s]\n"
     ]
    },
    {
     "name": "stdout",
     "output_type": "stream",
     "text": [
      "computing greedy matching.\n"
     ]
    },
    {
     "name": "stderr",
     "output_type": "stream",
     "text": [
      "  0%|          | 0/1 [00:00<?, ?it/s]Warning: Empty reference sentence detected; setting raw BERTScores to 0.\n",
      "100%|██████████| 1/1 [00:00<00:00, 68.90it/s]\n"
     ]
    },
    {
     "name": "stdout",
     "output_type": "stream",
     "text": [
      "done in 0.23 seconds, 275.41 sentences/sec\n",
      "calculating scores...\n",
      "computing bert embedding.\n"
     ]
    },
    {
     "name": "stderr",
     "output_type": "stream",
     "text": [
      "100%|██████████| 2/2 [00:00<00:00,  9.65it/s]\n"
     ]
    },
    {
     "name": "stdout",
     "output_type": "stream",
     "text": [
      "computing greedy matching.\n"
     ]
    },
    {
     "name": "stderr",
     "output_type": "stream",
     "text": [
      "100%|██████████| 1/1 [00:00<00:00, 70.89it/s]\n"
     ]
    },
    {
     "name": "stdout",
     "output_type": "stream",
     "text": [
      "done in 0.22 seconds, 284.65 sentences/sec\n",
      "calculating scores...\n",
      "computing bert embedding.\n"
     ]
    },
    {
     "name": "stderr",
     "output_type": "stream",
     "text": [
      "100%|██████████| 2/2 [00:00<00:00,  9.74it/s]\n"
     ]
    },
    {
     "name": "stdout",
     "output_type": "stream",
     "text": [
      "computing greedy matching.\n"
     ]
    },
    {
     "name": "stderr",
     "output_type": "stream",
     "text": [
      "100%|██████████| 1/1 [00:00<00:00, 66.59it/s]\n"
     ]
    },
    {
     "name": "stdout",
     "output_type": "stream",
     "text": [
      "done in 0.22 seconds, 287.20 sentences/sec\n",
      "calculating scores...\n",
      "computing bert embedding.\n"
     ]
    },
    {
     "name": "stderr",
     "output_type": "stream",
     "text": [
      "100%|██████████| 2/2 [00:00<00:00, 11.87it/s]\n"
     ]
    },
    {
     "name": "stdout",
     "output_type": "stream",
     "text": [
      "computing greedy matching.\n"
     ]
    },
    {
     "name": "stderr",
     "output_type": "stream",
     "text": [
      "100%|██████████| 1/1 [00:00<00:00, 60.35it/s]\n"
     ]
    },
    {
     "name": "stdout",
     "output_type": "stream",
     "text": [
      "done in 0.19 seconds, 337.88 sentences/sec\n",
      "calculating scores...\n",
      "computing bert embedding.\n"
     ]
    },
    {
     "name": "stderr",
     "output_type": "stream",
     "text": [
      "100%|██████████| 2/2 [00:00<00:00,  9.75it/s]\n"
     ]
    },
    {
     "name": "stdout",
     "output_type": "stream",
     "text": [
      "computing greedy matching.\n"
     ]
    },
    {
     "name": "stderr",
     "output_type": "stream",
     "text": [
      "  0%|          | 0/1 [00:00<?, ?it/s]Warning: Empty reference sentence detected; setting raw BERTScores to 0.\n",
      "100%|██████████| 1/1 [00:00<00:00, 64.42it/s]\n"
     ]
    },
    {
     "name": "stdout",
     "output_type": "stream",
     "text": [
      "done in 0.22 seconds, 285.15 sentences/sec\n",
      "calculating scores...\n",
      "computing bert embedding.\n"
     ]
    },
    {
     "name": "stderr",
     "output_type": "stream",
     "text": [
      "100%|██████████| 1/1 [00:00<00:00, 13.02it/s]\n"
     ]
    },
    {
     "name": "stdout",
     "output_type": "stream",
     "text": [
      "computing greedy matching.\n"
     ]
    },
    {
     "name": "stderr",
     "output_type": "stream",
     "text": [
      "100%|██████████| 1/1 [00:00<00:00, 68.92it/s]"
     ]
    },
    {
     "name": "stdout",
     "output_type": "stream",
     "text": [
      "done in 0.09 seconds, 685.13 sentences/sec\n"
     ]
    },
    {
     "name": "stderr",
     "output_type": "stream",
     "text": [
      "\n"
     ]
    },
    {
     "name": "stdout",
     "output_type": "stream",
     "text": [
      "calculating scores...\n",
      "computing bert embedding.\n"
     ]
    },
    {
     "name": "stderr",
     "output_type": "stream",
     "text": [
      "100%|██████████| 2/2 [00:00<00:00,  9.41it/s]\n"
     ]
    },
    {
     "name": "stdout",
     "output_type": "stream",
     "text": [
      "computing greedy matching.\n"
     ]
    },
    {
     "name": "stderr",
     "output_type": "stream",
     "text": [
      "100%|██████████| 1/1 [00:00<00:00, 66.05it/s]\n"
     ]
    },
    {
     "name": "stdout",
     "output_type": "stream",
     "text": [
      "done in 0.23 seconds, 275.04 sentences/sec\n",
      "calculating scores...\n",
      "computing bert embedding.\n"
     ]
    },
    {
     "name": "stderr",
     "output_type": "stream",
     "text": [
      "100%|██████████| 2/2 [00:00<00:00,  8.64it/s]\n"
     ]
    },
    {
     "name": "stdout",
     "output_type": "stream",
     "text": [
      "computing greedy matching.\n"
     ]
    },
    {
     "name": "stderr",
     "output_type": "stream",
     "text": [
      "100%|██████████| 1/1 [00:00<00:00, 64.48it/s]\n"
     ]
    },
    {
     "name": "stdout",
     "output_type": "stream",
     "text": [
      "done in 0.25 seconds, 255.94 sentences/sec\n",
      "calculating scores...\n",
      "computing bert embedding.\n"
     ]
    },
    {
     "name": "stderr",
     "output_type": "stream",
     "text": [
      "100%|██████████| 2/2 [00:00<00:00,  9.29it/s]\n"
     ]
    },
    {
     "name": "stdout",
     "output_type": "stream",
     "text": [
      "computing greedy matching.\n"
     ]
    },
    {
     "name": "stderr",
     "output_type": "stream",
     "text": [
      "  0%|          | 0/1 [00:00<?, ?it/s]Warning: Empty reference sentence detected; setting raw BERTScores to 0.\n",
      "100%|██████████| 1/1 [00:00<00:00, 63.96it/s]\n"
     ]
    },
    {
     "name": "stdout",
     "output_type": "stream",
     "text": [
      "done in 0.23 seconds, 273.90 sentences/sec\n",
      "calculating scores...\n",
      "computing bert embedding.\n"
     ]
    },
    {
     "name": "stderr",
     "output_type": "stream",
     "text": [
      "100%|██████████| 2/2 [00:00<00:00, 11.80it/s]\n"
     ]
    },
    {
     "name": "stdout",
     "output_type": "stream",
     "text": [
      "computing greedy matching.\n"
     ]
    },
    {
     "name": "stderr",
     "output_type": "stream",
     "text": [
      "100%|██████████| 1/1 [00:00<00:00, 64.42it/s]\n"
     ]
    },
    {
     "name": "stdout",
     "output_type": "stream",
     "text": [
      "done in 0.19 seconds, 336.88 sentences/sec\n",
      "calculating scores...\n",
      "computing bert embedding.\n"
     ]
    },
    {
     "name": "stderr",
     "output_type": "stream",
     "text": [
      "100%|██████████| 2/2 [00:00<00:00,  9.03it/s]\n"
     ]
    },
    {
     "name": "stdout",
     "output_type": "stream",
     "text": [
      "computing greedy matching.\n"
     ]
    },
    {
     "name": "stderr",
     "output_type": "stream",
     "text": [
      "100%|██████████| 1/1 [00:00<00:00, 62.36it/s]\n"
     ]
    },
    {
     "name": "stdout",
     "output_type": "stream",
     "text": [
      "done in 0.24 seconds, 264.33 sentences/sec\n",
      "calculating scores...\n",
      "computing bert embedding.\n"
     ]
    },
    {
     "name": "stderr",
     "output_type": "stream",
     "text": [
      "100%|██████████| 2/2 [00:00<00:00,  8.55it/s]\n"
     ]
    },
    {
     "name": "stdout",
     "output_type": "stream",
     "text": [
      "computing greedy matching.\n"
     ]
    },
    {
     "name": "stderr",
     "output_type": "stream",
     "text": [
      "100%|██████████| 1/1 [00:00<00:00, 65.96it/s]\n"
     ]
    },
    {
     "name": "stdout",
     "output_type": "stream",
     "text": [
      "done in 0.25 seconds, 254.12 sentences/sec\n",
      "calculating scores...\n",
      "computing bert embedding.\n"
     ]
    },
    {
     "name": "stderr",
     "output_type": "stream",
     "text": [
      "100%|██████████| 2/2 [00:00<00:00,  9.40it/s]\n"
     ]
    },
    {
     "name": "stdout",
     "output_type": "stream",
     "text": [
      "computing greedy matching.\n"
     ]
    },
    {
     "name": "stderr",
     "output_type": "stream",
     "text": [
      "  0%|          | 0/1 [00:00<?, ?it/s]Warning: Empty candidate sentence detected; setting raw BERTscores to 0.\n",
      "100%|██████████| 1/1 [00:00<00:00, 64.17it/s]\n"
     ]
    },
    {
     "name": "stdout",
     "output_type": "stream",
     "text": [
      "done in 0.23 seconds, 275.01 sentences/sec\n",
      "calculating scores...\n",
      "computing bert embedding.\n"
     ]
    },
    {
     "name": "stderr",
     "output_type": "stream",
     "text": [
      "100%|██████████| 2/2 [00:00<00:00,  8.62it/s]\n"
     ]
    },
    {
     "name": "stdout",
     "output_type": "stream",
     "text": [
      "computing greedy matching.\n"
     ]
    },
    {
     "name": "stderr",
     "output_type": "stream",
     "text": [
      "  0%|          | 0/1 [00:00<?, ?it/s]Warning: Empty candidate sentence detected; setting raw BERTscores to 0.\n",
      "100%|██████████| 1/1 [00:00<00:00, 58.74it/s]\n"
     ]
    },
    {
     "name": "stdout",
     "output_type": "stream",
     "text": [
      "done in 0.25 seconds, 252.51 sentences/sec\n",
      "calculating scores...\n",
      "computing bert embedding.\n"
     ]
    },
    {
     "name": "stderr",
     "output_type": "stream",
     "text": [
      "100%|██████████| 2/2 [00:00<00:00,  6.71it/s]\n"
     ]
    },
    {
     "name": "stdout",
     "output_type": "stream",
     "text": [
      "computing greedy matching.\n"
     ]
    },
    {
     "name": "stderr",
     "output_type": "stream",
     "text": [
      "  0%|          | 0/1 [00:00<?, ?it/s]Warning: Empty candidate sentence detected; setting raw BERTscores to 0.\n",
      "100%|██████████| 1/1 [00:00<00:00, 63.50it/s]\n"
     ]
    },
    {
     "name": "stdout",
     "output_type": "stream",
     "text": [
      "done in 0.32 seconds, 201.52 sentences/sec\n",
      "calculating scores...\n",
      "computing bert embedding.\n"
     ]
    },
    {
     "name": "stderr",
     "output_type": "stream",
     "text": [
      "100%|██████████| 2/2 [00:00<00:00,  9.80it/s]\n"
     ]
    },
    {
     "name": "stdout",
     "output_type": "stream",
     "text": [
      "computing greedy matching.\n"
     ]
    },
    {
     "name": "stderr",
     "output_type": "stream",
     "text": [
      "100%|██████████| 1/1 [00:00<00:00, 65.60it/s]\n"
     ]
    },
    {
     "name": "stdout",
     "output_type": "stream",
     "text": [
      "done in 0.22 seconds, 285.42 sentences/sec\n",
      "calculating scores...\n",
      "computing bert embedding.\n"
     ]
    },
    {
     "name": "stderr",
     "output_type": "stream",
     "text": [
      "100%|██████████| 2/2 [00:00<00:00,  8.97it/s]\n"
     ]
    },
    {
     "name": "stdout",
     "output_type": "stream",
     "text": [
      "computing greedy matching.\n"
     ]
    },
    {
     "name": "stderr",
     "output_type": "stream",
     "text": [
      "100%|██████████| 1/1 [00:00<00:00, 64.40it/s]\n"
     ]
    },
    {
     "name": "stdout",
     "output_type": "stream",
     "text": [
      "done in 0.25 seconds, 259.98 sentences/sec\n",
      "calculating scores...\n",
      "computing bert embedding.\n"
     ]
    },
    {
     "name": "stderr",
     "output_type": "stream",
     "text": [
      "100%|██████████| 2/2 [00:00<00:00,  7.28it/s]\n"
     ]
    },
    {
     "name": "stdout",
     "output_type": "stream",
     "text": [
      "computing greedy matching.\n"
     ]
    },
    {
     "name": "stderr",
     "output_type": "stream",
     "text": [
      "100%|██████████| 1/1 [00:00<00:00, 52.55it/s]"
     ]
    },
    {
     "name": "stdout",
     "output_type": "stream",
     "text": [
      "done in 0.30 seconds, 214.35 sentences/sec\n"
     ]
    },
    {
     "name": "stderr",
     "output_type": "stream",
     "text": [
      "\n"
     ]
    }
   ],
   "source": [
    "\n",
    "keys = list(candidates.keys())\n",
    "n = len(keys)\n",
    "\n",
    "mean = 0\n",
    "precisions = np.zeros(64)\n",
    "recalls = np.zeros(64)\n",
    "f1_scores = np.zeros(64)\n",
    "\n",
    "for i in range(n - 1):\n",
    "    for j in range(i + 1, n):\n",
    "        key1 = keys[i]\n",
    "        key2 = keys[j]\n",
    "        if candidates[key1] != candidates[key2]:  # Exclude pairs with two identical lists\n",
    "            if 'name' in key1 and 'name' in key2:\n",
    "                p, r, f1 = score(candidates[key1], candidates[key2], lang='en', verbose=True)\n",
    "                precisions += np.array(p)\n",
    "                recalls += np.array(r)\n",
    "                f1_scores += np.array(f1)\n",
    "                mean += 1\n",
    "\n",
    "precisions_name = precisions / mean\n",
    "recalls_name = recalls / mean\n",
    "f1_scores_name = f1_scores / mean"
   ]
  },
  {
   "cell_type": "code",
   "execution_count": 298,
   "metadata": {},
   "outputs": [
    {
     "name": "stdout",
     "output_type": "stream",
     "text": [
      "calculating scores...\n",
      "computing bert embedding.\n"
     ]
    },
    {
     "name": "stderr",
     "output_type": "stream",
     "text": [
      "100%|██████████| 2/2 [00:00<00:00, 11.80it/s]\n"
     ]
    },
    {
     "name": "stdout",
     "output_type": "stream",
     "text": [
      "computing greedy matching.\n"
     ]
    },
    {
     "name": "stderr",
     "output_type": "stream",
     "text": [
      "100%|██████████| 1/1 [00:00<00:00, 68.87it/s]\n"
     ]
    },
    {
     "name": "stdout",
     "output_type": "stream",
     "text": [
      "done in 0.19 seconds, 338.58 sentences/sec\n",
      "calculating scores...\n",
      "computing bert embedding.\n"
     ]
    },
    {
     "name": "stderr",
     "output_type": "stream",
     "text": [
      "100%|██████████| 2/2 [00:00<00:00,  8.84it/s]\n"
     ]
    },
    {
     "name": "stdout",
     "output_type": "stream",
     "text": [
      "computing greedy matching.\n"
     ]
    },
    {
     "name": "stderr",
     "output_type": "stream",
     "text": [
      "100%|██████████| 1/1 [00:00<00:00, 63.73it/s]\n"
     ]
    },
    {
     "name": "stdout",
     "output_type": "stream",
     "text": [
      "done in 0.25 seconds, 260.63 sentences/sec\n",
      "calculating scores...\n",
      "computing bert embedding.\n"
     ]
    },
    {
     "name": "stderr",
     "output_type": "stream",
     "text": [
      "100%|██████████| 2/2 [00:00<00:00,  7.39it/s]\n"
     ]
    },
    {
     "name": "stdout",
     "output_type": "stream",
     "text": [
      "computing greedy matching.\n"
     ]
    },
    {
     "name": "stderr",
     "output_type": "stream",
     "text": [
      "  0%|          | 0/1 [00:00<?, ?it/s]Warning: Empty reference sentence detected; setting raw BERTScores to 0.\n",
      "100%|██████████| 1/1 [00:00<00:00, 62.76it/s]\n"
     ]
    },
    {
     "name": "stdout",
     "output_type": "stream",
     "text": [
      "done in 0.29 seconds, 219.42 sentences/sec\n",
      "calculating scores...\n",
      "computing bert embedding.\n"
     ]
    },
    {
     "name": "stderr",
     "output_type": "stream",
     "text": [
      "100%|██████████| 2/2 [00:00<00:00,  7.91it/s]\n"
     ]
    },
    {
     "name": "stdout",
     "output_type": "stream",
     "text": [
      "computing greedy matching.\n"
     ]
    },
    {
     "name": "stderr",
     "output_type": "stream",
     "text": [
      "100%|██████████| 1/1 [00:00<00:00, 64.26it/s]\n"
     ]
    },
    {
     "name": "stdout",
     "output_type": "stream",
     "text": [
      "done in 0.27 seconds, 233.88 sentences/sec\n",
      "calculating scores...\n",
      "computing bert embedding.\n"
     ]
    },
    {
     "name": "stderr",
     "output_type": "stream",
     "text": [
      "100%|██████████| 2/2 [00:00<00:00,  8.09it/s]\n"
     ]
    },
    {
     "name": "stdout",
     "output_type": "stream",
     "text": [
      "computing greedy matching.\n"
     ]
    },
    {
     "name": "stderr",
     "output_type": "stream",
     "text": [
      "100%|██████████| 1/1 [00:00<00:00, 54.72it/s]\n"
     ]
    },
    {
     "name": "stdout",
     "output_type": "stream",
     "text": [
      "done in 0.27 seconds, 238.23 sentences/sec\n",
      "calculating scores...\n",
      "computing bert embedding.\n"
     ]
    },
    {
     "name": "stderr",
     "output_type": "stream",
     "text": [
      "100%|██████████| 2/2 [00:00<00:00,  8.76it/s]\n"
     ]
    },
    {
     "name": "stdout",
     "output_type": "stream",
     "text": [
      "computing greedy matching.\n"
     ]
    },
    {
     "name": "stderr",
     "output_type": "stream",
     "text": [
      "100%|██████████| 1/1 [00:00<00:00, 66.58it/s]\n"
     ]
    },
    {
     "name": "stdout",
     "output_type": "stream",
     "text": [
      "done in 0.25 seconds, 256.72 sentences/sec\n",
      "calculating scores...\n",
      "computing bert embedding.\n"
     ]
    },
    {
     "name": "stderr",
     "output_type": "stream",
     "text": [
      "100%|██████████| 2/2 [00:00<00:00,  7.95it/s]\n"
     ]
    },
    {
     "name": "stdout",
     "output_type": "stream",
     "text": [
      "computing greedy matching.\n"
     ]
    },
    {
     "name": "stderr",
     "output_type": "stream",
     "text": [
      "  0%|          | 0/1 [00:00<?, ?it/s]Warning: Empty reference sentence detected; setting raw BERTScores to 0.\n",
      "100%|██████████| 1/1 [00:00<00:00, 48.61it/s]\n"
     ]
    },
    {
     "name": "stdout",
     "output_type": "stream",
     "text": [
      "done in 0.28 seconds, 231.40 sentences/sec\n",
      "calculating scores...\n",
      "computing bert embedding.\n"
     ]
    },
    {
     "name": "stderr",
     "output_type": "stream",
     "text": [
      "100%|██████████| 2/2 [00:00<00:00, 12.15it/s]\n"
     ]
    },
    {
     "name": "stdout",
     "output_type": "stream",
     "text": [
      "computing greedy matching.\n"
     ]
    },
    {
     "name": "stderr",
     "output_type": "stream",
     "text": [
      "100%|██████████| 1/1 [00:00<00:00, 58.67it/s]\n"
     ]
    },
    {
     "name": "stdout",
     "output_type": "stream",
     "text": [
      "done in 0.19 seconds, 343.18 sentences/sec\n",
      "calculating scores...\n",
      "computing bert embedding.\n"
     ]
    },
    {
     "name": "stderr",
     "output_type": "stream",
     "text": [
      "100%|██████████| 2/2 [00:00<00:00,  7.45it/s]\n"
     ]
    },
    {
     "name": "stdout",
     "output_type": "stream",
     "text": [
      "computing greedy matching.\n"
     ]
    },
    {
     "name": "stderr",
     "output_type": "stream",
     "text": [
      "100%|██████████| 1/1 [00:00<00:00, 45.35it/s]\n"
     ]
    },
    {
     "name": "stdout",
     "output_type": "stream",
     "text": [
      "done in 0.30 seconds, 215.63 sentences/sec\n",
      "calculating scores...\n",
      "computing bert embedding.\n"
     ]
    },
    {
     "name": "stderr",
     "output_type": "stream",
     "text": [
      "100%|██████████| 2/2 [00:00<00:00,  7.50it/s]\n"
     ]
    },
    {
     "name": "stdout",
     "output_type": "stream",
     "text": [
      "computing greedy matching.\n"
     ]
    },
    {
     "name": "stderr",
     "output_type": "stream",
     "text": [
      "100%|██████████| 1/1 [00:00<00:00, 49.91it/s]\n"
     ]
    },
    {
     "name": "stdout",
     "output_type": "stream",
     "text": [
      "done in 0.29 seconds, 218.39 sentences/sec\n",
      "calculating scores...\n",
      "computing bert embedding.\n"
     ]
    },
    {
     "name": "stderr",
     "output_type": "stream",
     "text": [
      "100%|██████████| 2/2 [00:00<00:00,  8.07it/s]\n"
     ]
    },
    {
     "name": "stdout",
     "output_type": "stream",
     "text": [
      "computing greedy matching.\n"
     ]
    },
    {
     "name": "stderr",
     "output_type": "stream",
     "text": [
      "  0%|          | 0/1 [00:00<?, ?it/s]Warning: Empty reference sentence detected; setting raw BERTScores to 0.\n",
      "100%|██████████| 1/1 [00:00<00:00, 70.80it/s]\n"
     ]
    },
    {
     "name": "stdout",
     "output_type": "stream",
     "text": [
      "done in 0.27 seconds, 239.36 sentences/sec\n",
      "calculating scores...\n",
      "computing bert embedding.\n"
     ]
    },
    {
     "name": "stderr",
     "output_type": "stream",
     "text": [
      "100%|██████████| 2/2 [00:00<00:00,  8.74it/s]\n"
     ]
    },
    {
     "name": "stdout",
     "output_type": "stream",
     "text": [
      "computing greedy matching.\n"
     ]
    },
    {
     "name": "stderr",
     "output_type": "stream",
     "text": [
      "100%|██████████| 1/1 [00:00<00:00, 66.37it/s]\n"
     ]
    },
    {
     "name": "stdout",
     "output_type": "stream",
     "text": [
      "done in 0.25 seconds, 257.69 sentences/sec\n",
      "calculating scores...\n",
      "computing bert embedding.\n"
     ]
    },
    {
     "name": "stderr",
     "output_type": "stream",
     "text": [
      "100%|██████████| 2/2 [00:00<00:00,  7.90it/s]\n"
     ]
    },
    {
     "name": "stdout",
     "output_type": "stream",
     "text": [
      "computing greedy matching.\n"
     ]
    },
    {
     "name": "stderr",
     "output_type": "stream",
     "text": [
      "100%|██████████| 1/1 [00:00<00:00, 60.38it/s]\n"
     ]
    },
    {
     "name": "stdout",
     "output_type": "stream",
     "text": [
      "done in 0.27 seconds, 233.73 sentences/sec\n",
      "calculating scores...\n",
      "computing bert embedding.\n"
     ]
    },
    {
     "name": "stderr",
     "output_type": "stream",
     "text": [
      "100%|██████████| 2/2 [00:00<00:00,  8.03it/s]\n"
     ]
    },
    {
     "name": "stdout",
     "output_type": "stream",
     "text": [
      "computing greedy matching.\n"
     ]
    },
    {
     "name": "stderr",
     "output_type": "stream",
     "text": [
      "100%|██████████| 1/1 [00:00<00:00, 66.56it/s]\n"
     ]
    },
    {
     "name": "stdout",
     "output_type": "stream",
     "text": [
      "done in 0.27 seconds, 239.52 sentences/sec\n",
      "calculating scores...\n",
      "computing bert embedding.\n"
     ]
    },
    {
     "name": "stderr",
     "output_type": "stream",
     "text": [
      "100%|██████████| 2/2 [00:00<00:00,  8.12it/s]\n"
     ]
    },
    {
     "name": "stdout",
     "output_type": "stream",
     "text": [
      "computing greedy matching.\n"
     ]
    },
    {
     "name": "stderr",
     "output_type": "stream",
     "text": [
      "  0%|          | 0/1 [00:00<?, ?it/s]Warning: Empty candidate sentence detected; setting raw BERTscores to 0.\n",
      "100%|██████████| 1/1 [00:00<00:00, 56.89it/s]\n"
     ]
    },
    {
     "name": "stdout",
     "output_type": "stream",
     "text": [
      "done in 0.27 seconds, 239.65 sentences/sec\n",
      "calculating scores...\n",
      "computing bert embedding.\n"
     ]
    },
    {
     "name": "stderr",
     "output_type": "stream",
     "text": [
      "100%|██████████| 2/2 [00:00<00:00,  6.32it/s]\n"
     ]
    },
    {
     "name": "stdout",
     "output_type": "stream",
     "text": [
      "computing greedy matching.\n"
     ]
    },
    {
     "name": "stderr",
     "output_type": "stream",
     "text": [
      "  0%|          | 0/1 [00:00<?, ?it/s]Warning: Empty candidate sentence detected; setting raw BERTscores to 0.\n",
      "100%|██████████| 1/1 [00:00<00:00, 60.58it/s]\n"
     ]
    },
    {
     "name": "stdout",
     "output_type": "stream",
     "text": [
      "done in 0.34 seconds, 190.38 sentences/sec\n",
      "calculating scores...\n",
      "computing bert embedding.\n"
     ]
    },
    {
     "name": "stderr",
     "output_type": "stream",
     "text": [
      "100%|██████████| 2/2 [00:00<00:00,  6.99it/s]\n"
     ]
    },
    {
     "name": "stdout",
     "output_type": "stream",
     "text": [
      "computing greedy matching.\n"
     ]
    },
    {
     "name": "stderr",
     "output_type": "stream",
     "text": [
      "  0%|          | 0/1 [00:00<?, ?it/s]Warning: Empty candidate sentence detected; setting raw BERTscores to 0.\n",
      "100%|██████████| 1/1 [00:00<00:00, 60.28it/s]\n"
     ]
    },
    {
     "name": "stdout",
     "output_type": "stream",
     "text": [
      "done in 0.31 seconds, 208.65 sentences/sec\n",
      "calculating scores...\n",
      "computing bert embedding.\n"
     ]
    },
    {
     "name": "stderr",
     "output_type": "stream",
     "text": [
      "100%|██████████| 2/2 [00:00<00:00,  8.05it/s]\n"
     ]
    },
    {
     "name": "stdout",
     "output_type": "stream",
     "text": [
      "computing greedy matching.\n"
     ]
    },
    {
     "name": "stderr",
     "output_type": "stream",
     "text": [
      "100%|██████████| 1/1 [00:00<00:00, 62.34it/s]\n"
     ]
    },
    {
     "name": "stdout",
     "output_type": "stream",
     "text": [
      "done in 0.27 seconds, 237.43 sentences/sec\n",
      "calculating scores...\n",
      "computing bert embedding.\n"
     ]
    },
    {
     "name": "stderr",
     "output_type": "stream",
     "text": [
      "100%|██████████| 2/2 [00:00<00:00,  8.31it/s]\n"
     ]
    },
    {
     "name": "stdout",
     "output_type": "stream",
     "text": [
      "computing greedy matching.\n"
     ]
    },
    {
     "name": "stderr",
     "output_type": "stream",
     "text": [
      "100%|██████████| 1/1 [00:00<00:00, 53.49it/s]\n"
     ]
    },
    {
     "name": "stdout",
     "output_type": "stream",
     "text": [
      "done in 0.26 seconds, 243.09 sentences/sec\n",
      "calculating scores...\n",
      "computing bert embedding.\n"
     ]
    },
    {
     "name": "stderr",
     "output_type": "stream",
     "text": [
      "100%|██████████| 2/2 [00:00<00:00,  9.63it/s]\n"
     ]
    },
    {
     "name": "stdout",
     "output_type": "stream",
     "text": [
      "computing greedy matching.\n"
     ]
    },
    {
     "name": "stderr",
     "output_type": "stream",
     "text": [
      "100%|██████████| 1/1 [00:00<00:00, 64.26it/s]"
     ]
    },
    {
     "name": "stdout",
     "output_type": "stream",
     "text": [
      "done in 0.23 seconds, 281.19 sentences/sec\n"
     ]
    },
    {
     "name": "stderr",
     "output_type": "stream",
     "text": [
      "\n"
     ]
    }
   ],
   "source": [
    "keys = list(candidates.keys())\n",
    "n = len(keys)\n",
    "\n",
    "mean = 0\n",
    "precisions = np.zeros(64)\n",
    "recalls = np.zeros(64)\n",
    "f1_scores = np.zeros(64)\n",
    "\n",
    "for i in range(n - 1):\n",
    "    for j in range(i + 1, n):\n",
    "        key1 = keys[i]\n",
    "        key2 = keys[j]\n",
    "        if candidates[key1] != candidates[key2]:  # Exclude pairs with two identical lists\n",
    "            if 'real' in key1 and 'real' in key2:\n",
    "                p, r, f1 = score(candidates[key1], candidates[key2], lang='en', verbose=True)\n",
    "                precisions += np.array(p)\n",
    "                recalls += np.array(r)\n",
    "                f1_scores += np.array(f1)\n",
    "                mean += 1\n",
    "\n",
    "precisions_real = precisions / mean\n",
    "recalls_real = recalls / mean\n",
    "f1_scores_real = f1_scores / mean"
   ]
  },
  {
   "attachments": {},
   "cell_type": "markdown",
   "metadata": {},
   "source": [
    "BERTScore Visualization"
   ]
  },
  {
   "cell_type": "code",
   "execution_count": 299,
   "metadata": {},
   "outputs": [
    {
     "name": "stdout",
     "output_type": "stream",
     "text": [
      "caption Precision mean is  0.9363500773441047\n",
      "caption  Precision median is  0.9363500773441047\n",
      "caption  Precision std is  0.018307821543466277\n",
      "caption  Recall mean is  0.9303384562488646\n",
      "caption  Recall median is  0.9303384562488646\n",
      "caption  Recall std is  0.018792946233666296\n",
      "caption  F1-score mean is  0.9332304697949441\n",
      "caption  F1-score median is  0.9332304697949441\n",
      "caption  F1-score std is  0.0181185077143687\n",
      "name Precision mean is  0.8946972729172556\n",
      "name  Precision median is  0.8946972729172556\n",
      "name  Precision std is  0.06632875049289313\n",
      "name  Recall mean is  0.8736935296095907\n",
      "name  Recall median is  0.8736935296095907\n",
      "name  Recall std is  0.0701032336174451\n",
      "name  F1-score mean is  0.8835316447541117\n",
      "name  F1-score median is  0.8835316447541117\n",
      "name  F1-score std is  0.06785705393079859\n",
      "real Precision mean is  0.9061711327638478\n",
      "real  Precision median is  0.9061711327638478\n",
      "real  Precision std is  0.046646606266820885\n",
      "real  Recall mean is  0.8941711352672428\n",
      "real  Recall median is  0.8941711352672428\n",
      "real  Recall std is  0.044833849341761635\n",
      "real  F1-score mean is  0.8997014935594052\n",
      "real  F1-score median is  0.8997014935594052\n",
      "real  F1-score std is  0.0448428878377225\n"
     ]
    }
   ],
   "source": [
    "print(f\"caption Precision mean is \", np.mean(np.array(precisions_caption)))\n",
    "print(f\"caption  Precision median is \", np.mean(np.array(precisions_caption)))\n",
    "print(f\"caption  Precision std is \", np.std(np.array(precisions_caption)))\n",
    "\n",
    "print(f\"caption  Recall mean is \", np.mean(np.array(recalls_caption)))\n",
    "print(f\"caption  Recall median is \", np.mean(np.array(recalls_caption)))\n",
    "print(f\"caption  Recall std is \", np.std(np.array(recalls_caption)))\n",
    "\n",
    "print(f\"caption  F1-score mean is \", np.mean(np.array(f1_scores_caption)))\n",
    "print(f\"caption  F1-score median is \", np.mean(np.array(f1_scores_caption)))\n",
    "print(f\"caption  F1-score std is \", np.std(np.array(f1_scores_caption)))\n",
    "\n",
    "print(f\"name Precision mean is \", np.mean(np.array(precisions_name)))\n",
    "print(f\"name  Precision median is \", np.mean(np.array(precisions_name)))\n",
    "print(f\"name  Precision std is \", np.std(np.array(precisions_name)))\n",
    "\n",
    "print(f\"name  Recall mean is \", np.mean(np.array(recalls_name)))\n",
    "print(f\"name  Recall median is \", np.mean(np.array(recalls_name)))\n",
    "print(f\"name  Recall std is \", np.std(np.array(recalls_name)))\n",
    "\n",
    "print(f\"name  F1-score mean is \", np.mean(np.array(f1_scores_name)))\n",
    "print(f\"name  F1-score median is \", np.mean(np.array(f1_scores_name)))\n",
    "print(f\"name  F1-score std is \", np.std(np.array(f1_scores_name)))\n",
    "\n",
    "print(f\"real Precision mean is \", np.mean(np.array(precisions_real)))\n",
    "print(f\"real  Precision median is \", np.mean(np.array(precisions_real)))\n",
    "print(f\"real  Precision std is \", np.std(np.array(precisions_real)))\n",
    "\n",
    "print(f\"real  Recall mean is \", np.mean(np.array(recalls_real)))\n",
    "print(f\"real  Recall median is \", np.mean(np.array(recalls_real)))\n",
    "print(f\"real  Recall std is \", np.std(np.array(recalls_real)))\n",
    "\n",
    "print(f\"real  F1-score mean is \", np.mean(np.array(f1_scores_real)))\n",
    "print(f\"real  F1-score median is \", np.mean(np.array(f1_scores_real)))\n",
    "print(f\"real  F1-score std is \", np.std(np.array(f1_scores_real)))"
   ]
  },
  {
   "cell_type": "code",
   "execution_count": 304,
   "metadata": {},
   "outputs": [
    {
     "data": {
      "application/vnd.plotly.v1+json": {
       "config": {
        "plotlyServerURL": "https://plot.ly"
       },
       "data": [
        {
         "name": "Image caption task",
         "type": "bar",
         "x": [
          2025,
          2022,
          2013,
          2016,
          2037,
          2008,
          2005,
          2054,
          2029,
          2044,
          2017,
          2021,
          2045,
          2023,
          2057,
          2047,
          2060,
          2031,
          2064,
          2055,
          2058,
          2020,
          2027,
          2041,
          2063,
          2034,
          2030,
          2049,
          2024,
          2007,
          2048,
          2028,
          2001,
          2012,
          2018,
          2010,
          2061,
          2052,
          2035,
          2062,
          2033,
          2056,
          2051,
          2038,
          2039,
          2040,
          2006,
          2042,
          2019,
          2046,
          2050,
          2004,
          2036,
          2026,
          2003,
          2011,
          2014,
          2043,
          2015,
          2009,
          2053,
          2002,
          2032,
          2059
         ],
         "xaxis": "x",
         "y": [
          0.9321462929248809,
          0.9287058770656585,
          0.9063637018203735,
          0.9450641572475433,
          0.9428937196731567,
          0.8989984333515167,
          0.9511970400810241,
          0.9200651943683624,
          0.9373449862003327,
          0.935865718126297,
          0.9239012151956558,
          0.9186943739652633,
          0.9251586109399795,
          0.9347829908132553,
          0.9488671302795411,
          0.9342905968427658,
          0.9467127293348312,
          0.9422160267829895,
          0.9595615029335022,
          0.9156205624341964,
          0.8977683901786804,
          0.9273211896419525,
          0.9113277465105056,
          0.9011072129011154,
          0.9122475564479828,
          0.9358282923698426,
          0.9316741675138474,
          0.9350963741540909,
          0.8923585504293442,
          0.9358204811811447,
          0.9193802952766419,
          0.9313725978136063,
          0.958109873533249,
          0.953830686211586,
          0.938350373506546,
          0.9430146545171738,
          0.9279019474983216,
          0.9011913001537323,
          0.9430167615413666,
          0.9251956015825271,
          0.9254012286663056,
          0.9414484947919846,
          0.919705718755722,
          0.9114541679620742,
          0.9627308547496796,
          0.9323991417884827,
          0.9274219125509262,
          0.948545515537262,
          0.9294566452503205,
          0.9345215499401093,
          0.9682162791490555,
          0.970548278093338,
          0.9208659648895263,
          0.948498883843422,
          0.9358862966299057,
          0.9346605747938156,
          0.9757680535316468,
          0.9558128535747528,
          0.9516654491424561,
          0.9169596254825592,
          0.9487923175096512,
          0.9392556786537171,
          0.9475166440010071,
          0.9088530242443085
         ],
         "yaxis": "y"
        },
        {
         "name": "Name question VGA",
         "type": "bar",
         "x": [
          2025,
          2022,
          2013,
          2016,
          2037,
          2008,
          2005,
          2054,
          2029,
          2044,
          2017,
          2021,
          2045,
          2023,
          2057,
          2047,
          2060,
          2031,
          2064,
          2055,
          2058,
          2020,
          2027,
          2041,
          2063,
          2034,
          2030,
          2049,
          2024,
          2007,
          2048,
          2028,
          2001,
          2012,
          2018,
          2010,
          2061,
          2052,
          2035,
          2062,
          2033,
          2056,
          2051,
          2038,
          2039,
          2040,
          2006,
          2042,
          2019,
          2046,
          2050,
          2004,
          2036,
          2026,
          2003,
          2011,
          2014,
          2043,
          2015,
          2009,
          2053,
          2002,
          2032,
          2059
         ],
         "xaxis": "x2",
         "y": [
          0.897188413143158,
          0.6900578737258911,
          0.8808400720357895,
          0.8716286569833755,
          0.8832023084163666,
          0.865056499838829,
          0.8855145454406739,
          0.8969672411680222,
          0.9370622724294663,
          0.910627207159996,
          0.8819190412759781,
          0.9441060572862625,
          0.8581178545951843,
          0.6357800960540771,
          0.9009370625019073,
          0.8706316858530044,
          0.861230805516243,
          0.9347022086381912,
          0.8842495292425155,
          0.9087194353342056,
          0.8662355750799179,
          0.8914770305156707,
          0.8983471035957337,
          0.8930522799491882,
          0.8716708213090897,
          0.874612084031105,
          0.9422902435064315,
          0.9140160650014877,
          0.8985527276992797,
          0.8891205340623856,
          0.8671403706073761,
          0.8654323935508728,
          0.8952455073595047,
          0.9113339513540268,
          0.8744468331336975,
          0.66155646443367,
          0.8965500473976136,
          0.8283657014369965,
          0.95249802172184,
          0.8908701539039612,
          0.8877759277820587,
          0.9083345293998718,
          0.8803135603666306,
          0.8774514317512512,
          0.8808781504631042,
          0.9462741523981094,
          0.8813181430101394,
          0.8934673875570297,
          0.894422960281372,
          0.9034586787223816,
          0.9819222748279571,
          0.6247178554534912,
          0.8209230333566666,
          0.9113498896360397,
          0.9679107218980789,
          0.9129719972610474,
          0.9069634884595871,
          0.8845567494630814,
          0.8942508161067962,
          0.8941397309303284,
          1.000000011920929,
          0.9378719419240952,
          0.9151697486639023,
          0.9582293063402176
         ],
         "yaxis": "y2"
        },
        {
         "name": "Identity question VGA",
         "type": "bar",
         "x": [
          2025,
          2022,
          2013,
          2016,
          2037,
          2008,
          2005,
          2054,
          2029,
          2044,
          2017,
          2021,
          2045,
          2023,
          2057,
          2047,
          2060,
          2031,
          2064,
          2055,
          2058,
          2020,
          2027,
          2041,
          2063,
          2034,
          2030,
          2049,
          2024,
          2007,
          2048,
          2028,
          2001,
          2012,
          2018,
          2010,
          2061,
          2052,
          2035,
          2062,
          2033,
          2056,
          2051,
          2038,
          2039,
          2040,
          2006,
          2042,
          2019,
          2046,
          2050,
          2004,
          2036,
          2026,
          2003,
          2011,
          2014,
          2043,
          2015,
          2009,
          2053,
          2002,
          2032,
          2059
         ],
         "xaxis": "x3",
         "y": [
          0.8884503453969955,
          0.9563772171735764,
          0.8941403210163117,
          0.9086443305015564,
          0.8892197400331497,
          0.8721341699361801,
          0.933959710597992,
          0.8836909800767898,
          0.8869589388370513,
          0.8999631226062774,
          0.904512158036232,
          0.9381995588541031,
          0.8865894854068757,
          0.9065436363220215,
          0.9145499140024185,
          0.8860095500946045,
          0.8950802266597748,
          0.9210645705461502,
          0.8948918014764786,
          0.9274081617593766,
          0.8481305837631226,
          0.9410365521907806,
          0.898897397518158,
          0.8934957027435303,
          0.8617814034223557,
          0.9329478770494462,
          0.892006716132164,
          0.8850153088569641,
          0.8738897204399109,
          0.9047228932380676,
          0.5923703879117965,
          0.9081916302442551,
          0.901283112168312,
          0.9283234417438507,
          0.8575329542160034,
          0.9242847084999084,
          0.9287028789520264,
          0.8824582487344742,
          0.8898890733718872,
          0.8695952862501144,
          0.8822766244411469,
          0.9122005552053452,
          0.9136457055807113,
          0.8916686475276947,
          0.9290854603052139,
          0.9178702354431152,
          0.9038096398115159,
          0.9475548386573791,
          0.8799225568771363,
          0.9142587274312973,
          0.9223372220993042,
          0.9116943657398224,
          0.8767837256193161,
          0.9296942293643952,
          0.9122660517692566,
          0.924171793460846,
          0.930577477812767,
          0.9247187346220016,
          0.9149773955345154,
          0.9062049478292465,
          0.9121381998062134,
          0.9090780377388,
          0.8757360190153122,
          0.935280579328537
         ],
         "yaxis": "y3"
        }
       ],
       "layout": {
        "bargap": 0.1,
        "bargroupgap": 0.3,
        "height": 600,
        "legend": {
         "orientation": "h",
         "x": 0,
         "y": -0.2
        },
        "template": {
         "data": {
          "bar": [
           {
            "error_x": {
             "color": "#2a3f5f"
            },
            "error_y": {
             "color": "#2a3f5f"
            },
            "marker": {
             "line": {
              "color": "#E5ECF6",
              "width": 0.5
             },
             "pattern": {
              "fillmode": "overlay",
              "size": 10,
              "solidity": 0.2
             }
            },
            "type": "bar"
           }
          ],
          "barpolar": [
           {
            "marker": {
             "line": {
              "color": "#E5ECF6",
              "width": 0.5
             },
             "pattern": {
              "fillmode": "overlay",
              "size": 10,
              "solidity": 0.2
             }
            },
            "type": "barpolar"
           }
          ],
          "carpet": [
           {
            "aaxis": {
             "endlinecolor": "#2a3f5f",
             "gridcolor": "white",
             "linecolor": "white",
             "minorgridcolor": "white",
             "startlinecolor": "#2a3f5f"
            },
            "baxis": {
             "endlinecolor": "#2a3f5f",
             "gridcolor": "white",
             "linecolor": "white",
             "minorgridcolor": "white",
             "startlinecolor": "#2a3f5f"
            },
            "type": "carpet"
           }
          ],
          "choropleth": [
           {
            "colorbar": {
             "outlinewidth": 0,
             "ticks": ""
            },
            "type": "choropleth"
           }
          ],
          "contour": [
           {
            "colorbar": {
             "outlinewidth": 0,
             "ticks": ""
            },
            "colorscale": [
             [
              0,
              "#0d0887"
             ],
             [
              0.1111111111111111,
              "#46039f"
             ],
             [
              0.2222222222222222,
              "#7201a8"
             ],
             [
              0.3333333333333333,
              "#9c179e"
             ],
             [
              0.4444444444444444,
              "#bd3786"
             ],
             [
              0.5555555555555556,
              "#d8576b"
             ],
             [
              0.6666666666666666,
              "#ed7953"
             ],
             [
              0.7777777777777778,
              "#fb9f3a"
             ],
             [
              0.8888888888888888,
              "#fdca26"
             ],
             [
              1,
              "#f0f921"
             ]
            ],
            "type": "contour"
           }
          ],
          "contourcarpet": [
           {
            "colorbar": {
             "outlinewidth": 0,
             "ticks": ""
            },
            "type": "contourcarpet"
           }
          ],
          "heatmap": [
           {
            "colorbar": {
             "outlinewidth": 0,
             "ticks": ""
            },
            "colorscale": [
             [
              0,
              "#0d0887"
             ],
             [
              0.1111111111111111,
              "#46039f"
             ],
             [
              0.2222222222222222,
              "#7201a8"
             ],
             [
              0.3333333333333333,
              "#9c179e"
             ],
             [
              0.4444444444444444,
              "#bd3786"
             ],
             [
              0.5555555555555556,
              "#d8576b"
             ],
             [
              0.6666666666666666,
              "#ed7953"
             ],
             [
              0.7777777777777778,
              "#fb9f3a"
             ],
             [
              0.8888888888888888,
              "#fdca26"
             ],
             [
              1,
              "#f0f921"
             ]
            ],
            "type": "heatmap"
           }
          ],
          "heatmapgl": [
           {
            "colorbar": {
             "outlinewidth": 0,
             "ticks": ""
            },
            "colorscale": [
             [
              0,
              "#0d0887"
             ],
             [
              0.1111111111111111,
              "#46039f"
             ],
             [
              0.2222222222222222,
              "#7201a8"
             ],
             [
              0.3333333333333333,
              "#9c179e"
             ],
             [
              0.4444444444444444,
              "#bd3786"
             ],
             [
              0.5555555555555556,
              "#d8576b"
             ],
             [
              0.6666666666666666,
              "#ed7953"
             ],
             [
              0.7777777777777778,
              "#fb9f3a"
             ],
             [
              0.8888888888888888,
              "#fdca26"
             ],
             [
              1,
              "#f0f921"
             ]
            ],
            "type": "heatmapgl"
           }
          ],
          "histogram": [
           {
            "marker": {
             "pattern": {
              "fillmode": "overlay",
              "size": 10,
              "solidity": 0.2
             }
            },
            "type": "histogram"
           }
          ],
          "histogram2d": [
           {
            "colorbar": {
             "outlinewidth": 0,
             "ticks": ""
            },
            "colorscale": [
             [
              0,
              "#0d0887"
             ],
             [
              0.1111111111111111,
              "#46039f"
             ],
             [
              0.2222222222222222,
              "#7201a8"
             ],
             [
              0.3333333333333333,
              "#9c179e"
             ],
             [
              0.4444444444444444,
              "#bd3786"
             ],
             [
              0.5555555555555556,
              "#d8576b"
             ],
             [
              0.6666666666666666,
              "#ed7953"
             ],
             [
              0.7777777777777778,
              "#fb9f3a"
             ],
             [
              0.8888888888888888,
              "#fdca26"
             ],
             [
              1,
              "#f0f921"
             ]
            ],
            "type": "histogram2d"
           }
          ],
          "histogram2dcontour": [
           {
            "colorbar": {
             "outlinewidth": 0,
             "ticks": ""
            },
            "colorscale": [
             [
              0,
              "#0d0887"
             ],
             [
              0.1111111111111111,
              "#46039f"
             ],
             [
              0.2222222222222222,
              "#7201a8"
             ],
             [
              0.3333333333333333,
              "#9c179e"
             ],
             [
              0.4444444444444444,
              "#bd3786"
             ],
             [
              0.5555555555555556,
              "#d8576b"
             ],
             [
              0.6666666666666666,
              "#ed7953"
             ],
             [
              0.7777777777777778,
              "#fb9f3a"
             ],
             [
              0.8888888888888888,
              "#fdca26"
             ],
             [
              1,
              "#f0f921"
             ]
            ],
            "type": "histogram2dcontour"
           }
          ],
          "mesh3d": [
           {
            "colorbar": {
             "outlinewidth": 0,
             "ticks": ""
            },
            "type": "mesh3d"
           }
          ],
          "parcoords": [
           {
            "line": {
             "colorbar": {
              "outlinewidth": 0,
              "ticks": ""
             }
            },
            "type": "parcoords"
           }
          ],
          "pie": [
           {
            "automargin": true,
            "type": "pie"
           }
          ],
          "scatter": [
           {
            "fillpattern": {
             "fillmode": "overlay",
             "size": 10,
             "solidity": 0.2
            },
            "type": "scatter"
           }
          ],
          "scatter3d": [
           {
            "line": {
             "colorbar": {
              "outlinewidth": 0,
              "ticks": ""
             }
            },
            "marker": {
             "colorbar": {
              "outlinewidth": 0,
              "ticks": ""
             }
            },
            "type": "scatter3d"
           }
          ],
          "scattercarpet": [
           {
            "marker": {
             "colorbar": {
              "outlinewidth": 0,
              "ticks": ""
             }
            },
            "type": "scattercarpet"
           }
          ],
          "scattergeo": [
           {
            "marker": {
             "colorbar": {
              "outlinewidth": 0,
              "ticks": ""
             }
            },
            "type": "scattergeo"
           }
          ],
          "scattergl": [
           {
            "marker": {
             "colorbar": {
              "outlinewidth": 0,
              "ticks": ""
             }
            },
            "type": "scattergl"
           }
          ],
          "scattermapbox": [
           {
            "marker": {
             "colorbar": {
              "outlinewidth": 0,
              "ticks": ""
             }
            },
            "type": "scattermapbox"
           }
          ],
          "scatterpolar": [
           {
            "marker": {
             "colorbar": {
              "outlinewidth": 0,
              "ticks": ""
             }
            },
            "type": "scatterpolar"
           }
          ],
          "scatterpolargl": [
           {
            "marker": {
             "colorbar": {
              "outlinewidth": 0,
              "ticks": ""
             }
            },
            "type": "scatterpolargl"
           }
          ],
          "scatterternary": [
           {
            "marker": {
             "colorbar": {
              "outlinewidth": 0,
              "ticks": ""
             }
            },
            "type": "scatterternary"
           }
          ],
          "surface": [
           {
            "colorbar": {
             "outlinewidth": 0,
             "ticks": ""
            },
            "colorscale": [
             [
              0,
              "#0d0887"
             ],
             [
              0.1111111111111111,
              "#46039f"
             ],
             [
              0.2222222222222222,
              "#7201a8"
             ],
             [
              0.3333333333333333,
              "#9c179e"
             ],
             [
              0.4444444444444444,
              "#bd3786"
             ],
             [
              0.5555555555555556,
              "#d8576b"
             ],
             [
              0.6666666666666666,
              "#ed7953"
             ],
             [
              0.7777777777777778,
              "#fb9f3a"
             ],
             [
              0.8888888888888888,
              "#fdca26"
             ],
             [
              1,
              "#f0f921"
             ]
            ],
            "type": "surface"
           }
          ],
          "table": [
           {
            "cells": {
             "fill": {
              "color": "#EBF0F8"
             },
             "line": {
              "color": "white"
             }
            },
            "header": {
             "fill": {
              "color": "#C8D4E3"
             },
             "line": {
              "color": "white"
             }
            },
            "type": "table"
           }
          ]
         },
         "layout": {
          "annotationdefaults": {
           "arrowcolor": "#2a3f5f",
           "arrowhead": 0,
           "arrowwidth": 1
          },
          "autotypenumbers": "strict",
          "coloraxis": {
           "colorbar": {
            "outlinewidth": 0,
            "ticks": ""
           }
          },
          "colorscale": {
           "diverging": [
            [
             0,
             "#8e0152"
            ],
            [
             0.1,
             "#c51b7d"
            ],
            [
             0.2,
             "#de77ae"
            ],
            [
             0.3,
             "#f1b6da"
            ],
            [
             0.4,
             "#fde0ef"
            ],
            [
             0.5,
             "#f7f7f7"
            ],
            [
             0.6,
             "#e6f5d0"
            ],
            [
             0.7,
             "#b8e186"
            ],
            [
             0.8,
             "#7fbc41"
            ],
            [
             0.9,
             "#4d9221"
            ],
            [
             1,
             "#276419"
            ]
           ],
           "sequential": [
            [
             0,
             "#0d0887"
            ],
            [
             0.1111111111111111,
             "#46039f"
            ],
            [
             0.2222222222222222,
             "#7201a8"
            ],
            [
             0.3333333333333333,
             "#9c179e"
            ],
            [
             0.4444444444444444,
             "#bd3786"
            ],
            [
             0.5555555555555556,
             "#d8576b"
            ],
            [
             0.6666666666666666,
             "#ed7953"
            ],
            [
             0.7777777777777778,
             "#fb9f3a"
            ],
            [
             0.8888888888888888,
             "#fdca26"
            ],
            [
             1,
             "#f0f921"
            ]
           ],
           "sequentialminus": [
            [
             0,
             "#0d0887"
            ],
            [
             0.1111111111111111,
             "#46039f"
            ],
            [
             0.2222222222222222,
             "#7201a8"
            ],
            [
             0.3333333333333333,
             "#9c179e"
            ],
            [
             0.4444444444444444,
             "#bd3786"
            ],
            [
             0.5555555555555556,
             "#d8576b"
            ],
            [
             0.6666666666666666,
             "#ed7953"
            ],
            [
             0.7777777777777778,
             "#fb9f3a"
            ],
            [
             0.8888888888888888,
             "#fdca26"
            ],
            [
             1,
             "#f0f921"
            ]
           ]
          },
          "colorway": [
           "#636efa",
           "#EF553B",
           "#00cc96",
           "#ab63fa",
           "#FFA15A",
           "#19d3f3",
           "#FF6692",
           "#B6E880",
           "#FF97FF",
           "#FECB52"
          ],
          "font": {
           "color": "#2a3f5f"
          },
          "geo": {
           "bgcolor": "white",
           "lakecolor": "white",
           "landcolor": "#E5ECF6",
           "showlakes": true,
           "showland": true,
           "subunitcolor": "white"
          },
          "hoverlabel": {
           "align": "left"
          },
          "hovermode": "closest",
          "mapbox": {
           "style": "light"
          },
          "paper_bgcolor": "white",
          "plot_bgcolor": "#E5ECF6",
          "polar": {
           "angularaxis": {
            "gridcolor": "white",
            "linecolor": "white",
            "ticks": ""
           },
           "bgcolor": "#E5ECF6",
           "radialaxis": {
            "gridcolor": "white",
            "linecolor": "white",
            "ticks": ""
           }
          },
          "scene": {
           "xaxis": {
            "backgroundcolor": "#E5ECF6",
            "gridcolor": "white",
            "gridwidth": 2,
            "linecolor": "white",
            "showbackground": true,
            "ticks": "",
            "zerolinecolor": "white"
           },
           "yaxis": {
            "backgroundcolor": "#E5ECF6",
            "gridcolor": "white",
            "gridwidth": 2,
            "linecolor": "white",
            "showbackground": true,
            "ticks": "",
            "zerolinecolor": "white"
           },
           "zaxis": {
            "backgroundcolor": "#E5ECF6",
            "gridcolor": "white",
            "gridwidth": 2,
            "linecolor": "white",
            "showbackground": true,
            "ticks": "",
            "zerolinecolor": "white"
           }
          },
          "shapedefaults": {
           "line": {
            "color": "#2a3f5f"
           }
          },
          "ternary": {
           "aaxis": {
            "gridcolor": "white",
            "linecolor": "white",
            "ticks": ""
           },
           "baxis": {
            "gridcolor": "white",
            "linecolor": "white",
            "ticks": ""
           },
           "bgcolor": "#E5ECF6",
           "caxis": {
            "gridcolor": "white",
            "linecolor": "white",
            "ticks": ""
           }
          },
          "title": {
           "x": 0.05
          },
          "xaxis": {
           "automargin": true,
           "gridcolor": "white",
           "linecolor": "white",
           "ticks": "",
           "title": {
            "standoff": 15
           },
           "zerolinecolor": "white",
           "zerolinewidth": 2
          },
          "yaxis": {
           "automargin": true,
           "gridcolor": "white",
           "linecolor": "white",
           "ticks": "",
           "title": {
            "standoff": 15
           },
           "zerolinecolor": "white",
           "zerolinewidth": 2
          }
         }
        },
        "title": {
         "text": "BERTScore mean F1-Score for each object, across all BLIP-2 decoding strateggies"
        },
        "width": 1200,
        "xaxis": {
         "anchor": "y",
         "domain": [
          0,
          1
         ],
         "matches": "x3",
         "showticklabels": false,
         "tickangle": -70,
         "ticktext": [
          2025,
          2022,
          2013,
          2016,
          2037,
          2008,
          2005,
          2054,
          2029,
          2044,
          2017,
          2021,
          2045,
          2023,
          2057,
          2047,
          2060,
          2031,
          2064,
          2055,
          2058,
          2020,
          2027,
          2041,
          2063,
          2034,
          2030,
          2049,
          2024,
          2007,
          2048,
          2028,
          2001,
          2012,
          2018,
          2010,
          2061,
          2052,
          2035,
          2062,
          2033,
          2056,
          2051,
          2038,
          2039,
          2040,
          2006,
          2042,
          2019,
          2046,
          2050,
          2004,
          2036,
          2026,
          2003,
          2011,
          2014,
          2043,
          2015,
          2009,
          2053,
          2002,
          2032,
          2059
         ],
         "tickvals": [
          2025,
          2022,
          2013,
          2016,
          2037,
          2008,
          2005,
          2054,
          2029,
          2044,
          2017,
          2021,
          2045,
          2023,
          2057,
          2047,
          2060,
          2031,
          2064,
          2055,
          2058,
          2020,
          2027,
          2041,
          2063,
          2034,
          2030,
          2049,
          2024,
          2007,
          2048,
          2028,
          2001,
          2012,
          2018,
          2010,
          2061,
          2052,
          2035,
          2062,
          2033,
          2056,
          2051,
          2038,
          2039,
          2040,
          2006,
          2042,
          2019,
          2046,
          2050,
          2004,
          2036,
          2026,
          2003,
          2011,
          2014,
          2043,
          2015,
          2009,
          2053,
          2002,
          2032,
          2059
         ]
        },
        "xaxis2": {
         "anchor": "y2",
         "domain": [
          0,
          1
         ],
         "matches": "x3",
         "showticklabels": false,
         "tickangle": -70,
         "ticktext": [
          2025,
          2022,
          2013,
          2016,
          2037,
          2008,
          2005,
          2054,
          2029,
          2044,
          2017,
          2021,
          2045,
          2023,
          2057,
          2047,
          2060,
          2031,
          2064,
          2055,
          2058,
          2020,
          2027,
          2041,
          2063,
          2034,
          2030,
          2049,
          2024,
          2007,
          2048,
          2028,
          2001,
          2012,
          2018,
          2010,
          2061,
          2052,
          2035,
          2062,
          2033,
          2056,
          2051,
          2038,
          2039,
          2040,
          2006,
          2042,
          2019,
          2046,
          2050,
          2004,
          2036,
          2026,
          2003,
          2011,
          2014,
          2043,
          2015,
          2009,
          2053,
          2002,
          2032,
          2059
         ],
         "tickvals": [
          2025,
          2022,
          2013,
          2016,
          2037,
          2008,
          2005,
          2054,
          2029,
          2044,
          2017,
          2021,
          2045,
          2023,
          2057,
          2047,
          2060,
          2031,
          2064,
          2055,
          2058,
          2020,
          2027,
          2041,
          2063,
          2034,
          2030,
          2049,
          2024,
          2007,
          2048,
          2028,
          2001,
          2012,
          2018,
          2010,
          2061,
          2052,
          2035,
          2062,
          2033,
          2056,
          2051,
          2038,
          2039,
          2040,
          2006,
          2042,
          2019,
          2046,
          2050,
          2004,
          2036,
          2026,
          2003,
          2011,
          2014,
          2043,
          2015,
          2009,
          2053,
          2002,
          2032,
          2059
         ],
         "title": {
          "text": "Object label"
         }
        },
        "xaxis3": {
         "anchor": "y3",
         "domain": [
          0,
          1
         ],
         "tickangle": -70,
         "ticktext": [
          2025,
          2022,
          2013,
          2016,
          2037,
          2008,
          2005,
          2054,
          2029,
          2044,
          2017,
          2021,
          2045,
          2023,
          2057,
          2047,
          2060,
          2031,
          2064,
          2055,
          2058,
          2020,
          2027,
          2041,
          2063,
          2034,
          2030,
          2049,
          2024,
          2007,
          2048,
          2028,
          2001,
          2012,
          2018,
          2010,
          2061,
          2052,
          2035,
          2062,
          2033,
          2056,
          2051,
          2038,
          2039,
          2040,
          2006,
          2042,
          2019,
          2046,
          2050,
          2004,
          2036,
          2026,
          2003,
          2011,
          2014,
          2043,
          2015,
          2009,
          2053,
          2002,
          2032,
          2059
         ],
         "tickvals": [
          2025,
          2022,
          2013,
          2016,
          2037,
          2008,
          2005,
          2054,
          2029,
          2044,
          2017,
          2021,
          2045,
          2023,
          2057,
          2047,
          2060,
          2031,
          2064,
          2055,
          2058,
          2020,
          2027,
          2041,
          2063,
          2034,
          2030,
          2049,
          2024,
          2007,
          2048,
          2028,
          2001,
          2012,
          2018,
          2010,
          2061,
          2052,
          2035,
          2062,
          2033,
          2056,
          2051,
          2038,
          2039,
          2040,
          2006,
          2042,
          2019,
          2046,
          2050,
          2004,
          2036,
          2026,
          2003,
          2011,
          2014,
          2043,
          2015,
          2009,
          2053,
          2002,
          2032,
          2059
         ]
        },
        "yaxis": {
         "anchor": "x",
         "domain": [
          0.7333333333333333,
          1
         ],
         "title": {
          "text": "F1-Score mean"
         },
         "type": "log"
        },
        "yaxis2": {
         "anchor": "x2",
         "domain": [
          0.36666666666666664,
          0.6333333333333333
         ],
         "title": {
          "text": "F1-Score mean"
         },
         "type": "log"
        },
        "yaxis3": {
         "anchor": "x3",
         "domain": [
          0,
          0.26666666666666666
         ],
         "title": {
          "text": "F1-Score mean"
         },
         "type": "log"
        }
       }
      }
     },
     "metadata": {},
     "output_type": "display_data"
    }
   ],
   "source": [
    "import plotly.graph_objects as go\n",
    "from plotly.subplots import make_subplots\n",
    "\n",
    "# Assuming your dataframe is called 'data'\n",
    "# You can load your data into a dataframe using pd.read_csv() or any other method\n",
    "\n",
    "# Sort the data based on the column with values between 0 and 100\n",
    "sorted_data = data.sort_values('nameability score')\n",
    "\n",
    "# Create a list of row indices to use as labels for x-axis\n",
    "labels = sorted_data['number label'].tolist()\n",
    "\n",
    "# Create a figure object with subplots\n",
    "fig = make_subplots(rows=3, cols=1, shared_xaxes=True)\n",
    "\n",
    "# Add the first trace to the first subplot\n",
    "fig.add_trace(go.Bar(x=labels, y=f1_scores_caption, name='Image caption task'), row=1, col=1)\n",
    "\n",
    "# Add the second trace to the second subplot\n",
    "fig.add_trace(go.Bar(x=labels, y=f1_scores_name, name='Name question VGA'), row=2, col=1)\n",
    "\n",
    "fig.add_trace(go.Bar(x=labels, y=f1_scores_real, name='Identity question VGA'), row=3, col=1)\n",
    "\n",
    "# Update the layout\n",
    "fig.update_layout(\n",
    "    title='BERTScore mean F1-Score for each object, across all BLIP-2 decoding strateggies',\n",
    "    width=1200,\n",
    "    height=600,\n",
    "    yaxis_type='log',\n",
    "    bargap=0.1,  # Adjust the spacing between bars within each subplot\n",
    "    bargroupgap=0.3,  # Adjust the spacing between subplot groups\n",
    "    legend=dict(\n",
    "        x=0,\n",
    "        y=-0.2,  # Adjust the y value to move the legend below the plot\n",
    "        orientation='h'  # Set the orientation to horizontal\n",
    "    )\n",
    ")\n",
    "\n",
    "# Update the ticktext for the x-axis labels of each subplot\n",
    "fig.update_xaxes(tickvals=labels, ticktext=labels, tickangle=290, row=1, col=1)\n",
    "fig.update_xaxes(tickvals=labels, ticktext=labels, tickangle=290, row=2, col=1)\n",
    "fig.update_xaxes(tickvals=labels, ticktext=labels, tickangle=290, row=3, col=1)\n",
    "\n",
    "# Set the titles for the subplots\n",
    "fig.update_yaxes(type='log', title_text='F1-Score mean', row=1, col=1)\n",
    "fig.update_yaxes(type='log', title_text='F1-Score mean', row=2, col=1)\n",
    "fig.update_yaxes(type='log', title_text='F1-Score mean', row=3, col=1)\n",
    "fig.update_xaxes(title_text='Object label', row=2, col=1)\n",
    "\n",
    "# Show the plot\n",
    "fig.show()\n"
   ]
  },
  {
   "cell_type": "code",
   "execution_count": 301,
   "metadata": {},
   "outputs": [
    {
     "data": {
      "application/vnd.plotly.v1+json": {
       "config": {
        "plotlyServerURL": "https://plot.ly"
       },
       "data": [
        {
         "name": "Image caption task",
         "type": "bar",
         "x": [
          "(13.922, 29.6]",
          "(29.6, 45.2]",
          "(45.2, 60.8]",
          "(60.8, 76.4]",
          "(76.4, 92.0]"
         ],
         "y": [
          0.9268771070700426,
          0.9307398397475481,
          0.9444067654865129,
          0.9296662344535191,
          0.9364703342318536
         ]
        },
        {
         "name": "Name question VGA task",
         "type": "bar",
         "x": [
          "(13.922, 29.6]",
          "(29.6, 45.2]",
          "(45.2, 60.8]",
          "(60.8, 76.4]",
          "(76.4, 92.0]"
         ],
         "y": [
          0.8818704284154452,
          0.9062806684523821,
          0.9004855932933944,
          0.857717149456342,
          0.8514439086119334
         ]
        },
        {
         "name": "Identity question VGA task",
         "type": "bar",
         "x": [
          "(13.922, 29.6]",
          "(29.6, 45.2]",
          "(45.2, 60.8]",
          "(60.8, 76.4]",
          "(76.4, 92.0]"
         ],
         "y": [
          0.8957368814028227,
          0.8867510832846165,
          0.9108887957675116,
          0.9025344556570053,
          0.9096398035685221
         ]
        }
       ],
       "layout": {
        "template": {
         "data": {
          "bar": [
           {
            "error_x": {
             "color": "#2a3f5f"
            },
            "error_y": {
             "color": "#2a3f5f"
            },
            "marker": {
             "line": {
              "color": "#E5ECF6",
              "width": 0.5
             },
             "pattern": {
              "fillmode": "overlay",
              "size": 10,
              "solidity": 0.2
             }
            },
            "type": "bar"
           }
          ],
          "barpolar": [
           {
            "marker": {
             "line": {
              "color": "#E5ECF6",
              "width": 0.5
             },
             "pattern": {
              "fillmode": "overlay",
              "size": 10,
              "solidity": 0.2
             }
            },
            "type": "barpolar"
           }
          ],
          "carpet": [
           {
            "aaxis": {
             "endlinecolor": "#2a3f5f",
             "gridcolor": "white",
             "linecolor": "white",
             "minorgridcolor": "white",
             "startlinecolor": "#2a3f5f"
            },
            "baxis": {
             "endlinecolor": "#2a3f5f",
             "gridcolor": "white",
             "linecolor": "white",
             "minorgridcolor": "white",
             "startlinecolor": "#2a3f5f"
            },
            "type": "carpet"
           }
          ],
          "choropleth": [
           {
            "colorbar": {
             "outlinewidth": 0,
             "ticks": ""
            },
            "type": "choropleth"
           }
          ],
          "contour": [
           {
            "colorbar": {
             "outlinewidth": 0,
             "ticks": ""
            },
            "colorscale": [
             [
              0,
              "#0d0887"
             ],
             [
              0.1111111111111111,
              "#46039f"
             ],
             [
              0.2222222222222222,
              "#7201a8"
             ],
             [
              0.3333333333333333,
              "#9c179e"
             ],
             [
              0.4444444444444444,
              "#bd3786"
             ],
             [
              0.5555555555555556,
              "#d8576b"
             ],
             [
              0.6666666666666666,
              "#ed7953"
             ],
             [
              0.7777777777777778,
              "#fb9f3a"
             ],
             [
              0.8888888888888888,
              "#fdca26"
             ],
             [
              1,
              "#f0f921"
             ]
            ],
            "type": "contour"
           }
          ],
          "contourcarpet": [
           {
            "colorbar": {
             "outlinewidth": 0,
             "ticks": ""
            },
            "type": "contourcarpet"
           }
          ],
          "heatmap": [
           {
            "colorbar": {
             "outlinewidth": 0,
             "ticks": ""
            },
            "colorscale": [
             [
              0,
              "#0d0887"
             ],
             [
              0.1111111111111111,
              "#46039f"
             ],
             [
              0.2222222222222222,
              "#7201a8"
             ],
             [
              0.3333333333333333,
              "#9c179e"
             ],
             [
              0.4444444444444444,
              "#bd3786"
             ],
             [
              0.5555555555555556,
              "#d8576b"
             ],
             [
              0.6666666666666666,
              "#ed7953"
             ],
             [
              0.7777777777777778,
              "#fb9f3a"
             ],
             [
              0.8888888888888888,
              "#fdca26"
             ],
             [
              1,
              "#f0f921"
             ]
            ],
            "type": "heatmap"
           }
          ],
          "heatmapgl": [
           {
            "colorbar": {
             "outlinewidth": 0,
             "ticks": ""
            },
            "colorscale": [
             [
              0,
              "#0d0887"
             ],
             [
              0.1111111111111111,
              "#46039f"
             ],
             [
              0.2222222222222222,
              "#7201a8"
             ],
             [
              0.3333333333333333,
              "#9c179e"
             ],
             [
              0.4444444444444444,
              "#bd3786"
             ],
             [
              0.5555555555555556,
              "#d8576b"
             ],
             [
              0.6666666666666666,
              "#ed7953"
             ],
             [
              0.7777777777777778,
              "#fb9f3a"
             ],
             [
              0.8888888888888888,
              "#fdca26"
             ],
             [
              1,
              "#f0f921"
             ]
            ],
            "type": "heatmapgl"
           }
          ],
          "histogram": [
           {
            "marker": {
             "pattern": {
              "fillmode": "overlay",
              "size": 10,
              "solidity": 0.2
             }
            },
            "type": "histogram"
           }
          ],
          "histogram2d": [
           {
            "colorbar": {
             "outlinewidth": 0,
             "ticks": ""
            },
            "colorscale": [
             [
              0,
              "#0d0887"
             ],
             [
              0.1111111111111111,
              "#46039f"
             ],
             [
              0.2222222222222222,
              "#7201a8"
             ],
             [
              0.3333333333333333,
              "#9c179e"
             ],
             [
              0.4444444444444444,
              "#bd3786"
             ],
             [
              0.5555555555555556,
              "#d8576b"
             ],
             [
              0.6666666666666666,
              "#ed7953"
             ],
             [
              0.7777777777777778,
              "#fb9f3a"
             ],
             [
              0.8888888888888888,
              "#fdca26"
             ],
             [
              1,
              "#f0f921"
             ]
            ],
            "type": "histogram2d"
           }
          ],
          "histogram2dcontour": [
           {
            "colorbar": {
             "outlinewidth": 0,
             "ticks": ""
            },
            "colorscale": [
             [
              0,
              "#0d0887"
             ],
             [
              0.1111111111111111,
              "#46039f"
             ],
             [
              0.2222222222222222,
              "#7201a8"
             ],
             [
              0.3333333333333333,
              "#9c179e"
             ],
             [
              0.4444444444444444,
              "#bd3786"
             ],
             [
              0.5555555555555556,
              "#d8576b"
             ],
             [
              0.6666666666666666,
              "#ed7953"
             ],
             [
              0.7777777777777778,
              "#fb9f3a"
             ],
             [
              0.8888888888888888,
              "#fdca26"
             ],
             [
              1,
              "#f0f921"
             ]
            ],
            "type": "histogram2dcontour"
           }
          ],
          "mesh3d": [
           {
            "colorbar": {
             "outlinewidth": 0,
             "ticks": ""
            },
            "type": "mesh3d"
           }
          ],
          "parcoords": [
           {
            "line": {
             "colorbar": {
              "outlinewidth": 0,
              "ticks": ""
             }
            },
            "type": "parcoords"
           }
          ],
          "pie": [
           {
            "automargin": true,
            "type": "pie"
           }
          ],
          "scatter": [
           {
            "fillpattern": {
             "fillmode": "overlay",
             "size": 10,
             "solidity": 0.2
            },
            "type": "scatter"
           }
          ],
          "scatter3d": [
           {
            "line": {
             "colorbar": {
              "outlinewidth": 0,
              "ticks": ""
             }
            },
            "marker": {
             "colorbar": {
              "outlinewidth": 0,
              "ticks": ""
             }
            },
            "type": "scatter3d"
           }
          ],
          "scattercarpet": [
           {
            "marker": {
             "colorbar": {
              "outlinewidth": 0,
              "ticks": ""
             }
            },
            "type": "scattercarpet"
           }
          ],
          "scattergeo": [
           {
            "marker": {
             "colorbar": {
              "outlinewidth": 0,
              "ticks": ""
             }
            },
            "type": "scattergeo"
           }
          ],
          "scattergl": [
           {
            "marker": {
             "colorbar": {
              "outlinewidth": 0,
              "ticks": ""
             }
            },
            "type": "scattergl"
           }
          ],
          "scattermapbox": [
           {
            "marker": {
             "colorbar": {
              "outlinewidth": 0,
              "ticks": ""
             }
            },
            "type": "scattermapbox"
           }
          ],
          "scatterpolar": [
           {
            "marker": {
             "colorbar": {
              "outlinewidth": 0,
              "ticks": ""
             }
            },
            "type": "scatterpolar"
           }
          ],
          "scatterpolargl": [
           {
            "marker": {
             "colorbar": {
              "outlinewidth": 0,
              "ticks": ""
             }
            },
            "type": "scatterpolargl"
           }
          ],
          "scatterternary": [
           {
            "marker": {
             "colorbar": {
              "outlinewidth": 0,
              "ticks": ""
             }
            },
            "type": "scatterternary"
           }
          ],
          "surface": [
           {
            "colorbar": {
             "outlinewidth": 0,
             "ticks": ""
            },
            "colorscale": [
             [
              0,
              "#0d0887"
             ],
             [
              0.1111111111111111,
              "#46039f"
             ],
             [
              0.2222222222222222,
              "#7201a8"
             ],
             [
              0.3333333333333333,
              "#9c179e"
             ],
             [
              0.4444444444444444,
              "#bd3786"
             ],
             [
              0.5555555555555556,
              "#d8576b"
             ],
             [
              0.6666666666666666,
              "#ed7953"
             ],
             [
              0.7777777777777778,
              "#fb9f3a"
             ],
             [
              0.8888888888888888,
              "#fdca26"
             ],
             [
              1,
              "#f0f921"
             ]
            ],
            "type": "surface"
           }
          ],
          "table": [
           {
            "cells": {
             "fill": {
              "color": "#EBF0F8"
             },
             "line": {
              "color": "white"
             }
            },
            "header": {
             "fill": {
              "color": "#C8D4E3"
             },
             "line": {
              "color": "white"
             }
            },
            "type": "table"
           }
          ]
         },
         "layout": {
          "annotationdefaults": {
           "arrowcolor": "#2a3f5f",
           "arrowhead": 0,
           "arrowwidth": 1
          },
          "autotypenumbers": "strict",
          "coloraxis": {
           "colorbar": {
            "outlinewidth": 0,
            "ticks": ""
           }
          },
          "colorscale": {
           "diverging": [
            [
             0,
             "#8e0152"
            ],
            [
             0.1,
             "#c51b7d"
            ],
            [
             0.2,
             "#de77ae"
            ],
            [
             0.3,
             "#f1b6da"
            ],
            [
             0.4,
             "#fde0ef"
            ],
            [
             0.5,
             "#f7f7f7"
            ],
            [
             0.6,
             "#e6f5d0"
            ],
            [
             0.7,
             "#b8e186"
            ],
            [
             0.8,
             "#7fbc41"
            ],
            [
             0.9,
             "#4d9221"
            ],
            [
             1,
             "#276419"
            ]
           ],
           "sequential": [
            [
             0,
             "#0d0887"
            ],
            [
             0.1111111111111111,
             "#46039f"
            ],
            [
             0.2222222222222222,
             "#7201a8"
            ],
            [
             0.3333333333333333,
             "#9c179e"
            ],
            [
             0.4444444444444444,
             "#bd3786"
            ],
            [
             0.5555555555555556,
             "#d8576b"
            ],
            [
             0.6666666666666666,
             "#ed7953"
            ],
            [
             0.7777777777777778,
             "#fb9f3a"
            ],
            [
             0.8888888888888888,
             "#fdca26"
            ],
            [
             1,
             "#f0f921"
            ]
           ],
           "sequentialminus": [
            [
             0,
             "#0d0887"
            ],
            [
             0.1111111111111111,
             "#46039f"
            ],
            [
             0.2222222222222222,
             "#7201a8"
            ],
            [
             0.3333333333333333,
             "#9c179e"
            ],
            [
             0.4444444444444444,
             "#bd3786"
            ],
            [
             0.5555555555555556,
             "#d8576b"
            ],
            [
             0.6666666666666666,
             "#ed7953"
            ],
            [
             0.7777777777777778,
             "#fb9f3a"
            ],
            [
             0.8888888888888888,
             "#fdca26"
            ],
            [
             1,
             "#f0f921"
            ]
           ]
          },
          "colorway": [
           "#636efa",
           "#EF553B",
           "#00cc96",
           "#ab63fa",
           "#FFA15A",
           "#19d3f3",
           "#FF6692",
           "#B6E880",
           "#FF97FF",
           "#FECB52"
          ],
          "font": {
           "color": "#2a3f5f"
          },
          "geo": {
           "bgcolor": "white",
           "lakecolor": "white",
           "landcolor": "#E5ECF6",
           "showlakes": true,
           "showland": true,
           "subunitcolor": "white"
          },
          "hoverlabel": {
           "align": "left"
          },
          "hovermode": "closest",
          "mapbox": {
           "style": "light"
          },
          "paper_bgcolor": "white",
          "plot_bgcolor": "#E5ECF6",
          "polar": {
           "angularaxis": {
            "gridcolor": "white",
            "linecolor": "white",
            "ticks": ""
           },
           "bgcolor": "#E5ECF6",
           "radialaxis": {
            "gridcolor": "white",
            "linecolor": "white",
            "ticks": ""
           }
          },
          "scene": {
           "xaxis": {
            "backgroundcolor": "#E5ECF6",
            "gridcolor": "white",
            "gridwidth": 2,
            "linecolor": "white",
            "showbackground": true,
            "ticks": "",
            "zerolinecolor": "white"
           },
           "yaxis": {
            "backgroundcolor": "#E5ECF6",
            "gridcolor": "white",
            "gridwidth": 2,
            "linecolor": "white",
            "showbackground": true,
            "ticks": "",
            "zerolinecolor": "white"
           },
           "zaxis": {
            "backgroundcolor": "#E5ECF6",
            "gridcolor": "white",
            "gridwidth": 2,
            "linecolor": "white",
            "showbackground": true,
            "ticks": "",
            "zerolinecolor": "white"
           }
          },
          "shapedefaults": {
           "line": {
            "color": "#2a3f5f"
           }
          },
          "ternary": {
           "aaxis": {
            "gridcolor": "white",
            "linecolor": "white",
            "ticks": ""
           },
           "baxis": {
            "gridcolor": "white",
            "linecolor": "white",
            "ticks": ""
           },
           "bgcolor": "#E5ECF6",
           "caxis": {
            "gridcolor": "white",
            "linecolor": "white",
            "ticks": ""
           }
          },
          "title": {
           "x": 0.05
          },
          "xaxis": {
           "automargin": true,
           "gridcolor": "white",
           "linecolor": "white",
           "ticks": "",
           "title": {
            "standoff": 15
           },
           "zerolinecolor": "white",
           "zerolinewidth": 2
          },
          "yaxis": {
           "automargin": true,
           "gridcolor": "white",
           "linecolor": "white",
           "ticks": "",
           "title": {
            "standoff": 15
           },
           "zerolinecolor": "white",
           "zerolinewidth": 2
          }
         }
        },
        "title": {
         "text": "BERTScore mean F1-Score comparison on the naming consensus using average similarity across all BLIP-2 results"
        },
        "width": 1200,
        "xaxis": {
         "tickmode": "array",
         "ticktext": [
          "0-20",
          "21-40",
          "41-60",
          "61-80",
          "81-100"
         ],
         "tickvals": [
          0,
          1,
          2,
          3,
          4
         ],
         "title": {
          "text": "Nameability score in %"
         }
        },
        "yaxis": {
         "title": {
          "text": "Mean F1-Score"
         },
         "type": "log"
        }
       }
      }
     },
     "metadata": {},
     "output_type": "display_data"
    }
   ],
   "source": [
    "num_bins = 5\n",
    "category_bins_nameability = pd.cut(data['nameability score'], bins=num_bins)\n",
    "\n",
    "data_plot = data.copy()\n",
    "\n",
    "data['category bin nameability'] = category_bins_nameability.astype(str)\n",
    "data['bertscore nameability name'] = f1_scores_name\n",
    "data['bertscore nameability caption'] = f1_scores_caption\n",
    "data['bertscore nameability real'] = f1_scores_real\n",
    "\n",
    "name_plot = data.groupby('category bin nameability')[\n",
    "    'bertscore nameability name'].mean()\n",
    "caption_plot = data.groupby('category bin nameability')[\n",
    "    'bertscore nameability caption'].mean()\n",
    "real_plot = data.groupby('category bin nameability')[\n",
    "    'bertscore nameability real'].mean()\n",
    "\n",
    "fig = go.Figure()\n",
    "# data=[go.Bar(x=bin_percentages.index.astype(str), y=bin_percentages)])\n",
    "fig.add_trace(go.Bar(x=caption_plot.index.astype(\n",
    "    str), y=caption_plot, name='Image caption task'))\n",
    "fig.add_trace(go.Bar(x=name_plot.index.astype(\n",
    "    str), y=name_plot, name='Name question VGA task'))\n",
    "fig.add_trace(go.Bar(x=real_plot.index.astype(\n",
    "    str), y=real_plot, name='Identity question VGA task'))\n",
    "\n",
    "\n",
    "fig.update_layout(width=1200, yaxis_type='log', title='BERTScore mean F1-Score comparison on the naming consensus using average similarity across all BLIP-2 results',\n",
    "                  xaxis_title='Bins', yaxis_title='Mean F1-Score', xaxis=dict(title='Nameability score in %', tickmode='array',\n",
    "                tickvals=[\n",
    "                0, 1, 2, 3, 4],\n",
    "                ticktext=['0-20', '21-40', '41-60', '61-80', '81-100']))\n",
    "fig.show()\n"
   ]
  },
  {
   "attachments": {},
   "cell_type": "markdown",
   "metadata": {},
   "source": [
    "### Pearson correlations"
   ]
  },
  {
   "cell_type": "code",
   "execution_count": 312,
   "metadata": {},
   "outputs": [
    {
     "name": "stdout",
     "output_type": "stream",
     "text": [
      "BLIP-2, greedy, caption familiarity bertscore f1-score\n",
      "BLIP-2, nucleus, top_p=0.1, caption familiarity bertscore f1-score\n",
      "BLIP-2, nucleus, top_p=0.5, caption familiarity bertscore f1-score\n",
      "BLIP-2, nucleus, top_p=0.9, caption familiarity bertscore f1-score\n",
      "BLIP-2, beam, num_beams=1, caption familiarity bertscore f1-score\n",
      "BLIP-2, beam, num_beams=5, caption familiarity bertscore f1-score\n",
      "BLIP-2, beam, num_beams=10, caption familiarity bertscore f1-score\n",
      "BLIP-2, greedy, name familiarity bertscore f1-score\n",
      "BLIP-2, nucleus, top_p=0.1, name familiarity bertscore f1-score\n",
      "BLIP-2, nucleus, top_p=0.5, name familiarity bertscore f1-score\n",
      "BLIP-2, nucleus, top_p=0.9, name familiarity bertscore f1-score\n",
      "BLIP-2, beam, num_beams=1, name familiarity bertscore f1-score\n",
      "BLIP-2, beam, num_beams=5, name familiarity bertscore f1-score\n",
      "BLIP-2, beam, num_beams=10, name familiarity bertscore f1-score\n",
      "BLIP-2, greedy, real familiarity bertscore f1-score\n",
      "BLIP-2, nucleus, top_p=0.1, real familiarity bertscore f1-score\n",
      "BLIP-2, nucleus, top_p=0.5, real familiarity bertscore f1-score\n",
      "BLIP-2, nucleus, top_p=0.9, real familiarity bertscore f1-score\n",
      "BLIP-2, beam, num_beams=1, real familiarity bertscore f1-score\n",
      "BLIP-2, beam, num_beams=5, real familiarity bertscore f1-score\n",
      "BLIP-2, beam, num_beams=10, real familiarity bertscore f1-score\n"
     ]
    }
   ],
   "source": [
    "for i in familiarity_data.columns:\n",
    "    if 'f1-score'in i:\n",
    "        print(i)"
   ]
  },
  {
   "cell_type": "code",
   "execution_count": 262,
   "metadata": {},
   "outputs": [
    {
     "name": "stderr",
     "output_type": "stream",
     "text": [
      "c:\\Users\\Juell\\AppData\\Local\\Programs\\Python\\Python39\\lib\\site-packages\\scipy\\stats\\stats.py:4023: PearsonRConstantInputWarning:\n",
      "\n",
      "An input array is constant; the correlation coefficient is not defined.\n",
      "\n"
     ]
    }
   ],
   "source": [
    "data_to_corr = ['color saliency', 'texture saliency', 'nameability score', 'familiarity score']\n",
    "correlations = {}\n",
    "\n",
    "for column in data_to_corr: \n",
    "    for item in data.columns:\n",
    "        if column == 'color saliency' and column != item and 'bin' not in item and 'max_new_tokens' not in item and ' bool ' not in item:\n",
    "            if 'color' in item:\n",
    "                correlations[item] = pearsonr(list(data['color saliency']), list(data[item]))\n",
    "        if column == 'texture saliency' and column != item and 'bin' not in item and 'max_new_tokens' not in item and ' bool ' not in item:\n",
    "            if 'texture' in item:\n",
    "                correlations[item] = pearsonr(list(data['texture saliency']), list(data[item]))\n",
    "        if column == 'familiarity score' and column != item and 'bin' not in item and 'max_new_tokens' not in item:\n",
    "            if 'bool count' in item:\n",
    "                correlations[item] = pearsonr(list(data_plot['familiarity score']), list(data[item]))\n"
   ]
  },
  {
   "cell_type": "code",
   "execution_count": 314,
   "metadata": {},
   "outputs": [],
   "source": [
    "correlations_bert = {}\n",
    "\n",
    "for item in familiarity_data.columns:\n",
    "    if 'f1-score' in item:\n",
    "        correlations_bert[item] = pearsonr(list(data['familiarity score']), list(familiarity_data[item]))\n",
    "    "
   ]
  },
  {
   "cell_type": "code",
   "execution_count": 320,
   "metadata": {},
   "outputs": [
    {
     "name": "stdout",
     "output_type": "stream",
     "text": [
      "bertscore nameability name\n",
      "bertscore nameability caption\n",
      "bertscore nameability real\n"
     ]
    }
   ],
   "source": [
    "for item in data.columns:\n",
    "    if 'bertscore nameability' in item:\n",
    "        print(item)\n",
    "        correlations_bert[item] = pearsonr(list(data['nameability score']), list(data[item]))"
   ]
  },
  {
   "cell_type": "code",
   "execution_count": 321,
   "metadata": {},
   "outputs": [
    {
     "name": "stdout",
     "output_type": "stream",
     "text": [
      "('bertscore nameability name', (-0.22281477704476227, 0.07677590841321423))\n",
      "('bertscore nameability caption', (0.13589126356983774, 0.2843134612053774))\n",
      "('bertscore nameability real', (0.15066341915206574, 0.23469581042950904))\n"
     ]
    }
   ],
   "source": [
    "for i in correlations_bert.items():\n",
    "    if 'bertscore nameability' in i[0]:\n",
    "        print(i)"
   ]
  },
  {
   "cell_type": "code",
   "execution_count": 258,
   "metadata": {},
   "outputs": [
    {
     "data": {
      "text/plain": [
       "dict_keys(['color, greedy, caption to boolean', 'color, greedy, name to boolean', 'color, greedy, real to boolean', 'color, nucleus, top_p=0.1, caption to boolean', 'color, nucleus, top_p=0.1, name to boolean', 'color, nucleus, top_p=0.1, real to boolean', 'color, nucleus, top_p=0.5, caption to boolean', 'color, nucleus, top_p=0.5, name to boolean', 'color, nucleus, top_p=0.5, real to boolean', 'color, nucleus, top_p=0.9, caption to boolean', 'color, nucleus, top_p=0.9, name to boolean', 'color, nucleus, top_p=0.9, real to boolean', 'color, beam, num_beams=1, caption to boolean', 'color, beam, num_beams=1, name to boolean', 'color, beam, num_beams=1, real to boolean', 'color, beam, num_beams=5, caption to boolean', 'color, beam, num_beams=5, name to boolean', 'color, beam, num_beams=5, real to boolean', 'color, beam, num_beams=10, caption to boolean', 'color, beam, num_beams=10, name to boolean', 'color, beam, num_beams=10, real to boolean', 'texture, greedy, caption to boolean', 'texture, greedy, name to boolean', 'texture, greedy, real to boolean', 'texture, nucleus, top_p=0.1, caption to boolean', 'texture, nucleus, top_p=0.1, name to boolean', 'texture, nucleus, top_p=0.1, real to boolean', 'texture, nucleus, top_p=0.5, caption to boolean', 'texture, nucleus, top_p=0.5, name to boolean', 'texture, nucleus, top_p=0.5, real to boolean', 'texture, nucleus, top_p=0.9, caption to boolean', 'texture, nucleus, top_p=0.9, name to boolean', 'texture, nucleus, top_p=0.9, real to boolean', 'texture, beam, num_beams=1, caption to boolean', 'texture, beam, num_beams=1, name to boolean', 'texture, beam, num_beams=1, real to boolean', 'texture, beam, num_beams=5, caption to boolean', 'texture, beam, num_beams=5, name to boolean', 'texture, beam, num_beams=5, real to boolean', 'texture, beam, num_beams=10, caption to boolean', 'texture, beam, num_beams=10, name to boolean', 'texture, beam, num_beams=10, real to boolean', 'greedy bool count', 'nucleus top_p=0.1 bool count', 'nucleus top_p=0.5 bool count', 'nucleus top_p=0.9 bool count', 'beam num_beams=1 bool count', 'beam num_beams=5 bool count', 'beam num_beams=10 bool count'])"
      ]
     },
     "execution_count": 258,
     "metadata": {},
     "output_type": "execute_result"
    }
   ],
   "source": [
    "input_types = ['caption', 'name']\n",
    "figs = []\n",
    "\n",
    "nameability_data = data.copy()\n",
    "\n",
    "num_bins = 5\n",
    "category_bins_nameability = pd.cut(familiarity_data['nameability score'], bins=num_bins)\n",
    "familiarity_data['category bin nameability'] = category_bins_nameability.astype(str)\n",
    "\n",
    "for input in input_types:\n",
    "    fig = go.Figure()\n",
    "    for column in familiarity_scores.keys():\n",
    "        if input in column:\n",
    "            \n",
    "            familiarity_data['plot_column'] = familiarity_scores[column][-1]\n",
    "            \n",
    "            f1_plot_data = familiarity_data.groupby('category bin familiarity')['plot_column'].mean().reset_index()\n",
    "\n",
    "            \n",
    "            new_name = re.sub(r', {} familiarity bertscore'.format(input), '', re.sub('BLIP-2+\\s', '', column))\n",
    "            bar_trace = go.Bar(\n",
    "                            x=f1_plot_data['category bin familiarity'],\n",
    "                            y=f1_plot_data['plot_column'],\n",
    "                            name=f'{new_name}',\n",
    "                        )\n",
    "            fig.add_trace(bar_trace)\n",
    "            \n",
    "            print(f\"{column} Precision mean is \", np.mean(np.array(familiarity_scores[column][0])))\n",
    "            print(f\"{column} Precision median is \", np.mean(np.array(familiarity_scores[column][0])))\n",
    "            print(f\"{column} Precision std is \", np.std(np.array(familiarity_scores[column][0])))\n",
    "            \n",
    "            print(f\"{column} Recall mean is \", np.mean(np.array(familiarity_scores[column][1])))\n",
    "            print(f\"{column} Recall median is \", np.mean(np.array(familiarity_scores[column][1])))\n",
    "            print(f\"{column} Recall std is \", np.std(np.array(familiarity_scores[column][1])))\n",
    "            \n",
    "            print(f\"{column} F1-score mean is \", np.mean(np.array(familiarity_scores[column][2])))\n",
    "            print(f\"{column} F1-score median is \", np.mean(np.array(familiarity_scores[column][2])))\n",
    "            print(f\"{column} F1-score std is \", np.std(np.array(familiarity_scores[column][2])))\n",
    "            print(f\"=========================== END OF {column} ==============================\")\n",
    "            \n",
    "    fig.update_layout(\n",
    "    width=1000,\n",
    "    yaxis_type='log',\n",
    "    title=f' term usage rate per saliency bin for BLIP-2, {input}',\n",
    "    xaxis=dict(title='Texture saliency in %', tickmode = 'array',\n",
    "            tickvals = [0, 1, 2, 3, 4],\n",
    "        ticktext = ['0-20', '21-40', '41-60', '61-80', '81-100']),\n",
    "    yaxis=dict(title=f'Rate of using  terms'),\n",
    "            barmode='group')\n",
    "        \n",
    "    fig.show()\n",
    "\n"
   ]
  }
 ],
 "metadata": {
  "kernelspec": {
   "display_name": "Python 3",
   "language": "python",
   "name": "python3"
  },
  "language_info": {
   "codemirror_mode": {
    "name": "ipython",
    "version": 3
   },
   "file_extension": ".py",
   "mimetype": "text/x-python",
   "name": "python",
   "nbconvert_exporter": "python",
   "pygments_lexer": "ipython3",
   "version": "3.9.1"
  }
 },
 "nbformat": 4,
 "nbformat_minor": 2
}
