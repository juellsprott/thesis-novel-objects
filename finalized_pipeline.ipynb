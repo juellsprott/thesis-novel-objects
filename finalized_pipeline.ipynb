{
 "cells": [
  {
   "attachments": {},
   "cell_type": "markdown",
   "metadata": {},
   "source": [
    "### NOUN Dataset + BLIP-2 Multimodal Model Pipeline\n",
    "#### This notebook contains the pipeline for loading the BLIP2 Opt-2.7b model and running inference on the NOUN Dataset\n",
    "\n",
    "Note that for this pipeline it is recommended to use a GPU with sufficient RAM."
   ]
  },
  {
   "attachments": {},
   "cell_type": "markdown",
   "metadata": {},
   "source": [
    "##### Imports\n",
    "Import modules, requires the installation of bitsandbytes and accelerate"
   ]
  },
  {
   "cell_type": "code",
   "execution_count": null,
   "metadata": {},
   "outputs": [],
   "source": [
    "# %pip install bitsandbytes accelerate Pillow git+https://github.com/huggingface/transformers tqdm"
   ]
  },
  {
   "cell_type": "code",
   "execution_count": 3,
   "metadata": {},
   "outputs": [
    {
     "name": "stdout",
     "output_type": "stream",
     "text": [
      "Collecting bert-score\n",
      "  Using cached bert_score-0.3.13-py3-none-any.whl (61 kB)\n",
      "Requirement already satisfied: torch>=1.0.0 in ./noun2-env/lib/python3.10/site-packages (from bert-score) (2.0.1+cu117)\n",
      "Requirement already satisfied: pandas>=1.0.1 in ./noun2-env/lib/python3.10/site-packages (from bert-score) (2.0.1)\n",
      "Requirement already satisfied: transformers>=3.0.0 in ./noun2-env/lib/python3.10/site-packages (from bert-score) (4.30.0.dev0)\n",
      "Requirement already satisfied: numpy in ./noun2-env/lib/python3.10/site-packages (from bert-score) (1.24.1)\n",
      "Requirement already satisfied: requests in ./noun2-env/lib/python3.10/site-packages (from bert-score) (2.28.1)\n",
      "Requirement already satisfied: tqdm>=4.31.1 in ./noun2-env/lib/python3.10/site-packages (from bert-score) (4.65.0)\n",
      "Collecting matplotlib (from bert-score)\n",
      "  Using cached matplotlib-3.7.1-cp310-cp310-manylinux_2_17_x86_64.manylinux2014_x86_64.whl (11.6 MB)\n",
      "Requirement already satisfied: packaging>=20.9 in ./noun2-env/lib/python3.10/site-packages (from bert-score) (23.1)\n",
      "Requirement already satisfied: python-dateutil>=2.8.2 in ./noun2-env/lib/python3.10/site-packages (from pandas>=1.0.1->bert-score) (2.8.2)\n",
      "Requirement already satisfied: pytz>=2020.1 in ./noun2-env/lib/python3.10/site-packages (from pandas>=1.0.1->bert-score) (2023.3)\n",
      "Requirement already satisfied: tzdata>=2022.1 in ./noun2-env/lib/python3.10/site-packages (from pandas>=1.0.1->bert-score) (2023.3)\n",
      "Requirement already satisfied: filelock in ./noun2-env/lib/python3.10/site-packages (from torch>=1.0.0->bert-score) (3.9.0)\n",
      "Requirement already satisfied: typing-extensions in ./noun2-env/lib/python3.10/site-packages (from torch>=1.0.0->bert-score) (4.4.0)\n",
      "Requirement already satisfied: sympy in ./noun2-env/lib/python3.10/site-packages (from torch>=1.0.0->bert-score) (1.11.1)\n",
      "Requirement already satisfied: networkx in ./noun2-env/lib/python3.10/site-packages (from torch>=1.0.0->bert-score) (3.0)\n",
      "Requirement already satisfied: jinja2 in ./noun2-env/lib/python3.10/site-packages (from torch>=1.0.0->bert-score) (3.1.2)\n",
      "Requirement already satisfied: triton==2.0.0 in ./noun2-env/lib/python3.10/site-packages (from torch>=1.0.0->bert-score) (2.0.0)\n",
      "Requirement already satisfied: cmake in ./noun2-env/lib/python3.10/site-packages (from triton==2.0.0->torch>=1.0.0->bert-score) (3.25.0)\n",
      "Requirement already satisfied: lit in ./noun2-env/lib/python3.10/site-packages (from triton==2.0.0->torch>=1.0.0->bert-score) (15.0.7)\n",
      "Requirement already satisfied: huggingface-hub<1.0,>=0.14.1 in ./noun2-env/lib/python3.10/site-packages (from transformers>=3.0.0->bert-score) (0.14.1)\n",
      "Requirement already satisfied: pyyaml>=5.1 in ./noun2-env/lib/python3.10/site-packages (from transformers>=3.0.0->bert-score) (6.0)\n",
      "Requirement already satisfied: regex!=2019.12.17 in ./noun2-env/lib/python3.10/site-packages (from transformers>=3.0.0->bert-score) (2023.5.5)\n",
      "Requirement already satisfied: tokenizers!=0.11.3,<0.14,>=0.11.1 in ./noun2-env/lib/python3.10/site-packages (from transformers>=3.0.0->bert-score) (0.13.3)\n",
      "Collecting contourpy>=1.0.1 (from matplotlib->bert-score)\n",
      "  Using cached contourpy-1.1.0-cp310-cp310-manylinux_2_17_x86_64.manylinux2014_x86_64.whl (300 kB)\n",
      "Collecting cycler>=0.10 (from matplotlib->bert-score)\n",
      "  Using cached cycler-0.11.0-py3-none-any.whl (6.4 kB)\n",
      "Collecting fonttools>=4.22.0 (from matplotlib->bert-score)\n",
      "  Using cached fonttools-4.40.0-cp310-cp310-manylinux_2_17_x86_64.manylinux2014_x86_64.whl (4.2 MB)\n",
      "Collecting kiwisolver>=1.0.1 (from matplotlib->bert-score)\n",
      "  Using cached kiwisolver-1.4.4-cp310-cp310-manylinux_2_12_x86_64.manylinux2010_x86_64.whl (1.6 MB)\n",
      "Requirement already satisfied: pillow>=6.2.0 in ./noun2-env/lib/python3.10/site-packages (from matplotlib->bert-score) (9.3.0)\n",
      "Collecting pyparsing>=2.3.1 (from matplotlib->bert-score)\n",
      "  Downloading pyparsing-3.1.0-py3-none-any.whl (102 kB)\n",
      "\u001b[2K     \u001b[90m━━━━━━━━━━━━━━━━━━━━━━━━━━━━━━━━━━━━━━\u001b[0m \u001b[32m102.6/102.6 kB\u001b[0m \u001b[31m25.3 MB/s\u001b[0m eta \u001b[36m0:00:00\u001b[0m\n",
      "\u001b[?25hRequirement already satisfied: charset-normalizer<3,>=2 in ./noun2-env/lib/python3.10/site-packages (from requests->bert-score) (2.1.1)\n",
      "Requirement already satisfied: idna<4,>=2.5 in ./noun2-env/lib/python3.10/site-packages (from requests->bert-score) (3.4)\n",
      "Requirement already satisfied: urllib3<1.27,>=1.21.1 in ./noun2-env/lib/python3.10/site-packages (from requests->bert-score) (1.26.13)\n",
      "Requirement already satisfied: certifi>=2017.4.17 in ./noun2-env/lib/python3.10/site-packages (from requests->bert-score) (2022.12.7)\n",
      "Requirement already satisfied: fsspec in ./noun2-env/lib/python3.10/site-packages (from huggingface-hub<1.0,>=0.14.1->transformers>=3.0.0->bert-score) (2023.5.0)\n",
      "Requirement already satisfied: six>=1.5 in ./noun2-env/lib/python3.10/site-packages (from python-dateutil>=2.8.2->pandas>=1.0.1->bert-score) (1.16.0)\n",
      "Requirement already satisfied: MarkupSafe>=2.0 in ./noun2-env/lib/python3.10/site-packages (from jinja2->torch>=1.0.0->bert-score) (2.1.2)\n",
      "Requirement already satisfied: mpmath>=0.19 in ./noun2-env/lib/python3.10/site-packages (from sympy->torch>=1.0.0->bert-score) (1.2.1)\n",
      "Installing collected packages: pyparsing, kiwisolver, fonttools, cycler, contourpy, matplotlib, bert-score\n",
      "Successfully installed bert-score-0.3.13 contourpy-1.1.0 cycler-0.11.0 fonttools-4.40.0 kiwisolver-1.4.4 matplotlib-3.7.1 pyparsing-3.1.0\n",
      "Note: you may need to restart the kernel to use updated packages.\n"
     ]
    }
   ],
   "source": [
    "%pip install bert-score"
   ]
  },
  {
   "cell_type": "code",
   "execution_count": 1,
   "metadata": {},
   "outputs": [
    {
     "name": "stderr",
     "output_type": "stream",
     "text": [
      "c:\\Users\\Juell\\AppData\\Local\\Programs\\Python\\Python39\\lib\\site-packages\\tqdm\\auto.py:22: TqdmWarning: IProgress not found. Please update jupyter and ipywidgets. See https://ipywidgets.readthedocs.io/en/stable/user_install.html\n",
      "  from .autonotebook import tqdm as notebook_tqdm\n",
      "c:\\Users\\Juell\\AppData\\Local\\Programs\\Python\\Python39\\lib\\site-packages\\requests\\__init__.py:102: RequestsDependencyWarning: urllib3 (1.26.9) or chardet (5.0.0)/charset_normalizer (2.0.12) doesn't match a supported version!\n",
      "  warnings.warn(\"urllib3 ({}) or chardet ({})/charset_normalizer ({}) doesn't match a supported \"\n"
     ]
    }
   ],
   "source": [
    "import csv\n",
    "from PIL import Image\n",
    "from transformers import AutoProcessor, Blip2ForConditionalGeneration\n",
    "import torch\n",
    "from tqdm import tqdm\n",
    "from scipy.stats import pearsonr\n",
    "\n",
    "import re\n",
    "import pandas as pd\n",
    "\n",
    "import plotly.graph_objects as go\n",
    "import plotly.express as px\n",
    "import numpy as np\n",
    "import json\n",
    "\n",
    "from PIL import Image\n",
    "from IPython.display import HTML\n",
    "from html_formatter import get_thumbnail, image_formatter\n",
    "from evaluate import check_colors_and_textures, colors_to_boolean, textures_to_boolean"
   ]
  },
  {
   "attachments": {},
   "cell_type": "markdown",
   "metadata": {},
   "source": [
    "##### Load model\n",
    "uses bitsandbytes to allow int8 quanitization for greatly reduced memory usage, allowing the model to be run on Google Colab."
   ]
  },
  {
   "cell_type": "code",
   "execution_count": 2,
   "metadata": {},
   "outputs": [
    {
     "name": "stderr",
     "output_type": "stream",
     "text": [
      "Overriding torch_dtype=None with `torch_dtype=torch.float16` due to requirements of `bitsandbytes` to enable model loading in mixed int8. Either pass torch_dtype=torch.float16 or don't pass this argument at all to remove this warning.\n"
     ]
    },
    {
     "name": "stdout",
     "output_type": "stream",
     "text": [
      "\n",
      "===================================BUG REPORT===================================\n",
      "Welcome to bitsandbytes. For bug reports, please run\n",
      "\n",
      "python -m bitsandbytes\n",
      "\n",
      " and submit this information together with your error trace to: https://github.com/TimDettmers/bitsandbytes/issues\n",
      "================================================================================\n",
      "bin /gpfs/home5/jsprott/thesis-novel-objects/noun2-env/lib/python3.10/site-packages/bitsandbytes/libbitsandbytes_cuda117.so\n",
      "CUDA SETUP: CUDA runtime path found: /sw/arch/RHEL8/EB_production/2022/software/CUDA/11.7.0/lib/libcudart.so.11.0\n",
      "CUDA SETUP: Highest compute capability among GPUs detected: 8.0\n",
      "CUDA SETUP: Detected CUDA version 117\n",
      "CUDA SETUP: Loading binary /gpfs/home5/jsprott/thesis-novel-objects/noun2-env/lib/python3.10/site-packages/bitsandbytes/libbitsandbytes_cuda117.so...\n"
     ]
    },
    {
     "data": {
      "application/vnd.jupyter.widget-view+json": {
       "model_id": "48440f8df0cc4827974402edde93f97b",
       "version_major": 2,
       "version_minor": 0
      },
      "text/plain": [
       "Loading checkpoint shards:   0%|          | 0/2 [00:00<?, ?it/s]"
      ]
     },
     "metadata": {},
     "output_type": "display_data"
    }
   ],
   "source": [
    "# load processor\n",
    "processor = AutoProcessor.from_pretrained(\"Salesforce/blip2-opt-2.7b\")\n",
    "\n",
    "# load in float16 # load in int8\n",
    "model = Blip2ForConditionalGeneration.from_pretrained(\"Salesforce/blip2-opt-2.7b\",\n",
    "                                                      load_in_8bit=True, device_map=\"auto\")\n",
    "# setup device\n",
    "DEVICE = \"cuda\" if torch.cuda.is_available() else \"cpu\""
   ]
  },
  {
   "attachments": {},
   "cell_type": "markdown",
   "metadata": {},
   "source": [
    "##### Perform inference on NOUN Dataset\n",
    "Currently uses default hyperparameters"
   ]
  },
  {
   "cell_type": "code",
   "execution_count": null,
   "metadata": {},
   "outputs": [],
   "source": [
    "import pandas as pd\n",
    "from tqdm import tqdm\n",
    "from evaluate import check_colors_and_textures\n",
    "\n",
    "# Define path to input and output files\n",
    "input_file = 'data/datasets/dataset_full.csv'\n",
    "output_file = 'data/datasets/dataset_final_inference.csv'\n",
    "extra_file = 'data/datasets/dataset_bonus_inference.csv'\n",
    "\n",
    "# Define question templates\n",
    "questions = [\n",
    "    \"Q: Only answer with yes or no, do you recognize this object? \\n A:\",\n",
    "    \"Q: what do you call the object in this image? \\n A:\",\n",
    "    \"Q: What do you really think this is? \\n A:\"\n",
    "]\n",
    "\n",
    "# Load data from input file into a pandas DataFrame\n",
    "data = pd.read_csv(input_file)\n",
    "\n",
    "tqdm.pandas()\n",
    "\n",
    "# Define function to generate text using the model\n",
    "def generate_text(row, decode='greedy', token_length=20, beams=5, top_p=0.9):\n",
    "    raw_image = Image.open(row[0].replace(\"\\\\\", \"/\")).convert(\"RGB\")\n",
    "    inputs = [processor(raw_image, return_tensors=\"pt\").to(DEVICE, torch.float16)] + [processor(raw_image, text=q, return_tensors=\"pt\").to(DEVICE, torch.float16) for q in questions]\n",
    "\n",
    "    if decode == 'greedy':\n",
    "        generated_ids = [model.generate(**input_, max_new_tokens=token_length) for input_ in inputs]\n",
    "    elif decode == 'nucleus':\n",
    "        generated_ids = [model.generate(**input_, do_sample=True, top_p=top_p, max_new_tokens=token_length) for input_ in inputs]\n",
    "    elif decode == 'beam':\n",
    "        generated_ids = [model.generate(**input_, num_beams=beams, max_new_tokens=token_length, repetition_penalty=1.0, length_penalty=1.0, temperature=1) for input_ in inputs]\n",
    "\n",
    "    generated_texts = [processor.batch_decode(generated_id, skip_special_tokens=True)[0].strip() for generated_id in generated_ids]\n",
    "    matches = [check_colors_and_textures(text) for text in generated_texts]\n",
    "\n",
    "    return generated_texts + matches\n",
    "\n",
    "# Apply the generate_text function to each row in the DataFrame\n",
    "decode_methods = ['greedy', 'nucleus', 'beam']\n",
    "columns = ['caption', 'bool', 'name', 'real', 'caption saliency', 'bool saliency', 'color saliency', 'real saliency']\n",
    "\n",
    "for method in decode_methods:\n",
    "    generated_cols = [f'BLIP-2, {method}, {column}' for column in columns]\n",
    "    generated_data = data.progress_apply(lambda row: generate_text(row, decode=method), axis=1)\n",
    "    data[generated_cols] = pd.DataFrame(np.array(generated_data).T.tolist(), columns=generated_cols)\n",
    "\n",
    "\n",
    "display(data)\n",
    "\n",
    "# Write updated data to output file\n",
    "data.to_csv(output_file, index=False)"
   ]
  },
  {
   "attachments": {},
   "cell_type": "markdown",
   "metadata": {},
   "source": [
    "#### Ablative study: token lenght for greedy"
   ]
  },
  {
   "cell_type": "code",
   "execution_count": 97,
   "metadata": {},
   "outputs": [
    {
     "name": "stderr",
     "output_type": "stream",
     "text": [
      "100%|██████████| 64/64 [03:43<00:00,  3.49s/it]\n",
      "100%|██████████| 64/64 [05:07<00:00,  4.80s/it]\n",
      "100%|██████████| 64/64 [05:20<00:00,  5.01s/it]\n"
     ]
    }
   ],
   "source": [
    "method = 'greedy'\n",
    "params = [5, 10, 20]\n",
    "columns = ['caption', 'bool', 'name', 'real', 'caption saliency', 'bool saliency', 'color saliency', 'real saliency']\n",
    "\n",
    "for param in params:\n",
    "    generated_cols = [f'BLIP-2, {method}, max_new_tokens={param}, {column}' for column in columns]\n",
    "    generated_data = data.progress_apply(lambda row: generate_text(row, decode=method, token_length=param), axis=1)\n",
    "    data[generated_cols] = pd.DataFrame(np.array(generated_data).T.tolist(), columns=generated_cols)"
   ]
  },
  {
   "attachments": {},
   "cell_type": "markdown",
   "metadata": {},
   "source": [
    "#### Ablative study: top_p for nucleus sampling"
   ]
  },
  {
   "cell_type": "code",
   "execution_count": 98,
   "metadata": {},
   "outputs": [
    {
     "name": "stderr",
     "output_type": "stream",
     "text": [
      "100%|██████████| 64/64 [05:20<00:00,  5.01s/it]\n",
      "100%|██████████| 64/64 [05:21<00:00,  5.03s/it]\n",
      "100%|██████████| 64/64 [06:32<00:00,  6.14s/it]\n"
     ]
    }
   ],
   "source": [
    "method = 'nucleus'\n",
    "params = [0.1, 0.5, 0.9]\n",
    "columns = ['caption', 'bool', 'name', 'real', 'caption saliency', 'bool saliency', 'color saliency', 'real saliency']\n",
    "\n",
    "for param in params:\n",
    "    generated_cols = [f'BLIP-2, {method}, top_p={param}, {column}' for column in columns]\n",
    "    generated_data = data.progress_apply(lambda row: generate_text(row, decode=method, top_p=param), axis=1)\n",
    "    data[generated_cols] = pd.DataFrame(np.array(generated_data).T.tolist(), columns=generated_cols)"
   ]
  },
  {
   "attachments": {},
   "cell_type": "markdown",
   "metadata": {},
   "source": [
    "#### Ablative study: num_beams for beam search"
   ]
  },
  {
   "cell_type": "code",
   "execution_count": 100,
   "metadata": {},
   "outputs": [
    {
     "name": "stderr",
     "output_type": "stream",
     "text": [
      "100%|██████████| 64/64 [05:16<00:00,  4.94s/it]\n",
      "100%|██████████| 64/64 [10:43<00:00, 10.05s/it]\n",
      "100%|██████████| 64/64 [11:39<00:00, 10.93s/it]\n"
     ]
    }
   ],
   "source": [
    "method = 'beam'\n",
    "params = [1, 5, 10]\n",
    "columns = ['caption', 'bool', 'name', 'real', 'caption saliency', 'bool saliency', 'color saliency', 'real saliency']\n",
    "\n",
    "for param in params:\n",
    "    generated_cols = [f'BLIP-2, {method}, num_beams={param}, {column}' for column in columns]\n",
    "    generated_data = data.progress_apply(lambda row: generate_text(row, decode=method, beams=param), axis=1)\n",
    "    data[generated_cols] = pd.DataFrame(np.array(generated_data).T.tolist(), columns=generated_cols)"
   ]
  },
  {
   "cell_type": "code",
   "execution_count": 104,
   "metadata": {},
   "outputs": [],
   "source": [
    "data.to_csv(extra_file, index=False)"
   ]
  },
  {
   "attachments": {},
   "cell_type": "markdown",
   "metadata": {},
   "source": [
    "#### Display data"
   ]
  },
  {
   "attachments": {},
   "cell_type": "markdown",
   "metadata": {},
   "source": [
    "##### Reformat color extraction and add image objects for html display"
   ]
  },
  {
   "cell_type": "code",
   "execution_count": 2,
   "metadata": {},
   "outputs": [],
   "source": [
    "data = pd.read_csv('data/datasets/dataset_bonus_inference.csv')\n",
    "redundant = [\n",
    "    'BLIP-2, nucleus, caption',\n",
    "    'BLIP-2, nucleus, bool',\n",
    "    'BLIP-2, nucleus, name',\n",
    "    'BLIP-2, nucleus, real',\n",
    "    'BLIP-2, nucleus, caption saliency',\n",
    "    'BLIP-2, nucleus, bool saliency',\n",
    "    'BLIP-2, nucleus, name saliency',\n",
    "    'BLIP-2, nucleus, real saliency',\n",
    "    'BLIP-2, beam, caption',\n",
    "    'BLIP-2, beam, bool',\n",
    "    'BLIP-2, beam, name',\n",
    "    'BLIP-2, beam, real',\n",
    "    'BLIP-2, beam, caption saliency',\n",
    "    'BLIP-2, beam, bool saliency',\n",
    "    'BLIP-2, beam, name saliency',\n",
    "    'BLIP-2, beam, real saliency'\n",
    "]\n",
    "\n",
    "for c in data.columns:\n",
    "    if 'max_new_tokens' in c:\n",
    "        redundant.append(c)\n",
    "\n",
    "data = data.drop(redundant, axis=1)\n"
   ]
  },
  {
   "cell_type": "code",
   "execution_count": 3,
   "metadata": {},
   "outputs": [],
   "source": [
    "columns = list(data.columns)\n",
    "columns.remove('color saliency')\n",
    "columns.remove('texture saliency')\n",
    "string_to_match = 'saliency'\n",
    "\n",
    "for column in columns:\n",
    "    if string_to_match in column:\n",
    "        data[column] = data[column].apply(lambda x: re.sub(r'[^\\w]', ' ', x))\n",
    "\n",
    "        column_color = re.sub(r'\\s+saliency', ' to boolean', re.sub(r'BLIP-2', 'color', column))\n",
    "        column_texture = re.sub(r'\\s+saliency', ' to boolean', re.sub(r'BLIP-2', 'texture', column))\n",
    "\n",
    "        data[column_color] = data[column].apply(lambda x: colors_to_boolean(x))\n",
    "        data[column_texture] = data[column].apply(lambda x: textures_to_boolean(x))\n"
   ]
  },
  {
   "cell_type": "code",
   "execution_count": null,
   "metadata": {},
   "outputs": [],
   "source": [
    "display(data)"
   ]
  },
  {
   "cell_type": "code",
   "execution_count": 4,
   "metadata": {},
   "outputs": [],
   "source": [
    "data.rename(columns={'image_path': 'image'}, inplace=True)\n",
    "data['image'] = data.image.map(lambda f: get_thumbnail(f))"
   ]
  },
  {
   "attachments": {},
   "cell_type": "markdown",
   "metadata": {},
   "source": [
    "Export data"
   ]
  },
  {
   "cell_type": "code",
   "execution_count": 19,
   "metadata": {},
   "outputs": [
    {
     "data": {
      "text/html": [
       "<div>\n",
       "<style scoped>\n",
       "    .dataframe tbody tr th:only-of-type {\n",
       "        vertical-align: middle;\n",
       "    }\n",
       "\n",
       "    .dataframe tbody tr th {\n",
       "        vertical-align: top;\n",
       "    }\n",
       "\n",
       "    .dataframe thead th {\n",
       "        text-align: right;\n",
       "    }\n",
       "</style>\n",
       "<table border=\"1\" class=\"dataframe\">\n",
       "  <thead>\n",
       "    <tr style=\"text-align: right;\">\n",
       "      <th></th>\n",
       "      <th>image</th>\n",
       "      <th>number label</th>\n",
       "      <th>actual name</th>\n",
       "      <th>familiarity score</th>\n",
       "      <th>nameability score</th>\n",
       "      <th>color saliency</th>\n",
       "      <th>texture saliency</th>\n",
       "      <th>BLIP-2, greedy, caption</th>\n",
       "      <th>BLIP-2, greedy, bool</th>\n",
       "      <th>BLIP-2, greedy, name</th>\n",
       "      <th>...</th>\n",
       "      <th>BLIP-2, nucleus, top_p=0.1, real familiarity bertscore f1-score</th>\n",
       "      <th>BLIP-2, nucleus, top_p=0.5, real familiarity bertscore f1-score</th>\n",
       "      <th>BLIP-2, nucleus, top_p=0.9, real familiarity bertscore f1-score</th>\n",
       "      <th>BLIP-2, beam, num_beams=1, real familiarity bertscore f1-score</th>\n",
       "      <th>BLIP-2, beam, num_beams=5, real familiarity bertscore f1-score</th>\n",
       "      <th>BLIP-2, beam, num_beams=10, real familiarity bertscore f1-score</th>\n",
       "      <th>category bin nameability</th>\n",
       "      <th>bertscore nameability name</th>\n",
       "      <th>bertscore nameability caption</th>\n",
       "      <th>bertscore nameability real</th>\n",
       "    </tr>\n",
       "  </thead>\n",
       "  <tbody>\n",
       "    <tr>\n",
       "      <th>0</th>\n",
       "      <td>&lt;PIL.JpegImagePlugin.JpegImageFile image mode=...</td>\n",
       "      <td>2001</td>\n",
       "      <td>bee hive trap</td>\n",
       "      <td>19</td>\n",
       "      <td>50</td>\n",
       "      <td>66</td>\n",
       "      <td>14</td>\n",
       "      <td>a pair of orange plastic toys on a white backg...</td>\n",
       "      <td>Yes, it is a plastic egg</td>\n",
       "      <td>a yellow plastic ball</td>\n",
       "      <td>...</td>\n",
       "      <td>0.835929</td>\n",
       "      <td>0.844952</td>\n",
       "      <td>0.847814</td>\n",
       "      <td>0.835929</td>\n",
       "      <td>0.830285</td>\n",
       "      <td>0.846714</td>\n",
       "      <td>(45.2, 60.8]</td>\n",
       "      <td>0.897188</td>\n",
       "      <td>0.932146</td>\n",
       "      <td>0.888450</td>\n",
       "    </tr>\n",
       "    <tr>\n",
       "      <th>1</th>\n",
       "      <td>&lt;PIL.JpegImagePlugin.JpegImageFile image mode=...</td>\n",
       "      <td>2002</td>\n",
       "      <td>bookend</td>\n",
       "      <td>22</td>\n",
       "      <td>83</td>\n",
       "      <td>59</td>\n",
       "      <td>9</td>\n",
       "      <td>a red metal sculpture with a curved shape</td>\n",
       "      <td>Yes, I recognize this object.</td>\n",
       "      <td>a red vase</td>\n",
       "      <td>...</td>\n",
       "      <td>0.823025</td>\n",
       "      <td>0.830484</td>\n",
       "      <td>0.806058</td>\n",
       "      <td>0.823025</td>\n",
       "      <td>0.821036</td>\n",
       "      <td>0.821036</td>\n",
       "      <td>(76.4, 92.0]</td>\n",
       "      <td>0.690058</td>\n",
       "      <td>0.928706</td>\n",
       "      <td>0.956377</td>\n",
       "    </tr>\n",
       "    <tr>\n",
       "      <th>2</th>\n",
       "      <td>&lt;PIL.JpegImagePlugin.JpegImageFile image mode=...</td>\n",
       "      <td>2003</td>\n",
       "      <td>fidget toy</td>\n",
       "      <td>59</td>\n",
       "      <td>74</td>\n",
       "      <td>19</td>\n",
       "      <td>0</td>\n",
       "      <td>a set of colorful wooden blocks arranged in a ...</td>\n",
       "      <td>Yes, it is a wooden block</td>\n",
       "      <td>a wooden block</td>\n",
       "      <td>...</td>\n",
       "      <td>0.875474</td>\n",
       "      <td>0.876613</td>\n",
       "      <td>0.859250</td>\n",
       "      <td>0.884235</td>\n",
       "      <td>0.865053</td>\n",
       "      <td>0.865053</td>\n",
       "      <td>(60.8, 76.4]</td>\n",
       "      <td>0.880840</td>\n",
       "      <td>0.906364</td>\n",
       "      <td>0.894140</td>\n",
       "    </tr>\n",
       "    <tr>\n",
       "      <th>3</th>\n",
       "      <td>&lt;PIL.JpegImagePlugin.JpegImageFile image mode=...</td>\n",
       "      <td>2004</td>\n",
       "      <td>pencil sharpener</td>\n",
       "      <td>41</td>\n",
       "      <td>70</td>\n",
       "      <td>48</td>\n",
       "      <td>52</td>\n",
       "      <td>a yellow and orange plastic egg shaped object</td>\n",
       "      <td>Yes, it is a plastic ball with a hole in the m...</td>\n",
       "      <td>a ball</td>\n",
       "      <td>...</td>\n",
       "      <td>0.816076</td>\n",
       "      <td>0.817271</td>\n",
       "      <td>0.815999</td>\n",
       "      <td>0.816076</td>\n",
       "      <td>0.802280</td>\n",
       "      <td>0.802280</td>\n",
       "      <td>(60.8, 76.4]</td>\n",
       "      <td>0.871629</td>\n",
       "      <td>0.945064</td>\n",
       "      <td>0.908644</td>\n",
       "    </tr>\n",
       "    <tr>\n",
       "      <th>4</th>\n",
       "      <td>&lt;PIL.JpegImagePlugin.JpegImageFile image mode=...</td>\n",
       "      <td>2005</td>\n",
       "      <td>fish tank stone</td>\n",
       "      <td>6</td>\n",
       "      <td>25</td>\n",
       "      <td>81</td>\n",
       "      <td>13</td>\n",
       "      <td>a pink and blue tie dye headband</td>\n",
       "      <td>Yes, I recognize this object.</td>\n",
       "      <td>a rainbow unicorn headband</td>\n",
       "      <td>...</td>\n",
       "      <td>0.879533</td>\n",
       "      <td>0.859561</td>\n",
       "      <td>0.812244</td>\n",
       "      <td>0.879533</td>\n",
       "      <td>0.861217</td>\n",
       "      <td>0.835661</td>\n",
       "      <td>(13.922, 29.6]</td>\n",
       "      <td>0.883202</td>\n",
       "      <td>0.942894</td>\n",
       "      <td>0.889220</td>\n",
       "    </tr>\n",
       "    <tr>\n",
       "      <th>...</th>\n",
       "      <td>...</td>\n",
       "      <td>...</td>\n",
       "      <td>...</td>\n",
       "      <td>...</td>\n",
       "      <td>...</td>\n",
       "      <td>...</td>\n",
       "      <td>...</td>\n",
       "      <td>...</td>\n",
       "      <td>...</td>\n",
       "      <td>...</td>\n",
       "      <td>...</td>\n",
       "      <td>...</td>\n",
       "      <td>...</td>\n",
       "      <td>...</td>\n",
       "      <td>...</td>\n",
       "      <td>...</td>\n",
       "      <td>...</td>\n",
       "      <td>...</td>\n",
       "      <td>...</td>\n",
       "      <td>...</td>\n",
       "      <td>...</td>\n",
       "    </tr>\n",
       "    <tr>\n",
       "      <th>59</th>\n",
       "      <td>&lt;PIL.JpegImagePlugin.JpegImageFile image mode=...</td>\n",
       "      <td>2060</td>\n",
       "      <td>dog toy with removed rope</td>\n",
       "      <td>38</td>\n",
       "      <td>32</td>\n",
       "      <td>55</td>\n",
       "      <td>29</td>\n",
       "      <td>a red plastic toy with four balls inside</td>\n",
       "      <td>Yes, it is a red jelly bean</td>\n",
       "      <td>a red jelly bean</td>\n",
       "      <td>...</td>\n",
       "      <td>0.861589</td>\n",
       "      <td>0.877250</td>\n",
       "      <td>0.870845</td>\n",
       "      <td>0.861589</td>\n",
       "      <td>0.859399</td>\n",
       "      <td>0.866682</td>\n",
       "      <td>(29.6, 45.2]</td>\n",
       "      <td>0.894140</td>\n",
       "      <td>0.916960</td>\n",
       "      <td>0.906205</td>\n",
       "    </tr>\n",
       "    <tr>\n",
       "      <th>60</th>\n",
       "      <td>&lt;PIL.JpegImagePlugin.JpegImageFile image mode=...</td>\n",
       "      <td>2061</td>\n",
       "      <td>dog toy</td>\n",
       "      <td>53</td>\n",
       "      <td>53</td>\n",
       "      <td>59</td>\n",
       "      <td>13</td>\n",
       "      <td>a green donut with colorful dots on it</td>\n",
       "      <td>Yes</td>\n",
       "      <td>a donut</td>\n",
       "      <td>...</td>\n",
       "      <td>0.891286</td>\n",
       "      <td>0.873393</td>\n",
       "      <td>0.889992</td>\n",
       "      <td>0.891286</td>\n",
       "      <td>0.867543</td>\n",
       "      <td>0.873045</td>\n",
       "      <td>(45.2, 60.8]</td>\n",
       "      <td>1.000000</td>\n",
       "      <td>0.948792</td>\n",
       "      <td>0.912138</td>\n",
       "    </tr>\n",
       "    <tr>\n",
       "      <th>61</th>\n",
       "      <td>&lt;PIL.JpegImagePlugin.JpegImageFile image mode=...</td>\n",
       "      <td>2062</td>\n",
       "      <td>dog toy</td>\n",
       "      <td>44</td>\n",
       "      <td>56</td>\n",
       "      <td>29</td>\n",
       "      <td>42</td>\n",
       "      <td>an orange plastic ring with spikes on it</td>\n",
       "      <td>Yes, it is a rubber ball with spikes</td>\n",
       "      <td>a rubber ring</td>\n",
       "      <td>...</td>\n",
       "      <td>0.938618</td>\n",
       "      <td>0.905692</td>\n",
       "      <td>0.873206</td>\n",
       "      <td>0.938618</td>\n",
       "      <td>0.859212</td>\n",
       "      <td>0.859212</td>\n",
       "      <td>(45.2, 60.8]</td>\n",
       "      <td>0.937872</td>\n",
       "      <td>0.939256</td>\n",
       "      <td>0.909078</td>\n",
       "    </tr>\n",
       "    <tr>\n",
       "      <th>62</th>\n",
       "      <td>&lt;PIL.JpegImagePlugin.JpegImageFile image mode=...</td>\n",
       "      <td>2063</td>\n",
       "      <td>magic loops</td>\n",
       "      <td>25</td>\n",
       "      <td>38</td>\n",
       "      <td>13</td>\n",
       "      <td>19</td>\n",
       "      <td>a metal sculpture with colorful beads on it</td>\n",
       "      <td>Yes, it is a planet</td>\n",
       "      <td>a planet</td>\n",
       "      <td>...</td>\n",
       "      <td>0.863648</td>\n",
       "      <td>0.849802</td>\n",
       "      <td>0.815284</td>\n",
       "      <td>0.863648</td>\n",
       "      <td>0.834518</td>\n",
       "      <td>0.783827</td>\n",
       "      <td>(29.6, 45.2]</td>\n",
       "      <td>0.915170</td>\n",
       "      <td>0.947517</td>\n",
       "      <td>0.875736</td>\n",
       "    </tr>\n",
       "    <tr>\n",
       "      <th>63</th>\n",
       "      <td>&lt;PIL.JpegImagePlugin.JpegImageFile image mode=...</td>\n",
       "      <td>2064</td>\n",
       "      <td>massager</td>\n",
       "      <td>28</td>\n",
       "      <td>33</td>\n",
       "      <td>45</td>\n",
       "      <td>3</td>\n",
       "      <td>a green and silver object with legs</td>\n",
       "      <td>Yes, it is a foot massager</td>\n",
       "      <td>a foot massager</td>\n",
       "      <td>...</td>\n",
       "      <td>0.841274</td>\n",
       "      <td>0.850636</td>\n",
       "      <td>0.840550</td>\n",
       "      <td>0.841274</td>\n",
       "      <td>0.842826</td>\n",
       "      <td>0.823702</td>\n",
       "      <td>(29.6, 45.2]</td>\n",
       "      <td>0.958229</td>\n",
       "      <td>0.908853</td>\n",
       "      <td>0.935281</td>\n",
       "    </tr>\n",
       "  </tbody>\n",
       "</table>\n",
       "<p>64 rows × 144 columns</p>\n",
       "</div>"
      ],
      "text/plain": [
       "                                                image  number label  \\\n",
       "0   <PIL.JpegImagePlugin.JpegImageFile image mode=...          2001   \n",
       "1   <PIL.JpegImagePlugin.JpegImageFile image mode=...          2002   \n",
       "2   <PIL.JpegImagePlugin.JpegImageFile image mode=...          2003   \n",
       "3   <PIL.JpegImagePlugin.JpegImageFile image mode=...          2004   \n",
       "4   <PIL.JpegImagePlugin.JpegImageFile image mode=...          2005   \n",
       "..                                                ...           ...   \n",
       "59  <PIL.JpegImagePlugin.JpegImageFile image mode=...          2060   \n",
       "60  <PIL.JpegImagePlugin.JpegImageFile image mode=...          2061   \n",
       "61  <PIL.JpegImagePlugin.JpegImageFile image mode=...          2062   \n",
       "62  <PIL.JpegImagePlugin.JpegImageFile image mode=...          2063   \n",
       "63  <PIL.JpegImagePlugin.JpegImageFile image mode=...          2064   \n",
       "\n",
       "                  actual name  familiarity score  nameability score  \\\n",
       "0               bee hive trap                 19                 50   \n",
       "1                     bookend                 22                 83   \n",
       "2                  fidget toy                 59                 74   \n",
       "3            pencil sharpener                 41                 70   \n",
       "4             fish tank stone                  6                 25   \n",
       "..                        ...                ...                ...   \n",
       "59  dog toy with removed rope                 38                 32   \n",
       "60                    dog toy                 53                 53   \n",
       "61                    dog toy                 44                 56   \n",
       "62                magic loops                 25                 38   \n",
       "63                   massager                 28                 33   \n",
       "\n",
       "    color saliency  texture saliency  \\\n",
       "0               66                14   \n",
       "1               59                 9   \n",
       "2               19                 0   \n",
       "3               48                52   \n",
       "4               81                13   \n",
       "..             ...               ...   \n",
       "59              55                29   \n",
       "60              59                13   \n",
       "61              29                42   \n",
       "62              13                19   \n",
       "63              45                 3   \n",
       "\n",
       "                              BLIP-2, greedy, caption  \\\n",
       "0   a pair of orange plastic toys on a white backg...   \n",
       "1           a red metal sculpture with a curved shape   \n",
       "2   a set of colorful wooden blocks arranged in a ...   \n",
       "3       a yellow and orange plastic egg shaped object   \n",
       "4                    a pink and blue tie dye headband   \n",
       "..                                                ...   \n",
       "59           a red plastic toy with four balls inside   \n",
       "60             a green donut with colorful dots on it   \n",
       "61           an orange plastic ring with spikes on it   \n",
       "62        a metal sculpture with colorful beads on it   \n",
       "63                a green and silver object with legs   \n",
       "\n",
       "                                 BLIP-2, greedy, bool  \\\n",
       "0                            Yes, it is a plastic egg   \n",
       "1                       Yes, I recognize this object.   \n",
       "2                           Yes, it is a wooden block   \n",
       "3   Yes, it is a plastic ball with a hole in the m...   \n",
       "4                       Yes, I recognize this object.   \n",
       "..                                                ...   \n",
       "59                        Yes, it is a red jelly bean   \n",
       "60                                                Yes   \n",
       "61               Yes, it is a rubber ball with spikes   \n",
       "62                                Yes, it is a planet   \n",
       "63                         Yes, it is a foot massager   \n",
       "\n",
       "          BLIP-2, greedy, name  ...  \\\n",
       "0        a yellow plastic ball  ...   \n",
       "1                   a red vase  ...   \n",
       "2               a wooden block  ...   \n",
       "3                       a ball  ...   \n",
       "4   a rainbow unicorn headband  ...   \n",
       "..                         ...  ...   \n",
       "59            a red jelly bean  ...   \n",
       "60                     a donut  ...   \n",
       "61               a rubber ring  ...   \n",
       "62                    a planet  ...   \n",
       "63             a foot massager  ...   \n",
       "\n",
       "   BLIP-2, nucleus, top_p=0.1, real familiarity bertscore f1-score  \\\n",
       "0                                            0.835929                \n",
       "1                                            0.823025                \n",
       "2                                            0.875474                \n",
       "3                                            0.816076                \n",
       "4                                            0.879533                \n",
       "..                                                ...                \n",
       "59                                           0.861589                \n",
       "60                                           0.891286                \n",
       "61                                           0.938618                \n",
       "62                                           0.863648                \n",
       "63                                           0.841274                \n",
       "\n",
       "   BLIP-2, nucleus, top_p=0.5, real familiarity bertscore f1-score  \\\n",
       "0                                            0.844952                \n",
       "1                                            0.830484                \n",
       "2                                            0.876613                \n",
       "3                                            0.817271                \n",
       "4                                            0.859561                \n",
       "..                                                ...                \n",
       "59                                           0.877250                \n",
       "60                                           0.873393                \n",
       "61                                           0.905692                \n",
       "62                                           0.849802                \n",
       "63                                           0.850636                \n",
       "\n",
       "   BLIP-2, nucleus, top_p=0.9, real familiarity bertscore f1-score  \\\n",
       "0                                            0.847814                \n",
       "1                                            0.806058                \n",
       "2                                            0.859250                \n",
       "3                                            0.815999                \n",
       "4                                            0.812244                \n",
       "..                                                ...                \n",
       "59                                           0.870845                \n",
       "60                                           0.889992                \n",
       "61                                           0.873206                \n",
       "62                                           0.815284                \n",
       "63                                           0.840550                \n",
       "\n",
       "   BLIP-2, beam, num_beams=1, real familiarity bertscore f1-score  \\\n",
       "0                                            0.835929               \n",
       "1                                            0.823025               \n",
       "2                                            0.884235               \n",
       "3                                            0.816076               \n",
       "4                                            0.879533               \n",
       "..                                                ...               \n",
       "59                                           0.861589               \n",
       "60                                           0.891286               \n",
       "61                                           0.938618               \n",
       "62                                           0.863648               \n",
       "63                                           0.841274               \n",
       "\n",
       "   BLIP-2, beam, num_beams=5, real familiarity bertscore f1-score  \\\n",
       "0                                            0.830285               \n",
       "1                                            0.821036               \n",
       "2                                            0.865053               \n",
       "3                                            0.802280               \n",
       "4                                            0.861217               \n",
       "..                                                ...               \n",
       "59                                           0.859399               \n",
       "60                                           0.867543               \n",
       "61                                           0.859212               \n",
       "62                                           0.834518               \n",
       "63                                           0.842826               \n",
       "\n",
       "   BLIP-2, beam, num_beams=10, real familiarity bertscore f1-score  \\\n",
       "0                                            0.846714                \n",
       "1                                            0.821036                \n",
       "2                                            0.865053                \n",
       "3                                            0.802280                \n",
       "4                                            0.835661                \n",
       "..                                                ...                \n",
       "59                                           0.866682                \n",
       "60                                           0.873045                \n",
       "61                                           0.859212                \n",
       "62                                           0.783827                \n",
       "63                                           0.823702                \n",
       "\n",
       "   category bin nameability bertscore nameability name  \\\n",
       "0              (45.2, 60.8]                   0.897188   \n",
       "1              (76.4, 92.0]                   0.690058   \n",
       "2              (60.8, 76.4]                   0.880840   \n",
       "3              (60.8, 76.4]                   0.871629   \n",
       "4            (13.922, 29.6]                   0.883202   \n",
       "..                      ...                        ...   \n",
       "59             (29.6, 45.2]                   0.894140   \n",
       "60             (45.2, 60.8]                   1.000000   \n",
       "61             (45.2, 60.8]                   0.937872   \n",
       "62             (29.6, 45.2]                   0.915170   \n",
       "63             (29.6, 45.2]                   0.958229   \n",
       "\n",
       "   bertscore nameability caption bertscore nameability real  \n",
       "0                       0.932146                   0.888450  \n",
       "1                       0.928706                   0.956377  \n",
       "2                       0.906364                   0.894140  \n",
       "3                       0.945064                   0.908644  \n",
       "4                       0.942894                   0.889220  \n",
       "..                           ...                        ...  \n",
       "59                      0.916960                   0.906205  \n",
       "60                      0.948792                   0.912138  \n",
       "61                      0.939256                   0.909078  \n",
       "62                      0.947517                   0.875736  \n",
       "63                      0.908853                   0.935281  \n",
       "\n",
       "[64 rows x 144 columns]"
      ]
     },
     "metadata": {},
     "output_type": "display_data"
    }
   ],
   "source": [
    "display(data)"
   ]
  },
  {
   "cell_type": "code",
   "execution_count": 20,
   "metadata": {},
   "outputs": [],
   "source": [
    "html_content = data.to_html(formatters={'image': image_formatter}, escape=False)\n",
    "\n",
    "with open('data/datasets/final_results.html', 'w', encoding='utf-8') as file:\n",
    "    file.write(html_content)\n",
    "    \n",
    "# output_file = 'data/datasets/dataset_with_bert.csv'\n",
    "# data.to_csv(output_file, index=False)"
   ]
  },
  {
   "cell_type": "code",
   "execution_count": 31,
   "metadata": {},
   "outputs": [
    {
     "data": {
      "text/plain": [
       "['number label',\n",
       " 'actual name',\n",
       " 'familiarity score',\n",
       " 'nameability score',\n",
       " 'color saliency',\n",
       " 'texture saliency',\n",
       " 'BLIP-2, greedy, caption',\n",
       " 'BLIP-2, greedy, bool',\n",
       " 'BLIP-2, greedy, name',\n",
       " 'BLIP-2, greedy, real',\n",
       " 'BLIP-2, nucleus, top_p=0.1, caption',\n",
       " 'BLIP-2, nucleus, top_p=0.1, bool',\n",
       " 'BLIP-2, nucleus, top_p=0.1, name',\n",
       " 'BLIP-2, nucleus, top_p=0.1, real',\n",
       " 'BLIP-2, nucleus, top_p=0.5, caption',\n",
       " 'BLIP-2, nucleus, top_p=0.5, bool',\n",
       " 'BLIP-2, nucleus, top_p=0.5, name',\n",
       " 'BLIP-2, nucleus, top_p=0.5, real',\n",
       " 'BLIP-2, nucleus, top_p=0.9, caption',\n",
       " 'BLIP-2, nucleus, top_p=0.9, bool',\n",
       " 'BLIP-2, nucleus, top_p=0.9, name',\n",
       " 'BLIP-2, nucleus, top_p=0.9, real',\n",
       " 'BLIP-2, beam, num_beams=1, caption',\n",
       " 'BLIP-2, beam, num_beams=1, bool',\n",
       " 'BLIP-2, beam, num_beams=1, name',\n",
       " 'BLIP-2, beam, num_beams=1, real',\n",
       " 'BLIP-2, beam, num_beams=5, caption',\n",
       " 'BLIP-2, beam, num_beams=5, bool',\n",
       " 'BLIP-2, beam, num_beams=5, name',\n",
       " 'BLIP-2, beam, num_beams=5, real',\n",
       " 'BLIP-2, beam, num_beams=10, caption',\n",
       " 'BLIP-2, beam, num_beams=10, bool',\n",
       " 'BLIP-2, beam, num_beams=10, name',\n",
       " 'BLIP-2, beam, num_beams=10, real']"
      ]
     },
     "execution_count": 31,
     "metadata": {},
     "output_type": "execute_result"
    }
   ],
   "source": [
    "generated_columns = ['number label','actual name','familiarity score','nameability score','color saliency','texture saliency'] + list(candidates2.keys())\n",
    "generated_columns"
   ]
  },
  {
   "cell_type": "code",
   "execution_count": 30,
   "metadata": {},
   "outputs": [],
   "source": [
    "refs = list(data['actual name'])\n",
    "candidates2 = {}\n",
    "title = 'BLIP-2'\n",
    "columns = data.columns\n",
    "for column in columns:\n",
    "    if title in column and 'saliency' not in column and 'f1-score' not in column and 'max_new_tokens' not in column:\n",
    "        candidates2[column] = list(data[column])"
   ]
  },
  {
   "cell_type": "code",
   "execution_count": 32,
   "metadata": {},
   "outputs": [],
   "source": [
    "generated_results = data[generated_columns]\n",
    "generated_results.to_csv('model_outputs', index=False)"
   ]
  },
  {
   "cell_type": "code",
   "execution_count": 33,
   "metadata": {},
   "outputs": [
    {
     "data": {
      "text/html": [
       "<div>\n",
       "<style scoped>\n",
       "    .dataframe tbody tr th:only-of-type {\n",
       "        vertical-align: middle;\n",
       "    }\n",
       "\n",
       "    .dataframe tbody tr th {\n",
       "        vertical-align: top;\n",
       "    }\n",
       "\n",
       "    .dataframe thead th {\n",
       "        text-align: right;\n",
       "    }\n",
       "</style>\n",
       "<table border=\"1\" class=\"dataframe\">\n",
       "  <thead>\n",
       "    <tr style=\"text-align: right;\">\n",
       "      <th></th>\n",
       "      <th>number label</th>\n",
       "      <th>actual name</th>\n",
       "      <th>familiarity score</th>\n",
       "      <th>nameability score</th>\n",
       "      <th>color saliency</th>\n",
       "      <th>texture saliency</th>\n",
       "      <th>BLIP-2, greedy, caption</th>\n",
       "      <th>BLIP-2, greedy, bool</th>\n",
       "      <th>BLIP-2, greedy, name</th>\n",
       "      <th>BLIP-2, greedy, real</th>\n",
       "      <th>...</th>\n",
       "      <th>BLIP-2, beam, num_beams=1, name</th>\n",
       "      <th>BLIP-2, beam, num_beams=1, real</th>\n",
       "      <th>BLIP-2, beam, num_beams=5, caption</th>\n",
       "      <th>BLIP-2, beam, num_beams=5, bool</th>\n",
       "      <th>BLIP-2, beam, num_beams=5, name</th>\n",
       "      <th>BLIP-2, beam, num_beams=5, real</th>\n",
       "      <th>BLIP-2, beam, num_beams=10, caption</th>\n",
       "      <th>BLIP-2, beam, num_beams=10, bool</th>\n",
       "      <th>BLIP-2, beam, num_beams=10, name</th>\n",
       "      <th>BLIP-2, beam, num_beams=10, real</th>\n",
       "    </tr>\n",
       "  </thead>\n",
       "  <tbody>\n",
       "    <tr>\n",
       "      <th>0</th>\n",
       "      <td>2001</td>\n",
       "      <td>bee hive trap</td>\n",
       "      <td>19</td>\n",
       "      <td>50</td>\n",
       "      <td>66</td>\n",
       "      <td>14</td>\n",
       "      <td>a pair of orange plastic toys on a white backg...</td>\n",
       "      <td>Yes, it is a plastic egg</td>\n",
       "      <td>a yellow plastic ball</td>\n",
       "      <td>A giant orange plastic ball</td>\n",
       "      <td>...</td>\n",
       "      <td>a yellow plastic ball</td>\n",
       "      <td>A giant orange plastic ball</td>\n",
       "      <td>a pair of orange plastic toys on a white backg...</td>\n",
       "      <td>No, I do not recognize this object.</td>\n",
       "      <td>the object in this image is an orange plastic ...</td>\n",
       "      <td>This is an orange plastic ball with a hole in ...</td>\n",
       "      <td>a pair of orange plastic toys sitting on top o...</td>\n",
       "      <td>Unknown</td>\n",
       "      <td>the object in this image is an orange plastic ...</td>\n",
       "      <td>I think it's a dog toy.</td>\n",
       "    </tr>\n",
       "    <tr>\n",
       "      <th>1</th>\n",
       "      <td>2002</td>\n",
       "      <td>bookend</td>\n",
       "      <td>22</td>\n",
       "      <td>83</td>\n",
       "      <td>59</td>\n",
       "      <td>9</td>\n",
       "      <td>a red metal sculpture with a curved shape</td>\n",
       "      <td>Yes, I recognize this object.</td>\n",
       "      <td>a red vase</td>\n",
       "      <td>A red vase</td>\n",
       "      <td>...</td>\n",
       "      <td>a red vase</td>\n",
       "      <td>A red vase</td>\n",
       "      <td>a red metal sculpture on a white background</td>\n",
       "      <td>Unknown</td>\n",
       "      <td>a red vase</td>\n",
       "      <td>It's a red vase.</td>\n",
       "      <td>a red metal sculpture on a white background</td>\n",
       "      <td>Unknown</td>\n",
       "      <td>a red vase</td>\n",
       "      <td>It's a red vase.</td>\n",
       "    </tr>\n",
       "    <tr>\n",
       "      <th>2</th>\n",
       "      <td>2003</td>\n",
       "      <td>fidget toy</td>\n",
       "      <td>59</td>\n",
       "      <td>74</td>\n",
       "      <td>19</td>\n",
       "      <td>0</td>\n",
       "      <td>a set of colorful wooden blocks arranged in a ...</td>\n",
       "      <td>Yes, it is a wooden block</td>\n",
       "      <td>a wooden block</td>\n",
       "      <td>A toy that is made of wood and plastic</td>\n",
       "      <td>...</td>\n",
       "      <td>a wooden block</td>\n",
       "      <td>A toy that is made of wood and plastic</td>\n",
       "      <td>a set of colorful wooden blocks on a white bac...</td>\n",
       "      <td>Yes, I recognize this object.</td>\n",
       "      <td>a stack of multi-colored blocks on a white bac...</td>\n",
       "      <td>This is a stack of wooden blocks.</td>\n",
       "      <td>a set of colorful wooden blocks on a white bac...</td>\n",
       "      <td>Yes, I recognize this object.</td>\n",
       "      <td>the object in this image is a set of wooden bl...</td>\n",
       "      <td>This is a stack of wooden blocks.</td>\n",
       "    </tr>\n",
       "    <tr>\n",
       "      <th>3</th>\n",
       "      <td>2004</td>\n",
       "      <td>pencil sharpener</td>\n",
       "      <td>41</td>\n",
       "      <td>70</td>\n",
       "      <td>48</td>\n",
       "      <td>52</td>\n",
       "      <td>a yellow and orange plastic egg shaped object</td>\n",
       "      <td>Yes, it is a plastic ball with a hole in the m...</td>\n",
       "      <td>a ball</td>\n",
       "      <td>A plastic egg shaped object with a hole in the...</td>\n",
       "      <td>...</td>\n",
       "      <td>a ball</td>\n",
       "      <td>A plastic egg shaped object with a hole in the...</td>\n",
       "      <td>an orange and yellow plastic ball with a hole ...</td>\n",
       "      <td>Unknown</td>\n",
       "      <td>the object in this image is an orange and yell...</td>\n",
       "      <td>This is an orange and yellow plastic ball with...</td>\n",
       "      <td>an orange and yellow plastic ball with a hole ...</td>\n",
       "      <td>Unknown</td>\n",
       "      <td>the object in this image is an orange and yell...</td>\n",
       "      <td>This is an orange and yellow plastic ball with...</td>\n",
       "    </tr>\n",
       "    <tr>\n",
       "      <th>4</th>\n",
       "      <td>2005</td>\n",
       "      <td>fish tank stone</td>\n",
       "      <td>6</td>\n",
       "      <td>25</td>\n",
       "      <td>81</td>\n",
       "      <td>13</td>\n",
       "      <td>a pink and blue tie dye headband</td>\n",
       "      <td>Yes, I recognize this object.</td>\n",
       "      <td>a rainbow unicorn headband</td>\n",
       "      <td>A rainbow unicorn headband</td>\n",
       "      <td>...</td>\n",
       "      <td>a rainbow unicorn headband</td>\n",
       "      <td>A rainbow unicorn headband</td>\n",
       "      <td>a pink and blue tie dye headband sitting on to...</td>\n",
       "      <td>Unknown</td>\n",
       "      <td>a rainbow tie-dye tie-dye tie-dye tie-dye tie-</td>\n",
       "      <td>It's a tie-dye headband.</td>\n",
       "      <td>a pink and blue tie dye headband sitting on to...</td>\n",
       "      <td>Unknown</td>\n",
       "      <td>a rainbow tie-dye tie-dye tie-dye tie-dye tie-</td>\n",
       "      <td>I don't know.  I think it's a unicorn.  I thin...</td>\n",
       "    </tr>\n",
       "    <tr>\n",
       "      <th>...</th>\n",
       "      <td>...</td>\n",
       "      <td>...</td>\n",
       "      <td>...</td>\n",
       "      <td>...</td>\n",
       "      <td>...</td>\n",
       "      <td>...</td>\n",
       "      <td>...</td>\n",
       "      <td>...</td>\n",
       "      <td>...</td>\n",
       "      <td>...</td>\n",
       "      <td>...</td>\n",
       "      <td>...</td>\n",
       "      <td>...</td>\n",
       "      <td>...</td>\n",
       "      <td>...</td>\n",
       "      <td>...</td>\n",
       "      <td>...</td>\n",
       "      <td>...</td>\n",
       "      <td>...</td>\n",
       "      <td>...</td>\n",
       "      <td>...</td>\n",
       "    </tr>\n",
       "    <tr>\n",
       "      <th>59</th>\n",
       "      <td>2060</td>\n",
       "      <td>dog toy with removed rope</td>\n",
       "      <td>38</td>\n",
       "      <td>32</td>\n",
       "      <td>55</td>\n",
       "      <td>29</td>\n",
       "      <td>a red plastic toy with four balls inside</td>\n",
       "      <td>Yes, it is a red jelly bean</td>\n",
       "      <td>a red jelly bean</td>\n",
       "      <td>A red jelly bean</td>\n",
       "      <td>...</td>\n",
       "      <td>a red jelly bean</td>\n",
       "      <td>A red jelly bean</td>\n",
       "      <td>a close up of a red plastic toy that is shaped...</td>\n",
       "      <td>Yes, I recognize this object.</td>\n",
       "      <td>a red ball with a bunch of small balls inside ...</td>\n",
       "      <td>It’s a red jelly bean.</td>\n",
       "      <td>a close up of an object that looks like it is ...</td>\n",
       "      <td>Unknown</td>\n",
       "      <td>an object in this image is an object shaped li...</td>\n",
       "      <td>It’s a toy for your dog.</td>\n",
       "    </tr>\n",
       "    <tr>\n",
       "      <th>60</th>\n",
       "      <td>2061</td>\n",
       "      <td>dog toy</td>\n",
       "      <td>53</td>\n",
       "      <td>53</td>\n",
       "      <td>59</td>\n",
       "      <td>13</td>\n",
       "      <td>a green donut with colorful dots on it</td>\n",
       "      <td>Yes</td>\n",
       "      <td>a donut</td>\n",
       "      <td>A donut</td>\n",
       "      <td>...</td>\n",
       "      <td>a donut</td>\n",
       "      <td>A donut</td>\n",
       "      <td>a green dog toy with colorful dots on it</td>\n",
       "      <td>Yes, I recognize this object.</td>\n",
       "      <td>a donut</td>\n",
       "      <td>It's a donut shaped like a virus.</td>\n",
       "      <td>a green dog toy with colorful dots on it</td>\n",
       "      <td>No, I do not recognize this object.</td>\n",
       "      <td>a donut</td>\n",
       "      <td>It's a donut.</td>\n",
       "    </tr>\n",
       "    <tr>\n",
       "      <th>61</th>\n",
       "      <td>2062</td>\n",
       "      <td>dog toy</td>\n",
       "      <td>44</td>\n",
       "      <td>56</td>\n",
       "      <td>29</td>\n",
       "      <td>42</td>\n",
       "      <td>an orange plastic ring with spikes on it</td>\n",
       "      <td>Yes, it is a rubber ball with spikes</td>\n",
       "      <td>a rubber ring</td>\n",
       "      <td>A rubber dog toy</td>\n",
       "      <td>...</td>\n",
       "      <td>a rubber ring</td>\n",
       "      <td>A rubber dog toy</td>\n",
       "      <td>an orange rubber ring on a white background</td>\n",
       "      <td>Unknown</td>\n",
       "      <td>an orange rubber ring with spikes on it</td>\n",
       "      <td>This is an orange rubber ring with spikes on it</td>\n",
       "      <td>an orange rubber ring on a white background</td>\n",
       "      <td>Unknown</td>\n",
       "      <td>an orange rubber ring with spikes on it</td>\n",
       "      <td>This is an orange rubber ring with spikes on it</td>\n",
       "    </tr>\n",
       "    <tr>\n",
       "      <th>62</th>\n",
       "      <td>2063</td>\n",
       "      <td>magic loops</td>\n",
       "      <td>25</td>\n",
       "      <td>38</td>\n",
       "      <td>13</td>\n",
       "      <td>19</td>\n",
       "      <td>a metal sculpture with colorful beads on it</td>\n",
       "      <td>Yes, it is a planet</td>\n",
       "      <td>a planet</td>\n",
       "      <td>A planet.</td>\n",
       "      <td>...</td>\n",
       "      <td>a planet</td>\n",
       "      <td>A planet.</td>\n",
       "      <td>a metal sculpture of a globe with multi colore...</td>\n",
       "      <td>No, I do not recognize this object.</td>\n",
       "      <td>a solar system.</td>\n",
       "      <td>I think it's a planet.</td>\n",
       "      <td>a metal sculpture with multi colored beads on it</td>\n",
       "      <td>No, I do not recognize this object</td>\n",
       "      <td>the solar system.</td>\n",
       "      <td>I don't know.  I don't know.  I don't know.  I...</td>\n",
       "    </tr>\n",
       "    <tr>\n",
       "      <th>63</th>\n",
       "      <td>2064</td>\n",
       "      <td>massager</td>\n",
       "      <td>28</td>\n",
       "      <td>33</td>\n",
       "      <td>45</td>\n",
       "      <td>3</td>\n",
       "      <td>a green and silver object with legs</td>\n",
       "      <td>Yes, it is a foot massager</td>\n",
       "      <td>a foot massager</td>\n",
       "      <td>A foot massager</td>\n",
       "      <td>...</td>\n",
       "      <td>a foot massager</td>\n",
       "      <td>A foot massager</td>\n",
       "      <td>a green foot massager on a white surface</td>\n",
       "      <td>Yes, I recognize this object.</td>\n",
       "      <td>a foot massager</td>\n",
       "      <td>It's a foot massager.</td>\n",
       "      <td>a green foot massager on a white surface</td>\n",
       "      <td>Unknown</td>\n",
       "      <td>a foot massager.</td>\n",
       "      <td>It’s a foot massager, but it’s not a foot mass...</td>\n",
       "    </tr>\n",
       "  </tbody>\n",
       "</table>\n",
       "<p>64 rows × 34 columns</p>\n",
       "</div>"
      ],
      "text/plain": [
       "    number label                actual name  familiarity score  \\\n",
       "0           2001              bee hive trap                 19   \n",
       "1           2002                    bookend                 22   \n",
       "2           2003                 fidget toy                 59   \n",
       "3           2004           pencil sharpener                 41   \n",
       "4           2005            fish tank stone                  6   \n",
       "..           ...                        ...                ...   \n",
       "59          2060  dog toy with removed rope                 38   \n",
       "60          2061                    dog toy                 53   \n",
       "61          2062                    dog toy                 44   \n",
       "62          2063                magic loops                 25   \n",
       "63          2064                   massager                 28   \n",
       "\n",
       "    nameability score  color saliency  texture saliency  \\\n",
       "0                  50              66                14   \n",
       "1                  83              59                 9   \n",
       "2                  74              19                 0   \n",
       "3                  70              48                52   \n",
       "4                  25              81                13   \n",
       "..                ...             ...               ...   \n",
       "59                 32              55                29   \n",
       "60                 53              59                13   \n",
       "61                 56              29                42   \n",
       "62                 38              13                19   \n",
       "63                 33              45                 3   \n",
       "\n",
       "                              BLIP-2, greedy, caption  \\\n",
       "0   a pair of orange plastic toys on a white backg...   \n",
       "1           a red metal sculpture with a curved shape   \n",
       "2   a set of colorful wooden blocks arranged in a ...   \n",
       "3       a yellow and orange plastic egg shaped object   \n",
       "4                    a pink and blue tie dye headband   \n",
       "..                                                ...   \n",
       "59           a red plastic toy with four balls inside   \n",
       "60             a green donut with colorful dots on it   \n",
       "61           an orange plastic ring with spikes on it   \n",
       "62        a metal sculpture with colorful beads on it   \n",
       "63                a green and silver object with legs   \n",
       "\n",
       "                                 BLIP-2, greedy, bool  \\\n",
       "0                            Yes, it is a plastic egg   \n",
       "1                       Yes, I recognize this object.   \n",
       "2                           Yes, it is a wooden block   \n",
       "3   Yes, it is a plastic ball with a hole in the m...   \n",
       "4                       Yes, I recognize this object.   \n",
       "..                                                ...   \n",
       "59                        Yes, it is a red jelly bean   \n",
       "60                                                Yes   \n",
       "61               Yes, it is a rubber ball with spikes   \n",
       "62                                Yes, it is a planet   \n",
       "63                         Yes, it is a foot massager   \n",
       "\n",
       "          BLIP-2, greedy, name  \\\n",
       "0        a yellow plastic ball   \n",
       "1                   a red vase   \n",
       "2               a wooden block   \n",
       "3                       a ball   \n",
       "4   a rainbow unicorn headband   \n",
       "..                         ...   \n",
       "59            a red jelly bean   \n",
       "60                     a donut   \n",
       "61               a rubber ring   \n",
       "62                    a planet   \n",
       "63             a foot massager   \n",
       "\n",
       "                                 BLIP-2, greedy, real  ...  \\\n",
       "0                         A giant orange plastic ball  ...   \n",
       "1                                          A red vase  ...   \n",
       "2              A toy that is made of wood and plastic  ...   \n",
       "3   A plastic egg shaped object with a hole in the...  ...   \n",
       "4                          A rainbow unicorn headband  ...   \n",
       "..                                                ...  ...   \n",
       "59                                   A red jelly bean  ...   \n",
       "60                                            A donut  ...   \n",
       "61                                   A rubber dog toy  ...   \n",
       "62                                          A planet.  ...   \n",
       "63                                    A foot massager  ...   \n",
       "\n",
       "   BLIP-2, beam, num_beams=1, name  \\\n",
       "0            a yellow plastic ball   \n",
       "1                       a red vase   \n",
       "2                   a wooden block   \n",
       "3                           a ball   \n",
       "4       a rainbow unicorn headband   \n",
       "..                             ...   \n",
       "59                a red jelly bean   \n",
       "60                         a donut   \n",
       "61                   a rubber ring   \n",
       "62                        a planet   \n",
       "63                 a foot massager   \n",
       "\n",
       "                      BLIP-2, beam, num_beams=1, real  \\\n",
       "0                         A giant orange plastic ball   \n",
       "1                                          A red vase   \n",
       "2              A toy that is made of wood and plastic   \n",
       "3   A plastic egg shaped object with a hole in the...   \n",
       "4                          A rainbow unicorn headband   \n",
       "..                                                ...   \n",
       "59                                   A red jelly bean   \n",
       "60                                            A donut   \n",
       "61                                   A rubber dog toy   \n",
       "62                                          A planet.   \n",
       "63                                    A foot massager   \n",
       "\n",
       "                   BLIP-2, beam, num_beams=5, caption  \\\n",
       "0   a pair of orange plastic toys on a white backg...   \n",
       "1         a red metal sculpture on a white background   \n",
       "2   a set of colorful wooden blocks on a white bac...   \n",
       "3   an orange and yellow plastic ball with a hole ...   \n",
       "4   a pink and blue tie dye headband sitting on to...   \n",
       "..                                                ...   \n",
       "59  a close up of a red plastic toy that is shaped...   \n",
       "60           a green dog toy with colorful dots on it   \n",
       "61        an orange rubber ring on a white background   \n",
       "62  a metal sculpture of a globe with multi colore...   \n",
       "63           a green foot massager on a white surface   \n",
       "\n",
       "        BLIP-2, beam, num_beams=5, bool  \\\n",
       "0   No, I do not recognize this object.   \n",
       "1                               Unknown   \n",
       "2         Yes, I recognize this object.   \n",
       "3                               Unknown   \n",
       "4                               Unknown   \n",
       "..                                  ...   \n",
       "59        Yes, I recognize this object.   \n",
       "60        Yes, I recognize this object.   \n",
       "61                              Unknown   \n",
       "62  No, I do not recognize this object.   \n",
       "63        Yes, I recognize this object.   \n",
       "\n",
       "                      BLIP-2, beam, num_beams=5, name  \\\n",
       "0   the object in this image is an orange plastic ...   \n",
       "1                                          a red vase   \n",
       "2   a stack of multi-colored blocks on a white bac...   \n",
       "3   the object in this image is an orange and yell...   \n",
       "4      a rainbow tie-dye tie-dye tie-dye tie-dye tie-   \n",
       "..                                                ...   \n",
       "59  a red ball with a bunch of small balls inside ...   \n",
       "60                                            a donut   \n",
       "61            an orange rubber ring with spikes on it   \n",
       "62                                    a solar system.   \n",
       "63                                    a foot massager   \n",
       "\n",
       "                      BLIP-2, beam, num_beams=5, real  \\\n",
       "0   This is an orange plastic ball with a hole in ...   \n",
       "1                                    It's a red vase.   \n",
       "2                   This is a stack of wooden blocks.   \n",
       "3   This is an orange and yellow plastic ball with...   \n",
       "4                            It's a tie-dye headband.   \n",
       "..                                                ...   \n",
       "59                             It’s a red jelly bean.   \n",
       "60                  It's a donut shaped like a virus.   \n",
       "61    This is an orange rubber ring with spikes on it   \n",
       "62                             I think it's a planet.   \n",
       "63                              It's a foot massager.   \n",
       "\n",
       "                  BLIP-2, beam, num_beams=10, caption  \\\n",
       "0   a pair of orange plastic toys sitting on top o...   \n",
       "1         a red metal sculpture on a white background   \n",
       "2   a set of colorful wooden blocks on a white bac...   \n",
       "3   an orange and yellow plastic ball with a hole ...   \n",
       "4   a pink and blue tie dye headband sitting on to...   \n",
       "..                                                ...   \n",
       "59  a close up of an object that looks like it is ...   \n",
       "60           a green dog toy with colorful dots on it   \n",
       "61        an orange rubber ring on a white background   \n",
       "62   a metal sculpture with multi colored beads on it   \n",
       "63           a green foot massager on a white surface   \n",
       "\n",
       "       BLIP-2, beam, num_beams=10, bool  \\\n",
       "0                               Unknown   \n",
       "1                               Unknown   \n",
       "2         Yes, I recognize this object.   \n",
       "3                               Unknown   \n",
       "4                               Unknown   \n",
       "..                                  ...   \n",
       "59                              Unknown   \n",
       "60  No, I do not recognize this object.   \n",
       "61                              Unknown   \n",
       "62   No, I do not recognize this object   \n",
       "63                              Unknown   \n",
       "\n",
       "                     BLIP-2, beam, num_beams=10, name  \\\n",
       "0   the object in this image is an orange plastic ...   \n",
       "1                                          a red vase   \n",
       "2   the object in this image is a set of wooden bl...   \n",
       "3   the object in this image is an orange and yell...   \n",
       "4      a rainbow tie-dye tie-dye tie-dye tie-dye tie-   \n",
       "..                                                ...   \n",
       "59  an object in this image is an object shaped li...   \n",
       "60                                            a donut   \n",
       "61            an orange rubber ring with spikes on it   \n",
       "62                                  the solar system.   \n",
       "63                                   a foot massager.   \n",
       "\n",
       "                     BLIP-2, beam, num_beams=10, real  \n",
       "0                             I think it's a dog toy.  \n",
       "1                                    It's a red vase.  \n",
       "2                   This is a stack of wooden blocks.  \n",
       "3   This is an orange and yellow plastic ball with...  \n",
       "4   I don't know.  I think it's a unicorn.  I thin...  \n",
       "..                                                ...  \n",
       "59                           It’s a toy for your dog.  \n",
       "60                                      It's a donut.  \n",
       "61    This is an orange rubber ring with spikes on it  \n",
       "62  I don't know.  I don't know.  I don't know.  I...  \n",
       "63  It’s a foot massager, but it’s not a foot mass...  \n",
       "\n",
       "[64 rows x 34 columns]"
      ]
     },
     "metadata": {},
     "output_type": "display_data"
    }
   ],
   "source": [
    "display(generated_results)"
   ]
  },
  {
   "attachments": {},
   "cell_type": "markdown",
   "metadata": {},
   "source": [
    "## Evaluation"
   ]
  },
  {
   "attachments": {},
   "cell_type": "markdown",
   "metadata": {},
   "source": [
    "Check whether model uses color or texture terms"
   ]
  },
  {
   "cell_type": "code",
   "execution_count": null,
   "metadata": {},
   "outputs": [],
   "source": [
    "get_token_count = lambda text: len(text.split())\n",
    "\n",
    "data['length greedy'] = data['BLIP-2, greedy, caption'].apply(get_token_count)\n",
    "data['length nucleus'] = data['BLIP-2, nucleus, caption'].apply(get_token_count)\n",
    "data['length beam'] = data['BLIP-2, beam, caption'].apply(get_token_count)"
   ]
  },
  {
   "cell_type": "code",
   "execution_count": 219,
   "metadata": {},
   "outputs": [
    {
     "name": "stdout",
     "output_type": "stream",
     "text": [
      "image_path\n",
      "number label\n",
      "actual name\n",
      "familiarity score\n",
      "nameability score\n",
      "color saliency\n",
      "texture saliency\n",
      "BLIP-2, greedy, caption\n",
      "BLIP-2, greedy, bool\n",
      "BLIP-2, greedy, name\n",
      "BLIP-2, greedy, real\n",
      "BLIP-2, greedy, caption saliency\n",
      "BLIP-2, greedy, bool saliency\n",
      "BLIP-2, greedy, name saliency\n",
      "BLIP-2, greedy, real saliency\n",
      "BLIP-2, nucleus, caption\n",
      "BLIP-2, nucleus, bool\n",
      "BLIP-2, nucleus, name\n",
      "BLIP-2, nucleus, real\n",
      "BLIP-2, nucleus, caption saliency\n",
      "BLIP-2, nucleus, bool saliency\n",
      "BLIP-2, nucleus, name saliency\n",
      "BLIP-2, nucleus, real saliency\n",
      "BLIP-2, beam, caption\n",
      "BLIP-2, beam, bool\n",
      "BLIP-2, beam, name\n",
      "BLIP-2, beam, real\n",
      "BLIP-2, beam, caption saliency\n",
      "BLIP-2, beam, bool saliency\n",
      "BLIP-2, beam, name saliency\n",
      "BLIP-2, beam, real saliency\n",
      "BLIP-2, greedy, max_new_tokens=5, caption\n",
      "BLIP-2, greedy, max_new_tokens=5, bool\n",
      "BLIP-2, greedy, max_new_tokens=5, name\n",
      "BLIP-2, greedy, max_new_tokens=5, real\n",
      "BLIP-2, greedy, max_new_tokens=5, caption saliency\n",
      "BLIP-2, greedy, max_new_tokens=5, bool saliency\n",
      "BLIP-2, greedy, max_new_tokens=5, name saliency\n",
      "BLIP-2, greedy, max_new_tokens=5, real saliency\n",
      "BLIP-2, greedy, max_new_tokens=10, caption\n",
      "BLIP-2, greedy, max_new_tokens=10, bool\n",
      "BLIP-2, greedy, max_new_tokens=10, name\n",
      "BLIP-2, greedy, max_new_tokens=10, real\n",
      "BLIP-2, greedy, max_new_tokens=10, caption saliency\n",
      "BLIP-2, greedy, max_new_tokens=10, bool saliency\n",
      "BLIP-2, greedy, max_new_tokens=10, name saliency\n",
      "BLIP-2, greedy, max_new_tokens=10, real saliency\n",
      "BLIP-2, greedy, max_new_tokens=20, caption\n",
      "BLIP-2, greedy, max_new_tokens=20, bool\n",
      "BLIP-2, greedy, max_new_tokens=20, name\n",
      "BLIP-2, greedy, max_new_tokens=20, real\n",
      "BLIP-2, greedy, max_new_tokens=20, caption saliency\n",
      "BLIP-2, greedy, max_new_tokens=20, bool saliency\n",
      "BLIP-2, greedy, max_new_tokens=20, name saliency\n",
      "BLIP-2, greedy, max_new_tokens=20, real saliency\n",
      "BLIP-2, nucleus, top_p=0.1, caption\n",
      "BLIP-2, nucleus, top_p=0.1, bool\n",
      "BLIP-2, nucleus, top_p=0.1, name\n",
      "BLIP-2, nucleus, top_p=0.1, real\n",
      "BLIP-2, nucleus, top_p=0.1, caption saliency\n",
      "BLIP-2, nucleus, top_p=0.1, bool saliency\n",
      "BLIP-2, nucleus, top_p=0.1, name saliency\n",
      "BLIP-2, nucleus, top_p=0.1, real saliency\n",
      "BLIP-2, nucleus, top_p=0.5, caption\n",
      "BLIP-2, nucleus, top_p=0.5, bool\n",
      "BLIP-2, nucleus, top_p=0.5, name\n",
      "BLIP-2, nucleus, top_p=0.5, real\n",
      "BLIP-2, nucleus, top_p=0.5, caption saliency\n",
      "BLIP-2, nucleus, top_p=0.5, bool saliency\n",
      "BLIP-2, nucleus, top_p=0.5, name saliency\n",
      "BLIP-2, nucleus, top_p=0.5, real saliency\n",
      "BLIP-2, nucleus, top_p=0.9, caption\n",
      "BLIP-2, nucleus, top_p=0.9, bool\n",
      "BLIP-2, nucleus, top_p=0.9, name\n",
      "BLIP-2, nucleus, top_p=0.9, real\n",
      "BLIP-2, nucleus, top_p=0.9, caption saliency\n",
      "BLIP-2, nucleus, top_p=0.9, bool saliency\n",
      "BLIP-2, nucleus, top_p=0.9, name saliency\n",
      "BLIP-2, nucleus, top_p=0.9, real saliency\n",
      "BLIP-2, beam, num_beams=1, caption\n",
      "BLIP-2, beam, num_beams=1, bool\n",
      "BLIP-2, beam, num_beams=1, name\n",
      "BLIP-2, beam, num_beams=1, real\n",
      "BLIP-2, beam, num_beams=1, caption saliency\n",
      "BLIP-2, beam, num_beams=1, bool saliency\n",
      "BLIP-2, beam, num_beams=1, name saliency\n",
      "BLIP-2, beam, num_beams=1, real saliency\n",
      "BLIP-2, beam, num_beams=5, caption\n",
      "BLIP-2, beam, num_beams=5, bool\n",
      "BLIP-2, beam, num_beams=5, name\n",
      "BLIP-2, beam, num_beams=5, real\n",
      "BLIP-2, beam, num_beams=5, caption saliency\n",
      "BLIP-2, beam, num_beams=5, bool saliency\n",
      "BLIP-2, beam, num_beams=5, name saliency\n",
      "BLIP-2, beam, num_beams=5, real saliency\n",
      "BLIP-2, beam, num_beams=10, caption\n",
      "BLIP-2, beam, num_beams=10, bool\n",
      "BLIP-2, beam, num_beams=10, name\n",
      "BLIP-2, beam, num_beams=10, real\n",
      "BLIP-2, beam, num_beams=10, caption saliency\n",
      "BLIP-2, beam, num_beams=10, bool saliency\n",
      "BLIP-2, beam, num_beams=10, name saliency\n",
      "BLIP-2, beam, num_beams=10, real saliency\n",
      "color, greedy, caption to boolean\n",
      "texture, greedy, caption to boolean\n",
      "color, greedy, bool to boolean\n",
      "texture, greedy, bool to boolean\n",
      "color, greedy, name to boolean\n",
      "texture, greedy, name to boolean\n",
      "color, greedy, real to boolean\n",
      "texture, greedy, real to boolean\n",
      "color, nucleus, caption to boolean\n",
      "texture, nucleus, caption to boolean\n",
      "color, nucleus, bool to boolean\n",
      "texture, nucleus, bool to boolean\n",
      "color, nucleus, name to boolean\n",
      "texture, nucleus, name to boolean\n",
      "color, nucleus, real to boolean\n",
      "texture, nucleus, real to boolean\n",
      "color, beam, caption to boolean\n",
      "texture, beam, caption to boolean\n",
      "color, beam, bool to boolean\n",
      "texture, beam, bool to boolean\n",
      "color, beam, name to boolean\n",
      "texture, beam, name to boolean\n",
      "color, beam, real to boolean\n",
      "texture, beam, real to boolean\n",
      "color, greedy, max_new_tokens=5, caption to boolean\n",
      "texture, greedy, max_new_tokens=5, caption to boolean\n",
      "color, greedy, max_new_tokens=5, bool to boolean\n",
      "texture, greedy, max_new_tokens=5, bool to boolean\n",
      "color, greedy, max_new_tokens=5, name to boolean\n",
      "texture, greedy, max_new_tokens=5, name to boolean\n",
      "color, greedy, max_new_tokens=5, real to boolean\n",
      "texture, greedy, max_new_tokens=5, real to boolean\n",
      "color, greedy, max_new_tokens=10, caption to boolean\n",
      "texture, greedy, max_new_tokens=10, caption to boolean\n",
      "color, greedy, max_new_tokens=10, bool to boolean\n",
      "texture, greedy, max_new_tokens=10, bool to boolean\n",
      "color, greedy, max_new_tokens=10, name to boolean\n",
      "texture, greedy, max_new_tokens=10, name to boolean\n",
      "color, greedy, max_new_tokens=10, real to boolean\n",
      "texture, greedy, max_new_tokens=10, real to boolean\n",
      "color, greedy, max_new_tokens=20, caption to boolean\n",
      "texture, greedy, max_new_tokens=20, caption to boolean\n",
      "color, greedy, max_new_tokens=20, bool to boolean\n",
      "texture, greedy, max_new_tokens=20, bool to boolean\n",
      "color, greedy, max_new_tokens=20, name to boolean\n",
      "texture, greedy, max_new_tokens=20, name to boolean\n",
      "color, greedy, max_new_tokens=20, real to boolean\n",
      "texture, greedy, max_new_tokens=20, real to boolean\n",
      "color, nucleus, top_p=0.1, caption to boolean\n",
      "texture, nucleus, top_p=0.1, caption to boolean\n",
      "color, nucleus, top_p=0.1, bool to boolean\n",
      "texture, nucleus, top_p=0.1, bool to boolean\n",
      "color, nucleus, top_p=0.1, name to boolean\n",
      "texture, nucleus, top_p=0.1, name to boolean\n",
      "color, nucleus, top_p=0.1, real to boolean\n",
      "texture, nucleus, top_p=0.1, real to boolean\n",
      "color, nucleus, top_p=0.5, caption to boolean\n",
      "texture, nucleus, top_p=0.5, caption to boolean\n",
      "color, nucleus, top_p=0.5, bool to boolean\n",
      "texture, nucleus, top_p=0.5, bool to boolean\n",
      "color, nucleus, top_p=0.5, name to boolean\n",
      "texture, nucleus, top_p=0.5, name to boolean\n",
      "color, nucleus, top_p=0.5, real to boolean\n",
      "texture, nucleus, top_p=0.5, real to boolean\n",
      "color, nucleus, top_p=0.9, caption to boolean\n",
      "texture, nucleus, top_p=0.9, caption to boolean\n",
      "color, nucleus, top_p=0.9, bool to boolean\n",
      "texture, nucleus, top_p=0.9, bool to boolean\n",
      "color, nucleus, top_p=0.9, name to boolean\n",
      "texture, nucleus, top_p=0.9, name to boolean\n",
      "color, nucleus, top_p=0.9, real to boolean\n",
      "texture, nucleus, top_p=0.9, real to boolean\n",
      "color, beam, num_beams=1, caption to boolean\n",
      "texture, beam, num_beams=1, caption to boolean\n",
      "color, beam, num_beams=1, bool to boolean\n",
      "texture, beam, num_beams=1, bool to boolean\n",
      "color, beam, num_beams=1, name to boolean\n",
      "texture, beam, num_beams=1, name to boolean\n",
      "color, beam, num_beams=1, real to boolean\n",
      "texture, beam, num_beams=1, real to boolean\n",
      "color, beam, num_beams=5, caption to boolean\n",
      "texture, beam, num_beams=5, caption to boolean\n",
      "color, beam, num_beams=5, bool to boolean\n",
      "texture, beam, num_beams=5, bool to boolean\n",
      "color, beam, num_beams=5, name to boolean\n",
      "texture, beam, num_beams=5, name to boolean\n",
      "color, beam, num_beams=5, real to boolean\n",
      "texture, beam, num_beams=5, real to boolean\n",
      "color, beam, num_beams=10, caption to boolean\n",
      "texture, beam, num_beams=10, caption to boolean\n",
      "color, beam, num_beams=10, bool to boolean\n",
      "texture, beam, num_beams=10, bool to boolean\n",
      "color, beam, num_beams=10, name to boolean\n",
      "texture, beam, num_beams=10, name to boolean\n",
      "color, beam, num_beams=10, real to boolean\n",
      "texture, beam, num_beams=10, real to boolean\n"
     ]
    }
   ],
   "source": [
    "for c in data.columns:\n",
    "    print(c)"
   ]
  },
  {
   "cell_type": "code",
   "execution_count": 25,
   "metadata": {},
   "outputs": [
    {
     "data": {
      "application/vnd.plotly.v1+json": {
       "config": {
        "plotlyServerURL": "https://plot.ly"
       },
       "data": [
        {
         "hovertemplate": "familiarity score=%{x}<br>nameability score=%{y}<br>color saliency=%{marker.size}<br>texture saliency=%{marker.color}<extra></extra>",
         "legendgroup": "",
         "marker": {
          "color": [
           14,
           9,
           0,
           52,
           13,
           3,
           6,
           16,
           45,
           25,
           3,
           41,
           6,
           0,
           10,
           6,
           13,
           6,
           25,
           6,
           3,
           13,
           17,
           3,
           13,
           17,
           9,
           63,
           16,
           0,
           26,
           3,
           3,
           26,
           13,
           20,
           3,
           6,
           13,
           16,
           20,
           3,
           6,
           6,
           55,
           3,
           3,
           6,
           10,
           0,
           9,
           7,
           6,
           48,
           13,
           13,
           3,
           3,
           0,
           29,
           13,
           42,
           19,
           3
          ],
          "coloraxis": "coloraxis",
          "size": [
           66,
           59,
           19,
           48,
           81,
           31,
           78,
           48,
           65,
           50,
           88,
           59,
           87,
           39,
           55,
           61,
           23,
           61,
           38,
           29,
           84,
           70,
           87,
           41,
           58,
           63,
           47,
           53,
           65,
           53,
           35,
           50,
           55,
           45,
           47,
           20,
           37,
           26,
           61,
           63,
           23,
           81,
           65,
           94,
           3,
           42,
           50,
           55,
           39,
           45,
           47,
           63,
           45,
           38,
           53,
           61,
           35,
           58,
           28,
           55,
           59,
           29,
           13,
           45
          ],
          "sizemode": "area",
          "sizeref": 0.235,
          "symbol": "circle"
         },
         "mode": "markers",
         "name": "",
         "orientation": "v",
         "showlegend": false,
         "type": "scatter",
         "x": [
          19,
          22,
          59,
          41,
          6,
          34,
          22,
          34,
          47,
          66,
          22,
          41,
          6,
          38,
          38,
          28,
          41,
          16,
          31,
          41,
          9,
          9,
          13,
          81,
          6,
          16,
          22,
          6,
          19,
          9,
          16,
          47,
          9,
          72,
          13,
          59,
          34,
          56,
          28,
          31,
          34,
          38,
          66,
          6,
          25,
          34,
          41,
          13,
          19,
          31,
          53,
          41,
          44,
          3,
          13,
          19,
          34,
          22,
          75,
          38,
          53,
          44,
          25,
          28
         ],
         "xaxis": "x",
         "y": [
          50,
          83,
          74,
          70,
          25,
          64,
          46,
          25,
          78,
          52,
          75,
          50,
          20,
          75,
          78,
          21,
          29,
          50,
          67,
          36,
          29,
          15,
          31,
          44,
          14,
          71,
          38,
          47,
          27,
          43,
          32,
          90,
          57,
          39,
          54,
          70,
          24,
          63,
          64,
          64,
          38,
          67,
          76,
          27,
          29,
          67,
          32,
          47,
          44,
          68,
          60,
          53,
          79,
          25,
          33,
          59,
          32,
          33,
          92,
          32,
          53,
          56,
          38,
          33
         ],
         "yaxis": "y"
        }
       ],
       "layout": {
        "coloraxis": {
         "colorbar": {
          "title": {
           "text": "texture saliency"
          }
         },
         "colorscale": [
          [
           0,
           "#0d0887"
          ],
          [
           0.1111111111111111,
           "#46039f"
          ],
          [
           0.2222222222222222,
           "#7201a8"
          ],
          [
           0.3333333333333333,
           "#9c179e"
          ],
          [
           0.4444444444444444,
           "#bd3786"
          ],
          [
           0.5555555555555556,
           "#d8576b"
          ],
          [
           0.6666666666666666,
           "#ed7953"
          ],
          [
           0.7777777777777778,
           "#fb9f3a"
          ],
          [
           0.8888888888888888,
           "#fdca26"
          ],
          [
           1,
           "#f0f921"
          ]
         ]
        },
        "height": 1000,
        "legend": {
         "itemsizing": "constant",
         "tracegroupgap": 0
        },
        "margin": {
         "t": 60
        },
        "template": {
         "data": {
          "bar": [
           {
            "error_x": {
             "color": "#2a3f5f"
            },
            "error_y": {
             "color": "#2a3f5f"
            },
            "marker": {
             "line": {
              "color": "#E5ECF6",
              "width": 0.5
             },
             "pattern": {
              "fillmode": "overlay",
              "size": 10,
              "solidity": 0.2
             }
            },
            "type": "bar"
           }
          ],
          "barpolar": [
           {
            "marker": {
             "line": {
              "color": "#E5ECF6",
              "width": 0.5
             },
             "pattern": {
              "fillmode": "overlay",
              "size": 10,
              "solidity": 0.2
             }
            },
            "type": "barpolar"
           }
          ],
          "carpet": [
           {
            "aaxis": {
             "endlinecolor": "#2a3f5f",
             "gridcolor": "white",
             "linecolor": "white",
             "minorgridcolor": "white",
             "startlinecolor": "#2a3f5f"
            },
            "baxis": {
             "endlinecolor": "#2a3f5f",
             "gridcolor": "white",
             "linecolor": "white",
             "minorgridcolor": "white",
             "startlinecolor": "#2a3f5f"
            },
            "type": "carpet"
           }
          ],
          "choropleth": [
           {
            "colorbar": {
             "outlinewidth": 0,
             "ticks": ""
            },
            "type": "choropleth"
           }
          ],
          "contour": [
           {
            "colorbar": {
             "outlinewidth": 0,
             "ticks": ""
            },
            "colorscale": [
             [
              0,
              "#0d0887"
             ],
             [
              0.1111111111111111,
              "#46039f"
             ],
             [
              0.2222222222222222,
              "#7201a8"
             ],
             [
              0.3333333333333333,
              "#9c179e"
             ],
             [
              0.4444444444444444,
              "#bd3786"
             ],
             [
              0.5555555555555556,
              "#d8576b"
             ],
             [
              0.6666666666666666,
              "#ed7953"
             ],
             [
              0.7777777777777778,
              "#fb9f3a"
             ],
             [
              0.8888888888888888,
              "#fdca26"
             ],
             [
              1,
              "#f0f921"
             ]
            ],
            "type": "contour"
           }
          ],
          "contourcarpet": [
           {
            "colorbar": {
             "outlinewidth": 0,
             "ticks": ""
            },
            "type": "contourcarpet"
           }
          ],
          "heatmap": [
           {
            "colorbar": {
             "outlinewidth": 0,
             "ticks": ""
            },
            "colorscale": [
             [
              0,
              "#0d0887"
             ],
             [
              0.1111111111111111,
              "#46039f"
             ],
             [
              0.2222222222222222,
              "#7201a8"
             ],
             [
              0.3333333333333333,
              "#9c179e"
             ],
             [
              0.4444444444444444,
              "#bd3786"
             ],
             [
              0.5555555555555556,
              "#d8576b"
             ],
             [
              0.6666666666666666,
              "#ed7953"
             ],
             [
              0.7777777777777778,
              "#fb9f3a"
             ],
             [
              0.8888888888888888,
              "#fdca26"
             ],
             [
              1,
              "#f0f921"
             ]
            ],
            "type": "heatmap"
           }
          ],
          "heatmapgl": [
           {
            "colorbar": {
             "outlinewidth": 0,
             "ticks": ""
            },
            "colorscale": [
             [
              0,
              "#0d0887"
             ],
             [
              0.1111111111111111,
              "#46039f"
             ],
             [
              0.2222222222222222,
              "#7201a8"
             ],
             [
              0.3333333333333333,
              "#9c179e"
             ],
             [
              0.4444444444444444,
              "#bd3786"
             ],
             [
              0.5555555555555556,
              "#d8576b"
             ],
             [
              0.6666666666666666,
              "#ed7953"
             ],
             [
              0.7777777777777778,
              "#fb9f3a"
             ],
             [
              0.8888888888888888,
              "#fdca26"
             ],
             [
              1,
              "#f0f921"
             ]
            ],
            "type": "heatmapgl"
           }
          ],
          "histogram": [
           {
            "marker": {
             "pattern": {
              "fillmode": "overlay",
              "size": 10,
              "solidity": 0.2
             }
            },
            "type": "histogram"
           }
          ],
          "histogram2d": [
           {
            "colorbar": {
             "outlinewidth": 0,
             "ticks": ""
            },
            "colorscale": [
             [
              0,
              "#0d0887"
             ],
             [
              0.1111111111111111,
              "#46039f"
             ],
             [
              0.2222222222222222,
              "#7201a8"
             ],
             [
              0.3333333333333333,
              "#9c179e"
             ],
             [
              0.4444444444444444,
              "#bd3786"
             ],
             [
              0.5555555555555556,
              "#d8576b"
             ],
             [
              0.6666666666666666,
              "#ed7953"
             ],
             [
              0.7777777777777778,
              "#fb9f3a"
             ],
             [
              0.8888888888888888,
              "#fdca26"
             ],
             [
              1,
              "#f0f921"
             ]
            ],
            "type": "histogram2d"
           }
          ],
          "histogram2dcontour": [
           {
            "colorbar": {
             "outlinewidth": 0,
             "ticks": ""
            },
            "colorscale": [
             [
              0,
              "#0d0887"
             ],
             [
              0.1111111111111111,
              "#46039f"
             ],
             [
              0.2222222222222222,
              "#7201a8"
             ],
             [
              0.3333333333333333,
              "#9c179e"
             ],
             [
              0.4444444444444444,
              "#bd3786"
             ],
             [
              0.5555555555555556,
              "#d8576b"
             ],
             [
              0.6666666666666666,
              "#ed7953"
             ],
             [
              0.7777777777777778,
              "#fb9f3a"
             ],
             [
              0.8888888888888888,
              "#fdca26"
             ],
             [
              1,
              "#f0f921"
             ]
            ],
            "type": "histogram2dcontour"
           }
          ],
          "mesh3d": [
           {
            "colorbar": {
             "outlinewidth": 0,
             "ticks": ""
            },
            "type": "mesh3d"
           }
          ],
          "parcoords": [
           {
            "line": {
             "colorbar": {
              "outlinewidth": 0,
              "ticks": ""
             }
            },
            "type": "parcoords"
           }
          ],
          "pie": [
           {
            "automargin": true,
            "type": "pie"
           }
          ],
          "scatter": [
           {
            "fillpattern": {
             "fillmode": "overlay",
             "size": 10,
             "solidity": 0.2
            },
            "type": "scatter"
           }
          ],
          "scatter3d": [
           {
            "line": {
             "colorbar": {
              "outlinewidth": 0,
              "ticks": ""
             }
            },
            "marker": {
             "colorbar": {
              "outlinewidth": 0,
              "ticks": ""
             }
            },
            "type": "scatter3d"
           }
          ],
          "scattercarpet": [
           {
            "marker": {
             "colorbar": {
              "outlinewidth": 0,
              "ticks": ""
             }
            },
            "type": "scattercarpet"
           }
          ],
          "scattergeo": [
           {
            "marker": {
             "colorbar": {
              "outlinewidth": 0,
              "ticks": ""
             }
            },
            "type": "scattergeo"
           }
          ],
          "scattergl": [
           {
            "marker": {
             "colorbar": {
              "outlinewidth": 0,
              "ticks": ""
             }
            },
            "type": "scattergl"
           }
          ],
          "scattermapbox": [
           {
            "marker": {
             "colorbar": {
              "outlinewidth": 0,
              "ticks": ""
             }
            },
            "type": "scattermapbox"
           }
          ],
          "scatterpolar": [
           {
            "marker": {
             "colorbar": {
              "outlinewidth": 0,
              "ticks": ""
             }
            },
            "type": "scatterpolar"
           }
          ],
          "scatterpolargl": [
           {
            "marker": {
             "colorbar": {
              "outlinewidth": 0,
              "ticks": ""
             }
            },
            "type": "scatterpolargl"
           }
          ],
          "scatterternary": [
           {
            "marker": {
             "colorbar": {
              "outlinewidth": 0,
              "ticks": ""
             }
            },
            "type": "scatterternary"
           }
          ],
          "surface": [
           {
            "colorbar": {
             "outlinewidth": 0,
             "ticks": ""
            },
            "colorscale": [
             [
              0,
              "#0d0887"
             ],
             [
              0.1111111111111111,
              "#46039f"
             ],
             [
              0.2222222222222222,
              "#7201a8"
             ],
             [
              0.3333333333333333,
              "#9c179e"
             ],
             [
              0.4444444444444444,
              "#bd3786"
             ],
             [
              0.5555555555555556,
              "#d8576b"
             ],
             [
              0.6666666666666666,
              "#ed7953"
             ],
             [
              0.7777777777777778,
              "#fb9f3a"
             ],
             [
              0.8888888888888888,
              "#fdca26"
             ],
             [
              1,
              "#f0f921"
             ]
            ],
            "type": "surface"
           }
          ],
          "table": [
           {
            "cells": {
             "fill": {
              "color": "#EBF0F8"
             },
             "line": {
              "color": "white"
             }
            },
            "header": {
             "fill": {
              "color": "#C8D4E3"
             },
             "line": {
              "color": "white"
             }
            },
            "type": "table"
           }
          ]
         },
         "layout": {
          "annotationdefaults": {
           "arrowcolor": "#2a3f5f",
           "arrowhead": 0,
           "arrowwidth": 1
          },
          "autotypenumbers": "strict",
          "coloraxis": {
           "colorbar": {
            "outlinewidth": 0,
            "ticks": ""
           }
          },
          "colorscale": {
           "diverging": [
            [
             0,
             "#8e0152"
            ],
            [
             0.1,
             "#c51b7d"
            ],
            [
             0.2,
             "#de77ae"
            ],
            [
             0.3,
             "#f1b6da"
            ],
            [
             0.4,
             "#fde0ef"
            ],
            [
             0.5,
             "#f7f7f7"
            ],
            [
             0.6,
             "#e6f5d0"
            ],
            [
             0.7,
             "#b8e186"
            ],
            [
             0.8,
             "#7fbc41"
            ],
            [
             0.9,
             "#4d9221"
            ],
            [
             1,
             "#276419"
            ]
           ],
           "sequential": [
            [
             0,
             "#0d0887"
            ],
            [
             0.1111111111111111,
             "#46039f"
            ],
            [
             0.2222222222222222,
             "#7201a8"
            ],
            [
             0.3333333333333333,
             "#9c179e"
            ],
            [
             0.4444444444444444,
             "#bd3786"
            ],
            [
             0.5555555555555556,
             "#d8576b"
            ],
            [
             0.6666666666666666,
             "#ed7953"
            ],
            [
             0.7777777777777778,
             "#fb9f3a"
            ],
            [
             0.8888888888888888,
             "#fdca26"
            ],
            [
             1,
             "#f0f921"
            ]
           ],
           "sequentialminus": [
            [
             0,
             "#0d0887"
            ],
            [
             0.1111111111111111,
             "#46039f"
            ],
            [
             0.2222222222222222,
             "#7201a8"
            ],
            [
             0.3333333333333333,
             "#9c179e"
            ],
            [
             0.4444444444444444,
             "#bd3786"
            ],
            [
             0.5555555555555556,
             "#d8576b"
            ],
            [
             0.6666666666666666,
             "#ed7953"
            ],
            [
             0.7777777777777778,
             "#fb9f3a"
            ],
            [
             0.8888888888888888,
             "#fdca26"
            ],
            [
             1,
             "#f0f921"
            ]
           ]
          },
          "colorway": [
           "#636efa",
           "#EF553B",
           "#00cc96",
           "#ab63fa",
           "#FFA15A",
           "#19d3f3",
           "#FF6692",
           "#B6E880",
           "#FF97FF",
           "#FECB52"
          ],
          "font": {
           "color": "#2a3f5f"
          },
          "geo": {
           "bgcolor": "white",
           "lakecolor": "white",
           "landcolor": "#E5ECF6",
           "showlakes": true,
           "showland": true,
           "subunitcolor": "white"
          },
          "hoverlabel": {
           "align": "left"
          },
          "hovermode": "closest",
          "mapbox": {
           "style": "light"
          },
          "paper_bgcolor": "white",
          "plot_bgcolor": "#E5ECF6",
          "polar": {
           "angularaxis": {
            "gridcolor": "white",
            "linecolor": "white",
            "ticks": ""
           },
           "bgcolor": "#E5ECF6",
           "radialaxis": {
            "gridcolor": "white",
            "linecolor": "white",
            "ticks": ""
           }
          },
          "scene": {
           "xaxis": {
            "backgroundcolor": "#E5ECF6",
            "gridcolor": "white",
            "gridwidth": 2,
            "linecolor": "white",
            "showbackground": true,
            "ticks": "",
            "zerolinecolor": "white"
           },
           "yaxis": {
            "backgroundcolor": "#E5ECF6",
            "gridcolor": "white",
            "gridwidth": 2,
            "linecolor": "white",
            "showbackground": true,
            "ticks": "",
            "zerolinecolor": "white"
           },
           "zaxis": {
            "backgroundcolor": "#E5ECF6",
            "gridcolor": "white",
            "gridwidth": 2,
            "linecolor": "white",
            "showbackground": true,
            "ticks": "",
            "zerolinecolor": "white"
           }
          },
          "shapedefaults": {
           "line": {
            "color": "#2a3f5f"
           }
          },
          "ternary": {
           "aaxis": {
            "gridcolor": "white",
            "linecolor": "white",
            "ticks": ""
           },
           "baxis": {
            "gridcolor": "white",
            "linecolor": "white",
            "ticks": ""
           },
           "bgcolor": "#E5ECF6",
           "caxis": {
            "gridcolor": "white",
            "linecolor": "white",
            "ticks": ""
           }
          },
          "title": {
           "x": 0.05
          },
          "xaxis": {
           "automargin": true,
           "gridcolor": "white",
           "linecolor": "white",
           "ticks": "",
           "title": {
            "standoff": 15
           },
           "zerolinecolor": "white",
           "zerolinewidth": 2
          },
          "yaxis": {
           "automargin": true,
           "gridcolor": "white",
           "linecolor": "white",
           "ticks": "",
           "title": {
            "standoff": 15
           },
           "zerolinecolor": "white",
           "zerolinewidth": 2
          }
         }
        },
        "width": 1000,
        "xaxis": {
         "anchor": "y",
         "domain": [
          0,
          1
         ],
         "title": {
          "text": "familiarity score"
         }
        },
        "yaxis": {
         "anchor": "x",
         "domain": [
          0,
          1
         ],
         "title": {
          "text": "nameability score"
         }
        }
       }
      }
     },
     "metadata": {},
     "output_type": "display_data"
    }
   ],
   "source": [
    "fig = px.scatter(data, size='color saliency', color='texture saliency', y='nameability score', x='familiarity score')\n",
    "fig.update_layout(\n",
    "    width=1000,  # Adjust the width of the plot as desired\n",
    "    height=1000,  # Adjust the height of the plot as desired\n",
    ")\n",
    "fig.show()"
   ]
  },
  {
   "cell_type": "code",
   "execution_count": 235,
   "metadata": {},
   "outputs": [
    {
     "data": {
      "application/vnd.plotly.v1+json": {
       "config": {
        "plotlyServerURL": "https://plot.ly"
       },
       "data": [
        {
         "name": "greedy, caption",
         "type": "bar",
         "x": [
          "(-0.063, 12.6]",
          "(12.6, 25.2]",
          "(25.2, 37.8]",
          "(37.8, 50.4]",
          "(50.4, 63.0]"
         ],
         "y": [
          0.47058823529411764,
          0.55,
          0.6666666666666666,
          0.75,
          0.6666666666666666
         ]
        },
        {
         "name": "nucleus, top_p=0.1, caption",
         "type": "bar",
         "x": [
          "(-0.063, 12.6]",
          "(12.6, 25.2]",
          "(25.2, 37.8]",
          "(37.8, 50.4]",
          "(50.4, 63.0]"
         ],
         "y": [
          0.47058823529411764,
          0.55,
          0.6666666666666666,
          0.75,
          0.6666666666666666
         ]
        },
        {
         "name": "nucleus, top_p=0.5, caption",
         "type": "bar",
         "x": [
          "(-0.063, 12.6]",
          "(12.6, 25.2]",
          "(25.2, 37.8]",
          "(37.8, 50.4]",
          "(50.4, 63.0]"
         ],
         "y": [
          0.5294117647058824,
          0.5,
          0.6666666666666666,
          0.75,
          0.3333333333333333
         ]
        },
        {
         "name": "nucleus, top_p=0.9, caption",
         "type": "bar",
         "x": [
          "(-0.063, 12.6]",
          "(12.6, 25.2]",
          "(25.2, 37.8]",
          "(37.8, 50.4]",
          "(50.4, 63.0]"
         ],
         "y": [
          0.5,
          0.3,
          0.3333333333333333,
          0.75,
          0.6666666666666666
         ]
        },
        {
         "name": "beam, num_beams=1, caption",
         "type": "bar",
         "x": [
          "(-0.063, 12.6]",
          "(12.6, 25.2]",
          "(25.2, 37.8]",
          "(37.8, 50.4]",
          "(50.4, 63.0]"
         ],
         "y": [
          0.47058823529411764,
          0.55,
          0.6666666666666666,
          0.75,
          0.6666666666666666
         ]
        },
        {
         "name": "beam, num_beams=5, caption",
         "type": "bar",
         "x": [
          "(-0.063, 12.6]",
          "(12.6, 25.2]",
          "(25.2, 37.8]",
          "(37.8, 50.4]",
          "(50.4, 63.0]"
         ],
         "y": [
          0.5,
          0.5,
          0.6666666666666666,
          0.75,
          0.6666666666666666
         ]
        },
        {
         "name": "beam, num_beams=10, caption",
         "type": "bar",
         "x": [
          "(-0.063, 12.6]",
          "(12.6, 25.2]",
          "(25.2, 37.8]",
          "(37.8, 50.4]",
          "(50.4, 63.0]"
         ],
         "y": [
          0.5,
          0.45,
          0.6666666666666666,
          0.75,
          0.6666666666666666
         ]
        }
       ],
       "layout": {
        "barmode": "group",
        "template": {
         "data": {
          "bar": [
           {
            "error_x": {
             "color": "#2a3f5f"
            },
            "error_y": {
             "color": "#2a3f5f"
            },
            "marker": {
             "line": {
              "color": "#E5ECF6",
              "width": 0.5
             },
             "pattern": {
              "fillmode": "overlay",
              "size": 10,
              "solidity": 0.2
             }
            },
            "type": "bar"
           }
          ],
          "barpolar": [
           {
            "marker": {
             "line": {
              "color": "#E5ECF6",
              "width": 0.5
             },
             "pattern": {
              "fillmode": "overlay",
              "size": 10,
              "solidity": 0.2
             }
            },
            "type": "barpolar"
           }
          ],
          "carpet": [
           {
            "aaxis": {
             "endlinecolor": "#2a3f5f",
             "gridcolor": "white",
             "linecolor": "white",
             "minorgridcolor": "white",
             "startlinecolor": "#2a3f5f"
            },
            "baxis": {
             "endlinecolor": "#2a3f5f",
             "gridcolor": "white",
             "linecolor": "white",
             "minorgridcolor": "white",
             "startlinecolor": "#2a3f5f"
            },
            "type": "carpet"
           }
          ],
          "choropleth": [
           {
            "colorbar": {
             "outlinewidth": 0,
             "ticks": ""
            },
            "type": "choropleth"
           }
          ],
          "contour": [
           {
            "colorbar": {
             "outlinewidth": 0,
             "ticks": ""
            },
            "colorscale": [
             [
              0,
              "#0d0887"
             ],
             [
              0.1111111111111111,
              "#46039f"
             ],
             [
              0.2222222222222222,
              "#7201a8"
             ],
             [
              0.3333333333333333,
              "#9c179e"
             ],
             [
              0.4444444444444444,
              "#bd3786"
             ],
             [
              0.5555555555555556,
              "#d8576b"
             ],
             [
              0.6666666666666666,
              "#ed7953"
             ],
             [
              0.7777777777777778,
              "#fb9f3a"
             ],
             [
              0.8888888888888888,
              "#fdca26"
             ],
             [
              1,
              "#f0f921"
             ]
            ],
            "type": "contour"
           }
          ],
          "contourcarpet": [
           {
            "colorbar": {
             "outlinewidth": 0,
             "ticks": ""
            },
            "type": "contourcarpet"
           }
          ],
          "heatmap": [
           {
            "colorbar": {
             "outlinewidth": 0,
             "ticks": ""
            },
            "colorscale": [
             [
              0,
              "#0d0887"
             ],
             [
              0.1111111111111111,
              "#46039f"
             ],
             [
              0.2222222222222222,
              "#7201a8"
             ],
             [
              0.3333333333333333,
              "#9c179e"
             ],
             [
              0.4444444444444444,
              "#bd3786"
             ],
             [
              0.5555555555555556,
              "#d8576b"
             ],
             [
              0.6666666666666666,
              "#ed7953"
             ],
             [
              0.7777777777777778,
              "#fb9f3a"
             ],
             [
              0.8888888888888888,
              "#fdca26"
             ],
             [
              1,
              "#f0f921"
             ]
            ],
            "type": "heatmap"
           }
          ],
          "heatmapgl": [
           {
            "colorbar": {
             "outlinewidth": 0,
             "ticks": ""
            },
            "colorscale": [
             [
              0,
              "#0d0887"
             ],
             [
              0.1111111111111111,
              "#46039f"
             ],
             [
              0.2222222222222222,
              "#7201a8"
             ],
             [
              0.3333333333333333,
              "#9c179e"
             ],
             [
              0.4444444444444444,
              "#bd3786"
             ],
             [
              0.5555555555555556,
              "#d8576b"
             ],
             [
              0.6666666666666666,
              "#ed7953"
             ],
             [
              0.7777777777777778,
              "#fb9f3a"
             ],
             [
              0.8888888888888888,
              "#fdca26"
             ],
             [
              1,
              "#f0f921"
             ]
            ],
            "type": "heatmapgl"
           }
          ],
          "histogram": [
           {
            "marker": {
             "pattern": {
              "fillmode": "overlay",
              "size": 10,
              "solidity": 0.2
             }
            },
            "type": "histogram"
           }
          ],
          "histogram2d": [
           {
            "colorbar": {
             "outlinewidth": 0,
             "ticks": ""
            },
            "colorscale": [
             [
              0,
              "#0d0887"
             ],
             [
              0.1111111111111111,
              "#46039f"
             ],
             [
              0.2222222222222222,
              "#7201a8"
             ],
             [
              0.3333333333333333,
              "#9c179e"
             ],
             [
              0.4444444444444444,
              "#bd3786"
             ],
             [
              0.5555555555555556,
              "#d8576b"
             ],
             [
              0.6666666666666666,
              "#ed7953"
             ],
             [
              0.7777777777777778,
              "#fb9f3a"
             ],
             [
              0.8888888888888888,
              "#fdca26"
             ],
             [
              1,
              "#f0f921"
             ]
            ],
            "type": "histogram2d"
           }
          ],
          "histogram2dcontour": [
           {
            "colorbar": {
             "outlinewidth": 0,
             "ticks": ""
            },
            "colorscale": [
             [
              0,
              "#0d0887"
             ],
             [
              0.1111111111111111,
              "#46039f"
             ],
             [
              0.2222222222222222,
              "#7201a8"
             ],
             [
              0.3333333333333333,
              "#9c179e"
             ],
             [
              0.4444444444444444,
              "#bd3786"
             ],
             [
              0.5555555555555556,
              "#d8576b"
             ],
             [
              0.6666666666666666,
              "#ed7953"
             ],
             [
              0.7777777777777778,
              "#fb9f3a"
             ],
             [
              0.8888888888888888,
              "#fdca26"
             ],
             [
              1,
              "#f0f921"
             ]
            ],
            "type": "histogram2dcontour"
           }
          ],
          "mesh3d": [
           {
            "colorbar": {
             "outlinewidth": 0,
             "ticks": ""
            },
            "type": "mesh3d"
           }
          ],
          "parcoords": [
           {
            "line": {
             "colorbar": {
              "outlinewidth": 0,
              "ticks": ""
             }
            },
            "type": "parcoords"
           }
          ],
          "pie": [
           {
            "automargin": true,
            "type": "pie"
           }
          ],
          "scatter": [
           {
            "fillpattern": {
             "fillmode": "overlay",
             "size": 10,
             "solidity": 0.2
            },
            "type": "scatter"
           }
          ],
          "scatter3d": [
           {
            "line": {
             "colorbar": {
              "outlinewidth": 0,
              "ticks": ""
             }
            },
            "marker": {
             "colorbar": {
              "outlinewidth": 0,
              "ticks": ""
             }
            },
            "type": "scatter3d"
           }
          ],
          "scattercarpet": [
           {
            "marker": {
             "colorbar": {
              "outlinewidth": 0,
              "ticks": ""
             }
            },
            "type": "scattercarpet"
           }
          ],
          "scattergeo": [
           {
            "marker": {
             "colorbar": {
              "outlinewidth": 0,
              "ticks": ""
             }
            },
            "type": "scattergeo"
           }
          ],
          "scattergl": [
           {
            "marker": {
             "colorbar": {
              "outlinewidth": 0,
              "ticks": ""
             }
            },
            "type": "scattergl"
           }
          ],
          "scattermapbox": [
           {
            "marker": {
             "colorbar": {
              "outlinewidth": 0,
              "ticks": ""
             }
            },
            "type": "scattermapbox"
           }
          ],
          "scatterpolar": [
           {
            "marker": {
             "colorbar": {
              "outlinewidth": 0,
              "ticks": ""
             }
            },
            "type": "scatterpolar"
           }
          ],
          "scatterpolargl": [
           {
            "marker": {
             "colorbar": {
              "outlinewidth": 0,
              "ticks": ""
             }
            },
            "type": "scatterpolargl"
           }
          ],
          "scatterternary": [
           {
            "marker": {
             "colorbar": {
              "outlinewidth": 0,
              "ticks": ""
             }
            },
            "type": "scatterternary"
           }
          ],
          "surface": [
           {
            "colorbar": {
             "outlinewidth": 0,
             "ticks": ""
            },
            "colorscale": [
             [
              0,
              "#0d0887"
             ],
             [
              0.1111111111111111,
              "#46039f"
             ],
             [
              0.2222222222222222,
              "#7201a8"
             ],
             [
              0.3333333333333333,
              "#9c179e"
             ],
             [
              0.4444444444444444,
              "#bd3786"
             ],
             [
              0.5555555555555556,
              "#d8576b"
             ],
             [
              0.6666666666666666,
              "#ed7953"
             ],
             [
              0.7777777777777778,
              "#fb9f3a"
             ],
             [
              0.8888888888888888,
              "#fdca26"
             ],
             [
              1,
              "#f0f921"
             ]
            ],
            "type": "surface"
           }
          ],
          "table": [
           {
            "cells": {
             "fill": {
              "color": "#EBF0F8"
             },
             "line": {
              "color": "white"
             }
            },
            "header": {
             "fill": {
              "color": "#C8D4E3"
             },
             "line": {
              "color": "white"
             }
            },
            "type": "table"
           }
          ]
         },
         "layout": {
          "annotationdefaults": {
           "arrowcolor": "#2a3f5f",
           "arrowhead": 0,
           "arrowwidth": 1
          },
          "autotypenumbers": "strict",
          "coloraxis": {
           "colorbar": {
            "outlinewidth": 0,
            "ticks": ""
           }
          },
          "colorscale": {
           "diverging": [
            [
             0,
             "#8e0152"
            ],
            [
             0.1,
             "#c51b7d"
            ],
            [
             0.2,
             "#de77ae"
            ],
            [
             0.3,
             "#f1b6da"
            ],
            [
             0.4,
             "#fde0ef"
            ],
            [
             0.5,
             "#f7f7f7"
            ],
            [
             0.6,
             "#e6f5d0"
            ],
            [
             0.7,
             "#b8e186"
            ],
            [
             0.8,
             "#7fbc41"
            ],
            [
             0.9,
             "#4d9221"
            ],
            [
             1,
             "#276419"
            ]
           ],
           "sequential": [
            [
             0,
             "#0d0887"
            ],
            [
             0.1111111111111111,
             "#46039f"
            ],
            [
             0.2222222222222222,
             "#7201a8"
            ],
            [
             0.3333333333333333,
             "#9c179e"
            ],
            [
             0.4444444444444444,
             "#bd3786"
            ],
            [
             0.5555555555555556,
             "#d8576b"
            ],
            [
             0.6666666666666666,
             "#ed7953"
            ],
            [
             0.7777777777777778,
             "#fb9f3a"
            ],
            [
             0.8888888888888888,
             "#fdca26"
            ],
            [
             1,
             "#f0f921"
            ]
           ],
           "sequentialminus": [
            [
             0,
             "#0d0887"
            ],
            [
             0.1111111111111111,
             "#46039f"
            ],
            [
             0.2222222222222222,
             "#7201a8"
            ],
            [
             0.3333333333333333,
             "#9c179e"
            ],
            [
             0.4444444444444444,
             "#bd3786"
            ],
            [
             0.5555555555555556,
             "#d8576b"
            ],
            [
             0.6666666666666666,
             "#ed7953"
            ],
            [
             0.7777777777777778,
             "#fb9f3a"
            ],
            [
             0.8888888888888888,
             "#fdca26"
            ],
            [
             1,
             "#f0f921"
            ]
           ]
          },
          "colorway": [
           "#636efa",
           "#EF553B",
           "#00cc96",
           "#ab63fa",
           "#FFA15A",
           "#19d3f3",
           "#FF6692",
           "#B6E880",
           "#FF97FF",
           "#FECB52"
          ],
          "font": {
           "color": "#2a3f5f"
          },
          "geo": {
           "bgcolor": "white",
           "lakecolor": "white",
           "landcolor": "#E5ECF6",
           "showlakes": true,
           "showland": true,
           "subunitcolor": "white"
          },
          "hoverlabel": {
           "align": "left"
          },
          "hovermode": "closest",
          "mapbox": {
           "style": "light"
          },
          "paper_bgcolor": "white",
          "plot_bgcolor": "#E5ECF6",
          "polar": {
           "angularaxis": {
            "gridcolor": "white",
            "linecolor": "white",
            "ticks": ""
           },
           "bgcolor": "#E5ECF6",
           "radialaxis": {
            "gridcolor": "white",
            "linecolor": "white",
            "ticks": ""
           }
          },
          "scene": {
           "xaxis": {
            "backgroundcolor": "#E5ECF6",
            "gridcolor": "white",
            "gridwidth": 2,
            "linecolor": "white",
            "showbackground": true,
            "ticks": "",
            "zerolinecolor": "white"
           },
           "yaxis": {
            "backgroundcolor": "#E5ECF6",
            "gridcolor": "white",
            "gridwidth": 2,
            "linecolor": "white",
            "showbackground": true,
            "ticks": "",
            "zerolinecolor": "white"
           },
           "zaxis": {
            "backgroundcolor": "#E5ECF6",
            "gridcolor": "white",
            "gridwidth": 2,
            "linecolor": "white",
            "showbackground": true,
            "ticks": "",
            "zerolinecolor": "white"
           }
          },
          "shapedefaults": {
           "line": {
            "color": "#2a3f5f"
           }
          },
          "ternary": {
           "aaxis": {
            "gridcolor": "white",
            "linecolor": "white",
            "ticks": ""
           },
           "baxis": {
            "gridcolor": "white",
            "linecolor": "white",
            "ticks": ""
           },
           "bgcolor": "#E5ECF6",
           "caxis": {
            "gridcolor": "white",
            "linecolor": "white",
            "ticks": ""
           }
          },
          "title": {
           "x": 0.05
          },
          "xaxis": {
           "automargin": true,
           "gridcolor": "white",
           "linecolor": "white",
           "ticks": "",
           "title": {
            "standoff": 15
           },
           "zerolinecolor": "white",
           "zerolinewidth": 2
          },
          "yaxis": {
           "automargin": true,
           "gridcolor": "white",
           "linecolor": "white",
           "ticks": "",
           "title": {
            "standoff": 15
           },
           "zerolinecolor": "white",
           "zerolinewidth": 2
          }
         }
        },
        "title": {
         "text": "texture term usage rate per saliency bin for BLIP-2, caption"
        },
        "width": 1000,
        "xaxis": {
         "tickmode": "array",
         "ticktext": [
          "0-20",
          "21-40",
          "41-60",
          "61-80",
          "81-100"
         ],
         "tickvals": [
          0,
          1,
          2,
          3,
          4
         ],
         "title": {
          "text": "Texture saliency in %"
         }
        },
        "yaxis": {
         "range": [
          0,
          1
         ],
         "title": {
          "text": "Rate of using texture terms"
         }
        }
       }
      }
     },
     "metadata": {},
     "output_type": "display_data"
    },
    {
     "data": {
      "application/vnd.plotly.v1+json": {
       "config": {
        "plotlyServerURL": "https://plot.ly"
       },
       "data": [
        {
         "name": "greedy, name",
         "type": "bar",
         "x": [
          "(-0.063, 12.6]",
          "(12.6, 25.2]",
          "(25.2, 37.8]",
          "(37.8, 50.4]",
          "(50.4, 63.0]"
         ],
         "y": [
          0.23529411764705882,
          0.2,
          0.3333333333333333,
          0.5,
          0
         ]
        },
        {
         "name": "nucleus, top_p=0.1, name",
         "type": "bar",
         "x": [
          "(-0.063, 12.6]",
          "(12.6, 25.2]",
          "(25.2, 37.8]",
          "(37.8, 50.4]",
          "(50.4, 63.0]"
         ],
         "y": [
          0.23529411764705882,
          0.2,
          0.3333333333333333,
          0.5,
          0
         ]
        },
        {
         "name": "nucleus, top_p=0.5, name",
         "type": "bar",
         "x": [
          "(-0.063, 12.6]",
          "(12.6, 25.2]",
          "(25.2, 37.8]",
          "(37.8, 50.4]",
          "(50.4, 63.0]"
         ],
         "y": [
          0.3235294117647059,
          0.05,
          0,
          0.25,
          0
         ]
        },
        {
         "name": "nucleus, top_p=0.9, name",
         "type": "bar",
         "x": [
          "(-0.063, 12.6]",
          "(12.6, 25.2]",
          "(25.2, 37.8]",
          "(37.8, 50.4]",
          "(50.4, 63.0]"
         ],
         "y": [
          0.20588235294117646,
          0.15,
          0.3333333333333333,
          0.25,
          0.3333333333333333
         ]
        },
        {
         "name": "beam, num_beams=1, name",
         "type": "bar",
         "x": [
          "(-0.063, 12.6]",
          "(12.6, 25.2]",
          "(25.2, 37.8]",
          "(37.8, 50.4]",
          "(50.4, 63.0]"
         ],
         "y": [
          0.23529411764705882,
          0.2,
          0.3333333333333333,
          0.5,
          0
         ]
        },
        {
         "name": "beam, num_beams=5, name",
         "type": "bar",
         "x": [
          "(-0.063, 12.6]",
          "(12.6, 25.2]",
          "(25.2, 37.8]",
          "(37.8, 50.4]",
          "(50.4, 63.0]"
         ],
         "y": [
          0.2647058823529412,
          0.25,
          0.3333333333333333,
          0.5,
          0.3333333333333333
         ]
        },
        {
         "name": "beam, num_beams=10, name",
         "type": "bar",
         "x": [
          "(-0.063, 12.6]",
          "(12.6, 25.2]",
          "(25.2, 37.8]",
          "(37.8, 50.4]",
          "(50.4, 63.0]"
         ],
         "y": [
          0.20588235294117646,
          0.25,
          0.3333333333333333,
          0.5,
          0.3333333333333333
         ]
        }
       ],
       "layout": {
        "barmode": "group",
        "template": {
         "data": {
          "bar": [
           {
            "error_x": {
             "color": "#2a3f5f"
            },
            "error_y": {
             "color": "#2a3f5f"
            },
            "marker": {
             "line": {
              "color": "#E5ECF6",
              "width": 0.5
             },
             "pattern": {
              "fillmode": "overlay",
              "size": 10,
              "solidity": 0.2
             }
            },
            "type": "bar"
           }
          ],
          "barpolar": [
           {
            "marker": {
             "line": {
              "color": "#E5ECF6",
              "width": 0.5
             },
             "pattern": {
              "fillmode": "overlay",
              "size": 10,
              "solidity": 0.2
             }
            },
            "type": "barpolar"
           }
          ],
          "carpet": [
           {
            "aaxis": {
             "endlinecolor": "#2a3f5f",
             "gridcolor": "white",
             "linecolor": "white",
             "minorgridcolor": "white",
             "startlinecolor": "#2a3f5f"
            },
            "baxis": {
             "endlinecolor": "#2a3f5f",
             "gridcolor": "white",
             "linecolor": "white",
             "minorgridcolor": "white",
             "startlinecolor": "#2a3f5f"
            },
            "type": "carpet"
           }
          ],
          "choropleth": [
           {
            "colorbar": {
             "outlinewidth": 0,
             "ticks": ""
            },
            "type": "choropleth"
           }
          ],
          "contour": [
           {
            "colorbar": {
             "outlinewidth": 0,
             "ticks": ""
            },
            "colorscale": [
             [
              0,
              "#0d0887"
             ],
             [
              0.1111111111111111,
              "#46039f"
             ],
             [
              0.2222222222222222,
              "#7201a8"
             ],
             [
              0.3333333333333333,
              "#9c179e"
             ],
             [
              0.4444444444444444,
              "#bd3786"
             ],
             [
              0.5555555555555556,
              "#d8576b"
             ],
             [
              0.6666666666666666,
              "#ed7953"
             ],
             [
              0.7777777777777778,
              "#fb9f3a"
             ],
             [
              0.8888888888888888,
              "#fdca26"
             ],
             [
              1,
              "#f0f921"
             ]
            ],
            "type": "contour"
           }
          ],
          "contourcarpet": [
           {
            "colorbar": {
             "outlinewidth": 0,
             "ticks": ""
            },
            "type": "contourcarpet"
           }
          ],
          "heatmap": [
           {
            "colorbar": {
             "outlinewidth": 0,
             "ticks": ""
            },
            "colorscale": [
             [
              0,
              "#0d0887"
             ],
             [
              0.1111111111111111,
              "#46039f"
             ],
             [
              0.2222222222222222,
              "#7201a8"
             ],
             [
              0.3333333333333333,
              "#9c179e"
             ],
             [
              0.4444444444444444,
              "#bd3786"
             ],
             [
              0.5555555555555556,
              "#d8576b"
             ],
             [
              0.6666666666666666,
              "#ed7953"
             ],
             [
              0.7777777777777778,
              "#fb9f3a"
             ],
             [
              0.8888888888888888,
              "#fdca26"
             ],
             [
              1,
              "#f0f921"
             ]
            ],
            "type": "heatmap"
           }
          ],
          "heatmapgl": [
           {
            "colorbar": {
             "outlinewidth": 0,
             "ticks": ""
            },
            "colorscale": [
             [
              0,
              "#0d0887"
             ],
             [
              0.1111111111111111,
              "#46039f"
             ],
             [
              0.2222222222222222,
              "#7201a8"
             ],
             [
              0.3333333333333333,
              "#9c179e"
             ],
             [
              0.4444444444444444,
              "#bd3786"
             ],
             [
              0.5555555555555556,
              "#d8576b"
             ],
             [
              0.6666666666666666,
              "#ed7953"
             ],
             [
              0.7777777777777778,
              "#fb9f3a"
             ],
             [
              0.8888888888888888,
              "#fdca26"
             ],
             [
              1,
              "#f0f921"
             ]
            ],
            "type": "heatmapgl"
           }
          ],
          "histogram": [
           {
            "marker": {
             "pattern": {
              "fillmode": "overlay",
              "size": 10,
              "solidity": 0.2
             }
            },
            "type": "histogram"
           }
          ],
          "histogram2d": [
           {
            "colorbar": {
             "outlinewidth": 0,
             "ticks": ""
            },
            "colorscale": [
             [
              0,
              "#0d0887"
             ],
             [
              0.1111111111111111,
              "#46039f"
             ],
             [
              0.2222222222222222,
              "#7201a8"
             ],
             [
              0.3333333333333333,
              "#9c179e"
             ],
             [
              0.4444444444444444,
              "#bd3786"
             ],
             [
              0.5555555555555556,
              "#d8576b"
             ],
             [
              0.6666666666666666,
              "#ed7953"
             ],
             [
              0.7777777777777778,
              "#fb9f3a"
             ],
             [
              0.8888888888888888,
              "#fdca26"
             ],
             [
              1,
              "#f0f921"
             ]
            ],
            "type": "histogram2d"
           }
          ],
          "histogram2dcontour": [
           {
            "colorbar": {
             "outlinewidth": 0,
             "ticks": ""
            },
            "colorscale": [
             [
              0,
              "#0d0887"
             ],
             [
              0.1111111111111111,
              "#46039f"
             ],
             [
              0.2222222222222222,
              "#7201a8"
             ],
             [
              0.3333333333333333,
              "#9c179e"
             ],
             [
              0.4444444444444444,
              "#bd3786"
             ],
             [
              0.5555555555555556,
              "#d8576b"
             ],
             [
              0.6666666666666666,
              "#ed7953"
             ],
             [
              0.7777777777777778,
              "#fb9f3a"
             ],
             [
              0.8888888888888888,
              "#fdca26"
             ],
             [
              1,
              "#f0f921"
             ]
            ],
            "type": "histogram2dcontour"
           }
          ],
          "mesh3d": [
           {
            "colorbar": {
             "outlinewidth": 0,
             "ticks": ""
            },
            "type": "mesh3d"
           }
          ],
          "parcoords": [
           {
            "line": {
             "colorbar": {
              "outlinewidth": 0,
              "ticks": ""
             }
            },
            "type": "parcoords"
           }
          ],
          "pie": [
           {
            "automargin": true,
            "type": "pie"
           }
          ],
          "scatter": [
           {
            "fillpattern": {
             "fillmode": "overlay",
             "size": 10,
             "solidity": 0.2
            },
            "type": "scatter"
           }
          ],
          "scatter3d": [
           {
            "line": {
             "colorbar": {
              "outlinewidth": 0,
              "ticks": ""
             }
            },
            "marker": {
             "colorbar": {
              "outlinewidth": 0,
              "ticks": ""
             }
            },
            "type": "scatter3d"
           }
          ],
          "scattercarpet": [
           {
            "marker": {
             "colorbar": {
              "outlinewidth": 0,
              "ticks": ""
             }
            },
            "type": "scattercarpet"
           }
          ],
          "scattergeo": [
           {
            "marker": {
             "colorbar": {
              "outlinewidth": 0,
              "ticks": ""
             }
            },
            "type": "scattergeo"
           }
          ],
          "scattergl": [
           {
            "marker": {
             "colorbar": {
              "outlinewidth": 0,
              "ticks": ""
             }
            },
            "type": "scattergl"
           }
          ],
          "scattermapbox": [
           {
            "marker": {
             "colorbar": {
              "outlinewidth": 0,
              "ticks": ""
             }
            },
            "type": "scattermapbox"
           }
          ],
          "scatterpolar": [
           {
            "marker": {
             "colorbar": {
              "outlinewidth": 0,
              "ticks": ""
             }
            },
            "type": "scatterpolar"
           }
          ],
          "scatterpolargl": [
           {
            "marker": {
             "colorbar": {
              "outlinewidth": 0,
              "ticks": ""
             }
            },
            "type": "scatterpolargl"
           }
          ],
          "scatterternary": [
           {
            "marker": {
             "colorbar": {
              "outlinewidth": 0,
              "ticks": ""
             }
            },
            "type": "scatterternary"
           }
          ],
          "surface": [
           {
            "colorbar": {
             "outlinewidth": 0,
             "ticks": ""
            },
            "colorscale": [
             [
              0,
              "#0d0887"
             ],
             [
              0.1111111111111111,
              "#46039f"
             ],
             [
              0.2222222222222222,
              "#7201a8"
             ],
             [
              0.3333333333333333,
              "#9c179e"
             ],
             [
              0.4444444444444444,
              "#bd3786"
             ],
             [
              0.5555555555555556,
              "#d8576b"
             ],
             [
              0.6666666666666666,
              "#ed7953"
             ],
             [
              0.7777777777777778,
              "#fb9f3a"
             ],
             [
              0.8888888888888888,
              "#fdca26"
             ],
             [
              1,
              "#f0f921"
             ]
            ],
            "type": "surface"
           }
          ],
          "table": [
           {
            "cells": {
             "fill": {
              "color": "#EBF0F8"
             },
             "line": {
              "color": "white"
             }
            },
            "header": {
             "fill": {
              "color": "#C8D4E3"
             },
             "line": {
              "color": "white"
             }
            },
            "type": "table"
           }
          ]
         },
         "layout": {
          "annotationdefaults": {
           "arrowcolor": "#2a3f5f",
           "arrowhead": 0,
           "arrowwidth": 1
          },
          "autotypenumbers": "strict",
          "coloraxis": {
           "colorbar": {
            "outlinewidth": 0,
            "ticks": ""
           }
          },
          "colorscale": {
           "diverging": [
            [
             0,
             "#8e0152"
            ],
            [
             0.1,
             "#c51b7d"
            ],
            [
             0.2,
             "#de77ae"
            ],
            [
             0.3,
             "#f1b6da"
            ],
            [
             0.4,
             "#fde0ef"
            ],
            [
             0.5,
             "#f7f7f7"
            ],
            [
             0.6,
             "#e6f5d0"
            ],
            [
             0.7,
             "#b8e186"
            ],
            [
             0.8,
             "#7fbc41"
            ],
            [
             0.9,
             "#4d9221"
            ],
            [
             1,
             "#276419"
            ]
           ],
           "sequential": [
            [
             0,
             "#0d0887"
            ],
            [
             0.1111111111111111,
             "#46039f"
            ],
            [
             0.2222222222222222,
             "#7201a8"
            ],
            [
             0.3333333333333333,
             "#9c179e"
            ],
            [
             0.4444444444444444,
             "#bd3786"
            ],
            [
             0.5555555555555556,
             "#d8576b"
            ],
            [
             0.6666666666666666,
             "#ed7953"
            ],
            [
             0.7777777777777778,
             "#fb9f3a"
            ],
            [
             0.8888888888888888,
             "#fdca26"
            ],
            [
             1,
             "#f0f921"
            ]
           ],
           "sequentialminus": [
            [
             0,
             "#0d0887"
            ],
            [
             0.1111111111111111,
             "#46039f"
            ],
            [
             0.2222222222222222,
             "#7201a8"
            ],
            [
             0.3333333333333333,
             "#9c179e"
            ],
            [
             0.4444444444444444,
             "#bd3786"
            ],
            [
             0.5555555555555556,
             "#d8576b"
            ],
            [
             0.6666666666666666,
             "#ed7953"
            ],
            [
             0.7777777777777778,
             "#fb9f3a"
            ],
            [
             0.8888888888888888,
             "#fdca26"
            ],
            [
             1,
             "#f0f921"
            ]
           ]
          },
          "colorway": [
           "#636efa",
           "#EF553B",
           "#00cc96",
           "#ab63fa",
           "#FFA15A",
           "#19d3f3",
           "#FF6692",
           "#B6E880",
           "#FF97FF",
           "#FECB52"
          ],
          "font": {
           "color": "#2a3f5f"
          },
          "geo": {
           "bgcolor": "white",
           "lakecolor": "white",
           "landcolor": "#E5ECF6",
           "showlakes": true,
           "showland": true,
           "subunitcolor": "white"
          },
          "hoverlabel": {
           "align": "left"
          },
          "hovermode": "closest",
          "mapbox": {
           "style": "light"
          },
          "paper_bgcolor": "white",
          "plot_bgcolor": "#E5ECF6",
          "polar": {
           "angularaxis": {
            "gridcolor": "white",
            "linecolor": "white",
            "ticks": ""
           },
           "bgcolor": "#E5ECF6",
           "radialaxis": {
            "gridcolor": "white",
            "linecolor": "white",
            "ticks": ""
           }
          },
          "scene": {
           "xaxis": {
            "backgroundcolor": "#E5ECF6",
            "gridcolor": "white",
            "gridwidth": 2,
            "linecolor": "white",
            "showbackground": true,
            "ticks": "",
            "zerolinecolor": "white"
           },
           "yaxis": {
            "backgroundcolor": "#E5ECF6",
            "gridcolor": "white",
            "gridwidth": 2,
            "linecolor": "white",
            "showbackground": true,
            "ticks": "",
            "zerolinecolor": "white"
           },
           "zaxis": {
            "backgroundcolor": "#E5ECF6",
            "gridcolor": "white",
            "gridwidth": 2,
            "linecolor": "white",
            "showbackground": true,
            "ticks": "",
            "zerolinecolor": "white"
           }
          },
          "shapedefaults": {
           "line": {
            "color": "#2a3f5f"
           }
          },
          "ternary": {
           "aaxis": {
            "gridcolor": "white",
            "linecolor": "white",
            "ticks": ""
           },
           "baxis": {
            "gridcolor": "white",
            "linecolor": "white",
            "ticks": ""
           },
           "bgcolor": "#E5ECF6",
           "caxis": {
            "gridcolor": "white",
            "linecolor": "white",
            "ticks": ""
           }
          },
          "title": {
           "x": 0.05
          },
          "xaxis": {
           "automargin": true,
           "gridcolor": "white",
           "linecolor": "white",
           "ticks": "",
           "title": {
            "standoff": 15
           },
           "zerolinecolor": "white",
           "zerolinewidth": 2
          },
          "yaxis": {
           "automargin": true,
           "gridcolor": "white",
           "linecolor": "white",
           "ticks": "",
           "title": {
            "standoff": 15
           },
           "zerolinecolor": "white",
           "zerolinewidth": 2
          }
         }
        },
        "title": {
         "text": "texture term usage rate per saliency bin for BLIP-2, name"
        },
        "width": 1000,
        "xaxis": {
         "tickmode": "array",
         "ticktext": [
          "0-20",
          "21-40",
          "41-60",
          "61-80",
          "81-100"
         ],
         "tickvals": [
          0,
          1,
          2,
          3,
          4
         ],
         "title": {
          "text": "Texture saliency in %"
         }
        },
        "yaxis": {
         "range": [
          0,
          1
         ],
         "title": {
          "text": "Rate of using texture terms"
         }
        }
       }
      }
     },
     "metadata": {},
     "output_type": "display_data"
    },
    {
     "data": {
      "application/vnd.plotly.v1+json": {
       "config": {
        "plotlyServerURL": "https://plot.ly"
       },
       "data": [
        {
         "name": "greedy, real",
         "type": "bar",
         "x": [
          "(-0.063, 12.6]",
          "(12.6, 25.2]",
          "(25.2, 37.8]",
          "(37.8, 50.4]",
          "(50.4, 63.0]"
         ],
         "y": [
          0.5,
          0.4,
          0.3333333333333333,
          0.5,
          0.6666666666666666
         ]
        },
        {
         "name": "nucleus, top_p=0.1, real",
         "type": "bar",
         "x": [
          "(-0.063, 12.6]",
          "(12.6, 25.2]",
          "(25.2, 37.8]",
          "(37.8, 50.4]",
          "(50.4, 63.0]"
         ],
         "y": [
          0.4411764705882353,
          0.45,
          0.3333333333333333,
          0.5,
          0.6666666666666666
         ]
        },
        {
         "name": "nucleus, top_p=0.5, real",
         "type": "bar",
         "x": [
          "(-0.063, 12.6]",
          "(12.6, 25.2]",
          "(25.2, 37.8]",
          "(37.8, 50.4]",
          "(50.4, 63.0]"
         ],
         "y": [
          0.35294117647058826,
          0.25,
          0.3333333333333333,
          0.75,
          0.6666666666666666
         ]
        },
        {
         "name": "nucleus, top_p=0.9, real",
         "type": "bar",
         "x": [
          "(-0.063, 12.6]",
          "(12.6, 25.2]",
          "(25.2, 37.8]",
          "(37.8, 50.4]",
          "(50.4, 63.0]"
         ],
         "y": [
          0.2647058823529412,
          0.2,
          0.3333333333333333,
          0.5,
          0.3333333333333333
         ]
        },
        {
         "name": "beam, num_beams=1, real",
         "type": "bar",
         "x": [
          "(-0.063, 12.6]",
          "(12.6, 25.2]",
          "(25.2, 37.8]",
          "(37.8, 50.4]",
          "(50.4, 63.0]"
         ],
         "y": [
          0.5,
          0.4,
          0.3333333333333333,
          0.5,
          0.6666666666666666
         ]
        },
        {
         "name": "beam, num_beams=5, real",
         "type": "bar",
         "x": [
          "(-0.063, 12.6]",
          "(12.6, 25.2]",
          "(25.2, 37.8]",
          "(37.8, 50.4]",
          "(50.4, 63.0]"
         ],
         "y": [
          0.5294117647058824,
          0.35,
          0.3333333333333333,
          0.5,
          0.6666666666666666
         ]
        },
        {
         "name": "beam, num_beams=10, real",
         "type": "bar",
         "x": [
          "(-0.063, 12.6]",
          "(12.6, 25.2]",
          "(25.2, 37.8]",
          "(37.8, 50.4]",
          "(50.4, 63.0]"
         ],
         "y": [
          0.6176470588235294,
          0.25,
          0.3333333333333333,
          0.5,
          0.6666666666666666
         ]
        }
       ],
       "layout": {
        "barmode": "group",
        "template": {
         "data": {
          "bar": [
           {
            "error_x": {
             "color": "#2a3f5f"
            },
            "error_y": {
             "color": "#2a3f5f"
            },
            "marker": {
             "line": {
              "color": "#E5ECF6",
              "width": 0.5
             },
             "pattern": {
              "fillmode": "overlay",
              "size": 10,
              "solidity": 0.2
             }
            },
            "type": "bar"
           }
          ],
          "barpolar": [
           {
            "marker": {
             "line": {
              "color": "#E5ECF6",
              "width": 0.5
             },
             "pattern": {
              "fillmode": "overlay",
              "size": 10,
              "solidity": 0.2
             }
            },
            "type": "barpolar"
           }
          ],
          "carpet": [
           {
            "aaxis": {
             "endlinecolor": "#2a3f5f",
             "gridcolor": "white",
             "linecolor": "white",
             "minorgridcolor": "white",
             "startlinecolor": "#2a3f5f"
            },
            "baxis": {
             "endlinecolor": "#2a3f5f",
             "gridcolor": "white",
             "linecolor": "white",
             "minorgridcolor": "white",
             "startlinecolor": "#2a3f5f"
            },
            "type": "carpet"
           }
          ],
          "choropleth": [
           {
            "colorbar": {
             "outlinewidth": 0,
             "ticks": ""
            },
            "type": "choropleth"
           }
          ],
          "contour": [
           {
            "colorbar": {
             "outlinewidth": 0,
             "ticks": ""
            },
            "colorscale": [
             [
              0,
              "#0d0887"
             ],
             [
              0.1111111111111111,
              "#46039f"
             ],
             [
              0.2222222222222222,
              "#7201a8"
             ],
             [
              0.3333333333333333,
              "#9c179e"
             ],
             [
              0.4444444444444444,
              "#bd3786"
             ],
             [
              0.5555555555555556,
              "#d8576b"
             ],
             [
              0.6666666666666666,
              "#ed7953"
             ],
             [
              0.7777777777777778,
              "#fb9f3a"
             ],
             [
              0.8888888888888888,
              "#fdca26"
             ],
             [
              1,
              "#f0f921"
             ]
            ],
            "type": "contour"
           }
          ],
          "contourcarpet": [
           {
            "colorbar": {
             "outlinewidth": 0,
             "ticks": ""
            },
            "type": "contourcarpet"
           }
          ],
          "heatmap": [
           {
            "colorbar": {
             "outlinewidth": 0,
             "ticks": ""
            },
            "colorscale": [
             [
              0,
              "#0d0887"
             ],
             [
              0.1111111111111111,
              "#46039f"
             ],
             [
              0.2222222222222222,
              "#7201a8"
             ],
             [
              0.3333333333333333,
              "#9c179e"
             ],
             [
              0.4444444444444444,
              "#bd3786"
             ],
             [
              0.5555555555555556,
              "#d8576b"
             ],
             [
              0.6666666666666666,
              "#ed7953"
             ],
             [
              0.7777777777777778,
              "#fb9f3a"
             ],
             [
              0.8888888888888888,
              "#fdca26"
             ],
             [
              1,
              "#f0f921"
             ]
            ],
            "type": "heatmap"
           }
          ],
          "heatmapgl": [
           {
            "colorbar": {
             "outlinewidth": 0,
             "ticks": ""
            },
            "colorscale": [
             [
              0,
              "#0d0887"
             ],
             [
              0.1111111111111111,
              "#46039f"
             ],
             [
              0.2222222222222222,
              "#7201a8"
             ],
             [
              0.3333333333333333,
              "#9c179e"
             ],
             [
              0.4444444444444444,
              "#bd3786"
             ],
             [
              0.5555555555555556,
              "#d8576b"
             ],
             [
              0.6666666666666666,
              "#ed7953"
             ],
             [
              0.7777777777777778,
              "#fb9f3a"
             ],
             [
              0.8888888888888888,
              "#fdca26"
             ],
             [
              1,
              "#f0f921"
             ]
            ],
            "type": "heatmapgl"
           }
          ],
          "histogram": [
           {
            "marker": {
             "pattern": {
              "fillmode": "overlay",
              "size": 10,
              "solidity": 0.2
             }
            },
            "type": "histogram"
           }
          ],
          "histogram2d": [
           {
            "colorbar": {
             "outlinewidth": 0,
             "ticks": ""
            },
            "colorscale": [
             [
              0,
              "#0d0887"
             ],
             [
              0.1111111111111111,
              "#46039f"
             ],
             [
              0.2222222222222222,
              "#7201a8"
             ],
             [
              0.3333333333333333,
              "#9c179e"
             ],
             [
              0.4444444444444444,
              "#bd3786"
             ],
             [
              0.5555555555555556,
              "#d8576b"
             ],
             [
              0.6666666666666666,
              "#ed7953"
             ],
             [
              0.7777777777777778,
              "#fb9f3a"
             ],
             [
              0.8888888888888888,
              "#fdca26"
             ],
             [
              1,
              "#f0f921"
             ]
            ],
            "type": "histogram2d"
           }
          ],
          "histogram2dcontour": [
           {
            "colorbar": {
             "outlinewidth": 0,
             "ticks": ""
            },
            "colorscale": [
             [
              0,
              "#0d0887"
             ],
             [
              0.1111111111111111,
              "#46039f"
             ],
             [
              0.2222222222222222,
              "#7201a8"
             ],
             [
              0.3333333333333333,
              "#9c179e"
             ],
             [
              0.4444444444444444,
              "#bd3786"
             ],
             [
              0.5555555555555556,
              "#d8576b"
             ],
             [
              0.6666666666666666,
              "#ed7953"
             ],
             [
              0.7777777777777778,
              "#fb9f3a"
             ],
             [
              0.8888888888888888,
              "#fdca26"
             ],
             [
              1,
              "#f0f921"
             ]
            ],
            "type": "histogram2dcontour"
           }
          ],
          "mesh3d": [
           {
            "colorbar": {
             "outlinewidth": 0,
             "ticks": ""
            },
            "type": "mesh3d"
           }
          ],
          "parcoords": [
           {
            "line": {
             "colorbar": {
              "outlinewidth": 0,
              "ticks": ""
             }
            },
            "type": "parcoords"
           }
          ],
          "pie": [
           {
            "automargin": true,
            "type": "pie"
           }
          ],
          "scatter": [
           {
            "fillpattern": {
             "fillmode": "overlay",
             "size": 10,
             "solidity": 0.2
            },
            "type": "scatter"
           }
          ],
          "scatter3d": [
           {
            "line": {
             "colorbar": {
              "outlinewidth": 0,
              "ticks": ""
             }
            },
            "marker": {
             "colorbar": {
              "outlinewidth": 0,
              "ticks": ""
             }
            },
            "type": "scatter3d"
           }
          ],
          "scattercarpet": [
           {
            "marker": {
             "colorbar": {
              "outlinewidth": 0,
              "ticks": ""
             }
            },
            "type": "scattercarpet"
           }
          ],
          "scattergeo": [
           {
            "marker": {
             "colorbar": {
              "outlinewidth": 0,
              "ticks": ""
             }
            },
            "type": "scattergeo"
           }
          ],
          "scattergl": [
           {
            "marker": {
             "colorbar": {
              "outlinewidth": 0,
              "ticks": ""
             }
            },
            "type": "scattergl"
           }
          ],
          "scattermapbox": [
           {
            "marker": {
             "colorbar": {
              "outlinewidth": 0,
              "ticks": ""
             }
            },
            "type": "scattermapbox"
           }
          ],
          "scatterpolar": [
           {
            "marker": {
             "colorbar": {
              "outlinewidth": 0,
              "ticks": ""
             }
            },
            "type": "scatterpolar"
           }
          ],
          "scatterpolargl": [
           {
            "marker": {
             "colorbar": {
              "outlinewidth": 0,
              "ticks": ""
             }
            },
            "type": "scatterpolargl"
           }
          ],
          "scatterternary": [
           {
            "marker": {
             "colorbar": {
              "outlinewidth": 0,
              "ticks": ""
             }
            },
            "type": "scatterternary"
           }
          ],
          "surface": [
           {
            "colorbar": {
             "outlinewidth": 0,
             "ticks": ""
            },
            "colorscale": [
             [
              0,
              "#0d0887"
             ],
             [
              0.1111111111111111,
              "#46039f"
             ],
             [
              0.2222222222222222,
              "#7201a8"
             ],
             [
              0.3333333333333333,
              "#9c179e"
             ],
             [
              0.4444444444444444,
              "#bd3786"
             ],
             [
              0.5555555555555556,
              "#d8576b"
             ],
             [
              0.6666666666666666,
              "#ed7953"
             ],
             [
              0.7777777777777778,
              "#fb9f3a"
             ],
             [
              0.8888888888888888,
              "#fdca26"
             ],
             [
              1,
              "#f0f921"
             ]
            ],
            "type": "surface"
           }
          ],
          "table": [
           {
            "cells": {
             "fill": {
              "color": "#EBF0F8"
             },
             "line": {
              "color": "white"
             }
            },
            "header": {
             "fill": {
              "color": "#C8D4E3"
             },
             "line": {
              "color": "white"
             }
            },
            "type": "table"
           }
          ]
         },
         "layout": {
          "annotationdefaults": {
           "arrowcolor": "#2a3f5f",
           "arrowhead": 0,
           "arrowwidth": 1
          },
          "autotypenumbers": "strict",
          "coloraxis": {
           "colorbar": {
            "outlinewidth": 0,
            "ticks": ""
           }
          },
          "colorscale": {
           "diverging": [
            [
             0,
             "#8e0152"
            ],
            [
             0.1,
             "#c51b7d"
            ],
            [
             0.2,
             "#de77ae"
            ],
            [
             0.3,
             "#f1b6da"
            ],
            [
             0.4,
             "#fde0ef"
            ],
            [
             0.5,
             "#f7f7f7"
            ],
            [
             0.6,
             "#e6f5d0"
            ],
            [
             0.7,
             "#b8e186"
            ],
            [
             0.8,
             "#7fbc41"
            ],
            [
             0.9,
             "#4d9221"
            ],
            [
             1,
             "#276419"
            ]
           ],
           "sequential": [
            [
             0,
             "#0d0887"
            ],
            [
             0.1111111111111111,
             "#46039f"
            ],
            [
             0.2222222222222222,
             "#7201a8"
            ],
            [
             0.3333333333333333,
             "#9c179e"
            ],
            [
             0.4444444444444444,
             "#bd3786"
            ],
            [
             0.5555555555555556,
             "#d8576b"
            ],
            [
             0.6666666666666666,
             "#ed7953"
            ],
            [
             0.7777777777777778,
             "#fb9f3a"
            ],
            [
             0.8888888888888888,
             "#fdca26"
            ],
            [
             1,
             "#f0f921"
            ]
           ],
           "sequentialminus": [
            [
             0,
             "#0d0887"
            ],
            [
             0.1111111111111111,
             "#46039f"
            ],
            [
             0.2222222222222222,
             "#7201a8"
            ],
            [
             0.3333333333333333,
             "#9c179e"
            ],
            [
             0.4444444444444444,
             "#bd3786"
            ],
            [
             0.5555555555555556,
             "#d8576b"
            ],
            [
             0.6666666666666666,
             "#ed7953"
            ],
            [
             0.7777777777777778,
             "#fb9f3a"
            ],
            [
             0.8888888888888888,
             "#fdca26"
            ],
            [
             1,
             "#f0f921"
            ]
           ]
          },
          "colorway": [
           "#636efa",
           "#EF553B",
           "#00cc96",
           "#ab63fa",
           "#FFA15A",
           "#19d3f3",
           "#FF6692",
           "#B6E880",
           "#FF97FF",
           "#FECB52"
          ],
          "font": {
           "color": "#2a3f5f"
          },
          "geo": {
           "bgcolor": "white",
           "lakecolor": "white",
           "landcolor": "#E5ECF6",
           "showlakes": true,
           "showland": true,
           "subunitcolor": "white"
          },
          "hoverlabel": {
           "align": "left"
          },
          "hovermode": "closest",
          "mapbox": {
           "style": "light"
          },
          "paper_bgcolor": "white",
          "plot_bgcolor": "#E5ECF6",
          "polar": {
           "angularaxis": {
            "gridcolor": "white",
            "linecolor": "white",
            "ticks": ""
           },
           "bgcolor": "#E5ECF6",
           "radialaxis": {
            "gridcolor": "white",
            "linecolor": "white",
            "ticks": ""
           }
          },
          "scene": {
           "xaxis": {
            "backgroundcolor": "#E5ECF6",
            "gridcolor": "white",
            "gridwidth": 2,
            "linecolor": "white",
            "showbackground": true,
            "ticks": "",
            "zerolinecolor": "white"
           },
           "yaxis": {
            "backgroundcolor": "#E5ECF6",
            "gridcolor": "white",
            "gridwidth": 2,
            "linecolor": "white",
            "showbackground": true,
            "ticks": "",
            "zerolinecolor": "white"
           },
           "zaxis": {
            "backgroundcolor": "#E5ECF6",
            "gridcolor": "white",
            "gridwidth": 2,
            "linecolor": "white",
            "showbackground": true,
            "ticks": "",
            "zerolinecolor": "white"
           }
          },
          "shapedefaults": {
           "line": {
            "color": "#2a3f5f"
           }
          },
          "ternary": {
           "aaxis": {
            "gridcolor": "white",
            "linecolor": "white",
            "ticks": ""
           },
           "baxis": {
            "gridcolor": "white",
            "linecolor": "white",
            "ticks": ""
           },
           "bgcolor": "#E5ECF6",
           "caxis": {
            "gridcolor": "white",
            "linecolor": "white",
            "ticks": ""
           }
          },
          "title": {
           "x": 0.05
          },
          "xaxis": {
           "automargin": true,
           "gridcolor": "white",
           "linecolor": "white",
           "ticks": "",
           "title": {
            "standoff": 15
           },
           "zerolinecolor": "white",
           "zerolinewidth": 2
          },
          "yaxis": {
           "automargin": true,
           "gridcolor": "white",
           "linecolor": "white",
           "ticks": "",
           "title": {
            "standoff": 15
           },
           "zerolinecolor": "white",
           "zerolinewidth": 2
          }
         }
        },
        "title": {
         "text": "texture term usage rate per saliency bin for BLIP-2, real"
        },
        "width": 1000,
        "xaxis": {
         "tickmode": "array",
         "ticktext": [
          "0-20",
          "21-40",
          "41-60",
          "61-80",
          "81-100"
         ],
         "tickvals": [
          0,
          1,
          2,
          3,
          4
         ],
         "title": {
          "text": "Texture saliency in %"
         }
        },
        "yaxis": {
         "range": [
          0,
          1
         ],
         "title": {
          "text": "Rate of using texture terms"
         }
        }
       }
      }
     },
     "metadata": {},
     "output_type": "display_data"
    }
   ],
   "source": [
    "import visualizations\n",
    "import importlib\n",
    "importlib.reload(visualizations)\n",
    "from visualizations import visualize_saliency\n",
    "\n",
    "figs = visualize_saliency(data, 'texture')\n",
    "\n",
    "for fig in figs:\n",
    "    fig.show()"
   ]
  },
  {
   "cell_type": "code",
   "execution_count": 60,
   "metadata": {},
   "outputs": [
    {
     "data": {
      "application/vnd.plotly.v1+json": {
       "config": {
        "plotlyServerURL": "https://plot.ly"
       },
       "data": [
        {
         "name": "Length Greedy",
         "type": "bar",
         "x": [
          2001,
          2002,
          2003,
          2004,
          2005,
          2006,
          2007,
          2008,
          2009,
          2010,
          2011,
          2012,
          2013,
          2014,
          2015,
          2016,
          2017,
          2018,
          2019,
          2020,
          2021,
          2022,
          2023,
          2024,
          2025,
          2026,
          2027,
          2028,
          2029,
          2030,
          2031,
          2032,
          2033,
          2034,
          2035,
          2036,
          2037,
          2038,
          2039,
          2040,
          2041,
          2042,
          2043,
          2044,
          2045,
          2046,
          2047,
          2048,
          2049,
          2050,
          2051,
          2052,
          2053,
          2054,
          2055,
          2056,
          2057,
          2058,
          2059,
          2060,
          2061,
          2062,
          2063,
          2064
         ],
         "y": [
          10,
          8,
          10,
          8,
          7,
          10,
          7,
          7,
          9,
          8,
          9,
          7,
          9,
          9,
          10,
          9,
          9,
          7,
          10,
          9,
          9,
          8,
          11,
          15,
          9,
          10,
          9,
          9,
          10,
          9,
          7,
          11,
          9,
          10,
          10,
          10,
          9,
          10,
          9,
          8,
          8,
          7,
          8,
          9,
          8,
          12,
          10,
          10,
          10,
          8,
          10,
          10,
          10,
          11,
          7,
          12,
          11,
          6,
          10,
          8,
          8,
          8,
          8,
          7
         ]
        },
        {
         "name": "Length Nucleus",
         "type": "bar",
         "x": [
          2001,
          2002,
          2003,
          2004,
          2005,
          2006,
          2007,
          2008,
          2009,
          2010,
          2011,
          2012,
          2013,
          2014,
          2015,
          2016,
          2017,
          2018,
          2019,
          2020,
          2021,
          2022,
          2023,
          2024,
          2025,
          2026,
          2027,
          2028,
          2029,
          2030,
          2031,
          2032,
          2033,
          2034,
          2035,
          2036,
          2037,
          2038,
          2039,
          2040,
          2041,
          2042,
          2043,
          2044,
          2045,
          2046,
          2047,
          2048,
          2049,
          2050,
          2051,
          2052,
          2053,
          2054,
          2055,
          2056,
          2057,
          2058,
          2059,
          2060,
          2061,
          2062,
          2063,
          2064
         ],
         "y": [
          5,
          8,
          11,
          5,
          8,
          11,
          10,
          8,
          13,
          12,
          9,
          7,
          7,
          4,
          9,
          10,
          9,
          12,
          13,
          6,
          14,
          9,
          8,
          5,
          9,
          5,
          9,
          8,
          10,
          11,
          9,
          11,
          8,
          12,
          10,
          17,
          9,
          15,
          10,
          10,
          13,
          7,
          8,
          11,
          9,
          12,
          7,
          10,
          12,
          4,
          4,
          9,
          9,
          4,
          8,
          6,
          9,
          8,
          8,
          12,
          10,
          10,
          3,
          8
         ]
        },
        {
         "name": "Length Beam",
         "type": "bar",
         "x": [
          2001,
          2002,
          2003,
          2004,
          2005,
          2006,
          2007,
          2008,
          2009,
          2010,
          2011,
          2012,
          2013,
          2014,
          2015,
          2016,
          2017,
          2018,
          2019,
          2020,
          2021,
          2022,
          2023,
          2024,
          2025,
          2026,
          2027,
          2028,
          2029,
          2030,
          2031,
          2032,
          2033,
          2034,
          2035,
          2036,
          2037,
          2038,
          2039,
          2040,
          2041,
          2042,
          2043,
          2044,
          2045,
          2046,
          2047,
          2048,
          2049,
          2050,
          2051,
          2052,
          2053,
          2054,
          2055,
          2056,
          2057,
          2058,
          2059,
          2060,
          2061,
          2062,
          2063,
          2064
         ],
         "y": [
          10,
          8,
          10,
          12,
          14,
          10,
          11,
          12,
          8,
          9,
          9,
          11,
          10,
          9,
          9,
          10,
          12,
          11,
          10,
          9,
          11,
          11,
          12,
          12,
          10,
          11,
          8,
          10,
          12,
          9,
          7,
          9,
          8,
          10,
          9,
          12,
          9,
          9,
          10,
          8,
          10,
          10,
          9,
          10,
          9,
          11,
          10,
          10,
          7,
          9,
          10,
          8,
          11,
          11,
          7,
          12,
          11,
          10,
          11,
          14,
          9,
          8,
          12,
          8
         ]
        }
       ],
       "layout": {
        "bargap": 0.1,
        "bargroupgap": 0.3,
        "barmode": "group",
        "template": {
         "data": {
          "bar": [
           {
            "error_x": {
             "color": "#2a3f5f"
            },
            "error_y": {
             "color": "#2a3f5f"
            },
            "marker": {
             "line": {
              "color": "#E5ECF6",
              "width": 0.5
             },
             "pattern": {
              "fillmode": "overlay",
              "size": 10,
              "solidity": 0.2
             }
            },
            "type": "bar"
           }
          ],
          "barpolar": [
           {
            "marker": {
             "line": {
              "color": "#E5ECF6",
              "width": 0.5
             },
             "pattern": {
              "fillmode": "overlay",
              "size": 10,
              "solidity": 0.2
             }
            },
            "type": "barpolar"
           }
          ],
          "carpet": [
           {
            "aaxis": {
             "endlinecolor": "#2a3f5f",
             "gridcolor": "white",
             "linecolor": "white",
             "minorgridcolor": "white",
             "startlinecolor": "#2a3f5f"
            },
            "baxis": {
             "endlinecolor": "#2a3f5f",
             "gridcolor": "white",
             "linecolor": "white",
             "minorgridcolor": "white",
             "startlinecolor": "#2a3f5f"
            },
            "type": "carpet"
           }
          ],
          "choropleth": [
           {
            "colorbar": {
             "outlinewidth": 0,
             "ticks": ""
            },
            "type": "choropleth"
           }
          ],
          "contour": [
           {
            "colorbar": {
             "outlinewidth": 0,
             "ticks": ""
            },
            "colorscale": [
             [
              0,
              "#0d0887"
             ],
             [
              0.1111111111111111,
              "#46039f"
             ],
             [
              0.2222222222222222,
              "#7201a8"
             ],
             [
              0.3333333333333333,
              "#9c179e"
             ],
             [
              0.4444444444444444,
              "#bd3786"
             ],
             [
              0.5555555555555556,
              "#d8576b"
             ],
             [
              0.6666666666666666,
              "#ed7953"
             ],
             [
              0.7777777777777778,
              "#fb9f3a"
             ],
             [
              0.8888888888888888,
              "#fdca26"
             ],
             [
              1,
              "#f0f921"
             ]
            ],
            "type": "contour"
           }
          ],
          "contourcarpet": [
           {
            "colorbar": {
             "outlinewidth": 0,
             "ticks": ""
            },
            "type": "contourcarpet"
           }
          ],
          "heatmap": [
           {
            "colorbar": {
             "outlinewidth": 0,
             "ticks": ""
            },
            "colorscale": [
             [
              0,
              "#0d0887"
             ],
             [
              0.1111111111111111,
              "#46039f"
             ],
             [
              0.2222222222222222,
              "#7201a8"
             ],
             [
              0.3333333333333333,
              "#9c179e"
             ],
             [
              0.4444444444444444,
              "#bd3786"
             ],
             [
              0.5555555555555556,
              "#d8576b"
             ],
             [
              0.6666666666666666,
              "#ed7953"
             ],
             [
              0.7777777777777778,
              "#fb9f3a"
             ],
             [
              0.8888888888888888,
              "#fdca26"
             ],
             [
              1,
              "#f0f921"
             ]
            ],
            "type": "heatmap"
           }
          ],
          "heatmapgl": [
           {
            "colorbar": {
             "outlinewidth": 0,
             "ticks": ""
            },
            "colorscale": [
             [
              0,
              "#0d0887"
             ],
             [
              0.1111111111111111,
              "#46039f"
             ],
             [
              0.2222222222222222,
              "#7201a8"
             ],
             [
              0.3333333333333333,
              "#9c179e"
             ],
             [
              0.4444444444444444,
              "#bd3786"
             ],
             [
              0.5555555555555556,
              "#d8576b"
             ],
             [
              0.6666666666666666,
              "#ed7953"
             ],
             [
              0.7777777777777778,
              "#fb9f3a"
             ],
             [
              0.8888888888888888,
              "#fdca26"
             ],
             [
              1,
              "#f0f921"
             ]
            ],
            "type": "heatmapgl"
           }
          ],
          "histogram": [
           {
            "marker": {
             "pattern": {
              "fillmode": "overlay",
              "size": 10,
              "solidity": 0.2
             }
            },
            "type": "histogram"
           }
          ],
          "histogram2d": [
           {
            "colorbar": {
             "outlinewidth": 0,
             "ticks": ""
            },
            "colorscale": [
             [
              0,
              "#0d0887"
             ],
             [
              0.1111111111111111,
              "#46039f"
             ],
             [
              0.2222222222222222,
              "#7201a8"
             ],
             [
              0.3333333333333333,
              "#9c179e"
             ],
             [
              0.4444444444444444,
              "#bd3786"
             ],
             [
              0.5555555555555556,
              "#d8576b"
             ],
             [
              0.6666666666666666,
              "#ed7953"
             ],
             [
              0.7777777777777778,
              "#fb9f3a"
             ],
             [
              0.8888888888888888,
              "#fdca26"
             ],
             [
              1,
              "#f0f921"
             ]
            ],
            "type": "histogram2d"
           }
          ],
          "histogram2dcontour": [
           {
            "colorbar": {
             "outlinewidth": 0,
             "ticks": ""
            },
            "colorscale": [
             [
              0,
              "#0d0887"
             ],
             [
              0.1111111111111111,
              "#46039f"
             ],
             [
              0.2222222222222222,
              "#7201a8"
             ],
             [
              0.3333333333333333,
              "#9c179e"
             ],
             [
              0.4444444444444444,
              "#bd3786"
             ],
             [
              0.5555555555555556,
              "#d8576b"
             ],
             [
              0.6666666666666666,
              "#ed7953"
             ],
             [
              0.7777777777777778,
              "#fb9f3a"
             ],
             [
              0.8888888888888888,
              "#fdca26"
             ],
             [
              1,
              "#f0f921"
             ]
            ],
            "type": "histogram2dcontour"
           }
          ],
          "mesh3d": [
           {
            "colorbar": {
             "outlinewidth": 0,
             "ticks": ""
            },
            "type": "mesh3d"
           }
          ],
          "parcoords": [
           {
            "line": {
             "colorbar": {
              "outlinewidth": 0,
              "ticks": ""
             }
            },
            "type": "parcoords"
           }
          ],
          "pie": [
           {
            "automargin": true,
            "type": "pie"
           }
          ],
          "scatter": [
           {
            "fillpattern": {
             "fillmode": "overlay",
             "size": 10,
             "solidity": 0.2
            },
            "type": "scatter"
           }
          ],
          "scatter3d": [
           {
            "line": {
             "colorbar": {
              "outlinewidth": 0,
              "ticks": ""
             }
            },
            "marker": {
             "colorbar": {
              "outlinewidth": 0,
              "ticks": ""
             }
            },
            "type": "scatter3d"
           }
          ],
          "scattercarpet": [
           {
            "marker": {
             "colorbar": {
              "outlinewidth": 0,
              "ticks": ""
             }
            },
            "type": "scattercarpet"
           }
          ],
          "scattergeo": [
           {
            "marker": {
             "colorbar": {
              "outlinewidth": 0,
              "ticks": ""
             }
            },
            "type": "scattergeo"
           }
          ],
          "scattergl": [
           {
            "marker": {
             "colorbar": {
              "outlinewidth": 0,
              "ticks": ""
             }
            },
            "type": "scattergl"
           }
          ],
          "scattermapbox": [
           {
            "marker": {
             "colorbar": {
              "outlinewidth": 0,
              "ticks": ""
             }
            },
            "type": "scattermapbox"
           }
          ],
          "scatterpolar": [
           {
            "marker": {
             "colorbar": {
              "outlinewidth": 0,
              "ticks": ""
             }
            },
            "type": "scatterpolar"
           }
          ],
          "scatterpolargl": [
           {
            "marker": {
             "colorbar": {
              "outlinewidth": 0,
              "ticks": ""
             }
            },
            "type": "scatterpolargl"
           }
          ],
          "scatterternary": [
           {
            "marker": {
             "colorbar": {
              "outlinewidth": 0,
              "ticks": ""
             }
            },
            "type": "scatterternary"
           }
          ],
          "surface": [
           {
            "colorbar": {
             "outlinewidth": 0,
             "ticks": ""
            },
            "colorscale": [
             [
              0,
              "#0d0887"
             ],
             [
              0.1111111111111111,
              "#46039f"
             ],
             [
              0.2222222222222222,
              "#7201a8"
             ],
             [
              0.3333333333333333,
              "#9c179e"
             ],
             [
              0.4444444444444444,
              "#bd3786"
             ],
             [
              0.5555555555555556,
              "#d8576b"
             ],
             [
              0.6666666666666666,
              "#ed7953"
             ],
             [
              0.7777777777777778,
              "#fb9f3a"
             ],
             [
              0.8888888888888888,
              "#fdca26"
             ],
             [
              1,
              "#f0f921"
             ]
            ],
            "type": "surface"
           }
          ],
          "table": [
           {
            "cells": {
             "fill": {
              "color": "#EBF0F8"
             },
             "line": {
              "color": "white"
             }
            },
            "header": {
             "fill": {
              "color": "#C8D4E3"
             },
             "line": {
              "color": "white"
             }
            },
            "type": "table"
           }
          ]
         },
         "layout": {
          "annotationdefaults": {
           "arrowcolor": "#2a3f5f",
           "arrowhead": 0,
           "arrowwidth": 1
          },
          "autotypenumbers": "strict",
          "coloraxis": {
           "colorbar": {
            "outlinewidth": 0,
            "ticks": ""
           }
          },
          "colorscale": {
           "diverging": [
            [
             0,
             "#8e0152"
            ],
            [
             0.1,
             "#c51b7d"
            ],
            [
             0.2,
             "#de77ae"
            ],
            [
             0.3,
             "#f1b6da"
            ],
            [
             0.4,
             "#fde0ef"
            ],
            [
             0.5,
             "#f7f7f7"
            ],
            [
             0.6,
             "#e6f5d0"
            ],
            [
             0.7,
             "#b8e186"
            ],
            [
             0.8,
             "#7fbc41"
            ],
            [
             0.9,
             "#4d9221"
            ],
            [
             1,
             "#276419"
            ]
           ],
           "sequential": [
            [
             0,
             "#0d0887"
            ],
            [
             0.1111111111111111,
             "#46039f"
            ],
            [
             0.2222222222222222,
             "#7201a8"
            ],
            [
             0.3333333333333333,
             "#9c179e"
            ],
            [
             0.4444444444444444,
             "#bd3786"
            ],
            [
             0.5555555555555556,
             "#d8576b"
            ],
            [
             0.6666666666666666,
             "#ed7953"
            ],
            [
             0.7777777777777778,
             "#fb9f3a"
            ],
            [
             0.8888888888888888,
             "#fdca26"
            ],
            [
             1,
             "#f0f921"
            ]
           ],
           "sequentialminus": [
            [
             0,
             "#0d0887"
            ],
            [
             0.1111111111111111,
             "#46039f"
            ],
            [
             0.2222222222222222,
             "#7201a8"
            ],
            [
             0.3333333333333333,
             "#9c179e"
            ],
            [
             0.4444444444444444,
             "#bd3786"
            ],
            [
             0.5555555555555556,
             "#d8576b"
            ],
            [
             0.6666666666666666,
             "#ed7953"
            ],
            [
             0.7777777777777778,
             "#fb9f3a"
            ],
            [
             0.8888888888888888,
             "#fdca26"
            ],
            [
             1,
             "#f0f921"
            ]
           ]
          },
          "colorway": [
           "#636efa",
           "#EF553B",
           "#00cc96",
           "#ab63fa",
           "#FFA15A",
           "#19d3f3",
           "#FF6692",
           "#B6E880",
           "#FF97FF",
           "#FECB52"
          ],
          "font": {
           "color": "#2a3f5f"
          },
          "geo": {
           "bgcolor": "white",
           "lakecolor": "white",
           "landcolor": "#E5ECF6",
           "showlakes": true,
           "showland": true,
           "subunitcolor": "white"
          },
          "hoverlabel": {
           "align": "left"
          },
          "hovermode": "closest",
          "mapbox": {
           "style": "light"
          },
          "paper_bgcolor": "white",
          "plot_bgcolor": "#E5ECF6",
          "polar": {
           "angularaxis": {
            "gridcolor": "white",
            "linecolor": "white",
            "ticks": ""
           },
           "bgcolor": "#E5ECF6",
           "radialaxis": {
            "gridcolor": "white",
            "linecolor": "white",
            "ticks": ""
           }
          },
          "scene": {
           "xaxis": {
            "backgroundcolor": "#E5ECF6",
            "gridcolor": "white",
            "gridwidth": 2,
            "linecolor": "white",
            "showbackground": true,
            "ticks": "",
            "zerolinecolor": "white"
           },
           "yaxis": {
            "backgroundcolor": "#E5ECF6",
            "gridcolor": "white",
            "gridwidth": 2,
            "linecolor": "white",
            "showbackground": true,
            "ticks": "",
            "zerolinecolor": "white"
           },
           "zaxis": {
            "backgroundcolor": "#E5ECF6",
            "gridcolor": "white",
            "gridwidth": 2,
            "linecolor": "white",
            "showbackground": true,
            "ticks": "",
            "zerolinecolor": "white"
           }
          },
          "shapedefaults": {
           "line": {
            "color": "#2a3f5f"
           }
          },
          "ternary": {
           "aaxis": {
            "gridcolor": "white",
            "linecolor": "white",
            "ticks": ""
           },
           "baxis": {
            "gridcolor": "white",
            "linecolor": "white",
            "ticks": ""
           },
           "bgcolor": "#E5ECF6",
           "caxis": {
            "gridcolor": "white",
            "linecolor": "white",
            "ticks": ""
           }
          },
          "title": {
           "x": 0.05
          },
          "xaxis": {
           "automargin": true,
           "gridcolor": "white",
           "linecolor": "white",
           "ticks": "",
           "title": {
            "standoff": 15
           },
           "zerolinecolor": "white",
           "zerolinewidth": 2
          },
          "yaxis": {
           "automargin": true,
           "gridcolor": "white",
           "linecolor": "white",
           "ticks": "",
           "title": {
            "standoff": 15
           },
           "zerolinecolor": "white",
           "zerolinewidth": 2
          }
         }
        },
        "title": {
         "text": "Grouped Bar Chart of token lengths"
        },
        "width": 1000,
        "xaxis": {
         "title": {
          "text": "Object label"
         }
        },
        "yaxis": {
         "title": {
          "text": "Token length"
         }
        }
       }
      },
      "text/html": [
       "<div>                            <div id=\"9b661ec3-bb5d-47fe-b74a-33cc8bdde25d\" class=\"plotly-graph-div\" style=\"height:525px; width:1000px;\"></div>            <script type=\"text/javascript\">                require([\"plotly\"], function(Plotly) {                    window.PLOTLYENV=window.PLOTLYENV || {};                                    if (document.getElementById(\"9b661ec3-bb5d-47fe-b74a-33cc8bdde25d\")) {                    Plotly.newPlot(                        \"9b661ec3-bb5d-47fe-b74a-33cc8bdde25d\",                        [{\"name\":\"Length Greedy\",\"x\":[2001,2002,2003,2004,2005,2006,2007,2008,2009,2010,2011,2012,2013,2014,2015,2016,2017,2018,2019,2020,2021,2022,2023,2024,2025,2026,2027,2028,2029,2030,2031,2032,2033,2034,2035,2036,2037,2038,2039,2040,2041,2042,2043,2044,2045,2046,2047,2048,2049,2050,2051,2052,2053,2054,2055,2056,2057,2058,2059,2060,2061,2062,2063,2064],\"y\":[10,8,10,8,7,10,7,7,9,8,9,7,9,9,10,9,9,7,10,9,9,8,11,15,9,10,9,9,10,9,7,11,9,10,10,10,9,10,9,8,8,7,8,9,8,12,10,10,10,8,10,10,10,11,7,12,11,6,10,8,8,8,8,7],\"type\":\"bar\"},{\"name\":\"Length Nucleus\",\"x\":[2001,2002,2003,2004,2005,2006,2007,2008,2009,2010,2011,2012,2013,2014,2015,2016,2017,2018,2019,2020,2021,2022,2023,2024,2025,2026,2027,2028,2029,2030,2031,2032,2033,2034,2035,2036,2037,2038,2039,2040,2041,2042,2043,2044,2045,2046,2047,2048,2049,2050,2051,2052,2053,2054,2055,2056,2057,2058,2059,2060,2061,2062,2063,2064],\"y\":[5,8,11,5,8,11,10,8,13,12,9,7,7,4,9,10,9,12,13,6,14,9,8,5,9,5,9,8,10,11,9,11,8,12,10,17,9,15,10,10,13,7,8,11,9,12,7,10,12,4,4,9,9,4,8,6,9,8,8,12,10,10,3,8],\"type\":\"bar\"},{\"name\":\"Length Beam\",\"x\":[2001,2002,2003,2004,2005,2006,2007,2008,2009,2010,2011,2012,2013,2014,2015,2016,2017,2018,2019,2020,2021,2022,2023,2024,2025,2026,2027,2028,2029,2030,2031,2032,2033,2034,2035,2036,2037,2038,2039,2040,2041,2042,2043,2044,2045,2046,2047,2048,2049,2050,2051,2052,2053,2054,2055,2056,2057,2058,2059,2060,2061,2062,2063,2064],\"y\":[10,8,10,12,14,10,11,12,8,9,9,11,10,9,9,10,12,11,10,9,11,11,12,12,10,11,8,10,12,9,7,9,8,10,9,12,9,9,10,8,10,10,9,10,9,11,10,10,7,9,10,8,11,11,7,12,11,10,11,14,9,8,12,8],\"type\":\"bar\"}],                        {\"template\":{\"data\":{\"histogram2dcontour\":[{\"type\":\"histogram2dcontour\",\"colorbar\":{\"outlinewidth\":0,\"ticks\":\"\"},\"colorscale\":[[0.0,\"#0d0887\"],[0.1111111111111111,\"#46039f\"],[0.2222222222222222,\"#7201a8\"],[0.3333333333333333,\"#9c179e\"],[0.4444444444444444,\"#bd3786\"],[0.5555555555555556,\"#d8576b\"],[0.6666666666666666,\"#ed7953\"],[0.7777777777777778,\"#fb9f3a\"],[0.8888888888888888,\"#fdca26\"],[1.0,\"#f0f921\"]]}],\"choropleth\":[{\"type\":\"choropleth\",\"colorbar\":{\"outlinewidth\":0,\"ticks\":\"\"}}],\"histogram2d\":[{\"type\":\"histogram2d\",\"colorbar\":{\"outlinewidth\":0,\"ticks\":\"\"},\"colorscale\":[[0.0,\"#0d0887\"],[0.1111111111111111,\"#46039f\"],[0.2222222222222222,\"#7201a8\"],[0.3333333333333333,\"#9c179e\"],[0.4444444444444444,\"#bd3786\"],[0.5555555555555556,\"#d8576b\"],[0.6666666666666666,\"#ed7953\"],[0.7777777777777778,\"#fb9f3a\"],[0.8888888888888888,\"#fdca26\"],[1.0,\"#f0f921\"]]}],\"heatmap\":[{\"type\":\"heatmap\",\"colorbar\":{\"outlinewidth\":0,\"ticks\":\"\"},\"colorscale\":[[0.0,\"#0d0887\"],[0.1111111111111111,\"#46039f\"],[0.2222222222222222,\"#7201a8\"],[0.3333333333333333,\"#9c179e\"],[0.4444444444444444,\"#bd3786\"],[0.5555555555555556,\"#d8576b\"],[0.6666666666666666,\"#ed7953\"],[0.7777777777777778,\"#fb9f3a\"],[0.8888888888888888,\"#fdca26\"],[1.0,\"#f0f921\"]]}],\"heatmapgl\":[{\"type\":\"heatmapgl\",\"colorbar\":{\"outlinewidth\":0,\"ticks\":\"\"},\"colorscale\":[[0.0,\"#0d0887\"],[0.1111111111111111,\"#46039f\"],[0.2222222222222222,\"#7201a8\"],[0.3333333333333333,\"#9c179e\"],[0.4444444444444444,\"#bd3786\"],[0.5555555555555556,\"#d8576b\"],[0.6666666666666666,\"#ed7953\"],[0.7777777777777778,\"#fb9f3a\"],[0.8888888888888888,\"#fdca26\"],[1.0,\"#f0f921\"]]}],\"contourcarpet\":[{\"type\":\"contourcarpet\",\"colorbar\":{\"outlinewidth\":0,\"ticks\":\"\"}}],\"contour\":[{\"type\":\"contour\",\"colorbar\":{\"outlinewidth\":0,\"ticks\":\"\"},\"colorscale\":[[0.0,\"#0d0887\"],[0.1111111111111111,\"#46039f\"],[0.2222222222222222,\"#7201a8\"],[0.3333333333333333,\"#9c179e\"],[0.4444444444444444,\"#bd3786\"],[0.5555555555555556,\"#d8576b\"],[0.6666666666666666,\"#ed7953\"],[0.7777777777777778,\"#fb9f3a\"],[0.8888888888888888,\"#fdca26\"],[1.0,\"#f0f921\"]]}],\"surface\":[{\"type\":\"surface\",\"colorbar\":{\"outlinewidth\":0,\"ticks\":\"\"},\"colorscale\":[[0.0,\"#0d0887\"],[0.1111111111111111,\"#46039f\"],[0.2222222222222222,\"#7201a8\"],[0.3333333333333333,\"#9c179e\"],[0.4444444444444444,\"#bd3786\"],[0.5555555555555556,\"#d8576b\"],[0.6666666666666666,\"#ed7953\"],[0.7777777777777778,\"#fb9f3a\"],[0.8888888888888888,\"#fdca26\"],[1.0,\"#f0f921\"]]}],\"mesh3d\":[{\"type\":\"mesh3d\",\"colorbar\":{\"outlinewidth\":0,\"ticks\":\"\"}}],\"scatter\":[{\"fillpattern\":{\"fillmode\":\"overlay\",\"size\":10,\"solidity\":0.2},\"type\":\"scatter\"}],\"parcoords\":[{\"type\":\"parcoords\",\"line\":{\"colorbar\":{\"outlinewidth\":0,\"ticks\":\"\"}}}],\"scatterpolargl\":[{\"type\":\"scatterpolargl\",\"marker\":{\"colorbar\":{\"outlinewidth\":0,\"ticks\":\"\"}}}],\"bar\":[{\"error_x\":{\"color\":\"#2a3f5f\"},\"error_y\":{\"color\":\"#2a3f5f\"},\"marker\":{\"line\":{\"color\":\"#E5ECF6\",\"width\":0.5},\"pattern\":{\"fillmode\":\"overlay\",\"size\":10,\"solidity\":0.2}},\"type\":\"bar\"}],\"scattergeo\":[{\"type\":\"scattergeo\",\"marker\":{\"colorbar\":{\"outlinewidth\":0,\"ticks\":\"\"}}}],\"scatterpolar\":[{\"type\":\"scatterpolar\",\"marker\":{\"colorbar\":{\"outlinewidth\":0,\"ticks\":\"\"}}}],\"histogram\":[{\"marker\":{\"pattern\":{\"fillmode\":\"overlay\",\"size\":10,\"solidity\":0.2}},\"type\":\"histogram\"}],\"scattergl\":[{\"type\":\"scattergl\",\"marker\":{\"colorbar\":{\"outlinewidth\":0,\"ticks\":\"\"}}}],\"scatter3d\":[{\"type\":\"scatter3d\",\"line\":{\"colorbar\":{\"outlinewidth\":0,\"ticks\":\"\"}},\"marker\":{\"colorbar\":{\"outlinewidth\":0,\"ticks\":\"\"}}}],\"scattermapbox\":[{\"type\":\"scattermapbox\",\"marker\":{\"colorbar\":{\"outlinewidth\":0,\"ticks\":\"\"}}}],\"scatterternary\":[{\"type\":\"scatterternary\",\"marker\":{\"colorbar\":{\"outlinewidth\":0,\"ticks\":\"\"}}}],\"scattercarpet\":[{\"type\":\"scattercarpet\",\"marker\":{\"colorbar\":{\"outlinewidth\":0,\"ticks\":\"\"}}}],\"carpet\":[{\"aaxis\":{\"endlinecolor\":\"#2a3f5f\",\"gridcolor\":\"white\",\"linecolor\":\"white\",\"minorgridcolor\":\"white\",\"startlinecolor\":\"#2a3f5f\"},\"baxis\":{\"endlinecolor\":\"#2a3f5f\",\"gridcolor\":\"white\",\"linecolor\":\"white\",\"minorgridcolor\":\"white\",\"startlinecolor\":\"#2a3f5f\"},\"type\":\"carpet\"}],\"table\":[{\"cells\":{\"fill\":{\"color\":\"#EBF0F8\"},\"line\":{\"color\":\"white\"}},\"header\":{\"fill\":{\"color\":\"#C8D4E3\"},\"line\":{\"color\":\"white\"}},\"type\":\"table\"}],\"barpolar\":[{\"marker\":{\"line\":{\"color\":\"#E5ECF6\",\"width\":0.5},\"pattern\":{\"fillmode\":\"overlay\",\"size\":10,\"solidity\":0.2}},\"type\":\"barpolar\"}],\"pie\":[{\"automargin\":true,\"type\":\"pie\"}]},\"layout\":{\"autotypenumbers\":\"strict\",\"colorway\":[\"#636efa\",\"#EF553B\",\"#00cc96\",\"#ab63fa\",\"#FFA15A\",\"#19d3f3\",\"#FF6692\",\"#B6E880\",\"#FF97FF\",\"#FECB52\"],\"font\":{\"color\":\"#2a3f5f\"},\"hovermode\":\"closest\",\"hoverlabel\":{\"align\":\"left\"},\"paper_bgcolor\":\"white\",\"plot_bgcolor\":\"#E5ECF6\",\"polar\":{\"bgcolor\":\"#E5ECF6\",\"angularaxis\":{\"gridcolor\":\"white\",\"linecolor\":\"white\",\"ticks\":\"\"},\"radialaxis\":{\"gridcolor\":\"white\",\"linecolor\":\"white\",\"ticks\":\"\"}},\"ternary\":{\"bgcolor\":\"#E5ECF6\",\"aaxis\":{\"gridcolor\":\"white\",\"linecolor\":\"white\",\"ticks\":\"\"},\"baxis\":{\"gridcolor\":\"white\",\"linecolor\":\"white\",\"ticks\":\"\"},\"caxis\":{\"gridcolor\":\"white\",\"linecolor\":\"white\",\"ticks\":\"\"}},\"coloraxis\":{\"colorbar\":{\"outlinewidth\":0,\"ticks\":\"\"}},\"colorscale\":{\"sequential\":[[0.0,\"#0d0887\"],[0.1111111111111111,\"#46039f\"],[0.2222222222222222,\"#7201a8\"],[0.3333333333333333,\"#9c179e\"],[0.4444444444444444,\"#bd3786\"],[0.5555555555555556,\"#d8576b\"],[0.6666666666666666,\"#ed7953\"],[0.7777777777777778,\"#fb9f3a\"],[0.8888888888888888,\"#fdca26\"],[1.0,\"#f0f921\"]],\"sequentialminus\":[[0.0,\"#0d0887\"],[0.1111111111111111,\"#46039f\"],[0.2222222222222222,\"#7201a8\"],[0.3333333333333333,\"#9c179e\"],[0.4444444444444444,\"#bd3786\"],[0.5555555555555556,\"#d8576b\"],[0.6666666666666666,\"#ed7953\"],[0.7777777777777778,\"#fb9f3a\"],[0.8888888888888888,\"#fdca26\"],[1.0,\"#f0f921\"]],\"diverging\":[[0,\"#8e0152\"],[0.1,\"#c51b7d\"],[0.2,\"#de77ae\"],[0.3,\"#f1b6da\"],[0.4,\"#fde0ef\"],[0.5,\"#f7f7f7\"],[0.6,\"#e6f5d0\"],[0.7,\"#b8e186\"],[0.8,\"#7fbc41\"],[0.9,\"#4d9221\"],[1,\"#276419\"]]},\"xaxis\":{\"gridcolor\":\"white\",\"linecolor\":\"white\",\"ticks\":\"\",\"title\":{\"standoff\":15},\"zerolinecolor\":\"white\",\"automargin\":true,\"zerolinewidth\":2},\"yaxis\":{\"gridcolor\":\"white\",\"linecolor\":\"white\",\"ticks\":\"\",\"title\":{\"standoff\":15},\"zerolinecolor\":\"white\",\"automargin\":true,\"zerolinewidth\":2},\"scene\":{\"xaxis\":{\"backgroundcolor\":\"#E5ECF6\",\"gridcolor\":\"white\",\"linecolor\":\"white\",\"showbackground\":true,\"ticks\":\"\",\"zerolinecolor\":\"white\",\"gridwidth\":2},\"yaxis\":{\"backgroundcolor\":\"#E5ECF6\",\"gridcolor\":\"white\",\"linecolor\":\"white\",\"showbackground\":true,\"ticks\":\"\",\"zerolinecolor\":\"white\",\"gridwidth\":2},\"zaxis\":{\"backgroundcolor\":\"#E5ECF6\",\"gridcolor\":\"white\",\"linecolor\":\"white\",\"showbackground\":true,\"ticks\":\"\",\"zerolinecolor\":\"white\",\"gridwidth\":2}},\"shapedefaults\":{\"line\":{\"color\":\"#2a3f5f\"}},\"annotationdefaults\":{\"arrowcolor\":\"#2a3f5f\",\"arrowhead\":0,\"arrowwidth\":1},\"geo\":{\"bgcolor\":\"white\",\"landcolor\":\"#E5ECF6\",\"subunitcolor\":\"white\",\"showland\":true,\"showlakes\":true,\"lakecolor\":\"white\"},\"title\":{\"x\":0.05},\"mapbox\":{\"style\":\"light\"}}},\"width\":1000,\"title\":{\"text\":\"Grouped Bar Chart of token lengths\"},\"xaxis\":{\"title\":{\"text\":\"Object label\"}},\"yaxis\":{\"title\":{\"text\":\"Token length\"}},\"barmode\":\"group\",\"bargap\":0.1,\"bargroupgap\":0.3},                        {\"responsive\": true}                    ).then(function(){\n",
       "                            \n",
       "var gd = document.getElementById('9b661ec3-bb5d-47fe-b74a-33cc8bdde25d');\n",
       "var x = new MutationObserver(function (mutations, observer) {{\n",
       "        var display = window.getComputedStyle(gd).display;\n",
       "        if (!display || display === 'none') {{\n",
       "            console.log([gd, 'removed!']);\n",
       "            Plotly.purge(gd);\n",
       "            observer.disconnect();\n",
       "        }}\n",
       "}});\n",
       "\n",
       "// Listen for the removal of the full notebook cells\n",
       "var notebookContainer = gd.closest('#notebook-container');\n",
       "if (notebookContainer) {{\n",
       "    x.observe(notebookContainer, {childList: true});\n",
       "}}\n",
       "\n",
       "// Listen for the clearing of the current output cell\n",
       "var outputEl = gd.closest('.output');\n",
       "if (outputEl) {{\n",
       "    x.observe(outputEl, {childList: true});\n",
       "}}\n",
       "\n",
       "                        })                };                });            </script>        </div>"
      ]
     },
     "metadata": {},
     "output_type": "display_data"
    }
   ],
   "source": [
    "import plotly.graph_objects as go\n",
    "import pandas as pd\n",
    "\n",
    "# Assuming your dataframe is called 'df'\n",
    "# You can load your data into a dataframe using pd.read_csv() or any other method\n",
    "\n",
    "# Create a list of row indices to use as labels for x-axis\n",
    "labels = data['number label'].tolist()\n",
    "\n",
    "# Create a figure object\n",
    "fig = go.Figure()\n",
    "\n",
    "# Add the bars for each length column\n",
    "fig.add_trace(go.Bar(x=labels, y=data['length greedy'], name='Length Greedy'))\n",
    "fig.add_trace(go.Bar(x=labels, y=data['length nucleus'], name='Length Nucleus'))\n",
    "fig.add_trace(go.Bar(x=labels, y=data['length beam'], name='Length Beam'))\n",
    "\n",
    "# Update the layout\n",
    "fig.update_layout(\n",
    "    width=1000,\n",
    "    title='Grouped Bar Chart of token lengths',\n",
    "    xaxis_title='Object label',\n",
    "    yaxis_title='Token length',\n",
    "    barmode='group',  # Set the bar mode to 'group' for grouped bars\n",
    "    bargap=0.1,  # Adjust the spacing between bars within each group\n",
    "    bargroupgap=0.3  # Adjust the spacing between groups\n",
    ")\n",
    "\n",
    "# Show the plot\n",
    "fig.show()\n",
    "\n",
    "# # Save the plot as JSON\n",
    "fig_json = fig.to_json()\n",
    "with open('token_length.json', 'w') as file:\n",
    "    file.write(fig_json)"
   ]
  },
  {
   "attachments": {},
   "cell_type": "markdown",
   "metadata": {},
   "source": [
    "#### Bool breakdown"
   ]
  },
  {
   "cell_type": "code",
   "execution_count": 218,
   "metadata": {},
   "outputs": [
    {
     "name": "stdout",
     "output_type": "stream",
     "text": [
      "image_path\n",
      "number label\n",
      "actual name\n",
      "familiarity score\n",
      "nameability score\n",
      "color saliency\n",
      "texture saliency\n",
      "BLIP-2, greedy, caption\n",
      "BLIP-2, greedy, bool\n",
      "BLIP-2, greedy, name\n",
      "BLIP-2, greedy, real\n",
      "BLIP-2, greedy, caption saliency\n",
      "BLIP-2, greedy, bool saliency\n",
      "BLIP-2, greedy, name saliency\n",
      "BLIP-2, greedy, real saliency\n",
      "BLIP-2, nucleus, caption\n",
      "BLIP-2, nucleus, bool\n",
      "BLIP-2, nucleus, name\n",
      "BLIP-2, nucleus, real\n",
      "BLIP-2, nucleus, caption saliency\n",
      "BLIP-2, nucleus, bool saliency\n",
      "BLIP-2, nucleus, name saliency\n",
      "BLIP-2, nucleus, real saliency\n",
      "BLIP-2, beam, caption\n",
      "BLIP-2, beam, bool\n",
      "BLIP-2, beam, name\n",
      "BLIP-2, beam, real\n",
      "BLIP-2, beam, caption saliency\n",
      "BLIP-2, beam, bool saliency\n",
      "BLIP-2, beam, name saliency\n",
      "BLIP-2, beam, real saliency\n",
      "BLIP-2, greedy, max_new_tokens=5, caption\n",
      "BLIP-2, greedy, max_new_tokens=5, bool\n",
      "BLIP-2, greedy, max_new_tokens=5, name\n",
      "BLIP-2, greedy, max_new_tokens=5, real\n",
      "BLIP-2, greedy, max_new_tokens=5, caption saliency\n",
      "BLIP-2, greedy, max_new_tokens=5, bool saliency\n",
      "BLIP-2, greedy, max_new_tokens=5, name saliency\n",
      "BLIP-2, greedy, max_new_tokens=5, real saliency\n",
      "BLIP-2, greedy, max_new_tokens=10, caption\n",
      "BLIP-2, greedy, max_new_tokens=10, bool\n",
      "BLIP-2, greedy, max_new_tokens=10, name\n",
      "BLIP-2, greedy, max_new_tokens=10, real\n",
      "BLIP-2, greedy, max_new_tokens=10, caption saliency\n",
      "BLIP-2, greedy, max_new_tokens=10, bool saliency\n",
      "BLIP-2, greedy, max_new_tokens=10, name saliency\n",
      "BLIP-2, greedy, max_new_tokens=10, real saliency\n",
      "BLIP-2, greedy, max_new_tokens=20, caption\n",
      "BLIP-2, greedy, max_new_tokens=20, bool\n",
      "BLIP-2, greedy, max_new_tokens=20, name\n",
      "BLIP-2, greedy, max_new_tokens=20, real\n",
      "BLIP-2, greedy, max_new_tokens=20, caption saliency\n",
      "BLIP-2, greedy, max_new_tokens=20, bool saliency\n",
      "BLIP-2, greedy, max_new_tokens=20, name saliency\n",
      "BLIP-2, greedy, max_new_tokens=20, real saliency\n",
      "BLIP-2, nucleus, top_p=0.1, caption\n",
      "BLIP-2, nucleus, top_p=0.1, bool\n",
      "BLIP-2, nucleus, top_p=0.1, name\n",
      "BLIP-2, nucleus, top_p=0.1, real\n",
      "BLIP-2, nucleus, top_p=0.1, caption saliency\n",
      "BLIP-2, nucleus, top_p=0.1, bool saliency\n",
      "BLIP-2, nucleus, top_p=0.1, name saliency\n",
      "BLIP-2, nucleus, top_p=0.1, real saliency\n",
      "BLIP-2, nucleus, top_p=0.5, caption\n",
      "BLIP-2, nucleus, top_p=0.5, bool\n",
      "BLIP-2, nucleus, top_p=0.5, name\n",
      "BLIP-2, nucleus, top_p=0.5, real\n",
      "BLIP-2, nucleus, top_p=0.5, caption saliency\n",
      "BLIP-2, nucleus, top_p=0.5, bool saliency\n",
      "BLIP-2, nucleus, top_p=0.5, name saliency\n",
      "BLIP-2, nucleus, top_p=0.5, real saliency\n",
      "BLIP-2, nucleus, top_p=0.9, caption\n",
      "BLIP-2, nucleus, top_p=0.9, bool\n",
      "BLIP-2, nucleus, top_p=0.9, name\n",
      "BLIP-2, nucleus, top_p=0.9, real\n",
      "BLIP-2, nucleus, top_p=0.9, caption saliency\n",
      "BLIP-2, nucleus, top_p=0.9, bool saliency\n",
      "BLIP-2, nucleus, top_p=0.9, name saliency\n",
      "BLIP-2, nucleus, top_p=0.9, real saliency\n",
      "BLIP-2, beam, num_beams=1, caption\n",
      "BLIP-2, beam, num_beams=1, bool\n",
      "BLIP-2, beam, num_beams=1, name\n",
      "BLIP-2, beam, num_beams=1, real\n",
      "BLIP-2, beam, num_beams=1, caption saliency\n",
      "BLIP-2, beam, num_beams=1, bool saliency\n",
      "BLIP-2, beam, num_beams=1, name saliency\n",
      "BLIP-2, beam, num_beams=1, real saliency\n",
      "BLIP-2, beam, num_beams=5, caption\n",
      "BLIP-2, beam, num_beams=5, bool\n",
      "BLIP-2, beam, num_beams=5, name\n",
      "BLIP-2, beam, num_beams=5, real\n",
      "BLIP-2, beam, num_beams=5, caption saliency\n",
      "BLIP-2, beam, num_beams=5, bool saliency\n",
      "BLIP-2, beam, num_beams=5, name saliency\n",
      "BLIP-2, beam, num_beams=5, real saliency\n",
      "BLIP-2, beam, num_beams=10, caption\n",
      "BLIP-2, beam, num_beams=10, bool\n",
      "BLIP-2, beam, num_beams=10, name\n",
      "BLIP-2, beam, num_beams=10, real\n",
      "BLIP-2, beam, num_beams=10, caption saliency\n",
      "BLIP-2, beam, num_beams=10, bool saliency\n",
      "BLIP-2, beam, num_beams=10, name saliency\n",
      "BLIP-2, beam, num_beams=10, real saliency\n",
      "color, greedy, caption to boolean\n",
      "texture, greedy, caption to boolean\n",
      "color, greedy, bool to boolean\n",
      "texture, greedy, bool to boolean\n",
      "color, greedy, name to boolean\n",
      "texture, greedy, name to boolean\n",
      "color, greedy, real to boolean\n",
      "texture, greedy, real to boolean\n",
      "color, nucleus, caption to boolean\n",
      "texture, nucleus, caption to boolean\n",
      "color, nucleus, bool to boolean\n",
      "texture, nucleus, bool to boolean\n",
      "color, nucleus, name to boolean\n",
      "texture, nucleus, name to boolean\n",
      "color, nucleus, real to boolean\n",
      "texture, nucleus, real to boolean\n",
      "color, beam, caption to boolean\n",
      "texture, beam, caption to boolean\n",
      "color, beam, bool to boolean\n",
      "texture, beam, bool to boolean\n",
      "color, beam, name to boolean\n",
      "texture, beam, name to boolean\n",
      "color, beam, real to boolean\n",
      "texture, beam, real to boolean\n",
      "color, greedy, max_new_tokens=5, caption to boolean\n",
      "texture, greedy, max_new_tokens=5, caption to boolean\n",
      "color, greedy, max_new_tokens=5, bool to boolean\n",
      "texture, greedy, max_new_tokens=5, bool to boolean\n",
      "color, greedy, max_new_tokens=5, name to boolean\n",
      "texture, greedy, max_new_tokens=5, name to boolean\n",
      "color, greedy, max_new_tokens=5, real to boolean\n",
      "texture, greedy, max_new_tokens=5, real to boolean\n",
      "color, greedy, max_new_tokens=10, caption to boolean\n",
      "texture, greedy, max_new_tokens=10, caption to boolean\n",
      "color, greedy, max_new_tokens=10, bool to boolean\n",
      "texture, greedy, max_new_tokens=10, bool to boolean\n",
      "color, greedy, max_new_tokens=10, name to boolean\n",
      "texture, greedy, max_new_tokens=10, name to boolean\n",
      "color, greedy, max_new_tokens=10, real to boolean\n",
      "texture, greedy, max_new_tokens=10, real to boolean\n",
      "color, greedy, max_new_tokens=20, caption to boolean\n",
      "texture, greedy, max_new_tokens=20, caption to boolean\n",
      "color, greedy, max_new_tokens=20, bool to boolean\n",
      "texture, greedy, max_new_tokens=20, bool to boolean\n",
      "color, greedy, max_new_tokens=20, name to boolean\n",
      "texture, greedy, max_new_tokens=20, name to boolean\n",
      "color, greedy, max_new_tokens=20, real to boolean\n",
      "texture, greedy, max_new_tokens=20, real to boolean\n",
      "color, nucleus, top_p=0.1, caption to boolean\n",
      "texture, nucleus, top_p=0.1, caption to boolean\n",
      "color, nucleus, top_p=0.1, bool to boolean\n",
      "texture, nucleus, top_p=0.1, bool to boolean\n",
      "color, nucleus, top_p=0.1, name to boolean\n",
      "texture, nucleus, top_p=0.1, name to boolean\n",
      "color, nucleus, top_p=0.1, real to boolean\n",
      "texture, nucleus, top_p=0.1, real to boolean\n",
      "color, nucleus, top_p=0.5, caption to boolean\n",
      "texture, nucleus, top_p=0.5, caption to boolean\n",
      "color, nucleus, top_p=0.5, bool to boolean\n",
      "texture, nucleus, top_p=0.5, bool to boolean\n",
      "color, nucleus, top_p=0.5, name to boolean\n",
      "texture, nucleus, top_p=0.5, name to boolean\n",
      "color, nucleus, top_p=0.5, real to boolean\n",
      "texture, nucleus, top_p=0.5, real to boolean\n",
      "color, nucleus, top_p=0.9, caption to boolean\n",
      "texture, nucleus, top_p=0.9, caption to boolean\n",
      "color, nucleus, top_p=0.9, bool to boolean\n",
      "texture, nucleus, top_p=0.9, bool to boolean\n",
      "color, nucleus, top_p=0.9, name to boolean\n",
      "texture, nucleus, top_p=0.9, name to boolean\n",
      "color, nucleus, top_p=0.9, real to boolean\n",
      "texture, nucleus, top_p=0.9, real to boolean\n",
      "color, beam, num_beams=1, caption to boolean\n",
      "texture, beam, num_beams=1, caption to boolean\n",
      "color, beam, num_beams=1, bool to boolean\n",
      "texture, beam, num_beams=1, bool to boolean\n",
      "color, beam, num_beams=1, name to boolean\n",
      "texture, beam, num_beams=1, name to boolean\n",
      "color, beam, num_beams=1, real to boolean\n",
      "texture, beam, num_beams=1, real to boolean\n",
      "color, beam, num_beams=5, caption to boolean\n",
      "texture, beam, num_beams=5, caption to boolean\n",
      "color, beam, num_beams=5, bool to boolean\n",
      "texture, beam, num_beams=5, bool to boolean\n",
      "color, beam, num_beams=5, name to boolean\n",
      "texture, beam, num_beams=5, name to boolean\n",
      "color, beam, num_beams=5, real to boolean\n",
      "texture, beam, num_beams=5, real to boolean\n",
      "color, beam, num_beams=10, caption to boolean\n",
      "texture, beam, num_beams=10, caption to boolean\n",
      "color, beam, num_beams=10, bool to boolean\n",
      "texture, beam, num_beams=10, bool to boolean\n",
      "color, beam, num_beams=10, name to boolean\n",
      "texture, beam, num_beams=10, name to boolean\n",
      "color, beam, num_beams=10, real to boolean\n",
      "texture, beam, num_beams=10, real to boolean\n"
     ]
    }
   ],
   "source": [
    "for c in data.columns:\n",
    "    print(c)"
   ]
  },
  {
   "cell_type": "code",
   "execution_count": 243,
   "metadata": {},
   "outputs": [
    {
     "name": "stdout",
     "output_type": "stream",
     "text": [
      "0            Plastic   \n",
      "1                      \n",
      "2             Wooden   \n",
      "3            Plastic   \n",
      "4                      \n",
      "            ...        \n",
      "59           Red       \n",
      "60                     \n",
      "61            Rubber   \n",
      "62                     \n",
      "63                     \n",
      "Name: BLIP-2, nucleus, top_p=0.1, bool saliency, Length: 64, dtype: object\n"
     ]
    }
   ],
   "source": [
    "print(data['BLIP-2, nucleus, top_p=0.1, bool saliency'])"
   ]
  },
  {
   "cell_type": "code",
   "execution_count": 245,
   "metadata": {},
   "outputs": [
    {
     "name": "stdout",
     "output_type": "stream",
     "text": [
      "BLIP-2, greedy, bool\n",
      "BLIP-2, nucleus, top_p=0.1, bool\n",
      "BLIP-2, nucleus, top_p=0.5, bool\n",
      "BLIP-2, nucleus, top_p=0.9, bool\n",
      "BLIP-2, beam, num_beams=1, bool\n",
      "BLIP-2, beam, num_beams=5, bool\n",
      "BLIP-2, beam, num_beams=10, bool\n"
     ]
    }
   ],
   "source": [
    "data_plot = data.copy()\n",
    "\n",
    "for c in data_plot.columns:\n",
    "    if 'bool' in c and 'saliency' not in c and 'boolean' not in c:\n",
    "        print(c)"
   ]
  },
  {
   "cell_type": "code",
   "execution_count": 22,
   "metadata": {},
   "outputs": [
    {
     "data": {
      "application/vnd.plotly.v1+json": {
       "config": {
        "plotlyServerURL": "https://plot.ly"
       },
       "data": [
        {
         "name": "Greedy decoding",
         "type": "bar",
         "x": [
          "(18.6, 34.2]",
          "(2.922, 18.6]",
          "(34.2, 49.8]",
          "(49.8, 65.4]",
          "(65.4, 81.0]"
         ],
         "y": [
          1,
          1,
          1,
          1,
          1
         ]
        },
        {
         "name": "Nucleus Sampling, top_p=0.1",
         "type": "bar",
         "x": [
          "(18.6, 34.2]",
          "(2.922, 18.6]",
          "(34.2, 49.8]",
          "(49.8, 65.4]",
          "(65.4, 81.0]"
         ],
         "y": [
          1,
          1,
          1,
          1,
          1
         ]
        },
        {
         "name": "Nucleus Sampling, top_p=0.5",
         "type": "bar",
         "x": [
          "(18.6, 34.2]",
          "(2.922, 18.6]",
          "(34.2, 49.8]",
          "(49.8, 65.4]",
          "(65.4, 81.0]"
         ],
         "y": [
          0.5217391304347826,
          0.5294117647058824,
          0.8571428571428571,
          0.6,
          1
         ]
        },
        {
         "name": "Nucleus Sampling, top_p=0.9",
         "type": "bar",
         "x": [
          "(18.6, 34.2]",
          "(2.922, 18.6]",
          "(34.2, 49.8]",
          "(49.8, 65.4]",
          "(65.4, 81.0]"
         ],
         "y": [
          0.4782608695652174,
          0.5294117647058824,
          0.5714285714285714,
          0.6,
          0.8
         ]
        },
        {
         "name": "Beam Search, num_beams=1",
         "type": "bar",
         "x": [
          "(18.6, 34.2]",
          "(2.922, 18.6]",
          "(34.2, 49.8]",
          "(49.8, 65.4]",
          "(65.4, 81.0]"
         ],
         "y": [
          1,
          1,
          1,
          1,
          1
         ]
        },
        {
         "name": "Beam Search, num_beams=5",
         "type": "bar",
         "x": [
          "(18.6, 34.2]",
          "(2.922, 18.6]",
          "(34.2, 49.8]",
          "(49.8, 65.4]",
          "(65.4, 81.0]"
         ],
         "y": [
          0.2608695652173913,
          0.29411764705882354,
          0.35714285714285715,
          0.8,
          0.6
         ]
        },
        {
         "name": "Beam Search, num_beams=10",
         "type": "bar",
         "x": [
          "(18.6, 34.2]",
          "(2.922, 18.6]",
          "(34.2, 49.8]",
          "(49.8, 65.4]",
          "(65.4, 81.0]"
         ],
         "y": [
          0.08695652173913043,
          0.058823529411764705,
          0.2857142857142857,
          0.4,
          0
         ]
        }
       ],
       "layout": {
        "template": {
         "data": {
          "bar": [
           {
            "error_x": {
             "color": "#2a3f5f"
            },
            "error_y": {
             "color": "#2a3f5f"
            },
            "marker": {
             "line": {
              "color": "#E5ECF6",
              "width": 0.5
             },
             "pattern": {
              "fillmode": "overlay",
              "size": 10,
              "solidity": 0.2
             }
            },
            "type": "bar"
           }
          ],
          "barpolar": [
           {
            "marker": {
             "line": {
              "color": "#E5ECF6",
              "width": 0.5
             },
             "pattern": {
              "fillmode": "overlay",
              "size": 10,
              "solidity": 0.2
             }
            },
            "type": "barpolar"
           }
          ],
          "carpet": [
           {
            "aaxis": {
             "endlinecolor": "#2a3f5f",
             "gridcolor": "white",
             "linecolor": "white",
             "minorgridcolor": "white",
             "startlinecolor": "#2a3f5f"
            },
            "baxis": {
             "endlinecolor": "#2a3f5f",
             "gridcolor": "white",
             "linecolor": "white",
             "minorgridcolor": "white",
             "startlinecolor": "#2a3f5f"
            },
            "type": "carpet"
           }
          ],
          "choropleth": [
           {
            "colorbar": {
             "outlinewidth": 0,
             "ticks": ""
            },
            "type": "choropleth"
           }
          ],
          "contour": [
           {
            "colorbar": {
             "outlinewidth": 0,
             "ticks": ""
            },
            "colorscale": [
             [
              0,
              "#0d0887"
             ],
             [
              0.1111111111111111,
              "#46039f"
             ],
             [
              0.2222222222222222,
              "#7201a8"
             ],
             [
              0.3333333333333333,
              "#9c179e"
             ],
             [
              0.4444444444444444,
              "#bd3786"
             ],
             [
              0.5555555555555556,
              "#d8576b"
             ],
             [
              0.6666666666666666,
              "#ed7953"
             ],
             [
              0.7777777777777778,
              "#fb9f3a"
             ],
             [
              0.8888888888888888,
              "#fdca26"
             ],
             [
              1,
              "#f0f921"
             ]
            ],
            "type": "contour"
           }
          ],
          "contourcarpet": [
           {
            "colorbar": {
             "outlinewidth": 0,
             "ticks": ""
            },
            "type": "contourcarpet"
           }
          ],
          "heatmap": [
           {
            "colorbar": {
             "outlinewidth": 0,
             "ticks": ""
            },
            "colorscale": [
             [
              0,
              "#0d0887"
             ],
             [
              0.1111111111111111,
              "#46039f"
             ],
             [
              0.2222222222222222,
              "#7201a8"
             ],
             [
              0.3333333333333333,
              "#9c179e"
             ],
             [
              0.4444444444444444,
              "#bd3786"
             ],
             [
              0.5555555555555556,
              "#d8576b"
             ],
             [
              0.6666666666666666,
              "#ed7953"
             ],
             [
              0.7777777777777778,
              "#fb9f3a"
             ],
             [
              0.8888888888888888,
              "#fdca26"
             ],
             [
              1,
              "#f0f921"
             ]
            ],
            "type": "heatmap"
           }
          ],
          "heatmapgl": [
           {
            "colorbar": {
             "outlinewidth": 0,
             "ticks": ""
            },
            "colorscale": [
             [
              0,
              "#0d0887"
             ],
             [
              0.1111111111111111,
              "#46039f"
             ],
             [
              0.2222222222222222,
              "#7201a8"
             ],
             [
              0.3333333333333333,
              "#9c179e"
             ],
             [
              0.4444444444444444,
              "#bd3786"
             ],
             [
              0.5555555555555556,
              "#d8576b"
             ],
             [
              0.6666666666666666,
              "#ed7953"
             ],
             [
              0.7777777777777778,
              "#fb9f3a"
             ],
             [
              0.8888888888888888,
              "#fdca26"
             ],
             [
              1,
              "#f0f921"
             ]
            ],
            "type": "heatmapgl"
           }
          ],
          "histogram": [
           {
            "marker": {
             "pattern": {
              "fillmode": "overlay",
              "size": 10,
              "solidity": 0.2
             }
            },
            "type": "histogram"
           }
          ],
          "histogram2d": [
           {
            "colorbar": {
             "outlinewidth": 0,
             "ticks": ""
            },
            "colorscale": [
             [
              0,
              "#0d0887"
             ],
             [
              0.1111111111111111,
              "#46039f"
             ],
             [
              0.2222222222222222,
              "#7201a8"
             ],
             [
              0.3333333333333333,
              "#9c179e"
             ],
             [
              0.4444444444444444,
              "#bd3786"
             ],
             [
              0.5555555555555556,
              "#d8576b"
             ],
             [
              0.6666666666666666,
              "#ed7953"
             ],
             [
              0.7777777777777778,
              "#fb9f3a"
             ],
             [
              0.8888888888888888,
              "#fdca26"
             ],
             [
              1,
              "#f0f921"
             ]
            ],
            "type": "histogram2d"
           }
          ],
          "histogram2dcontour": [
           {
            "colorbar": {
             "outlinewidth": 0,
             "ticks": ""
            },
            "colorscale": [
             [
              0,
              "#0d0887"
             ],
             [
              0.1111111111111111,
              "#46039f"
             ],
             [
              0.2222222222222222,
              "#7201a8"
             ],
             [
              0.3333333333333333,
              "#9c179e"
             ],
             [
              0.4444444444444444,
              "#bd3786"
             ],
             [
              0.5555555555555556,
              "#d8576b"
             ],
             [
              0.6666666666666666,
              "#ed7953"
             ],
             [
              0.7777777777777778,
              "#fb9f3a"
             ],
             [
              0.8888888888888888,
              "#fdca26"
             ],
             [
              1,
              "#f0f921"
             ]
            ],
            "type": "histogram2dcontour"
           }
          ],
          "mesh3d": [
           {
            "colorbar": {
             "outlinewidth": 0,
             "ticks": ""
            },
            "type": "mesh3d"
           }
          ],
          "parcoords": [
           {
            "line": {
             "colorbar": {
              "outlinewidth": 0,
              "ticks": ""
             }
            },
            "type": "parcoords"
           }
          ],
          "pie": [
           {
            "automargin": true,
            "type": "pie"
           }
          ],
          "scatter": [
           {
            "fillpattern": {
             "fillmode": "overlay",
             "size": 10,
             "solidity": 0.2
            },
            "type": "scatter"
           }
          ],
          "scatter3d": [
           {
            "line": {
             "colorbar": {
              "outlinewidth": 0,
              "ticks": ""
             }
            },
            "marker": {
             "colorbar": {
              "outlinewidth": 0,
              "ticks": ""
             }
            },
            "type": "scatter3d"
           }
          ],
          "scattercarpet": [
           {
            "marker": {
             "colorbar": {
              "outlinewidth": 0,
              "ticks": ""
             }
            },
            "type": "scattercarpet"
           }
          ],
          "scattergeo": [
           {
            "marker": {
             "colorbar": {
              "outlinewidth": 0,
              "ticks": ""
             }
            },
            "type": "scattergeo"
           }
          ],
          "scattergl": [
           {
            "marker": {
             "colorbar": {
              "outlinewidth": 0,
              "ticks": ""
             }
            },
            "type": "scattergl"
           }
          ],
          "scattermapbox": [
           {
            "marker": {
             "colorbar": {
              "outlinewidth": 0,
              "ticks": ""
             }
            },
            "type": "scattermapbox"
           }
          ],
          "scatterpolar": [
           {
            "marker": {
             "colorbar": {
              "outlinewidth": 0,
              "ticks": ""
             }
            },
            "type": "scatterpolar"
           }
          ],
          "scatterpolargl": [
           {
            "marker": {
             "colorbar": {
              "outlinewidth": 0,
              "ticks": ""
             }
            },
            "type": "scatterpolargl"
           }
          ],
          "scatterternary": [
           {
            "marker": {
             "colorbar": {
              "outlinewidth": 0,
              "ticks": ""
             }
            },
            "type": "scatterternary"
           }
          ],
          "surface": [
           {
            "colorbar": {
             "outlinewidth": 0,
             "ticks": ""
            },
            "colorscale": [
             [
              0,
              "#0d0887"
             ],
             [
              0.1111111111111111,
              "#46039f"
             ],
             [
              0.2222222222222222,
              "#7201a8"
             ],
             [
              0.3333333333333333,
              "#9c179e"
             ],
             [
              0.4444444444444444,
              "#bd3786"
             ],
             [
              0.5555555555555556,
              "#d8576b"
             ],
             [
              0.6666666666666666,
              "#ed7953"
             ],
             [
              0.7777777777777778,
              "#fb9f3a"
             ],
             [
              0.8888888888888888,
              "#fdca26"
             ],
             [
              1,
              "#f0f921"
             ]
            ],
            "type": "surface"
           }
          ],
          "table": [
           {
            "cells": {
             "fill": {
              "color": "#EBF0F8"
             },
             "line": {
              "color": "white"
             }
            },
            "header": {
             "fill": {
              "color": "#C8D4E3"
             },
             "line": {
              "color": "white"
             }
            },
            "type": "table"
           }
          ]
         },
         "layout": {
          "annotationdefaults": {
           "arrowcolor": "#2a3f5f",
           "arrowhead": 0,
           "arrowwidth": 1
          },
          "autotypenumbers": "strict",
          "coloraxis": {
           "colorbar": {
            "outlinewidth": 0,
            "ticks": ""
           }
          },
          "colorscale": {
           "diverging": [
            [
             0,
             "#8e0152"
            ],
            [
             0.1,
             "#c51b7d"
            ],
            [
             0.2,
             "#de77ae"
            ],
            [
             0.3,
             "#f1b6da"
            ],
            [
             0.4,
             "#fde0ef"
            ],
            [
             0.5,
             "#f7f7f7"
            ],
            [
             0.6,
             "#e6f5d0"
            ],
            [
             0.7,
             "#b8e186"
            ],
            [
             0.8,
             "#7fbc41"
            ],
            [
             0.9,
             "#4d9221"
            ],
            [
             1,
             "#276419"
            ]
           ],
           "sequential": [
            [
             0,
             "#0d0887"
            ],
            [
             0.1111111111111111,
             "#46039f"
            ],
            [
             0.2222222222222222,
             "#7201a8"
            ],
            [
             0.3333333333333333,
             "#9c179e"
            ],
            [
             0.4444444444444444,
             "#bd3786"
            ],
            [
             0.5555555555555556,
             "#d8576b"
            ],
            [
             0.6666666666666666,
             "#ed7953"
            ],
            [
             0.7777777777777778,
             "#fb9f3a"
            ],
            [
             0.8888888888888888,
             "#fdca26"
            ],
            [
             1,
             "#f0f921"
            ]
           ],
           "sequentialminus": [
            [
             0,
             "#0d0887"
            ],
            [
             0.1111111111111111,
             "#46039f"
            ],
            [
             0.2222222222222222,
             "#7201a8"
            ],
            [
             0.3333333333333333,
             "#9c179e"
            ],
            [
             0.4444444444444444,
             "#bd3786"
            ],
            [
             0.5555555555555556,
             "#d8576b"
            ],
            [
             0.6666666666666666,
             "#ed7953"
            ],
            [
             0.7777777777777778,
             "#fb9f3a"
            ],
            [
             0.8888888888888888,
             "#fdca26"
            ],
            [
             1,
             "#f0f921"
            ]
           ]
          },
          "colorway": [
           "#636efa",
           "#EF553B",
           "#00cc96",
           "#ab63fa",
           "#FFA15A",
           "#19d3f3",
           "#FF6692",
           "#B6E880",
           "#FF97FF",
           "#FECB52"
          ],
          "font": {
           "color": "#2a3f5f"
          },
          "geo": {
           "bgcolor": "white",
           "lakecolor": "white",
           "landcolor": "#E5ECF6",
           "showlakes": true,
           "showland": true,
           "subunitcolor": "white"
          },
          "hoverlabel": {
           "align": "left"
          },
          "hovermode": "closest",
          "mapbox": {
           "style": "light"
          },
          "paper_bgcolor": "white",
          "plot_bgcolor": "#E5ECF6",
          "polar": {
           "angularaxis": {
            "gridcolor": "white",
            "linecolor": "white",
            "ticks": ""
           },
           "bgcolor": "#E5ECF6",
           "radialaxis": {
            "gridcolor": "white",
            "linecolor": "white",
            "ticks": ""
           }
          },
          "scene": {
           "xaxis": {
            "backgroundcolor": "#E5ECF6",
            "gridcolor": "white",
            "gridwidth": 2,
            "linecolor": "white",
            "showbackground": true,
            "ticks": "",
            "zerolinecolor": "white"
           },
           "yaxis": {
            "backgroundcolor": "#E5ECF6",
            "gridcolor": "white",
            "gridwidth": 2,
            "linecolor": "white",
            "showbackground": true,
            "ticks": "",
            "zerolinecolor": "white"
           },
           "zaxis": {
            "backgroundcolor": "#E5ECF6",
            "gridcolor": "white",
            "gridwidth": 2,
            "linecolor": "white",
            "showbackground": true,
            "ticks": "",
            "zerolinecolor": "white"
           }
          },
          "shapedefaults": {
           "line": {
            "color": "#2a3f5f"
           }
          },
          "ternary": {
           "aaxis": {
            "gridcolor": "white",
            "linecolor": "white",
            "ticks": ""
           },
           "baxis": {
            "gridcolor": "white",
            "linecolor": "white",
            "ticks": ""
           },
           "bgcolor": "#E5ECF6",
           "caxis": {
            "gridcolor": "white",
            "linecolor": "white",
            "ticks": ""
           }
          },
          "title": {
           "x": 0.05
          },
          "xaxis": {
           "automargin": true,
           "gridcolor": "white",
           "linecolor": "white",
           "ticks": "",
           "title": {
            "standoff": 15
           },
           "zerolinecolor": "white",
           "zerolinewidth": 2
          },
          "yaxis": {
           "automargin": true,
           "gridcolor": "white",
           "linecolor": "white",
           "ticks": "",
           "title": {
            "standoff": 15
           },
           "zerolinecolor": "white",
           "zerolinewidth": 2
          }
         }
        },
        "title": {
         "text": "Model comparison on rate of answering \"yes\" to the recognition question across various familiarity scores"
        },
        "width": 1200,
        "xaxis": {
         "tickmode": "array",
         "ticktext": [
          "0-20",
          "21-40",
          "41-60",
          "61-80",
          "81-100"
         ],
         "tickvals": [
          0,
          1,
          2,
          3,
          4
         ],
         "title": {
          "text": "Familiarity score in %"
         }
        },
        "yaxis": {
         "title": {
          "text": "Rate of model answering \"yes\""
         }
        }
       }
      }
     },
     "metadata": {},
     "output_type": "display_data"
    }
   ],
   "source": [
    "num_bins = 5\n",
    "category_bins_familiarity = pd.cut(data['familiarity score'], bins=num_bins)\n",
    "\n",
    "data_plot = data.copy()\n",
    "\n",
    "data['category bin familiarity'] = category_bins_familiarity.astype(str)\n",
    "\n",
    "data['greedy bool count'] = data_plot[\"BLIP-2, greedy, bool\"].str.lower().str.count(r'\\byes\\b')\n",
    "data['nucleus top_p=0.1 bool count'] = data_plot[\"BLIP-2, nucleus, top_p=0.1, bool\"].str.lower().str.count(r'\\byes\\b')\n",
    "data['nucleus top_p=0.5 bool count'] = data_plot[\"BLIP-2, nucleus, top_p=0.5, bool\"].str.lower().str.count(r'\\byes\\b')\n",
    "data['nucleus top_p=0.9 bool count'] = data_plot[\"BLIP-2, nucleus, top_p=0.9, bool\"].str.lower().str.count(r'\\byes\\b')\n",
    "data['beam num_beams=1 bool count'] = data_plot[\"BLIP-2, beam, num_beams=1, bool\"].str.lower().str.count(r'\\byes\\b')\n",
    "data['beam num_beams=5 bool count'] = data_plot[\"BLIP-2, beam, num_beams=5, bool\"].str.lower().str.count(r'\\byes\\b')\n",
    "data['beam num_beams=10 bool count'] = data_plot[\"BLIP-2, beam, num_beams=10, bool\"].str.lower().str.count(r'\\byes\\b')\n",
    "\n",
    "f_greedy = data.groupby('category bin familiarity')[\n",
    "    'greedy bool count'].mean()\n",
    "\n",
    "f_beam = data.groupby('category bin familiarity')[\n",
    "    'beam num_beams=1 bool count'].mean()\n",
    "f_nucleus = data.groupby('category bin familiarity')[\n",
    "    'nucleus top_p=0.1 bool count'].mean()\n",
    "\n",
    "f_nucleus2 = data.groupby('category bin familiarity')[\n",
    "    'nucleus top_p=0.5 bool count'].mean()\n",
    "\n",
    "f_nucleus3 = data.groupby('category bin familiarity')[\n",
    "    'nucleus top_p=0.9 bool count'].mean()\n",
    "f_beam2 = data.groupby('category bin familiarity')[\n",
    "    'beam num_beams=5 bool count'].mean()\n",
    "f_beam3 = data.groupby('category bin familiarity')[\n",
    "    'beam num_beams=10 bool count'].mean()\n",
    "\n",
    "\n",
    "\n",
    "fig = go.Figure()\n",
    "# data=[go.Bar(x=bin_percentages.index.astype(str), y=bin_percentages)])\n",
    "\n",
    "fig.add_trace(go.Bar(x=f_greedy.index.astype(\n",
    "    str), y=f_greedy, name='Greedy decoding'))\n",
    "\n",
    "fig.add_trace(go.Bar(x=f_nucleus.index.astype(\n",
    "    str), y=f_nucleus, name='Nucleus Sampling, top_p=0.1'))\n",
    "fig.add_trace(go.Bar(x=f_nucleus2.index.astype(\n",
    "    str), y=f_nucleus2, name='Nucleus Sampling, top_p=0.5'))\n",
    "fig.add_trace(go.Bar(x=f_nucleus3.index.astype(\n",
    "    str), y=f_nucleus3, name='Nucleus Sampling, top_p=0.9'))\n",
    "\n",
    "fig.add_trace(go.Bar(x=f_beam.index.astype(str),\n",
    "              y=f_beam, name='Beam Search, num_beams=1'))\n",
    "\n",
    "\n",
    "\n",
    "fig.add_trace(go.Bar(x=f_beam2.index.astype(str),\n",
    "              y=f_beam2, name='Beam Search, num_beams=5'))\n",
    "\n",
    "\n",
    "\n",
    "fig.add_trace(go.Bar(x=f_beam3.index.astype(str),\n",
    "              y=f_beam3, name='Beam Search, num_beams=10'))\n",
    "\n",
    "fig.update_layout(width=1200, title='Model comparison on rate of answering \"yes\" to the recognition question across various familiarity scores',\n",
    "                  xaxis_title='Bins', yaxis_title='Rate of model answering \"yes\"', xaxis=dict(title='Familiarity score in %', tickmode='array',\n",
    "                tickvals=[\n",
    "                0, 1, 2, 3, 4],\n",
    "                ticktext=['0-20', '21-40', '41-60', '61-80', '81-100']))\n",
    "fig.show()\n",
    "\n",
    "# fig.show()\n",
    "\n",
    "# # Save the plot as JSON\n",
    "# fig_json = fig.to_json()\n",
    "# with open('familiarity.json', 'w') as file:\n",
    "#     file.write(fig_json)"
   ]
  },
  {
   "attachments": {},
   "cell_type": "markdown",
   "metadata": {},
   "source": [
    "## BERTScore \n"
   ]
  },
  {
   "cell_type": "code",
   "execution_count": 5,
   "metadata": {},
   "outputs": [],
   "source": [
    "import bert_score\n",
    "from bert_score import score\n",
    "\n",
    "# hide the loading messages\n",
    "import logging\n",
    "import transformers\n",
    "transformers.tokenization_utils.logger.setLevel(logging.ERROR)\n",
    "transformers.configuration_utils.logger.setLevel(logging.ERROR)\n",
    "transformers.modeling_utils.logger.setLevel(logging.ERROR)\n",
    "\n",
    "%matplotlib inline\n",
    "import matplotlib.pyplot as plt\n",
    "from matplotlib import rcParams\n",
    "\n",
    "rcParams[\"xtick.major.size\"] = 0\n",
    "rcParams[\"xtick.minor.size\"] = 0\n",
    "rcParams[\"ytick.major.size\"] = 0\n",
    "rcParams[\"ytick.minor.size\"] = 0\n",
    "\n",
    "rcParams[\"axes.labelsize\"] = \"large\"\n",
    "rcParams[\"axes.axisbelow\"] = True\n",
    "rcParams[\"axes.grid\"] = True"
   ]
  },
  {
   "attachments": {},
   "cell_type": "markdown",
   "metadata": {},
   "source": [
    "#### Get candidate and reference sentences"
   ]
  },
  {
   "cell_type": "code",
   "execution_count": 6,
   "metadata": {},
   "outputs": [],
   "source": [
    "refs = list(data['actual name'])\n",
    "candidates = {}\n",
    "title = 'BLIP-2'\n",
    "columns = data.columns\n",
    "for column in columns:\n",
    "    if title in column and 'saliency' not in column and 'bool' not in column and 'max_new_tokens' not in column:\n",
    "        candidates[column] = list(data[column])\n",
    "\n",
    "\n",
    "# cands_greedy_caption = list(data['BLIP-2, greedy, caption'])\n",
    "# cands_beam_caption = list(data['BLIP-2, beam, caption'])\n",
    "# cands_nucleus_caption = list(data['BLIP-2, nucleus, caption'])\n",
    "\n",
    "\n",
    "# cands_greedy_name = data['BLIP-2, greedy, name']\n",
    "# cands_beam_name = data['BLIP-2, beam, name']\n",
    "# cands_nucleus_name = data['BLIP-2, nucleus, name']\n",
    "\n",
    "# cands_greedy_real = list(data['BLIP-2, greedy, real'])\n",
    "# cands_beam_real = list(data['BLIP-2, beam, real'])\n",
    "# cands_nucleus_real = list(data['BLIP-2, nucleus, real'])"
   ]
  },
  {
   "cell_type": "code",
   "execution_count": 7,
   "metadata": {},
   "outputs": [
    {
     "data": {
      "text/plain": [
       "dict_keys(['BLIP-2, greedy, caption', 'BLIP-2, greedy, name', 'BLIP-2, greedy, real', 'BLIP-2, nucleus, top_p=0.1, caption', 'BLIP-2, nucleus, top_p=0.1, name', 'BLIP-2, nucleus, top_p=0.1, real', 'BLIP-2, nucleus, top_p=0.5, caption', 'BLIP-2, nucleus, top_p=0.5, name', 'BLIP-2, nucleus, top_p=0.5, real', 'BLIP-2, nucleus, top_p=0.9, caption', 'BLIP-2, nucleus, top_p=0.9, name', 'BLIP-2, nucleus, top_p=0.9, real', 'BLIP-2, beam, num_beams=1, caption', 'BLIP-2, beam, num_beams=1, name', 'BLIP-2, beam, num_beams=1, real', 'BLIP-2, beam, num_beams=5, caption', 'BLIP-2, beam, num_beams=5, name', 'BLIP-2, beam, num_beams=5, real', 'BLIP-2, beam, num_beams=10, caption', 'BLIP-2, beam, num_beams=10, name', 'BLIP-2, beam, num_beams=10, real'])"
      ]
     },
     "execution_count": 7,
     "metadata": {},
     "output_type": "execute_result"
    }
   ],
   "source": [
    "candidates.keys()"
   ]
  },
  {
   "attachments": {},
   "cell_type": "markdown",
   "metadata": {},
   "source": [
    "#### BERTScore familiarity measurement\n",
    "BERTScore produces P, R, F1 scores respectively. "
   ]
  },
  {
   "cell_type": "code",
   "execution_count": 8,
   "metadata": {},
   "outputs": [
    {
     "name": "stdout",
     "output_type": "stream",
     "text": [
      "calculating scores...\n",
      "computing bert embedding.\n"
     ]
    },
    {
     "name": "stderr",
     "output_type": "stream",
     "text": [
      "100%|██████████| 2/2 [00:03<00:00,  1.85s/it]\n"
     ]
    },
    {
     "name": "stdout",
     "output_type": "stream",
     "text": [
      "computing greedy matching.\n"
     ]
    },
    {
     "name": "stderr",
     "output_type": "stream",
     "text": [
      "100%|██████████| 1/1 [00:00<00:00, 36.08it/s]\n"
     ]
    },
    {
     "name": "stdout",
     "output_type": "stream",
     "text": [
      "done in 3.73 seconds, 17.14 sentences/sec\n",
      "calculating scores...\n",
      "computing bert embedding.\n"
     ]
    },
    {
     "name": "stderr",
     "output_type": "stream",
     "text": [
      "100%|██████████| 2/2 [00:00<00:00,  9.97it/s]\n"
     ]
    },
    {
     "name": "stdout",
     "output_type": "stream",
     "text": [
      "computing greedy matching.\n"
     ]
    },
    {
     "name": "stderr",
     "output_type": "stream",
     "text": [
      "100%|██████████| 1/1 [00:00<00:00, 55.55it/s]\n"
     ]
    },
    {
     "name": "stdout",
     "output_type": "stream",
     "text": [
      "done in 0.22 seconds, 287.08 sentences/sec\n",
      "calculating scores...\n",
      "computing bert embedding.\n"
     ]
    },
    {
     "name": "stderr",
     "output_type": "stream",
     "text": [
      "100%|██████████| 2/2 [00:00<00:00,  9.23it/s]\n"
     ]
    },
    {
     "name": "stdout",
     "output_type": "stream",
     "text": [
      "computing greedy matching.\n"
     ]
    },
    {
     "name": "stderr",
     "output_type": "stream",
     "text": [
      "100%|██████████| 1/1 [00:00<00:00, 71.43it/s]\n"
     ]
    },
    {
     "name": "stdout",
     "output_type": "stream",
     "text": [
      "done in 0.24 seconds, 271.36 sentences/sec\n",
      "calculating scores...\n",
      "computing bert embedding.\n"
     ]
    },
    {
     "name": "stderr",
     "output_type": "stream",
     "text": [
      "100%|██████████| 2/2 [00:00<00:00,  8.69it/s]\n"
     ]
    },
    {
     "name": "stdout",
     "output_type": "stream",
     "text": [
      "computing greedy matching.\n"
     ]
    },
    {
     "name": "stderr",
     "output_type": "stream",
     "text": [
      "100%|██████████| 1/1 [00:00<00:00, 55.56it/s]\n"
     ]
    },
    {
     "name": "stdout",
     "output_type": "stream",
     "text": [
      "done in 0.25 seconds, 252.07 sentences/sec\n",
      "calculating scores...\n",
      "computing bert embedding.\n"
     ]
    },
    {
     "name": "stderr",
     "output_type": "stream",
     "text": [
      "100%|██████████| 2/2 [00:00<00:00, 11.08it/s]\n"
     ]
    },
    {
     "name": "stdout",
     "output_type": "stream",
     "text": [
      "computing greedy matching.\n"
     ]
    },
    {
     "name": "stderr",
     "output_type": "stream",
     "text": [
      "100%|██████████| 1/1 [00:00<00:00, 71.42it/s]\n"
     ]
    },
    {
     "name": "stdout",
     "output_type": "stream",
     "text": [
      "done in 0.20 seconds, 322.14 sentences/sec\n",
      "calculating scores...\n",
      "computing bert embedding.\n"
     ]
    },
    {
     "name": "stderr",
     "output_type": "stream",
     "text": [
      "100%|██████████| 2/2 [00:00<00:00,  9.24it/s]\n"
     ]
    },
    {
     "name": "stdout",
     "output_type": "stream",
     "text": [
      "computing greedy matching.\n"
     ]
    },
    {
     "name": "stderr",
     "output_type": "stream",
     "text": [
      "100%|██████████| 1/1 [00:00<00:00, 55.54it/s]\n"
     ]
    },
    {
     "name": "stdout",
     "output_type": "stream",
     "text": [
      "done in 0.24 seconds, 268.44 sentences/sec\n",
      "calculating scores...\n",
      "computing bert embedding.\n"
     ]
    },
    {
     "name": "stderr",
     "output_type": "stream",
     "text": [
      "100%|██████████| 2/2 [00:00<00:00,  8.65it/s]\n"
     ]
    },
    {
     "name": "stdout",
     "output_type": "stream",
     "text": [
      "computing greedy matching.\n"
     ]
    },
    {
     "name": "stderr",
     "output_type": "stream",
     "text": [
      "100%|██████████| 1/1 [00:00<00:00, 60.02it/s]\n"
     ]
    },
    {
     "name": "stdout",
     "output_type": "stream",
     "text": [
      "done in 0.25 seconds, 254.54 sentences/sec\n",
      "calculating scores...\n",
      "computing bert embedding.\n"
     ]
    },
    {
     "name": "stderr",
     "output_type": "stream",
     "text": [
      "100%|██████████| 2/2 [00:00<00:00, 10.84it/s]\n"
     ]
    },
    {
     "name": "stdout",
     "output_type": "stream",
     "text": [
      "computing greedy matching.\n"
     ]
    },
    {
     "name": "stderr",
     "output_type": "stream",
     "text": [
      "100%|██████████| 1/1 [00:00<00:00, 66.67it/s]\n"
     ]
    },
    {
     "name": "stdout",
     "output_type": "stream",
     "text": [
      "done in 0.20 seconds, 314.38 sentences/sec\n",
      "calculating scores...\n",
      "computing bert embedding.\n"
     ]
    },
    {
     "name": "stderr",
     "output_type": "stream",
     "text": [
      "100%|██████████| 2/2 [00:00<00:00,  9.42it/s]\n"
     ]
    },
    {
     "name": "stdout",
     "output_type": "stream",
     "text": [
      "computing greedy matching.\n"
     ]
    },
    {
     "name": "stderr",
     "output_type": "stream",
     "text": [
      "100%|██████████| 1/1 [00:00<00:00, 71.43it/s]\n"
     ]
    },
    {
     "name": "stdout",
     "output_type": "stream",
     "text": [
      "done in 0.23 seconds, 278.19 sentences/sec\n",
      "calculating scores...\n",
      "computing bert embedding.\n"
     ]
    },
    {
     "name": "stderr",
     "output_type": "stream",
     "text": [
      "100%|██████████| 2/2 [00:00<00:00,  8.23it/s]\n"
     ]
    },
    {
     "name": "stdout",
     "output_type": "stream",
     "text": [
      "computing greedy matching.\n"
     ]
    },
    {
     "name": "stderr",
     "output_type": "stream",
     "text": [
      "100%|██████████| 1/1 [00:00<00:00, 52.64it/s]\n"
     ]
    },
    {
     "name": "stdout",
     "output_type": "stream",
     "text": [
      "done in 0.26 seconds, 241.71 sentences/sec\n",
      "calculating scores...\n",
      "computing bert embedding.\n"
     ]
    },
    {
     "name": "stderr",
     "output_type": "stream",
     "text": [
      "100%|██████████| 2/2 [00:00<00:00,  9.58it/s]\n"
     ]
    },
    {
     "name": "stdout",
     "output_type": "stream",
     "text": [
      "computing greedy matching.\n"
     ]
    },
    {
     "name": "stderr",
     "output_type": "stream",
     "text": [
      "  0%|          | 0/1 [00:00<?, ?it/s]Warning: Empty candidate sentence detected; setting raw BERTscores to 0.\n",
      "100%|██████████| 1/1 [00:00<00:00, 66.67it/s]\n"
     ]
    },
    {
     "name": "stdout",
     "output_type": "stream",
     "text": [
      "done in 0.23 seconds, 281.61 sentences/sec\n",
      "calculating scores...\n",
      "computing bert embedding.\n"
     ]
    },
    {
     "name": "stderr",
     "output_type": "stream",
     "text": [
      "100%|██████████| 2/2 [00:00<00:00,  8.17it/s]\n"
     ]
    },
    {
     "name": "stdout",
     "output_type": "stream",
     "text": [
      "computing greedy matching.\n"
     ]
    },
    {
     "name": "stderr",
     "output_type": "stream",
     "text": [
      "  0%|          | 0/1 [00:00<?, ?it/s]Warning: Empty candidate sentence detected; setting raw BERTscores to 0.\n",
      "100%|██████████| 1/1 [00:00<00:00, 62.50it/s]\n"
     ]
    },
    {
     "name": "stdout",
     "output_type": "stream",
     "text": [
      "done in 0.26 seconds, 242.50 sentences/sec\n",
      "calculating scores...\n",
      "computing bert embedding.\n"
     ]
    },
    {
     "name": "stderr",
     "output_type": "stream",
     "text": [
      "100%|██████████| 2/2 [00:00<00:00,  9.13it/s]\n"
     ]
    },
    {
     "name": "stdout",
     "output_type": "stream",
     "text": [
      "computing greedy matching.\n"
     ]
    },
    {
     "name": "stderr",
     "output_type": "stream",
     "text": [
      "100%|██████████| 1/1 [00:00<00:00, 66.66it/s]\n"
     ]
    },
    {
     "name": "stdout",
     "output_type": "stream",
     "text": [
      "done in 0.24 seconds, 269.92 sentences/sec\n",
      "calculating scores...\n",
      "computing bert embedding.\n"
     ]
    },
    {
     "name": "stderr",
     "output_type": "stream",
     "text": [
      "100%|██████████| 2/2 [00:00<00:00, 10.99it/s]\n"
     ]
    },
    {
     "name": "stdout",
     "output_type": "stream",
     "text": [
      "computing greedy matching.\n"
     ]
    },
    {
     "name": "stderr",
     "output_type": "stream",
     "text": [
      "100%|██████████| 1/1 [00:00<00:00, 71.43it/s]\n"
     ]
    },
    {
     "name": "stdout",
     "output_type": "stream",
     "text": [
      "done in 0.20 seconds, 318.76 sentences/sec\n",
      "calculating scores...\n",
      "computing bert embedding.\n"
     ]
    },
    {
     "name": "stderr",
     "output_type": "stream",
     "text": [
      "100%|██████████| 2/2 [00:00<00:00,  8.12it/s]\n"
     ]
    },
    {
     "name": "stdout",
     "output_type": "stream",
     "text": [
      "computing greedy matching.\n"
     ]
    },
    {
     "name": "stderr",
     "output_type": "stream",
     "text": [
      "100%|██████████| 1/1 [00:00<00:00, 71.43it/s]\n"
     ]
    },
    {
     "name": "stdout",
     "output_type": "stream",
     "text": [
      "done in 0.26 seconds, 242.15 sentences/sec\n",
      "calculating scores...\n",
      "computing bert embedding.\n"
     ]
    },
    {
     "name": "stderr",
     "output_type": "stream",
     "text": [
      "100%|██████████| 2/2 [00:00<00:00,  8.51it/s]\n"
     ]
    },
    {
     "name": "stdout",
     "output_type": "stream",
     "text": [
      "computing greedy matching.\n"
     ]
    },
    {
     "name": "stderr",
     "output_type": "stream",
     "text": [
      "100%|██████████| 1/1 [00:00<00:00, 55.57it/s]\n"
     ]
    },
    {
     "name": "stdout",
     "output_type": "stream",
     "text": [
      "done in 0.26 seconds, 247.85 sentences/sec\n",
      "calculating scores...\n",
      "computing bert embedding.\n"
     ]
    },
    {
     "name": "stderr",
     "output_type": "stream",
     "text": [
      "100%|██████████| 2/2 [00:00<00:00,  9.43it/s]\n"
     ]
    },
    {
     "name": "stdout",
     "output_type": "stream",
     "text": [
      "computing greedy matching.\n"
     ]
    },
    {
     "name": "stderr",
     "output_type": "stream",
     "text": [
      "100%|██████████| 1/1 [00:00<00:00, 71.43it/s]\n"
     ]
    },
    {
     "name": "stdout",
     "output_type": "stream",
     "text": [
      "done in 0.23 seconds, 278.82 sentences/sec\n",
      "calculating scores...\n",
      "computing bert embedding.\n"
     ]
    },
    {
     "name": "stderr",
     "output_type": "stream",
     "text": [
      "100%|██████████| 2/2 [00:00<00:00,  8.12it/s]\n"
     ]
    },
    {
     "name": "stdout",
     "output_type": "stream",
     "text": [
      "computing greedy matching.\n"
     ]
    },
    {
     "name": "stderr",
     "output_type": "stream",
     "text": [
      "100%|██████████| 1/1 [00:00<00:00, 62.51it/s]\n"
     ]
    },
    {
     "name": "stdout",
     "output_type": "stream",
     "text": [
      "done in 0.27 seconds, 240.10 sentences/sec\n",
      "calculating scores...\n",
      "computing bert embedding.\n"
     ]
    },
    {
     "name": "stderr",
     "output_type": "stream",
     "text": [
      "100%|██████████| 2/2 [00:00<00:00,  9.13it/s]\n"
     ]
    },
    {
     "name": "stdout",
     "output_type": "stream",
     "text": [
      "computing greedy matching.\n"
     ]
    },
    {
     "name": "stderr",
     "output_type": "stream",
     "text": [
      "100%|██████████| 1/1 [00:00<00:00, 66.66it/s]\n"
     ]
    },
    {
     "name": "stdout",
     "output_type": "stream",
     "text": [
      "done in 0.24 seconds, 270.11 sentences/sec\n",
      "calculating scores...\n",
      "computing bert embedding.\n"
     ]
    },
    {
     "name": "stderr",
     "output_type": "stream",
     "text": [
      "100%|██████████| 2/2 [00:00<00:00,  9.35it/s]\n"
     ]
    },
    {
     "name": "stdout",
     "output_type": "stream",
     "text": [
      "computing greedy matching.\n"
     ]
    },
    {
     "name": "stderr",
     "output_type": "stream",
     "text": [
      "100%|██████████| 1/1 [00:00<00:00, 66.67it/s]\n"
     ]
    },
    {
     "name": "stdout",
     "output_type": "stream",
     "text": [
      "done in 0.23 seconds, 274.60 sentences/sec\n",
      "calculating scores...\n",
      "computing bert embedding.\n"
     ]
    },
    {
     "name": "stderr",
     "output_type": "stream",
     "text": [
      "100%|██████████| 2/2 [00:00<00:00,  7.98it/s]\n"
     ]
    },
    {
     "name": "stdout",
     "output_type": "stream",
     "text": [
      "computing greedy matching.\n"
     ]
    },
    {
     "name": "stderr",
     "output_type": "stream",
     "text": [
      "100%|██████████| 1/1 [00:00<00:00, 56.74it/s]"
     ]
    },
    {
     "name": "stdout",
     "output_type": "stream",
     "text": [
      "done in 0.27 seconds, 234.02 sentences/sec\n"
     ]
    },
    {
     "name": "stderr",
     "output_type": "stream",
     "text": [
      "\n"
     ]
    }
   ],
   "source": [
    "familiarity_scores = {}\n",
    "for item in candidates.items():\n",
    "    familiarity_scores[f'{item[0]} familiarity bertscore'] = score(item[1], refs, lang='en', verbose=True)\n"
   ]
  },
  {
   "cell_type": "code",
   "execution_count": 17,
   "metadata": {},
   "outputs": [
    {
     "name": "stdout",
     "output_type": "stream",
     "text": [
      "BLIP-2, greedy, real\n",
      "real name:  noisemaker gen text:  A toy that is made of plastic and has two orange and green plastic handles tensor(0.7734)\n",
      "BLIP-2, nucleus, top_p=0.1, real\n",
      "real name:  noisemaker gen text:  A toy that is made of plastic and has two orange and green plastic handles tensor(0.7734)\n",
      "BLIP-2, nucleus, top_p=0.5, real\n",
      "real name:  noisemaker gen text:  A small, plastic, plastic flower with a handle and a green plastic stem tensor(0.7870)\n",
      "BLIP-2, nucleus, top_p=0.9, real\n",
      "real name:  book end gen text:    tensor(0.)\n",
      "BLIP-2, beam, num_beams=1, real\n",
      "real name:  noisemaker gen text:  A toy that is made of plastic and has two orange and green plastic handles tensor(0.7734)\n",
      "BLIP-2, beam, num_beams=5, real\n",
      "real name:  boomerang gen text:  I think it's a footrest for a chair, but I don't know what kind of chair tensor(0.7736)\n",
      "BLIP-2, beam, num_beams=10, real\n",
      "real name:  noisemaker gen text:  This is a plastic toy with two orange and one green handle tensor(0.7739)\n"
     ]
    }
   ],
   "source": [
    "for i in familiarity_scores.keys():\n",
    "    if 'real' in i:\n",
    "        index = np.argmin(np.array(familiarity_scores[i][-1]))\n",
    "        col_name = re.sub(r'\\s+familiarity bertscore', '', i)\n",
    "        print(col_name)\n",
    "        print('real name: ', list(data['actual name'])[index], 'gen text: ', list(data[col_name])[index], familiarity_scores[i][-1][index])"
   ]
  },
  {
   "cell_type": "code",
   "execution_count": 9,
   "metadata": {},
   "outputs": [
    {
     "name": "stdout",
     "output_type": "stream",
     "text": [
      "BLIP-2, greedy, caption familiarity bertscore Precision mean is  0.8230213\n",
      "BLIP-2, greedy, caption familiarity bertscore Precision median is  0.82052994\n",
      "BLIP-2, greedy, caption familiarity bertscore Precision std is  0.024830252\n",
      "BLIP-2, greedy, caption familiarity bertscore Recall mean is  0.85193086\n",
      "BLIP-2, greedy, caption familiarity bertscore Recall median is  0.8482951\n",
      "BLIP-2, greedy, caption familiarity bertscore Recall std is  0.047016505\n",
      "BLIP-2, greedy, caption familiarity bertscore F1-score mean is  0.8367176\n",
      "BLIP-2, greedy, caption familiarity bertscore F1-score median is  0.83475685\n",
      "BLIP-2, greedy, caption familiarity bertscore F1-score std is  0.030605547\n",
      "=========================== END OF BLIP-2, greedy, caption familiarity bertscore ==============================\n",
      "BLIP-2, nucleus, top_p=0.1, caption familiarity bertscore Precision mean is  0.823554\n",
      "BLIP-2, nucleus, top_p=0.1, caption familiarity bertscore Precision median is  0.82120466\n",
      "BLIP-2, nucleus, top_p=0.1, caption familiarity bertscore Precision std is  0.024644785\n",
      "BLIP-2, nucleus, top_p=0.1, caption familiarity bertscore Recall mean is  0.85288954\n",
      "BLIP-2, nucleus, top_p=0.1, caption familiarity bertscore Recall median is  0.8482951\n",
      "BLIP-2, nucleus, top_p=0.1, caption familiarity bertscore Recall std is  0.048116114\n",
      "BLIP-2, nucleus, top_p=0.1, caption familiarity bertscore F1-score mean is  0.83743984\n",
      "BLIP-2, nucleus, top_p=0.1, caption familiarity bertscore F1-score median is  0.83591646\n",
      "BLIP-2, nucleus, top_p=0.1, caption familiarity bertscore F1-score std is  0.031050557\n",
      "=========================== END OF BLIP-2, nucleus, top_p=0.1, caption familiarity bertscore ==============================\n",
      "BLIP-2, nucleus, top_p=0.5, caption familiarity bertscore Precision mean is  0.82435477\n",
      "BLIP-2, nucleus, top_p=0.5, caption familiarity bertscore Precision median is  0.82430685\n",
      "BLIP-2, nucleus, top_p=0.5, caption familiarity bertscore Precision std is  0.027974637\n",
      "BLIP-2, nucleus, top_p=0.5, caption familiarity bertscore Recall mean is  0.8528884\n",
      "BLIP-2, nucleus, top_p=0.5, caption familiarity bertscore Recall median is  0.8561673\n",
      "BLIP-2, nucleus, top_p=0.5, caption familiarity bertscore Recall std is  0.049772594\n",
      "BLIP-2, nucleus, top_p=0.5, caption familiarity bertscore F1-score mean is  0.837849\n",
      "BLIP-2, nucleus, top_p=0.5, caption familiarity bertscore F1-score median is  0.83853316\n",
      "BLIP-2, nucleus, top_p=0.5, caption familiarity bertscore F1-score std is  0.033694457\n",
      "=========================== END OF BLIP-2, nucleus, top_p=0.5, caption familiarity bertscore ==============================\n",
      "BLIP-2, nucleus, top_p=0.9, caption familiarity bertscore Precision mean is  0.8190559\n",
      "BLIP-2, nucleus, top_p=0.9, caption familiarity bertscore Precision median is  0.81762934\n",
      "BLIP-2, nucleus, top_p=0.9, caption familiarity bertscore Precision std is  0.02653424\n",
      "BLIP-2, nucleus, top_p=0.9, caption familiarity bertscore Recall mean is  0.84158564\n",
      "BLIP-2, nucleus, top_p=0.9, caption familiarity bertscore Recall median is  0.83627295\n",
      "BLIP-2, nucleus, top_p=0.9, caption familiarity bertscore Recall std is  0.04099338\n",
      "BLIP-2, nucleus, top_p=0.9, caption familiarity bertscore F1-score mean is  0.8298379\n",
      "BLIP-2, nucleus, top_p=0.9, caption familiarity bertscore F1-score median is  0.83064413\n",
      "BLIP-2, nucleus, top_p=0.9, caption familiarity bertscore F1-score std is  0.029920368\n",
      "=========================== END OF BLIP-2, nucleus, top_p=0.9, caption familiarity bertscore ==============================\n",
      "BLIP-2, beam, num_beams=1, caption familiarity bertscore Precision mean is  0.8230213\n",
      "BLIP-2, beam, num_beams=1, caption familiarity bertscore Precision median is  0.82052994\n",
      "BLIP-2, beam, num_beams=1, caption familiarity bertscore Precision std is  0.024830252\n",
      "BLIP-2, beam, num_beams=1, caption familiarity bertscore Recall mean is  0.85193086\n",
      "BLIP-2, beam, num_beams=1, caption familiarity bertscore Recall median is  0.8482951\n",
      "BLIP-2, beam, num_beams=1, caption familiarity bertscore Recall std is  0.047016505\n",
      "BLIP-2, beam, num_beams=1, caption familiarity bertscore F1-score mean is  0.8367176\n",
      "BLIP-2, beam, num_beams=1, caption familiarity bertscore F1-score median is  0.83475685\n",
      "BLIP-2, beam, num_beams=1, caption familiarity bertscore F1-score std is  0.030605547\n",
      "=========================== END OF BLIP-2, beam, num_beams=1, caption familiarity bertscore ==============================\n",
      "BLIP-2, beam, num_beams=5, caption familiarity bertscore Precision mean is  0.81370485\n",
      "BLIP-2, beam, num_beams=5, caption familiarity bertscore Precision median is  0.8136503\n",
      "BLIP-2, beam, num_beams=5, caption familiarity bertscore Precision std is  0.021681422\n",
      "BLIP-2, beam, num_beams=5, caption familiarity bertscore Recall mean is  0.8490441\n",
      "BLIP-2, beam, num_beams=5, caption familiarity bertscore Recall median is  0.84917265\n",
      "BLIP-2, beam, num_beams=5, caption familiarity bertscore Recall std is  0.046459757\n",
      "BLIP-2, beam, num_beams=5, caption familiarity bertscore F1-score mean is  0.83051956\n",
      "BLIP-2, beam, num_beams=5, caption familiarity bertscore F1-score median is  0.8242632\n",
      "BLIP-2, beam, num_beams=5, caption familiarity bertscore F1-score std is  0.029224228\n",
      "=========================== END OF BLIP-2, beam, num_beams=5, caption familiarity bertscore ==============================\n",
      "BLIP-2, beam, num_beams=10, caption familiarity bertscore Precision mean is  0.8130909\n",
      "BLIP-2, beam, num_beams=10, caption familiarity bertscore Precision median is  0.8117426\n",
      "BLIP-2, beam, num_beams=10, caption familiarity bertscore Precision std is  0.021735715\n",
      "BLIP-2, beam, num_beams=10, caption familiarity bertscore Recall mean is  0.84819406\n",
      "BLIP-2, beam, num_beams=10, caption familiarity bertscore Recall median is  0.8483865\n",
      "BLIP-2, beam, num_beams=10, caption familiarity bertscore Recall std is  0.046045713\n",
      "BLIP-2, beam, num_beams=10, caption familiarity bertscore F1-score mean is  0.8298079\n",
      "BLIP-2, beam, num_beams=10, caption familiarity bertscore F1-score median is  0.8242632\n",
      "BLIP-2, beam, num_beams=10, caption familiarity bertscore F1-score std is  0.029134063\n",
      "=========================== END OF BLIP-2, beam, num_beams=10, caption familiarity bertscore ==============================\n"
     ]
    },
    {
     "data": {
      "application/vnd.plotly.v1+json": {
       "config": {
        "plotlyServerURL": "https://plot.ly"
       },
       "data": [
        {
         "name": "BLIP-2, greedy",
         "type": "bar",
         "x": [
          "(18.6, 34.2]",
          "(2.922, 18.6]",
          "(34.2, 49.8]",
          "(49.8, 65.4]",
          "(65.4, 81.0]"
         ],
         "y": [
          0.8301506638526917,
          0.8412748575210571,
          0.8353670239448547,
          0.8524444699287415,
          0.8394863605499268
         ]
        },
        {
         "name": "BLIP-2, nucleus, top_p=0.1",
         "type": "bar",
         "x": [
          "(18.6, 34.2]",
          "(2.922, 18.6]",
          "(34.2, 49.8]",
          "(49.8, 65.4]",
          "(65.4, 81.0]"
         ],
         "y": [
          0.829975962638855,
          0.8414708971977234,
          0.8366702795028687,
          0.8581766486167908,
          0.8394863605499268
         ]
        },
        {
         "name": "BLIP-2, nucleus, top_p=0.5",
         "type": "bar",
         "x": [
          "(18.6, 34.2]",
          "(2.922, 18.6]",
          "(34.2, 49.8]",
          "(49.8, 65.4]",
          "(65.4, 81.0]"
         ],
         "y": [
          0.8326765894889832,
          0.8415744304656982,
          0.8379449248313904,
          0.8443980813026428,
          0.8421576023101807
         ]
        },
        {
         "name": "BLIP-2, nucleus, top_p=0.9",
         "type": "bar",
         "x": [
          "(18.6, 34.2]",
          "(2.922, 18.6]",
          "(34.2, 49.8]",
          "(49.8, 65.4]",
          "(65.4, 81.0]"
         ],
         "y": [
          0.8216626048088074,
          0.8333393931388855,
          0.8326881527900696,
          0.8456523418426514,
          0.8317445516586304
         ]
        },
        {
         "name": "BLIP-2, beam, num_beams=1",
         "type": "bar",
         "x": [
          "(18.6, 34.2]",
          "(2.922, 18.6]",
          "(34.2, 49.8]",
          "(49.8, 65.4]",
          "(65.4, 81.0]"
         ],
         "y": [
          0.8301506638526917,
          0.8412748575210571,
          0.8353670239448547,
          0.8524444699287415,
          0.8394863605499268
         ]
        },
        {
         "name": "BLIP-2, beam, num_beams=5",
         "type": "bar",
         "x": [
          "(18.6, 34.2]",
          "(2.922, 18.6]",
          "(34.2, 49.8]",
          "(49.8, 65.4]",
          "(65.4, 81.0]"
         ],
         "y": [
          0.823804497718811,
          0.8348987102508545,
          0.8262574076652527,
          0.8529350757598877,
          0.8360384702682495
         ]
        },
        {
         "name": "BLIP-2, beam, num_beams=10",
         "type": "bar",
         "x": [
          "(18.6, 34.2]",
          "(2.922, 18.6]",
          "(34.2, 49.8]",
          "(49.8, 65.4]",
          "(65.4, 81.0]"
         ],
         "y": [
          0.8240705728530884,
          0.8336821794509888,
          0.8251909613609314,
          0.8499901294708252,
          0.8357718586921692
         ]
        }
       ],
       "layout": {
        "barmode": "group",
        "template": {
         "data": {
          "bar": [
           {
            "error_x": {
             "color": "#2a3f5f"
            },
            "error_y": {
             "color": "#2a3f5f"
            },
            "marker": {
             "line": {
              "color": "#E5ECF6",
              "width": 0.5
             },
             "pattern": {
              "fillmode": "overlay",
              "size": 10,
              "solidity": 0.2
             }
            },
            "type": "bar"
           }
          ],
          "barpolar": [
           {
            "marker": {
             "line": {
              "color": "#E5ECF6",
              "width": 0.5
             },
             "pattern": {
              "fillmode": "overlay",
              "size": 10,
              "solidity": 0.2
             }
            },
            "type": "barpolar"
           }
          ],
          "carpet": [
           {
            "aaxis": {
             "endlinecolor": "#2a3f5f",
             "gridcolor": "white",
             "linecolor": "white",
             "minorgridcolor": "white",
             "startlinecolor": "#2a3f5f"
            },
            "baxis": {
             "endlinecolor": "#2a3f5f",
             "gridcolor": "white",
             "linecolor": "white",
             "minorgridcolor": "white",
             "startlinecolor": "#2a3f5f"
            },
            "type": "carpet"
           }
          ],
          "choropleth": [
           {
            "colorbar": {
             "outlinewidth": 0,
             "ticks": ""
            },
            "type": "choropleth"
           }
          ],
          "contour": [
           {
            "colorbar": {
             "outlinewidth": 0,
             "ticks": ""
            },
            "colorscale": [
             [
              0,
              "#0d0887"
             ],
             [
              0.1111111111111111,
              "#46039f"
             ],
             [
              0.2222222222222222,
              "#7201a8"
             ],
             [
              0.3333333333333333,
              "#9c179e"
             ],
             [
              0.4444444444444444,
              "#bd3786"
             ],
             [
              0.5555555555555556,
              "#d8576b"
             ],
             [
              0.6666666666666666,
              "#ed7953"
             ],
             [
              0.7777777777777778,
              "#fb9f3a"
             ],
             [
              0.8888888888888888,
              "#fdca26"
             ],
             [
              1,
              "#f0f921"
             ]
            ],
            "type": "contour"
           }
          ],
          "contourcarpet": [
           {
            "colorbar": {
             "outlinewidth": 0,
             "ticks": ""
            },
            "type": "contourcarpet"
           }
          ],
          "heatmap": [
           {
            "colorbar": {
             "outlinewidth": 0,
             "ticks": ""
            },
            "colorscale": [
             [
              0,
              "#0d0887"
             ],
             [
              0.1111111111111111,
              "#46039f"
             ],
             [
              0.2222222222222222,
              "#7201a8"
             ],
             [
              0.3333333333333333,
              "#9c179e"
             ],
             [
              0.4444444444444444,
              "#bd3786"
             ],
             [
              0.5555555555555556,
              "#d8576b"
             ],
             [
              0.6666666666666666,
              "#ed7953"
             ],
             [
              0.7777777777777778,
              "#fb9f3a"
             ],
             [
              0.8888888888888888,
              "#fdca26"
             ],
             [
              1,
              "#f0f921"
             ]
            ],
            "type": "heatmap"
           }
          ],
          "heatmapgl": [
           {
            "colorbar": {
             "outlinewidth": 0,
             "ticks": ""
            },
            "colorscale": [
             [
              0,
              "#0d0887"
             ],
             [
              0.1111111111111111,
              "#46039f"
             ],
             [
              0.2222222222222222,
              "#7201a8"
             ],
             [
              0.3333333333333333,
              "#9c179e"
             ],
             [
              0.4444444444444444,
              "#bd3786"
             ],
             [
              0.5555555555555556,
              "#d8576b"
             ],
             [
              0.6666666666666666,
              "#ed7953"
             ],
             [
              0.7777777777777778,
              "#fb9f3a"
             ],
             [
              0.8888888888888888,
              "#fdca26"
             ],
             [
              1,
              "#f0f921"
             ]
            ],
            "type": "heatmapgl"
           }
          ],
          "histogram": [
           {
            "marker": {
             "pattern": {
              "fillmode": "overlay",
              "size": 10,
              "solidity": 0.2
             }
            },
            "type": "histogram"
           }
          ],
          "histogram2d": [
           {
            "colorbar": {
             "outlinewidth": 0,
             "ticks": ""
            },
            "colorscale": [
             [
              0,
              "#0d0887"
             ],
             [
              0.1111111111111111,
              "#46039f"
             ],
             [
              0.2222222222222222,
              "#7201a8"
             ],
             [
              0.3333333333333333,
              "#9c179e"
             ],
             [
              0.4444444444444444,
              "#bd3786"
             ],
             [
              0.5555555555555556,
              "#d8576b"
             ],
             [
              0.6666666666666666,
              "#ed7953"
             ],
             [
              0.7777777777777778,
              "#fb9f3a"
             ],
             [
              0.8888888888888888,
              "#fdca26"
             ],
             [
              1,
              "#f0f921"
             ]
            ],
            "type": "histogram2d"
           }
          ],
          "histogram2dcontour": [
           {
            "colorbar": {
             "outlinewidth": 0,
             "ticks": ""
            },
            "colorscale": [
             [
              0,
              "#0d0887"
             ],
             [
              0.1111111111111111,
              "#46039f"
             ],
             [
              0.2222222222222222,
              "#7201a8"
             ],
             [
              0.3333333333333333,
              "#9c179e"
             ],
             [
              0.4444444444444444,
              "#bd3786"
             ],
             [
              0.5555555555555556,
              "#d8576b"
             ],
             [
              0.6666666666666666,
              "#ed7953"
             ],
             [
              0.7777777777777778,
              "#fb9f3a"
             ],
             [
              0.8888888888888888,
              "#fdca26"
             ],
             [
              1,
              "#f0f921"
             ]
            ],
            "type": "histogram2dcontour"
           }
          ],
          "mesh3d": [
           {
            "colorbar": {
             "outlinewidth": 0,
             "ticks": ""
            },
            "type": "mesh3d"
           }
          ],
          "parcoords": [
           {
            "line": {
             "colorbar": {
              "outlinewidth": 0,
              "ticks": ""
             }
            },
            "type": "parcoords"
           }
          ],
          "pie": [
           {
            "automargin": true,
            "type": "pie"
           }
          ],
          "scatter": [
           {
            "fillpattern": {
             "fillmode": "overlay",
             "size": 10,
             "solidity": 0.2
            },
            "type": "scatter"
           }
          ],
          "scatter3d": [
           {
            "line": {
             "colorbar": {
              "outlinewidth": 0,
              "ticks": ""
             }
            },
            "marker": {
             "colorbar": {
              "outlinewidth": 0,
              "ticks": ""
             }
            },
            "type": "scatter3d"
           }
          ],
          "scattercarpet": [
           {
            "marker": {
             "colorbar": {
              "outlinewidth": 0,
              "ticks": ""
             }
            },
            "type": "scattercarpet"
           }
          ],
          "scattergeo": [
           {
            "marker": {
             "colorbar": {
              "outlinewidth": 0,
              "ticks": ""
             }
            },
            "type": "scattergeo"
           }
          ],
          "scattergl": [
           {
            "marker": {
             "colorbar": {
              "outlinewidth": 0,
              "ticks": ""
             }
            },
            "type": "scattergl"
           }
          ],
          "scattermapbox": [
           {
            "marker": {
             "colorbar": {
              "outlinewidth": 0,
              "ticks": ""
             }
            },
            "type": "scattermapbox"
           }
          ],
          "scatterpolar": [
           {
            "marker": {
             "colorbar": {
              "outlinewidth": 0,
              "ticks": ""
             }
            },
            "type": "scatterpolar"
           }
          ],
          "scatterpolargl": [
           {
            "marker": {
             "colorbar": {
              "outlinewidth": 0,
              "ticks": ""
             }
            },
            "type": "scatterpolargl"
           }
          ],
          "scatterternary": [
           {
            "marker": {
             "colorbar": {
              "outlinewidth": 0,
              "ticks": ""
             }
            },
            "type": "scatterternary"
           }
          ],
          "surface": [
           {
            "colorbar": {
             "outlinewidth": 0,
             "ticks": ""
            },
            "colorscale": [
             [
              0,
              "#0d0887"
             ],
             [
              0.1111111111111111,
              "#46039f"
             ],
             [
              0.2222222222222222,
              "#7201a8"
             ],
             [
              0.3333333333333333,
              "#9c179e"
             ],
             [
              0.4444444444444444,
              "#bd3786"
             ],
             [
              0.5555555555555556,
              "#d8576b"
             ],
             [
              0.6666666666666666,
              "#ed7953"
             ],
             [
              0.7777777777777778,
              "#fb9f3a"
             ],
             [
              0.8888888888888888,
              "#fdca26"
             ],
             [
              1,
              "#f0f921"
             ]
            ],
            "type": "surface"
           }
          ],
          "table": [
           {
            "cells": {
             "fill": {
              "color": "#EBF0F8"
             },
             "line": {
              "color": "white"
             }
            },
            "header": {
             "fill": {
              "color": "#C8D4E3"
             },
             "line": {
              "color": "white"
             }
            },
            "type": "table"
           }
          ]
         },
         "layout": {
          "annotationdefaults": {
           "arrowcolor": "#2a3f5f",
           "arrowhead": 0,
           "arrowwidth": 1
          },
          "autotypenumbers": "strict",
          "coloraxis": {
           "colorbar": {
            "outlinewidth": 0,
            "ticks": ""
           }
          },
          "colorscale": {
           "diverging": [
            [
             0,
             "#8e0152"
            ],
            [
             0.1,
             "#c51b7d"
            ],
            [
             0.2,
             "#de77ae"
            ],
            [
             0.3,
             "#f1b6da"
            ],
            [
             0.4,
             "#fde0ef"
            ],
            [
             0.5,
             "#f7f7f7"
            ],
            [
             0.6,
             "#e6f5d0"
            ],
            [
             0.7,
             "#b8e186"
            ],
            [
             0.8,
             "#7fbc41"
            ],
            [
             0.9,
             "#4d9221"
            ],
            [
             1,
             "#276419"
            ]
           ],
           "sequential": [
            [
             0,
             "#0d0887"
            ],
            [
             0.1111111111111111,
             "#46039f"
            ],
            [
             0.2222222222222222,
             "#7201a8"
            ],
            [
             0.3333333333333333,
             "#9c179e"
            ],
            [
             0.4444444444444444,
             "#bd3786"
            ],
            [
             0.5555555555555556,
             "#d8576b"
            ],
            [
             0.6666666666666666,
             "#ed7953"
            ],
            [
             0.7777777777777778,
             "#fb9f3a"
            ],
            [
             0.8888888888888888,
             "#fdca26"
            ],
            [
             1,
             "#f0f921"
            ]
           ],
           "sequentialminus": [
            [
             0,
             "#0d0887"
            ],
            [
             0.1111111111111111,
             "#46039f"
            ],
            [
             0.2222222222222222,
             "#7201a8"
            ],
            [
             0.3333333333333333,
             "#9c179e"
            ],
            [
             0.4444444444444444,
             "#bd3786"
            ],
            [
             0.5555555555555556,
             "#d8576b"
            ],
            [
             0.6666666666666666,
             "#ed7953"
            ],
            [
             0.7777777777777778,
             "#fb9f3a"
            ],
            [
             0.8888888888888888,
             "#fdca26"
            ],
            [
             1,
             "#f0f921"
            ]
           ]
          },
          "colorway": [
           "#636efa",
           "#EF553B",
           "#00cc96",
           "#ab63fa",
           "#FFA15A",
           "#19d3f3",
           "#FF6692",
           "#B6E880",
           "#FF97FF",
           "#FECB52"
          ],
          "font": {
           "color": "#2a3f5f"
          },
          "geo": {
           "bgcolor": "white",
           "lakecolor": "white",
           "landcolor": "#E5ECF6",
           "showlakes": true,
           "showland": true,
           "subunitcolor": "white"
          },
          "hoverlabel": {
           "align": "left"
          },
          "hovermode": "closest",
          "mapbox": {
           "style": "light"
          },
          "paper_bgcolor": "white",
          "plot_bgcolor": "#E5ECF6",
          "polar": {
           "angularaxis": {
            "gridcolor": "white",
            "linecolor": "white",
            "ticks": ""
           },
           "bgcolor": "#E5ECF6",
           "radialaxis": {
            "gridcolor": "white",
            "linecolor": "white",
            "ticks": ""
           }
          },
          "scene": {
           "xaxis": {
            "backgroundcolor": "#E5ECF6",
            "gridcolor": "white",
            "gridwidth": 2,
            "linecolor": "white",
            "showbackground": true,
            "ticks": "",
            "zerolinecolor": "white"
           },
           "yaxis": {
            "backgroundcolor": "#E5ECF6",
            "gridcolor": "white",
            "gridwidth": 2,
            "linecolor": "white",
            "showbackground": true,
            "ticks": "",
            "zerolinecolor": "white"
           },
           "zaxis": {
            "backgroundcolor": "#E5ECF6",
            "gridcolor": "white",
            "gridwidth": 2,
            "linecolor": "white",
            "showbackground": true,
            "ticks": "",
            "zerolinecolor": "white"
           }
          },
          "shapedefaults": {
           "line": {
            "color": "#2a3f5f"
           }
          },
          "ternary": {
           "aaxis": {
            "gridcolor": "white",
            "linecolor": "white",
            "ticks": ""
           },
           "baxis": {
            "gridcolor": "white",
            "linecolor": "white",
            "ticks": ""
           },
           "bgcolor": "#E5ECF6",
           "caxis": {
            "gridcolor": "white",
            "linecolor": "white",
            "ticks": ""
           }
          },
          "title": {
           "x": 0.05
          },
          "xaxis": {
           "automargin": true,
           "gridcolor": "white",
           "linecolor": "white",
           "ticks": "",
           "title": {
            "standoff": 15
           },
           "zerolinecolor": "white",
           "zerolinewidth": 2
          },
          "yaxis": {
           "automargin": true,
           "gridcolor": "white",
           "linecolor": "white",
           "ticks": "",
           "title": {
            "standoff": 15
           },
           "zerolinecolor": "white",
           "zerolinewidth": 2
          }
         }
        },
        "title": {
         "text": "BERTScore real name similarity F1-Score compared to familiarity scores, binned, Image captioning"
        },
        "width": 1000,
        "xaxis": {
         "tickmode": "array",
         "ticktext": [
          "0-20",
          "21-40",
          "41-60",
          "61-80",
          "81-100"
         ],
         "tickvals": [
          0,
          1,
          2,
          3,
          4
         ],
         "title": {
          "text": "Familiarity score in %"
         }
        },
        "yaxis": {
         "title": {
          "text": "F1-Score"
         },
         "type": "log"
        }
       }
      }
     },
     "metadata": {},
     "output_type": "display_data"
    },
    {
     "name": "stdout",
     "output_type": "stream",
     "text": [
      "BLIP-2, greedy, name familiarity bertscore Precision mean is  0.8563696\n",
      "BLIP-2, greedy, name familiarity bertscore Precision median is  0.8536523\n",
      "BLIP-2, greedy, name familiarity bertscore Precision std is  0.038012788\n",
      "BLIP-2, greedy, name familiarity bertscore Recall mean is  0.8491865\n",
      "BLIP-2, greedy, name familiarity bertscore Recall median is  0.8473715\n",
      "BLIP-2, greedy, name familiarity bertscore Recall std is  0.04221396\n",
      "BLIP-2, greedy, name familiarity bertscore F1-score mean is  0.8521277\n",
      "BLIP-2, greedy, name familiarity bertscore F1-score median is  0.8451811\n",
      "BLIP-2, greedy, name familiarity bertscore F1-score std is  0.03275927\n",
      "=========================== END OF BLIP-2, greedy, name familiarity bertscore ==============================\n",
      "BLIP-2, nucleus, top_p=0.1, name familiarity bertscore Precision mean is  0.8566769\n",
      "BLIP-2, nucleus, top_p=0.1, name familiarity bertscore Precision median is  0.85478204\n",
      "BLIP-2, nucleus, top_p=0.1, name familiarity bertscore Precision std is  0.03796789\n",
      "BLIP-2, nucleus, top_p=0.1, name familiarity bertscore Recall mean is  0.84929496\n",
      "BLIP-2, nucleus, top_p=0.1, name familiarity bertscore Recall median is  0.8473715\n",
      "BLIP-2, nucleus, top_p=0.1, name familiarity bertscore Recall std is  0.042067412\n",
      "BLIP-2, nucleus, top_p=0.1, name familiarity bertscore F1-score mean is  0.8523287\n",
      "BLIP-2, nucleus, top_p=0.1, name familiarity bertscore F1-score median is  0.8451811\n",
      "BLIP-2, nucleus, top_p=0.1, name familiarity bertscore F1-score std is  0.032564484\n",
      "=========================== END OF BLIP-2, nucleus, top_p=0.1, name familiarity bertscore ==============================\n",
      "BLIP-2, nucleus, top_p=0.5, name familiarity bertscore Precision mean is  0.8476122\n",
      "BLIP-2, nucleus, top_p=0.5, name familiarity bertscore Precision median is  0.84726894\n",
      "BLIP-2, nucleus, top_p=0.5, name familiarity bertscore Precision std is  0.03393866\n",
      "BLIP-2, nucleus, top_p=0.5, name familiarity bertscore Recall mean is  0.84628725\n",
      "BLIP-2, nucleus, top_p=0.5, name familiarity bertscore Recall median is  0.8450136\n",
      "BLIP-2, nucleus, top_p=0.5, name familiarity bertscore Recall std is  0.041143168\n",
      "BLIP-2, nucleus, top_p=0.5, name familiarity bertscore F1-score mean is  0.84635586\n",
      "BLIP-2, nucleus, top_p=0.5, name familiarity bertscore F1-score median is  0.8445598\n",
      "BLIP-2, nucleus, top_p=0.5, name familiarity bertscore F1-score std is  0.030322993\n",
      "=========================== END OF BLIP-2, nucleus, top_p=0.5, name familiarity bertscore ==============================\n",
      "BLIP-2, nucleus, top_p=0.9, name familiarity bertscore Precision mean is  0.78538865\n",
      "BLIP-2, nucleus, top_p=0.9, name familiarity bertscore Precision median is  0.8399389\n",
      "BLIP-2, nucleus, top_p=0.9, name familiarity bertscore Precision std is  0.20709439\n",
      "BLIP-2, nucleus, top_p=0.9, name familiarity bertscore Recall mean is  0.79341197\n",
      "BLIP-2, nucleus, top_p=0.9, name familiarity bertscore Recall median is  0.8378023\n",
      "BLIP-2, nucleus, top_p=0.9, name familiarity bertscore Recall std is  0.21008037\n",
      "BLIP-2, nucleus, top_p=0.9, name familiarity bertscore F1-score mean is  0.78874594\n",
      "BLIP-2, nucleus, top_p=0.9, name familiarity bertscore F1-score median is  0.8364854\n",
      "BLIP-2, nucleus, top_p=0.9, name familiarity bertscore F1-score std is  0.20715338\n",
      "=========================== END OF BLIP-2, nucleus, top_p=0.9, name familiarity bertscore ==============================\n",
      "BLIP-2, beam, num_beams=1, name familiarity bertscore Precision mean is  0.8563696\n",
      "BLIP-2, beam, num_beams=1, name familiarity bertscore Precision median is  0.8536523\n",
      "BLIP-2, beam, num_beams=1, name familiarity bertscore Precision std is  0.038012788\n",
      "BLIP-2, beam, num_beams=1, name familiarity bertscore Recall mean is  0.8491865\n",
      "BLIP-2, beam, num_beams=1, name familiarity bertscore Recall median is  0.8473715\n",
      "BLIP-2, beam, num_beams=1, name familiarity bertscore Recall std is  0.04221396\n",
      "BLIP-2, beam, num_beams=1, name familiarity bertscore F1-score mean is  0.8521277\n",
      "BLIP-2, beam, num_beams=1, name familiarity bertscore F1-score median is  0.8451811\n",
      "BLIP-2, beam, num_beams=1, name familiarity bertscore F1-score std is  0.03275927\n",
      "=========================== END OF BLIP-2, beam, num_beams=1, name familiarity bertscore ==============================\n",
      "BLIP-2, beam, num_beams=5, name familiarity bertscore Precision mean is  0.8249608\n",
      "BLIP-2, beam, num_beams=5, name familiarity bertscore Precision median is  0.82267404\n",
      "BLIP-2, beam, num_beams=5, name familiarity bertscore Precision std is  0.02988632\n",
      "BLIP-2, beam, num_beams=5, name familiarity bertscore Recall mean is  0.83869344\n",
      "BLIP-2, beam, num_beams=5, name familiarity bertscore Recall median is  0.8345877\n",
      "BLIP-2, beam, num_beams=5, name familiarity bertscore Recall std is  0.044715922\n",
      "BLIP-2, beam, num_beams=5, name familiarity bertscore F1-score mean is  0.8312589\n",
      "BLIP-2, beam, num_beams=5, name familiarity bertscore F1-score median is  0.82503366\n",
      "BLIP-2, beam, num_beams=5, name familiarity bertscore F1-score std is  0.03161108\n",
      "=========================== END OF BLIP-2, beam, num_beams=5, name familiarity bertscore ==============================\n",
      "BLIP-2, beam, num_beams=10, name familiarity bertscore Precision mean is  0.8181702\n",
      "BLIP-2, beam, num_beams=10, name familiarity bertscore Precision median is  0.811857\n",
      "BLIP-2, beam, num_beams=10, name familiarity bertscore Precision std is  0.028553694\n",
      "BLIP-2, beam, num_beams=10, name familiarity bertscore Recall mean is  0.8309177\n",
      "BLIP-2, beam, num_beams=10, name familiarity bertscore Recall median is  0.8304869\n",
      "BLIP-2, beam, num_beams=10, name familiarity bertscore Recall std is  0.04170785\n",
      "BLIP-2, beam, num_beams=10, name familiarity bertscore F1-score mean is  0.82403666\n",
      "BLIP-2, beam, num_beams=10, name familiarity bertscore F1-score median is  0.8226197\n",
      "BLIP-2, beam, num_beams=10, name familiarity bertscore F1-score std is  0.029686691\n",
      "=========================== END OF BLIP-2, beam, num_beams=10, name familiarity bertscore ==============================\n"
     ]
    },
    {
     "data": {
      "application/vnd.plotly.v1+json": {
       "config": {
        "plotlyServerURL": "https://plot.ly"
       },
       "data": [
        {
         "name": "BLIP-2, greedy",
         "type": "bar",
         "x": [
          "(18.6, 34.2]",
          "(2.922, 18.6]",
          "(34.2, 49.8]",
          "(49.8, 65.4]",
          "(65.4, 81.0]"
         ],
         "y": [
          0.8469489812850952,
          0.8589127063751221,
          0.8467331528663635,
          0.8599721193313599,
          0.860140323638916
         ]
        },
        {
         "name": "BLIP-2, nucleus, top_p=0.1",
         "type": "bar",
         "x": [
          "(18.6, 34.2]",
          "(2.922, 18.6]",
          "(34.2, 49.8]",
          "(49.8, 65.4]",
          "(65.4, 81.0]"
         ],
         "y": [
          0.8469489812850952,
          0.8589127063751221,
          0.8476523160934448,
          0.8599721193313599,
          0.860140323638916
         ]
        },
        {
         "name": "BLIP-2, nucleus, top_p=0.5",
         "type": "bar",
         "x": [
          "(18.6, 34.2]",
          "(2.922, 18.6]",
          "(34.2, 49.8]",
          "(49.8, 65.4]",
          "(65.4, 81.0]"
         ],
         "y": [
          0.8410729765892029,
          0.8481665849685669,
          0.8441706299781799,
          0.8594075441360474,
          0.8575680255889893
         ]
        },
        {
         "name": "BLIP-2, nucleus, top_p=0.9",
         "type": "bar",
         "x": [
          "(18.6, 34.2]",
          "(2.922, 18.6]",
          "(34.2, 49.8]",
          "(49.8, 65.4]",
          "(65.4, 81.0]"
         ],
         "y": [
          0.7997651100158691,
          0.847466766834259,
          0.7179518938064575,
          0.6796315908432007,
          0.8457452058792114
         ]
        },
        {
         "name": "BLIP-2, beam, num_beams=1",
         "type": "bar",
         "x": [
          "(18.6, 34.2]",
          "(2.922, 18.6]",
          "(34.2, 49.8]",
          "(49.8, 65.4]",
          "(65.4, 81.0]"
         ],
         "y": [
          0.8469489812850952,
          0.8589127063751221,
          0.8467331528663635,
          0.8599721193313599,
          0.860140323638916
         ]
        },
        {
         "name": "BLIP-2, beam, num_beams=5",
         "type": "bar",
         "x": [
          "(18.6, 34.2]",
          "(2.922, 18.6]",
          "(34.2, 49.8]",
          "(49.8, 65.4]",
          "(65.4, 81.0]"
         ],
         "y": [
          0.8299797773361206,
          0.8314005136489868,
          0.8284276723861694,
          0.84447181224823,
          0.8313762545585632
         ]
        },
        {
         "name": "BLIP-2, beam, num_beams=10",
         "type": "bar",
         "x": [
          "(18.6, 34.2]",
          "(2.922, 18.6]",
          "(34.2, 49.8]",
          "(49.8, 65.4]",
          "(65.4, 81.0]"
         ],
         "y": [
          0.8236960172653198,
          0.8239578008651733,
          0.8207935690879822,
          0.839483380317688,
          0.819504976272583
         ]
        }
       ],
       "layout": {
        "barmode": "group",
        "template": {
         "data": {
          "bar": [
           {
            "error_x": {
             "color": "#2a3f5f"
            },
            "error_y": {
             "color": "#2a3f5f"
            },
            "marker": {
             "line": {
              "color": "#E5ECF6",
              "width": 0.5
             },
             "pattern": {
              "fillmode": "overlay",
              "size": 10,
              "solidity": 0.2
             }
            },
            "type": "bar"
           }
          ],
          "barpolar": [
           {
            "marker": {
             "line": {
              "color": "#E5ECF6",
              "width": 0.5
             },
             "pattern": {
              "fillmode": "overlay",
              "size": 10,
              "solidity": 0.2
             }
            },
            "type": "barpolar"
           }
          ],
          "carpet": [
           {
            "aaxis": {
             "endlinecolor": "#2a3f5f",
             "gridcolor": "white",
             "linecolor": "white",
             "minorgridcolor": "white",
             "startlinecolor": "#2a3f5f"
            },
            "baxis": {
             "endlinecolor": "#2a3f5f",
             "gridcolor": "white",
             "linecolor": "white",
             "minorgridcolor": "white",
             "startlinecolor": "#2a3f5f"
            },
            "type": "carpet"
           }
          ],
          "choropleth": [
           {
            "colorbar": {
             "outlinewidth": 0,
             "ticks": ""
            },
            "type": "choropleth"
           }
          ],
          "contour": [
           {
            "colorbar": {
             "outlinewidth": 0,
             "ticks": ""
            },
            "colorscale": [
             [
              0,
              "#0d0887"
             ],
             [
              0.1111111111111111,
              "#46039f"
             ],
             [
              0.2222222222222222,
              "#7201a8"
             ],
             [
              0.3333333333333333,
              "#9c179e"
             ],
             [
              0.4444444444444444,
              "#bd3786"
             ],
             [
              0.5555555555555556,
              "#d8576b"
             ],
             [
              0.6666666666666666,
              "#ed7953"
             ],
             [
              0.7777777777777778,
              "#fb9f3a"
             ],
             [
              0.8888888888888888,
              "#fdca26"
             ],
             [
              1,
              "#f0f921"
             ]
            ],
            "type": "contour"
           }
          ],
          "contourcarpet": [
           {
            "colorbar": {
             "outlinewidth": 0,
             "ticks": ""
            },
            "type": "contourcarpet"
           }
          ],
          "heatmap": [
           {
            "colorbar": {
             "outlinewidth": 0,
             "ticks": ""
            },
            "colorscale": [
             [
              0,
              "#0d0887"
             ],
             [
              0.1111111111111111,
              "#46039f"
             ],
             [
              0.2222222222222222,
              "#7201a8"
             ],
             [
              0.3333333333333333,
              "#9c179e"
             ],
             [
              0.4444444444444444,
              "#bd3786"
             ],
             [
              0.5555555555555556,
              "#d8576b"
             ],
             [
              0.6666666666666666,
              "#ed7953"
             ],
             [
              0.7777777777777778,
              "#fb9f3a"
             ],
             [
              0.8888888888888888,
              "#fdca26"
             ],
             [
              1,
              "#f0f921"
             ]
            ],
            "type": "heatmap"
           }
          ],
          "heatmapgl": [
           {
            "colorbar": {
             "outlinewidth": 0,
             "ticks": ""
            },
            "colorscale": [
             [
              0,
              "#0d0887"
             ],
             [
              0.1111111111111111,
              "#46039f"
             ],
             [
              0.2222222222222222,
              "#7201a8"
             ],
             [
              0.3333333333333333,
              "#9c179e"
             ],
             [
              0.4444444444444444,
              "#bd3786"
             ],
             [
              0.5555555555555556,
              "#d8576b"
             ],
             [
              0.6666666666666666,
              "#ed7953"
             ],
             [
              0.7777777777777778,
              "#fb9f3a"
             ],
             [
              0.8888888888888888,
              "#fdca26"
             ],
             [
              1,
              "#f0f921"
             ]
            ],
            "type": "heatmapgl"
           }
          ],
          "histogram": [
           {
            "marker": {
             "pattern": {
              "fillmode": "overlay",
              "size": 10,
              "solidity": 0.2
             }
            },
            "type": "histogram"
           }
          ],
          "histogram2d": [
           {
            "colorbar": {
             "outlinewidth": 0,
             "ticks": ""
            },
            "colorscale": [
             [
              0,
              "#0d0887"
             ],
             [
              0.1111111111111111,
              "#46039f"
             ],
             [
              0.2222222222222222,
              "#7201a8"
             ],
             [
              0.3333333333333333,
              "#9c179e"
             ],
             [
              0.4444444444444444,
              "#bd3786"
             ],
             [
              0.5555555555555556,
              "#d8576b"
             ],
             [
              0.6666666666666666,
              "#ed7953"
             ],
             [
              0.7777777777777778,
              "#fb9f3a"
             ],
             [
              0.8888888888888888,
              "#fdca26"
             ],
             [
              1,
              "#f0f921"
             ]
            ],
            "type": "histogram2d"
           }
          ],
          "histogram2dcontour": [
           {
            "colorbar": {
             "outlinewidth": 0,
             "ticks": ""
            },
            "colorscale": [
             [
              0,
              "#0d0887"
             ],
             [
              0.1111111111111111,
              "#46039f"
             ],
             [
              0.2222222222222222,
              "#7201a8"
             ],
             [
              0.3333333333333333,
              "#9c179e"
             ],
             [
              0.4444444444444444,
              "#bd3786"
             ],
             [
              0.5555555555555556,
              "#d8576b"
             ],
             [
              0.6666666666666666,
              "#ed7953"
             ],
             [
              0.7777777777777778,
              "#fb9f3a"
             ],
             [
              0.8888888888888888,
              "#fdca26"
             ],
             [
              1,
              "#f0f921"
             ]
            ],
            "type": "histogram2dcontour"
           }
          ],
          "mesh3d": [
           {
            "colorbar": {
             "outlinewidth": 0,
             "ticks": ""
            },
            "type": "mesh3d"
           }
          ],
          "parcoords": [
           {
            "line": {
             "colorbar": {
              "outlinewidth": 0,
              "ticks": ""
             }
            },
            "type": "parcoords"
           }
          ],
          "pie": [
           {
            "automargin": true,
            "type": "pie"
           }
          ],
          "scatter": [
           {
            "fillpattern": {
             "fillmode": "overlay",
             "size": 10,
             "solidity": 0.2
            },
            "type": "scatter"
           }
          ],
          "scatter3d": [
           {
            "line": {
             "colorbar": {
              "outlinewidth": 0,
              "ticks": ""
             }
            },
            "marker": {
             "colorbar": {
              "outlinewidth": 0,
              "ticks": ""
             }
            },
            "type": "scatter3d"
           }
          ],
          "scattercarpet": [
           {
            "marker": {
             "colorbar": {
              "outlinewidth": 0,
              "ticks": ""
             }
            },
            "type": "scattercarpet"
           }
          ],
          "scattergeo": [
           {
            "marker": {
             "colorbar": {
              "outlinewidth": 0,
              "ticks": ""
             }
            },
            "type": "scattergeo"
           }
          ],
          "scattergl": [
           {
            "marker": {
             "colorbar": {
              "outlinewidth": 0,
              "ticks": ""
             }
            },
            "type": "scattergl"
           }
          ],
          "scattermapbox": [
           {
            "marker": {
             "colorbar": {
              "outlinewidth": 0,
              "ticks": ""
             }
            },
            "type": "scattermapbox"
           }
          ],
          "scatterpolar": [
           {
            "marker": {
             "colorbar": {
              "outlinewidth": 0,
              "ticks": ""
             }
            },
            "type": "scatterpolar"
           }
          ],
          "scatterpolargl": [
           {
            "marker": {
             "colorbar": {
              "outlinewidth": 0,
              "ticks": ""
             }
            },
            "type": "scatterpolargl"
           }
          ],
          "scatterternary": [
           {
            "marker": {
             "colorbar": {
              "outlinewidth": 0,
              "ticks": ""
             }
            },
            "type": "scatterternary"
           }
          ],
          "surface": [
           {
            "colorbar": {
             "outlinewidth": 0,
             "ticks": ""
            },
            "colorscale": [
             [
              0,
              "#0d0887"
             ],
             [
              0.1111111111111111,
              "#46039f"
             ],
             [
              0.2222222222222222,
              "#7201a8"
             ],
             [
              0.3333333333333333,
              "#9c179e"
             ],
             [
              0.4444444444444444,
              "#bd3786"
             ],
             [
              0.5555555555555556,
              "#d8576b"
             ],
             [
              0.6666666666666666,
              "#ed7953"
             ],
             [
              0.7777777777777778,
              "#fb9f3a"
             ],
             [
              0.8888888888888888,
              "#fdca26"
             ],
             [
              1,
              "#f0f921"
             ]
            ],
            "type": "surface"
           }
          ],
          "table": [
           {
            "cells": {
             "fill": {
              "color": "#EBF0F8"
             },
             "line": {
              "color": "white"
             }
            },
            "header": {
             "fill": {
              "color": "#C8D4E3"
             },
             "line": {
              "color": "white"
             }
            },
            "type": "table"
           }
          ]
         },
         "layout": {
          "annotationdefaults": {
           "arrowcolor": "#2a3f5f",
           "arrowhead": 0,
           "arrowwidth": 1
          },
          "autotypenumbers": "strict",
          "coloraxis": {
           "colorbar": {
            "outlinewidth": 0,
            "ticks": ""
           }
          },
          "colorscale": {
           "diverging": [
            [
             0,
             "#8e0152"
            ],
            [
             0.1,
             "#c51b7d"
            ],
            [
             0.2,
             "#de77ae"
            ],
            [
             0.3,
             "#f1b6da"
            ],
            [
             0.4,
             "#fde0ef"
            ],
            [
             0.5,
             "#f7f7f7"
            ],
            [
             0.6,
             "#e6f5d0"
            ],
            [
             0.7,
             "#b8e186"
            ],
            [
             0.8,
             "#7fbc41"
            ],
            [
             0.9,
             "#4d9221"
            ],
            [
             1,
             "#276419"
            ]
           ],
           "sequential": [
            [
             0,
             "#0d0887"
            ],
            [
             0.1111111111111111,
             "#46039f"
            ],
            [
             0.2222222222222222,
             "#7201a8"
            ],
            [
             0.3333333333333333,
             "#9c179e"
            ],
            [
             0.4444444444444444,
             "#bd3786"
            ],
            [
             0.5555555555555556,
             "#d8576b"
            ],
            [
             0.6666666666666666,
             "#ed7953"
            ],
            [
             0.7777777777777778,
             "#fb9f3a"
            ],
            [
             0.8888888888888888,
             "#fdca26"
            ],
            [
             1,
             "#f0f921"
            ]
           ],
           "sequentialminus": [
            [
             0,
             "#0d0887"
            ],
            [
             0.1111111111111111,
             "#46039f"
            ],
            [
             0.2222222222222222,
             "#7201a8"
            ],
            [
             0.3333333333333333,
             "#9c179e"
            ],
            [
             0.4444444444444444,
             "#bd3786"
            ],
            [
             0.5555555555555556,
             "#d8576b"
            ],
            [
             0.6666666666666666,
             "#ed7953"
            ],
            [
             0.7777777777777778,
             "#fb9f3a"
            ],
            [
             0.8888888888888888,
             "#fdca26"
            ],
            [
             1,
             "#f0f921"
            ]
           ]
          },
          "colorway": [
           "#636efa",
           "#EF553B",
           "#00cc96",
           "#ab63fa",
           "#FFA15A",
           "#19d3f3",
           "#FF6692",
           "#B6E880",
           "#FF97FF",
           "#FECB52"
          ],
          "font": {
           "color": "#2a3f5f"
          },
          "geo": {
           "bgcolor": "white",
           "lakecolor": "white",
           "landcolor": "#E5ECF6",
           "showlakes": true,
           "showland": true,
           "subunitcolor": "white"
          },
          "hoverlabel": {
           "align": "left"
          },
          "hovermode": "closest",
          "mapbox": {
           "style": "light"
          },
          "paper_bgcolor": "white",
          "plot_bgcolor": "#E5ECF6",
          "polar": {
           "angularaxis": {
            "gridcolor": "white",
            "linecolor": "white",
            "ticks": ""
           },
           "bgcolor": "#E5ECF6",
           "radialaxis": {
            "gridcolor": "white",
            "linecolor": "white",
            "ticks": ""
           }
          },
          "scene": {
           "xaxis": {
            "backgroundcolor": "#E5ECF6",
            "gridcolor": "white",
            "gridwidth": 2,
            "linecolor": "white",
            "showbackground": true,
            "ticks": "",
            "zerolinecolor": "white"
           },
           "yaxis": {
            "backgroundcolor": "#E5ECF6",
            "gridcolor": "white",
            "gridwidth": 2,
            "linecolor": "white",
            "showbackground": true,
            "ticks": "",
            "zerolinecolor": "white"
           },
           "zaxis": {
            "backgroundcolor": "#E5ECF6",
            "gridcolor": "white",
            "gridwidth": 2,
            "linecolor": "white",
            "showbackground": true,
            "ticks": "",
            "zerolinecolor": "white"
           }
          },
          "shapedefaults": {
           "line": {
            "color": "#2a3f5f"
           }
          },
          "ternary": {
           "aaxis": {
            "gridcolor": "white",
            "linecolor": "white",
            "ticks": ""
           },
           "baxis": {
            "gridcolor": "white",
            "linecolor": "white",
            "ticks": ""
           },
           "bgcolor": "#E5ECF6",
           "caxis": {
            "gridcolor": "white",
            "linecolor": "white",
            "ticks": ""
           }
          },
          "title": {
           "x": 0.05
          },
          "xaxis": {
           "automargin": true,
           "gridcolor": "white",
           "linecolor": "white",
           "ticks": "",
           "title": {
            "standoff": 15
           },
           "zerolinecolor": "white",
           "zerolinewidth": 2
          },
          "yaxis": {
           "automargin": true,
           "gridcolor": "white",
           "linecolor": "white",
           "ticks": "",
           "title": {
            "standoff": 15
           },
           "zerolinecolor": "white",
           "zerolinewidth": 2
          }
         }
        },
        "title": {
         "text": "BERTScore real name similarity F1-Score compared to familiarity scores, binned, Name question VGA task"
        },
        "width": 1000,
        "xaxis": {
         "tickmode": "array",
         "ticktext": [
          "0-20",
          "21-40",
          "41-60",
          "61-80",
          "81-100"
         ],
         "tickvals": [
          0,
          1,
          2,
          3,
          4
         ],
         "title": {
          "text": "Familiarity score in %"
         }
        },
        "yaxis": {
         "title": {
          "text": "F1-Score"
         },
         "type": "log"
        }
       }
      }
     },
     "metadata": {},
     "output_type": "display_data"
    },
    {
     "name": "stdout",
     "output_type": "stream",
     "text": [
      "BLIP-2, greedy, real familiarity bertscore Precision mean is  0.84735537\n",
      "BLIP-2, greedy, real familiarity bertscore Precision median is  0.8389435\n",
      "BLIP-2, greedy, real familiarity bertscore Precision std is  0.043818492\n",
      "BLIP-2, greedy, real familiarity bertscore Recall mean is  0.8571454\n",
      "BLIP-2, greedy, real familiarity bertscore Recall median is  0.8498201\n",
      "BLIP-2, greedy, real familiarity bertscore Recall std is  0.052577768\n",
      "BLIP-2, greedy, real familiarity bertscore F1-score mean is  0.8518456\n",
      "BLIP-2, greedy, real familiarity bertscore F1-score median is  0.8434106\n",
      "BLIP-2, greedy, real familiarity bertscore F1-score std is  0.04490974\n",
      "=========================== END OF BLIP-2, greedy, real familiarity bertscore ==============================\n",
      "BLIP-2, nucleus, top_p=0.1, real familiarity bertscore Precision mean is  0.8470977\n",
      "BLIP-2, nucleus, top_p=0.1, real familiarity bertscore Precision median is  0.83772564\n",
      "BLIP-2, nucleus, top_p=0.1, real familiarity bertscore Precision std is  0.04349951\n",
      "BLIP-2, nucleus, top_p=0.1, real familiarity bertscore Recall mean is  0.8556325\n",
      "BLIP-2, nucleus, top_p=0.1, real familiarity bertscore Recall median is  0.8498201\n",
      "BLIP-2, nucleus, top_p=0.1, real familiarity bertscore Recall std is  0.052678667\n",
      "BLIP-2, nucleus, top_p=0.1, real familiarity bertscore F1-score mean is  0.85096985\n",
      "BLIP-2, nucleus, top_p=0.1, real familiarity bertscore F1-score median is  0.84115946\n",
      "BLIP-2, nucleus, top_p=0.1, real familiarity bertscore F1-score std is  0.044844396\n",
      "=========================== END OF BLIP-2, nucleus, top_p=0.1, real familiarity bertscore ==============================\n",
      "BLIP-2, nucleus, top_p=0.5, real familiarity bertscore Precision mean is  0.8453473\n",
      "BLIP-2, nucleus, top_p=0.5, real familiarity bertscore Precision median is  0.84083456\n",
      "BLIP-2, nucleus, top_p=0.5, real familiarity bertscore Precision std is  0.035166547\n",
      "BLIP-2, nucleus, top_p=0.5, real familiarity bertscore Recall mean is  0.847924\n",
      "BLIP-2, nucleus, top_p=0.5, real familiarity bertscore Recall median is  0.84874356\n",
      "BLIP-2, nucleus, top_p=0.5, real familiarity bertscore Recall std is  0.045523334\n",
      "BLIP-2, nucleus, top_p=0.5, real familiarity bertscore F1-score mean is  0.84602845\n",
      "BLIP-2, nucleus, top_p=0.5, real familiarity bertscore F1-score median is  0.84406996\n",
      "BLIP-2, nucleus, top_p=0.5, real familiarity bertscore F1-score std is  0.033521652\n",
      "=========================== END OF BLIP-2, nucleus, top_p=0.5, real familiarity bertscore ==============================\n",
      "BLIP-2, nucleus, top_p=0.9, real familiarity bertscore Precision mean is  0.8202794\n",
      "BLIP-2, nucleus, top_p=0.9, real familiarity bertscore Precision median is  0.8320352\n",
      "BLIP-2, nucleus, top_p=0.9, real familiarity bertscore Precision std is  0.1076639\n",
      "BLIP-2, nucleus, top_p=0.9, real familiarity bertscore Recall mean is  0.8245653\n",
      "BLIP-2, nucleus, top_p=0.9, real familiarity bertscore Recall median is  0.8356508\n",
      "BLIP-2, nucleus, top_p=0.9, real familiarity bertscore Recall std is  0.11292486\n",
      "BLIP-2, nucleus, top_p=0.9, real familiarity bertscore F1-score mean is  0.8218893\n",
      "BLIP-2, nucleus, top_p=0.9, real familiarity bertscore F1-score median is  0.83386266\n",
      "BLIP-2, nucleus, top_p=0.9, real familiarity bertscore F1-score std is  0.10817777\n",
      "=========================== END OF BLIP-2, nucleus, top_p=0.9, real familiarity bertscore ==============================\n",
      "BLIP-2, beam, num_beams=1, real familiarity bertscore Precision mean is  0.84735537\n",
      "BLIP-2, beam, num_beams=1, real familiarity bertscore Precision median is  0.8389435\n",
      "BLIP-2, beam, num_beams=1, real familiarity bertscore Precision std is  0.043818492\n",
      "BLIP-2, beam, num_beams=1, real familiarity bertscore Recall mean is  0.8571454\n",
      "BLIP-2, beam, num_beams=1, real familiarity bertscore Recall median is  0.8498201\n",
      "BLIP-2, beam, num_beams=1, real familiarity bertscore Recall std is  0.052577768\n",
      "BLIP-2, beam, num_beams=1, real familiarity bertscore F1-score mean is  0.8518456\n",
      "BLIP-2, beam, num_beams=1, real familiarity bertscore F1-score median is  0.8434106\n",
      "BLIP-2, beam, num_beams=1, real familiarity bertscore F1-score std is  0.04490974\n",
      "=========================== END OF BLIP-2, beam, num_beams=1, real familiarity bertscore ==============================\n",
      "BLIP-2, beam, num_beams=5, real familiarity bertscore Precision mean is  0.835562\n",
      "BLIP-2, beam, num_beams=5, real familiarity bertscore Precision median is  0.8322345\n",
      "BLIP-2, beam, num_beams=5, real familiarity bertscore Precision std is  0.032505725\n",
      "BLIP-2, beam, num_beams=5, real familiarity bertscore Recall mean is  0.8359987\n",
      "BLIP-2, beam, num_beams=5, real familiarity bertscore Recall median is  0.8353286\n",
      "BLIP-2, beam, num_beams=5, real familiarity bertscore Recall std is  0.040894292\n",
      "BLIP-2, beam, num_beams=5, real familiarity bertscore F1-score mean is  0.8351978\n",
      "BLIP-2, beam, num_beams=5, real familiarity bertscore F1-score median is  0.8316488\n",
      "BLIP-2, beam, num_beams=5, real familiarity bertscore F1-score std is  0.029556783\n",
      "=========================== END OF BLIP-2, beam, num_beams=5, real familiarity bertscore ==============================\n",
      "BLIP-2, beam, num_beams=10, real familiarity bertscore Precision mean is  0.8284471\n",
      "BLIP-2, beam, num_beams=10, real familiarity bertscore Precision median is  0.82788396\n",
      "BLIP-2, beam, num_beams=10, real familiarity bertscore Precision std is  0.029507175\n",
      "BLIP-2, beam, num_beams=10, real familiarity bertscore Recall mean is  0.83219624\n",
      "BLIP-2, beam, num_beams=10, real familiarity bertscore Recall median is  0.8321395\n",
      "BLIP-2, beam, num_beams=10, real familiarity bertscore Recall std is  0.040560365\n",
      "BLIP-2, beam, num_beams=10, real familiarity bertscore F1-score mean is  0.8297333\n",
      "BLIP-2, beam, num_beams=10, real familiarity bertscore F1-score median is  0.8281971\n",
      "BLIP-2, beam, num_beams=10, real familiarity bertscore F1-score std is  0.027628524\n",
      "=========================== END OF BLIP-2, beam, num_beams=10, real familiarity bertscore ==============================\n"
     ]
    },
    {
     "data": {
      "application/vnd.plotly.v1+json": {
       "config": {
        "plotlyServerURL": "https://plot.ly"
       },
       "data": [
        {
         "name": "BLIP-2, greedy",
         "type": "bar",
         "x": [
          "(18.6, 34.2]",
          "(2.922, 18.6]",
          "(34.2, 49.8]",
          "(49.8, 65.4]",
          "(65.4, 81.0]"
         ],
         "y": [
          0.850782036781311,
          0.8510554432868958,
          0.8492813110351562,
          0.8666344881057739,
          0.8518155813217163
         ]
        },
        {
         "name": "BLIP-2, nucleus, top_p=0.1",
         "type": "bar",
         "x": [
          "(18.6, 34.2]",
          "(2.922, 18.6]",
          "(34.2, 49.8]",
          "(49.8, 65.4]",
          "(65.4, 81.0]"
         ],
         "y": [
          0.851074755191803,
          0.848239541053772,
          0.848802924156189,
          0.864992082118988,
          0.8518155813217163
         ]
        },
        {
         "name": "BLIP-2, nucleus, top_p=0.5",
         "type": "bar",
         "x": [
          "(18.6, 34.2]",
          "(2.922, 18.6]",
          "(34.2, 49.8]",
          "(49.8, 65.4]",
          "(65.4, 81.0]"
         ],
         "y": [
          0.84344083070755,
          0.85091233253479,
          0.8412278890609741,
          0.8548034429550171,
          0.8459925651550293
         ]
        },
        {
         "name": "BLIP-2, nucleus, top_p=0.9",
         "type": "bar",
         "x": [
          "(18.6, 34.2]",
          "(2.922, 18.6]",
          "(34.2, 49.8]",
          "(49.8, 65.4]",
          "(65.4, 81.0]"
         ],
         "y": [
          0.8262958526611328,
          0.7829630970954895,
          0.8370380401611328,
          0.8563063740730286,
          0.8571354150772095
         ]
        },
        {
         "name": "BLIP-2, beam, num_beams=1",
         "type": "bar",
         "x": [
          "(18.6, 34.2]",
          "(2.922, 18.6]",
          "(34.2, 49.8]",
          "(49.8, 65.4]",
          "(65.4, 81.0]"
         ],
         "y": [
          0.850782036781311,
          0.8510554432868958,
          0.8492813110351562,
          0.8666344881057739,
          0.8518155813217163
         ]
        },
        {
         "name": "BLIP-2, beam, num_beams=5",
         "type": "bar",
         "x": [
          "(18.6, 34.2]",
          "(2.922, 18.6]",
          "(34.2, 49.8]",
          "(49.8, 65.4]",
          "(65.4, 81.0]"
         ],
         "y": [
          0.8325222730636597,
          0.8373772501945496,
          0.8351185917854309,
          0.8467772603034973,
          0.8287370204925537
         ]
        },
        {
         "name": "BLIP-2, beam, num_beams=10",
         "type": "bar",
         "x": [
          "(18.6, 34.2]",
          "(2.922, 18.6]",
          "(34.2, 49.8]",
          "(49.8, 65.4]",
          "(65.4, 81.0]"
         ],
         "y": [
          0.8211280703544617,
          0.8303884863853455,
          0.8375796675682068,
          0.844850480556488,
          0.8300026059150696
         ]
        }
       ],
       "layout": {
        "barmode": "group",
        "template": {
         "data": {
          "bar": [
           {
            "error_x": {
             "color": "#2a3f5f"
            },
            "error_y": {
             "color": "#2a3f5f"
            },
            "marker": {
             "line": {
              "color": "#E5ECF6",
              "width": 0.5
             },
             "pattern": {
              "fillmode": "overlay",
              "size": 10,
              "solidity": 0.2
             }
            },
            "type": "bar"
           }
          ],
          "barpolar": [
           {
            "marker": {
             "line": {
              "color": "#E5ECF6",
              "width": 0.5
             },
             "pattern": {
              "fillmode": "overlay",
              "size": 10,
              "solidity": 0.2
             }
            },
            "type": "barpolar"
           }
          ],
          "carpet": [
           {
            "aaxis": {
             "endlinecolor": "#2a3f5f",
             "gridcolor": "white",
             "linecolor": "white",
             "minorgridcolor": "white",
             "startlinecolor": "#2a3f5f"
            },
            "baxis": {
             "endlinecolor": "#2a3f5f",
             "gridcolor": "white",
             "linecolor": "white",
             "minorgridcolor": "white",
             "startlinecolor": "#2a3f5f"
            },
            "type": "carpet"
           }
          ],
          "choropleth": [
           {
            "colorbar": {
             "outlinewidth": 0,
             "ticks": ""
            },
            "type": "choropleth"
           }
          ],
          "contour": [
           {
            "colorbar": {
             "outlinewidth": 0,
             "ticks": ""
            },
            "colorscale": [
             [
              0,
              "#0d0887"
             ],
             [
              0.1111111111111111,
              "#46039f"
             ],
             [
              0.2222222222222222,
              "#7201a8"
             ],
             [
              0.3333333333333333,
              "#9c179e"
             ],
             [
              0.4444444444444444,
              "#bd3786"
             ],
             [
              0.5555555555555556,
              "#d8576b"
             ],
             [
              0.6666666666666666,
              "#ed7953"
             ],
             [
              0.7777777777777778,
              "#fb9f3a"
             ],
             [
              0.8888888888888888,
              "#fdca26"
             ],
             [
              1,
              "#f0f921"
             ]
            ],
            "type": "contour"
           }
          ],
          "contourcarpet": [
           {
            "colorbar": {
             "outlinewidth": 0,
             "ticks": ""
            },
            "type": "contourcarpet"
           }
          ],
          "heatmap": [
           {
            "colorbar": {
             "outlinewidth": 0,
             "ticks": ""
            },
            "colorscale": [
             [
              0,
              "#0d0887"
             ],
             [
              0.1111111111111111,
              "#46039f"
             ],
             [
              0.2222222222222222,
              "#7201a8"
             ],
             [
              0.3333333333333333,
              "#9c179e"
             ],
             [
              0.4444444444444444,
              "#bd3786"
             ],
             [
              0.5555555555555556,
              "#d8576b"
             ],
             [
              0.6666666666666666,
              "#ed7953"
             ],
             [
              0.7777777777777778,
              "#fb9f3a"
             ],
             [
              0.8888888888888888,
              "#fdca26"
             ],
             [
              1,
              "#f0f921"
             ]
            ],
            "type": "heatmap"
           }
          ],
          "heatmapgl": [
           {
            "colorbar": {
             "outlinewidth": 0,
             "ticks": ""
            },
            "colorscale": [
             [
              0,
              "#0d0887"
             ],
             [
              0.1111111111111111,
              "#46039f"
             ],
             [
              0.2222222222222222,
              "#7201a8"
             ],
             [
              0.3333333333333333,
              "#9c179e"
             ],
             [
              0.4444444444444444,
              "#bd3786"
             ],
             [
              0.5555555555555556,
              "#d8576b"
             ],
             [
              0.6666666666666666,
              "#ed7953"
             ],
             [
              0.7777777777777778,
              "#fb9f3a"
             ],
             [
              0.8888888888888888,
              "#fdca26"
             ],
             [
              1,
              "#f0f921"
             ]
            ],
            "type": "heatmapgl"
           }
          ],
          "histogram": [
           {
            "marker": {
             "pattern": {
              "fillmode": "overlay",
              "size": 10,
              "solidity": 0.2
             }
            },
            "type": "histogram"
           }
          ],
          "histogram2d": [
           {
            "colorbar": {
             "outlinewidth": 0,
             "ticks": ""
            },
            "colorscale": [
             [
              0,
              "#0d0887"
             ],
             [
              0.1111111111111111,
              "#46039f"
             ],
             [
              0.2222222222222222,
              "#7201a8"
             ],
             [
              0.3333333333333333,
              "#9c179e"
             ],
             [
              0.4444444444444444,
              "#bd3786"
             ],
             [
              0.5555555555555556,
              "#d8576b"
             ],
             [
              0.6666666666666666,
              "#ed7953"
             ],
             [
              0.7777777777777778,
              "#fb9f3a"
             ],
             [
              0.8888888888888888,
              "#fdca26"
             ],
             [
              1,
              "#f0f921"
             ]
            ],
            "type": "histogram2d"
           }
          ],
          "histogram2dcontour": [
           {
            "colorbar": {
             "outlinewidth": 0,
             "ticks": ""
            },
            "colorscale": [
             [
              0,
              "#0d0887"
             ],
             [
              0.1111111111111111,
              "#46039f"
             ],
             [
              0.2222222222222222,
              "#7201a8"
             ],
             [
              0.3333333333333333,
              "#9c179e"
             ],
             [
              0.4444444444444444,
              "#bd3786"
             ],
             [
              0.5555555555555556,
              "#d8576b"
             ],
             [
              0.6666666666666666,
              "#ed7953"
             ],
             [
              0.7777777777777778,
              "#fb9f3a"
             ],
             [
              0.8888888888888888,
              "#fdca26"
             ],
             [
              1,
              "#f0f921"
             ]
            ],
            "type": "histogram2dcontour"
           }
          ],
          "mesh3d": [
           {
            "colorbar": {
             "outlinewidth": 0,
             "ticks": ""
            },
            "type": "mesh3d"
           }
          ],
          "parcoords": [
           {
            "line": {
             "colorbar": {
              "outlinewidth": 0,
              "ticks": ""
             }
            },
            "type": "parcoords"
           }
          ],
          "pie": [
           {
            "automargin": true,
            "type": "pie"
           }
          ],
          "scatter": [
           {
            "fillpattern": {
             "fillmode": "overlay",
             "size": 10,
             "solidity": 0.2
            },
            "type": "scatter"
           }
          ],
          "scatter3d": [
           {
            "line": {
             "colorbar": {
              "outlinewidth": 0,
              "ticks": ""
             }
            },
            "marker": {
             "colorbar": {
              "outlinewidth": 0,
              "ticks": ""
             }
            },
            "type": "scatter3d"
           }
          ],
          "scattercarpet": [
           {
            "marker": {
             "colorbar": {
              "outlinewidth": 0,
              "ticks": ""
             }
            },
            "type": "scattercarpet"
           }
          ],
          "scattergeo": [
           {
            "marker": {
             "colorbar": {
              "outlinewidth": 0,
              "ticks": ""
             }
            },
            "type": "scattergeo"
           }
          ],
          "scattergl": [
           {
            "marker": {
             "colorbar": {
              "outlinewidth": 0,
              "ticks": ""
             }
            },
            "type": "scattergl"
           }
          ],
          "scattermapbox": [
           {
            "marker": {
             "colorbar": {
              "outlinewidth": 0,
              "ticks": ""
             }
            },
            "type": "scattermapbox"
           }
          ],
          "scatterpolar": [
           {
            "marker": {
             "colorbar": {
              "outlinewidth": 0,
              "ticks": ""
             }
            },
            "type": "scatterpolar"
           }
          ],
          "scatterpolargl": [
           {
            "marker": {
             "colorbar": {
              "outlinewidth": 0,
              "ticks": ""
             }
            },
            "type": "scatterpolargl"
           }
          ],
          "scatterternary": [
           {
            "marker": {
             "colorbar": {
              "outlinewidth": 0,
              "ticks": ""
             }
            },
            "type": "scatterternary"
           }
          ],
          "surface": [
           {
            "colorbar": {
             "outlinewidth": 0,
             "ticks": ""
            },
            "colorscale": [
             [
              0,
              "#0d0887"
             ],
             [
              0.1111111111111111,
              "#46039f"
             ],
             [
              0.2222222222222222,
              "#7201a8"
             ],
             [
              0.3333333333333333,
              "#9c179e"
             ],
             [
              0.4444444444444444,
              "#bd3786"
             ],
             [
              0.5555555555555556,
              "#d8576b"
             ],
             [
              0.6666666666666666,
              "#ed7953"
             ],
             [
              0.7777777777777778,
              "#fb9f3a"
             ],
             [
              0.8888888888888888,
              "#fdca26"
             ],
             [
              1,
              "#f0f921"
             ]
            ],
            "type": "surface"
           }
          ],
          "table": [
           {
            "cells": {
             "fill": {
              "color": "#EBF0F8"
             },
             "line": {
              "color": "white"
             }
            },
            "header": {
             "fill": {
              "color": "#C8D4E3"
             },
             "line": {
              "color": "white"
             }
            },
            "type": "table"
           }
          ]
         },
         "layout": {
          "annotationdefaults": {
           "arrowcolor": "#2a3f5f",
           "arrowhead": 0,
           "arrowwidth": 1
          },
          "autotypenumbers": "strict",
          "coloraxis": {
           "colorbar": {
            "outlinewidth": 0,
            "ticks": ""
           }
          },
          "colorscale": {
           "diverging": [
            [
             0,
             "#8e0152"
            ],
            [
             0.1,
             "#c51b7d"
            ],
            [
             0.2,
             "#de77ae"
            ],
            [
             0.3,
             "#f1b6da"
            ],
            [
             0.4,
             "#fde0ef"
            ],
            [
             0.5,
             "#f7f7f7"
            ],
            [
             0.6,
             "#e6f5d0"
            ],
            [
             0.7,
             "#b8e186"
            ],
            [
             0.8,
             "#7fbc41"
            ],
            [
             0.9,
             "#4d9221"
            ],
            [
             1,
             "#276419"
            ]
           ],
           "sequential": [
            [
             0,
             "#0d0887"
            ],
            [
             0.1111111111111111,
             "#46039f"
            ],
            [
             0.2222222222222222,
             "#7201a8"
            ],
            [
             0.3333333333333333,
             "#9c179e"
            ],
            [
             0.4444444444444444,
             "#bd3786"
            ],
            [
             0.5555555555555556,
             "#d8576b"
            ],
            [
             0.6666666666666666,
             "#ed7953"
            ],
            [
             0.7777777777777778,
             "#fb9f3a"
            ],
            [
             0.8888888888888888,
             "#fdca26"
            ],
            [
             1,
             "#f0f921"
            ]
           ],
           "sequentialminus": [
            [
             0,
             "#0d0887"
            ],
            [
             0.1111111111111111,
             "#46039f"
            ],
            [
             0.2222222222222222,
             "#7201a8"
            ],
            [
             0.3333333333333333,
             "#9c179e"
            ],
            [
             0.4444444444444444,
             "#bd3786"
            ],
            [
             0.5555555555555556,
             "#d8576b"
            ],
            [
             0.6666666666666666,
             "#ed7953"
            ],
            [
             0.7777777777777778,
             "#fb9f3a"
            ],
            [
             0.8888888888888888,
             "#fdca26"
            ],
            [
             1,
             "#f0f921"
            ]
           ]
          },
          "colorway": [
           "#636efa",
           "#EF553B",
           "#00cc96",
           "#ab63fa",
           "#FFA15A",
           "#19d3f3",
           "#FF6692",
           "#B6E880",
           "#FF97FF",
           "#FECB52"
          ],
          "font": {
           "color": "#2a3f5f"
          },
          "geo": {
           "bgcolor": "white",
           "lakecolor": "white",
           "landcolor": "#E5ECF6",
           "showlakes": true,
           "showland": true,
           "subunitcolor": "white"
          },
          "hoverlabel": {
           "align": "left"
          },
          "hovermode": "closest",
          "mapbox": {
           "style": "light"
          },
          "paper_bgcolor": "white",
          "plot_bgcolor": "#E5ECF6",
          "polar": {
           "angularaxis": {
            "gridcolor": "white",
            "linecolor": "white",
            "ticks": ""
           },
           "bgcolor": "#E5ECF6",
           "radialaxis": {
            "gridcolor": "white",
            "linecolor": "white",
            "ticks": ""
           }
          },
          "scene": {
           "xaxis": {
            "backgroundcolor": "#E5ECF6",
            "gridcolor": "white",
            "gridwidth": 2,
            "linecolor": "white",
            "showbackground": true,
            "ticks": "",
            "zerolinecolor": "white"
           },
           "yaxis": {
            "backgroundcolor": "#E5ECF6",
            "gridcolor": "white",
            "gridwidth": 2,
            "linecolor": "white",
            "showbackground": true,
            "ticks": "",
            "zerolinecolor": "white"
           },
           "zaxis": {
            "backgroundcolor": "#E5ECF6",
            "gridcolor": "white",
            "gridwidth": 2,
            "linecolor": "white",
            "showbackground": true,
            "ticks": "",
            "zerolinecolor": "white"
           }
          },
          "shapedefaults": {
           "line": {
            "color": "#2a3f5f"
           }
          },
          "ternary": {
           "aaxis": {
            "gridcolor": "white",
            "linecolor": "white",
            "ticks": ""
           },
           "baxis": {
            "gridcolor": "white",
            "linecolor": "white",
            "ticks": ""
           },
           "bgcolor": "#E5ECF6",
           "caxis": {
            "gridcolor": "white",
            "linecolor": "white",
            "ticks": ""
           }
          },
          "title": {
           "x": 0.05
          },
          "xaxis": {
           "automargin": true,
           "gridcolor": "white",
           "linecolor": "white",
           "ticks": "",
           "title": {
            "standoff": 15
           },
           "zerolinecolor": "white",
           "zerolinewidth": 2
          },
          "yaxis": {
           "automargin": true,
           "gridcolor": "white",
           "linecolor": "white",
           "ticks": "",
           "title": {
            "standoff": 15
           },
           "zerolinecolor": "white",
           "zerolinewidth": 2
          }
         }
        },
        "title": {
         "text": "BERTScore real name similarity F1-Score compared to familiarity scores, binned, Identity question VGA task"
        },
        "width": 1000,
        "xaxis": {
         "tickmode": "array",
         "ticktext": [
          "0-20",
          "21-40",
          "41-60",
          "61-80",
          "81-100"
         ],
         "tickvals": [
          0,
          1,
          2,
          3,
          4
         ],
         "title": {
          "text": "Familiarity score in %"
         }
        },
        "yaxis": {
         "title": {
          "text": "F1-Score"
         },
         "type": "log"
        }
       }
      }
     },
     "metadata": {},
     "output_type": "display_data"
    }
   ],
   "source": [
    "input_types = ['caption', 'name', 'real']\n",
    "figs = []\n",
    "\n",
    "familiarity_data = data.copy()\n",
    "\n",
    "num_bins = 5\n",
    "category_bins_familiarity = pd.cut(familiarity_data['familiarity score'], bins=num_bins)\n",
    "familiarity_data['category bin familiarity'] = category_bins_familiarity.astype(str)\n",
    "\n",
    "for input in input_types:\n",
    "    fig = go.Figure()\n",
    "    for column in familiarity_scores.keys():\n",
    "        if input in column:\n",
    "            \n",
    "            familiarity_data[f'{column} f1-score'] = familiarity_scores[column][-1]\n",
    "            data[f'{column} f1-score'] = familiarity_scores[column][-1]\n",
    "            \n",
    "            f1_plot_data = familiarity_data.groupby('category bin familiarity')[f'{column} f1-score'].mean().reset_index()\n",
    "\n",
    "            \n",
    "            new_name = re.sub(r', {} familiarity bertscore'.format(input), '', re.sub('BLIP-2+\\s', '', column))\n",
    "            bar_trace = go.Bar(\n",
    "                            x=f1_plot_data['category bin familiarity'],\n",
    "                            y=f1_plot_data[f'{column} f1-score'],\n",
    "                            name=f'{new_name}',\n",
    "                        )\n",
    "            fig.add_trace(bar_trace)\n",
    "            \n",
    "            print(f\"{column} Precision mean is \", np.mean(np.array(familiarity_scores[column][0])))\n",
    "            print(f\"{column} Precision median is \", np.median(np.array(familiarity_scores[column][0])))\n",
    "            print(f\"{column} Precision std is \", np.std(np.array(familiarity_scores[column][0])))\n",
    "            \n",
    "            print(f\"{column} Recall mean is \", np.mean(np.array(familiarity_scores[column][1])))\n",
    "            print(f\"{column} Recall median is \", np.median(np.array(familiarity_scores[column][1])))\n",
    "            print(f\"{column} Recall std is \", np.std(np.array(familiarity_scores[column][1])))\n",
    "            \n",
    "            print(f\"{column} F1-score mean is \", np.mean(np.array(familiarity_scores[column][2])))\n",
    "            print(f\"{column} F1-score median is \", np.median(np.array(familiarity_scores[column][2])))\n",
    "            print(f\"{column} F1-score std is \", np.std(np.array(familiarity_scores[column][2])))\n",
    "            print(f\"=========================== END OF {column} ==============================\")\n",
    "    if input == 'real':\n",
    "        fig_name = f'Identity question VGA task'\n",
    "    elif input == 'name':\n",
    "        fig_name = 'Name question VGA task'\n",
    "    else:\n",
    "        fig_name = 'Image captioning'\n",
    "    fig.update_layout(\n",
    "    width=1000,\n",
    "    yaxis_type='log',\n",
    "    title=f'BERTScore real name similarity F1-Score compared to familiarity scores, binned, {fig_name}',\n",
    "    xaxis=dict(title='Familiarity score in %', tickmode = 'array',\n",
    "            tickvals = [0, 1, 2, 3, 4],\n",
    "        ticktext = ['0-20', '21-40', '41-60', '61-80', '81-100']),\n",
    "    yaxis=dict(title=f'F1-Score'),\n",
    "            barmode='group')\n",
    "        \n",
    "    fig.show()\n",
    "\n"
   ]
  },
  {
   "attachments": {},
   "cell_type": "markdown",
   "metadata": {},
   "source": [
    "BERTScore nameability measurement for image captioning task"
   ]
  },
  {
   "cell_type": "code",
   "execution_count": 295,
   "metadata": {},
   "outputs": [
    {
     "name": "stdout",
     "output_type": "stream",
     "text": [
      "['BLIP-2, greedy, caption', 'BLIP-2, greedy, name', 'BLIP-2, greedy, real', 'BLIP-2, nucleus, top_p=0.1, caption', 'BLIP-2, nucleus, top_p=0.1, name', 'BLIP-2, nucleus, top_p=0.1, real', 'BLIP-2, nucleus, top_p=0.5, caption', 'BLIP-2, nucleus, top_p=0.5, name', 'BLIP-2, nucleus, top_p=0.5, real', 'BLIP-2, nucleus, top_p=0.9, caption', 'BLIP-2, nucleus, top_p=0.9, name', 'BLIP-2, nucleus, top_p=0.9, real', 'BLIP-2, beam, num_beams=1, caption', 'BLIP-2, beam, num_beams=1, name', 'BLIP-2, beam, num_beams=1, real', 'BLIP-2, beam, num_beams=5, caption', 'BLIP-2, beam, num_beams=5, name', 'BLIP-2, beam, num_beams=5, real', 'BLIP-2, beam, num_beams=10, caption', 'BLIP-2, beam, num_beams=10, name', 'BLIP-2, beam, num_beams=10, real']\n"
     ]
    }
   ],
   "source": [
    "keys = list(candidates.keys())\n",
    "print(keys)"
   ]
  },
  {
   "cell_type": "code",
   "execution_count": 10,
   "metadata": {},
   "outputs": [
    {
     "name": "stdout",
     "output_type": "stream",
     "text": [
      "calculating scores...\n",
      "computing bert embedding.\n"
     ]
    },
    {
     "name": "stderr",
     "output_type": "stream",
     "text": [
      "100%|██████████| 2/2 [00:00<00:00, 12.94it/s]\n"
     ]
    },
    {
     "name": "stdout",
     "output_type": "stream",
     "text": [
      "computing greedy matching.\n"
     ]
    },
    {
     "name": "stderr",
     "output_type": "stream",
     "text": [
      "100%|██████████| 1/1 [00:00<00:00, 66.67it/s]"
     ]
    },
    {
     "name": "stdout",
     "output_type": "stream",
     "text": [
      "done in 0.17 seconds, 371.09 sentences/sec\n"
     ]
    },
    {
     "name": "stderr",
     "output_type": "stream",
     "text": [
      "\n"
     ]
    },
    {
     "name": "stdout",
     "output_type": "stream",
     "text": [
      "calculating scores...\n",
      "computing bert embedding.\n"
     ]
    },
    {
     "name": "stderr",
     "output_type": "stream",
     "text": [
      "100%|██████████| 2/2 [00:00<00:00,  7.52it/s]\n"
     ]
    },
    {
     "name": "stdout",
     "output_type": "stream",
     "text": [
      "computing greedy matching.\n"
     ]
    },
    {
     "name": "stderr",
     "output_type": "stream",
     "text": [
      "100%|██████████| 1/1 [00:00<00:00, 66.67it/s]\n"
     ]
    },
    {
     "name": "stdout",
     "output_type": "stream",
     "text": [
      "done in 0.29 seconds, 224.36 sentences/sec\n",
      "calculating scores...\n",
      "computing bert embedding.\n"
     ]
    },
    {
     "name": "stderr",
     "output_type": "stream",
     "text": [
      "100%|██████████| 2/2 [00:00<00:00,  7.28it/s]\n"
     ]
    },
    {
     "name": "stdout",
     "output_type": "stream",
     "text": [
      "computing greedy matching.\n"
     ]
    },
    {
     "name": "stderr",
     "output_type": "stream",
     "text": [
      "100%|██████████| 1/1 [00:00<00:00, 71.43it/s]\n"
     ]
    },
    {
     "name": "stdout",
     "output_type": "stream",
     "text": [
      "done in 0.29 seconds, 218.45 sentences/sec\n",
      "calculating scores...\n",
      "computing bert embedding.\n"
     ]
    },
    {
     "name": "stderr",
     "output_type": "stream",
     "text": [
      "100%|██████████| 2/2 [00:00<00:00,  8.51it/s]\n"
     ]
    },
    {
     "name": "stdout",
     "output_type": "stream",
     "text": [
      "computing greedy matching.\n"
     ]
    },
    {
     "name": "stderr",
     "output_type": "stream",
     "text": [
      "100%|██████████| 1/1 [00:00<00:00, 71.43it/s]\n"
     ]
    },
    {
     "name": "stdout",
     "output_type": "stream",
     "text": [
      "done in 0.25 seconds, 252.16 sentences/sec\n",
      "calculating scores...\n",
      "computing bert embedding.\n"
     ]
    },
    {
     "name": "stderr",
     "output_type": "stream",
     "text": [
      "100%|██████████| 2/2 [00:00<00:00,  7.78it/s]\n"
     ]
    },
    {
     "name": "stdout",
     "output_type": "stream",
     "text": [
      "computing greedy matching.\n"
     ]
    },
    {
     "name": "stderr",
     "output_type": "stream",
     "text": [
      "100%|██████████| 1/1 [00:00<00:00, 71.43it/s]\n"
     ]
    },
    {
     "name": "stdout",
     "output_type": "stream",
     "text": [
      "done in 0.28 seconds, 232.27 sentences/sec\n",
      "calculating scores...\n",
      "computing bert embedding.\n"
     ]
    },
    {
     "name": "stderr",
     "output_type": "stream",
     "text": [
      "100%|██████████| 2/2 [00:00<00:00,  8.29it/s]\n"
     ]
    },
    {
     "name": "stdout",
     "output_type": "stream",
     "text": [
      "computing greedy matching.\n"
     ]
    },
    {
     "name": "stderr",
     "output_type": "stream",
     "text": [
      "100%|██████████| 1/1 [00:00<00:00, 66.67it/s]\n"
     ]
    },
    {
     "name": "stdout",
     "output_type": "stream",
     "text": [
      "done in 0.26 seconds, 245.63 sentences/sec\n",
      "calculating scores...\n",
      "computing bert embedding.\n"
     ]
    },
    {
     "name": "stderr",
     "output_type": "stream",
     "text": [
      "100%|██████████| 2/2 [00:00<00:00,  6.49it/s]\n"
     ]
    },
    {
     "name": "stdout",
     "output_type": "stream",
     "text": [
      "computing greedy matching.\n"
     ]
    },
    {
     "name": "stderr",
     "output_type": "stream",
     "text": [
      "100%|██████████| 1/1 [00:00<00:00, 76.92it/s]\n"
     ]
    },
    {
     "name": "stdout",
     "output_type": "stream",
     "text": [
      "done in 0.33 seconds, 196.76 sentences/sec\n",
      "calculating scores...\n",
      "computing bert embedding.\n"
     ]
    },
    {
     "name": "stderr",
     "output_type": "stream",
     "text": [
      "100%|██████████| 2/2 [00:00<00:00, 12.52it/s]\n"
     ]
    },
    {
     "name": "stdout",
     "output_type": "stream",
     "text": [
      "computing greedy matching.\n"
     ]
    },
    {
     "name": "stderr",
     "output_type": "stream",
     "text": [
      "100%|██████████| 1/1 [00:00<00:00, 69.69it/s]"
     ]
    },
    {
     "name": "stdout",
     "output_type": "stream",
     "text": [
      "done in 0.18 seconds, 361.36 sentences/sec\n"
     ]
    },
    {
     "name": "stderr",
     "output_type": "stream",
     "text": [
      "\n"
     ]
    },
    {
     "name": "stdout",
     "output_type": "stream",
     "text": [
      "calculating scores...\n",
      "computing bert embedding.\n"
     ]
    },
    {
     "name": "stderr",
     "output_type": "stream",
     "text": [
      "100%|██████████| 2/2 [00:00<00:00,  8.46it/s]\n"
     ]
    },
    {
     "name": "stdout",
     "output_type": "stream",
     "text": [
      "computing greedy matching.\n"
     ]
    },
    {
     "name": "stderr",
     "output_type": "stream",
     "text": [
      "100%|██████████| 1/1 [00:00<00:00, 66.69it/s]\n"
     ]
    },
    {
     "name": "stdout",
     "output_type": "stream",
     "text": [
      "done in 0.26 seconds, 250.97 sentences/sec\n",
      "calculating scores...\n",
      "computing bert embedding.\n"
     ]
    },
    {
     "name": "stderr",
     "output_type": "stream",
     "text": [
      "100%|██████████| 2/2 [00:00<00:00,  7.52it/s]\n"
     ]
    },
    {
     "name": "stdout",
     "output_type": "stream",
     "text": [
      "computing greedy matching.\n"
     ]
    },
    {
     "name": "stderr",
     "output_type": "stream",
     "text": [
      "100%|██████████| 1/1 [00:00<00:00, 57.10it/s]\n"
     ]
    },
    {
     "name": "stdout",
     "output_type": "stream",
     "text": [
      "done in 0.29 seconds, 222.64 sentences/sec\n",
      "calculating scores...\n",
      "computing bert embedding.\n"
     ]
    },
    {
     "name": "stderr",
     "output_type": "stream",
     "text": [
      "100%|██████████| 2/2 [00:00<00:00,  7.30it/s]\n"
     ]
    },
    {
     "name": "stdout",
     "output_type": "stream",
     "text": [
      "computing greedy matching.\n"
     ]
    },
    {
     "name": "stderr",
     "output_type": "stream",
     "text": [
      "100%|██████████| 1/1 [00:00<00:00, 71.22it/s]\n"
     ]
    },
    {
     "name": "stdout",
     "output_type": "stream",
     "text": [
      "done in 0.29 seconds, 219.24 sentences/sec\n",
      "calculating scores...\n",
      "computing bert embedding.\n"
     ]
    },
    {
     "name": "stderr",
     "output_type": "stream",
     "text": [
      "100%|██████████| 2/2 [00:00<00:00,  7.46it/s]\n"
     ]
    },
    {
     "name": "stdout",
     "output_type": "stream",
     "text": [
      "computing greedy matching.\n"
     ]
    },
    {
     "name": "stderr",
     "output_type": "stream",
     "text": [
      "100%|██████████| 1/1 [00:00<00:00, 66.16it/s]\n"
     ]
    },
    {
     "name": "stdout",
     "output_type": "stream",
     "text": [
      "done in 0.29 seconds, 222.90 sentences/sec\n",
      "calculating scores...\n",
      "computing bert embedding.\n"
     ]
    },
    {
     "name": "stderr",
     "output_type": "stream",
     "text": [
      "100%|██████████| 2/2 [00:00<00:00,  7.49it/s]\n"
     ]
    },
    {
     "name": "stdout",
     "output_type": "stream",
     "text": [
      "computing greedy matching.\n"
     ]
    },
    {
     "name": "stderr",
     "output_type": "stream",
     "text": [
      "100%|██████████| 1/1 [00:00<00:00, 71.43it/s]\n"
     ]
    },
    {
     "name": "stdout",
     "output_type": "stream",
     "text": [
      "done in 0.29 seconds, 223.71 sentences/sec\n",
      "calculating scores...\n",
      "computing bert embedding.\n"
     ]
    },
    {
     "name": "stderr",
     "output_type": "stream",
     "text": [
      "100%|██████████| 2/2 [00:00<00:00,  7.52it/s]\n"
     ]
    },
    {
     "name": "stdout",
     "output_type": "stream",
     "text": [
      "computing greedy matching.\n"
     ]
    },
    {
     "name": "stderr",
     "output_type": "stream",
     "text": [
      "100%|██████████| 1/1 [00:00<00:00, 66.67it/s]\n"
     ]
    },
    {
     "name": "stdout",
     "output_type": "stream",
     "text": [
      "done in 0.28 seconds, 225.09 sentences/sec\n",
      "calculating scores...\n",
      "computing bert embedding.\n"
     ]
    },
    {
     "name": "stderr",
     "output_type": "stream",
     "text": [
      "100%|██████████| 2/2 [00:00<00:00,  7.25it/s]\n"
     ]
    },
    {
     "name": "stdout",
     "output_type": "stream",
     "text": [
      "computing greedy matching.\n"
     ]
    },
    {
     "name": "stderr",
     "output_type": "stream",
     "text": [
      "100%|██████████| 1/1 [00:00<00:00, 71.43it/s]\n"
     ]
    },
    {
     "name": "stdout",
     "output_type": "stream",
     "text": [
      "done in 0.29 seconds, 217.07 sentences/sec\n",
      "calculating scores...\n",
      "computing bert embedding.\n"
     ]
    },
    {
     "name": "stderr",
     "output_type": "stream",
     "text": [
      "100%|██████████| 2/2 [00:00<00:00,  7.26it/s]\n"
     ]
    },
    {
     "name": "stdout",
     "output_type": "stream",
     "text": [
      "computing greedy matching.\n"
     ]
    },
    {
     "name": "stderr",
     "output_type": "stream",
     "text": [
      "100%|██████████| 1/1 [00:00<00:00, 68.91it/s]\n"
     ]
    },
    {
     "name": "stdout",
     "output_type": "stream",
     "text": [
      "done in 0.29 seconds, 217.35 sentences/sec\n",
      "calculating scores...\n",
      "computing bert embedding.\n"
     ]
    },
    {
     "name": "stderr",
     "output_type": "stream",
     "text": [
      "100%|██████████| 2/2 [00:00<00:00,  7.28it/s]\n"
     ]
    },
    {
     "name": "stdout",
     "output_type": "stream",
     "text": [
      "computing greedy matching.\n"
     ]
    },
    {
     "name": "stderr",
     "output_type": "stream",
     "text": [
      "100%|██████████| 1/1 [00:00<00:00, 71.43it/s]\n"
     ]
    },
    {
     "name": "stdout",
     "output_type": "stream",
     "text": [
      "done in 0.29 seconds, 217.88 sentences/sec\n",
      "calculating scores...\n",
      "computing bert embedding.\n"
     ]
    },
    {
     "name": "stderr",
     "output_type": "stream",
     "text": [
      "100%|██████████| 2/2 [00:00<00:00,  8.49it/s]\n"
     ]
    },
    {
     "name": "stdout",
     "output_type": "stream",
     "text": [
      "computing greedy matching.\n"
     ]
    },
    {
     "name": "stderr",
     "output_type": "stream",
     "text": [
      "100%|██████████| 1/1 [00:00<00:00, 68.93it/s]\n"
     ]
    },
    {
     "name": "stdout",
     "output_type": "stream",
     "text": [
      "done in 0.25 seconds, 251.65 sentences/sec\n",
      "calculating scores...\n",
      "computing bert embedding.\n"
     ]
    },
    {
     "name": "stderr",
     "output_type": "stream",
     "text": [
      "100%|██████████| 2/2 [00:00<00:00,  7.78it/s]\n"
     ]
    },
    {
     "name": "stdout",
     "output_type": "stream",
     "text": [
      "computing greedy matching.\n"
     ]
    },
    {
     "name": "stderr",
     "output_type": "stream",
     "text": [
      "100%|██████████| 1/1 [00:00<00:00, 70.91it/s]\n"
     ]
    },
    {
     "name": "stdout",
     "output_type": "stream",
     "text": [
      "done in 0.27 seconds, 232.80 sentences/sec\n",
      "calculating scores...\n",
      "computing bert embedding.\n"
     ]
    },
    {
     "name": "stderr",
     "output_type": "stream",
     "text": [
      "100%|██████████| 2/2 [00:00<00:00,  9.80it/s]\n"
     ]
    },
    {
     "name": "stdout",
     "output_type": "stream",
     "text": [
      "computing greedy matching.\n"
     ]
    },
    {
     "name": "stderr",
     "output_type": "stream",
     "text": [
      "100%|██████████| 1/1 [00:00<00:00, 66.68it/s]"
     ]
    },
    {
     "name": "stdout",
     "output_type": "stream",
     "text": [
      "done in 0.22 seconds, 286.32 sentences/sec\n"
     ]
    },
    {
     "name": "stderr",
     "output_type": "stream",
     "text": [
      "\n"
     ]
    }
   ],
   "source": [
    "# data2['BERTScore nameability caption'] = score(cands_greedy_caption, cands_nucleus_caption, lang='en', verbose=True)[2] + score(\n",
    "#     cands_greedy_caption, cands_beam_caption, lang='en', verbose=True)[2] + score(cands_beam_caption, cands_nucleus_caption, lang='en', verbose=True)[2]\n",
    "\n",
    "\n",
    "\n",
    "keys = list(candidates.keys())\n",
    "n = len(keys)\n",
    "\n",
    "mean = 0\n",
    "precisions = np.zeros(64)\n",
    "recalls = np.zeros(64)\n",
    "f1_scores = np.zeros(64)\n",
    "\n",
    "for i in range(n - 1):\n",
    "    for j in range(i + 1, n):\n",
    "        key1 = keys[i]\n",
    "        key2 = keys[j]\n",
    "        if candidates[key1] != candidates[key2]:  # Exclude pairs with two identical lists\n",
    "            if 'caption' in key1 and 'caption' in key2:\n",
    "                p, r, f1 = score(candidates[key1], candidates[key2], lang='en', verbose=True)\n",
    "                precisions += np.array(p)\n",
    "                recalls += np.array(r)\n",
    "                f1_scores += np.array(f1)\n",
    "                mean += 1\n",
    "\n",
    "precisions_caption = precisions / mean\n",
    "recalls_caption = recalls / mean\n",
    "f1_scores_caption = f1_scores / mean"
   ]
  },
  {
   "cell_type": "code",
   "execution_count": 11,
   "metadata": {},
   "outputs": [
    {
     "name": "stdout",
     "output_type": "stream",
     "text": [
      "calculating scores...\n",
      "computing bert embedding.\n"
     ]
    },
    {
     "name": "stderr",
     "output_type": "stream",
     "text": [
      "100%|██████████| 1/1 [00:00<00:00, 12.82it/s]\n"
     ]
    },
    {
     "name": "stdout",
     "output_type": "stream",
     "text": [
      "computing greedy matching.\n"
     ]
    },
    {
     "name": "stderr",
     "output_type": "stream",
     "text": [
      "100%|██████████| 1/1 [00:00<00:00, 68.91it/s]"
     ]
    },
    {
     "name": "stdout",
     "output_type": "stream",
     "text": [
      "done in 0.10 seconds, 672.53 sentences/sec\n"
     ]
    },
    {
     "name": "stderr",
     "output_type": "stream",
     "text": [
      "\n"
     ]
    },
    {
     "name": "stdout",
     "output_type": "stream",
     "text": [
      "calculating scores...\n",
      "computing bert embedding.\n"
     ]
    },
    {
     "name": "stderr",
     "output_type": "stream",
     "text": [
      "100%|██████████| 2/2 [00:00<00:00, 11.60it/s]\n"
     ]
    },
    {
     "name": "stdout",
     "output_type": "stream",
     "text": [
      "computing greedy matching.\n"
     ]
    },
    {
     "name": "stderr",
     "output_type": "stream",
     "text": [
      "100%|██████████| 1/1 [00:00<00:00, 71.43it/s]\n"
     ]
    },
    {
     "name": "stdout",
     "output_type": "stream",
     "text": [
      "done in 0.19 seconds, 336.03 sentences/sec\n",
      "calculating scores...\n",
      "computing bert embedding.\n"
     ]
    },
    {
     "name": "stderr",
     "output_type": "stream",
     "text": [
      "100%|██████████| 2/2 [00:00<00:00, 10.06it/s]\n"
     ]
    },
    {
     "name": "stdout",
     "output_type": "stream",
     "text": [
      "computing greedy matching.\n"
     ]
    },
    {
     "name": "stderr",
     "output_type": "stream",
     "text": [
      "  0%|          | 0/1 [00:00<?, ?it/s]Warning: Empty reference sentence detected; setting raw BERTScores to 0.\n",
      "100%|██████████| 1/1 [00:00<00:00, 71.38it/s]\n"
     ]
    },
    {
     "name": "stdout",
     "output_type": "stream",
     "text": [
      "done in 0.22 seconds, 293.75 sentences/sec\n",
      "calculating scores...\n",
      "computing bert embedding.\n"
     ]
    },
    {
     "name": "stderr",
     "output_type": "stream",
     "text": [
      "100%|██████████| 2/2 [00:00<00:00,  9.20it/s]\n"
     ]
    },
    {
     "name": "stdout",
     "output_type": "stream",
     "text": [
      "computing greedy matching.\n"
     ]
    },
    {
     "name": "stderr",
     "output_type": "stream",
     "text": [
      "100%|██████████| 1/1 [00:00<00:00, 64.67it/s]\n"
     ]
    },
    {
     "name": "stdout",
     "output_type": "stream",
     "text": [
      "done in 0.24 seconds, 270.37 sentences/sec\n",
      "calculating scores...\n",
      "computing bert embedding.\n"
     ]
    },
    {
     "name": "stderr",
     "output_type": "stream",
     "text": [
      "100%|██████████| 2/2 [00:00<00:00,  9.75it/s]\n"
     ]
    },
    {
     "name": "stdout",
     "output_type": "stream",
     "text": [
      "computing greedy matching.\n"
     ]
    },
    {
     "name": "stderr",
     "output_type": "stream",
     "text": [
      "100%|██████████| 1/1 [00:00<00:00, 71.42it/s]\n"
     ]
    },
    {
     "name": "stdout",
     "output_type": "stream",
     "text": [
      "done in 0.22 seconds, 287.66 sentences/sec\n",
      "calculating scores...\n",
      "computing bert embedding.\n"
     ]
    },
    {
     "name": "stderr",
     "output_type": "stream",
     "text": [
      "100%|██████████| 2/2 [00:00<00:00, 11.69it/s]\n"
     ]
    },
    {
     "name": "stdout",
     "output_type": "stream",
     "text": [
      "computing greedy matching.\n"
     ]
    },
    {
     "name": "stderr",
     "output_type": "stream",
     "text": [
      "100%|██████████| 1/1 [00:00<00:00, 71.44it/s]\n"
     ]
    },
    {
     "name": "stdout",
     "output_type": "stream",
     "text": [
      "done in 0.19 seconds, 339.35 sentences/sec\n",
      "calculating scores...\n",
      "computing bert embedding.\n"
     ]
    },
    {
     "name": "stderr",
     "output_type": "stream",
     "text": [
      "100%|██████████| 2/2 [00:00<00:00, 10.02it/s]\n"
     ]
    },
    {
     "name": "stdout",
     "output_type": "stream",
     "text": [
      "computing greedy matching.\n"
     ]
    },
    {
     "name": "stderr",
     "output_type": "stream",
     "text": [
      "  0%|          | 0/1 [00:00<?, ?it/s]Warning: Empty reference sentence detected; setting raw BERTScores to 0.\n",
      "100%|██████████| 1/1 [00:00<00:00, 71.43it/s]\n"
     ]
    },
    {
     "name": "stdout",
     "output_type": "stream",
     "text": [
      "done in 0.22 seconds, 293.98 sentences/sec\n",
      "calculating scores...\n",
      "computing bert embedding.\n"
     ]
    },
    {
     "name": "stderr",
     "output_type": "stream",
     "text": [
      "100%|██████████| 1/1 [00:00<00:00, 13.07it/s]\n"
     ]
    },
    {
     "name": "stdout",
     "output_type": "stream",
     "text": [
      "computing greedy matching.\n"
     ]
    },
    {
     "name": "stderr",
     "output_type": "stream",
     "text": [
      "100%|██████████| 1/1 [00:00<00:00, 71.45it/s]"
     ]
    },
    {
     "name": "stdout",
     "output_type": "stream",
     "text": [
      "done in 0.09 seconds, 685.23 sentences/sec\n"
     ]
    },
    {
     "name": "stderr",
     "output_type": "stream",
     "text": [
      "\n"
     ]
    },
    {
     "name": "stdout",
     "output_type": "stream",
     "text": [
      "calculating scores...\n",
      "computing bert embedding.\n"
     ]
    },
    {
     "name": "stderr",
     "output_type": "stream",
     "text": [
      "100%|██████████| 2/2 [00:00<00:00,  9.73it/s]\n"
     ]
    },
    {
     "name": "stdout",
     "output_type": "stream",
     "text": [
      "computing greedy matching.\n"
     ]
    },
    {
     "name": "stderr",
     "output_type": "stream",
     "text": [
      "100%|██████████| 1/1 [00:00<00:00, 76.92it/s]\n"
     ]
    },
    {
     "name": "stdout",
     "output_type": "stream",
     "text": [
      "done in 0.22 seconds, 287.10 sentences/sec\n",
      "calculating scores...\n",
      "computing bert embedding.\n"
     ]
    },
    {
     "name": "stderr",
     "output_type": "stream",
     "text": [
      "100%|██████████| 2/2 [00:00<00:00,  9.75it/s]\n"
     ]
    },
    {
     "name": "stdout",
     "output_type": "stream",
     "text": [
      "computing greedy matching.\n"
     ]
    },
    {
     "name": "stderr",
     "output_type": "stream",
     "text": [
      "100%|██████████| 1/1 [00:00<00:00, 71.44it/s]\n"
     ]
    },
    {
     "name": "stdout",
     "output_type": "stream",
     "text": [
      "done in 0.22 seconds, 288.03 sentences/sec\n",
      "calculating scores...\n",
      "computing bert embedding.\n"
     ]
    },
    {
     "name": "stderr",
     "output_type": "stream",
     "text": [
      "100%|██████████| 2/2 [00:00<00:00,  9.47it/s]\n"
     ]
    },
    {
     "name": "stdout",
     "output_type": "stream",
     "text": [
      "computing greedy matching.\n"
     ]
    },
    {
     "name": "stderr",
     "output_type": "stream",
     "text": [
      "  0%|          | 0/1 [00:00<?, ?it/s]Warning: Empty reference sentence detected; setting raw BERTScores to 0.\n",
      "100%|██████████| 1/1 [00:00<00:00, 71.42it/s]\n"
     ]
    },
    {
     "name": "stdout",
     "output_type": "stream",
     "text": [
      "done in 0.23 seconds, 278.59 sentences/sec\n",
      "calculating scores...\n",
      "computing bert embedding.\n"
     ]
    },
    {
     "name": "stderr",
     "output_type": "stream",
     "text": [
      "100%|██████████| 2/2 [00:00<00:00, 11.84it/s]\n"
     ]
    },
    {
     "name": "stdout",
     "output_type": "stream",
     "text": [
      "computing greedy matching.\n"
     ]
    },
    {
     "name": "stderr",
     "output_type": "stream",
     "text": [
      "100%|██████████| 1/1 [00:00<00:00, 68.91it/s]\n"
     ]
    },
    {
     "name": "stdout",
     "output_type": "stream",
     "text": [
      "done in 0.19 seconds, 342.42 sentences/sec\n",
      "calculating scores...\n",
      "computing bert embedding.\n"
     ]
    },
    {
     "name": "stderr",
     "output_type": "stream",
     "text": [
      "100%|██████████| 2/2 [00:00<00:00,  9.36it/s]\n"
     ]
    },
    {
     "name": "stdout",
     "output_type": "stream",
     "text": [
      "computing greedy matching.\n"
     ]
    },
    {
     "name": "stderr",
     "output_type": "stream",
     "text": [
      "100%|██████████| 1/1 [00:00<00:00, 71.42it/s]\n"
     ]
    },
    {
     "name": "stdout",
     "output_type": "stream",
     "text": [
      "done in 0.23 seconds, 276.72 sentences/sec\n",
      "calculating scores...\n",
      "computing bert embedding.\n"
     ]
    },
    {
     "name": "stderr",
     "output_type": "stream",
     "text": [
      "100%|██████████| 2/2 [00:00<00:00,  7.93it/s]\n"
     ]
    },
    {
     "name": "stdout",
     "output_type": "stream",
     "text": [
      "computing greedy matching.\n"
     ]
    },
    {
     "name": "stderr",
     "output_type": "stream",
     "text": [
      "100%|██████████| 1/1 [00:00<00:00, 71.43it/s]\n"
     ]
    },
    {
     "name": "stdout",
     "output_type": "stream",
     "text": [
      "done in 0.27 seconds, 236.91 sentences/sec\n",
      "calculating scores...\n",
      "computing bert embedding.\n"
     ]
    },
    {
     "name": "stderr",
     "output_type": "stream",
     "text": [
      "100%|██████████| 2/2 [00:00<00:00,  9.62it/s]\n"
     ]
    },
    {
     "name": "stdout",
     "output_type": "stream",
     "text": [
      "computing greedy matching.\n"
     ]
    },
    {
     "name": "stderr",
     "output_type": "stream",
     "text": [
      "  0%|          | 0/1 [00:00<?, ?it/s]Warning: Empty candidate sentence detected; setting raw BERTscores to 0.\n",
      "100%|██████████| 1/1 [00:00<00:00, 71.45it/s]\n"
     ]
    },
    {
     "name": "stdout",
     "output_type": "stream",
     "text": [
      "done in 0.23 seconds, 283.42 sentences/sec\n",
      "calculating scores...\n",
      "computing bert embedding.\n"
     ]
    },
    {
     "name": "stderr",
     "output_type": "stream",
     "text": [
      "100%|██████████| 2/2 [00:00<00:00,  8.69it/s]\n"
     ]
    },
    {
     "name": "stdout",
     "output_type": "stream",
     "text": [
      "computing greedy matching.\n"
     ]
    },
    {
     "name": "stderr",
     "output_type": "stream",
     "text": [
      "  0%|          | 0/1 [00:00<?, ?it/s]Warning: Empty candidate sentence detected; setting raw BERTscores to 0.\n",
      "100%|██████████| 1/1 [00:00<00:00, 71.42it/s]\n"
     ]
    },
    {
     "name": "stdout",
     "output_type": "stream",
     "text": [
      "done in 0.25 seconds, 256.98 sentences/sec\n",
      "calculating scores...\n",
      "computing bert embedding.\n"
     ]
    },
    {
     "name": "stderr",
     "output_type": "stream",
     "text": [
      "100%|██████████| 2/2 [00:00<00:00,  6.80it/s]\n"
     ]
    },
    {
     "name": "stdout",
     "output_type": "stream",
     "text": [
      "computing greedy matching.\n"
     ]
    },
    {
     "name": "stderr",
     "output_type": "stream",
     "text": [
      "  0%|          | 0/1 [00:00<?, ?it/s]Warning: Empty candidate sentence detected; setting raw BERTscores to 0.\n",
      "100%|██████████| 1/1 [00:00<00:00, 71.43it/s]\n"
     ]
    },
    {
     "name": "stdout",
     "output_type": "stream",
     "text": [
      "done in 0.31 seconds, 204.38 sentences/sec\n",
      "calculating scores...\n",
      "computing bert embedding.\n"
     ]
    },
    {
     "name": "stderr",
     "output_type": "stream",
     "text": [
      "100%|██████████| 2/2 [00:00<00:00,  9.76it/s]\n"
     ]
    },
    {
     "name": "stdout",
     "output_type": "stream",
     "text": [
      "computing greedy matching.\n"
     ]
    },
    {
     "name": "stderr",
     "output_type": "stream",
     "text": [
      "100%|██████████| 1/1 [00:00<00:00, 76.91it/s]\n"
     ]
    },
    {
     "name": "stdout",
     "output_type": "stream",
     "text": [
      "done in 0.22 seconds, 287.51 sentences/sec\n",
      "calculating scores...\n",
      "computing bert embedding.\n"
     ]
    },
    {
     "name": "stderr",
     "output_type": "stream",
     "text": [
      "100%|██████████| 2/2 [00:00<00:00,  9.82it/s]\n"
     ]
    },
    {
     "name": "stdout",
     "output_type": "stream",
     "text": [
      "computing greedy matching.\n"
     ]
    },
    {
     "name": "stderr",
     "output_type": "stream",
     "text": [
      "100%|██████████| 1/1 [00:00<00:00, 74.02it/s]\n"
     ]
    },
    {
     "name": "stdout",
     "output_type": "stream",
     "text": [
      "done in 0.22 seconds, 288.93 sentences/sec\n",
      "calculating scores...\n",
      "computing bert embedding.\n"
     ]
    },
    {
     "name": "stderr",
     "output_type": "stream",
     "text": [
      "100%|██████████| 2/2 [00:00<00:00,  7.51it/s]\n"
     ]
    },
    {
     "name": "stdout",
     "output_type": "stream",
     "text": [
      "computing greedy matching.\n"
     ]
    },
    {
     "name": "stderr",
     "output_type": "stream",
     "text": [
      "100%|██████████| 1/1 [00:00<00:00, 71.43it/s]"
     ]
    },
    {
     "name": "stdout",
     "output_type": "stream",
     "text": [
      "done in 0.28 seconds, 225.70 sentences/sec\n"
     ]
    },
    {
     "name": "stderr",
     "output_type": "stream",
     "text": [
      "\n"
     ]
    }
   ],
   "source": [
    "\n",
    "keys = list(candidates.keys())\n",
    "n = len(keys)\n",
    "\n",
    "mean = 0\n",
    "precisions = np.zeros(64)\n",
    "recalls = np.zeros(64)\n",
    "f1_scores = np.zeros(64)\n",
    "\n",
    "for i in range(n - 1):\n",
    "    for j in range(i + 1, n):\n",
    "        key1 = keys[i]\n",
    "        key2 = keys[j]\n",
    "        if candidates[key1] != candidates[key2]:  # Exclude pairs with two identical lists\n",
    "            if 'name' in key1 and 'name' in key2:\n",
    "                p, r, f1 = score(candidates[key1], candidates[key2], lang='en', verbose=True)\n",
    "                precisions += np.array(p)\n",
    "                recalls += np.array(r)\n",
    "                f1_scores += np.array(f1)\n",
    "                mean += 1\n",
    "\n",
    "precisions_name = precisions / mean\n",
    "recalls_name = recalls / mean\n",
    "f1_scores_name = f1_scores / mean"
   ]
  },
  {
   "cell_type": "code",
   "execution_count": 12,
   "metadata": {},
   "outputs": [
    {
     "name": "stdout",
     "output_type": "stream",
     "text": [
      "calculating scores...\n",
      "computing bert embedding.\n"
     ]
    },
    {
     "name": "stderr",
     "output_type": "stream",
     "text": [
      "100%|██████████| 2/2 [00:00<00:00, 12.45it/s]\n"
     ]
    },
    {
     "name": "stdout",
     "output_type": "stream",
     "text": [
      "computing greedy matching.\n"
     ]
    },
    {
     "name": "stderr",
     "output_type": "stream",
     "text": [
      "100%|██████████| 1/1 [00:00<00:00, 71.41it/s]"
     ]
    },
    {
     "name": "stdout",
     "output_type": "stream",
     "text": [
      "done in 0.18 seconds, 359.69 sentences/sec\n"
     ]
    },
    {
     "name": "stderr",
     "output_type": "stream",
     "text": [
      "\n"
     ]
    },
    {
     "name": "stdout",
     "output_type": "stream",
     "text": [
      "calculating scores...\n",
      "computing bert embedding.\n"
     ]
    },
    {
     "name": "stderr",
     "output_type": "stream",
     "text": [
      "100%|██████████| 2/2 [00:00<00:00,  9.05it/s]\n"
     ]
    },
    {
     "name": "stdout",
     "output_type": "stream",
     "text": [
      "computing greedy matching.\n"
     ]
    },
    {
     "name": "stderr",
     "output_type": "stream",
     "text": [
      "100%|██████████| 1/1 [00:00<00:00, 70.72it/s]\n"
     ]
    },
    {
     "name": "stdout",
     "output_type": "stream",
     "text": [
      "done in 0.24 seconds, 267.67 sentences/sec\n",
      "calculating scores...\n",
      "computing bert embedding.\n"
     ]
    },
    {
     "name": "stderr",
     "output_type": "stream",
     "text": [
      "100%|██████████| 2/2 [00:00<00:00,  8.28it/s]\n"
     ]
    },
    {
     "name": "stdout",
     "output_type": "stream",
     "text": [
      "computing greedy matching.\n"
     ]
    },
    {
     "name": "stderr",
     "output_type": "stream",
     "text": [
      "  0%|          | 0/1 [00:00<?, ?it/s]Warning: Empty reference sentence detected; setting raw BERTScores to 0.\n",
      "100%|██████████| 1/1 [00:00<00:00, 66.66it/s]\n"
     ]
    },
    {
     "name": "stdout",
     "output_type": "stream",
     "text": [
      "done in 0.26 seconds, 246.42 sentences/sec\n",
      "calculating scores...\n",
      "computing bert embedding.\n"
     ]
    },
    {
     "name": "stderr",
     "output_type": "stream",
     "text": [
      "100%|██████████| 2/2 [00:00<00:00,  8.16it/s]\n"
     ]
    },
    {
     "name": "stdout",
     "output_type": "stream",
     "text": [
      "computing greedy matching.\n"
     ]
    },
    {
     "name": "stderr",
     "output_type": "stream",
     "text": [
      "100%|██████████| 1/1 [00:00<00:00, 66.65it/s]\n"
     ]
    },
    {
     "name": "stdout",
     "output_type": "stream",
     "text": [
      "done in 0.26 seconds, 243.37 sentences/sec\n",
      "calculating scores...\n",
      "computing bert embedding.\n"
     ]
    },
    {
     "name": "stderr",
     "output_type": "stream",
     "text": [
      "100%|██████████| 2/2 [00:00<00:00,  8.34it/s]\n"
     ]
    },
    {
     "name": "stdout",
     "output_type": "stream",
     "text": [
      "computing greedy matching.\n"
     ]
    },
    {
     "name": "stderr",
     "output_type": "stream",
     "text": [
      "100%|██████████| 1/1 [00:00<00:00, 61.15it/s]\n"
     ]
    },
    {
     "name": "stdout",
     "output_type": "stream",
     "text": [
      "done in 0.26 seconds, 245.37 sentences/sec\n",
      "calculating scores...\n",
      "computing bert embedding.\n"
     ]
    },
    {
     "name": "stderr",
     "output_type": "stream",
     "text": [
      "100%|██████████| 2/2 [00:00<00:00,  8.95it/s]\n"
     ]
    },
    {
     "name": "stdout",
     "output_type": "stream",
     "text": [
      "computing greedy matching.\n"
     ]
    },
    {
     "name": "stderr",
     "output_type": "stream",
     "text": [
      "100%|██████████| 1/1 [00:00<00:00, 71.37it/s]\n"
     ]
    },
    {
     "name": "stdout",
     "output_type": "stream",
     "text": [
      "done in 0.24 seconds, 265.64 sentences/sec\n",
      "calculating scores...\n",
      "computing bert embedding.\n"
     ]
    },
    {
     "name": "stderr",
     "output_type": "stream",
     "text": [
      "100%|██████████| 2/2 [00:00<00:00,  8.23it/s]\n"
     ]
    },
    {
     "name": "stdout",
     "output_type": "stream",
     "text": [
      "computing greedy matching.\n"
     ]
    },
    {
     "name": "stderr",
     "output_type": "stream",
     "text": [
      "  0%|          | 0/1 [00:00<?, ?it/s]Warning: Empty reference sentence detected; setting raw BERTScores to 0.\n",
      "100%|██████████| 1/1 [00:00<00:00, 66.65it/s]\n"
     ]
    },
    {
     "name": "stdout",
     "output_type": "stream",
     "text": [
      "done in 0.26 seconds, 245.39 sentences/sec\n",
      "calculating scores...\n",
      "computing bert embedding.\n"
     ]
    },
    {
     "name": "stderr",
     "output_type": "stream",
     "text": [
      "100%|██████████| 2/2 [00:00<00:00, 10.95it/s]\n"
     ]
    },
    {
     "name": "stdout",
     "output_type": "stream",
     "text": [
      "computing greedy matching.\n"
     ]
    },
    {
     "name": "stderr",
     "output_type": "stream",
     "text": [
      "100%|██████████| 1/1 [00:00<00:00, 71.43it/s]\n"
     ]
    },
    {
     "name": "stdout",
     "output_type": "stream",
     "text": [
      "done in 0.20 seconds, 318.63 sentences/sec\n",
      "calculating scores...\n",
      "computing bert embedding.\n"
     ]
    },
    {
     "name": "stderr",
     "output_type": "stream",
     "text": [
      "100%|██████████| 2/2 [00:00<00:00,  7.93it/s]\n"
     ]
    },
    {
     "name": "stdout",
     "output_type": "stream",
     "text": [
      "computing greedy matching.\n"
     ]
    },
    {
     "name": "stderr",
     "output_type": "stream",
     "text": [
      "100%|██████████| 1/1 [00:00<00:00, 66.53it/s]\n"
     ]
    },
    {
     "name": "stdout",
     "output_type": "stream",
     "text": [
      "done in 0.27 seconds, 235.46 sentences/sec\n",
      "calculating scores...\n",
      "computing bert embedding.\n"
     ]
    },
    {
     "name": "stderr",
     "output_type": "stream",
     "text": [
      "100%|██████████| 2/2 [00:00<00:00,  8.38it/s]\n"
     ]
    },
    {
     "name": "stdout",
     "output_type": "stream",
     "text": [
      "computing greedy matching.\n"
     ]
    },
    {
     "name": "stderr",
     "output_type": "stream",
     "text": [
      "100%|██████████| 1/1 [00:00<00:00, 66.66it/s]\n"
     ]
    },
    {
     "name": "stdout",
     "output_type": "stream",
     "text": [
      "done in 0.26 seconds, 248.25 sentences/sec\n",
      "calculating scores...\n",
      "computing bert embedding.\n"
     ]
    },
    {
     "name": "stderr",
     "output_type": "stream",
     "text": [
      "100%|██████████| 2/2 [00:00<00:00,  8.19it/s]\n"
     ]
    },
    {
     "name": "stdout",
     "output_type": "stream",
     "text": [
      "computing greedy matching.\n"
     ]
    },
    {
     "name": "stderr",
     "output_type": "stream",
     "text": [
      "  0%|          | 0/1 [00:00<?, ?it/s]Warning: Empty reference sentence detected; setting raw BERTScores to 0.\n",
      "100%|██████████| 1/1 [00:00<00:00, 71.43it/s]\n"
     ]
    },
    {
     "name": "stdout",
     "output_type": "stream",
     "text": [
      "done in 0.26 seconds, 243.62 sentences/sec\n",
      "calculating scores...\n",
      "computing bert embedding.\n"
     ]
    },
    {
     "name": "stderr",
     "output_type": "stream",
     "text": [
      "100%|██████████| 2/2 [00:00<00:00,  8.99it/s]\n"
     ]
    },
    {
     "name": "stdout",
     "output_type": "stream",
     "text": [
      "computing greedy matching.\n"
     ]
    },
    {
     "name": "stderr",
     "output_type": "stream",
     "text": [
      "100%|██████████| 1/1 [00:00<00:00, 76.94it/s]\n"
     ]
    },
    {
     "name": "stdout",
     "output_type": "stream",
     "text": [
      "done in 0.24 seconds, 265.36 sentences/sec\n",
      "calculating scores...\n",
      "computing bert embedding.\n"
     ]
    },
    {
     "name": "stderr",
     "output_type": "stream",
     "text": [
      "100%|██████████| 2/2 [00:00<00:00,  7.99it/s]\n"
     ]
    },
    {
     "name": "stdout",
     "output_type": "stream",
     "text": [
      "computing greedy matching.\n"
     ]
    },
    {
     "name": "stderr",
     "output_type": "stream",
     "text": [
      "100%|██████████| 1/1 [00:00<00:00, 68.91it/s]\n"
     ]
    },
    {
     "name": "stdout",
     "output_type": "stream",
     "text": [
      "done in 0.27 seconds, 237.92 sentences/sec\n",
      "calculating scores...\n",
      "computing bert embedding.\n"
     ]
    },
    {
     "name": "stderr",
     "output_type": "stream",
     "text": [
      "100%|██████████| 2/2 [00:00<00:00,  7.98it/s]\n"
     ]
    },
    {
     "name": "stdout",
     "output_type": "stream",
     "text": [
      "computing greedy matching.\n"
     ]
    },
    {
     "name": "stderr",
     "output_type": "stream",
     "text": [
      "100%|██████████| 1/1 [00:00<00:00, 71.43it/s]\n"
     ]
    },
    {
     "name": "stdout",
     "output_type": "stream",
     "text": [
      "done in 0.27 seconds, 238.44 sentences/sec\n",
      "calculating scores...\n",
      "computing bert embedding.\n"
     ]
    },
    {
     "name": "stderr",
     "output_type": "stream",
     "text": [
      "100%|██████████| 2/2 [00:00<00:00,  8.29it/s]\n"
     ]
    },
    {
     "name": "stdout",
     "output_type": "stream",
     "text": [
      "computing greedy matching.\n"
     ]
    },
    {
     "name": "stderr",
     "output_type": "stream",
     "text": [
      "  0%|          | 0/1 [00:00<?, ?it/s]Warning: Empty candidate sentence detected; setting raw BERTscores to 0.\n",
      "100%|██████████| 1/1 [00:00<00:00, 71.43it/s]\n"
     ]
    },
    {
     "name": "stdout",
     "output_type": "stream",
     "text": [
      "done in 0.26 seconds, 247.16 sentences/sec\n",
      "calculating scores...\n",
      "computing bert embedding.\n"
     ]
    },
    {
     "name": "stderr",
     "output_type": "stream",
     "text": [
      "100%|██████████| 2/2 [00:00<00:00,  7.24it/s]\n"
     ]
    },
    {
     "name": "stdout",
     "output_type": "stream",
     "text": [
      "computing greedy matching.\n"
     ]
    },
    {
     "name": "stderr",
     "output_type": "stream",
     "text": [
      "  0%|          | 0/1 [00:00<?, ?it/s]Warning: Empty candidate sentence detected; setting raw BERTscores to 0.\n",
      "100%|██████████| 1/1 [00:00<00:00, 66.67it/s]\n"
     ]
    },
    {
     "name": "stdout",
     "output_type": "stream",
     "text": [
      "done in 0.29 seconds, 217.15 sentences/sec\n",
      "calculating scores...\n",
      "computing bert embedding.\n"
     ]
    },
    {
     "name": "stderr",
     "output_type": "stream",
     "text": [
      "100%|██████████| 2/2 [00:00<00:00,  7.03it/s]\n"
     ]
    },
    {
     "name": "stdout",
     "output_type": "stream",
     "text": [
      "computing greedy matching.\n"
     ]
    },
    {
     "name": "stderr",
     "output_type": "stream",
     "text": [
      "  0%|          | 0/1 [00:00<?, ?it/s]Warning: Empty candidate sentence detected; setting raw BERTscores to 0.\n",
      "100%|██████████| 1/1 [00:00<00:00, 66.66it/s]\n"
     ]
    },
    {
     "name": "stdout",
     "output_type": "stream",
     "text": [
      "done in 0.30 seconds, 211.61 sentences/sec\n",
      "calculating scores...\n",
      "computing bert embedding.\n"
     ]
    },
    {
     "name": "stderr",
     "output_type": "stream",
     "text": [
      "100%|██████████| 2/2 [00:00<00:00,  8.18it/s]\n"
     ]
    },
    {
     "name": "stdout",
     "output_type": "stream",
     "text": [
      "computing greedy matching.\n"
     ]
    },
    {
     "name": "stderr",
     "output_type": "stream",
     "text": [
      "100%|██████████| 1/1 [00:00<00:00, 66.66it/s]\n"
     ]
    },
    {
     "name": "stdout",
     "output_type": "stream",
     "text": [
      "done in 0.26 seconds, 242.78 sentences/sec\n",
      "calculating scores...\n",
      "computing bert embedding.\n"
     ]
    },
    {
     "name": "stderr",
     "output_type": "stream",
     "text": [
      "100%|██████████| 2/2 [00:00<00:00,  8.28it/s]\n"
     ]
    },
    {
     "name": "stdout",
     "output_type": "stream",
     "text": [
      "computing greedy matching.\n"
     ]
    },
    {
     "name": "stderr",
     "output_type": "stream",
     "text": [
      "100%|██████████| 1/1 [00:00<00:00, 66.67it/s]\n"
     ]
    },
    {
     "name": "stdout",
     "output_type": "stream",
     "text": [
      "done in 0.26 seconds, 245.62 sentences/sec\n",
      "calculating scores...\n",
      "computing bert embedding.\n"
     ]
    },
    {
     "name": "stderr",
     "output_type": "stream",
     "text": [
      "100%|██████████| 2/2 [00:00<00:00,  9.85it/s]\n"
     ]
    },
    {
     "name": "stdout",
     "output_type": "stream",
     "text": [
      "computing greedy matching.\n"
     ]
    },
    {
     "name": "stderr",
     "output_type": "stream",
     "text": [
      "100%|██████████| 1/1 [00:00<00:00, 71.43it/s]"
     ]
    },
    {
     "name": "stdout",
     "output_type": "stream",
     "text": [
      "done in 0.22 seconds, 288.06 sentences/sec\n"
     ]
    },
    {
     "name": "stderr",
     "output_type": "stream",
     "text": [
      "\n"
     ]
    }
   ],
   "source": [
    "keys = list(candidates.keys())\n",
    "n = len(keys)\n",
    "\n",
    "mean = 0\n",
    "precisions = np.zeros(64)\n",
    "recalls = np.zeros(64)\n",
    "f1_scores = np.zeros(64)\n",
    "\n",
    "for i in range(n - 1):\n",
    "    for j in range(i + 1, n):\n",
    "        key1 = keys[i]\n",
    "        key2 = keys[j]\n",
    "        if candidates[key1] != candidates[key2]:  # Exclude pairs with two identical lists\n",
    "            if 'real' in key1 and 'real' in key2:\n",
    "                p, r, f1 = score(candidates[key1], candidates[key2], lang='en', verbose=True)\n",
    "                precisions += np.array(p)\n",
    "                recalls += np.array(r)\n",
    "                f1_scores += np.array(f1)\n",
    "                mean += 1\n",
    "\n",
    "precisions_real = precisions / mean\n",
    "recalls_real = recalls / mean\n",
    "f1_scores_real = f1_scores / mean"
   ]
  },
  {
   "attachments": {},
   "cell_type": "markdown",
   "metadata": {},
   "source": [
    "BERTScore Visualization"
   ]
  },
  {
   "cell_type": "code",
   "execution_count": 16,
   "metadata": {},
   "outputs": [
    {
     "name": "stdout",
     "output_type": "stream",
     "text": [
      "caption Precision mean is  0.9363500759005547\n",
      "caption  Precision median is  0.936227810382843\n",
      "caption  Precision std is  0.018307820837709182\n",
      "caption  Recall mean is  0.930338455317542\n",
      "caption  Recall median is  0.9321746543049813\n",
      "caption  Recall std is  0.01879294674221603\n",
      "caption  F1-score mean is  0.9332304684910924\n",
      "caption  F1-score median is  0.9345910549163818\n",
      "caption  F1-score std is  0.01811850787420427\n",
      "name Precision mean is  0.8946972749195994\n",
      "name  Precision median is  0.9058885142207145\n",
      "name  Precision std is  0.06632875295125712\n",
      "name  Recall mean is  0.8736935315188021\n",
      "name  Recall median is  0.8797171756625175\n",
      "name  Recall std is  0.07010323560114552\n",
      "name  F1-score mean is  0.8835316460113972\n",
      "name  F1-score median is  0.8932598292827606\n",
      "name  F1-score std is  0.0678570563728561\n",
      "real Precision mean is  0.9061711318790913\n",
      "real  Precision median is  0.9121639415621757\n",
      "real  Precision std is  0.04664660552805198\n",
      "real  Recall mean is  0.8941711352672428\n",
      "real  Recall median is  0.902020275592804\n",
      "real  Recall std is  0.044833849497336646\n",
      "real  F1-score mean is  0.8997014930471778\n",
      "real  F1-score median is  0.9054639279842377\n",
      "real  F1-score std is  0.044842887366611045\n"
     ]
    }
   ],
   "source": [
    "print(f\"caption Precision mean is \", np.mean(np.array(precisions_caption)))\n",
    "print(f\"caption  Precision median is \", np.median(np.array(precisions_caption)))\n",
    "print(f\"caption  Precision std is \", np.std(np.array(precisions_caption)))\n",
    "\n",
    "print(f\"caption  Recall mean is \", np.mean(np.array(recalls_caption)))\n",
    "print(f\"caption  Recall median is \", np.median(np.array(recalls_caption)))\n",
    "print(f\"caption  Recall std is \", np.std(np.array(recalls_caption)))\n",
    "\n",
    "print(f\"caption  F1-score mean is \", np.mean(np.array(f1_scores_caption)))\n",
    "print(f\"caption  F1-score median is \", np.median(np.array(f1_scores_caption)))\n",
    "print(f\"caption  F1-score std is \", np.std(np.array(f1_scores_caption)))\n",
    "\n",
    "print(f\"name Precision mean is \", np.mean(np.array(precisions_name)))\n",
    "print(f\"name  Precision median is \", np.median(np.array(precisions_name)))\n",
    "print(f\"name  Precision std is \", np.std(np.array(precisions_name)))\n",
    "\n",
    "print(f\"name  Recall mean is \", np.mean(np.array(recalls_name)))\n",
    "print(f\"name  Recall median is \", np.median(np.array(recalls_name)))\n",
    "print(f\"name  Recall std is \", np.std(np.array(recalls_name)))\n",
    "\n",
    "print(f\"name  F1-score mean is \", np.mean(np.array(f1_scores_name)))\n",
    "print(f\"name  F1-score median is \", np.median(np.array(f1_scores_name)))\n",
    "print(f\"name  F1-score std is \", np.std(np.array(f1_scores_name)))\n",
    "\n",
    "print(f\"real Precision mean is \", np.mean(np.array(precisions_real)))\n",
    "print(f\"real  Precision median is \", np.median(np.array(precisions_real)))\n",
    "print(f\"real  Precision std is \", np.std(np.array(precisions_real)))\n",
    "\n",
    "print(f\"real  Recall mean is \", np.mean(np.array(recalls_real)))\n",
    "print(f\"real  Recall median is \", np.median(np.array(recalls_real)))\n",
    "print(f\"real  Recall std is \", np.std(np.array(recalls_real)))\n",
    "\n",
    "print(f\"real  F1-score mean is \", np.mean(np.array(f1_scores_real)))\n",
    "print(f\"real  F1-score median is \", np.median(np.array(f1_scores_real)))\n",
    "print(f\"real  F1-score std is \", np.std(np.array(f1_scores_real)))"
   ]
  },
  {
   "cell_type": "code",
   "execution_count": 14,
   "metadata": {},
   "outputs": [
    {
     "data": {
      "application/vnd.plotly.v1+json": {
       "config": {
        "plotlyServerURL": "https://plot.ly"
       },
       "data": [
        {
         "name": "Image caption task",
         "type": "bar",
         "x": [
          2025,
          2022,
          2013,
          2016,
          2037,
          2008,
          2005,
          2054,
          2029,
          2044,
          2017,
          2021,
          2045,
          2023,
          2057,
          2047,
          2060,
          2031,
          2064,
          2055,
          2058,
          2020,
          2027,
          2041,
          2063,
          2034,
          2030,
          2049,
          2024,
          2007,
          2048,
          2028,
          2001,
          2012,
          2018,
          2010,
          2061,
          2052,
          2035,
          2062,
          2033,
          2056,
          2051,
          2038,
          2039,
          2040,
          2006,
          2042,
          2019,
          2046,
          2050,
          2004,
          2036,
          2026,
          2003,
          2011,
          2014,
          2043,
          2015,
          2009,
          2053,
          2002,
          2032,
          2059
         ],
         "xaxis": "x",
         "y": [
          0.9321462929248809,
          0.9287058711051941,
          0.9063636958599091,
          0.9450641572475433,
          0.9428937196731567,
          0.8989984095096588,
          0.9511970311403275,
          0.9200651824474335,
          0.9373449921607971,
          0.9358657002449036,
          0.9239012211561203,
          0.9186943739652633,
          0.9251586198806763,
          0.9347830027341842,
          0.9488671332597732,
          0.9342905968427658,
          0.9467127174139023,
          0.9422160238027573,
          0.9595615029335022,
          0.9156205415725708,
          0.8977683842182159,
          0.9273211866617203,
          0.9113277465105056,
          0.9011072129011154,
          0.9122475564479828,
          0.9358282893896103,
          0.9316741675138474,
          0.9350963681936264,
          0.8923585504293442,
          0.9358204811811447,
          0.9193802922964096,
          0.9313725978136063,
          0.9581098973751068,
          0.953830686211586,
          0.9383503884077072,
          0.9430146545171738,
          0.9279019445180893,
          0.9011912941932678,
          0.9430167526006699,
          0.9251955896615982,
          0.9254012286663056,
          0.9414485037326813,
          0.9197057157754898,
          0.9114542007446289,
          0.9627308577299118,
          0.932399132847786,
          0.9274219125509262,
          0.9485455125570297,
          0.9294566452503205,
          0.9345215350389481,
          0.9682162791490555,
          0.9705482661724091,
          0.9208659648895263,
          0.9484988808631897,
          0.9358863055706024,
          0.9346605747938156,
          0.9757680565118789,
          0.9558128446340561,
          0.9516654461622238,
          0.916959622502327,
          0.9487923115491868,
          0.9392556607723236,
          0.9475166440010071,
          0.9088530540466309
         ],
         "yaxis": "y"
        },
        {
         "name": "Name question VGA",
         "type": "bar",
         "x": [
          2025,
          2022,
          2013,
          2016,
          2037,
          2008,
          2005,
          2054,
          2029,
          2044,
          2017,
          2021,
          2045,
          2023,
          2057,
          2047,
          2060,
          2031,
          2064,
          2055,
          2058,
          2020,
          2027,
          2041,
          2063,
          2034,
          2030,
          2049,
          2024,
          2007,
          2048,
          2028,
          2001,
          2012,
          2018,
          2010,
          2061,
          2052,
          2035,
          2062,
          2033,
          2056,
          2051,
          2038,
          2039,
          2040,
          2006,
          2042,
          2019,
          2046,
          2050,
          2004,
          2036,
          2026,
          2003,
          2011,
          2014,
          2043,
          2015,
          2009,
          2053,
          2002,
          2032,
          2059
         ],
         "xaxis": "x2",
         "y": [
          0.8971884220838546,
          0.6900578647851944,
          0.880840054154396,
          0.8716286599636078,
          0.8832023084163666,
          0.865056499838829,
          0.8855145514011383,
          0.8969672620296478,
          0.9370622724294663,
          0.9106272369623184,
          0.8819190412759781,
          0.9441060423851013,
          0.8581178247928619,
          0.6357800871133804,
          0.900937071442604,
          0.8706316858530044,
          0.8612308204174042,
          0.93470219373703,
          0.8842495292425155,
          0.9087194412946701,
          0.8662355661392211,
          0.8914770394563675,
          0.8983471035957337,
          0.8930522561073303,
          0.8716708034276962,
          0.8746120989322662,
          0.9422902345657349,
          0.9140160769224167,
          0.8985527276992797,
          0.88912054002285,
          0.8671403676271439,
          0.8654324114322662,
          0.8952455073595047,
          0.9113339424133301,
          0.8744468301534652,
          0.66155646443367,
          0.8965500652790069,
          0.8283657103776931,
          0.9524980276823044,
          0.8908701717853547,
          0.8877759248018264,
          0.9083345174789429,
          0.8803135693073273,
          0.8774514317512512,
          0.880878147482872,
          0.9462741523981094,
          0.8813181430101394,
          0.8934674024581909,
          0.8944229871034622,
          0.9034586787223816,
          0.9819222956895828,
          0.624717828631401,
          0.8209230422973632,
          0.9113499015569687,
          0.9679107218980789,
          0.9129720091819763,
          0.9069635003805161,
          0.8845567584037781,
          0.894250825047493,
          0.8941397398710251,
          1.000000011920929,
          0.9378719359636307,
          0.9151697248220444,
          0.9582292795181274
         ],
         "yaxis": "y2"
        },
        {
         "name": "Identity question VGA",
         "type": "bar",
         "x": [
          2025,
          2022,
          2013,
          2016,
          2037,
          2008,
          2005,
          2054,
          2029,
          2044,
          2017,
          2021,
          2045,
          2023,
          2057,
          2047,
          2060,
          2031,
          2064,
          2055,
          2058,
          2020,
          2027,
          2041,
          2063,
          2034,
          2030,
          2049,
          2024,
          2007,
          2048,
          2028,
          2001,
          2012,
          2018,
          2010,
          2061,
          2052,
          2035,
          2062,
          2033,
          2056,
          2051,
          2038,
          2039,
          2040,
          2006,
          2042,
          2019,
          2046,
          2050,
          2004,
          2036,
          2026,
          2003,
          2011,
          2014,
          2043,
          2015,
          2009,
          2053,
          2002,
          2032,
          2059
         ],
         "xaxis": "x3",
         "y": [
          0.8884503543376923,
          0.9563772201538085,
          0.8941403239965439,
          0.9086443305015564,
          0.8892197370529175,
          0.8721341669559479,
          0.9339597284793854,
          0.8836909770965576,
          0.8869589388370513,
          0.8999631226062774,
          0.904512158036232,
          0.9381995558738708,
          0.8865894854068757,
          0.9065436363220215,
          0.9145499140024185,
          0.88600954413414,
          0.8950802266597748,
          0.9210645616054535,
          0.894891795516014,
          0.9274081617593766,
          0.8481305837631226,
          0.9410365492105484,
          0.8988974004983902,
          0.8934957057237625,
          0.8617814034223557,
          0.9329478770494462,
          0.892006716132164,
          0.8850153148174286,
          0.8738897174596787,
          0.9047228991985321,
          0.5923703908920288,
          0.9081916242837906,
          0.901283112168312,
          0.928323432803154,
          0.8575329542160034,
          0.9242847055196762,
          0.9287028759717941,
          0.8824582517147064,
          0.8898890733718872,
          0.8695952892303467,
          0.8822766244411469,
          0.912200528383255,
          0.9136457026004792,
          0.8916686445474624,
          0.9290854632854462,
          0.9178702384233475,
          0.9038096368312836,
          0.9475548446178437,
          0.8799225568771363,
          0.9142587333917618,
          0.9223372220993042,
          0.9116943687200546,
          0.8767837226390839,
          0.9296942263841629,
          0.9122660428285598,
          0.924171793460846,
          0.930577477812767,
          0.9247187376022339,
          0.9149773716926575,
          0.9062049567699433,
          0.9121382057666778,
          0.9090780436992645,
          0.8757360219955445,
          0.9352805733680725
         ],
         "yaxis": "y3"
        }
       ],
       "layout": {
        "bargap": 0.1,
        "bargroupgap": 0.3,
        "height": 600,
        "legend": {
         "orientation": "h",
         "x": 0,
         "y": -0.2
        },
        "template": {
         "data": {
          "bar": [
           {
            "error_x": {
             "color": "#2a3f5f"
            },
            "error_y": {
             "color": "#2a3f5f"
            },
            "marker": {
             "line": {
              "color": "#E5ECF6",
              "width": 0.5
             },
             "pattern": {
              "fillmode": "overlay",
              "size": 10,
              "solidity": 0.2
             }
            },
            "type": "bar"
           }
          ],
          "barpolar": [
           {
            "marker": {
             "line": {
              "color": "#E5ECF6",
              "width": 0.5
             },
             "pattern": {
              "fillmode": "overlay",
              "size": 10,
              "solidity": 0.2
             }
            },
            "type": "barpolar"
           }
          ],
          "carpet": [
           {
            "aaxis": {
             "endlinecolor": "#2a3f5f",
             "gridcolor": "white",
             "linecolor": "white",
             "minorgridcolor": "white",
             "startlinecolor": "#2a3f5f"
            },
            "baxis": {
             "endlinecolor": "#2a3f5f",
             "gridcolor": "white",
             "linecolor": "white",
             "minorgridcolor": "white",
             "startlinecolor": "#2a3f5f"
            },
            "type": "carpet"
           }
          ],
          "choropleth": [
           {
            "colorbar": {
             "outlinewidth": 0,
             "ticks": ""
            },
            "type": "choropleth"
           }
          ],
          "contour": [
           {
            "colorbar": {
             "outlinewidth": 0,
             "ticks": ""
            },
            "colorscale": [
             [
              0,
              "#0d0887"
             ],
             [
              0.1111111111111111,
              "#46039f"
             ],
             [
              0.2222222222222222,
              "#7201a8"
             ],
             [
              0.3333333333333333,
              "#9c179e"
             ],
             [
              0.4444444444444444,
              "#bd3786"
             ],
             [
              0.5555555555555556,
              "#d8576b"
             ],
             [
              0.6666666666666666,
              "#ed7953"
             ],
             [
              0.7777777777777778,
              "#fb9f3a"
             ],
             [
              0.8888888888888888,
              "#fdca26"
             ],
             [
              1,
              "#f0f921"
             ]
            ],
            "type": "contour"
           }
          ],
          "contourcarpet": [
           {
            "colorbar": {
             "outlinewidth": 0,
             "ticks": ""
            },
            "type": "contourcarpet"
           }
          ],
          "heatmap": [
           {
            "colorbar": {
             "outlinewidth": 0,
             "ticks": ""
            },
            "colorscale": [
             [
              0,
              "#0d0887"
             ],
             [
              0.1111111111111111,
              "#46039f"
             ],
             [
              0.2222222222222222,
              "#7201a8"
             ],
             [
              0.3333333333333333,
              "#9c179e"
             ],
             [
              0.4444444444444444,
              "#bd3786"
             ],
             [
              0.5555555555555556,
              "#d8576b"
             ],
             [
              0.6666666666666666,
              "#ed7953"
             ],
             [
              0.7777777777777778,
              "#fb9f3a"
             ],
             [
              0.8888888888888888,
              "#fdca26"
             ],
             [
              1,
              "#f0f921"
             ]
            ],
            "type": "heatmap"
           }
          ],
          "heatmapgl": [
           {
            "colorbar": {
             "outlinewidth": 0,
             "ticks": ""
            },
            "colorscale": [
             [
              0,
              "#0d0887"
             ],
             [
              0.1111111111111111,
              "#46039f"
             ],
             [
              0.2222222222222222,
              "#7201a8"
             ],
             [
              0.3333333333333333,
              "#9c179e"
             ],
             [
              0.4444444444444444,
              "#bd3786"
             ],
             [
              0.5555555555555556,
              "#d8576b"
             ],
             [
              0.6666666666666666,
              "#ed7953"
             ],
             [
              0.7777777777777778,
              "#fb9f3a"
             ],
             [
              0.8888888888888888,
              "#fdca26"
             ],
             [
              1,
              "#f0f921"
             ]
            ],
            "type": "heatmapgl"
           }
          ],
          "histogram": [
           {
            "marker": {
             "pattern": {
              "fillmode": "overlay",
              "size": 10,
              "solidity": 0.2
             }
            },
            "type": "histogram"
           }
          ],
          "histogram2d": [
           {
            "colorbar": {
             "outlinewidth": 0,
             "ticks": ""
            },
            "colorscale": [
             [
              0,
              "#0d0887"
             ],
             [
              0.1111111111111111,
              "#46039f"
             ],
             [
              0.2222222222222222,
              "#7201a8"
             ],
             [
              0.3333333333333333,
              "#9c179e"
             ],
             [
              0.4444444444444444,
              "#bd3786"
             ],
             [
              0.5555555555555556,
              "#d8576b"
             ],
             [
              0.6666666666666666,
              "#ed7953"
             ],
             [
              0.7777777777777778,
              "#fb9f3a"
             ],
             [
              0.8888888888888888,
              "#fdca26"
             ],
             [
              1,
              "#f0f921"
             ]
            ],
            "type": "histogram2d"
           }
          ],
          "histogram2dcontour": [
           {
            "colorbar": {
             "outlinewidth": 0,
             "ticks": ""
            },
            "colorscale": [
             [
              0,
              "#0d0887"
             ],
             [
              0.1111111111111111,
              "#46039f"
             ],
             [
              0.2222222222222222,
              "#7201a8"
             ],
             [
              0.3333333333333333,
              "#9c179e"
             ],
             [
              0.4444444444444444,
              "#bd3786"
             ],
             [
              0.5555555555555556,
              "#d8576b"
             ],
             [
              0.6666666666666666,
              "#ed7953"
             ],
             [
              0.7777777777777778,
              "#fb9f3a"
             ],
             [
              0.8888888888888888,
              "#fdca26"
             ],
             [
              1,
              "#f0f921"
             ]
            ],
            "type": "histogram2dcontour"
           }
          ],
          "mesh3d": [
           {
            "colorbar": {
             "outlinewidth": 0,
             "ticks": ""
            },
            "type": "mesh3d"
           }
          ],
          "parcoords": [
           {
            "line": {
             "colorbar": {
              "outlinewidth": 0,
              "ticks": ""
             }
            },
            "type": "parcoords"
           }
          ],
          "pie": [
           {
            "automargin": true,
            "type": "pie"
           }
          ],
          "scatter": [
           {
            "fillpattern": {
             "fillmode": "overlay",
             "size": 10,
             "solidity": 0.2
            },
            "type": "scatter"
           }
          ],
          "scatter3d": [
           {
            "line": {
             "colorbar": {
              "outlinewidth": 0,
              "ticks": ""
             }
            },
            "marker": {
             "colorbar": {
              "outlinewidth": 0,
              "ticks": ""
             }
            },
            "type": "scatter3d"
           }
          ],
          "scattercarpet": [
           {
            "marker": {
             "colorbar": {
              "outlinewidth": 0,
              "ticks": ""
             }
            },
            "type": "scattercarpet"
           }
          ],
          "scattergeo": [
           {
            "marker": {
             "colorbar": {
              "outlinewidth": 0,
              "ticks": ""
             }
            },
            "type": "scattergeo"
           }
          ],
          "scattergl": [
           {
            "marker": {
             "colorbar": {
              "outlinewidth": 0,
              "ticks": ""
             }
            },
            "type": "scattergl"
           }
          ],
          "scattermapbox": [
           {
            "marker": {
             "colorbar": {
              "outlinewidth": 0,
              "ticks": ""
             }
            },
            "type": "scattermapbox"
           }
          ],
          "scatterpolar": [
           {
            "marker": {
             "colorbar": {
              "outlinewidth": 0,
              "ticks": ""
             }
            },
            "type": "scatterpolar"
           }
          ],
          "scatterpolargl": [
           {
            "marker": {
             "colorbar": {
              "outlinewidth": 0,
              "ticks": ""
             }
            },
            "type": "scatterpolargl"
           }
          ],
          "scatterternary": [
           {
            "marker": {
             "colorbar": {
              "outlinewidth": 0,
              "ticks": ""
             }
            },
            "type": "scatterternary"
           }
          ],
          "surface": [
           {
            "colorbar": {
             "outlinewidth": 0,
             "ticks": ""
            },
            "colorscale": [
             [
              0,
              "#0d0887"
             ],
             [
              0.1111111111111111,
              "#46039f"
             ],
             [
              0.2222222222222222,
              "#7201a8"
             ],
             [
              0.3333333333333333,
              "#9c179e"
             ],
             [
              0.4444444444444444,
              "#bd3786"
             ],
             [
              0.5555555555555556,
              "#d8576b"
             ],
             [
              0.6666666666666666,
              "#ed7953"
             ],
             [
              0.7777777777777778,
              "#fb9f3a"
             ],
             [
              0.8888888888888888,
              "#fdca26"
             ],
             [
              1,
              "#f0f921"
             ]
            ],
            "type": "surface"
           }
          ],
          "table": [
           {
            "cells": {
             "fill": {
              "color": "#EBF0F8"
             },
             "line": {
              "color": "white"
             }
            },
            "header": {
             "fill": {
              "color": "#C8D4E3"
             },
             "line": {
              "color": "white"
             }
            },
            "type": "table"
           }
          ]
         },
         "layout": {
          "annotationdefaults": {
           "arrowcolor": "#2a3f5f",
           "arrowhead": 0,
           "arrowwidth": 1
          },
          "autotypenumbers": "strict",
          "coloraxis": {
           "colorbar": {
            "outlinewidth": 0,
            "ticks": ""
           }
          },
          "colorscale": {
           "diverging": [
            [
             0,
             "#8e0152"
            ],
            [
             0.1,
             "#c51b7d"
            ],
            [
             0.2,
             "#de77ae"
            ],
            [
             0.3,
             "#f1b6da"
            ],
            [
             0.4,
             "#fde0ef"
            ],
            [
             0.5,
             "#f7f7f7"
            ],
            [
             0.6,
             "#e6f5d0"
            ],
            [
             0.7,
             "#b8e186"
            ],
            [
             0.8,
             "#7fbc41"
            ],
            [
             0.9,
             "#4d9221"
            ],
            [
             1,
             "#276419"
            ]
           ],
           "sequential": [
            [
             0,
             "#0d0887"
            ],
            [
             0.1111111111111111,
             "#46039f"
            ],
            [
             0.2222222222222222,
             "#7201a8"
            ],
            [
             0.3333333333333333,
             "#9c179e"
            ],
            [
             0.4444444444444444,
             "#bd3786"
            ],
            [
             0.5555555555555556,
             "#d8576b"
            ],
            [
             0.6666666666666666,
             "#ed7953"
            ],
            [
             0.7777777777777778,
             "#fb9f3a"
            ],
            [
             0.8888888888888888,
             "#fdca26"
            ],
            [
             1,
             "#f0f921"
            ]
           ],
           "sequentialminus": [
            [
             0,
             "#0d0887"
            ],
            [
             0.1111111111111111,
             "#46039f"
            ],
            [
             0.2222222222222222,
             "#7201a8"
            ],
            [
             0.3333333333333333,
             "#9c179e"
            ],
            [
             0.4444444444444444,
             "#bd3786"
            ],
            [
             0.5555555555555556,
             "#d8576b"
            ],
            [
             0.6666666666666666,
             "#ed7953"
            ],
            [
             0.7777777777777778,
             "#fb9f3a"
            ],
            [
             0.8888888888888888,
             "#fdca26"
            ],
            [
             1,
             "#f0f921"
            ]
           ]
          },
          "colorway": [
           "#636efa",
           "#EF553B",
           "#00cc96",
           "#ab63fa",
           "#FFA15A",
           "#19d3f3",
           "#FF6692",
           "#B6E880",
           "#FF97FF",
           "#FECB52"
          ],
          "font": {
           "color": "#2a3f5f"
          },
          "geo": {
           "bgcolor": "white",
           "lakecolor": "white",
           "landcolor": "#E5ECF6",
           "showlakes": true,
           "showland": true,
           "subunitcolor": "white"
          },
          "hoverlabel": {
           "align": "left"
          },
          "hovermode": "closest",
          "mapbox": {
           "style": "light"
          },
          "paper_bgcolor": "white",
          "plot_bgcolor": "#E5ECF6",
          "polar": {
           "angularaxis": {
            "gridcolor": "white",
            "linecolor": "white",
            "ticks": ""
           },
           "bgcolor": "#E5ECF6",
           "radialaxis": {
            "gridcolor": "white",
            "linecolor": "white",
            "ticks": ""
           }
          },
          "scene": {
           "xaxis": {
            "backgroundcolor": "#E5ECF6",
            "gridcolor": "white",
            "gridwidth": 2,
            "linecolor": "white",
            "showbackground": true,
            "ticks": "",
            "zerolinecolor": "white"
           },
           "yaxis": {
            "backgroundcolor": "#E5ECF6",
            "gridcolor": "white",
            "gridwidth": 2,
            "linecolor": "white",
            "showbackground": true,
            "ticks": "",
            "zerolinecolor": "white"
           },
           "zaxis": {
            "backgroundcolor": "#E5ECF6",
            "gridcolor": "white",
            "gridwidth": 2,
            "linecolor": "white",
            "showbackground": true,
            "ticks": "",
            "zerolinecolor": "white"
           }
          },
          "shapedefaults": {
           "line": {
            "color": "#2a3f5f"
           }
          },
          "ternary": {
           "aaxis": {
            "gridcolor": "white",
            "linecolor": "white",
            "ticks": ""
           },
           "baxis": {
            "gridcolor": "white",
            "linecolor": "white",
            "ticks": ""
           },
           "bgcolor": "#E5ECF6",
           "caxis": {
            "gridcolor": "white",
            "linecolor": "white",
            "ticks": ""
           }
          },
          "title": {
           "x": 0.05
          },
          "xaxis": {
           "automargin": true,
           "gridcolor": "white",
           "linecolor": "white",
           "ticks": "",
           "title": {
            "standoff": 15
           },
           "zerolinecolor": "white",
           "zerolinewidth": 2
          },
          "yaxis": {
           "automargin": true,
           "gridcolor": "white",
           "linecolor": "white",
           "ticks": "",
           "title": {
            "standoff": 15
           },
           "zerolinecolor": "white",
           "zerolinewidth": 2
          }
         }
        },
        "title": {
         "text": "BERTScore mean F1-Score for each object, across all BLIP-2 decoding strateggies"
        },
        "width": 1200,
        "xaxis": {
         "anchor": "y",
         "domain": [
          0,
          1
         ],
         "matches": "x3",
         "showticklabels": false,
         "tickangle": -70,
         "ticktext": [
          2025,
          2022,
          2013,
          2016,
          2037,
          2008,
          2005,
          2054,
          2029,
          2044,
          2017,
          2021,
          2045,
          2023,
          2057,
          2047,
          2060,
          2031,
          2064,
          2055,
          2058,
          2020,
          2027,
          2041,
          2063,
          2034,
          2030,
          2049,
          2024,
          2007,
          2048,
          2028,
          2001,
          2012,
          2018,
          2010,
          2061,
          2052,
          2035,
          2062,
          2033,
          2056,
          2051,
          2038,
          2039,
          2040,
          2006,
          2042,
          2019,
          2046,
          2050,
          2004,
          2036,
          2026,
          2003,
          2011,
          2014,
          2043,
          2015,
          2009,
          2053,
          2002,
          2032,
          2059
         ],
         "tickvals": [
          2025,
          2022,
          2013,
          2016,
          2037,
          2008,
          2005,
          2054,
          2029,
          2044,
          2017,
          2021,
          2045,
          2023,
          2057,
          2047,
          2060,
          2031,
          2064,
          2055,
          2058,
          2020,
          2027,
          2041,
          2063,
          2034,
          2030,
          2049,
          2024,
          2007,
          2048,
          2028,
          2001,
          2012,
          2018,
          2010,
          2061,
          2052,
          2035,
          2062,
          2033,
          2056,
          2051,
          2038,
          2039,
          2040,
          2006,
          2042,
          2019,
          2046,
          2050,
          2004,
          2036,
          2026,
          2003,
          2011,
          2014,
          2043,
          2015,
          2009,
          2053,
          2002,
          2032,
          2059
         ]
        },
        "xaxis2": {
         "anchor": "y2",
         "domain": [
          0,
          1
         ],
         "matches": "x3",
         "showticklabels": false,
         "tickangle": -70,
         "ticktext": [
          2025,
          2022,
          2013,
          2016,
          2037,
          2008,
          2005,
          2054,
          2029,
          2044,
          2017,
          2021,
          2045,
          2023,
          2057,
          2047,
          2060,
          2031,
          2064,
          2055,
          2058,
          2020,
          2027,
          2041,
          2063,
          2034,
          2030,
          2049,
          2024,
          2007,
          2048,
          2028,
          2001,
          2012,
          2018,
          2010,
          2061,
          2052,
          2035,
          2062,
          2033,
          2056,
          2051,
          2038,
          2039,
          2040,
          2006,
          2042,
          2019,
          2046,
          2050,
          2004,
          2036,
          2026,
          2003,
          2011,
          2014,
          2043,
          2015,
          2009,
          2053,
          2002,
          2032,
          2059
         ],
         "tickvals": [
          2025,
          2022,
          2013,
          2016,
          2037,
          2008,
          2005,
          2054,
          2029,
          2044,
          2017,
          2021,
          2045,
          2023,
          2057,
          2047,
          2060,
          2031,
          2064,
          2055,
          2058,
          2020,
          2027,
          2041,
          2063,
          2034,
          2030,
          2049,
          2024,
          2007,
          2048,
          2028,
          2001,
          2012,
          2018,
          2010,
          2061,
          2052,
          2035,
          2062,
          2033,
          2056,
          2051,
          2038,
          2039,
          2040,
          2006,
          2042,
          2019,
          2046,
          2050,
          2004,
          2036,
          2026,
          2003,
          2011,
          2014,
          2043,
          2015,
          2009,
          2053,
          2002,
          2032,
          2059
         ],
         "title": {
          "text": "Object label"
         }
        },
        "xaxis3": {
         "anchor": "y3",
         "domain": [
          0,
          1
         ],
         "tickangle": -70,
         "ticktext": [
          2025,
          2022,
          2013,
          2016,
          2037,
          2008,
          2005,
          2054,
          2029,
          2044,
          2017,
          2021,
          2045,
          2023,
          2057,
          2047,
          2060,
          2031,
          2064,
          2055,
          2058,
          2020,
          2027,
          2041,
          2063,
          2034,
          2030,
          2049,
          2024,
          2007,
          2048,
          2028,
          2001,
          2012,
          2018,
          2010,
          2061,
          2052,
          2035,
          2062,
          2033,
          2056,
          2051,
          2038,
          2039,
          2040,
          2006,
          2042,
          2019,
          2046,
          2050,
          2004,
          2036,
          2026,
          2003,
          2011,
          2014,
          2043,
          2015,
          2009,
          2053,
          2002,
          2032,
          2059
         ],
         "tickvals": [
          2025,
          2022,
          2013,
          2016,
          2037,
          2008,
          2005,
          2054,
          2029,
          2044,
          2017,
          2021,
          2045,
          2023,
          2057,
          2047,
          2060,
          2031,
          2064,
          2055,
          2058,
          2020,
          2027,
          2041,
          2063,
          2034,
          2030,
          2049,
          2024,
          2007,
          2048,
          2028,
          2001,
          2012,
          2018,
          2010,
          2061,
          2052,
          2035,
          2062,
          2033,
          2056,
          2051,
          2038,
          2039,
          2040,
          2006,
          2042,
          2019,
          2046,
          2050,
          2004,
          2036,
          2026,
          2003,
          2011,
          2014,
          2043,
          2015,
          2009,
          2053,
          2002,
          2032,
          2059
         ]
        },
        "yaxis": {
         "anchor": "x",
         "domain": [
          0.7333333333333333,
          1
         ],
         "title": {
          "text": "F1-Score mean"
         },
         "type": "log"
        },
        "yaxis2": {
         "anchor": "x2",
         "domain": [
          0.36666666666666664,
          0.6333333333333333
         ],
         "title": {
          "text": "F1-Score mean"
         },
         "type": "log"
        },
        "yaxis3": {
         "anchor": "x3",
         "domain": [
          0,
          0.26666666666666666
         ],
         "title": {
          "text": "F1-Score mean"
         },
         "type": "log"
        }
       }
      }
     },
     "metadata": {},
     "output_type": "display_data"
    }
   ],
   "source": [
    "import plotly.graph_objects as go\n",
    "from plotly.subplots import make_subplots\n",
    "\n",
    "# Assuming your dataframe is called 'data'\n",
    "# You can load your data into a dataframe using pd.read_csv() or any other method\n",
    "\n",
    "# Sort the data based on the column with values between 0 and 100\n",
    "sorted_data = data.sort_values('nameability score')\n",
    "\n",
    "# Create a list of row indices to use as labels for x-axis\n",
    "labels = sorted_data['number label'].tolist()\n",
    "\n",
    "# Create a figure object with subplots\n",
    "fig = make_subplots(rows=3, cols=1, shared_xaxes=True)\n",
    "\n",
    "# Add the first trace to the first subplot\n",
    "fig.add_trace(go.Bar(x=labels, y=f1_scores_caption, name='Image caption task'), row=1, col=1)\n",
    "\n",
    "# Add the second trace to the second subplot\n",
    "fig.add_trace(go.Bar(x=labels, y=f1_scores_name, name='Name question VGA'), row=2, col=1)\n",
    "\n",
    "fig.add_trace(go.Bar(x=labels, y=f1_scores_real, name='Identity question VGA'), row=3, col=1)\n",
    "\n",
    "# Update the layout\n",
    "fig.update_layout(\n",
    "    title='BERTScore mean F1-Score for each object, across all BLIP-2 decoding strateggies',\n",
    "    width=1200,\n",
    "    height=600,\n",
    "    yaxis_type='log',\n",
    "    bargap=0.1,  # Adjust the spacing between bars within each subplot\n",
    "    bargroupgap=0.3,  # Adjust the spacing between subplot groups\n",
    "    legend=dict(\n",
    "        x=0,\n",
    "        y=-0.2,  # Adjust the y value to move the legend below the plot\n",
    "        orientation='h'  # Set the orientation to horizontal\n",
    "    )\n",
    ")\n",
    "\n",
    "# Update the ticktext for the x-axis labels of each subplot\n",
    "fig.update_xaxes(tickvals=labels, ticktext=labels, tickangle=290, row=1, col=1)\n",
    "fig.update_xaxes(tickvals=labels, ticktext=labels, tickangle=290, row=2, col=1)\n",
    "fig.update_xaxes(tickvals=labels, ticktext=labels, tickangle=290, row=3, col=1)\n",
    "\n",
    "# Set the titles for the subplots\n",
    "fig.update_yaxes(type='log', title_text='F1-Score mean', row=1, col=1)\n",
    "fig.update_yaxes(type='log', title_text='F1-Score mean', row=2, col=1)\n",
    "fig.update_yaxes(type='log', title_text='F1-Score mean', row=3, col=1)\n",
    "fig.update_xaxes(title_text='Object label', row=2, col=1)\n",
    "\n",
    "# Show the plot\n",
    "fig.show()\n"
   ]
  },
  {
   "cell_type": "code",
   "execution_count": 15,
   "metadata": {},
   "outputs": [
    {
     "data": {
      "application/vnd.plotly.v1+json": {
       "config": {
        "plotlyServerURL": "https://plot.ly"
       },
       "data": [
        {
         "name": "Image caption task",
         "type": "bar",
         "x": [
          "(13.922, 29.6]",
          "(29.6, 45.2]",
          "(45.2, 60.8]",
          "(60.8, 76.4]",
          "(76.4, 92.0]"
         ],
         "y": [
          0.9268771075285398,
          0.9307398401200772,
          0.9444067629320282,
          0.9296662304798762,
          0.9364703342318536
         ]
        },
        {
         "name": "Name question VGA task",
         "type": "bar",
         "x": [
          "(13.922, 29.6]",
          "(29.6, 45.2]",
          "(45.2, 60.8]",
          "(60.8, 76.4]",
          "(76.4, 92.0]"
         ],
         "y": [
          0.8818704295616884,
          0.9062806665897369,
          0.9004855960607528,
          0.8577171508471171,
          0.8514439145723979
         ]
        },
        {
         "name": "Identity question VGA task",
         "type": "bar",
         "x": [
          "(13.922, 29.6]",
          "(29.6, 45.2]",
          "(45.2, 60.8]",
          "(60.8, 76.4]",
          "(76.4, 92.0]"
         ],
         "y": [
          0.8957368795688336,
          0.8867510834708809,
          0.910888798747744,
          0.9025344540675481,
          0.9096397986014684
         ]
        }
       ],
       "layout": {
        "template": {
         "data": {
          "bar": [
           {
            "error_x": {
             "color": "#2a3f5f"
            },
            "error_y": {
             "color": "#2a3f5f"
            },
            "marker": {
             "line": {
              "color": "#E5ECF6",
              "width": 0.5
             },
             "pattern": {
              "fillmode": "overlay",
              "size": 10,
              "solidity": 0.2
             }
            },
            "type": "bar"
           }
          ],
          "barpolar": [
           {
            "marker": {
             "line": {
              "color": "#E5ECF6",
              "width": 0.5
             },
             "pattern": {
              "fillmode": "overlay",
              "size": 10,
              "solidity": 0.2
             }
            },
            "type": "barpolar"
           }
          ],
          "carpet": [
           {
            "aaxis": {
             "endlinecolor": "#2a3f5f",
             "gridcolor": "white",
             "linecolor": "white",
             "minorgridcolor": "white",
             "startlinecolor": "#2a3f5f"
            },
            "baxis": {
             "endlinecolor": "#2a3f5f",
             "gridcolor": "white",
             "linecolor": "white",
             "minorgridcolor": "white",
             "startlinecolor": "#2a3f5f"
            },
            "type": "carpet"
           }
          ],
          "choropleth": [
           {
            "colorbar": {
             "outlinewidth": 0,
             "ticks": ""
            },
            "type": "choropleth"
           }
          ],
          "contour": [
           {
            "colorbar": {
             "outlinewidth": 0,
             "ticks": ""
            },
            "colorscale": [
             [
              0,
              "#0d0887"
             ],
             [
              0.1111111111111111,
              "#46039f"
             ],
             [
              0.2222222222222222,
              "#7201a8"
             ],
             [
              0.3333333333333333,
              "#9c179e"
             ],
             [
              0.4444444444444444,
              "#bd3786"
             ],
             [
              0.5555555555555556,
              "#d8576b"
             ],
             [
              0.6666666666666666,
              "#ed7953"
             ],
             [
              0.7777777777777778,
              "#fb9f3a"
             ],
             [
              0.8888888888888888,
              "#fdca26"
             ],
             [
              1,
              "#f0f921"
             ]
            ],
            "type": "contour"
           }
          ],
          "contourcarpet": [
           {
            "colorbar": {
             "outlinewidth": 0,
             "ticks": ""
            },
            "type": "contourcarpet"
           }
          ],
          "heatmap": [
           {
            "colorbar": {
             "outlinewidth": 0,
             "ticks": ""
            },
            "colorscale": [
             [
              0,
              "#0d0887"
             ],
             [
              0.1111111111111111,
              "#46039f"
             ],
             [
              0.2222222222222222,
              "#7201a8"
             ],
             [
              0.3333333333333333,
              "#9c179e"
             ],
             [
              0.4444444444444444,
              "#bd3786"
             ],
             [
              0.5555555555555556,
              "#d8576b"
             ],
             [
              0.6666666666666666,
              "#ed7953"
             ],
             [
              0.7777777777777778,
              "#fb9f3a"
             ],
             [
              0.8888888888888888,
              "#fdca26"
             ],
             [
              1,
              "#f0f921"
             ]
            ],
            "type": "heatmap"
           }
          ],
          "heatmapgl": [
           {
            "colorbar": {
             "outlinewidth": 0,
             "ticks": ""
            },
            "colorscale": [
             [
              0,
              "#0d0887"
             ],
             [
              0.1111111111111111,
              "#46039f"
             ],
             [
              0.2222222222222222,
              "#7201a8"
             ],
             [
              0.3333333333333333,
              "#9c179e"
             ],
             [
              0.4444444444444444,
              "#bd3786"
             ],
             [
              0.5555555555555556,
              "#d8576b"
             ],
             [
              0.6666666666666666,
              "#ed7953"
             ],
             [
              0.7777777777777778,
              "#fb9f3a"
             ],
             [
              0.8888888888888888,
              "#fdca26"
             ],
             [
              1,
              "#f0f921"
             ]
            ],
            "type": "heatmapgl"
           }
          ],
          "histogram": [
           {
            "marker": {
             "pattern": {
              "fillmode": "overlay",
              "size": 10,
              "solidity": 0.2
             }
            },
            "type": "histogram"
           }
          ],
          "histogram2d": [
           {
            "colorbar": {
             "outlinewidth": 0,
             "ticks": ""
            },
            "colorscale": [
             [
              0,
              "#0d0887"
             ],
             [
              0.1111111111111111,
              "#46039f"
             ],
             [
              0.2222222222222222,
              "#7201a8"
             ],
             [
              0.3333333333333333,
              "#9c179e"
             ],
             [
              0.4444444444444444,
              "#bd3786"
             ],
             [
              0.5555555555555556,
              "#d8576b"
             ],
             [
              0.6666666666666666,
              "#ed7953"
             ],
             [
              0.7777777777777778,
              "#fb9f3a"
             ],
             [
              0.8888888888888888,
              "#fdca26"
             ],
             [
              1,
              "#f0f921"
             ]
            ],
            "type": "histogram2d"
           }
          ],
          "histogram2dcontour": [
           {
            "colorbar": {
             "outlinewidth": 0,
             "ticks": ""
            },
            "colorscale": [
             [
              0,
              "#0d0887"
             ],
             [
              0.1111111111111111,
              "#46039f"
             ],
             [
              0.2222222222222222,
              "#7201a8"
             ],
             [
              0.3333333333333333,
              "#9c179e"
             ],
             [
              0.4444444444444444,
              "#bd3786"
             ],
             [
              0.5555555555555556,
              "#d8576b"
             ],
             [
              0.6666666666666666,
              "#ed7953"
             ],
             [
              0.7777777777777778,
              "#fb9f3a"
             ],
             [
              0.8888888888888888,
              "#fdca26"
             ],
             [
              1,
              "#f0f921"
             ]
            ],
            "type": "histogram2dcontour"
           }
          ],
          "mesh3d": [
           {
            "colorbar": {
             "outlinewidth": 0,
             "ticks": ""
            },
            "type": "mesh3d"
           }
          ],
          "parcoords": [
           {
            "line": {
             "colorbar": {
              "outlinewidth": 0,
              "ticks": ""
             }
            },
            "type": "parcoords"
           }
          ],
          "pie": [
           {
            "automargin": true,
            "type": "pie"
           }
          ],
          "scatter": [
           {
            "fillpattern": {
             "fillmode": "overlay",
             "size": 10,
             "solidity": 0.2
            },
            "type": "scatter"
           }
          ],
          "scatter3d": [
           {
            "line": {
             "colorbar": {
              "outlinewidth": 0,
              "ticks": ""
             }
            },
            "marker": {
             "colorbar": {
              "outlinewidth": 0,
              "ticks": ""
             }
            },
            "type": "scatter3d"
           }
          ],
          "scattercarpet": [
           {
            "marker": {
             "colorbar": {
              "outlinewidth": 0,
              "ticks": ""
             }
            },
            "type": "scattercarpet"
           }
          ],
          "scattergeo": [
           {
            "marker": {
             "colorbar": {
              "outlinewidth": 0,
              "ticks": ""
             }
            },
            "type": "scattergeo"
           }
          ],
          "scattergl": [
           {
            "marker": {
             "colorbar": {
              "outlinewidth": 0,
              "ticks": ""
             }
            },
            "type": "scattergl"
           }
          ],
          "scattermapbox": [
           {
            "marker": {
             "colorbar": {
              "outlinewidth": 0,
              "ticks": ""
             }
            },
            "type": "scattermapbox"
           }
          ],
          "scatterpolar": [
           {
            "marker": {
             "colorbar": {
              "outlinewidth": 0,
              "ticks": ""
             }
            },
            "type": "scatterpolar"
           }
          ],
          "scatterpolargl": [
           {
            "marker": {
             "colorbar": {
              "outlinewidth": 0,
              "ticks": ""
             }
            },
            "type": "scatterpolargl"
           }
          ],
          "scatterternary": [
           {
            "marker": {
             "colorbar": {
              "outlinewidth": 0,
              "ticks": ""
             }
            },
            "type": "scatterternary"
           }
          ],
          "surface": [
           {
            "colorbar": {
             "outlinewidth": 0,
             "ticks": ""
            },
            "colorscale": [
             [
              0,
              "#0d0887"
             ],
             [
              0.1111111111111111,
              "#46039f"
             ],
             [
              0.2222222222222222,
              "#7201a8"
             ],
             [
              0.3333333333333333,
              "#9c179e"
             ],
             [
              0.4444444444444444,
              "#bd3786"
             ],
             [
              0.5555555555555556,
              "#d8576b"
             ],
             [
              0.6666666666666666,
              "#ed7953"
             ],
             [
              0.7777777777777778,
              "#fb9f3a"
             ],
             [
              0.8888888888888888,
              "#fdca26"
             ],
             [
              1,
              "#f0f921"
             ]
            ],
            "type": "surface"
           }
          ],
          "table": [
           {
            "cells": {
             "fill": {
              "color": "#EBF0F8"
             },
             "line": {
              "color": "white"
             }
            },
            "header": {
             "fill": {
              "color": "#C8D4E3"
             },
             "line": {
              "color": "white"
             }
            },
            "type": "table"
           }
          ]
         },
         "layout": {
          "annotationdefaults": {
           "arrowcolor": "#2a3f5f",
           "arrowhead": 0,
           "arrowwidth": 1
          },
          "autotypenumbers": "strict",
          "coloraxis": {
           "colorbar": {
            "outlinewidth": 0,
            "ticks": ""
           }
          },
          "colorscale": {
           "diverging": [
            [
             0,
             "#8e0152"
            ],
            [
             0.1,
             "#c51b7d"
            ],
            [
             0.2,
             "#de77ae"
            ],
            [
             0.3,
             "#f1b6da"
            ],
            [
             0.4,
             "#fde0ef"
            ],
            [
             0.5,
             "#f7f7f7"
            ],
            [
             0.6,
             "#e6f5d0"
            ],
            [
             0.7,
             "#b8e186"
            ],
            [
             0.8,
             "#7fbc41"
            ],
            [
             0.9,
             "#4d9221"
            ],
            [
             1,
             "#276419"
            ]
           ],
           "sequential": [
            [
             0,
             "#0d0887"
            ],
            [
             0.1111111111111111,
             "#46039f"
            ],
            [
             0.2222222222222222,
             "#7201a8"
            ],
            [
             0.3333333333333333,
             "#9c179e"
            ],
            [
             0.4444444444444444,
             "#bd3786"
            ],
            [
             0.5555555555555556,
             "#d8576b"
            ],
            [
             0.6666666666666666,
             "#ed7953"
            ],
            [
             0.7777777777777778,
             "#fb9f3a"
            ],
            [
             0.8888888888888888,
             "#fdca26"
            ],
            [
             1,
             "#f0f921"
            ]
           ],
           "sequentialminus": [
            [
             0,
             "#0d0887"
            ],
            [
             0.1111111111111111,
             "#46039f"
            ],
            [
             0.2222222222222222,
             "#7201a8"
            ],
            [
             0.3333333333333333,
             "#9c179e"
            ],
            [
             0.4444444444444444,
             "#bd3786"
            ],
            [
             0.5555555555555556,
             "#d8576b"
            ],
            [
             0.6666666666666666,
             "#ed7953"
            ],
            [
             0.7777777777777778,
             "#fb9f3a"
            ],
            [
             0.8888888888888888,
             "#fdca26"
            ],
            [
             1,
             "#f0f921"
            ]
           ]
          },
          "colorway": [
           "#636efa",
           "#EF553B",
           "#00cc96",
           "#ab63fa",
           "#FFA15A",
           "#19d3f3",
           "#FF6692",
           "#B6E880",
           "#FF97FF",
           "#FECB52"
          ],
          "font": {
           "color": "#2a3f5f"
          },
          "geo": {
           "bgcolor": "white",
           "lakecolor": "white",
           "landcolor": "#E5ECF6",
           "showlakes": true,
           "showland": true,
           "subunitcolor": "white"
          },
          "hoverlabel": {
           "align": "left"
          },
          "hovermode": "closest",
          "mapbox": {
           "style": "light"
          },
          "paper_bgcolor": "white",
          "plot_bgcolor": "#E5ECF6",
          "polar": {
           "angularaxis": {
            "gridcolor": "white",
            "linecolor": "white",
            "ticks": ""
           },
           "bgcolor": "#E5ECF6",
           "radialaxis": {
            "gridcolor": "white",
            "linecolor": "white",
            "ticks": ""
           }
          },
          "scene": {
           "xaxis": {
            "backgroundcolor": "#E5ECF6",
            "gridcolor": "white",
            "gridwidth": 2,
            "linecolor": "white",
            "showbackground": true,
            "ticks": "",
            "zerolinecolor": "white"
           },
           "yaxis": {
            "backgroundcolor": "#E5ECF6",
            "gridcolor": "white",
            "gridwidth": 2,
            "linecolor": "white",
            "showbackground": true,
            "ticks": "",
            "zerolinecolor": "white"
           },
           "zaxis": {
            "backgroundcolor": "#E5ECF6",
            "gridcolor": "white",
            "gridwidth": 2,
            "linecolor": "white",
            "showbackground": true,
            "ticks": "",
            "zerolinecolor": "white"
           }
          },
          "shapedefaults": {
           "line": {
            "color": "#2a3f5f"
           }
          },
          "ternary": {
           "aaxis": {
            "gridcolor": "white",
            "linecolor": "white",
            "ticks": ""
           },
           "baxis": {
            "gridcolor": "white",
            "linecolor": "white",
            "ticks": ""
           },
           "bgcolor": "#E5ECF6",
           "caxis": {
            "gridcolor": "white",
            "linecolor": "white",
            "ticks": ""
           }
          },
          "title": {
           "x": 0.05
          },
          "xaxis": {
           "automargin": true,
           "gridcolor": "white",
           "linecolor": "white",
           "ticks": "",
           "title": {
            "standoff": 15
           },
           "zerolinecolor": "white",
           "zerolinewidth": 2
          },
          "yaxis": {
           "automargin": true,
           "gridcolor": "white",
           "linecolor": "white",
           "ticks": "",
           "title": {
            "standoff": 15
           },
           "zerolinecolor": "white",
           "zerolinewidth": 2
          }
         }
        },
        "title": {
         "text": "BERTScore mean F1-Score comparison on the naming consensus using average similarity across all BLIP-2 results"
        },
        "width": 1200,
        "xaxis": {
         "tickmode": "array",
         "ticktext": [
          "0-20",
          "21-40",
          "41-60",
          "61-80",
          "81-100"
         ],
         "tickvals": [
          0,
          1,
          2,
          3,
          4
         ],
         "title": {
          "text": "Nameability score in %"
         }
        },
        "yaxis": {
         "title": {
          "text": "Mean F1-Score"
         },
         "type": "log"
        }
       }
      }
     },
     "metadata": {},
     "output_type": "display_data"
    }
   ],
   "source": [
    "num_bins = 5\n",
    "category_bins_nameability = pd.cut(data['nameability score'], bins=num_bins)\n",
    "\n",
    "data_plot = data.copy()\n",
    "\n",
    "data['category bin nameability'] = category_bins_nameability.astype(str)\n",
    "data['bertscore nameability name'] = f1_scores_name\n",
    "data['bertscore nameability caption'] = f1_scores_caption\n",
    "data['bertscore nameability real'] = f1_scores_real\n",
    "\n",
    "name_plot = data.groupby('category bin nameability')[\n",
    "    'bertscore nameability name'].mean()\n",
    "caption_plot = data.groupby('category bin nameability')[\n",
    "    'bertscore nameability caption'].mean()\n",
    "real_plot = data.groupby('category bin nameability')[\n",
    "    'bertscore nameability real'].mean()\n",
    "\n",
    "fig = go.Figure()\n",
    "# data=[go.Bar(x=bin_percentages.index.astype(str), y=bin_percentages)])\n",
    "fig.add_trace(go.Bar(x=caption_plot.index.astype(\n",
    "    str), y=caption_plot, name='Image caption task'))\n",
    "fig.add_trace(go.Bar(x=name_plot.index.astype(\n",
    "    str), y=name_plot, name='Name question VGA task'))\n",
    "fig.add_trace(go.Bar(x=real_plot.index.astype(\n",
    "    str), y=real_plot, name='Identity question VGA task'))\n",
    "\n",
    "\n",
    "fig.update_layout(width=1200, yaxis_type='log', title='BERTScore mean F1-Score comparison on the naming consensus using average similarity across all BLIP-2 results',\n",
    "                  xaxis_title='Bins', yaxis_title='Mean F1-Score', xaxis=dict(title='Nameability score in %', tickmode='array',\n",
    "                tickvals=[\n",
    "                0, 1, 2, 3, 4],\n",
    "                ticktext=['0-20', '21-40', '41-60', '61-80', '81-100']))\n",
    "fig.show()\n"
   ]
  },
  {
   "attachments": {},
   "cell_type": "markdown",
   "metadata": {},
   "source": [
    "### Pearson correlations"
   ]
  },
  {
   "cell_type": "code",
   "execution_count": 312,
   "metadata": {},
   "outputs": [
    {
     "name": "stdout",
     "output_type": "stream",
     "text": [
      "BLIP-2, greedy, caption familiarity bertscore f1-score\n",
      "BLIP-2, nucleus, top_p=0.1, caption familiarity bertscore f1-score\n",
      "BLIP-2, nucleus, top_p=0.5, caption familiarity bertscore f1-score\n",
      "BLIP-2, nucleus, top_p=0.9, caption familiarity bertscore f1-score\n",
      "BLIP-2, beam, num_beams=1, caption familiarity bertscore f1-score\n",
      "BLIP-2, beam, num_beams=5, caption familiarity bertscore f1-score\n",
      "BLIP-2, beam, num_beams=10, caption familiarity bertscore f1-score\n",
      "BLIP-2, greedy, name familiarity bertscore f1-score\n",
      "BLIP-2, nucleus, top_p=0.1, name familiarity bertscore f1-score\n",
      "BLIP-2, nucleus, top_p=0.5, name familiarity bertscore f1-score\n",
      "BLIP-2, nucleus, top_p=0.9, name familiarity bertscore f1-score\n",
      "BLIP-2, beam, num_beams=1, name familiarity bertscore f1-score\n",
      "BLIP-2, beam, num_beams=5, name familiarity bertscore f1-score\n",
      "BLIP-2, beam, num_beams=10, name familiarity bertscore f1-score\n",
      "BLIP-2, greedy, real familiarity bertscore f1-score\n",
      "BLIP-2, nucleus, top_p=0.1, real familiarity bertscore f1-score\n",
      "BLIP-2, nucleus, top_p=0.5, real familiarity bertscore f1-score\n",
      "BLIP-2, nucleus, top_p=0.9, real familiarity bertscore f1-score\n",
      "BLIP-2, beam, num_beams=1, real familiarity bertscore f1-score\n",
      "BLIP-2, beam, num_beams=5, real familiarity bertscore f1-score\n",
      "BLIP-2, beam, num_beams=10, real familiarity bertscore f1-score\n"
     ]
    }
   ],
   "source": [
    "for i in familiarity_data.columns:\n",
    "    if 'f1-score'in i:\n",
    "        print(i)"
   ]
  },
  {
   "cell_type": "code",
   "execution_count": 262,
   "metadata": {},
   "outputs": [
    {
     "name": "stderr",
     "output_type": "stream",
     "text": [
      "c:\\Users\\Juell\\AppData\\Local\\Programs\\Python\\Python39\\lib\\site-packages\\scipy\\stats\\stats.py:4023: PearsonRConstantInputWarning:\n",
      "\n",
      "An input array is constant; the correlation coefficient is not defined.\n",
      "\n"
     ]
    }
   ],
   "source": [
    "data_to_corr = ['color saliency', 'texture saliency', 'nameability score', 'familiarity score']\n",
    "correlations = {}\n",
    "\n",
    "for column in data_to_corr: \n",
    "    for item in data.columns:\n",
    "        if column == 'color saliency' and column != item and 'bin' not in item and 'max_new_tokens' not in item and ' bool ' not in item:\n",
    "            if 'color' in item:\n",
    "                correlations[item] = pearsonr(list(data['color saliency']), list(data[item]))\n",
    "        if column == 'texture saliency' and column != item and 'bin' not in item and 'max_new_tokens' not in item and ' bool ' not in item:\n",
    "            if 'texture' in item:\n",
    "                correlations[item] = pearsonr(list(data['texture saliency']), list(data[item]))\n",
    "        if column == 'familiarity score' and column != item and 'bin' not in item and 'max_new_tokens' not in item:\n",
    "            if 'bool count' in item:\n",
    "                correlations[item] = pearsonr(list(data_plot['familiarity score']), list(data[item]))\n"
   ]
  },
  {
   "cell_type": "code",
   "execution_count": 314,
   "metadata": {},
   "outputs": [],
   "source": [
    "correlations_bert = {}\n",
    "\n",
    "for item in familiarity_data.columns:\n",
    "    if 'f1-score' in item:\n",
    "        correlations_bert[item] = pearsonr(list(data['familiarity score']), list(familiarity_data[item]))\n",
    "    "
   ]
  },
  {
   "cell_type": "code",
   "execution_count": 320,
   "metadata": {},
   "outputs": [
    {
     "name": "stdout",
     "output_type": "stream",
     "text": [
      "bertscore nameability name\n",
      "bertscore nameability caption\n",
      "bertscore nameability real\n"
     ]
    }
   ],
   "source": [
    "for item in data.columns:\n",
    "    if 'bertscore nameability' in item:\n",
    "        print(item)\n",
    "        correlations_bert[item] = pearsonr(list(data['nameability score']), list(data[item]))"
   ]
  },
  {
   "cell_type": "code",
   "execution_count": 321,
   "metadata": {},
   "outputs": [
    {
     "name": "stdout",
     "output_type": "stream",
     "text": [
      "('bertscore nameability name', (-0.22281477704476227, 0.07677590841321423))\n",
      "('bertscore nameability caption', (0.13589126356983774, 0.2843134612053774))\n",
      "('bertscore nameability real', (0.15066341915206574, 0.23469581042950904))\n"
     ]
    }
   ],
   "source": [
    "for i in correlations_bert.items():\n",
    "    if 'bertscore nameability' in i[0]:\n",
    "        print(i)"
   ]
  },
  {
   "cell_type": "code",
   "execution_count": 258,
   "metadata": {},
   "outputs": [
    {
     "data": {
      "text/plain": [
       "dict_keys(['color, greedy, caption to boolean', 'color, greedy, name to boolean', 'color, greedy, real to boolean', 'color, nucleus, top_p=0.1, caption to boolean', 'color, nucleus, top_p=0.1, name to boolean', 'color, nucleus, top_p=0.1, real to boolean', 'color, nucleus, top_p=0.5, caption to boolean', 'color, nucleus, top_p=0.5, name to boolean', 'color, nucleus, top_p=0.5, real to boolean', 'color, nucleus, top_p=0.9, caption to boolean', 'color, nucleus, top_p=0.9, name to boolean', 'color, nucleus, top_p=0.9, real to boolean', 'color, beam, num_beams=1, caption to boolean', 'color, beam, num_beams=1, name to boolean', 'color, beam, num_beams=1, real to boolean', 'color, beam, num_beams=5, caption to boolean', 'color, beam, num_beams=5, name to boolean', 'color, beam, num_beams=5, real to boolean', 'color, beam, num_beams=10, caption to boolean', 'color, beam, num_beams=10, name to boolean', 'color, beam, num_beams=10, real to boolean', 'texture, greedy, caption to boolean', 'texture, greedy, name to boolean', 'texture, greedy, real to boolean', 'texture, nucleus, top_p=0.1, caption to boolean', 'texture, nucleus, top_p=0.1, name to boolean', 'texture, nucleus, top_p=0.1, real to boolean', 'texture, nucleus, top_p=0.5, caption to boolean', 'texture, nucleus, top_p=0.5, name to boolean', 'texture, nucleus, top_p=0.5, real to boolean', 'texture, nucleus, top_p=0.9, caption to boolean', 'texture, nucleus, top_p=0.9, name to boolean', 'texture, nucleus, top_p=0.9, real to boolean', 'texture, beam, num_beams=1, caption to boolean', 'texture, beam, num_beams=1, name to boolean', 'texture, beam, num_beams=1, real to boolean', 'texture, beam, num_beams=5, caption to boolean', 'texture, beam, num_beams=5, name to boolean', 'texture, beam, num_beams=5, real to boolean', 'texture, beam, num_beams=10, caption to boolean', 'texture, beam, num_beams=10, name to boolean', 'texture, beam, num_beams=10, real to boolean', 'greedy bool count', 'nucleus top_p=0.1 bool count', 'nucleus top_p=0.5 bool count', 'nucleus top_p=0.9 bool count', 'beam num_beams=1 bool count', 'beam num_beams=5 bool count', 'beam num_beams=10 bool count'])"
      ]
     },
     "execution_count": 258,
     "metadata": {},
     "output_type": "execute_result"
    }
   ],
   "source": [
    "input_types = ['caption', 'name']\n",
    "figs = []\n",
    "\n",
    "nameability_data = data.copy()\n",
    "\n",
    "num_bins = 5\n",
    "category_bins_nameability = pd.cut(familiarity_data['nameability score'], bins=num_bins)\n",
    "familiarity_data['category bin nameability'] = category_bins_nameability.astype(str)\n",
    "\n",
    "for input in input_types:\n",
    "    fig = go.Figure()\n",
    "    for column in familiarity_scores.keys():\n",
    "        if input in column:\n",
    "            \n",
    "            familiarity_data['plot_column'] = familiarity_scores[column][-1]\n",
    "            \n",
    "            f1_plot_data = familiarity_data.groupby('category bin familiarity')['plot_column'].mean().reset_index()\n",
    "\n",
    "            \n",
    "            new_name = re.sub(r', {} familiarity bertscore'.format(input), '', re.sub('BLIP-2+\\s', '', column))\n",
    "            bar_trace = go.Bar(\n",
    "                            x=f1_plot_data['category bin familiarity'],\n",
    "                            y=f1_plot_data['plot_column'],\n",
    "                            name=f'{new_name}',\n",
    "                        )\n",
    "            fig.add_trace(bar_trace)\n",
    "            \n",
    "            print(f\"{column} Precision mean is \", np.mean(np.array(familiarity_scores[column][0])))\n",
    "            print(f\"{column} Precision median is \", np.mean(np.array(familiarity_scores[column][0])))\n",
    "            print(f\"{column} Precision std is \", np.std(np.array(familiarity_scores[column][0])))\n",
    "            \n",
    "            print(f\"{column} Recall mean is \", np.mean(np.array(familiarity_scores[column][1])))\n",
    "            print(f\"{column} Recall median is \", np.mean(np.array(familiarity_scores[column][1])))\n",
    "            print(f\"{column} Recall std is \", np.std(np.array(familiarity_scores[column][1])))\n",
    "            \n",
    "            print(f\"{column} F1-score mean is \", np.mean(np.array(familiarity_scores[column][2])))\n",
    "            print(f\"{column} F1-score median is \", np.mean(np.array(familiarity_scores[column][2])))\n",
    "            print(f\"{column} F1-score std is \", np.std(np.array(familiarity_scores[column][2])))\n",
    "            print(f\"=========================== END OF {column} ==============================\")\n",
    "            \n",
    "    fig.update_layout(\n",
    "    width=1000,\n",
    "    yaxis_type='log',\n",
    "    title=f' term usage rate per saliency bin for BLIP-2, {input}',\n",
    "    xaxis=dict(title='Texture saliency in %', tickmode = 'array',\n",
    "            tickvals = [0, 1, 2, 3, 4],\n",
    "        ticktext = ['0-20', '21-40', '41-60', '61-80', '81-100']),\n",
    "    yaxis=dict(title=f'Rate of using  terms'),\n",
    "            barmode='group')\n",
    "        \n",
    "    fig.show()\n",
    "\n"
   ]
  }
 ],
 "metadata": {
  "kernelspec": {
   "display_name": "Python 3",
   "language": "python",
   "name": "python3"
  },
  "language_info": {
   "codemirror_mode": {
    "name": "ipython",
    "version": 3
   },
   "file_extension": ".py",
   "mimetype": "text/x-python",
   "name": "python",
   "nbconvert_exporter": "python",
   "pygments_lexer": "ipython3",
   "version": "3.9.1"
  }
 },
 "nbformat": 4,
 "nbformat_minor": 2
}
