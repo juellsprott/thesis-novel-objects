{
 "cells": [
  {
   "attachments": {},
   "cell_type": "markdown",
   "metadata": {},
   "source": [
    "### NOUN Dataset + BLIP-2 Multimodal Model Pipeline\n",
    "#### This notebook contains the pipeline for loading the BLIP2 Opt-2.7b model and running inference on the NOUN Dataset\n",
    "\n",
    "Note that for this pipeline it is recommended to use a GPU with sufficient RAM."
   ]
  },
  {
   "attachments": {},
   "cell_type": "markdown",
   "metadata": {},
   "source": [
    "##### Imports\n",
    "Import modules, requires the installation of bitsandbytes and accelerate"
   ]
  },
  {
   "cell_type": "code",
   "execution_count": null,
   "metadata": {},
   "outputs": [],
   "source": [
    "# %pip install bitsandbytes accelerate Pillow git+https://github.com/huggingface/transformers tqdm"
   ]
  },
  {
   "cell_type": "code",
   "execution_count": 3,
   "metadata": {},
   "outputs": [
    {
     "name": "stdout",
     "output_type": "stream",
     "text": [
      "Collecting bert-score\n",
      "  Using cached bert_score-0.3.13-py3-none-any.whl (61 kB)\n",
      "Requirement already satisfied: torch>=1.0.0 in ./noun2-env/lib/python3.10/site-packages (from bert-score) (2.0.1+cu117)\n",
      "Requirement already satisfied: pandas>=1.0.1 in ./noun2-env/lib/python3.10/site-packages (from bert-score) (2.0.1)\n",
      "Requirement already satisfied: transformers>=3.0.0 in ./noun2-env/lib/python3.10/site-packages (from bert-score) (4.30.0.dev0)\n",
      "Requirement already satisfied: numpy in ./noun2-env/lib/python3.10/site-packages (from bert-score) (1.24.1)\n",
      "Requirement already satisfied: requests in ./noun2-env/lib/python3.10/site-packages (from bert-score) (2.28.1)\n",
      "Requirement already satisfied: tqdm>=4.31.1 in ./noun2-env/lib/python3.10/site-packages (from bert-score) (4.65.0)\n",
      "Collecting matplotlib (from bert-score)\n",
      "  Using cached matplotlib-3.7.1-cp310-cp310-manylinux_2_17_x86_64.manylinux2014_x86_64.whl (11.6 MB)\n",
      "Requirement already satisfied: packaging>=20.9 in ./noun2-env/lib/python3.10/site-packages (from bert-score) (23.1)\n",
      "Requirement already satisfied: python-dateutil>=2.8.2 in ./noun2-env/lib/python3.10/site-packages (from pandas>=1.0.1->bert-score) (2.8.2)\n",
      "Requirement already satisfied: pytz>=2020.1 in ./noun2-env/lib/python3.10/site-packages (from pandas>=1.0.1->bert-score) (2023.3)\n",
      "Requirement already satisfied: tzdata>=2022.1 in ./noun2-env/lib/python3.10/site-packages (from pandas>=1.0.1->bert-score) (2023.3)\n",
      "Requirement already satisfied: filelock in ./noun2-env/lib/python3.10/site-packages (from torch>=1.0.0->bert-score) (3.9.0)\n",
      "Requirement already satisfied: typing-extensions in ./noun2-env/lib/python3.10/site-packages (from torch>=1.0.0->bert-score) (4.4.0)\n",
      "Requirement already satisfied: sympy in ./noun2-env/lib/python3.10/site-packages (from torch>=1.0.0->bert-score) (1.11.1)\n",
      "Requirement already satisfied: networkx in ./noun2-env/lib/python3.10/site-packages (from torch>=1.0.0->bert-score) (3.0)\n",
      "Requirement already satisfied: jinja2 in ./noun2-env/lib/python3.10/site-packages (from torch>=1.0.0->bert-score) (3.1.2)\n",
      "Requirement already satisfied: triton==2.0.0 in ./noun2-env/lib/python3.10/site-packages (from torch>=1.0.0->bert-score) (2.0.0)\n",
      "Requirement already satisfied: cmake in ./noun2-env/lib/python3.10/site-packages (from triton==2.0.0->torch>=1.0.0->bert-score) (3.25.0)\n",
      "Requirement already satisfied: lit in ./noun2-env/lib/python3.10/site-packages (from triton==2.0.0->torch>=1.0.0->bert-score) (15.0.7)\n",
      "Requirement already satisfied: huggingface-hub<1.0,>=0.14.1 in ./noun2-env/lib/python3.10/site-packages (from transformers>=3.0.0->bert-score) (0.14.1)\n",
      "Requirement already satisfied: pyyaml>=5.1 in ./noun2-env/lib/python3.10/site-packages (from transformers>=3.0.0->bert-score) (6.0)\n",
      "Requirement already satisfied: regex!=2019.12.17 in ./noun2-env/lib/python3.10/site-packages (from transformers>=3.0.0->bert-score) (2023.5.5)\n",
      "Requirement already satisfied: tokenizers!=0.11.3,<0.14,>=0.11.1 in ./noun2-env/lib/python3.10/site-packages (from transformers>=3.0.0->bert-score) (0.13.3)\n",
      "Collecting contourpy>=1.0.1 (from matplotlib->bert-score)\n",
      "  Using cached contourpy-1.1.0-cp310-cp310-manylinux_2_17_x86_64.manylinux2014_x86_64.whl (300 kB)\n",
      "Collecting cycler>=0.10 (from matplotlib->bert-score)\n",
      "  Using cached cycler-0.11.0-py3-none-any.whl (6.4 kB)\n",
      "Collecting fonttools>=4.22.0 (from matplotlib->bert-score)\n",
      "  Using cached fonttools-4.40.0-cp310-cp310-manylinux_2_17_x86_64.manylinux2014_x86_64.whl (4.2 MB)\n",
      "Collecting kiwisolver>=1.0.1 (from matplotlib->bert-score)\n",
      "  Using cached kiwisolver-1.4.4-cp310-cp310-manylinux_2_12_x86_64.manylinux2010_x86_64.whl (1.6 MB)\n",
      "Requirement already satisfied: pillow>=6.2.0 in ./noun2-env/lib/python3.10/site-packages (from matplotlib->bert-score) (9.3.0)\n",
      "Collecting pyparsing>=2.3.1 (from matplotlib->bert-score)\n",
      "  Downloading pyparsing-3.1.0-py3-none-any.whl (102 kB)\n",
      "\u001b[2K     \u001b[90m━━━━━━━━━━━━━━━━━━━━━━━━━━━━━━━━━━━━━━\u001b[0m \u001b[32m102.6/102.6 kB\u001b[0m \u001b[31m25.3 MB/s\u001b[0m eta \u001b[36m0:00:00\u001b[0m\n",
      "\u001b[?25hRequirement already satisfied: charset-normalizer<3,>=2 in ./noun2-env/lib/python3.10/site-packages (from requests->bert-score) (2.1.1)\n",
      "Requirement already satisfied: idna<4,>=2.5 in ./noun2-env/lib/python3.10/site-packages (from requests->bert-score) (3.4)\n",
      "Requirement already satisfied: urllib3<1.27,>=1.21.1 in ./noun2-env/lib/python3.10/site-packages (from requests->bert-score) (1.26.13)\n",
      "Requirement already satisfied: certifi>=2017.4.17 in ./noun2-env/lib/python3.10/site-packages (from requests->bert-score) (2022.12.7)\n",
      "Requirement already satisfied: fsspec in ./noun2-env/lib/python3.10/site-packages (from huggingface-hub<1.0,>=0.14.1->transformers>=3.0.0->bert-score) (2023.5.0)\n",
      "Requirement already satisfied: six>=1.5 in ./noun2-env/lib/python3.10/site-packages (from python-dateutil>=2.8.2->pandas>=1.0.1->bert-score) (1.16.0)\n",
      "Requirement already satisfied: MarkupSafe>=2.0 in ./noun2-env/lib/python3.10/site-packages (from jinja2->torch>=1.0.0->bert-score) (2.1.2)\n",
      "Requirement already satisfied: mpmath>=0.19 in ./noun2-env/lib/python3.10/site-packages (from sympy->torch>=1.0.0->bert-score) (1.2.1)\n",
      "Installing collected packages: pyparsing, kiwisolver, fonttools, cycler, contourpy, matplotlib, bert-score\n",
      "Successfully installed bert-score-0.3.13 contourpy-1.1.0 cycler-0.11.0 fonttools-4.40.0 kiwisolver-1.4.4 matplotlib-3.7.1 pyparsing-3.1.0\n",
      "Note: you may need to restart the kernel to use updated packages.\n"
     ]
    }
   ],
   "source": [
    "%pip install bert-score"
   ]
  },
  {
   "cell_type": "code",
   "execution_count": 45,
   "metadata": {},
   "outputs": [],
   "source": [
    "import csv\n",
    "from PIL import Image\n",
    "from transformers import AutoProcessor, Blip2ForConditionalGeneration\n",
    "import torch\n",
    "from tqdm import tqdm\n",
    "from scipy.stats import pearsonr\n",
    "\n",
    "import re\n",
    "import pandas as pd\n",
    "\n",
    "import plotly.graph_objects as go\n",
    "import plotly.express as px\n",
    "import numpy as np\n",
    "import json\n",
    "\n",
    "from PIL import Image\n",
    "from IPython.display import HTML\n",
    "from html_formatter import get_thumbnail, image_formatter\n",
    "from evaluate import check_colors_and_textures, colors_to_boolean, textures_to_boolean"
   ]
  },
  {
   "attachments": {},
   "cell_type": "markdown",
   "metadata": {},
   "source": [
    "##### Load model\n",
    "uses bitsandbytes to allow int8 quanitization for greatly reduced memory usage, allowing the model to be run on Google Colab."
   ]
  },
  {
   "cell_type": "code",
   "execution_count": 2,
   "metadata": {},
   "outputs": [
    {
     "name": "stderr",
     "output_type": "stream",
     "text": [
      "Overriding torch_dtype=None with `torch_dtype=torch.float16` due to requirements of `bitsandbytes` to enable model loading in mixed int8. Either pass torch_dtype=torch.float16 or don't pass this argument at all to remove this warning.\n"
     ]
    },
    {
     "name": "stdout",
     "output_type": "stream",
     "text": [
      "\n",
      "===================================BUG REPORT===================================\n",
      "Welcome to bitsandbytes. For bug reports, please run\n",
      "\n",
      "python -m bitsandbytes\n",
      "\n",
      " and submit this information together with your error trace to: https://github.com/TimDettmers/bitsandbytes/issues\n",
      "================================================================================\n",
      "bin /gpfs/home5/jsprott/thesis-novel-objects/noun2-env/lib/python3.10/site-packages/bitsandbytes/libbitsandbytes_cuda117.so\n",
      "CUDA SETUP: CUDA runtime path found: /sw/arch/RHEL8/EB_production/2022/software/CUDA/11.7.0/lib/libcudart.so.11.0\n",
      "CUDA SETUP: Highest compute capability among GPUs detected: 8.0\n",
      "CUDA SETUP: Detected CUDA version 117\n",
      "CUDA SETUP: Loading binary /gpfs/home5/jsprott/thesis-novel-objects/noun2-env/lib/python3.10/site-packages/bitsandbytes/libbitsandbytes_cuda117.so...\n"
     ]
    },
    {
     "data": {
      "application/vnd.jupyter.widget-view+json": {
       "model_id": "48440f8df0cc4827974402edde93f97b",
       "version_major": 2,
       "version_minor": 0
      },
      "text/plain": [
       "Loading checkpoint shards:   0%|          | 0/2 [00:00<?, ?it/s]"
      ]
     },
     "metadata": {},
     "output_type": "display_data"
    }
   ],
   "source": [
    "# load processor\n",
    "processor = AutoProcessor.from_pretrained(\"Salesforce/blip2-opt-2.7b\")\n",
    "\n",
    "# load in float16 # load in int8\n",
    "model = Blip2ForConditionalGeneration.from_pretrained(\"Salesforce/blip2-opt-2.7b\",\n",
    "                                                      load_in_8bit=True, device_map=\"auto\")\n",
    "# setup device\n",
    "DEVICE = \"cuda\" if torch.cuda.is_available() else \"cpu\""
   ]
  },
  {
   "attachments": {},
   "cell_type": "markdown",
   "metadata": {},
   "source": [
    "##### Perform inference on NOUN Dataset\n",
    "Currently uses default hyperparameters"
   ]
  },
  {
   "cell_type": "code",
   "execution_count": null,
   "metadata": {},
   "outputs": [],
   "source": [
    "import pandas as pd\n",
    "from tqdm import tqdm\n",
    "from evaluate import check_colors_and_textures\n",
    "\n",
    "# Define path to input and output files\n",
    "input_file = 'data/datasets/dataset_full.csv'\n",
    "output_file = 'data/datasets/dataset_final_inference.csv'\n",
    "extra_file = 'data/datasets/dataset_bonus_inference.csv'\n",
    "\n",
    "# Define question templates\n",
    "questions = [\n",
    "    \"Q: Only answer with yes or no, do you recognize this object? \\n A:\",\n",
    "    \"Q: what do you call the object in this image? \\n A:\",\n",
    "    \"Q: What do you really think this is? \\n A:\"\n",
    "]\n",
    "\n",
    "# Load data from input file into a pandas DataFrame\n",
    "data = pd.read_csv(input_file)\n",
    "\n",
    "tqdm.pandas()\n",
    "\n",
    "# Define function to generate text using the model\n",
    "def generate_text(row, decode='greedy', token_length=20, beams=5, top_p=0.9):\n",
    "    raw_image = Image.open(row[0].replace(\"\\\\\", \"/\")).convert(\"RGB\")\n",
    "    inputs = [processor(raw_image, return_tensors=\"pt\").to(DEVICE, torch.float16)] + [processor(raw_image, text=q, return_tensors=\"pt\").to(DEVICE, torch.float16) for q in questions]\n",
    "\n",
    "    if decode == 'greedy':\n",
    "        generated_ids = [model.generate(**input_, max_new_tokens=token_length) for input_ in inputs]\n",
    "    elif decode == 'nucleus':\n",
    "        generated_ids = [model.generate(**input_, do_sample=True, top_p=top_p, max_new_tokens=token_length) for input_ in inputs]\n",
    "    elif decode == 'beam':\n",
    "        generated_ids = [model.generate(**input_, num_beams=beams, max_new_tokens=token_length, repetition_penalty=1.0, length_penalty=1.0, temperature=1) for input_ in inputs]\n",
    "\n",
    "    generated_texts = [processor.batch_decode(generated_id, skip_special_tokens=True)[0].strip() for generated_id in generated_ids]\n",
    "    matches = [check_colors_and_textures(text) for text in generated_texts]\n",
    "\n",
    "    return generated_texts + matches\n",
    "\n",
    "# Apply the generate_text function to each row in the DataFrame\n",
    "decode_methods = ['greedy', 'nucleus', 'beam']\n",
    "columns = ['caption', 'bool', 'name', 'real', 'caption saliency', 'bool saliency', 'color saliency', 'real saliency']\n",
    "\n",
    "for method in decode_methods:\n",
    "    generated_cols = [f'BLIP-2, {method}, {column}' for column in columns]\n",
    "    generated_data = data.progress_apply(lambda row: generate_text(row, decode=method), axis=1)\n",
    "    data[generated_cols] = pd.DataFrame(np.array(generated_data).T.tolist(), columns=generated_cols)\n",
    "\n",
    "\n",
    "display(data)\n",
    "\n",
    "# Write updated data to output file\n",
    "data.to_csv(output_file, index=False)"
   ]
  },
  {
   "attachments": {},
   "cell_type": "markdown",
   "metadata": {},
   "source": [
    "#### Ablative study: token lenght for greedy"
   ]
  },
  {
   "cell_type": "code",
   "execution_count": 97,
   "metadata": {},
   "outputs": [
    {
     "name": "stderr",
     "output_type": "stream",
     "text": [
      "100%|██████████| 64/64 [03:43<00:00,  3.49s/it]\n",
      "100%|██████████| 64/64 [05:07<00:00,  4.80s/it]\n",
      "100%|██████████| 64/64 [05:20<00:00,  5.01s/it]\n"
     ]
    }
   ],
   "source": [
    "method = 'greedy'\n",
    "params = [5, 10, 20]\n",
    "columns = ['caption', 'bool', 'name', 'real', 'caption saliency', 'bool saliency', 'color saliency', 'real saliency']\n",
    "\n",
    "for param in params:\n",
    "    generated_cols = [f'BLIP-2, {method}, max_new_tokens={param}, {column}' for column in columns]\n",
    "    generated_data = data.progress_apply(lambda row: generate_text(row, decode=method, token_length=param), axis=1)\n",
    "    data[generated_cols] = pd.DataFrame(np.array(generated_data).T.tolist(), columns=generated_cols)"
   ]
  },
  {
   "attachments": {},
   "cell_type": "markdown",
   "metadata": {},
   "source": [
    "#### Ablative study: top_p for nucleus sampling"
   ]
  },
  {
   "cell_type": "code",
   "execution_count": 98,
   "metadata": {},
   "outputs": [
    {
     "name": "stderr",
     "output_type": "stream",
     "text": [
      "100%|██████████| 64/64 [05:20<00:00,  5.01s/it]\n",
      "100%|██████████| 64/64 [05:21<00:00,  5.03s/it]\n",
      "100%|██████████| 64/64 [06:32<00:00,  6.14s/it]\n"
     ]
    }
   ],
   "source": [
    "method = 'nucleus'\n",
    "params = [0.1, 0.5, 0.9]\n",
    "columns = ['caption', 'bool', 'name', 'real', 'caption saliency', 'bool saliency', 'color saliency', 'real saliency']\n",
    "\n",
    "for param in params:\n",
    "    generated_cols = [f'BLIP-2, {method}, top_p={param}, {column}' for column in columns]\n",
    "    generated_data = data.progress_apply(lambda row: generate_text(row, decode=method, top_p=param), axis=1)\n",
    "    data[generated_cols] = pd.DataFrame(np.array(generated_data).T.tolist(), columns=generated_cols)"
   ]
  },
  {
   "attachments": {},
   "cell_type": "markdown",
   "metadata": {},
   "source": [
    "#### Ablative study: num_beams for beam search"
   ]
  },
  {
   "cell_type": "code",
   "execution_count": 100,
   "metadata": {},
   "outputs": [
    {
     "name": "stderr",
     "output_type": "stream",
     "text": [
      "100%|██████████| 64/64 [05:16<00:00,  4.94s/it]\n",
      "100%|██████████| 64/64 [10:43<00:00, 10.05s/it]\n",
      "100%|██████████| 64/64 [11:39<00:00, 10.93s/it]\n"
     ]
    }
   ],
   "source": [
    "method = 'beam'\n",
    "params = [1, 5, 10]\n",
    "columns = ['caption', 'bool', 'name', 'real', 'caption saliency', 'bool saliency', 'color saliency', 'real saliency']\n",
    "\n",
    "for param in params:\n",
    "    generated_cols = [f'BLIP-2, {method}, num_beams={param}, {column}' for column in columns]\n",
    "    generated_data = data.progress_apply(lambda row: generate_text(row, decode=method, beams=param), axis=1)\n",
    "    data[generated_cols] = pd.DataFrame(np.array(generated_data).T.tolist(), columns=generated_cols)"
   ]
  },
  {
   "cell_type": "code",
   "execution_count": 104,
   "metadata": {},
   "outputs": [],
   "source": [
    "data.to_csv(extra_file, index=False)"
   ]
  },
  {
   "attachments": {},
   "cell_type": "markdown",
   "metadata": {},
   "source": [
    "#### Display data"
   ]
  },
  {
   "attachments": {},
   "cell_type": "markdown",
   "metadata": {},
   "source": [
    "##### Reformat color extraction and add image objects for html display"
   ]
  },
  {
   "cell_type": "code",
   "execution_count": 2,
   "metadata": {},
   "outputs": [],
   "source": [
    "data = pd.read_csv('data/datasets/dataset_bonus_inference.csv')"
   ]
  },
  {
   "cell_type": "code",
   "execution_count": 3,
   "metadata": {},
   "outputs": [],
   "source": [
    "columns = list(data.columns)\n",
    "columns.remove('color saliency')\n",
    "columns.remove('texture saliency')\n",
    "string_to_match = 'saliency'\n",
    "\n",
    "for column in columns:\n",
    "    if string_to_match in column:\n",
    "        data[column] = data[column].apply(lambda x: re.sub(r'[^\\w]', ' ', x))\n",
    "\n",
    "        column_color = re.sub(r'\\s+saliency', ' to boolean', re.sub(r'BLIP-2', 'color', column))\n",
    "        column_texture = re.sub(r'\\s+saliency', ' to boolean', re.sub(r'BLIP-2', 'texture', column))\n",
    "\n",
    "        data[column_color] = data[column].apply(lambda x: colors_to_boolean(x))\n",
    "        data[column_texture] = data[column].apply(lambda x: textures_to_boolean(x))\n"
   ]
  },
  {
   "cell_type": "code",
   "execution_count": null,
   "metadata": {},
   "outputs": [],
   "source": [
    "display(data)"
   ]
  },
  {
   "cell_type": "code",
   "execution_count": 51,
   "metadata": {},
   "outputs": [
    {
     "name": "stderr",
     "output_type": "stream",
     "text": [
      "/scratch-local/jsprott.2829221/ipykernel_4099205/257187248.py:13: DeprecationWarning:\n",
      "\n",
      "LANCZOS is deprecated and will be removed in Pillow 10 (2023-07-01). Use Resampling.LANCZOS instead.\n",
      "\n"
     ]
    }
   ],
   "source": [
    "#data.rename(columns={'image_path': 'image'}, inplace=True)\n",
    "#data['image'] = data.image.map(lambda f: get_thumbnail(f))"
   ]
  },
  {
   "attachments": {},
   "cell_type": "markdown",
   "metadata": {},
   "source": [
    "Export data"
   ]
  },
  {
   "cell_type": "code",
   "execution_count": 71,
   "metadata": {},
   "outputs": [],
   "source": [
    "html_content = data.to_html(formatters={'image': image_formatter}, escape=False)\n",
    "\n",
    "with open('data/datasets/sorted_results.html', 'w') as file:\n",
    "    file.write(html_content)\n",
    "    \n",
    "output_file = 'data/datasets/dataset_with_bert.csv'\n",
    "data.to_csv(output_file, index=False)"
   ]
  },
  {
   "attachments": {},
   "cell_type": "markdown",
   "metadata": {},
   "source": [
    "## Evaluation"
   ]
  },
  {
   "attachments": {},
   "cell_type": "markdown",
   "metadata": {},
   "source": [
    "Check whether model uses color or texture terms"
   ]
  },
  {
   "cell_type": "code",
   "execution_count": null,
   "metadata": {},
   "outputs": [],
   "source": [
    "get_token_count = lambda text: len(text.split())\n",
    "\n",
    "data['length greedy'] = data['BLIP-2, greedy, caption'].apply(get_token_count)\n",
    "data['length nucleus'] = data['BLIP-2, nucleus, caption'].apply(get_token_count)\n",
    "data['length beam'] = data['BLIP-2, beam, caption'].apply(get_token_count)"
   ]
  },
  {
   "cell_type": "code",
   "execution_count": 26,
   "metadata": {},
   "outputs": [
    {
     "data": {
      "text/plain": [
       "Index(['image_path', 'number label', 'actual name', 'familiarity score',\n",
       "       'nameability score', 'color saliency', 'texture saliency',\n",
       "       'BLIP-2, greedy, caption', 'BLIP-2, greedy, bool',\n",
       "       'BLIP-2, greedy, name',\n",
       "       ...\n",
       "       'color, beam, num_beams=5, real to boolean',\n",
       "       'texture, beam, num_beams=5, real to boolean',\n",
       "       'color, beam, num_beams=10, caption to boolean',\n",
       "       'texture, beam, num_beams=10, caption to boolean',\n",
       "       'color, beam, num_beams=10, bool to boolean',\n",
       "       'texture, beam, num_beams=10, bool to boolean',\n",
       "       'color, beam, num_beams=10, name to boolean',\n",
       "       'texture, beam, num_beams=10, name to boolean',\n",
       "       'color, beam, num_beams=10, real to boolean',\n",
       "       'texture, beam, num_beams=10, real to boolean'],\n",
       "      dtype='object', length=199)"
      ]
     },
     "execution_count": 26,
     "metadata": {},
     "output_type": "execute_result"
    }
   ],
   "source": [
    "data.columns"
   ]
  },
  {
   "cell_type": "code",
   "execution_count": 25,
   "metadata": {},
   "outputs": [
    {
     "data": {
      "application/vnd.plotly.v1+json": {
       "config": {
        "plotlyServerURL": "https://plot.ly"
       },
       "data": [
        {
         "hovertemplate": "familiarity score=%{x}<br>nameability score=%{y}<br>color saliency=%{marker.size}<br>texture saliency=%{marker.color}<extra></extra>",
         "legendgroup": "",
         "marker": {
          "color": [
           14,
           9,
           0,
           52,
           13,
           3,
           6,
           16,
           45,
           25,
           3,
           41,
           6,
           0,
           10,
           6,
           13,
           6,
           25,
           6,
           3,
           13,
           17,
           3,
           13,
           17,
           9,
           63,
           16,
           0,
           26,
           3,
           3,
           26,
           13,
           20,
           3,
           6,
           13,
           16,
           20,
           3,
           6,
           6,
           55,
           3,
           3,
           6,
           10,
           0,
           9,
           7,
           6,
           48,
           13,
           13,
           3,
           3,
           0,
           29,
           13,
           42,
           19,
           3
          ],
          "coloraxis": "coloraxis",
          "size": [
           66,
           59,
           19,
           48,
           81,
           31,
           78,
           48,
           65,
           50,
           88,
           59,
           87,
           39,
           55,
           61,
           23,
           61,
           38,
           29,
           84,
           70,
           87,
           41,
           58,
           63,
           47,
           53,
           65,
           53,
           35,
           50,
           55,
           45,
           47,
           20,
           37,
           26,
           61,
           63,
           23,
           81,
           65,
           94,
           3,
           42,
           50,
           55,
           39,
           45,
           47,
           63,
           45,
           38,
           53,
           61,
           35,
           58,
           28,
           55,
           59,
           29,
           13,
           45
          ],
          "sizemode": "area",
          "sizeref": 0.235,
          "symbol": "circle"
         },
         "mode": "markers",
         "name": "",
         "orientation": "v",
         "showlegend": false,
         "type": "scatter",
         "x": [
          19,
          22,
          59,
          41,
          6,
          34,
          22,
          34,
          47,
          66,
          22,
          41,
          6,
          38,
          38,
          28,
          41,
          16,
          31,
          41,
          9,
          9,
          13,
          81,
          6,
          16,
          22,
          6,
          19,
          9,
          16,
          47,
          9,
          72,
          13,
          59,
          34,
          56,
          28,
          31,
          34,
          38,
          66,
          6,
          25,
          34,
          41,
          13,
          19,
          31,
          53,
          41,
          44,
          3,
          13,
          19,
          34,
          22,
          75,
          38,
          53,
          44,
          25,
          28
         ],
         "xaxis": "x",
         "y": [
          50,
          83,
          74,
          70,
          25,
          64,
          46,
          25,
          78,
          52,
          75,
          50,
          20,
          75,
          78,
          21,
          29,
          50,
          67,
          36,
          29,
          15,
          31,
          44,
          14,
          71,
          38,
          47,
          27,
          43,
          32,
          90,
          57,
          39,
          54,
          70,
          24,
          63,
          64,
          64,
          38,
          67,
          76,
          27,
          29,
          67,
          32,
          47,
          44,
          68,
          60,
          53,
          79,
          25,
          33,
          59,
          32,
          33,
          92,
          32,
          53,
          56,
          38,
          33
         ],
         "yaxis": "y"
        }
       ],
       "layout": {
        "coloraxis": {
         "colorbar": {
          "title": {
           "text": "texture saliency"
          }
         },
         "colorscale": [
          [
           0,
           "#0d0887"
          ],
          [
           0.1111111111111111,
           "#46039f"
          ],
          [
           0.2222222222222222,
           "#7201a8"
          ],
          [
           0.3333333333333333,
           "#9c179e"
          ],
          [
           0.4444444444444444,
           "#bd3786"
          ],
          [
           0.5555555555555556,
           "#d8576b"
          ],
          [
           0.6666666666666666,
           "#ed7953"
          ],
          [
           0.7777777777777778,
           "#fb9f3a"
          ],
          [
           0.8888888888888888,
           "#fdca26"
          ],
          [
           1,
           "#f0f921"
          ]
         ]
        },
        "height": 1000,
        "legend": {
         "itemsizing": "constant",
         "tracegroupgap": 0
        },
        "margin": {
         "t": 60
        },
        "template": {
         "data": {
          "bar": [
           {
            "error_x": {
             "color": "#2a3f5f"
            },
            "error_y": {
             "color": "#2a3f5f"
            },
            "marker": {
             "line": {
              "color": "#E5ECF6",
              "width": 0.5
             },
             "pattern": {
              "fillmode": "overlay",
              "size": 10,
              "solidity": 0.2
             }
            },
            "type": "bar"
           }
          ],
          "barpolar": [
           {
            "marker": {
             "line": {
              "color": "#E5ECF6",
              "width": 0.5
             },
             "pattern": {
              "fillmode": "overlay",
              "size": 10,
              "solidity": 0.2
             }
            },
            "type": "barpolar"
           }
          ],
          "carpet": [
           {
            "aaxis": {
             "endlinecolor": "#2a3f5f",
             "gridcolor": "white",
             "linecolor": "white",
             "minorgridcolor": "white",
             "startlinecolor": "#2a3f5f"
            },
            "baxis": {
             "endlinecolor": "#2a3f5f",
             "gridcolor": "white",
             "linecolor": "white",
             "minorgridcolor": "white",
             "startlinecolor": "#2a3f5f"
            },
            "type": "carpet"
           }
          ],
          "choropleth": [
           {
            "colorbar": {
             "outlinewidth": 0,
             "ticks": ""
            },
            "type": "choropleth"
           }
          ],
          "contour": [
           {
            "colorbar": {
             "outlinewidth": 0,
             "ticks": ""
            },
            "colorscale": [
             [
              0,
              "#0d0887"
             ],
             [
              0.1111111111111111,
              "#46039f"
             ],
             [
              0.2222222222222222,
              "#7201a8"
             ],
             [
              0.3333333333333333,
              "#9c179e"
             ],
             [
              0.4444444444444444,
              "#bd3786"
             ],
             [
              0.5555555555555556,
              "#d8576b"
             ],
             [
              0.6666666666666666,
              "#ed7953"
             ],
             [
              0.7777777777777778,
              "#fb9f3a"
             ],
             [
              0.8888888888888888,
              "#fdca26"
             ],
             [
              1,
              "#f0f921"
             ]
            ],
            "type": "contour"
           }
          ],
          "contourcarpet": [
           {
            "colorbar": {
             "outlinewidth": 0,
             "ticks": ""
            },
            "type": "contourcarpet"
           }
          ],
          "heatmap": [
           {
            "colorbar": {
             "outlinewidth": 0,
             "ticks": ""
            },
            "colorscale": [
             [
              0,
              "#0d0887"
             ],
             [
              0.1111111111111111,
              "#46039f"
             ],
             [
              0.2222222222222222,
              "#7201a8"
             ],
             [
              0.3333333333333333,
              "#9c179e"
             ],
             [
              0.4444444444444444,
              "#bd3786"
             ],
             [
              0.5555555555555556,
              "#d8576b"
             ],
             [
              0.6666666666666666,
              "#ed7953"
             ],
             [
              0.7777777777777778,
              "#fb9f3a"
             ],
             [
              0.8888888888888888,
              "#fdca26"
             ],
             [
              1,
              "#f0f921"
             ]
            ],
            "type": "heatmap"
           }
          ],
          "heatmapgl": [
           {
            "colorbar": {
             "outlinewidth": 0,
             "ticks": ""
            },
            "colorscale": [
             [
              0,
              "#0d0887"
             ],
             [
              0.1111111111111111,
              "#46039f"
             ],
             [
              0.2222222222222222,
              "#7201a8"
             ],
             [
              0.3333333333333333,
              "#9c179e"
             ],
             [
              0.4444444444444444,
              "#bd3786"
             ],
             [
              0.5555555555555556,
              "#d8576b"
             ],
             [
              0.6666666666666666,
              "#ed7953"
             ],
             [
              0.7777777777777778,
              "#fb9f3a"
             ],
             [
              0.8888888888888888,
              "#fdca26"
             ],
             [
              1,
              "#f0f921"
             ]
            ],
            "type": "heatmapgl"
           }
          ],
          "histogram": [
           {
            "marker": {
             "pattern": {
              "fillmode": "overlay",
              "size": 10,
              "solidity": 0.2
             }
            },
            "type": "histogram"
           }
          ],
          "histogram2d": [
           {
            "colorbar": {
             "outlinewidth": 0,
             "ticks": ""
            },
            "colorscale": [
             [
              0,
              "#0d0887"
             ],
             [
              0.1111111111111111,
              "#46039f"
             ],
             [
              0.2222222222222222,
              "#7201a8"
             ],
             [
              0.3333333333333333,
              "#9c179e"
             ],
             [
              0.4444444444444444,
              "#bd3786"
             ],
             [
              0.5555555555555556,
              "#d8576b"
             ],
             [
              0.6666666666666666,
              "#ed7953"
             ],
             [
              0.7777777777777778,
              "#fb9f3a"
             ],
             [
              0.8888888888888888,
              "#fdca26"
             ],
             [
              1,
              "#f0f921"
             ]
            ],
            "type": "histogram2d"
           }
          ],
          "histogram2dcontour": [
           {
            "colorbar": {
             "outlinewidth": 0,
             "ticks": ""
            },
            "colorscale": [
             [
              0,
              "#0d0887"
             ],
             [
              0.1111111111111111,
              "#46039f"
             ],
             [
              0.2222222222222222,
              "#7201a8"
             ],
             [
              0.3333333333333333,
              "#9c179e"
             ],
             [
              0.4444444444444444,
              "#bd3786"
             ],
             [
              0.5555555555555556,
              "#d8576b"
             ],
             [
              0.6666666666666666,
              "#ed7953"
             ],
             [
              0.7777777777777778,
              "#fb9f3a"
             ],
             [
              0.8888888888888888,
              "#fdca26"
             ],
             [
              1,
              "#f0f921"
             ]
            ],
            "type": "histogram2dcontour"
           }
          ],
          "mesh3d": [
           {
            "colorbar": {
             "outlinewidth": 0,
             "ticks": ""
            },
            "type": "mesh3d"
           }
          ],
          "parcoords": [
           {
            "line": {
             "colorbar": {
              "outlinewidth": 0,
              "ticks": ""
             }
            },
            "type": "parcoords"
           }
          ],
          "pie": [
           {
            "automargin": true,
            "type": "pie"
           }
          ],
          "scatter": [
           {
            "fillpattern": {
             "fillmode": "overlay",
             "size": 10,
             "solidity": 0.2
            },
            "type": "scatter"
           }
          ],
          "scatter3d": [
           {
            "line": {
             "colorbar": {
              "outlinewidth": 0,
              "ticks": ""
             }
            },
            "marker": {
             "colorbar": {
              "outlinewidth": 0,
              "ticks": ""
             }
            },
            "type": "scatter3d"
           }
          ],
          "scattercarpet": [
           {
            "marker": {
             "colorbar": {
              "outlinewidth": 0,
              "ticks": ""
             }
            },
            "type": "scattercarpet"
           }
          ],
          "scattergeo": [
           {
            "marker": {
             "colorbar": {
              "outlinewidth": 0,
              "ticks": ""
             }
            },
            "type": "scattergeo"
           }
          ],
          "scattergl": [
           {
            "marker": {
             "colorbar": {
              "outlinewidth": 0,
              "ticks": ""
             }
            },
            "type": "scattergl"
           }
          ],
          "scattermapbox": [
           {
            "marker": {
             "colorbar": {
              "outlinewidth": 0,
              "ticks": ""
             }
            },
            "type": "scattermapbox"
           }
          ],
          "scatterpolar": [
           {
            "marker": {
             "colorbar": {
              "outlinewidth": 0,
              "ticks": ""
             }
            },
            "type": "scatterpolar"
           }
          ],
          "scatterpolargl": [
           {
            "marker": {
             "colorbar": {
              "outlinewidth": 0,
              "ticks": ""
             }
            },
            "type": "scatterpolargl"
           }
          ],
          "scatterternary": [
           {
            "marker": {
             "colorbar": {
              "outlinewidth": 0,
              "ticks": ""
             }
            },
            "type": "scatterternary"
           }
          ],
          "surface": [
           {
            "colorbar": {
             "outlinewidth": 0,
             "ticks": ""
            },
            "colorscale": [
             [
              0,
              "#0d0887"
             ],
             [
              0.1111111111111111,
              "#46039f"
             ],
             [
              0.2222222222222222,
              "#7201a8"
             ],
             [
              0.3333333333333333,
              "#9c179e"
             ],
             [
              0.4444444444444444,
              "#bd3786"
             ],
             [
              0.5555555555555556,
              "#d8576b"
             ],
             [
              0.6666666666666666,
              "#ed7953"
             ],
             [
              0.7777777777777778,
              "#fb9f3a"
             ],
             [
              0.8888888888888888,
              "#fdca26"
             ],
             [
              1,
              "#f0f921"
             ]
            ],
            "type": "surface"
           }
          ],
          "table": [
           {
            "cells": {
             "fill": {
              "color": "#EBF0F8"
             },
             "line": {
              "color": "white"
             }
            },
            "header": {
             "fill": {
              "color": "#C8D4E3"
             },
             "line": {
              "color": "white"
             }
            },
            "type": "table"
           }
          ]
         },
         "layout": {
          "annotationdefaults": {
           "arrowcolor": "#2a3f5f",
           "arrowhead": 0,
           "arrowwidth": 1
          },
          "autotypenumbers": "strict",
          "coloraxis": {
           "colorbar": {
            "outlinewidth": 0,
            "ticks": ""
           }
          },
          "colorscale": {
           "diverging": [
            [
             0,
             "#8e0152"
            ],
            [
             0.1,
             "#c51b7d"
            ],
            [
             0.2,
             "#de77ae"
            ],
            [
             0.3,
             "#f1b6da"
            ],
            [
             0.4,
             "#fde0ef"
            ],
            [
             0.5,
             "#f7f7f7"
            ],
            [
             0.6,
             "#e6f5d0"
            ],
            [
             0.7,
             "#b8e186"
            ],
            [
             0.8,
             "#7fbc41"
            ],
            [
             0.9,
             "#4d9221"
            ],
            [
             1,
             "#276419"
            ]
           ],
           "sequential": [
            [
             0,
             "#0d0887"
            ],
            [
             0.1111111111111111,
             "#46039f"
            ],
            [
             0.2222222222222222,
             "#7201a8"
            ],
            [
             0.3333333333333333,
             "#9c179e"
            ],
            [
             0.4444444444444444,
             "#bd3786"
            ],
            [
             0.5555555555555556,
             "#d8576b"
            ],
            [
             0.6666666666666666,
             "#ed7953"
            ],
            [
             0.7777777777777778,
             "#fb9f3a"
            ],
            [
             0.8888888888888888,
             "#fdca26"
            ],
            [
             1,
             "#f0f921"
            ]
           ],
           "sequentialminus": [
            [
             0,
             "#0d0887"
            ],
            [
             0.1111111111111111,
             "#46039f"
            ],
            [
             0.2222222222222222,
             "#7201a8"
            ],
            [
             0.3333333333333333,
             "#9c179e"
            ],
            [
             0.4444444444444444,
             "#bd3786"
            ],
            [
             0.5555555555555556,
             "#d8576b"
            ],
            [
             0.6666666666666666,
             "#ed7953"
            ],
            [
             0.7777777777777778,
             "#fb9f3a"
            ],
            [
             0.8888888888888888,
             "#fdca26"
            ],
            [
             1,
             "#f0f921"
            ]
           ]
          },
          "colorway": [
           "#636efa",
           "#EF553B",
           "#00cc96",
           "#ab63fa",
           "#FFA15A",
           "#19d3f3",
           "#FF6692",
           "#B6E880",
           "#FF97FF",
           "#FECB52"
          ],
          "font": {
           "color": "#2a3f5f"
          },
          "geo": {
           "bgcolor": "white",
           "lakecolor": "white",
           "landcolor": "#E5ECF6",
           "showlakes": true,
           "showland": true,
           "subunitcolor": "white"
          },
          "hoverlabel": {
           "align": "left"
          },
          "hovermode": "closest",
          "mapbox": {
           "style": "light"
          },
          "paper_bgcolor": "white",
          "plot_bgcolor": "#E5ECF6",
          "polar": {
           "angularaxis": {
            "gridcolor": "white",
            "linecolor": "white",
            "ticks": ""
           },
           "bgcolor": "#E5ECF6",
           "radialaxis": {
            "gridcolor": "white",
            "linecolor": "white",
            "ticks": ""
           }
          },
          "scene": {
           "xaxis": {
            "backgroundcolor": "#E5ECF6",
            "gridcolor": "white",
            "gridwidth": 2,
            "linecolor": "white",
            "showbackground": true,
            "ticks": "",
            "zerolinecolor": "white"
           },
           "yaxis": {
            "backgroundcolor": "#E5ECF6",
            "gridcolor": "white",
            "gridwidth": 2,
            "linecolor": "white",
            "showbackground": true,
            "ticks": "",
            "zerolinecolor": "white"
           },
           "zaxis": {
            "backgroundcolor": "#E5ECF6",
            "gridcolor": "white",
            "gridwidth": 2,
            "linecolor": "white",
            "showbackground": true,
            "ticks": "",
            "zerolinecolor": "white"
           }
          },
          "shapedefaults": {
           "line": {
            "color": "#2a3f5f"
           }
          },
          "ternary": {
           "aaxis": {
            "gridcolor": "white",
            "linecolor": "white",
            "ticks": ""
           },
           "baxis": {
            "gridcolor": "white",
            "linecolor": "white",
            "ticks": ""
           },
           "bgcolor": "#E5ECF6",
           "caxis": {
            "gridcolor": "white",
            "linecolor": "white",
            "ticks": ""
           }
          },
          "title": {
           "x": 0.05
          },
          "xaxis": {
           "automargin": true,
           "gridcolor": "white",
           "linecolor": "white",
           "ticks": "",
           "title": {
            "standoff": 15
           },
           "zerolinecolor": "white",
           "zerolinewidth": 2
          },
          "yaxis": {
           "automargin": true,
           "gridcolor": "white",
           "linecolor": "white",
           "ticks": "",
           "title": {
            "standoff": 15
           },
           "zerolinecolor": "white",
           "zerolinewidth": 2
          }
         }
        },
        "width": 1000,
        "xaxis": {
         "anchor": "y",
         "domain": [
          0,
          1
         ],
         "title": {
          "text": "familiarity score"
         }
        },
        "yaxis": {
         "anchor": "x",
         "domain": [
          0,
          1
         ],
         "title": {
          "text": "nameability score"
         }
        }
       }
      }
     },
     "metadata": {},
     "output_type": "display_data"
    }
   ],
   "source": [
    "fig = px.scatter(data, size='color saliency', color='texture saliency', y='nameability score', x='familiarity score')\n",
    "fig.update_layout(\n",
    "    width=1000,  # Adjust the width of the plot as desired\n",
    "    height=1000,  # Adjust the height of the plot as desired\n",
    ")\n",
    "fig.show()"
   ]
  },
  {
   "cell_type": "code",
   "execution_count": 28,
   "metadata": {},
   "outputs": [
    {
     "data": {
      "application/vnd.plotly.v1+json": {
       "config": {
        "plotlyServerURL": "https://plot.ly"
       },
       "data": [
        {
         "name": "greedy, caption",
         "type": "bar",
         "x": [
          "(-0.063, 12.6]",
          "(12.6, 25.2]",
          "(25.2, 37.8]",
          "(37.8, 50.4]",
          "(50.4, 63.0]"
         ],
         "y": [
          0.47058823529411764,
          0.55,
          0.6666666666666666,
          0.75,
          0.6666666666666666
         ]
        },
        {
         "name": "nucleus, caption",
         "type": "bar",
         "x": [
          "(-0.063, 12.6]",
          "(12.6, 25.2]",
          "(25.2, 37.8]",
          "(37.8, 50.4]",
          "(50.4, 63.0]"
         ],
         "y": [
          0.38235294117647056,
          0.3,
          0.6666666666666666,
          0.75,
          0.6666666666666666
         ]
        },
        {
         "name": "beam, caption",
         "type": "bar",
         "x": [
          "(-0.063, 12.6]",
          "(12.6, 25.2]",
          "(25.2, 37.8]",
          "(37.8, 50.4]",
          "(50.4, 63.0]"
         ],
         "y": [
          0.5,
          0.5,
          0.6666666666666666,
          0.75,
          0.6666666666666666
         ]
        },
        {
         "name": "greedy, max_new_tokens=5, caption",
         "type": "bar",
         "x": [
          "(-0.063, 12.6]",
          "(12.6, 25.2]",
          "(25.2, 37.8]",
          "(37.8, 50.4]",
          "(50.4, 63.0]"
         ],
         "y": [
          0.4411764705882353,
          0.55,
          0.6666666666666666,
          0.75,
          0.6666666666666666
         ]
        },
        {
         "name": "greedy, max_new_tokens=10, caption",
         "type": "bar",
         "x": [
          "(-0.063, 12.6]",
          "(12.6, 25.2]",
          "(25.2, 37.8]",
          "(37.8, 50.4]",
          "(50.4, 63.0]"
         ],
         "y": [
          0.47058823529411764,
          0.55,
          0.6666666666666666,
          0.75,
          0.6666666666666666
         ]
        },
        {
         "name": "greedy, max_new_tokens=20, caption",
         "type": "bar",
         "x": [
          "(-0.063, 12.6]",
          "(12.6, 25.2]",
          "(25.2, 37.8]",
          "(37.8, 50.4]",
          "(50.4, 63.0]"
         ],
         "y": [
          0.47058823529411764,
          0.55,
          0.6666666666666666,
          0.75,
          0.6666666666666666
         ]
        },
        {
         "name": "nucleus, top_p=0.1, caption",
         "type": "bar",
         "x": [
          "(-0.063, 12.6]",
          "(12.6, 25.2]",
          "(25.2, 37.8]",
          "(37.8, 50.4]",
          "(50.4, 63.0]"
         ],
         "y": [
          0.47058823529411764,
          0.55,
          0.6666666666666666,
          0.75,
          0.6666666666666666
         ]
        },
        {
         "name": "nucleus, top_p=0.5, caption",
         "type": "bar",
         "x": [
          "(-0.063, 12.6]",
          "(12.6, 25.2]",
          "(25.2, 37.8]",
          "(37.8, 50.4]",
          "(50.4, 63.0]"
         ],
         "y": [
          0.5294117647058824,
          0.5,
          0.6666666666666666,
          0.75,
          0.3333333333333333
         ]
        },
        {
         "name": "nucleus, top_p=0.9, caption",
         "type": "bar",
         "x": [
          "(-0.063, 12.6]",
          "(12.6, 25.2]",
          "(25.2, 37.8]",
          "(37.8, 50.4]",
          "(50.4, 63.0]"
         ],
         "y": [
          0.5,
          0.3,
          0.3333333333333333,
          0.75,
          0.6666666666666666
         ]
        },
        {
         "name": "beam, num_beams=1, caption",
         "type": "bar",
         "x": [
          "(-0.063, 12.6]",
          "(12.6, 25.2]",
          "(25.2, 37.8]",
          "(37.8, 50.4]",
          "(50.4, 63.0]"
         ],
         "y": [
          0.47058823529411764,
          0.55,
          0.6666666666666666,
          0.75,
          0.6666666666666666
         ]
        },
        {
         "name": "beam, num_beams=5, caption",
         "type": "bar",
         "x": [
          "(-0.063, 12.6]",
          "(12.6, 25.2]",
          "(25.2, 37.8]",
          "(37.8, 50.4]",
          "(50.4, 63.0]"
         ],
         "y": [
          0.5,
          0.5,
          0.6666666666666666,
          0.75,
          0.6666666666666666
         ]
        },
        {
         "name": "beam, num_beams=10, caption",
         "type": "bar",
         "x": [
          "(-0.063, 12.6]",
          "(12.6, 25.2]",
          "(25.2, 37.8]",
          "(37.8, 50.4]",
          "(50.4, 63.0]"
         ],
         "y": [
          0.5,
          0.45,
          0.6666666666666666,
          0.75,
          0.6666666666666666
         ]
        }
       ],
       "layout": {
        "barmode": "group",
        "template": {
         "data": {
          "bar": [
           {
            "error_x": {
             "color": "#2a3f5f"
            },
            "error_y": {
             "color": "#2a3f5f"
            },
            "marker": {
             "line": {
              "color": "#E5ECF6",
              "width": 0.5
             },
             "pattern": {
              "fillmode": "overlay",
              "size": 10,
              "solidity": 0.2
             }
            },
            "type": "bar"
           }
          ],
          "barpolar": [
           {
            "marker": {
             "line": {
              "color": "#E5ECF6",
              "width": 0.5
             },
             "pattern": {
              "fillmode": "overlay",
              "size": 10,
              "solidity": 0.2
             }
            },
            "type": "barpolar"
           }
          ],
          "carpet": [
           {
            "aaxis": {
             "endlinecolor": "#2a3f5f",
             "gridcolor": "white",
             "linecolor": "white",
             "minorgridcolor": "white",
             "startlinecolor": "#2a3f5f"
            },
            "baxis": {
             "endlinecolor": "#2a3f5f",
             "gridcolor": "white",
             "linecolor": "white",
             "minorgridcolor": "white",
             "startlinecolor": "#2a3f5f"
            },
            "type": "carpet"
           }
          ],
          "choropleth": [
           {
            "colorbar": {
             "outlinewidth": 0,
             "ticks": ""
            },
            "type": "choropleth"
           }
          ],
          "contour": [
           {
            "colorbar": {
             "outlinewidth": 0,
             "ticks": ""
            },
            "colorscale": [
             [
              0,
              "#0d0887"
             ],
             [
              0.1111111111111111,
              "#46039f"
             ],
             [
              0.2222222222222222,
              "#7201a8"
             ],
             [
              0.3333333333333333,
              "#9c179e"
             ],
             [
              0.4444444444444444,
              "#bd3786"
             ],
             [
              0.5555555555555556,
              "#d8576b"
             ],
             [
              0.6666666666666666,
              "#ed7953"
             ],
             [
              0.7777777777777778,
              "#fb9f3a"
             ],
             [
              0.8888888888888888,
              "#fdca26"
             ],
             [
              1,
              "#f0f921"
             ]
            ],
            "type": "contour"
           }
          ],
          "contourcarpet": [
           {
            "colorbar": {
             "outlinewidth": 0,
             "ticks": ""
            },
            "type": "contourcarpet"
           }
          ],
          "heatmap": [
           {
            "colorbar": {
             "outlinewidth": 0,
             "ticks": ""
            },
            "colorscale": [
             [
              0,
              "#0d0887"
             ],
             [
              0.1111111111111111,
              "#46039f"
             ],
             [
              0.2222222222222222,
              "#7201a8"
             ],
             [
              0.3333333333333333,
              "#9c179e"
             ],
             [
              0.4444444444444444,
              "#bd3786"
             ],
             [
              0.5555555555555556,
              "#d8576b"
             ],
             [
              0.6666666666666666,
              "#ed7953"
             ],
             [
              0.7777777777777778,
              "#fb9f3a"
             ],
             [
              0.8888888888888888,
              "#fdca26"
             ],
             [
              1,
              "#f0f921"
             ]
            ],
            "type": "heatmap"
           }
          ],
          "heatmapgl": [
           {
            "colorbar": {
             "outlinewidth": 0,
             "ticks": ""
            },
            "colorscale": [
             [
              0,
              "#0d0887"
             ],
             [
              0.1111111111111111,
              "#46039f"
             ],
             [
              0.2222222222222222,
              "#7201a8"
             ],
             [
              0.3333333333333333,
              "#9c179e"
             ],
             [
              0.4444444444444444,
              "#bd3786"
             ],
             [
              0.5555555555555556,
              "#d8576b"
             ],
             [
              0.6666666666666666,
              "#ed7953"
             ],
             [
              0.7777777777777778,
              "#fb9f3a"
             ],
             [
              0.8888888888888888,
              "#fdca26"
             ],
             [
              1,
              "#f0f921"
             ]
            ],
            "type": "heatmapgl"
           }
          ],
          "histogram": [
           {
            "marker": {
             "pattern": {
              "fillmode": "overlay",
              "size": 10,
              "solidity": 0.2
             }
            },
            "type": "histogram"
           }
          ],
          "histogram2d": [
           {
            "colorbar": {
             "outlinewidth": 0,
             "ticks": ""
            },
            "colorscale": [
             [
              0,
              "#0d0887"
             ],
             [
              0.1111111111111111,
              "#46039f"
             ],
             [
              0.2222222222222222,
              "#7201a8"
             ],
             [
              0.3333333333333333,
              "#9c179e"
             ],
             [
              0.4444444444444444,
              "#bd3786"
             ],
             [
              0.5555555555555556,
              "#d8576b"
             ],
             [
              0.6666666666666666,
              "#ed7953"
             ],
             [
              0.7777777777777778,
              "#fb9f3a"
             ],
             [
              0.8888888888888888,
              "#fdca26"
             ],
             [
              1,
              "#f0f921"
             ]
            ],
            "type": "histogram2d"
           }
          ],
          "histogram2dcontour": [
           {
            "colorbar": {
             "outlinewidth": 0,
             "ticks": ""
            },
            "colorscale": [
             [
              0,
              "#0d0887"
             ],
             [
              0.1111111111111111,
              "#46039f"
             ],
             [
              0.2222222222222222,
              "#7201a8"
             ],
             [
              0.3333333333333333,
              "#9c179e"
             ],
             [
              0.4444444444444444,
              "#bd3786"
             ],
             [
              0.5555555555555556,
              "#d8576b"
             ],
             [
              0.6666666666666666,
              "#ed7953"
             ],
             [
              0.7777777777777778,
              "#fb9f3a"
             ],
             [
              0.8888888888888888,
              "#fdca26"
             ],
             [
              1,
              "#f0f921"
             ]
            ],
            "type": "histogram2dcontour"
           }
          ],
          "mesh3d": [
           {
            "colorbar": {
             "outlinewidth": 0,
             "ticks": ""
            },
            "type": "mesh3d"
           }
          ],
          "parcoords": [
           {
            "line": {
             "colorbar": {
              "outlinewidth": 0,
              "ticks": ""
             }
            },
            "type": "parcoords"
           }
          ],
          "pie": [
           {
            "automargin": true,
            "type": "pie"
           }
          ],
          "scatter": [
           {
            "fillpattern": {
             "fillmode": "overlay",
             "size": 10,
             "solidity": 0.2
            },
            "type": "scatter"
           }
          ],
          "scatter3d": [
           {
            "line": {
             "colorbar": {
              "outlinewidth": 0,
              "ticks": ""
             }
            },
            "marker": {
             "colorbar": {
              "outlinewidth": 0,
              "ticks": ""
             }
            },
            "type": "scatter3d"
           }
          ],
          "scattercarpet": [
           {
            "marker": {
             "colorbar": {
              "outlinewidth": 0,
              "ticks": ""
             }
            },
            "type": "scattercarpet"
           }
          ],
          "scattergeo": [
           {
            "marker": {
             "colorbar": {
              "outlinewidth": 0,
              "ticks": ""
             }
            },
            "type": "scattergeo"
           }
          ],
          "scattergl": [
           {
            "marker": {
             "colorbar": {
              "outlinewidth": 0,
              "ticks": ""
             }
            },
            "type": "scattergl"
           }
          ],
          "scattermapbox": [
           {
            "marker": {
             "colorbar": {
              "outlinewidth": 0,
              "ticks": ""
             }
            },
            "type": "scattermapbox"
           }
          ],
          "scatterpolar": [
           {
            "marker": {
             "colorbar": {
              "outlinewidth": 0,
              "ticks": ""
             }
            },
            "type": "scatterpolar"
           }
          ],
          "scatterpolargl": [
           {
            "marker": {
             "colorbar": {
              "outlinewidth": 0,
              "ticks": ""
             }
            },
            "type": "scatterpolargl"
           }
          ],
          "scatterternary": [
           {
            "marker": {
             "colorbar": {
              "outlinewidth": 0,
              "ticks": ""
             }
            },
            "type": "scatterternary"
           }
          ],
          "surface": [
           {
            "colorbar": {
             "outlinewidth": 0,
             "ticks": ""
            },
            "colorscale": [
             [
              0,
              "#0d0887"
             ],
             [
              0.1111111111111111,
              "#46039f"
             ],
             [
              0.2222222222222222,
              "#7201a8"
             ],
             [
              0.3333333333333333,
              "#9c179e"
             ],
             [
              0.4444444444444444,
              "#bd3786"
             ],
             [
              0.5555555555555556,
              "#d8576b"
             ],
             [
              0.6666666666666666,
              "#ed7953"
             ],
             [
              0.7777777777777778,
              "#fb9f3a"
             ],
             [
              0.8888888888888888,
              "#fdca26"
             ],
             [
              1,
              "#f0f921"
             ]
            ],
            "type": "surface"
           }
          ],
          "table": [
           {
            "cells": {
             "fill": {
              "color": "#EBF0F8"
             },
             "line": {
              "color": "white"
             }
            },
            "header": {
             "fill": {
              "color": "#C8D4E3"
             },
             "line": {
              "color": "white"
             }
            },
            "type": "table"
           }
          ]
         },
         "layout": {
          "annotationdefaults": {
           "arrowcolor": "#2a3f5f",
           "arrowhead": 0,
           "arrowwidth": 1
          },
          "autotypenumbers": "strict",
          "coloraxis": {
           "colorbar": {
            "outlinewidth": 0,
            "ticks": ""
           }
          },
          "colorscale": {
           "diverging": [
            [
             0,
             "#8e0152"
            ],
            [
             0.1,
             "#c51b7d"
            ],
            [
             0.2,
             "#de77ae"
            ],
            [
             0.3,
             "#f1b6da"
            ],
            [
             0.4,
             "#fde0ef"
            ],
            [
             0.5,
             "#f7f7f7"
            ],
            [
             0.6,
             "#e6f5d0"
            ],
            [
             0.7,
             "#b8e186"
            ],
            [
             0.8,
             "#7fbc41"
            ],
            [
             0.9,
             "#4d9221"
            ],
            [
             1,
             "#276419"
            ]
           ],
           "sequential": [
            [
             0,
             "#0d0887"
            ],
            [
             0.1111111111111111,
             "#46039f"
            ],
            [
             0.2222222222222222,
             "#7201a8"
            ],
            [
             0.3333333333333333,
             "#9c179e"
            ],
            [
             0.4444444444444444,
             "#bd3786"
            ],
            [
             0.5555555555555556,
             "#d8576b"
            ],
            [
             0.6666666666666666,
             "#ed7953"
            ],
            [
             0.7777777777777778,
             "#fb9f3a"
            ],
            [
             0.8888888888888888,
             "#fdca26"
            ],
            [
             1,
             "#f0f921"
            ]
           ],
           "sequentialminus": [
            [
             0,
             "#0d0887"
            ],
            [
             0.1111111111111111,
             "#46039f"
            ],
            [
             0.2222222222222222,
             "#7201a8"
            ],
            [
             0.3333333333333333,
             "#9c179e"
            ],
            [
             0.4444444444444444,
             "#bd3786"
            ],
            [
             0.5555555555555556,
             "#d8576b"
            ],
            [
             0.6666666666666666,
             "#ed7953"
            ],
            [
             0.7777777777777778,
             "#fb9f3a"
            ],
            [
             0.8888888888888888,
             "#fdca26"
            ],
            [
             1,
             "#f0f921"
            ]
           ]
          },
          "colorway": [
           "#636efa",
           "#EF553B",
           "#00cc96",
           "#ab63fa",
           "#FFA15A",
           "#19d3f3",
           "#FF6692",
           "#B6E880",
           "#FF97FF",
           "#FECB52"
          ],
          "font": {
           "color": "#2a3f5f"
          },
          "geo": {
           "bgcolor": "white",
           "lakecolor": "white",
           "landcolor": "#E5ECF6",
           "showlakes": true,
           "showland": true,
           "subunitcolor": "white"
          },
          "hoverlabel": {
           "align": "left"
          },
          "hovermode": "closest",
          "mapbox": {
           "style": "light"
          },
          "paper_bgcolor": "white",
          "plot_bgcolor": "#E5ECF6",
          "polar": {
           "angularaxis": {
            "gridcolor": "white",
            "linecolor": "white",
            "ticks": ""
           },
           "bgcolor": "#E5ECF6",
           "radialaxis": {
            "gridcolor": "white",
            "linecolor": "white",
            "ticks": ""
           }
          },
          "scene": {
           "xaxis": {
            "backgroundcolor": "#E5ECF6",
            "gridcolor": "white",
            "gridwidth": 2,
            "linecolor": "white",
            "showbackground": true,
            "ticks": "",
            "zerolinecolor": "white"
           },
           "yaxis": {
            "backgroundcolor": "#E5ECF6",
            "gridcolor": "white",
            "gridwidth": 2,
            "linecolor": "white",
            "showbackground": true,
            "ticks": "",
            "zerolinecolor": "white"
           },
           "zaxis": {
            "backgroundcolor": "#E5ECF6",
            "gridcolor": "white",
            "gridwidth": 2,
            "linecolor": "white",
            "showbackground": true,
            "ticks": "",
            "zerolinecolor": "white"
           }
          },
          "shapedefaults": {
           "line": {
            "color": "#2a3f5f"
           }
          },
          "ternary": {
           "aaxis": {
            "gridcolor": "white",
            "linecolor": "white",
            "ticks": ""
           },
           "baxis": {
            "gridcolor": "white",
            "linecolor": "white",
            "ticks": ""
           },
           "bgcolor": "#E5ECF6",
           "caxis": {
            "gridcolor": "white",
            "linecolor": "white",
            "ticks": ""
           }
          },
          "title": {
           "x": 0.05
          },
          "xaxis": {
           "automargin": true,
           "gridcolor": "white",
           "linecolor": "white",
           "ticks": "",
           "title": {
            "standoff": 15
           },
           "zerolinecolor": "white",
           "zerolinewidth": 2
          },
          "yaxis": {
           "automargin": true,
           "gridcolor": "white",
           "linecolor": "white",
           "ticks": "",
           "title": {
            "standoff": 15
           },
           "zerolinecolor": "white",
           "zerolinewidth": 2
          }
         }
        },
        "title": {
         "text": "texture term usage rate per saliency bin for BLIP-2, caption"
        },
        "width": 1000,
        "xaxis": {
         "tickmode": "array",
         "ticktext": [
          "0-20",
          "21-40",
          "41-60",
          "61-80",
          "81-100"
         ],
         "tickvals": [
          0,
          1,
          2,
          3,
          4
         ],
         "title": {
          "text": "Texture saliency in %"
         }
        },
        "yaxis": {
         "range": [
          0,
          1
         ],
         "title": {
          "text": "Rate of using texture terms"
         }
        }
       }
      }
     },
     "metadata": {},
     "output_type": "display_data"
    },
    {
     "data": {
      "application/vnd.plotly.v1+json": {
       "config": {
        "plotlyServerURL": "https://plot.ly"
       },
       "data": [
        {
         "name": "greedy, name",
         "type": "bar",
         "x": [
          "(-0.063, 12.6]",
          "(12.6, 25.2]",
          "(25.2, 37.8]",
          "(37.8, 50.4]",
          "(50.4, 63.0]"
         ],
         "y": [
          0.23529411764705882,
          0.2,
          0.3333333333333333,
          0.5,
          0
         ]
        },
        {
         "name": "nucleus, name",
         "type": "bar",
         "x": [
          "(-0.063, 12.6]",
          "(12.6, 25.2]",
          "(25.2, 37.8]",
          "(37.8, 50.4]",
          "(50.4, 63.0]"
         ],
         "y": [
          0.14705882352941177,
          0.15,
          0,
          0,
          0
         ]
        },
        {
         "name": "beam, name",
         "type": "bar",
         "x": [
          "(-0.063, 12.6]",
          "(12.6, 25.2]",
          "(25.2, 37.8]",
          "(37.8, 50.4]",
          "(50.4, 63.0]"
         ],
         "y": [
          0.2647058823529412,
          0.25,
          0.3333333333333333,
          0.5,
          0.3333333333333333
         ]
        },
        {
         "name": "greedy, max_new_tokens=5, name",
         "type": "bar",
         "x": [
          "(-0.063, 12.6]",
          "(12.6, 25.2]",
          "(25.2, 37.8]",
          "(37.8, 50.4]",
          "(50.4, 63.0]"
         ],
         "y": [
          0.23529411764705882,
          0.2,
          0.3333333333333333,
          0.5,
          0
         ]
        },
        {
         "name": "greedy, max_new_tokens=10, name",
         "type": "bar",
         "x": [
          "(-0.063, 12.6]",
          "(12.6, 25.2]",
          "(25.2, 37.8]",
          "(37.8, 50.4]",
          "(50.4, 63.0]"
         ],
         "y": [
          0.23529411764705882,
          0.2,
          0.3333333333333333,
          0.5,
          0
         ]
        },
        {
         "name": "greedy, max_new_tokens=20, name",
         "type": "bar",
         "x": [
          "(-0.063, 12.6]",
          "(12.6, 25.2]",
          "(25.2, 37.8]",
          "(37.8, 50.4]",
          "(50.4, 63.0]"
         ],
         "y": [
          0.23529411764705882,
          0.2,
          0.3333333333333333,
          0.5,
          0
         ]
        },
        {
         "name": "nucleus, top_p=0.1, name",
         "type": "bar",
         "x": [
          "(-0.063, 12.6]",
          "(12.6, 25.2]",
          "(25.2, 37.8]",
          "(37.8, 50.4]",
          "(50.4, 63.0]"
         ],
         "y": [
          0.23529411764705882,
          0.2,
          0.3333333333333333,
          0.5,
          0
         ]
        },
        {
         "name": "nucleus, top_p=0.5, name",
         "type": "bar",
         "x": [
          "(-0.063, 12.6]",
          "(12.6, 25.2]",
          "(25.2, 37.8]",
          "(37.8, 50.4]",
          "(50.4, 63.0]"
         ],
         "y": [
          0.3235294117647059,
          0.05,
          0,
          0.25,
          0
         ]
        },
        {
         "name": "nucleus, top_p=0.9, name",
         "type": "bar",
         "x": [
          "(-0.063, 12.6]",
          "(12.6, 25.2]",
          "(25.2, 37.8]",
          "(37.8, 50.4]",
          "(50.4, 63.0]"
         ],
         "y": [
          0.20588235294117646,
          0.15,
          0.3333333333333333,
          0.25,
          0.3333333333333333
         ]
        },
        {
         "name": "beam, num_beams=1, name",
         "type": "bar",
         "x": [
          "(-0.063, 12.6]",
          "(12.6, 25.2]",
          "(25.2, 37.8]",
          "(37.8, 50.4]",
          "(50.4, 63.0]"
         ],
         "y": [
          0.23529411764705882,
          0.2,
          0.3333333333333333,
          0.5,
          0
         ]
        },
        {
         "name": "beam, num_beams=5, name",
         "type": "bar",
         "x": [
          "(-0.063, 12.6]",
          "(12.6, 25.2]",
          "(25.2, 37.8]",
          "(37.8, 50.4]",
          "(50.4, 63.0]"
         ],
         "y": [
          0.2647058823529412,
          0.25,
          0.3333333333333333,
          0.5,
          0.3333333333333333
         ]
        },
        {
         "name": "beam, num_beams=10, name",
         "type": "bar",
         "x": [
          "(-0.063, 12.6]",
          "(12.6, 25.2]",
          "(25.2, 37.8]",
          "(37.8, 50.4]",
          "(50.4, 63.0]"
         ],
         "y": [
          0.20588235294117646,
          0.25,
          0.3333333333333333,
          0.5,
          0.3333333333333333
         ]
        }
       ],
       "layout": {
        "barmode": "group",
        "template": {
         "data": {
          "bar": [
           {
            "error_x": {
             "color": "#2a3f5f"
            },
            "error_y": {
             "color": "#2a3f5f"
            },
            "marker": {
             "line": {
              "color": "#E5ECF6",
              "width": 0.5
             },
             "pattern": {
              "fillmode": "overlay",
              "size": 10,
              "solidity": 0.2
             }
            },
            "type": "bar"
           }
          ],
          "barpolar": [
           {
            "marker": {
             "line": {
              "color": "#E5ECF6",
              "width": 0.5
             },
             "pattern": {
              "fillmode": "overlay",
              "size": 10,
              "solidity": 0.2
             }
            },
            "type": "barpolar"
           }
          ],
          "carpet": [
           {
            "aaxis": {
             "endlinecolor": "#2a3f5f",
             "gridcolor": "white",
             "linecolor": "white",
             "minorgridcolor": "white",
             "startlinecolor": "#2a3f5f"
            },
            "baxis": {
             "endlinecolor": "#2a3f5f",
             "gridcolor": "white",
             "linecolor": "white",
             "minorgridcolor": "white",
             "startlinecolor": "#2a3f5f"
            },
            "type": "carpet"
           }
          ],
          "choropleth": [
           {
            "colorbar": {
             "outlinewidth": 0,
             "ticks": ""
            },
            "type": "choropleth"
           }
          ],
          "contour": [
           {
            "colorbar": {
             "outlinewidth": 0,
             "ticks": ""
            },
            "colorscale": [
             [
              0,
              "#0d0887"
             ],
             [
              0.1111111111111111,
              "#46039f"
             ],
             [
              0.2222222222222222,
              "#7201a8"
             ],
             [
              0.3333333333333333,
              "#9c179e"
             ],
             [
              0.4444444444444444,
              "#bd3786"
             ],
             [
              0.5555555555555556,
              "#d8576b"
             ],
             [
              0.6666666666666666,
              "#ed7953"
             ],
             [
              0.7777777777777778,
              "#fb9f3a"
             ],
             [
              0.8888888888888888,
              "#fdca26"
             ],
             [
              1,
              "#f0f921"
             ]
            ],
            "type": "contour"
           }
          ],
          "contourcarpet": [
           {
            "colorbar": {
             "outlinewidth": 0,
             "ticks": ""
            },
            "type": "contourcarpet"
           }
          ],
          "heatmap": [
           {
            "colorbar": {
             "outlinewidth": 0,
             "ticks": ""
            },
            "colorscale": [
             [
              0,
              "#0d0887"
             ],
             [
              0.1111111111111111,
              "#46039f"
             ],
             [
              0.2222222222222222,
              "#7201a8"
             ],
             [
              0.3333333333333333,
              "#9c179e"
             ],
             [
              0.4444444444444444,
              "#bd3786"
             ],
             [
              0.5555555555555556,
              "#d8576b"
             ],
             [
              0.6666666666666666,
              "#ed7953"
             ],
             [
              0.7777777777777778,
              "#fb9f3a"
             ],
             [
              0.8888888888888888,
              "#fdca26"
             ],
             [
              1,
              "#f0f921"
             ]
            ],
            "type": "heatmap"
           }
          ],
          "heatmapgl": [
           {
            "colorbar": {
             "outlinewidth": 0,
             "ticks": ""
            },
            "colorscale": [
             [
              0,
              "#0d0887"
             ],
             [
              0.1111111111111111,
              "#46039f"
             ],
             [
              0.2222222222222222,
              "#7201a8"
             ],
             [
              0.3333333333333333,
              "#9c179e"
             ],
             [
              0.4444444444444444,
              "#bd3786"
             ],
             [
              0.5555555555555556,
              "#d8576b"
             ],
             [
              0.6666666666666666,
              "#ed7953"
             ],
             [
              0.7777777777777778,
              "#fb9f3a"
             ],
             [
              0.8888888888888888,
              "#fdca26"
             ],
             [
              1,
              "#f0f921"
             ]
            ],
            "type": "heatmapgl"
           }
          ],
          "histogram": [
           {
            "marker": {
             "pattern": {
              "fillmode": "overlay",
              "size": 10,
              "solidity": 0.2
             }
            },
            "type": "histogram"
           }
          ],
          "histogram2d": [
           {
            "colorbar": {
             "outlinewidth": 0,
             "ticks": ""
            },
            "colorscale": [
             [
              0,
              "#0d0887"
             ],
             [
              0.1111111111111111,
              "#46039f"
             ],
             [
              0.2222222222222222,
              "#7201a8"
             ],
             [
              0.3333333333333333,
              "#9c179e"
             ],
             [
              0.4444444444444444,
              "#bd3786"
             ],
             [
              0.5555555555555556,
              "#d8576b"
             ],
             [
              0.6666666666666666,
              "#ed7953"
             ],
             [
              0.7777777777777778,
              "#fb9f3a"
             ],
             [
              0.8888888888888888,
              "#fdca26"
             ],
             [
              1,
              "#f0f921"
             ]
            ],
            "type": "histogram2d"
           }
          ],
          "histogram2dcontour": [
           {
            "colorbar": {
             "outlinewidth": 0,
             "ticks": ""
            },
            "colorscale": [
             [
              0,
              "#0d0887"
             ],
             [
              0.1111111111111111,
              "#46039f"
             ],
             [
              0.2222222222222222,
              "#7201a8"
             ],
             [
              0.3333333333333333,
              "#9c179e"
             ],
             [
              0.4444444444444444,
              "#bd3786"
             ],
             [
              0.5555555555555556,
              "#d8576b"
             ],
             [
              0.6666666666666666,
              "#ed7953"
             ],
             [
              0.7777777777777778,
              "#fb9f3a"
             ],
             [
              0.8888888888888888,
              "#fdca26"
             ],
             [
              1,
              "#f0f921"
             ]
            ],
            "type": "histogram2dcontour"
           }
          ],
          "mesh3d": [
           {
            "colorbar": {
             "outlinewidth": 0,
             "ticks": ""
            },
            "type": "mesh3d"
           }
          ],
          "parcoords": [
           {
            "line": {
             "colorbar": {
              "outlinewidth": 0,
              "ticks": ""
             }
            },
            "type": "parcoords"
           }
          ],
          "pie": [
           {
            "automargin": true,
            "type": "pie"
           }
          ],
          "scatter": [
           {
            "fillpattern": {
             "fillmode": "overlay",
             "size": 10,
             "solidity": 0.2
            },
            "type": "scatter"
           }
          ],
          "scatter3d": [
           {
            "line": {
             "colorbar": {
              "outlinewidth": 0,
              "ticks": ""
             }
            },
            "marker": {
             "colorbar": {
              "outlinewidth": 0,
              "ticks": ""
             }
            },
            "type": "scatter3d"
           }
          ],
          "scattercarpet": [
           {
            "marker": {
             "colorbar": {
              "outlinewidth": 0,
              "ticks": ""
             }
            },
            "type": "scattercarpet"
           }
          ],
          "scattergeo": [
           {
            "marker": {
             "colorbar": {
              "outlinewidth": 0,
              "ticks": ""
             }
            },
            "type": "scattergeo"
           }
          ],
          "scattergl": [
           {
            "marker": {
             "colorbar": {
              "outlinewidth": 0,
              "ticks": ""
             }
            },
            "type": "scattergl"
           }
          ],
          "scattermapbox": [
           {
            "marker": {
             "colorbar": {
              "outlinewidth": 0,
              "ticks": ""
             }
            },
            "type": "scattermapbox"
           }
          ],
          "scatterpolar": [
           {
            "marker": {
             "colorbar": {
              "outlinewidth": 0,
              "ticks": ""
             }
            },
            "type": "scatterpolar"
           }
          ],
          "scatterpolargl": [
           {
            "marker": {
             "colorbar": {
              "outlinewidth": 0,
              "ticks": ""
             }
            },
            "type": "scatterpolargl"
           }
          ],
          "scatterternary": [
           {
            "marker": {
             "colorbar": {
              "outlinewidth": 0,
              "ticks": ""
             }
            },
            "type": "scatterternary"
           }
          ],
          "surface": [
           {
            "colorbar": {
             "outlinewidth": 0,
             "ticks": ""
            },
            "colorscale": [
             [
              0,
              "#0d0887"
             ],
             [
              0.1111111111111111,
              "#46039f"
             ],
             [
              0.2222222222222222,
              "#7201a8"
             ],
             [
              0.3333333333333333,
              "#9c179e"
             ],
             [
              0.4444444444444444,
              "#bd3786"
             ],
             [
              0.5555555555555556,
              "#d8576b"
             ],
             [
              0.6666666666666666,
              "#ed7953"
             ],
             [
              0.7777777777777778,
              "#fb9f3a"
             ],
             [
              0.8888888888888888,
              "#fdca26"
             ],
             [
              1,
              "#f0f921"
             ]
            ],
            "type": "surface"
           }
          ],
          "table": [
           {
            "cells": {
             "fill": {
              "color": "#EBF0F8"
             },
             "line": {
              "color": "white"
             }
            },
            "header": {
             "fill": {
              "color": "#C8D4E3"
             },
             "line": {
              "color": "white"
             }
            },
            "type": "table"
           }
          ]
         },
         "layout": {
          "annotationdefaults": {
           "arrowcolor": "#2a3f5f",
           "arrowhead": 0,
           "arrowwidth": 1
          },
          "autotypenumbers": "strict",
          "coloraxis": {
           "colorbar": {
            "outlinewidth": 0,
            "ticks": ""
           }
          },
          "colorscale": {
           "diverging": [
            [
             0,
             "#8e0152"
            ],
            [
             0.1,
             "#c51b7d"
            ],
            [
             0.2,
             "#de77ae"
            ],
            [
             0.3,
             "#f1b6da"
            ],
            [
             0.4,
             "#fde0ef"
            ],
            [
             0.5,
             "#f7f7f7"
            ],
            [
             0.6,
             "#e6f5d0"
            ],
            [
             0.7,
             "#b8e186"
            ],
            [
             0.8,
             "#7fbc41"
            ],
            [
             0.9,
             "#4d9221"
            ],
            [
             1,
             "#276419"
            ]
           ],
           "sequential": [
            [
             0,
             "#0d0887"
            ],
            [
             0.1111111111111111,
             "#46039f"
            ],
            [
             0.2222222222222222,
             "#7201a8"
            ],
            [
             0.3333333333333333,
             "#9c179e"
            ],
            [
             0.4444444444444444,
             "#bd3786"
            ],
            [
             0.5555555555555556,
             "#d8576b"
            ],
            [
             0.6666666666666666,
             "#ed7953"
            ],
            [
             0.7777777777777778,
             "#fb9f3a"
            ],
            [
             0.8888888888888888,
             "#fdca26"
            ],
            [
             1,
             "#f0f921"
            ]
           ],
           "sequentialminus": [
            [
             0,
             "#0d0887"
            ],
            [
             0.1111111111111111,
             "#46039f"
            ],
            [
             0.2222222222222222,
             "#7201a8"
            ],
            [
             0.3333333333333333,
             "#9c179e"
            ],
            [
             0.4444444444444444,
             "#bd3786"
            ],
            [
             0.5555555555555556,
             "#d8576b"
            ],
            [
             0.6666666666666666,
             "#ed7953"
            ],
            [
             0.7777777777777778,
             "#fb9f3a"
            ],
            [
             0.8888888888888888,
             "#fdca26"
            ],
            [
             1,
             "#f0f921"
            ]
           ]
          },
          "colorway": [
           "#636efa",
           "#EF553B",
           "#00cc96",
           "#ab63fa",
           "#FFA15A",
           "#19d3f3",
           "#FF6692",
           "#B6E880",
           "#FF97FF",
           "#FECB52"
          ],
          "font": {
           "color": "#2a3f5f"
          },
          "geo": {
           "bgcolor": "white",
           "lakecolor": "white",
           "landcolor": "#E5ECF6",
           "showlakes": true,
           "showland": true,
           "subunitcolor": "white"
          },
          "hoverlabel": {
           "align": "left"
          },
          "hovermode": "closest",
          "mapbox": {
           "style": "light"
          },
          "paper_bgcolor": "white",
          "plot_bgcolor": "#E5ECF6",
          "polar": {
           "angularaxis": {
            "gridcolor": "white",
            "linecolor": "white",
            "ticks": ""
           },
           "bgcolor": "#E5ECF6",
           "radialaxis": {
            "gridcolor": "white",
            "linecolor": "white",
            "ticks": ""
           }
          },
          "scene": {
           "xaxis": {
            "backgroundcolor": "#E5ECF6",
            "gridcolor": "white",
            "gridwidth": 2,
            "linecolor": "white",
            "showbackground": true,
            "ticks": "",
            "zerolinecolor": "white"
           },
           "yaxis": {
            "backgroundcolor": "#E5ECF6",
            "gridcolor": "white",
            "gridwidth": 2,
            "linecolor": "white",
            "showbackground": true,
            "ticks": "",
            "zerolinecolor": "white"
           },
           "zaxis": {
            "backgroundcolor": "#E5ECF6",
            "gridcolor": "white",
            "gridwidth": 2,
            "linecolor": "white",
            "showbackground": true,
            "ticks": "",
            "zerolinecolor": "white"
           }
          },
          "shapedefaults": {
           "line": {
            "color": "#2a3f5f"
           }
          },
          "ternary": {
           "aaxis": {
            "gridcolor": "white",
            "linecolor": "white",
            "ticks": ""
           },
           "baxis": {
            "gridcolor": "white",
            "linecolor": "white",
            "ticks": ""
           },
           "bgcolor": "#E5ECF6",
           "caxis": {
            "gridcolor": "white",
            "linecolor": "white",
            "ticks": ""
           }
          },
          "title": {
           "x": 0.05
          },
          "xaxis": {
           "automargin": true,
           "gridcolor": "white",
           "linecolor": "white",
           "ticks": "",
           "title": {
            "standoff": 15
           },
           "zerolinecolor": "white",
           "zerolinewidth": 2
          },
          "yaxis": {
           "automargin": true,
           "gridcolor": "white",
           "linecolor": "white",
           "ticks": "",
           "title": {
            "standoff": 15
           },
           "zerolinecolor": "white",
           "zerolinewidth": 2
          }
         }
        },
        "title": {
         "text": "texture term usage rate per saliency bin for BLIP-2, name"
        },
        "width": 1000,
        "xaxis": {
         "tickmode": "array",
         "ticktext": [
          "0-20",
          "21-40",
          "41-60",
          "61-80",
          "81-100"
         ],
         "tickvals": [
          0,
          1,
          2,
          3,
          4
         ],
         "title": {
          "text": "Texture saliency in %"
         }
        },
        "yaxis": {
         "range": [
          0,
          1
         ],
         "title": {
          "text": "Rate of using texture terms"
         }
        }
       }
      }
     },
     "metadata": {},
     "output_type": "display_data"
    },
    {
     "data": {
      "application/vnd.plotly.v1+json": {
       "config": {
        "plotlyServerURL": "https://plot.ly"
       },
       "data": [
        {
         "name": "greedy, real",
         "type": "bar",
         "x": [
          "(-0.063, 12.6]",
          "(12.6, 25.2]",
          "(25.2, 37.8]",
          "(37.8, 50.4]",
          "(50.4, 63.0]"
         ],
         "y": [
          0.5,
          0.4,
          0.3333333333333333,
          0.5,
          0.6666666666666666
         ]
        },
        {
         "name": "nucleus, real",
         "type": "bar",
         "x": [
          "(-0.063, 12.6]",
          "(12.6, 25.2]",
          "(25.2, 37.8]",
          "(37.8, 50.4]",
          "(50.4, 63.0]"
         ],
         "y": [
          0.23529411764705882,
          0.2,
          0.3333333333333333,
          0.5,
          0.3333333333333333
         ]
        },
        {
         "name": "beam, real",
         "type": "bar",
         "x": [
          "(-0.063, 12.6]",
          "(12.6, 25.2]",
          "(25.2, 37.8]",
          "(37.8, 50.4]",
          "(50.4, 63.0]"
         ],
         "y": [
          0.5294117647058824,
          0.35,
          0.3333333333333333,
          0.5,
          0.6666666666666666
         ]
        },
        {
         "name": "greedy, max_new_tokens=5, real",
         "type": "bar",
         "x": [
          "(-0.063, 12.6]",
          "(12.6, 25.2]",
          "(25.2, 37.8]",
          "(37.8, 50.4]",
          "(50.4, 63.0]"
         ],
         "y": [
          0.29411764705882354,
          0.35,
          0.3333333333333333,
          0.5,
          0.6666666666666666
         ]
        },
        {
         "name": "greedy, max_new_tokens=10, real",
         "type": "bar",
         "x": [
          "(-0.063, 12.6]",
          "(12.6, 25.2]",
          "(25.2, 37.8]",
          "(37.8, 50.4]",
          "(50.4, 63.0]"
         ],
         "y": [
          0.5,
          0.4,
          0.3333333333333333,
          0.5,
          0.6666666666666666
         ]
        },
        {
         "name": "greedy, max_new_tokens=20, real",
         "type": "bar",
         "x": [
          "(-0.063, 12.6]",
          "(12.6, 25.2]",
          "(25.2, 37.8]",
          "(37.8, 50.4]",
          "(50.4, 63.0]"
         ],
         "y": [
          0.5,
          0.4,
          0.3333333333333333,
          0.5,
          0.6666666666666666
         ]
        },
        {
         "name": "nucleus, top_p=0.1, real",
         "type": "bar",
         "x": [
          "(-0.063, 12.6]",
          "(12.6, 25.2]",
          "(25.2, 37.8]",
          "(37.8, 50.4]",
          "(50.4, 63.0]"
         ],
         "y": [
          0.4411764705882353,
          0.45,
          0.3333333333333333,
          0.5,
          0.6666666666666666
         ]
        },
        {
         "name": "nucleus, top_p=0.5, real",
         "type": "bar",
         "x": [
          "(-0.063, 12.6]",
          "(12.6, 25.2]",
          "(25.2, 37.8]",
          "(37.8, 50.4]",
          "(50.4, 63.0]"
         ],
         "y": [
          0.35294117647058826,
          0.25,
          0.3333333333333333,
          0.75,
          0.6666666666666666
         ]
        },
        {
         "name": "nucleus, top_p=0.9, real",
         "type": "bar",
         "x": [
          "(-0.063, 12.6]",
          "(12.6, 25.2]",
          "(25.2, 37.8]",
          "(37.8, 50.4]",
          "(50.4, 63.0]"
         ],
         "y": [
          0.2647058823529412,
          0.2,
          0.3333333333333333,
          0.5,
          0.3333333333333333
         ]
        },
        {
         "name": "beam, num_beams=1, real",
         "type": "bar",
         "x": [
          "(-0.063, 12.6]",
          "(12.6, 25.2]",
          "(25.2, 37.8]",
          "(37.8, 50.4]",
          "(50.4, 63.0]"
         ],
         "y": [
          0.5,
          0.4,
          0.3333333333333333,
          0.5,
          0.6666666666666666
         ]
        },
        {
         "name": "beam, num_beams=5, real",
         "type": "bar",
         "x": [
          "(-0.063, 12.6]",
          "(12.6, 25.2]",
          "(25.2, 37.8]",
          "(37.8, 50.4]",
          "(50.4, 63.0]"
         ],
         "y": [
          0.5294117647058824,
          0.35,
          0.3333333333333333,
          0.5,
          0.6666666666666666
         ]
        },
        {
         "name": "beam, num_beams=10, real",
         "type": "bar",
         "x": [
          "(-0.063, 12.6]",
          "(12.6, 25.2]",
          "(25.2, 37.8]",
          "(37.8, 50.4]",
          "(50.4, 63.0]"
         ],
         "y": [
          0.6176470588235294,
          0.25,
          0.3333333333333333,
          0.5,
          0.6666666666666666
         ]
        }
       ],
       "layout": {
        "barmode": "group",
        "template": {
         "data": {
          "bar": [
           {
            "error_x": {
             "color": "#2a3f5f"
            },
            "error_y": {
             "color": "#2a3f5f"
            },
            "marker": {
             "line": {
              "color": "#E5ECF6",
              "width": 0.5
             },
             "pattern": {
              "fillmode": "overlay",
              "size": 10,
              "solidity": 0.2
             }
            },
            "type": "bar"
           }
          ],
          "barpolar": [
           {
            "marker": {
             "line": {
              "color": "#E5ECF6",
              "width": 0.5
             },
             "pattern": {
              "fillmode": "overlay",
              "size": 10,
              "solidity": 0.2
             }
            },
            "type": "barpolar"
           }
          ],
          "carpet": [
           {
            "aaxis": {
             "endlinecolor": "#2a3f5f",
             "gridcolor": "white",
             "linecolor": "white",
             "minorgridcolor": "white",
             "startlinecolor": "#2a3f5f"
            },
            "baxis": {
             "endlinecolor": "#2a3f5f",
             "gridcolor": "white",
             "linecolor": "white",
             "minorgridcolor": "white",
             "startlinecolor": "#2a3f5f"
            },
            "type": "carpet"
           }
          ],
          "choropleth": [
           {
            "colorbar": {
             "outlinewidth": 0,
             "ticks": ""
            },
            "type": "choropleth"
           }
          ],
          "contour": [
           {
            "colorbar": {
             "outlinewidth": 0,
             "ticks": ""
            },
            "colorscale": [
             [
              0,
              "#0d0887"
             ],
             [
              0.1111111111111111,
              "#46039f"
             ],
             [
              0.2222222222222222,
              "#7201a8"
             ],
             [
              0.3333333333333333,
              "#9c179e"
             ],
             [
              0.4444444444444444,
              "#bd3786"
             ],
             [
              0.5555555555555556,
              "#d8576b"
             ],
             [
              0.6666666666666666,
              "#ed7953"
             ],
             [
              0.7777777777777778,
              "#fb9f3a"
             ],
             [
              0.8888888888888888,
              "#fdca26"
             ],
             [
              1,
              "#f0f921"
             ]
            ],
            "type": "contour"
           }
          ],
          "contourcarpet": [
           {
            "colorbar": {
             "outlinewidth": 0,
             "ticks": ""
            },
            "type": "contourcarpet"
           }
          ],
          "heatmap": [
           {
            "colorbar": {
             "outlinewidth": 0,
             "ticks": ""
            },
            "colorscale": [
             [
              0,
              "#0d0887"
             ],
             [
              0.1111111111111111,
              "#46039f"
             ],
             [
              0.2222222222222222,
              "#7201a8"
             ],
             [
              0.3333333333333333,
              "#9c179e"
             ],
             [
              0.4444444444444444,
              "#bd3786"
             ],
             [
              0.5555555555555556,
              "#d8576b"
             ],
             [
              0.6666666666666666,
              "#ed7953"
             ],
             [
              0.7777777777777778,
              "#fb9f3a"
             ],
             [
              0.8888888888888888,
              "#fdca26"
             ],
             [
              1,
              "#f0f921"
             ]
            ],
            "type": "heatmap"
           }
          ],
          "heatmapgl": [
           {
            "colorbar": {
             "outlinewidth": 0,
             "ticks": ""
            },
            "colorscale": [
             [
              0,
              "#0d0887"
             ],
             [
              0.1111111111111111,
              "#46039f"
             ],
             [
              0.2222222222222222,
              "#7201a8"
             ],
             [
              0.3333333333333333,
              "#9c179e"
             ],
             [
              0.4444444444444444,
              "#bd3786"
             ],
             [
              0.5555555555555556,
              "#d8576b"
             ],
             [
              0.6666666666666666,
              "#ed7953"
             ],
             [
              0.7777777777777778,
              "#fb9f3a"
             ],
             [
              0.8888888888888888,
              "#fdca26"
             ],
             [
              1,
              "#f0f921"
             ]
            ],
            "type": "heatmapgl"
           }
          ],
          "histogram": [
           {
            "marker": {
             "pattern": {
              "fillmode": "overlay",
              "size": 10,
              "solidity": 0.2
             }
            },
            "type": "histogram"
           }
          ],
          "histogram2d": [
           {
            "colorbar": {
             "outlinewidth": 0,
             "ticks": ""
            },
            "colorscale": [
             [
              0,
              "#0d0887"
             ],
             [
              0.1111111111111111,
              "#46039f"
             ],
             [
              0.2222222222222222,
              "#7201a8"
             ],
             [
              0.3333333333333333,
              "#9c179e"
             ],
             [
              0.4444444444444444,
              "#bd3786"
             ],
             [
              0.5555555555555556,
              "#d8576b"
             ],
             [
              0.6666666666666666,
              "#ed7953"
             ],
             [
              0.7777777777777778,
              "#fb9f3a"
             ],
             [
              0.8888888888888888,
              "#fdca26"
             ],
             [
              1,
              "#f0f921"
             ]
            ],
            "type": "histogram2d"
           }
          ],
          "histogram2dcontour": [
           {
            "colorbar": {
             "outlinewidth": 0,
             "ticks": ""
            },
            "colorscale": [
             [
              0,
              "#0d0887"
             ],
             [
              0.1111111111111111,
              "#46039f"
             ],
             [
              0.2222222222222222,
              "#7201a8"
             ],
             [
              0.3333333333333333,
              "#9c179e"
             ],
             [
              0.4444444444444444,
              "#bd3786"
             ],
             [
              0.5555555555555556,
              "#d8576b"
             ],
             [
              0.6666666666666666,
              "#ed7953"
             ],
             [
              0.7777777777777778,
              "#fb9f3a"
             ],
             [
              0.8888888888888888,
              "#fdca26"
             ],
             [
              1,
              "#f0f921"
             ]
            ],
            "type": "histogram2dcontour"
           }
          ],
          "mesh3d": [
           {
            "colorbar": {
             "outlinewidth": 0,
             "ticks": ""
            },
            "type": "mesh3d"
           }
          ],
          "parcoords": [
           {
            "line": {
             "colorbar": {
              "outlinewidth": 0,
              "ticks": ""
             }
            },
            "type": "parcoords"
           }
          ],
          "pie": [
           {
            "automargin": true,
            "type": "pie"
           }
          ],
          "scatter": [
           {
            "fillpattern": {
             "fillmode": "overlay",
             "size": 10,
             "solidity": 0.2
            },
            "type": "scatter"
           }
          ],
          "scatter3d": [
           {
            "line": {
             "colorbar": {
              "outlinewidth": 0,
              "ticks": ""
             }
            },
            "marker": {
             "colorbar": {
              "outlinewidth": 0,
              "ticks": ""
             }
            },
            "type": "scatter3d"
           }
          ],
          "scattercarpet": [
           {
            "marker": {
             "colorbar": {
              "outlinewidth": 0,
              "ticks": ""
             }
            },
            "type": "scattercarpet"
           }
          ],
          "scattergeo": [
           {
            "marker": {
             "colorbar": {
              "outlinewidth": 0,
              "ticks": ""
             }
            },
            "type": "scattergeo"
           }
          ],
          "scattergl": [
           {
            "marker": {
             "colorbar": {
              "outlinewidth": 0,
              "ticks": ""
             }
            },
            "type": "scattergl"
           }
          ],
          "scattermapbox": [
           {
            "marker": {
             "colorbar": {
              "outlinewidth": 0,
              "ticks": ""
             }
            },
            "type": "scattermapbox"
           }
          ],
          "scatterpolar": [
           {
            "marker": {
             "colorbar": {
              "outlinewidth": 0,
              "ticks": ""
             }
            },
            "type": "scatterpolar"
           }
          ],
          "scatterpolargl": [
           {
            "marker": {
             "colorbar": {
              "outlinewidth": 0,
              "ticks": ""
             }
            },
            "type": "scatterpolargl"
           }
          ],
          "scatterternary": [
           {
            "marker": {
             "colorbar": {
              "outlinewidth": 0,
              "ticks": ""
             }
            },
            "type": "scatterternary"
           }
          ],
          "surface": [
           {
            "colorbar": {
             "outlinewidth": 0,
             "ticks": ""
            },
            "colorscale": [
             [
              0,
              "#0d0887"
             ],
             [
              0.1111111111111111,
              "#46039f"
             ],
             [
              0.2222222222222222,
              "#7201a8"
             ],
             [
              0.3333333333333333,
              "#9c179e"
             ],
             [
              0.4444444444444444,
              "#bd3786"
             ],
             [
              0.5555555555555556,
              "#d8576b"
             ],
             [
              0.6666666666666666,
              "#ed7953"
             ],
             [
              0.7777777777777778,
              "#fb9f3a"
             ],
             [
              0.8888888888888888,
              "#fdca26"
             ],
             [
              1,
              "#f0f921"
             ]
            ],
            "type": "surface"
           }
          ],
          "table": [
           {
            "cells": {
             "fill": {
              "color": "#EBF0F8"
             },
             "line": {
              "color": "white"
             }
            },
            "header": {
             "fill": {
              "color": "#C8D4E3"
             },
             "line": {
              "color": "white"
             }
            },
            "type": "table"
           }
          ]
         },
         "layout": {
          "annotationdefaults": {
           "arrowcolor": "#2a3f5f",
           "arrowhead": 0,
           "arrowwidth": 1
          },
          "autotypenumbers": "strict",
          "coloraxis": {
           "colorbar": {
            "outlinewidth": 0,
            "ticks": ""
           }
          },
          "colorscale": {
           "diverging": [
            [
             0,
             "#8e0152"
            ],
            [
             0.1,
             "#c51b7d"
            ],
            [
             0.2,
             "#de77ae"
            ],
            [
             0.3,
             "#f1b6da"
            ],
            [
             0.4,
             "#fde0ef"
            ],
            [
             0.5,
             "#f7f7f7"
            ],
            [
             0.6,
             "#e6f5d0"
            ],
            [
             0.7,
             "#b8e186"
            ],
            [
             0.8,
             "#7fbc41"
            ],
            [
             0.9,
             "#4d9221"
            ],
            [
             1,
             "#276419"
            ]
           ],
           "sequential": [
            [
             0,
             "#0d0887"
            ],
            [
             0.1111111111111111,
             "#46039f"
            ],
            [
             0.2222222222222222,
             "#7201a8"
            ],
            [
             0.3333333333333333,
             "#9c179e"
            ],
            [
             0.4444444444444444,
             "#bd3786"
            ],
            [
             0.5555555555555556,
             "#d8576b"
            ],
            [
             0.6666666666666666,
             "#ed7953"
            ],
            [
             0.7777777777777778,
             "#fb9f3a"
            ],
            [
             0.8888888888888888,
             "#fdca26"
            ],
            [
             1,
             "#f0f921"
            ]
           ],
           "sequentialminus": [
            [
             0,
             "#0d0887"
            ],
            [
             0.1111111111111111,
             "#46039f"
            ],
            [
             0.2222222222222222,
             "#7201a8"
            ],
            [
             0.3333333333333333,
             "#9c179e"
            ],
            [
             0.4444444444444444,
             "#bd3786"
            ],
            [
             0.5555555555555556,
             "#d8576b"
            ],
            [
             0.6666666666666666,
             "#ed7953"
            ],
            [
             0.7777777777777778,
             "#fb9f3a"
            ],
            [
             0.8888888888888888,
             "#fdca26"
            ],
            [
             1,
             "#f0f921"
            ]
           ]
          },
          "colorway": [
           "#636efa",
           "#EF553B",
           "#00cc96",
           "#ab63fa",
           "#FFA15A",
           "#19d3f3",
           "#FF6692",
           "#B6E880",
           "#FF97FF",
           "#FECB52"
          ],
          "font": {
           "color": "#2a3f5f"
          },
          "geo": {
           "bgcolor": "white",
           "lakecolor": "white",
           "landcolor": "#E5ECF6",
           "showlakes": true,
           "showland": true,
           "subunitcolor": "white"
          },
          "hoverlabel": {
           "align": "left"
          },
          "hovermode": "closest",
          "mapbox": {
           "style": "light"
          },
          "paper_bgcolor": "white",
          "plot_bgcolor": "#E5ECF6",
          "polar": {
           "angularaxis": {
            "gridcolor": "white",
            "linecolor": "white",
            "ticks": ""
           },
           "bgcolor": "#E5ECF6",
           "radialaxis": {
            "gridcolor": "white",
            "linecolor": "white",
            "ticks": ""
           }
          },
          "scene": {
           "xaxis": {
            "backgroundcolor": "#E5ECF6",
            "gridcolor": "white",
            "gridwidth": 2,
            "linecolor": "white",
            "showbackground": true,
            "ticks": "",
            "zerolinecolor": "white"
           },
           "yaxis": {
            "backgroundcolor": "#E5ECF6",
            "gridcolor": "white",
            "gridwidth": 2,
            "linecolor": "white",
            "showbackground": true,
            "ticks": "",
            "zerolinecolor": "white"
           },
           "zaxis": {
            "backgroundcolor": "#E5ECF6",
            "gridcolor": "white",
            "gridwidth": 2,
            "linecolor": "white",
            "showbackground": true,
            "ticks": "",
            "zerolinecolor": "white"
           }
          },
          "shapedefaults": {
           "line": {
            "color": "#2a3f5f"
           }
          },
          "ternary": {
           "aaxis": {
            "gridcolor": "white",
            "linecolor": "white",
            "ticks": ""
           },
           "baxis": {
            "gridcolor": "white",
            "linecolor": "white",
            "ticks": ""
           },
           "bgcolor": "#E5ECF6",
           "caxis": {
            "gridcolor": "white",
            "linecolor": "white",
            "ticks": ""
           }
          },
          "title": {
           "x": 0.05
          },
          "xaxis": {
           "automargin": true,
           "gridcolor": "white",
           "linecolor": "white",
           "ticks": "",
           "title": {
            "standoff": 15
           },
           "zerolinecolor": "white",
           "zerolinewidth": 2
          },
          "yaxis": {
           "automargin": true,
           "gridcolor": "white",
           "linecolor": "white",
           "ticks": "",
           "title": {
            "standoff": 15
           },
           "zerolinecolor": "white",
           "zerolinewidth": 2
          }
         }
        },
        "title": {
         "text": "texture term usage rate per saliency bin for BLIP-2, real"
        },
        "width": 1000,
        "xaxis": {
         "tickmode": "array",
         "ticktext": [
          "0-20",
          "21-40",
          "41-60",
          "61-80",
          "81-100"
         ],
         "tickvals": [
          0,
          1,
          2,
          3,
          4
         ],
         "title": {
          "text": "Texture saliency in %"
         }
        },
        "yaxis": {
         "range": [
          0,
          1
         ],
         "title": {
          "text": "Rate of using texture terms"
         }
        }
       }
      }
     },
     "metadata": {},
     "output_type": "display_data"
    }
   ],
   "source": [
    "import visualizations\n",
    "import importlib\n",
    "importlib.reload(visualizations)\n",
    "from visualizations import visualize_saliency\n",
    "\n",
    "figs = visualize_saliency(data, 'texture')\n",
    "\n",
    "for fig in figs:\n",
    "    fig.show()"
   ]
  },
  {
   "cell_type": "code",
   "execution_count": 60,
   "metadata": {},
   "outputs": [
    {
     "data": {
      "application/vnd.plotly.v1+json": {
       "config": {
        "plotlyServerURL": "https://plot.ly"
       },
       "data": [
        {
         "name": "Length Greedy",
         "type": "bar",
         "x": [
          2001,
          2002,
          2003,
          2004,
          2005,
          2006,
          2007,
          2008,
          2009,
          2010,
          2011,
          2012,
          2013,
          2014,
          2015,
          2016,
          2017,
          2018,
          2019,
          2020,
          2021,
          2022,
          2023,
          2024,
          2025,
          2026,
          2027,
          2028,
          2029,
          2030,
          2031,
          2032,
          2033,
          2034,
          2035,
          2036,
          2037,
          2038,
          2039,
          2040,
          2041,
          2042,
          2043,
          2044,
          2045,
          2046,
          2047,
          2048,
          2049,
          2050,
          2051,
          2052,
          2053,
          2054,
          2055,
          2056,
          2057,
          2058,
          2059,
          2060,
          2061,
          2062,
          2063,
          2064
         ],
         "y": [
          10,
          8,
          10,
          8,
          7,
          10,
          7,
          7,
          9,
          8,
          9,
          7,
          9,
          9,
          10,
          9,
          9,
          7,
          10,
          9,
          9,
          8,
          11,
          15,
          9,
          10,
          9,
          9,
          10,
          9,
          7,
          11,
          9,
          10,
          10,
          10,
          9,
          10,
          9,
          8,
          8,
          7,
          8,
          9,
          8,
          12,
          10,
          10,
          10,
          8,
          10,
          10,
          10,
          11,
          7,
          12,
          11,
          6,
          10,
          8,
          8,
          8,
          8,
          7
         ]
        },
        {
         "name": "Length Nucleus",
         "type": "bar",
         "x": [
          2001,
          2002,
          2003,
          2004,
          2005,
          2006,
          2007,
          2008,
          2009,
          2010,
          2011,
          2012,
          2013,
          2014,
          2015,
          2016,
          2017,
          2018,
          2019,
          2020,
          2021,
          2022,
          2023,
          2024,
          2025,
          2026,
          2027,
          2028,
          2029,
          2030,
          2031,
          2032,
          2033,
          2034,
          2035,
          2036,
          2037,
          2038,
          2039,
          2040,
          2041,
          2042,
          2043,
          2044,
          2045,
          2046,
          2047,
          2048,
          2049,
          2050,
          2051,
          2052,
          2053,
          2054,
          2055,
          2056,
          2057,
          2058,
          2059,
          2060,
          2061,
          2062,
          2063,
          2064
         ],
         "y": [
          5,
          8,
          11,
          5,
          8,
          11,
          10,
          8,
          13,
          12,
          9,
          7,
          7,
          4,
          9,
          10,
          9,
          12,
          13,
          6,
          14,
          9,
          8,
          5,
          9,
          5,
          9,
          8,
          10,
          11,
          9,
          11,
          8,
          12,
          10,
          17,
          9,
          15,
          10,
          10,
          13,
          7,
          8,
          11,
          9,
          12,
          7,
          10,
          12,
          4,
          4,
          9,
          9,
          4,
          8,
          6,
          9,
          8,
          8,
          12,
          10,
          10,
          3,
          8
         ]
        },
        {
         "name": "Length Beam",
         "type": "bar",
         "x": [
          2001,
          2002,
          2003,
          2004,
          2005,
          2006,
          2007,
          2008,
          2009,
          2010,
          2011,
          2012,
          2013,
          2014,
          2015,
          2016,
          2017,
          2018,
          2019,
          2020,
          2021,
          2022,
          2023,
          2024,
          2025,
          2026,
          2027,
          2028,
          2029,
          2030,
          2031,
          2032,
          2033,
          2034,
          2035,
          2036,
          2037,
          2038,
          2039,
          2040,
          2041,
          2042,
          2043,
          2044,
          2045,
          2046,
          2047,
          2048,
          2049,
          2050,
          2051,
          2052,
          2053,
          2054,
          2055,
          2056,
          2057,
          2058,
          2059,
          2060,
          2061,
          2062,
          2063,
          2064
         ],
         "y": [
          10,
          8,
          10,
          12,
          14,
          10,
          11,
          12,
          8,
          9,
          9,
          11,
          10,
          9,
          9,
          10,
          12,
          11,
          10,
          9,
          11,
          11,
          12,
          12,
          10,
          11,
          8,
          10,
          12,
          9,
          7,
          9,
          8,
          10,
          9,
          12,
          9,
          9,
          10,
          8,
          10,
          10,
          9,
          10,
          9,
          11,
          10,
          10,
          7,
          9,
          10,
          8,
          11,
          11,
          7,
          12,
          11,
          10,
          11,
          14,
          9,
          8,
          12,
          8
         ]
        }
       ],
       "layout": {
        "bargap": 0.1,
        "bargroupgap": 0.3,
        "barmode": "group",
        "template": {
         "data": {
          "bar": [
           {
            "error_x": {
             "color": "#2a3f5f"
            },
            "error_y": {
             "color": "#2a3f5f"
            },
            "marker": {
             "line": {
              "color": "#E5ECF6",
              "width": 0.5
             },
             "pattern": {
              "fillmode": "overlay",
              "size": 10,
              "solidity": 0.2
             }
            },
            "type": "bar"
           }
          ],
          "barpolar": [
           {
            "marker": {
             "line": {
              "color": "#E5ECF6",
              "width": 0.5
             },
             "pattern": {
              "fillmode": "overlay",
              "size": 10,
              "solidity": 0.2
             }
            },
            "type": "barpolar"
           }
          ],
          "carpet": [
           {
            "aaxis": {
             "endlinecolor": "#2a3f5f",
             "gridcolor": "white",
             "linecolor": "white",
             "minorgridcolor": "white",
             "startlinecolor": "#2a3f5f"
            },
            "baxis": {
             "endlinecolor": "#2a3f5f",
             "gridcolor": "white",
             "linecolor": "white",
             "minorgridcolor": "white",
             "startlinecolor": "#2a3f5f"
            },
            "type": "carpet"
           }
          ],
          "choropleth": [
           {
            "colorbar": {
             "outlinewidth": 0,
             "ticks": ""
            },
            "type": "choropleth"
           }
          ],
          "contour": [
           {
            "colorbar": {
             "outlinewidth": 0,
             "ticks": ""
            },
            "colorscale": [
             [
              0,
              "#0d0887"
             ],
             [
              0.1111111111111111,
              "#46039f"
             ],
             [
              0.2222222222222222,
              "#7201a8"
             ],
             [
              0.3333333333333333,
              "#9c179e"
             ],
             [
              0.4444444444444444,
              "#bd3786"
             ],
             [
              0.5555555555555556,
              "#d8576b"
             ],
             [
              0.6666666666666666,
              "#ed7953"
             ],
             [
              0.7777777777777778,
              "#fb9f3a"
             ],
             [
              0.8888888888888888,
              "#fdca26"
             ],
             [
              1,
              "#f0f921"
             ]
            ],
            "type": "contour"
           }
          ],
          "contourcarpet": [
           {
            "colorbar": {
             "outlinewidth": 0,
             "ticks": ""
            },
            "type": "contourcarpet"
           }
          ],
          "heatmap": [
           {
            "colorbar": {
             "outlinewidth": 0,
             "ticks": ""
            },
            "colorscale": [
             [
              0,
              "#0d0887"
             ],
             [
              0.1111111111111111,
              "#46039f"
             ],
             [
              0.2222222222222222,
              "#7201a8"
             ],
             [
              0.3333333333333333,
              "#9c179e"
             ],
             [
              0.4444444444444444,
              "#bd3786"
             ],
             [
              0.5555555555555556,
              "#d8576b"
             ],
             [
              0.6666666666666666,
              "#ed7953"
             ],
             [
              0.7777777777777778,
              "#fb9f3a"
             ],
             [
              0.8888888888888888,
              "#fdca26"
             ],
             [
              1,
              "#f0f921"
             ]
            ],
            "type": "heatmap"
           }
          ],
          "heatmapgl": [
           {
            "colorbar": {
             "outlinewidth": 0,
             "ticks": ""
            },
            "colorscale": [
             [
              0,
              "#0d0887"
             ],
             [
              0.1111111111111111,
              "#46039f"
             ],
             [
              0.2222222222222222,
              "#7201a8"
             ],
             [
              0.3333333333333333,
              "#9c179e"
             ],
             [
              0.4444444444444444,
              "#bd3786"
             ],
             [
              0.5555555555555556,
              "#d8576b"
             ],
             [
              0.6666666666666666,
              "#ed7953"
             ],
             [
              0.7777777777777778,
              "#fb9f3a"
             ],
             [
              0.8888888888888888,
              "#fdca26"
             ],
             [
              1,
              "#f0f921"
             ]
            ],
            "type": "heatmapgl"
           }
          ],
          "histogram": [
           {
            "marker": {
             "pattern": {
              "fillmode": "overlay",
              "size": 10,
              "solidity": 0.2
             }
            },
            "type": "histogram"
           }
          ],
          "histogram2d": [
           {
            "colorbar": {
             "outlinewidth": 0,
             "ticks": ""
            },
            "colorscale": [
             [
              0,
              "#0d0887"
             ],
             [
              0.1111111111111111,
              "#46039f"
             ],
             [
              0.2222222222222222,
              "#7201a8"
             ],
             [
              0.3333333333333333,
              "#9c179e"
             ],
             [
              0.4444444444444444,
              "#bd3786"
             ],
             [
              0.5555555555555556,
              "#d8576b"
             ],
             [
              0.6666666666666666,
              "#ed7953"
             ],
             [
              0.7777777777777778,
              "#fb9f3a"
             ],
             [
              0.8888888888888888,
              "#fdca26"
             ],
             [
              1,
              "#f0f921"
             ]
            ],
            "type": "histogram2d"
           }
          ],
          "histogram2dcontour": [
           {
            "colorbar": {
             "outlinewidth": 0,
             "ticks": ""
            },
            "colorscale": [
             [
              0,
              "#0d0887"
             ],
             [
              0.1111111111111111,
              "#46039f"
             ],
             [
              0.2222222222222222,
              "#7201a8"
             ],
             [
              0.3333333333333333,
              "#9c179e"
             ],
             [
              0.4444444444444444,
              "#bd3786"
             ],
             [
              0.5555555555555556,
              "#d8576b"
             ],
             [
              0.6666666666666666,
              "#ed7953"
             ],
             [
              0.7777777777777778,
              "#fb9f3a"
             ],
             [
              0.8888888888888888,
              "#fdca26"
             ],
             [
              1,
              "#f0f921"
             ]
            ],
            "type": "histogram2dcontour"
           }
          ],
          "mesh3d": [
           {
            "colorbar": {
             "outlinewidth": 0,
             "ticks": ""
            },
            "type": "mesh3d"
           }
          ],
          "parcoords": [
           {
            "line": {
             "colorbar": {
              "outlinewidth": 0,
              "ticks": ""
             }
            },
            "type": "parcoords"
           }
          ],
          "pie": [
           {
            "automargin": true,
            "type": "pie"
           }
          ],
          "scatter": [
           {
            "fillpattern": {
             "fillmode": "overlay",
             "size": 10,
             "solidity": 0.2
            },
            "type": "scatter"
           }
          ],
          "scatter3d": [
           {
            "line": {
             "colorbar": {
              "outlinewidth": 0,
              "ticks": ""
             }
            },
            "marker": {
             "colorbar": {
              "outlinewidth": 0,
              "ticks": ""
             }
            },
            "type": "scatter3d"
           }
          ],
          "scattercarpet": [
           {
            "marker": {
             "colorbar": {
              "outlinewidth": 0,
              "ticks": ""
             }
            },
            "type": "scattercarpet"
           }
          ],
          "scattergeo": [
           {
            "marker": {
             "colorbar": {
              "outlinewidth": 0,
              "ticks": ""
             }
            },
            "type": "scattergeo"
           }
          ],
          "scattergl": [
           {
            "marker": {
             "colorbar": {
              "outlinewidth": 0,
              "ticks": ""
             }
            },
            "type": "scattergl"
           }
          ],
          "scattermapbox": [
           {
            "marker": {
             "colorbar": {
              "outlinewidth": 0,
              "ticks": ""
             }
            },
            "type": "scattermapbox"
           }
          ],
          "scatterpolar": [
           {
            "marker": {
             "colorbar": {
              "outlinewidth": 0,
              "ticks": ""
             }
            },
            "type": "scatterpolar"
           }
          ],
          "scatterpolargl": [
           {
            "marker": {
             "colorbar": {
              "outlinewidth": 0,
              "ticks": ""
             }
            },
            "type": "scatterpolargl"
           }
          ],
          "scatterternary": [
           {
            "marker": {
             "colorbar": {
              "outlinewidth": 0,
              "ticks": ""
             }
            },
            "type": "scatterternary"
           }
          ],
          "surface": [
           {
            "colorbar": {
             "outlinewidth": 0,
             "ticks": ""
            },
            "colorscale": [
             [
              0,
              "#0d0887"
             ],
             [
              0.1111111111111111,
              "#46039f"
             ],
             [
              0.2222222222222222,
              "#7201a8"
             ],
             [
              0.3333333333333333,
              "#9c179e"
             ],
             [
              0.4444444444444444,
              "#bd3786"
             ],
             [
              0.5555555555555556,
              "#d8576b"
             ],
             [
              0.6666666666666666,
              "#ed7953"
             ],
             [
              0.7777777777777778,
              "#fb9f3a"
             ],
             [
              0.8888888888888888,
              "#fdca26"
             ],
             [
              1,
              "#f0f921"
             ]
            ],
            "type": "surface"
           }
          ],
          "table": [
           {
            "cells": {
             "fill": {
              "color": "#EBF0F8"
             },
             "line": {
              "color": "white"
             }
            },
            "header": {
             "fill": {
              "color": "#C8D4E3"
             },
             "line": {
              "color": "white"
             }
            },
            "type": "table"
           }
          ]
         },
         "layout": {
          "annotationdefaults": {
           "arrowcolor": "#2a3f5f",
           "arrowhead": 0,
           "arrowwidth": 1
          },
          "autotypenumbers": "strict",
          "coloraxis": {
           "colorbar": {
            "outlinewidth": 0,
            "ticks": ""
           }
          },
          "colorscale": {
           "diverging": [
            [
             0,
             "#8e0152"
            ],
            [
             0.1,
             "#c51b7d"
            ],
            [
             0.2,
             "#de77ae"
            ],
            [
             0.3,
             "#f1b6da"
            ],
            [
             0.4,
             "#fde0ef"
            ],
            [
             0.5,
             "#f7f7f7"
            ],
            [
             0.6,
             "#e6f5d0"
            ],
            [
             0.7,
             "#b8e186"
            ],
            [
             0.8,
             "#7fbc41"
            ],
            [
             0.9,
             "#4d9221"
            ],
            [
             1,
             "#276419"
            ]
           ],
           "sequential": [
            [
             0,
             "#0d0887"
            ],
            [
             0.1111111111111111,
             "#46039f"
            ],
            [
             0.2222222222222222,
             "#7201a8"
            ],
            [
             0.3333333333333333,
             "#9c179e"
            ],
            [
             0.4444444444444444,
             "#bd3786"
            ],
            [
             0.5555555555555556,
             "#d8576b"
            ],
            [
             0.6666666666666666,
             "#ed7953"
            ],
            [
             0.7777777777777778,
             "#fb9f3a"
            ],
            [
             0.8888888888888888,
             "#fdca26"
            ],
            [
             1,
             "#f0f921"
            ]
           ],
           "sequentialminus": [
            [
             0,
             "#0d0887"
            ],
            [
             0.1111111111111111,
             "#46039f"
            ],
            [
             0.2222222222222222,
             "#7201a8"
            ],
            [
             0.3333333333333333,
             "#9c179e"
            ],
            [
             0.4444444444444444,
             "#bd3786"
            ],
            [
             0.5555555555555556,
             "#d8576b"
            ],
            [
             0.6666666666666666,
             "#ed7953"
            ],
            [
             0.7777777777777778,
             "#fb9f3a"
            ],
            [
             0.8888888888888888,
             "#fdca26"
            ],
            [
             1,
             "#f0f921"
            ]
           ]
          },
          "colorway": [
           "#636efa",
           "#EF553B",
           "#00cc96",
           "#ab63fa",
           "#FFA15A",
           "#19d3f3",
           "#FF6692",
           "#B6E880",
           "#FF97FF",
           "#FECB52"
          ],
          "font": {
           "color": "#2a3f5f"
          },
          "geo": {
           "bgcolor": "white",
           "lakecolor": "white",
           "landcolor": "#E5ECF6",
           "showlakes": true,
           "showland": true,
           "subunitcolor": "white"
          },
          "hoverlabel": {
           "align": "left"
          },
          "hovermode": "closest",
          "mapbox": {
           "style": "light"
          },
          "paper_bgcolor": "white",
          "plot_bgcolor": "#E5ECF6",
          "polar": {
           "angularaxis": {
            "gridcolor": "white",
            "linecolor": "white",
            "ticks": ""
           },
           "bgcolor": "#E5ECF6",
           "radialaxis": {
            "gridcolor": "white",
            "linecolor": "white",
            "ticks": ""
           }
          },
          "scene": {
           "xaxis": {
            "backgroundcolor": "#E5ECF6",
            "gridcolor": "white",
            "gridwidth": 2,
            "linecolor": "white",
            "showbackground": true,
            "ticks": "",
            "zerolinecolor": "white"
           },
           "yaxis": {
            "backgroundcolor": "#E5ECF6",
            "gridcolor": "white",
            "gridwidth": 2,
            "linecolor": "white",
            "showbackground": true,
            "ticks": "",
            "zerolinecolor": "white"
           },
           "zaxis": {
            "backgroundcolor": "#E5ECF6",
            "gridcolor": "white",
            "gridwidth": 2,
            "linecolor": "white",
            "showbackground": true,
            "ticks": "",
            "zerolinecolor": "white"
           }
          },
          "shapedefaults": {
           "line": {
            "color": "#2a3f5f"
           }
          },
          "ternary": {
           "aaxis": {
            "gridcolor": "white",
            "linecolor": "white",
            "ticks": ""
           },
           "baxis": {
            "gridcolor": "white",
            "linecolor": "white",
            "ticks": ""
           },
           "bgcolor": "#E5ECF6",
           "caxis": {
            "gridcolor": "white",
            "linecolor": "white",
            "ticks": ""
           }
          },
          "title": {
           "x": 0.05
          },
          "xaxis": {
           "automargin": true,
           "gridcolor": "white",
           "linecolor": "white",
           "ticks": "",
           "title": {
            "standoff": 15
           },
           "zerolinecolor": "white",
           "zerolinewidth": 2
          },
          "yaxis": {
           "automargin": true,
           "gridcolor": "white",
           "linecolor": "white",
           "ticks": "",
           "title": {
            "standoff": 15
           },
           "zerolinecolor": "white",
           "zerolinewidth": 2
          }
         }
        },
        "title": {
         "text": "Grouped Bar Chart of token lengths"
        },
        "width": 1000,
        "xaxis": {
         "title": {
          "text": "Object label"
         }
        },
        "yaxis": {
         "title": {
          "text": "Token length"
         }
        }
       }
      },
      "text/html": [
       "<div>                            <div id=\"9b661ec3-bb5d-47fe-b74a-33cc8bdde25d\" class=\"plotly-graph-div\" style=\"height:525px; width:1000px;\"></div>            <script type=\"text/javascript\">                require([\"plotly\"], function(Plotly) {                    window.PLOTLYENV=window.PLOTLYENV || {};                                    if (document.getElementById(\"9b661ec3-bb5d-47fe-b74a-33cc8bdde25d\")) {                    Plotly.newPlot(                        \"9b661ec3-bb5d-47fe-b74a-33cc8bdde25d\",                        [{\"name\":\"Length Greedy\",\"x\":[2001,2002,2003,2004,2005,2006,2007,2008,2009,2010,2011,2012,2013,2014,2015,2016,2017,2018,2019,2020,2021,2022,2023,2024,2025,2026,2027,2028,2029,2030,2031,2032,2033,2034,2035,2036,2037,2038,2039,2040,2041,2042,2043,2044,2045,2046,2047,2048,2049,2050,2051,2052,2053,2054,2055,2056,2057,2058,2059,2060,2061,2062,2063,2064],\"y\":[10,8,10,8,7,10,7,7,9,8,9,7,9,9,10,9,9,7,10,9,9,8,11,15,9,10,9,9,10,9,7,11,9,10,10,10,9,10,9,8,8,7,8,9,8,12,10,10,10,8,10,10,10,11,7,12,11,6,10,8,8,8,8,7],\"type\":\"bar\"},{\"name\":\"Length Nucleus\",\"x\":[2001,2002,2003,2004,2005,2006,2007,2008,2009,2010,2011,2012,2013,2014,2015,2016,2017,2018,2019,2020,2021,2022,2023,2024,2025,2026,2027,2028,2029,2030,2031,2032,2033,2034,2035,2036,2037,2038,2039,2040,2041,2042,2043,2044,2045,2046,2047,2048,2049,2050,2051,2052,2053,2054,2055,2056,2057,2058,2059,2060,2061,2062,2063,2064],\"y\":[5,8,11,5,8,11,10,8,13,12,9,7,7,4,9,10,9,12,13,6,14,9,8,5,9,5,9,8,10,11,9,11,8,12,10,17,9,15,10,10,13,7,8,11,9,12,7,10,12,4,4,9,9,4,8,6,9,8,8,12,10,10,3,8],\"type\":\"bar\"},{\"name\":\"Length Beam\",\"x\":[2001,2002,2003,2004,2005,2006,2007,2008,2009,2010,2011,2012,2013,2014,2015,2016,2017,2018,2019,2020,2021,2022,2023,2024,2025,2026,2027,2028,2029,2030,2031,2032,2033,2034,2035,2036,2037,2038,2039,2040,2041,2042,2043,2044,2045,2046,2047,2048,2049,2050,2051,2052,2053,2054,2055,2056,2057,2058,2059,2060,2061,2062,2063,2064],\"y\":[10,8,10,12,14,10,11,12,8,9,9,11,10,9,9,10,12,11,10,9,11,11,12,12,10,11,8,10,12,9,7,9,8,10,9,12,9,9,10,8,10,10,9,10,9,11,10,10,7,9,10,8,11,11,7,12,11,10,11,14,9,8,12,8],\"type\":\"bar\"}],                        {\"template\":{\"data\":{\"histogram2dcontour\":[{\"type\":\"histogram2dcontour\",\"colorbar\":{\"outlinewidth\":0,\"ticks\":\"\"},\"colorscale\":[[0.0,\"#0d0887\"],[0.1111111111111111,\"#46039f\"],[0.2222222222222222,\"#7201a8\"],[0.3333333333333333,\"#9c179e\"],[0.4444444444444444,\"#bd3786\"],[0.5555555555555556,\"#d8576b\"],[0.6666666666666666,\"#ed7953\"],[0.7777777777777778,\"#fb9f3a\"],[0.8888888888888888,\"#fdca26\"],[1.0,\"#f0f921\"]]}],\"choropleth\":[{\"type\":\"choropleth\",\"colorbar\":{\"outlinewidth\":0,\"ticks\":\"\"}}],\"histogram2d\":[{\"type\":\"histogram2d\",\"colorbar\":{\"outlinewidth\":0,\"ticks\":\"\"},\"colorscale\":[[0.0,\"#0d0887\"],[0.1111111111111111,\"#46039f\"],[0.2222222222222222,\"#7201a8\"],[0.3333333333333333,\"#9c179e\"],[0.4444444444444444,\"#bd3786\"],[0.5555555555555556,\"#d8576b\"],[0.6666666666666666,\"#ed7953\"],[0.7777777777777778,\"#fb9f3a\"],[0.8888888888888888,\"#fdca26\"],[1.0,\"#f0f921\"]]}],\"heatmap\":[{\"type\":\"heatmap\",\"colorbar\":{\"outlinewidth\":0,\"ticks\":\"\"},\"colorscale\":[[0.0,\"#0d0887\"],[0.1111111111111111,\"#46039f\"],[0.2222222222222222,\"#7201a8\"],[0.3333333333333333,\"#9c179e\"],[0.4444444444444444,\"#bd3786\"],[0.5555555555555556,\"#d8576b\"],[0.6666666666666666,\"#ed7953\"],[0.7777777777777778,\"#fb9f3a\"],[0.8888888888888888,\"#fdca26\"],[1.0,\"#f0f921\"]]}],\"heatmapgl\":[{\"type\":\"heatmapgl\",\"colorbar\":{\"outlinewidth\":0,\"ticks\":\"\"},\"colorscale\":[[0.0,\"#0d0887\"],[0.1111111111111111,\"#46039f\"],[0.2222222222222222,\"#7201a8\"],[0.3333333333333333,\"#9c179e\"],[0.4444444444444444,\"#bd3786\"],[0.5555555555555556,\"#d8576b\"],[0.6666666666666666,\"#ed7953\"],[0.7777777777777778,\"#fb9f3a\"],[0.8888888888888888,\"#fdca26\"],[1.0,\"#f0f921\"]]}],\"contourcarpet\":[{\"type\":\"contourcarpet\",\"colorbar\":{\"outlinewidth\":0,\"ticks\":\"\"}}],\"contour\":[{\"type\":\"contour\",\"colorbar\":{\"outlinewidth\":0,\"ticks\":\"\"},\"colorscale\":[[0.0,\"#0d0887\"],[0.1111111111111111,\"#46039f\"],[0.2222222222222222,\"#7201a8\"],[0.3333333333333333,\"#9c179e\"],[0.4444444444444444,\"#bd3786\"],[0.5555555555555556,\"#d8576b\"],[0.6666666666666666,\"#ed7953\"],[0.7777777777777778,\"#fb9f3a\"],[0.8888888888888888,\"#fdca26\"],[1.0,\"#f0f921\"]]}],\"surface\":[{\"type\":\"surface\",\"colorbar\":{\"outlinewidth\":0,\"ticks\":\"\"},\"colorscale\":[[0.0,\"#0d0887\"],[0.1111111111111111,\"#46039f\"],[0.2222222222222222,\"#7201a8\"],[0.3333333333333333,\"#9c179e\"],[0.4444444444444444,\"#bd3786\"],[0.5555555555555556,\"#d8576b\"],[0.6666666666666666,\"#ed7953\"],[0.7777777777777778,\"#fb9f3a\"],[0.8888888888888888,\"#fdca26\"],[1.0,\"#f0f921\"]]}],\"mesh3d\":[{\"type\":\"mesh3d\",\"colorbar\":{\"outlinewidth\":0,\"ticks\":\"\"}}],\"scatter\":[{\"fillpattern\":{\"fillmode\":\"overlay\",\"size\":10,\"solidity\":0.2},\"type\":\"scatter\"}],\"parcoords\":[{\"type\":\"parcoords\",\"line\":{\"colorbar\":{\"outlinewidth\":0,\"ticks\":\"\"}}}],\"scatterpolargl\":[{\"type\":\"scatterpolargl\",\"marker\":{\"colorbar\":{\"outlinewidth\":0,\"ticks\":\"\"}}}],\"bar\":[{\"error_x\":{\"color\":\"#2a3f5f\"},\"error_y\":{\"color\":\"#2a3f5f\"},\"marker\":{\"line\":{\"color\":\"#E5ECF6\",\"width\":0.5},\"pattern\":{\"fillmode\":\"overlay\",\"size\":10,\"solidity\":0.2}},\"type\":\"bar\"}],\"scattergeo\":[{\"type\":\"scattergeo\",\"marker\":{\"colorbar\":{\"outlinewidth\":0,\"ticks\":\"\"}}}],\"scatterpolar\":[{\"type\":\"scatterpolar\",\"marker\":{\"colorbar\":{\"outlinewidth\":0,\"ticks\":\"\"}}}],\"histogram\":[{\"marker\":{\"pattern\":{\"fillmode\":\"overlay\",\"size\":10,\"solidity\":0.2}},\"type\":\"histogram\"}],\"scattergl\":[{\"type\":\"scattergl\",\"marker\":{\"colorbar\":{\"outlinewidth\":0,\"ticks\":\"\"}}}],\"scatter3d\":[{\"type\":\"scatter3d\",\"line\":{\"colorbar\":{\"outlinewidth\":0,\"ticks\":\"\"}},\"marker\":{\"colorbar\":{\"outlinewidth\":0,\"ticks\":\"\"}}}],\"scattermapbox\":[{\"type\":\"scattermapbox\",\"marker\":{\"colorbar\":{\"outlinewidth\":0,\"ticks\":\"\"}}}],\"scatterternary\":[{\"type\":\"scatterternary\",\"marker\":{\"colorbar\":{\"outlinewidth\":0,\"ticks\":\"\"}}}],\"scattercarpet\":[{\"type\":\"scattercarpet\",\"marker\":{\"colorbar\":{\"outlinewidth\":0,\"ticks\":\"\"}}}],\"carpet\":[{\"aaxis\":{\"endlinecolor\":\"#2a3f5f\",\"gridcolor\":\"white\",\"linecolor\":\"white\",\"minorgridcolor\":\"white\",\"startlinecolor\":\"#2a3f5f\"},\"baxis\":{\"endlinecolor\":\"#2a3f5f\",\"gridcolor\":\"white\",\"linecolor\":\"white\",\"minorgridcolor\":\"white\",\"startlinecolor\":\"#2a3f5f\"},\"type\":\"carpet\"}],\"table\":[{\"cells\":{\"fill\":{\"color\":\"#EBF0F8\"},\"line\":{\"color\":\"white\"}},\"header\":{\"fill\":{\"color\":\"#C8D4E3\"},\"line\":{\"color\":\"white\"}},\"type\":\"table\"}],\"barpolar\":[{\"marker\":{\"line\":{\"color\":\"#E5ECF6\",\"width\":0.5},\"pattern\":{\"fillmode\":\"overlay\",\"size\":10,\"solidity\":0.2}},\"type\":\"barpolar\"}],\"pie\":[{\"automargin\":true,\"type\":\"pie\"}]},\"layout\":{\"autotypenumbers\":\"strict\",\"colorway\":[\"#636efa\",\"#EF553B\",\"#00cc96\",\"#ab63fa\",\"#FFA15A\",\"#19d3f3\",\"#FF6692\",\"#B6E880\",\"#FF97FF\",\"#FECB52\"],\"font\":{\"color\":\"#2a3f5f\"},\"hovermode\":\"closest\",\"hoverlabel\":{\"align\":\"left\"},\"paper_bgcolor\":\"white\",\"plot_bgcolor\":\"#E5ECF6\",\"polar\":{\"bgcolor\":\"#E5ECF6\",\"angularaxis\":{\"gridcolor\":\"white\",\"linecolor\":\"white\",\"ticks\":\"\"},\"radialaxis\":{\"gridcolor\":\"white\",\"linecolor\":\"white\",\"ticks\":\"\"}},\"ternary\":{\"bgcolor\":\"#E5ECF6\",\"aaxis\":{\"gridcolor\":\"white\",\"linecolor\":\"white\",\"ticks\":\"\"},\"baxis\":{\"gridcolor\":\"white\",\"linecolor\":\"white\",\"ticks\":\"\"},\"caxis\":{\"gridcolor\":\"white\",\"linecolor\":\"white\",\"ticks\":\"\"}},\"coloraxis\":{\"colorbar\":{\"outlinewidth\":0,\"ticks\":\"\"}},\"colorscale\":{\"sequential\":[[0.0,\"#0d0887\"],[0.1111111111111111,\"#46039f\"],[0.2222222222222222,\"#7201a8\"],[0.3333333333333333,\"#9c179e\"],[0.4444444444444444,\"#bd3786\"],[0.5555555555555556,\"#d8576b\"],[0.6666666666666666,\"#ed7953\"],[0.7777777777777778,\"#fb9f3a\"],[0.8888888888888888,\"#fdca26\"],[1.0,\"#f0f921\"]],\"sequentialminus\":[[0.0,\"#0d0887\"],[0.1111111111111111,\"#46039f\"],[0.2222222222222222,\"#7201a8\"],[0.3333333333333333,\"#9c179e\"],[0.4444444444444444,\"#bd3786\"],[0.5555555555555556,\"#d8576b\"],[0.6666666666666666,\"#ed7953\"],[0.7777777777777778,\"#fb9f3a\"],[0.8888888888888888,\"#fdca26\"],[1.0,\"#f0f921\"]],\"diverging\":[[0,\"#8e0152\"],[0.1,\"#c51b7d\"],[0.2,\"#de77ae\"],[0.3,\"#f1b6da\"],[0.4,\"#fde0ef\"],[0.5,\"#f7f7f7\"],[0.6,\"#e6f5d0\"],[0.7,\"#b8e186\"],[0.8,\"#7fbc41\"],[0.9,\"#4d9221\"],[1,\"#276419\"]]},\"xaxis\":{\"gridcolor\":\"white\",\"linecolor\":\"white\",\"ticks\":\"\",\"title\":{\"standoff\":15},\"zerolinecolor\":\"white\",\"automargin\":true,\"zerolinewidth\":2},\"yaxis\":{\"gridcolor\":\"white\",\"linecolor\":\"white\",\"ticks\":\"\",\"title\":{\"standoff\":15},\"zerolinecolor\":\"white\",\"automargin\":true,\"zerolinewidth\":2},\"scene\":{\"xaxis\":{\"backgroundcolor\":\"#E5ECF6\",\"gridcolor\":\"white\",\"linecolor\":\"white\",\"showbackground\":true,\"ticks\":\"\",\"zerolinecolor\":\"white\",\"gridwidth\":2},\"yaxis\":{\"backgroundcolor\":\"#E5ECF6\",\"gridcolor\":\"white\",\"linecolor\":\"white\",\"showbackground\":true,\"ticks\":\"\",\"zerolinecolor\":\"white\",\"gridwidth\":2},\"zaxis\":{\"backgroundcolor\":\"#E5ECF6\",\"gridcolor\":\"white\",\"linecolor\":\"white\",\"showbackground\":true,\"ticks\":\"\",\"zerolinecolor\":\"white\",\"gridwidth\":2}},\"shapedefaults\":{\"line\":{\"color\":\"#2a3f5f\"}},\"annotationdefaults\":{\"arrowcolor\":\"#2a3f5f\",\"arrowhead\":0,\"arrowwidth\":1},\"geo\":{\"bgcolor\":\"white\",\"landcolor\":\"#E5ECF6\",\"subunitcolor\":\"white\",\"showland\":true,\"showlakes\":true,\"lakecolor\":\"white\"},\"title\":{\"x\":0.05},\"mapbox\":{\"style\":\"light\"}}},\"width\":1000,\"title\":{\"text\":\"Grouped Bar Chart of token lengths\"},\"xaxis\":{\"title\":{\"text\":\"Object label\"}},\"yaxis\":{\"title\":{\"text\":\"Token length\"}},\"barmode\":\"group\",\"bargap\":0.1,\"bargroupgap\":0.3},                        {\"responsive\": true}                    ).then(function(){\n",
       "                            \n",
       "var gd = document.getElementById('9b661ec3-bb5d-47fe-b74a-33cc8bdde25d');\n",
       "var x = new MutationObserver(function (mutations, observer) {{\n",
       "        var display = window.getComputedStyle(gd).display;\n",
       "        if (!display || display === 'none') {{\n",
       "            console.log([gd, 'removed!']);\n",
       "            Plotly.purge(gd);\n",
       "            observer.disconnect();\n",
       "        }}\n",
       "}});\n",
       "\n",
       "// Listen for the removal of the full notebook cells\n",
       "var notebookContainer = gd.closest('#notebook-container');\n",
       "if (notebookContainer) {{\n",
       "    x.observe(notebookContainer, {childList: true});\n",
       "}}\n",
       "\n",
       "// Listen for the clearing of the current output cell\n",
       "var outputEl = gd.closest('.output');\n",
       "if (outputEl) {{\n",
       "    x.observe(outputEl, {childList: true});\n",
       "}}\n",
       "\n",
       "                        })                };                });            </script>        </div>"
      ]
     },
     "metadata": {},
     "output_type": "display_data"
    }
   ],
   "source": [
    "import plotly.graph_objects as go\n",
    "import pandas as pd\n",
    "\n",
    "# Assuming your dataframe is called 'df'\n",
    "# You can load your data into a dataframe using pd.read_csv() or any other method\n",
    "\n",
    "# Create a list of row indices to use as labels for x-axis\n",
    "labels = data['number label'].tolist()\n",
    "\n",
    "# Create a figure object\n",
    "fig = go.Figure()\n",
    "\n",
    "# Add the bars for each length column\n",
    "fig.add_trace(go.Bar(x=labels, y=data['length greedy'], name='Length Greedy'))\n",
    "fig.add_trace(go.Bar(x=labels, y=data['length nucleus'], name='Length Nucleus'))\n",
    "fig.add_trace(go.Bar(x=labels, y=data['length beam'], name='Length Beam'))\n",
    "\n",
    "# Update the layout\n",
    "fig.update_layout(\n",
    "    width=1000,\n",
    "    title='Grouped Bar Chart of token lengths',\n",
    "    xaxis_title='Object label',\n",
    "    yaxis_title='Token length',\n",
    "    barmode='group',  # Set the bar mode to 'group' for grouped bars\n",
    "    bargap=0.1,  # Adjust the spacing between bars within each group\n",
    "    bargroupgap=0.3  # Adjust the spacing between groups\n",
    ")\n",
    "\n",
    "# Show the plot\n",
    "fig.show()\n",
    "\n",
    "# # Save the plot as JSON\n",
    "fig_json = fig.to_json()\n",
    "with open('token_length.json', 'w') as file:\n",
    "    file.write(fig_json)"
   ]
  },
  {
   "attachments": {},
   "cell_type": "markdown",
   "metadata": {},
   "source": [
    "#### Bool breakdown"
   ]
  },
  {
   "cell_type": "code",
   "execution_count": 44,
   "metadata": {},
   "outputs": [
    {
     "data": {
      "application/vnd.plotly.v1+json": {
       "config": {
        "plotlyServerURL": "https://plot.ly"
       },
       "data": [
        {
         "name": "Greedy decoding",
         "type": "bar",
         "x": [
          "(18.6, 34.2]",
          "(2.922, 18.6]",
          "(34.2, 49.8]",
          "(49.8, 65.4]",
          "(65.4, 81.0]"
         ],
         "y": [
          1,
          1,
          1,
          1,
          1
         ]
        },
        {
         "name": "Nucleus Sampling",
         "type": "bar",
         "x": [
          "(18.6, 34.2]",
          "(2.922, 18.6]",
          "(34.2, 49.8]",
          "(49.8, 65.4]",
          "(65.4, 81.0]"
         ],
         "y": [
          0.391304347826087,
          0.4117647058823529,
          0.5714285714285714,
          0.6,
          0.4
         ]
        },
        {
         "name": "Beam Search",
         "type": "bar",
         "x": [
          "(18.6, 34.2]",
          "(2.922, 18.6]",
          "(34.2, 49.8]",
          "(49.8, 65.4]",
          "(65.4, 81.0]"
         ],
         "y": [
          0.2608695652173913,
          0.29411764705882354,
          0.35714285714285715,
          0.8,
          0.6
         ]
        }
       ],
       "layout": {
        "template": {
         "data": {
          "bar": [
           {
            "error_x": {
             "color": "#2a3f5f"
            },
            "error_y": {
             "color": "#2a3f5f"
            },
            "marker": {
             "line": {
              "color": "#E5ECF6",
              "width": 0.5
             },
             "pattern": {
              "fillmode": "overlay",
              "size": 10,
              "solidity": 0.2
             }
            },
            "type": "bar"
           }
          ],
          "barpolar": [
           {
            "marker": {
             "line": {
              "color": "#E5ECF6",
              "width": 0.5
             },
             "pattern": {
              "fillmode": "overlay",
              "size": 10,
              "solidity": 0.2
             }
            },
            "type": "barpolar"
           }
          ],
          "carpet": [
           {
            "aaxis": {
             "endlinecolor": "#2a3f5f",
             "gridcolor": "white",
             "linecolor": "white",
             "minorgridcolor": "white",
             "startlinecolor": "#2a3f5f"
            },
            "baxis": {
             "endlinecolor": "#2a3f5f",
             "gridcolor": "white",
             "linecolor": "white",
             "minorgridcolor": "white",
             "startlinecolor": "#2a3f5f"
            },
            "type": "carpet"
           }
          ],
          "choropleth": [
           {
            "colorbar": {
             "outlinewidth": 0,
             "ticks": ""
            },
            "type": "choropleth"
           }
          ],
          "contour": [
           {
            "colorbar": {
             "outlinewidth": 0,
             "ticks": ""
            },
            "colorscale": [
             [
              0,
              "#0d0887"
             ],
             [
              0.1111111111111111,
              "#46039f"
             ],
             [
              0.2222222222222222,
              "#7201a8"
             ],
             [
              0.3333333333333333,
              "#9c179e"
             ],
             [
              0.4444444444444444,
              "#bd3786"
             ],
             [
              0.5555555555555556,
              "#d8576b"
             ],
             [
              0.6666666666666666,
              "#ed7953"
             ],
             [
              0.7777777777777778,
              "#fb9f3a"
             ],
             [
              0.8888888888888888,
              "#fdca26"
             ],
             [
              1,
              "#f0f921"
             ]
            ],
            "type": "contour"
           }
          ],
          "contourcarpet": [
           {
            "colorbar": {
             "outlinewidth": 0,
             "ticks": ""
            },
            "type": "contourcarpet"
           }
          ],
          "heatmap": [
           {
            "colorbar": {
             "outlinewidth": 0,
             "ticks": ""
            },
            "colorscale": [
             [
              0,
              "#0d0887"
             ],
             [
              0.1111111111111111,
              "#46039f"
             ],
             [
              0.2222222222222222,
              "#7201a8"
             ],
             [
              0.3333333333333333,
              "#9c179e"
             ],
             [
              0.4444444444444444,
              "#bd3786"
             ],
             [
              0.5555555555555556,
              "#d8576b"
             ],
             [
              0.6666666666666666,
              "#ed7953"
             ],
             [
              0.7777777777777778,
              "#fb9f3a"
             ],
             [
              0.8888888888888888,
              "#fdca26"
             ],
             [
              1,
              "#f0f921"
             ]
            ],
            "type": "heatmap"
           }
          ],
          "heatmapgl": [
           {
            "colorbar": {
             "outlinewidth": 0,
             "ticks": ""
            },
            "colorscale": [
             [
              0,
              "#0d0887"
             ],
             [
              0.1111111111111111,
              "#46039f"
             ],
             [
              0.2222222222222222,
              "#7201a8"
             ],
             [
              0.3333333333333333,
              "#9c179e"
             ],
             [
              0.4444444444444444,
              "#bd3786"
             ],
             [
              0.5555555555555556,
              "#d8576b"
             ],
             [
              0.6666666666666666,
              "#ed7953"
             ],
             [
              0.7777777777777778,
              "#fb9f3a"
             ],
             [
              0.8888888888888888,
              "#fdca26"
             ],
             [
              1,
              "#f0f921"
             ]
            ],
            "type": "heatmapgl"
           }
          ],
          "histogram": [
           {
            "marker": {
             "pattern": {
              "fillmode": "overlay",
              "size": 10,
              "solidity": 0.2
             }
            },
            "type": "histogram"
           }
          ],
          "histogram2d": [
           {
            "colorbar": {
             "outlinewidth": 0,
             "ticks": ""
            },
            "colorscale": [
             [
              0,
              "#0d0887"
             ],
             [
              0.1111111111111111,
              "#46039f"
             ],
             [
              0.2222222222222222,
              "#7201a8"
             ],
             [
              0.3333333333333333,
              "#9c179e"
             ],
             [
              0.4444444444444444,
              "#bd3786"
             ],
             [
              0.5555555555555556,
              "#d8576b"
             ],
             [
              0.6666666666666666,
              "#ed7953"
             ],
             [
              0.7777777777777778,
              "#fb9f3a"
             ],
             [
              0.8888888888888888,
              "#fdca26"
             ],
             [
              1,
              "#f0f921"
             ]
            ],
            "type": "histogram2d"
           }
          ],
          "histogram2dcontour": [
           {
            "colorbar": {
             "outlinewidth": 0,
             "ticks": ""
            },
            "colorscale": [
             [
              0,
              "#0d0887"
             ],
             [
              0.1111111111111111,
              "#46039f"
             ],
             [
              0.2222222222222222,
              "#7201a8"
             ],
             [
              0.3333333333333333,
              "#9c179e"
             ],
             [
              0.4444444444444444,
              "#bd3786"
             ],
             [
              0.5555555555555556,
              "#d8576b"
             ],
             [
              0.6666666666666666,
              "#ed7953"
             ],
             [
              0.7777777777777778,
              "#fb9f3a"
             ],
             [
              0.8888888888888888,
              "#fdca26"
             ],
             [
              1,
              "#f0f921"
             ]
            ],
            "type": "histogram2dcontour"
           }
          ],
          "mesh3d": [
           {
            "colorbar": {
             "outlinewidth": 0,
             "ticks": ""
            },
            "type": "mesh3d"
           }
          ],
          "parcoords": [
           {
            "line": {
             "colorbar": {
              "outlinewidth": 0,
              "ticks": ""
             }
            },
            "type": "parcoords"
           }
          ],
          "pie": [
           {
            "automargin": true,
            "type": "pie"
           }
          ],
          "scatter": [
           {
            "fillpattern": {
             "fillmode": "overlay",
             "size": 10,
             "solidity": 0.2
            },
            "type": "scatter"
           }
          ],
          "scatter3d": [
           {
            "line": {
             "colorbar": {
              "outlinewidth": 0,
              "ticks": ""
             }
            },
            "marker": {
             "colorbar": {
              "outlinewidth": 0,
              "ticks": ""
             }
            },
            "type": "scatter3d"
           }
          ],
          "scattercarpet": [
           {
            "marker": {
             "colorbar": {
              "outlinewidth": 0,
              "ticks": ""
             }
            },
            "type": "scattercarpet"
           }
          ],
          "scattergeo": [
           {
            "marker": {
             "colorbar": {
              "outlinewidth": 0,
              "ticks": ""
             }
            },
            "type": "scattergeo"
           }
          ],
          "scattergl": [
           {
            "marker": {
             "colorbar": {
              "outlinewidth": 0,
              "ticks": ""
             }
            },
            "type": "scattergl"
           }
          ],
          "scattermapbox": [
           {
            "marker": {
             "colorbar": {
              "outlinewidth": 0,
              "ticks": ""
             }
            },
            "type": "scattermapbox"
           }
          ],
          "scatterpolar": [
           {
            "marker": {
             "colorbar": {
              "outlinewidth": 0,
              "ticks": ""
             }
            },
            "type": "scatterpolar"
           }
          ],
          "scatterpolargl": [
           {
            "marker": {
             "colorbar": {
              "outlinewidth": 0,
              "ticks": ""
             }
            },
            "type": "scatterpolargl"
           }
          ],
          "scatterternary": [
           {
            "marker": {
             "colorbar": {
              "outlinewidth": 0,
              "ticks": ""
             }
            },
            "type": "scatterternary"
           }
          ],
          "surface": [
           {
            "colorbar": {
             "outlinewidth": 0,
             "ticks": ""
            },
            "colorscale": [
             [
              0,
              "#0d0887"
             ],
             [
              0.1111111111111111,
              "#46039f"
             ],
             [
              0.2222222222222222,
              "#7201a8"
             ],
             [
              0.3333333333333333,
              "#9c179e"
             ],
             [
              0.4444444444444444,
              "#bd3786"
             ],
             [
              0.5555555555555556,
              "#d8576b"
             ],
             [
              0.6666666666666666,
              "#ed7953"
             ],
             [
              0.7777777777777778,
              "#fb9f3a"
             ],
             [
              0.8888888888888888,
              "#fdca26"
             ],
             [
              1,
              "#f0f921"
             ]
            ],
            "type": "surface"
           }
          ],
          "table": [
           {
            "cells": {
             "fill": {
              "color": "#EBF0F8"
             },
             "line": {
              "color": "white"
             }
            },
            "header": {
             "fill": {
              "color": "#C8D4E3"
             },
             "line": {
              "color": "white"
             }
            },
            "type": "table"
           }
          ]
         },
         "layout": {
          "annotationdefaults": {
           "arrowcolor": "#2a3f5f",
           "arrowhead": 0,
           "arrowwidth": 1
          },
          "autotypenumbers": "strict",
          "coloraxis": {
           "colorbar": {
            "outlinewidth": 0,
            "ticks": ""
           }
          },
          "colorscale": {
           "diverging": [
            [
             0,
             "#8e0152"
            ],
            [
             0.1,
             "#c51b7d"
            ],
            [
             0.2,
             "#de77ae"
            ],
            [
             0.3,
             "#f1b6da"
            ],
            [
             0.4,
             "#fde0ef"
            ],
            [
             0.5,
             "#f7f7f7"
            ],
            [
             0.6,
             "#e6f5d0"
            ],
            [
             0.7,
             "#b8e186"
            ],
            [
             0.8,
             "#7fbc41"
            ],
            [
             0.9,
             "#4d9221"
            ],
            [
             1,
             "#276419"
            ]
           ],
           "sequential": [
            [
             0,
             "#0d0887"
            ],
            [
             0.1111111111111111,
             "#46039f"
            ],
            [
             0.2222222222222222,
             "#7201a8"
            ],
            [
             0.3333333333333333,
             "#9c179e"
            ],
            [
             0.4444444444444444,
             "#bd3786"
            ],
            [
             0.5555555555555556,
             "#d8576b"
            ],
            [
             0.6666666666666666,
             "#ed7953"
            ],
            [
             0.7777777777777778,
             "#fb9f3a"
            ],
            [
             0.8888888888888888,
             "#fdca26"
            ],
            [
             1,
             "#f0f921"
            ]
           ],
           "sequentialminus": [
            [
             0,
             "#0d0887"
            ],
            [
             0.1111111111111111,
             "#46039f"
            ],
            [
             0.2222222222222222,
             "#7201a8"
            ],
            [
             0.3333333333333333,
             "#9c179e"
            ],
            [
             0.4444444444444444,
             "#bd3786"
            ],
            [
             0.5555555555555556,
             "#d8576b"
            ],
            [
             0.6666666666666666,
             "#ed7953"
            ],
            [
             0.7777777777777778,
             "#fb9f3a"
            ],
            [
             0.8888888888888888,
             "#fdca26"
            ],
            [
             1,
             "#f0f921"
            ]
           ]
          },
          "colorway": [
           "#636efa",
           "#EF553B",
           "#00cc96",
           "#ab63fa",
           "#FFA15A",
           "#19d3f3",
           "#FF6692",
           "#B6E880",
           "#FF97FF",
           "#FECB52"
          ],
          "font": {
           "color": "#2a3f5f"
          },
          "geo": {
           "bgcolor": "white",
           "lakecolor": "white",
           "landcolor": "#E5ECF6",
           "showlakes": true,
           "showland": true,
           "subunitcolor": "white"
          },
          "hoverlabel": {
           "align": "left"
          },
          "hovermode": "closest",
          "mapbox": {
           "style": "light"
          },
          "paper_bgcolor": "white",
          "plot_bgcolor": "#E5ECF6",
          "polar": {
           "angularaxis": {
            "gridcolor": "white",
            "linecolor": "white",
            "ticks": ""
           },
           "bgcolor": "#E5ECF6",
           "radialaxis": {
            "gridcolor": "white",
            "linecolor": "white",
            "ticks": ""
           }
          },
          "scene": {
           "xaxis": {
            "backgroundcolor": "#E5ECF6",
            "gridcolor": "white",
            "gridwidth": 2,
            "linecolor": "white",
            "showbackground": true,
            "ticks": "",
            "zerolinecolor": "white"
           },
           "yaxis": {
            "backgroundcolor": "#E5ECF6",
            "gridcolor": "white",
            "gridwidth": 2,
            "linecolor": "white",
            "showbackground": true,
            "ticks": "",
            "zerolinecolor": "white"
           },
           "zaxis": {
            "backgroundcolor": "#E5ECF6",
            "gridcolor": "white",
            "gridwidth": 2,
            "linecolor": "white",
            "showbackground": true,
            "ticks": "",
            "zerolinecolor": "white"
           }
          },
          "shapedefaults": {
           "line": {
            "color": "#2a3f5f"
           }
          },
          "ternary": {
           "aaxis": {
            "gridcolor": "white",
            "linecolor": "white",
            "ticks": ""
           },
           "baxis": {
            "gridcolor": "white",
            "linecolor": "white",
            "ticks": ""
           },
           "bgcolor": "#E5ECF6",
           "caxis": {
            "gridcolor": "white",
            "linecolor": "white",
            "ticks": ""
           }
          },
          "title": {
           "x": 0.05
          },
          "xaxis": {
           "automargin": true,
           "gridcolor": "white",
           "linecolor": "white",
           "ticks": "",
           "title": {
            "standoff": 15
           },
           "zerolinecolor": "white",
           "zerolinewidth": 2
          },
          "yaxis": {
           "automargin": true,
           "gridcolor": "white",
           "linecolor": "white",
           "ticks": "",
           "title": {
            "standoff": 15
           },
           "zerolinecolor": "white",
           "zerolinewidth": 2
          }
         }
        },
        "width": 800,
        "xaxis": {
         "tickmode": "array",
         "ticktext": [
          "0-20",
          "21-40",
          "41-60",
          "61-80",
          "81-100"
         ],
         "tickvals": [
          0,
          1,
          2,
          3,
          4
         ],
         "title": {
          "text": "Familiarity score in %"
         }
        },
        "yaxis": {
         "title": {
          "text": "Rate of model answering \"yes\""
         }
        }
       }
      }
     },
     "metadata": {},
     "output_type": "display_data"
    }
   ],
   "source": [
    "num_bins = 5\n",
    "category_bins_familiarity = pd.cut(data['familiarity score'], bins=num_bins)\n",
    "\n",
    "data_plot = data.copy()\n",
    "\n",
    "data_plot['category bin familiarity'] = category_bins_familiarity.astype(str)\n",
    "\n",
    "data_plot['greedy bool count'] = data_plot[\"BLIP-2, greedy, bool\"].str.lower().str.count(r'\\byes\\b')\n",
    "data_plot['nucleus bool count'] = data_plot[\"BLIP-2, nucleus, bool\"].str.lower().str.count(r'\\byes\\b')\n",
    "data_plot['beam bool count'] = data_plot[\"BLIP-2, beam, bool\"].str.lower().str.count(r'\\byes\\b')\n",
    "\n",
    "f_beam = data_plot.groupby('category bin familiarity')[\n",
    "    'beam bool count'].mean()\n",
    "f_greedy = data_plot.groupby('category bin familiarity')[\n",
    "    'greedy bool count'].mean()\n",
    "f_nucleus = data_plot.groupby('category bin familiarity')[\n",
    "    'nucleus bool count'].mean()\n",
    "\n",
    "\n",
    "fig = go.Figure()\n",
    "# data=[go.Bar(x=bin_percentages.index.astype(str), y=bin_percentages)])\n",
    "\n",
    "fig.add_trace(go.Bar(x=f_greedy.index.astype(\n",
    "    str), y=f_greedy, name='Greedy decoding'))\n",
    "fig.add_trace(go.Bar(x=f_nucleus.index.astype(\n",
    "    str), y=f_nucleus, name='Nucleus Sampling'))\n",
    "fig.add_trace(go.Bar(x=f_beam.index.astype(str), y=f_beam, name='Beam Search'))\n",
    "\n",
    "fig.update_layout(width=800, xaxis_title='Bins', yaxis_title='Rate of model answering \"yes\"', xaxis=dict(title='Familiarity score in %', tickmode='array',\n",
    "                                                                                                             tickvals=[\n",
    "                                                                                                                 0, 1, 2, 3, 4],\n",
    "                                                                                                             ticktext=['0-20', '21-40', '41-60', '61-80', '81-100']))\n",
    "fig.show()\n",
    "\n",
    "# fig.show()\n",
    "\n",
    "# # Save the plot as JSON\n",
    "# fig_json = fig.to_json()\n",
    "# with open('familiarity.json', 'w') as file:\n",
    "#     file.write(fig_json)"
   ]
  },
  {
   "cell_type": "code",
   "execution_count": 61,
   "metadata": {},
   "outputs": [
    {
     "data": {
      "text/plain": [
       "Index(['image_path', 'number label', 'actual name', 'familiarity score',\n",
       "       'nameability score', 'color saliency', 'texture saliency',\n",
       "       'BLIP-2, greedy, caption', 'BLIP-2, greedy, bool',\n",
       "       'BLIP-2, greedy, name',\n",
       "       ...\n",
       "       'color, beam, num_beams=10, caption to boolean',\n",
       "       'texture, beam, num_beams=10, caption to boolean',\n",
       "       'color, beam, num_beams=10, bool to boolean',\n",
       "       'texture, beam, num_beams=10, bool to boolean',\n",
       "       'color, beam, num_beams=10, name to boolean',\n",
       "       'texture, beam, num_beams=10, name to boolean',\n",
       "       'color, beam, num_beams=10, real to boolean',\n",
       "       'texture, beam, num_beams=10, real to boolean', 'category bin color',\n",
       "       'category bin texture'],\n",
       "      dtype='object', length=201)"
      ]
     },
     "execution_count": 61,
     "metadata": {},
     "output_type": "execute_result"
    }
   ],
   "source": [
    "data.columns"
   ]
  },
  {
   "cell_type": "code",
   "execution_count": 60,
   "metadata": {},
   "outputs": [
    {
     "name": "stdout",
     "output_type": "stream",
     "text": [
      "color saliency\n",
      "color, greedy, caption to boolean\n",
      "color, greedy, bool to boolean\n",
      "color, greedy, name to boolean\n",
      "color, greedy, real to boolean\n",
      "color, nucleus, caption to boolean\n",
      "color, nucleus, bool to boolean\n",
      "color, nucleus, name to boolean\n",
      "color, nucleus, real to boolean\n",
      "color, beam, caption to boolean\n",
      "color, beam, bool to boolean\n",
      "color, beam, name to boolean\n",
      "color, beam, real to boolean\n",
      "color, greedy, max_new_tokens=5, caption to boolean\n",
      "color, greedy, max_new_tokens=5, bool to boolean\n",
      "color, greedy, max_new_tokens=5, name to boolean\n",
      "color, greedy, max_new_tokens=5, real to boolean\n",
      "color, greedy, max_new_tokens=10, caption to boolean\n",
      "color, greedy, max_new_tokens=10, bool to boolean\n",
      "color, greedy, max_new_tokens=10, name to boolean\n",
      "color, greedy, max_new_tokens=10, real to boolean\n",
      "color, greedy, max_new_tokens=20, caption to boolean\n",
      "color, greedy, max_new_tokens=20, bool to boolean\n",
      "color, greedy, max_new_tokens=20, name to boolean\n",
      "color, greedy, max_new_tokens=20, real to boolean\n",
      "color, nucleus, top_p=0.1, caption to boolean\n",
      "color, nucleus, top_p=0.1, bool to boolean\n",
      "color, nucleus, top_p=0.1, name to boolean\n",
      "color, nucleus, top_p=0.1, real to boolean\n",
      "color, nucleus, top_p=0.5, caption to boolean\n",
      "color, nucleus, top_p=0.5, bool to boolean\n",
      "color, nucleus, top_p=0.5, name to boolean\n",
      "color, nucleus, top_p=0.5, real to boolean\n",
      "color, nucleus, top_p=0.9, caption to boolean\n",
      "color, nucleus, top_p=0.9, bool to boolean\n",
      "color, nucleus, top_p=0.9, name to boolean\n",
      "color, nucleus, top_p=0.9, real to boolean\n",
      "color, beam, num_beams=1, caption to boolean\n",
      "color, beam, num_beams=1, bool to boolean\n",
      "color, beam, num_beams=1, name to boolean\n",
      "color, beam, num_beams=1, real to boolean\n",
      "color, beam, num_beams=5, caption to boolean\n",
      "color, beam, num_beams=5, bool to boolean\n",
      "color, beam, num_beams=5, name to boolean\n",
      "color, beam, num_beams=5, real to boolean\n",
      "color, beam, num_beams=10, caption to boolean\n",
      "color, beam, num_beams=10, bool to boolean\n",
      "color, beam, num_beams=10, name to boolean\n",
      "color, beam, num_beams=10, real to boolean\n",
      "category bin color\n"
     ]
    }
   ],
   "source": [
    "for c in data.columns:\n",
    "    if 'color' in c:\n",
    "        print(c)"
   ]
  },
  {
   "cell_type": "code",
   "execution_count": 67,
   "metadata": {},
   "outputs": [],
   "source": [
    "corr, p_value = pearsonr(list(data['color saliency']), list(data['color, beam, num_beams=10, caption to boolean']))\n",
    "\n",
    "data_to_corr = ['color saliency', 'texture saliency', 'nameability score', 'familiarity score']\n",
    "correlations = {}\n",
    "\n",
    "for column in data_to_corr:\n",
    "    for item in data_plot.columns:\n",
    "        if column == 'color saliency' and column != item and 'bin' not in item:\n",
    "            if 'color' in item:\n",
    "                correlations[item] = pearsonr(list(data['color saliency']), list(data[item]))[0]\n",
    "        if column == 'texture saliency' and column != item and 'bin' not in item:\n",
    "            if 'texture' in item:\n",
    "                correlations[item] = pearsonr(list(data['texture saliency']), list(data[item]))[0]\n",
    "        if column == 'familiarity score' and column != item and 'bin' not in item:\n",
    "            if 'bool count' in item:\n",
    "                correlations[item] = pearsonr(list(data_plot['familiarity score']), list(data_plot[item]))[0]\n"
   ]
  },
  {
   "cell_type": "code",
   "execution_count": 81,
   "metadata": {},
   "outputs": [
    {
     "data": {
      "text/plain": [
       "dict_keys(['color, greedy, caption to boolean', 'color, greedy, bool to boolean', 'color, greedy, name to boolean', 'color, greedy, real to boolean', 'color, nucleus, caption to boolean', 'color, nucleus, bool to boolean', 'color, nucleus, name to boolean', 'color, nucleus, real to boolean', 'color, beam, caption to boolean', 'color, beam, bool to boolean', 'color, beam, name to boolean', 'color, beam, real to boolean', 'color, greedy, max_new_tokens=5, caption to boolean', 'color, greedy, max_new_tokens=5, bool to boolean', 'color, greedy, max_new_tokens=5, name to boolean', 'color, greedy, max_new_tokens=5, real to boolean', 'color, greedy, max_new_tokens=10, caption to boolean', 'color, greedy, max_new_tokens=10, bool to boolean', 'color, greedy, max_new_tokens=10, name to boolean', 'color, greedy, max_new_tokens=10, real to boolean', 'color, greedy, max_new_tokens=20, caption to boolean', 'color, greedy, max_new_tokens=20, bool to boolean', 'color, greedy, max_new_tokens=20, name to boolean', 'color, greedy, max_new_tokens=20, real to boolean', 'color, nucleus, top_p=0.1, caption to boolean', 'color, nucleus, top_p=0.1, bool to boolean', 'color, nucleus, top_p=0.1, name to boolean', 'color, nucleus, top_p=0.1, real to boolean', 'color, nucleus, top_p=0.5, caption to boolean', 'color, nucleus, top_p=0.5, bool to boolean', 'color, nucleus, top_p=0.5, name to boolean', 'color, nucleus, top_p=0.5, real to boolean', 'color, nucleus, top_p=0.9, caption to boolean', 'color, nucleus, top_p=0.9, bool to boolean', 'color, nucleus, top_p=0.9, name to boolean', 'color, nucleus, top_p=0.9, real to boolean', 'color, beam, num_beams=1, caption to boolean', 'color, beam, num_beams=1, bool to boolean', 'color, beam, num_beams=1, name to boolean', 'color, beam, num_beams=1, real to boolean', 'color, beam, num_beams=5, caption to boolean', 'color, beam, num_beams=5, bool to boolean', 'color, beam, num_beams=5, name to boolean', 'color, beam, num_beams=5, real to boolean', 'color, beam, num_beams=10, caption to boolean', 'color, beam, num_beams=10, bool to boolean', 'color, beam, num_beams=10, name to boolean', 'color, beam, num_beams=10, real to boolean', 'texture, greedy, caption to boolean', 'texture, greedy, bool to boolean', 'texture, greedy, name to boolean', 'texture, greedy, real to boolean', 'texture, nucleus, caption to boolean', 'texture, nucleus, bool to boolean', 'texture, nucleus, name to boolean', 'texture, nucleus, real to boolean', 'texture, beam, caption to boolean', 'texture, beam, bool to boolean', 'texture, beam, name to boolean', 'texture, beam, real to boolean', 'texture, greedy, max_new_tokens=5, caption to boolean', 'texture, greedy, max_new_tokens=5, bool to boolean', 'texture, greedy, max_new_tokens=5, name to boolean', 'texture, greedy, max_new_tokens=5, real to boolean', 'texture, greedy, max_new_tokens=10, caption to boolean', 'texture, greedy, max_new_tokens=10, bool to boolean', 'texture, greedy, max_new_tokens=10, name to boolean', 'texture, greedy, max_new_tokens=10, real to boolean', 'texture, greedy, max_new_tokens=20, caption to boolean', 'texture, greedy, max_new_tokens=20, bool to boolean', 'texture, greedy, max_new_tokens=20, name to boolean', 'texture, greedy, max_new_tokens=20, real to boolean', 'texture, nucleus, top_p=0.1, caption to boolean', 'texture, nucleus, top_p=0.1, bool to boolean', 'texture, nucleus, top_p=0.1, name to boolean', 'texture, nucleus, top_p=0.1, real to boolean', 'texture, nucleus, top_p=0.5, caption to boolean', 'texture, nucleus, top_p=0.5, bool to boolean', 'texture, nucleus, top_p=0.5, name to boolean', 'texture, nucleus, top_p=0.5, real to boolean', 'texture, nucleus, top_p=0.9, caption to boolean', 'texture, nucleus, top_p=0.9, bool to boolean', 'texture, nucleus, top_p=0.9, name to boolean', 'texture, nucleus, top_p=0.9, real to boolean', 'texture, beam, num_beams=1, caption to boolean', 'texture, beam, num_beams=1, bool to boolean', 'texture, beam, num_beams=1, name to boolean', 'texture, beam, num_beams=1, real to boolean', 'texture, beam, num_beams=5, caption to boolean', 'texture, beam, num_beams=5, bool to boolean', 'texture, beam, num_beams=5, name to boolean', 'texture, beam, num_beams=5, real to boolean', 'texture, beam, num_beams=10, caption to boolean', 'texture, beam, num_beams=10, bool to boolean', 'texture, beam, num_beams=10, name to boolean', 'texture, beam, num_beams=10, real to boolean', 'greedy bool count', 'nucleus bool count', 'beam bool count'])"
      ]
     },
     "execution_count": 81,
     "metadata": {},
     "output_type": "execute_result"
    }
   ],
   "source": [
    "correlations.keys()"
   ]
  },
  {
   "attachments": {},
   "cell_type": "markdown",
   "metadata": {},
   "source": [
    "### BERTScore \n"
   ]
  },
  {
   "cell_type": "code",
   "execution_count": 84,
   "metadata": {},
   "outputs": [],
   "source": [
    "import bert_score\n",
    "from bert_score import score\n",
    "\n",
    "# hide the loading messages\n",
    "import logging\n",
    "import transformers\n",
    "transformers.tokenization_utils.logger.setLevel(logging.ERROR)\n",
    "transformers.configuration_utils.logger.setLevel(logging.ERROR)\n",
    "transformers.modeling_utils.logger.setLevel(logging.ERROR)\n",
    "\n",
    "%matplotlib inline\n",
    "import matplotlib.pyplot as plt\n",
    "from matplotlib import rcParams\n",
    "\n",
    "rcParams[\"xtick.major.size\"] = 0\n",
    "rcParams[\"xtick.minor.size\"] = 0\n",
    "rcParams[\"ytick.major.size\"] = 0\n",
    "rcParams[\"ytick.minor.size\"] = 0\n",
    "\n",
    "rcParams[\"axes.labelsize\"] = \"large\"\n",
    "rcParams[\"axes.axisbelow\"] = True\n",
    "rcParams[\"axes.grid\"] = True"
   ]
  },
  {
   "attachments": {},
   "cell_type": "markdown",
   "metadata": {},
   "source": [
    "#### Get candidate and reference sentences"
   ]
  },
  {
   "cell_type": "code",
   "execution_count": 86,
   "metadata": {},
   "outputs": [],
   "source": [
    "refs = list(data['actual name'])\n",
    "candidates = {}\n",
    "title = 'BLIP-2'\n",
    "columns = data.columns\n",
    "for column in columns:\n",
    "    if title in column and 'saliency' not in column and 'bool' not in column:\n",
    "        candidates[column] = list(data[column])\n",
    "\n",
    "\n",
    "# cands_greedy_caption = list(data['BLIP-2, greedy, caption'])\n",
    "# cands_beam_caption = list(data['BLIP-2, beam, caption'])\n",
    "# cands_nucleus_caption = list(data['BLIP-2, nucleus, caption'])\n",
    "\n",
    "\n",
    "# cands_greedy_name = data['BLIP-2, greedy, name']\n",
    "# cands_beam_name = data['BLIP-2, beam, name']\n",
    "# cands_nucleus_name = data['BLIP-2, nucleus, name']\n",
    "\n",
    "# cands_greedy_real = list(data['BLIP-2, greedy, real'])\n",
    "# cands_beam_real = list(data['BLIP-2, beam, real'])\n",
    "# cands_nucleus_real = list(data['BLIP-2, nucleus, real'])"
   ]
  },
  {
   "attachments": {},
   "cell_type": "markdown",
   "metadata": {},
   "source": [
    "#### BERTScore familiarity measurement\n",
    "BERTScore produces P, R, F1 scores respectively. "
   ]
  },
  {
   "cell_type": "code",
   "execution_count": null,
   "metadata": {},
   "outputs": [],
   "source": [
    "familiarity_scores = {}\n",
    "for item in candidates.items():\n",
    "    familiarity_scores[f'{item[0]} Familiarity BERTScore'] = score(item[1], refs, lang='en', verbose=True)\n",
    "\n",
    "# data2['BERTScore greedy real'] = score(cands_greedy_real, refs, lang='en', verbose=True)[2]\n",
    "# data2['BERTScore beam real'] = score(cands_beam_real, refs, lang='en', verbose=True)[2]\n",
    "# data2['BERTScore nucleus real'] = score(cands_nucleus_real, refs, lang='en', verbose=True)[2]"
   ]
  },
  {
   "cell_type": "code",
   "execution_count": 39,
   "metadata": {},
   "outputs": [
    {
     "data": {
      "text/plain": [
       "(tensor([0.8100, 0.8221, 0.8494, 0.7979, 0.8287, 0.8014, 0.8527, 0.8148, 0.8464,\n",
       "         0.8302, 0.7824, 0.8600, 0.8061, 0.8453, 0.8267, 0.8207, 0.8146, 0.8293,\n",
       "         0.8184, 0.8167, 0.8032, 0.7891, 0.8105, 0.8344, 0.8095, 0.8137, 0.8245,\n",
       "         0.8056, 0.8232, 0.7827, 0.8170, 0.7771, 0.8515, 0.8520, 0.8550, 0.8462,\n",
       "         0.8303, 0.8593, 0.8085, 0.8299, 0.8106, 0.8203, 0.8099, 0.8786, 0.8380,\n",
       "         0.8448, 0.7913, 0.8571, 0.8275, 0.8759, 0.8097, 0.7968, 0.7645, 0.7945,\n",
       "         0.8423, 0.8241, 0.8146, 0.8476, 0.8099, 0.8781, 0.8192, 0.8389, 0.7995,\n",
       "         0.7825]),\n",
       " tensor([0.8491, 0.8048, 0.8636, 0.8217, 0.8772, 0.8163, 0.8098, 0.8284, 0.9657,\n",
       "         0.9565, 0.7715, 0.8292, 0.8273, 0.8872, 0.8816, 0.9148, 0.7923, 0.8604,\n",
       "         0.8300, 0.8138, 0.8911, 0.8727, 0.8718, 0.8835, 0.7847, 0.9488, 0.8380,\n",
       "         0.8737, 0.8370, 0.8701, 0.8005, 0.8592, 0.9018, 0.8451, 0.8374, 0.9141,\n",
       "         0.7785, 0.8808, 0.7834, 0.9186, 0.8079, 0.8587, 0.7844, 0.9166, 0.8702,\n",
       "         0.8768, 0.8407, 0.8620, 0.8247, 0.8877, 0.7905, 0.7806, 0.7846, 0.8196,\n",
       "         0.8475, 0.9208, 0.8273, 0.8621, 0.7998, 0.9145, 0.8985, 0.9079, 0.8370,\n",
       "         0.8108]),\n",
       " tensor([0.8291, 0.8133, 0.8565, 0.8096, 0.8523, 0.8088, 0.8307, 0.8215, 0.9021,\n",
       "         0.8889, 0.7769, 0.8443, 0.8166, 0.8658, 0.8533, 0.8652, 0.8033, 0.8445,\n",
       "         0.8242, 0.8152, 0.8449, 0.8288, 0.8400, 0.8582, 0.7969, 0.8761, 0.8312,\n",
       "         0.8383, 0.8300, 0.8241, 0.8087, 0.8161, 0.8759, 0.8485, 0.8461, 0.8789,\n",
       "         0.8035, 0.8699, 0.7958, 0.8720, 0.8092, 0.8391, 0.7970, 0.8972, 0.8538,\n",
       "         0.8605, 0.8153, 0.8595, 0.8261, 0.8817, 0.8000, 0.7886, 0.7744, 0.8069,\n",
       "         0.8449, 0.8698, 0.8209, 0.8548, 0.8048, 0.8959, 0.8570, 0.8721, 0.8179,\n",
       "         0.7964]))"
      ]
     },
     "execution_count": 39,
     "metadata": {},
     "output_type": "execute_result"
    }
   ],
   "source": [
    "familiarity_scores['BLIP-2, greedy, caption Familiarity BERTScore']"
   ]
  },
  {
   "attachments": {},
   "cell_type": "markdown",
   "metadata": {},
   "source": [
    "BERTScore nameability measurement"
   ]
  },
  {
   "cell_type": "code",
   "execution_count": 93,
   "metadata": {},
   "outputs": [
    {
     "name": "stdout",
     "output_type": "stream",
     "text": [
      "calculating scores...\n",
      "computing bert embedding.\n"
     ]
    },
    {
     "name": "stderr",
     "output_type": "stream",
     "text": [
      "100%|██████████| 2/2 [00:00<00:00,  6.62it/s]\n"
     ]
    },
    {
     "name": "stdout",
     "output_type": "stream",
     "text": [
      "computing greedy matching.\n"
     ]
    },
    {
     "name": "stderr",
     "output_type": "stream",
     "text": [
      "100%|██████████| 1/1 [00:00<00:00, 66.25it/s]\n"
     ]
    },
    {
     "name": "stdout",
     "output_type": "stream",
     "text": [
      "done in 0.32 seconds, 199.37 sentences/sec\n",
      "[0.90649217 0.95129001 0.85559881 0.88445354 0.92752224 0.7967003\n",
      " 0.94441569 0.84227252 0.91361856 0.85112768 0.85414207 0.92016542\n",
      " 0.9288013  0.93958044 0.9401778  0.82912558 0.86086822 0.90401286\n",
      " 0.89034086 0.91342008 0.890715   0.87854522 0.92492259 0.84161073\n",
      " 0.90977031 0.86307645 0.93932515 0.8927896  0.87861329 0.9061051\n",
      " 0.88382542 0.8324846  0.89714229 0.91354966 0.83259296 0.95261687\n",
      " 0.88848847 0.91238475 0.89543301 0.90840459 0.85437393 0.94840646\n",
      " 0.86646992 0.90354478 0.86432469 0.89571035 0.86466801 0.92304814\n",
      " 0.92141885 0.94400597 0.85966688 0.9576112  0.9185617  0.93780416\n",
      " 0.91403228 0.84792918 0.94170374 0.93093139 0.8984921  0.91508621\n",
      " 0.88439023 0.98458844 0.81471246 0.90929568]\n",
      "calculating scores...\n",
      "computing bert embedding.\n"
     ]
    },
    {
     "name": "stderr",
     "output_type": "stream",
     "text": [
      "100%|██████████| 2/2 [00:00<00:00,  8.26it/s]\n"
     ]
    },
    {
     "name": "stdout",
     "output_type": "stream",
     "text": [
      "computing greedy matching.\n"
     ]
    },
    {
     "name": "stderr",
     "output_type": "stream",
     "text": [
      "100%|██████████| 1/1 [00:00<00:00, 62.28it/s]\n"
     ]
    },
    {
     "name": "stdout",
     "output_type": "stream",
     "text": [
      "done in 0.26 seconds, 244.85 sentences/sec\n",
      "[1.90649241 1.88630217 1.79311162 1.80204207 1.8727141  1.71405602\n",
      " 1.91177613 1.73954803 1.82363063 1.78787929 1.85414207 1.80976951\n",
      " 1.85762751 1.87559217 1.87218714 1.77173114 1.80623341 1.8654604\n",
      " 1.89034086 1.86799258 1.78392023 1.78080904 1.83615446 1.77045953\n",
      " 1.84064221 1.8541503  1.84613746 1.80280679 1.77806145 1.83788234\n",
      " 1.83466744 1.78030735 1.88415331 1.9135499  1.73507768 1.92706674\n",
      " 1.88848859 1.79932302 1.82273394 1.84981996 1.80412465 1.89482176\n",
      " 1.81128258 1.82388276 1.81679666 1.86093104 1.81772846 1.92304802\n",
      " 1.82571888 1.88888162 1.85966688 1.92390019 1.8108604  1.93780416\n",
      " 1.91403222 1.84792918 1.94170374 1.8877455  1.88850451 1.82302314\n",
      " 1.84182662 1.89404428 1.77356583 1.77982634]\n",
      "calculating scores...\n",
      "computing bert embedding.\n"
     ]
    },
    {
     "name": "stderr",
     "output_type": "stream",
     "text": [
      "100%|██████████| 2/2 [00:00<00:00,  9.80it/s]\n"
     ]
    },
    {
     "name": "stdout",
     "output_type": "stream",
     "text": [
      "computing greedy matching.\n"
     ]
    },
    {
     "name": "stderr",
     "output_type": "stream",
     "text": [
      "100%|██████████| 1/1 [00:00<00:00, 68.79it/s]\n"
     ]
    },
    {
     "name": "stdout",
     "output_type": "stream",
     "text": [
      "done in 0.22 seconds, 286.87 sentences/sec\n",
      "[2.80658656 2.83320618 2.69356948 2.74600637 2.82826352 2.64295769\n",
      " 2.85042781 2.68390739 2.74287534 2.73766184 2.79048449 2.75785214\n",
      " 2.80047476 2.79121435 2.83144569 2.68399954 2.76057196 2.81034321\n",
      " 2.82238287 2.78367931 2.72465688 2.71852523 2.77188921 2.6468311\n",
      " 2.79877383 2.78380191 2.7764954  2.71658683 2.70942312 2.78113121\n",
      " 2.77486432 2.68376255 2.84877473 2.8476544  2.64256144 2.84028912\n",
      " 2.8221066  2.72551709 2.75687635 2.81152892 2.74663919 2.85177034\n",
      " 2.78048354 2.72958267 2.74670583 2.79834861 2.73021543 2.86383778\n",
      " 2.74165165 2.86082238 2.79518217 2.85041314 2.71079552 2.84764415\n",
      " 2.84856033 2.7426616  2.85709    2.87276614 2.8105492  2.76473182\n",
      " 2.77093184 2.83163553 2.70143217 2.7411257 ]\n",
      "calculating scores...\n",
      "computing bert embedding.\n"
     ]
    },
    {
     "name": "stderr",
     "output_type": "stream",
     "text": [
      "100%|██████████| 2/2 [00:00<00:00, 12.45it/s]\n"
     ]
    },
    {
     "name": "stdout",
     "output_type": "stream",
     "text": [
      "computing greedy matching.\n"
     ]
    },
    {
     "name": "stderr",
     "output_type": "stream",
     "text": [
      "100%|██████████| 1/1 [00:00<00:00, 68.92it/s]"
     ]
    },
    {
     "name": "stdout",
     "output_type": "stream",
     "text": [
      "done in 0.18 seconds, 356.26 sentences/sec\n",
      "[3.80658668 3.8332063  3.69356948 3.74600619 3.82826334 3.64295769\n",
      " 3.85042793 3.68390727 3.74287558 3.73766172 3.79048449 3.75785208\n",
      " 3.80047488 3.79121411 3.83144569 3.68399954 3.76057184 3.81034333\n",
      " 3.82238287 3.78367919 3.724657   3.71852511 3.72309232 3.58776635\n",
      " 3.79877383 3.78380203 3.77649534 3.69544631 3.70942336 3.78113115\n",
      " 3.77486432 3.62519354 3.84877485 3.84765464 3.64256138 3.80047673\n",
      " 3.82210672 3.72551733 3.75687647 3.81152892 3.74663895 3.85177016\n",
      " 3.78048366 3.72958279 3.74670577 3.74657512 3.73021555 3.86383766\n",
      " 3.74165177 3.86082226 3.79518217 3.85041314 3.7107954  3.8007614\n",
      " 3.84856027 3.68819302 3.82128948 3.8727659  3.8105492  3.76473153\n",
      " 3.77093184 3.83163536 3.70143211 3.7411257 ]\n"
     ]
    },
    {
     "name": "stderr",
     "output_type": "stream",
     "text": [
      "\n"
     ]
    },
    {
     "name": "stdout",
     "output_type": "stream",
     "text": [
      "calculating scores...\n",
      "computing bert embedding.\n"
     ]
    },
    {
     "name": "stderr",
     "output_type": "stream",
     "text": [
      "100%|██████████| 2/2 [00:00<00:00, 12.80it/s]\n"
     ]
    },
    {
     "name": "stdout",
     "output_type": "stream",
     "text": [
      "computing greedy matching.\n"
     ]
    },
    {
     "name": "stderr",
     "output_type": "stream",
     "text": [
      "100%|██████████| 1/1 [00:00<00:00, 64.32it/s]"
     ]
    },
    {
     "name": "stdout",
     "output_type": "stream",
     "text": [
      "done in 0.17 seconds, 365.84 sentences/sec\n",
      "[4.80658692 4.83320642 4.69356948 4.74600601 4.82826316 4.64295769\n",
      " 4.85042793 4.64507663 4.74287581 4.7376616  4.79048449 4.75785196\n",
      " 4.800475   4.79121387 4.83144569 4.67274082 4.76057172 4.81034333\n",
      " 4.82238287 4.78367907 4.64171171 4.71852499 4.7230922  4.58776635\n",
      " 4.79877383 4.78380215 4.77649528 4.69544643 4.7094236  4.78113109\n",
      " 4.77486432 4.62519366 4.84877497 4.84765488 4.64256132 4.80047673\n",
      " 4.82210684 4.72551757 4.75687647 4.81152892 4.74663872 4.85177004\n",
      " 4.78048378 4.72958291 4.74670571 4.74657512 4.68786567 4.86383754\n",
      " 4.74165177 4.86082214 4.79518217 4.85041314 4.71079528 4.8007614\n",
      " 4.84856027 4.64967972 4.82128948 4.87276566 4.8105492  4.76473129\n",
      " 4.74612802 4.83163518 4.70143205 4.7411257 ]\n"
     ]
    },
    {
     "name": "stderr",
     "output_type": "stream",
     "text": [
      "\n"
     ]
    },
    {
     "name": "stdout",
     "output_type": "stream",
     "text": [
      "calculating scores...\n",
      "computing bert embedding.\n"
     ]
    },
    {
     "name": "stderr",
     "output_type": "stream",
     "text": [
      "100%|██████████| 2/2 [00:00<00:00,  7.50it/s]\n"
     ]
    },
    {
     "name": "stdout",
     "output_type": "stream",
     "text": [
      "computing greedy matching.\n"
     ]
    },
    {
     "name": "stderr",
     "output_type": "stream",
     "text": [
      "100%|██████████| 1/1 [00:00<00:00, 49.93it/s]\n"
     ]
    },
    {
     "name": "stdout",
     "output_type": "stream",
     "text": [
      "done in 0.29 seconds, 219.84 sentences/sec\n",
      "[5.69765127 5.78081834 5.52524972 5.71601576 5.76891369 5.54076773\n",
      " 5.78525966 5.60624599 5.66838157 5.66708314 5.75375342 5.68847471\n",
      " 5.73705906 5.70180237 5.82051021 5.5831567  5.69153559 5.78126365\n",
      " 5.75606143 5.63317114 5.55572081 5.63572496 5.64210302 5.48748082\n",
      " 5.68113321 5.70856768 5.74318814 5.67028201 5.62040776 5.71313214\n",
      " 5.75992143 5.60601717 5.79008448 5.78071254 5.6234411  5.75426084\n",
      " 5.73789144 5.64021599 5.69728166 5.77251863 5.72411036 5.82174963\n",
      " 5.68850458 5.66635007 5.74369496 5.71765071 5.6289953  5.81822133\n",
      " 5.66745245 5.8261202  5.74156046 5.81670219 5.65546149 5.68828952\n",
      " 5.76318014 5.5552789  5.78642076 5.87276554 5.75788891 5.74169683\n",
      " 5.70356441 5.80100805 5.64905322 5.67004275]\n",
      "calculating scores...\n",
      "computing bert embedding.\n"
     ]
    },
    {
     "name": "stderr",
     "output_type": "stream",
     "text": [
      "100%|██████████| 2/2 [00:00<00:00,  7.23it/s]\n"
     ]
    },
    {
     "name": "stdout",
     "output_type": "stream",
     "text": [
      "computing greedy matching.\n"
     ]
    },
    {
     "name": "stderr",
     "output_type": "stream",
     "text": [
      "100%|██████████| 1/1 [00:00<00:00, 66.54it/s]\n"
     ]
    },
    {
     "name": "stdout",
     "output_type": "stream",
     "text": [
      "done in 0.30 seconds, 216.36 sentences/sec\n",
      "[6.62499452 6.67596382 6.43958271 6.65190405 6.68788761 6.3987577\n",
      " 6.68067366 6.5243417  6.56548196 6.58445042 6.5813247  6.59676677\n",
      " 6.61678183 6.63140607 6.76792252 6.51403993 6.65314347 6.65834576\n",
      " 6.6779772  6.52473652 6.45798397 6.53955936 6.52985257 6.32585084\n",
      " 6.56178284 6.56651086 6.64332789 6.58853447 6.44120842 6.61368316\n",
      " 6.62127155 6.46052378 6.72125769 6.68258959 6.53465974 6.62848067\n",
      " 6.64302349 6.52579814 6.62103271 6.63545376 6.59648865 6.71285969\n",
      " 6.55757254 6.53822619 6.69526649 6.54861432 6.50632298 6.68396288\n",
      " 6.60269541 6.74619412 6.67730266 6.76856023 6.54299206 6.61655003\n",
      " 6.61893243 6.44126159 6.73983592 6.78823775 6.65523511 6.63453716\n",
      " 6.58907717 6.74467254 6.55456895 6.59687012]\n",
      "calculating scores...\n",
      "computing bert embedding.\n"
     ]
    },
    {
     "name": "stderr",
     "output_type": "stream",
     "text": [
      "100%|██████████| 2/2 [00:00<00:00,  8.39it/s]\n"
     ]
    },
    {
     "name": "stdout",
     "output_type": "stream",
     "text": [
      "computing greedy matching.\n"
     ]
    },
    {
     "name": "stderr",
     "output_type": "stream",
     "text": [
      "100%|██████████| 1/1 [00:00<00:00, 68.88it/s]\n"
     ]
    },
    {
     "name": "stdout",
     "output_type": "stream",
     "text": [
      "done in 0.26 seconds, 247.54 sentences/sec\n",
      "[7.62499475 7.61097598 7.37709552 7.56949258 7.63307947 7.31611341\n",
      " 7.6480341  7.42161721 7.47549403 7.52120203 7.5813247  7.48637086\n",
      " 7.54560804 7.5674178  7.69993186 7.45664549 7.59850866 7.6197933\n",
      " 7.6779772  7.47930902 7.3511892  7.44182318 7.44108444 7.25469965\n",
      " 7.49265474 7.5575847  7.5501402  7.49855167 7.34065658 7.5454604\n",
      " 7.57211357 7.40834653 7.7082687  7.68258983 7.43714446 7.60293055\n",
      " 7.64302361 7.41273642 7.54833364 7.57686913 7.54623938 7.659275\n",
      " 7.5023852  7.45856416 7.64773846 7.51383501 7.45938343 7.68396276\n",
      " 7.50699544 7.69106978 7.67730266 7.73484921 7.43529075 7.61655003\n",
      " 7.61893237 7.44126159 7.73983592 7.74505186 7.64524752 7.54247409\n",
      " 7.54651356 7.65412837 7.51342231 7.46740079]\n",
      "calculating scores...\n",
      "computing bert embedding.\n"
     ]
    },
    {
     "name": "stderr",
     "output_type": "stream",
     "text": [
      "100%|██████████| 2/2 [00:00<00:00,  6.98it/s]\n"
     ]
    },
    {
     "name": "stdout",
     "output_type": "stream",
     "text": [
      "computing greedy matching.\n"
     ]
    },
    {
     "name": "stderr",
     "output_type": "stream",
     "text": [
      "100%|██████████| 1/1 [00:00<00:00, 66.40it/s]\n"
     ]
    },
    {
     "name": "stdout",
     "output_type": "stream",
     "text": [
      "done in 0.31 seconds, 209.80 sentences/sec\n",
      "[8.54429102 8.54598802 8.31460834 8.48708123 8.57827145 8.2200706\n",
      " 8.61539453 8.31337535 8.38550603 8.45795363 8.52007806 8.37597495\n",
      " 8.47995907 8.50342953 8.63194132 8.39925116 8.54387385 8.58124083\n",
      " 8.6779772  8.43388152 8.23802626 8.344087   8.34712267 8.18576211\n",
      " 8.44035673 8.54233742 8.46258324 8.40856892 8.24010473 8.47723764\n",
      " 8.47684044 8.35616928 8.67887652 8.68259007 8.36630964 8.57738042\n",
      " 8.54582375 8.31423086 8.47563452 8.50511551 8.4561308  8.6056903\n",
      " 8.44719779 8.36469746 8.60021061 8.4790557  8.41244388 8.68396264\n",
      " 8.41129547 8.59578359 8.67730266 8.70113826 8.32758945 8.61655003\n",
      " 8.61893225 8.44126159 8.73983592 8.70186603 8.63525993 8.42808533\n",
      " 8.50394994 8.56358421 8.49958259 8.33793145]\n",
      "calculating scores...\n",
      "computing bert embedding.\n"
     ]
    },
    {
     "name": "stderr",
     "output_type": "stream",
     "text": [
      "100%|██████████| 2/2 [00:00<00:00,  7.39it/s]\n"
     ]
    },
    {
     "name": "stdout",
     "output_type": "stream",
     "text": [
      "computing greedy matching.\n"
     ]
    },
    {
     "name": "stderr",
     "output_type": "stream",
     "text": [
      "100%|██████████| 1/1 [00:00<00:00, 66.49it/s]\n"
     ]
    },
    {
     "name": "stdout",
     "output_type": "stream",
     "text": [
      "done in 0.29 seconds, 221.10 sentences/sec\n",
      "[9.45078319 9.45761764 9.16796768 9.41684663 9.47764659 9.0140419\n",
      " 9.54824167 9.14115679 9.30085659 9.32272077 9.37421995 9.27042425\n",
      " 9.38370228 9.43709135 9.56235582 9.21464676 9.39698702 9.47259969\n",
      " 9.56831789 9.35315621 9.10456806 9.20578253 9.24960351 9.0302307\n",
      " 9.32292449 9.41796952 9.34422672 9.26727575 9.17365956 9.37559515\n",
      " 9.36318582 9.20269436 9.5830791  9.59613973 9.17978877 9.51292765\n",
      " 9.43431222 9.19144857 9.37487274 9.44593215 9.36361957 9.52925956\n",
      " 9.30682921 9.28838861 9.5128659  9.3792401  9.25782442 9.60701078\n",
      " 9.30403948 9.49363065 9.53696954 9.69104105 9.22313756 9.55435419\n",
      " 9.53296453 9.28919077 9.68153965 9.60893375 9.52899641 9.3213625\n",
      " 9.39888072 9.45424271 9.30781108 9.2326991 ]\n",
      "calculating scores...\n",
      "computing bert embedding.\n"
     ]
    },
    {
     "name": "stderr",
     "output_type": "stream",
     "text": [
      "100%|██████████| 2/2 [00:00<00:00,  8.98it/s]\n"
     ]
    },
    {
     "name": "stdout",
     "output_type": "stream",
     "text": [
      "computing greedy matching.\n"
     ]
    },
    {
     "name": "stderr",
     "output_type": "stream",
     "text": [
      "100%|██████████| 1/1 [00:00<00:00, 66.49it/s]\n"
     ]
    },
    {
     "name": "stdout",
     "output_type": "stream",
     "text": [
      "done in 0.24 seconds, 263.99 sentences/sec\n",
      "[10.31113219 10.38354141  9.96168858 10.30274045 10.34303612  9.7932021\n",
      " 10.44853026  9.98185337 10.16668695 10.17198032 10.20773083 10.15888476\n",
      " 10.26892972 10.30533206 10.53470075 10.02155077 10.25557667 10.34662455\n",
      " 10.45681304 10.18414032 10.01619214 10.07288677 10.15417463  9.88057506\n",
      " 10.25490695 10.28822112 10.22933453 10.18082154 10.02631509 10.26455098\n",
      " 10.22205126 10.03899986 10.48498052 10.51412803  9.99171478 10.41201425\n",
      " 10.30765778 10.05526084 10.25426799 10.36652589 10.21355575 10.48452371\n",
      " 10.17699337 10.14064211 10.37844944 10.2645722  10.11903918 10.54160762\n",
      " 10.18264019 10.41071951 10.40154076 10.58842421 10.09322459 10.45172691\n",
      " 10.44934082 10.11523974 10.60408711 10.54826307 10.41970724 10.22395951\n",
      " 10.2761845  10.36697054 10.11970842 10.11080748]\n",
      "calculating scores...\n",
      "computing bert embedding.\n"
     ]
    },
    {
     "name": "stderr",
     "output_type": "stream",
     "text": [
      "100%|██████████| 2/2 [00:00<00:00,  7.40it/s]\n"
     ]
    },
    {
     "name": "stdout",
     "output_type": "stream",
     "text": [
      "computing greedy matching.\n"
     ]
    },
    {
     "name": "stderr",
     "output_type": "stream",
     "text": [
      "100%|██████████| 1/1 [00:00<00:00, 63.98it/s]\n"
     ]
    },
    {
     "name": "stdout",
     "output_type": "stream",
     "text": [
      "done in 0.29 seconds, 220.29 sentences/sec\n",
      "[11.21762431 11.33483142 10.81728739 11.18719399 11.27055836 10.58990234\n",
      " 11.39294595 10.82412589 11.08030558 11.02310807 11.0618729  11.07905018\n",
      " 11.19773108 11.24491245 11.47487855 10.85067636 11.11644489 11.25063741\n",
      " 11.3471539  11.09756041 10.9069072  10.95143199 11.05531359 10.71326053\n",
      " 11.16467726 11.15129757 11.16865969 11.07949591 10.90492845 11.17065609\n",
      " 11.10587668 10.86746222 11.38212281 11.42767781 10.82430774 11.34837884\n",
      " 11.19614625 10.96764553 11.14970106 11.27493048 11.06792969 11.43293017\n",
      " 11.04346329 11.04418689 11.24277413 11.14500433 10.98370713 11.46465576\n",
      " 11.10405904 11.35472554 11.26120764 11.54603541 11.01178628 11.38241816\n",
      " 11.3633731  10.96104383 11.5405215  11.47919446 11.31819934 11.13904577\n",
      " 11.16057467 11.35155904 10.93442088 11.02010316]\n",
      "calculating scores...\n",
      "computing bert embedding.\n"
     ]
    },
    {
     "name": "stderr",
     "output_type": "stream",
     "text": [
      "100%|██████████| 2/2 [00:00<00:00,  7.31it/s]\n"
     ]
    },
    {
     "name": "stdout",
     "output_type": "stream",
     "text": [
      "computing greedy matching.\n"
     ]
    },
    {
     "name": "stderr",
     "output_type": "stream",
     "text": [
      "100%|██████████| 1/1 [00:00<00:00, 62.41it/s]\n"
     ]
    },
    {
     "name": "stdout",
     "output_type": "stream",
     "text": [
      "done in 0.29 seconds, 218.43 sentences/sec\n",
      "[12.12411648 12.28612143 11.67288619 12.07164752 12.1980806  11.38660264\n",
      " 12.33736163 11.66639841 11.99392414 11.87423575 11.91601497 11.9992156\n",
      " 12.12653238 12.18449289 12.41505635 11.67980194 11.9773131  12.15465027\n",
      " 12.23749477 12.01098049 11.7976222  11.82997721 11.98023617 11.55487126\n",
      " 12.07444757 12.01437402 12.10798484 11.97228551 11.78354174 12.07676119\n",
      " 11.98970211 11.69994682 12.27926511 12.34122747 11.6569007  12.30099571\n",
      " 12.08463472 11.88003027 12.04513407 12.18333507 11.92230362 12.38133663\n",
      " 11.90993321 11.94773167 12.10709882 12.04071468 11.84837514 12.3877039\n",
      " 12.02547789 12.29873151 12.12087452 12.50364661 11.93034798 12.32022232\n",
      " 12.27740538 11.80897301 12.48222524 12.41012585 12.21669143 12.05413198\n",
      " 12.04496491 12.33614749 11.74913335 11.92939883]\n",
      "calculating scores...\n",
      "computing bert embedding.\n"
     ]
    },
    {
     "name": "stderr",
     "output_type": "stream",
     "text": [
      "100%|██████████| 2/2 [00:00<00:00,  6.67it/s]\n"
     ]
    },
    {
     "name": "stdout",
     "output_type": "stream",
     "text": [
      "computing greedy matching.\n"
     ]
    },
    {
     "name": "stderr",
     "output_type": "stream",
     "text": [
      "100%|██████████| 1/1 [00:00<00:00, 40.64it/s]\n"
     ]
    },
    {
     "name": "stdout",
     "output_type": "stream",
     "text": [
      "done in 0.33 seconds, 193.58 sentences/sec\n",
      "[13.03060865 13.23741144 12.528485   12.95610106 13.12560284 12.18330294\n",
      " 13.28177732 12.50688648 12.90754271 12.72536343 12.77015704 12.91938102\n",
      " 13.05533367 13.12407333 13.35523415 12.50557745 12.83818132 13.05866313\n",
      " 13.12783563 12.92440057 12.68910426 12.70852244 12.90515876 12.39648199\n",
      " 12.98421788 12.87745047 13.04730999 12.86507511 12.66215503 12.98286629\n",
      " 12.87352753 12.53243142 13.1764074  13.25477713 12.48949367 13.25361258\n",
      " 12.97312319 12.79241502 12.94056708 13.09173965 12.77667755 13.32974309\n",
      " 12.77640313 12.85127646 12.97142351 12.93642503 12.7220127  13.31075203\n",
      " 12.94689673 13.24273747 12.98054141 13.46125782 12.84890968 13.25802648\n",
      " 13.19143766 12.66168201 13.42392898 13.34105724 13.11518353 12.96921819\n",
      " 12.94149029 13.32073593 12.56384581 12.83869451]\n",
      "calculating scores...\n",
      "computing bert embedding.\n"
     ]
    },
    {
     "name": "stderr",
     "output_type": "stream",
     "text": [
      "100%|██████████| 2/2 [00:00<00:00,  6.95it/s]\n"
     ]
    },
    {
     "name": "stdout",
     "output_type": "stream",
     "text": [
      "computing greedy matching.\n"
     ]
    },
    {
     "name": "stderr",
     "output_type": "stream",
     "text": [
      "100%|██████████| 1/1 [00:00<00:00, 70.82it/s]\n"
     ]
    },
    {
     "name": "stdout",
     "output_type": "stream",
     "text": [
      "done in 0.31 seconds, 208.99 sentences/sec\n",
      "[13.93603545 14.14570791 13.44114125 13.83564693 14.1104663  12.9886319\n",
      " 14.21025419 13.34737456 13.82723641 13.57913268 13.6238513  13.83522534\n",
      " 13.94475561 14.00695312 14.29550225 13.34007347 13.70521653 13.95621336\n",
      " 14.03583145 13.79506457 13.56630319 13.57621747 13.80659974 13.24751008\n",
      " 13.84798503 13.73984301 13.98662758 13.75934374 13.57650608 13.87829715\n",
      " 13.77391756 13.36583394 14.07450557 14.16643083 13.32408255 14.20266747\n",
      " 13.8494159  13.67933178 13.85916823 13.98919827 13.62889028 14.29296088\n",
      " 13.6847474  13.74378425 13.83630902 13.84926516 13.5847221  14.19670701\n",
      " 13.87296289 14.18537253 13.85656202 14.45116061 13.75109047 14.18609011\n",
      " 14.0557515  13.50453699 14.38678515 14.27198863 14.02939951 13.87879932\n",
      " 13.83642107 14.30281919 13.36920631 13.71042752]\n",
      "calculating scores...\n",
      "computing bert embedding.\n"
     ]
    },
    {
     "name": "stderr",
     "output_type": "stream",
     "text": [
      "100%|██████████| 2/2 [00:00<00:00,  7.01it/s]\n"
     ]
    },
    {
     "name": "stdout",
     "output_type": "stream",
     "text": [
      "computing greedy matching.\n"
     ]
    },
    {
     "name": "stderr",
     "output_type": "stream",
     "text": [
      "100%|██████████| 1/1 [00:00<00:00, 64.39it/s]\n"
     ]
    },
    {
     "name": "stdout",
     "output_type": "stream",
     "text": [
      "done in 0.30 seconds, 210.05 sentences/sec\n",
      "[14.8187201  15.02952856 14.30377114 14.74787593 15.02933228 13.78825396\n",
      " 15.1246838  14.17836893 14.72368819 14.40856183 14.4901644  14.72801739\n",
      " 14.8031199  14.91015935 15.20715046 14.17042059 14.56069672 14.8372367\n",
      " 14.91928446 14.70063221 14.43833703 14.45246857 14.68408781 14.07370734\n",
      " 14.73499995 14.57746255 14.87200272 14.62597382 14.40654415 14.76939255\n",
      " 14.62290728 14.20113891 14.96841103 15.05521876 14.16437501 15.07225662\n",
      " 14.7344954  14.54369831 14.7567054  14.83511335 14.45009059 15.16431201\n",
      " 14.52445418 14.59910369 14.70176542 14.66377211 14.43441999 15.07705003\n",
      " 14.80937576 15.09232962 14.71827501 15.39684975 14.62461126 15.09576863\n",
      " 14.947797   14.37571037 15.29924011 15.15701562 14.92028427 14.75864434\n",
      " 14.70984709 15.24041444 14.1761114  14.6146009 ]\n",
      "calculating scores...\n",
      "computing bert embedding.\n"
     ]
    },
    {
     "name": "stderr",
     "output_type": "stream",
     "text": [
      "100%|██████████| 2/2 [00:00<00:00,  7.20it/s]\n"
     ]
    },
    {
     "name": "stdout",
     "output_type": "stream",
     "text": [
      "computing greedy matching.\n"
     ]
    },
    {
     "name": "stderr",
     "output_type": "stream",
     "text": [
      "100%|██████████| 1/1 [00:00<00:00, 64.48it/s]\n"
     ]
    },
    {
     "name": "stdout",
     "output_type": "stream",
     "text": [
      "done in 0.30 seconds, 216.02 sentences/sec\n",
      "[15.72521228 15.98081857 15.15936995 15.63232946 15.95685452 14.58495426\n",
      " 16.06909949 15.02064145 15.63730675 15.25968951 15.34430647 15.64818281\n",
      " 15.7319212  15.84973979 16.14732826 14.99954617 15.42156494 15.74124956\n",
      " 15.80962533 15.6140523  15.32905203 15.3310138  15.6090104  14.91531807\n",
      " 15.64477026 15.440539   15.81132787 15.51876342 15.28515744 15.67549765\n",
      " 15.5067327  15.03362352 15.86555332 15.96876842 14.99696797 16.0248735\n",
      " 15.62298387 15.45608306 15.65213841 15.74351794 15.30446452 16.11271846\n",
      " 15.3909241  15.50264847 15.56609011 15.55948246 15.299088   16.00009817\n",
      " 15.73079461 16.03633559 15.57794189 16.35446095 15.54317296 16.03357279\n",
      " 15.86182928 15.22363955 16.24094385 16.08794701 15.81877637 15.67373055\n",
      " 15.59423733 16.22500288 14.99082386 15.52389657]\n",
      "calculating scores...\n",
      "computing bert embedding.\n"
     ]
    },
    {
     "name": "stderr",
     "output_type": "stream",
     "text": [
      "100%|██████████| 2/2 [00:00<00:00,  7.22it/s]\n"
     ]
    },
    {
     "name": "stdout",
     "output_type": "stream",
     "text": [
      "computing greedy matching.\n"
     ]
    },
    {
     "name": "stderr",
     "output_type": "stream",
     "text": [
      "100%|██████████| 1/1 [00:00<00:00, 68.90it/s]\n"
     ]
    },
    {
     "name": "stdout",
     "output_type": "stream",
     "text": [
      "done in 0.29 seconds, 217.02 sentences/sec\n",
      "[16.63170445 16.89244819 16.01272929 16.56209487 16.85622966 15.37892556\n",
      " 17.00194663 15.84842288 16.55265731 16.12445664 16.19844836 16.5426321\n",
      " 16.6356644  16.78340161 17.07774276 15.81494176 16.27467811 16.63260841\n",
      " 16.69996601 16.53332698 16.19559383 16.19270933 16.51149124 15.75978667\n",
      " 16.52733803 16.31617111 16.69297135 16.37747025 16.21871227 16.57385516\n",
      " 16.39307809 15.88014859 16.7697559  16.88231808 15.8104471  16.96042073\n",
      " 16.51147234 16.33330077 16.55137664 16.68433458 16.21195328 17.03628772\n",
      " 16.25055552 16.42633963 16.4787454  16.45966685 16.14446855 16.92314631\n",
      " 16.62353861 16.93418264 16.43760878 17.34436375 16.43872106 16.97137696\n",
      " 16.77586156 16.07156873 17.18264759 16.99501473 16.71251285 16.56700772\n",
      " 16.48916811 17.11566138 15.79905236 16.41866422]\n",
      "calculating scores...\n",
      "computing bert embedding.\n"
     ]
    },
    {
     "name": "stderr",
     "output_type": "stream",
     "text": [
      "100%|██████████| 2/2 [00:00<00:00,  7.21it/s]\n"
     ]
    },
    {
     "name": "stdout",
     "output_type": "stream",
     "text": [
      "computing greedy matching.\n"
     ]
    },
    {
     "name": "stderr",
     "output_type": "stream",
     "text": [
      "100%|██████████| 1/1 [00:00<00:00, 66.58it/s]\n"
     ]
    },
    {
     "name": "stdout",
     "output_type": "stream",
     "text": [
      "done in 0.30 seconds, 216.33 sentences/sec\n",
      "[17.52096707 17.8040778  16.86608863 17.49186027 17.7556048  16.17362607\n",
      " 17.93479377 16.68735474 17.46800786 16.98922378 17.04620188 17.4370814\n",
      " 17.52153373 17.71706343 18.00815725 16.63033736 17.12779129 17.52396727\n",
      " 17.5903067  17.45260167 17.05384594 17.05440485 17.40753722 16.60465169\n",
      " 17.43358755 17.19370902 17.57760745 17.23617709 17.1522671  17.47221267\n",
      " 17.30968767 16.72667366 17.69480717 17.79586774 16.63985366 17.89596796\n",
      " 17.42302716 17.2088505  17.45061487 17.62017626 17.12523574 17.95985699\n",
      " 17.11018693 17.3304351  17.39140069 17.35985124 16.98984909 17.84619445\n",
      " 17.51628262 17.82764763 17.29727566 18.33426654 17.33426917 17.90918112\n",
      " 17.68989384 16.91949791 18.12435132 17.90208244 17.60624933 17.45044327\n",
      " 17.38409889 18.00631988 16.60928422 17.31343186]\n",
      "calculating scores...\n",
      "computing bert embedding.\n"
     ]
    },
    {
     "name": "stderr",
     "output_type": "stream",
     "text": [
      "100%|██████████| 2/2 [00:00<00:00,  9.63it/s]\n"
     ]
    },
    {
     "name": "stdout",
     "output_type": "stream",
     "text": [
      "computing greedy matching.\n"
     ]
    },
    {
     "name": "stderr",
     "output_type": "stream",
     "text": [
      "100%|██████████| 1/1 [00:00<00:00, 71.24it/s]\n"
     ]
    },
    {
     "name": "stdout",
     "output_type": "stream",
     "text": [
      "done in 0.23 seconds, 283.50 sentences/sec\n",
      "[18.42106122 18.73039359 17.75509572 18.40612686 18.66627002 17.08481842\n",
      " 18.84786719 17.5848577  18.33904809 17.87670076 17.9825443  18.30550486\n",
      " 18.44282174 18.59688735 18.9586733  17.51801807 18.06630528 18.44289488\n",
      " 18.5223487  18.35293794 17.95112622 17.93633443 18.32930815 17.45159495\n",
      " 18.31371742 18.11490744 18.48141021 18.09791446 18.04252052 18.39605045\n",
      " 18.20042086 17.60636592 18.63821262 18.72997224 17.52891326 18.79192865\n",
      " 18.35664517 18.0510844  18.35681194 18.55049127 18.05207771 18.87876242\n",
      " 18.06185305 18.19358706 18.28985268 18.26651239 17.8779161  18.78698421\n",
      " 18.41382271 18.77927887 18.23279095 19.23156756 18.19962394 18.81902111\n",
      " 18.62442195 17.81423032 19.03973758 18.84747803 18.52145988 18.34801537\n",
      " 18.25717264 18.90791059 17.50673807 18.19060946]\n",
      "calculating scores...\n",
      "computing bert embedding.\n"
     ]
    },
    {
     "name": "stderr",
     "output_type": "stream",
     "text": [
      "100%|██████████| 2/2 [00:00<00:00,  7.49it/s]\n"
     ]
    },
    {
     "name": "stdout",
     "output_type": "stream",
     "text": [
      "computing greedy matching.\n"
     ]
    },
    {
     "name": "stderr",
     "output_type": "stream",
     "text": [
      "100%|██████████| 1/1 [00:00<00:00, 71.27it/s]\n"
     ]
    },
    {
     "name": "stdout",
     "output_type": "stream",
     "text": [
      "done in 0.29 seconds, 224.27 sentences/sec\n",
      "[19.42106134 19.66540563 18.69260854 19.32371551 19.611462   18.00217414\n",
      " 19.81522763 18.48213321 19.24906009 18.81345236 18.9825443  19.19510895\n",
      " 19.37164807 19.53289908 19.89068276 18.46062374 19.01167047 19.40434241\n",
      " 19.5223487  19.30751044 18.84433144 18.83859825 19.22481817 18.32256538\n",
      " 19.24458933 19.10598123 19.38822263 19.01577187 18.94196868 19.32782769\n",
      " 19.15126288 18.50629419 19.62522364 19.72997248 18.43139791 19.73249787\n",
      " 19.35664529 18.93802261 19.28411281 19.4919067  19.00182843 19.82517773\n",
      " 19.00666565 19.11392498 19.24232483 19.17784536 18.83097667 19.78698409\n",
      " 19.31812274 19.72415453 19.23279095 20.19785661 19.09192264 19.77213836\n",
      " 19.62442189 18.75976175 20.00393707 19.8042922  19.51147228 19.25595224\n",
      " 19.21460903 19.81736642 18.46559143 19.06114012]\n",
      "calculating scores...\n",
      "computing bert embedding.\n"
     ]
    },
    {
     "name": "stderr",
     "output_type": "stream",
     "text": [
      "100%|██████████| 2/2 [00:00<00:00,  7.46it/s]\n"
     ]
    },
    {
     "name": "stdout",
     "output_type": "stream",
     "text": [
      "computing greedy matching.\n"
     ]
    },
    {
     "name": "stderr",
     "output_type": "stream",
     "text": [
      "100%|██████████| 1/1 [00:00<00:00, 71.03it/s]\n"
     ]
    },
    {
     "name": "stdout",
     "output_type": "stream",
     "text": [
      "done in 0.29 seconds, 222.70 sentences/sec\n",
      "[20.42106158 20.60041779 19.63012135 20.24130404 20.55665386 18.91952986\n",
      " 20.78258806 19.37940872 20.15907216 19.75020397 19.9825443  20.08471304\n",
      " 20.30047429 20.46891081 20.8226921  19.4032293  19.95703566 20.36578995\n",
      " 20.5223487  20.26208293 19.73753667 19.74086207 20.13605005 19.25141418\n",
      " 20.17546123 20.09705508 20.29503495 19.92578906 19.84141684 20.25960493\n",
      " 20.1021049  19.45411694 20.61223465 20.72997272 19.33388263 20.70694774\n",
      " 20.35664541 19.82496089 20.21141374 20.43332207 19.95157915 20.77159303\n",
      " 19.9514783  20.03426296 20.1947968  20.14306605 19.78403711 20.78698397\n",
      " 20.22242278 20.66903019 20.23279095 21.16414559 19.98422134 20.77213836\n",
      " 20.62442183 19.75976175 21.00393707 20.76110631 20.50148469 20.16388917\n",
      " 20.17204541 20.72682226 19.42444479 19.93167078]\n",
      "calculating scores...\n",
      "computing bert embedding.\n"
     ]
    },
    {
     "name": "stderr",
     "output_type": "stream",
     "text": [
      "100%|██████████| 2/2 [00:00<00:00,  8.05it/s]\n"
     ]
    },
    {
     "name": "stdout",
     "output_type": "stream",
     "text": [
      "computing greedy matching.\n"
     ]
    },
    {
     "name": "stderr",
     "output_type": "stream",
     "text": [
      "100%|██████████| 1/1 [00:00<00:00, 71.27it/s]\n"
     ]
    },
    {
     "name": "stdout",
     "output_type": "stream",
     "text": [
      "done in 0.27 seconds, 238.89 sentences/sec\n",
      "[21.42106181 21.53542995 20.56763417 21.15889257 21.50184572 19.83688557\n",
      " 21.7499485  20.29705048 21.06908423 20.68695557 20.9825443  20.97431713\n",
      " 21.22930062 21.40492254 21.75470144 20.33907378 20.90240085 21.32723749\n",
      " 21.5223487  21.21665543 20.62450182 20.64312589 21.04728192 20.18026298\n",
      " 21.10633314 21.08812892 21.20184726 20.83580625 20.74086499 21.19138217\n",
      " 21.05294693 20.40193969 21.59924567 21.72997296 20.23636734 21.68139762\n",
      " 21.35664552 20.71189916 21.13871467 21.37473744 20.90132987 21.71800834\n",
      " 20.89629096 20.95460093 21.14726877 21.10828674 20.70580232 21.78698385\n",
      " 21.12672281 21.61390585 21.23279095 22.13043457 20.87652004 21.77213836\n",
      " 21.62442178 20.72124845 22.00393707 21.71792042 21.4914971  21.0718261\n",
      " 21.14169401 21.63627809 20.38329816 20.80220145]\n",
      "calculating scores...\n",
      "computing bert embedding.\n"
     ]
    },
    {
     "name": "stderr",
     "output_type": "stream",
     "text": [
      "100%|██████████| 2/2 [00:00<00:00,  7.27it/s]\n"
     ]
    },
    {
     "name": "stdout",
     "output_type": "stream",
     "text": [
      "computing greedy matching.\n"
     ]
    },
    {
     "name": "stderr",
     "output_type": "stream",
     "text": [
      "100%|██████████| 1/1 [00:00<00:00, 70.86it/s]\n"
     ]
    },
    {
     "name": "stdout",
     "output_type": "stream",
     "text": [
      "done in 0.29 seconds, 217.65 sentences/sec\n",
      "[22.31212616 22.43671137 21.3953616  22.07100672 22.41086018 20.71414042\n",
      " 22.70911038 21.21469223 22.04612041 21.61198217 21.94581324 21.87341887\n",
      " 22.15662897 22.29140037 22.6754415  21.23852229 21.8127718  22.28219444\n",
      " 22.45602727 22.07942504 21.51986092 21.55416977 21.94472104 21.05368042\n",
      " 21.98690647 22.01054251 22.12893081 21.74937427 21.64036995 22.11869669\n",
      " 21.99758708 21.34810477 22.55032378 22.66303062 21.14487737 22.64111507\n",
      " 22.27243012 21.57238412 22.08051628 22.31502563 21.84266931 22.6429916\n",
      " 21.79626578 21.87823784 22.09698182 22.08646834 21.62841815 22.74136764\n",
      " 22.08229548 22.53200012 22.17916924 23.13043457 21.78352076 22.65966648\n",
      " 22.53904164 21.62684762 22.96906835 22.67473459 22.42763174 21.97528833\n",
      " 22.14169383 22.54092765 21.30859518 21.68299359]\n",
      "calculating scores...\n",
      "computing bert embedding.\n"
     ]
    },
    {
     "name": "stderr",
     "output_type": "stream",
     "text": [
      "100%|██████████| 2/2 [00:00<00:00,  7.12it/s]\n"
     ]
    },
    {
     "name": "stdout",
     "output_type": "stream",
     "text": [
      "computing greedy matching.\n"
     ]
    },
    {
     "name": "stderr",
     "output_type": "stream",
     "text": [
      "100%|██████████| 1/1 [00:00<00:00, 67.24it/s]\n"
     ]
    },
    {
     "name": "stdout",
     "output_type": "stream",
     "text": [
      "done in 0.30 seconds, 213.59 sentences/sec\n",
      "[23.23946935 23.3145569  22.28437573 23.03759784 23.341097   21.55563974\n",
      " 23.6444791  22.07790458 23.00675255 22.52386224 22.77338451 22.7936967\n",
      " 23.057311   23.2309339  23.57030773 22.16480005 22.73275012 23.15657765\n",
      " 23.37794292 22.96865612 22.41651046 22.52335483 22.81213075 21.89054209\n",
      " 22.9003346  22.86806345 23.04782289 22.65764248 22.45424092 23.05107349\n",
      " 22.85581547 22.19582367 23.48974824 23.56490767 22.08081549 23.51100057\n",
      " 23.17756218 22.42552811 23.01782489 23.17452598 22.70532751 23.56271386\n",
      " 22.66317749 22.73369497 23.01950097 22.91736645 22.50262839 23.60710919\n",
      " 22.9635632  23.43534064 23.11491138 24.08336461 22.71552336 23.58792698\n",
      " 23.39479393 22.51283032 23.9224835  23.57466251 23.31749696 22.84981126\n",
      " 23.04611921 23.45635957 22.21011144 22.55313587]\n",
      "calculating scores...\n",
      "computing bert embedding.\n"
     ]
    },
    {
     "name": "stderr",
     "output_type": "stream",
     "text": [
      "100%|██████████| 2/2 [00:00<00:00,  8.27it/s]\n"
     ]
    },
    {
     "name": "stdout",
     "output_type": "stream",
     "text": [
      "computing greedy matching.\n"
     ]
    },
    {
     "name": "stderr",
     "output_type": "stream",
     "text": [
      "100%|██████████| 1/1 [00:00<00:00, 71.31it/s]\n"
     ]
    },
    {
     "name": "stdout",
     "output_type": "stream",
     "text": [
      "done in 0.26 seconds, 245.79 sentences/sec\n",
      "[24.23946959 24.24956906 23.22188854 23.95518637 24.28628886 22.47299546\n",
      " 24.61183953 22.97518009 23.91676462 23.46061385 23.77338451 23.68330079\n",
      " 23.98613721 24.16694564 24.50231707 23.1074056  23.67811531 24.11802518\n",
      " 24.37794292 23.92322862 23.30971569 23.42561865 23.72336262 22.81939089\n",
      " 23.8312065  23.8591373  23.9546352  23.56765968 23.35368907 23.98285073\n",
      " 23.80665749 23.14364642 24.47675925 24.56490791 22.98330021 24.48545045\n",
      " 24.1775623  23.31246638 23.94512582 24.11594135 23.65507823 24.50912917\n",
      " 23.60799015 23.65403295 23.97197294 23.88258713 23.45568883 24.60710907\n",
      " 23.86786324 24.3802163  24.11491138 25.04965359 23.60782206 24.58792698\n",
      " 24.39479387 23.51283032 24.9224835  24.53147662 24.30750936 23.75774819\n",
      " 24.0035556  24.3658154  23.1689648  23.42366654]\n",
      "calculating scores...\n",
      "computing bert embedding.\n"
     ]
    },
    {
     "name": "stderr",
     "output_type": "stream",
     "text": [
      "100%|██████████| 2/2 [00:00<00:00, 10.27it/s]\n"
     ]
    },
    {
     "name": "stdout",
     "output_type": "stream",
     "text": [
      "computing greedy matching.\n"
     ]
    },
    {
     "name": "stderr",
     "output_type": "stream",
     "text": [
      "100%|██████████| 1/1 [00:00<00:00, 68.27it/s]\n"
     ]
    },
    {
     "name": "stdout",
     "output_type": "stream",
     "text": [
      "done in 0.21 seconds, 300.66 sentences/sec\n",
      "[25.15876585 25.24956894 24.22188842 24.95518661 25.2862891  23.4141444\n",
      " 25.61183953 23.93480742 24.91676456 24.46061385 24.71213788 24.68330091\n",
      " 24.91204065 25.1669454  25.50231683 24.10740572 24.67811531 25.11802518\n",
      " 25.37794292 24.92322874 24.23592919 24.42561859 24.66858411 23.7796073\n",
      " 24.73263431 24.85211736 24.92456055 24.56765968 24.35368896 24.98285085\n",
      " 24.68055773 24.14364642 25.4596619  25.56490815 23.94438392 25.48545033\n",
      " 25.0803625  24.16718364 24.94512576 25.09386337 24.61500961 25.50912917\n",
      " 24.60799009 24.56766939 24.97197294 24.88258737 24.45568907 25.60710895\n",
      " 24.86786312 25.34274054 25.11491138 26.04965371 24.60782194 25.58792698\n",
      " 25.39479381 24.51283032 25.9224835  25.53147662 25.30750936 24.69751829\n",
      " 25.00355548 25.36581534 24.14211166 24.42366654]\n",
      "calculating scores...\n",
      "computing bert embedding.\n"
     ]
    },
    {
     "name": "stderr",
     "output_type": "stream",
     "text": [
      "100%|██████████| 2/2 [00:00<00:00, 11.83it/s]\n"
     ]
    },
    {
     "name": "stdout",
     "output_type": "stream",
     "text": [
      "computing greedy matching.\n"
     ]
    },
    {
     "name": "stderr",
     "output_type": "stream",
     "text": [
      "100%|██████████| 1/1 [00:00<00:00, 68.85it/s]\n"
     ]
    },
    {
     "name": "stdout",
     "output_type": "stream",
     "text": [
      "done in 0.19 seconds, 340.43 sentences/sec\n",
      "[26.05885988 26.19647294 25.12234628 25.89915091 26.24183863 24.34304637\n",
      " 26.55049086 24.87916696 25.83600938 25.41039628 25.64848053 25.6313836\n",
      " 25.85488766 26.08256763 26.46157521 25.0196743  25.63245368 26.06290829\n",
      " 26.30998486 25.83891553 25.17666578 25.36333483 25.60049969 24.6576705\n",
      " 25.69076598 25.78176892 25.85491848 25.49125385 25.28505045 25.92609996\n",
      " 25.62075466 25.0502457  26.4242835  26.49901265 24.85186756 26.4091298\n",
      " 26.01398045 25.09337771 25.87926817 26.05557227 25.55752414 26.46607757\n",
      " 25.57719105 25.47336984 25.90188193 25.82822859 25.36817604 26.54789853\n",
      " 25.78379589 26.31468141 26.05042654 26.97616655 25.50775701 26.49803668\n",
      " 26.32932204 25.42312974 26.84430397 26.51649708 26.22955394 25.63922703\n",
      " 25.9326607  26.30340654 25.06997812 25.38496584]\n",
      "calculating scores...\n",
      "computing bert embedding.\n"
     ]
    },
    {
     "name": "stderr",
     "output_type": "stream",
     "text": [
      "100%|██████████| 2/2 [00:00<00:00,  9.66it/s]\n"
     ]
    },
    {
     "name": "stdout",
     "output_type": "stream",
     "text": [
      "computing greedy matching.\n"
     ]
    },
    {
     "name": "stderr",
     "output_type": "stream",
     "text": [
      "100%|██████████| 1/1 [00:00<00:00, 64.47it/s]\n"
     ]
    },
    {
     "name": "stdout",
     "output_type": "stream",
     "text": [
      "done in 0.23 seconds, 283.83 sentences/sec\n",
      "[26.95895398 27.14337695 26.02280414 26.84311515 27.19738805 25.27194834\n",
      " 27.48914218 25.82352644 26.75525427 26.36017871 26.58482307 26.57946628\n",
      " 26.79773474 26.99818981 27.42083377 25.93194288 26.58679217 27.00779134\n",
      " 27.24202687 26.75460225 26.11740243 26.30105108 26.53623432 25.53404206\n",
      " 26.64889771 26.7114206  26.78527641 26.40503377 26.21641195 26.86934906\n",
      " 26.56095159 25.95370102 27.38890511 27.43311715 25.75935113 27.32235235\n",
      " 26.9475984  26.01957166 26.81341058 27.01728129 26.50003868 27.42302597\n",
      " 26.54639202 26.37906986 26.83179092 26.76564628 26.28066307 27.48868811\n",
      " 26.69972867 27.28662229 26.98594171 27.90267932 26.40769202 27.40787649\n",
      " 27.26385027 26.31786203 27.75969023 27.50151759 27.15159863 26.58093572\n",
      " 26.86176592 27.24099785 25.99784464 26.34626502]\n",
      "calculating scores...\n",
      "computing bert embedding.\n"
     ]
    },
    {
     "name": "stderr",
     "output_type": "stream",
     "text": [
      "100%|██████████| 2/2 [00:00<00:00,  9.62it/s]\n"
     ]
    },
    {
     "name": "stdout",
     "output_type": "stream",
     "text": [
      "computing greedy matching.\n"
     ]
    },
    {
     "name": "stderr",
     "output_type": "stream",
     "text": [
      "100%|██████████| 1/1 [00:00<00:00, 71.25it/s]\n"
     ]
    },
    {
     "name": "stdout",
     "output_type": "stream",
     "text": [
      "done in 0.23 seconds, 283.06 sentences/sec\n",
      "[27.85904807 28.09028095 26.923262   27.78707939 28.15293747 26.20085031\n",
      " 28.4277935  26.76004124 27.67449915 27.30996114 27.52116561 27.52754897\n",
      " 27.74058181 27.91381198 28.38009232 26.84399819 27.54113066 27.95267439\n",
      " 28.17406887 27.67028898 27.05133939 27.23876733 27.47196895 26.41041362\n",
      " 27.60702944 27.64107227 27.71563435 27.31881368 27.14777344 27.81259817\n",
      " 27.50114852 26.85715634 28.35352671 28.36722165 26.66683471 28.2355749\n",
      " 27.88121635 26.94576561 27.74755299 27.97899032 27.44255322 28.37997437\n",
      " 27.51559299 27.28476989 27.76169991 27.70306396 27.19543397 28.42947769\n",
      " 27.61566144 28.25856316 27.92145687 28.8291921  27.30762702 28.3177163\n",
      " 28.1983785  27.21102786 28.67507648 28.48653811 28.07364333 27.5226444\n",
      " 27.76670843 28.17858917 26.92571115 27.3075642 ]\n",
      "calculating scores...\n",
      "computing bert embedding.\n"
     ]
    },
    {
     "name": "stderr",
     "output_type": "stream",
     "text": [
      "100%|██████████| 2/2 [00:00<00:00,  9.26it/s]\n"
     ]
    },
    {
     "name": "stdout",
     "output_type": "stream",
     "text": [
      "computing greedy matching.\n"
     ]
    },
    {
     "name": "stderr",
     "output_type": "stream",
     "text": [
      "100%|██████████| 1/1 [00:00<00:00, 71.14it/s]\n"
     ]
    },
    {
     "name": "stdout",
     "output_type": "stream",
     "text": [
      "done in 0.23 seconds, 273.56 sentences/sec\n",
      "[28.72243273 28.9946903  27.69931442 28.71997309 29.02788067 27.0628134\n",
      " 29.30999994 27.69655609 28.54813361 28.21973538 28.42919803 28.40867233\n",
      " 28.65092224 28.82965928 29.32406318 27.72840899 28.44462466 28.87739468\n",
      " 29.08811432 28.48617476 27.97731751 28.1477322  28.38532752 27.29400367\n",
      " 28.48224699 28.55355662 28.63091016 28.23243701 28.04377794 28.72320545\n",
      " 28.4307704  27.7614975  29.26876819 29.3077336  27.57970387 29.12907332\n",
      " 28.80187225 27.82758856 28.66928434 28.91925699 28.37151402 29.3309142\n",
      " 28.4316175  28.18744195 28.68800026 28.62018949 28.0960502  29.31360352\n",
      " 28.51721358 29.19505078 28.87470305 29.72649306 28.19719481 29.18613338\n",
      " 29.05704981 28.11746728 29.6150825  29.47155863 29.01153374 28.46903694\n",
      " 28.63978201 29.0796113  27.8498224  28.26151639]\n",
      "calculating scores...\n",
      "computing bert embedding.\n"
     ]
    },
    {
     "name": "stderr",
     "output_type": "stream",
     "text": [
      "100%|██████████| 2/2 [00:00<00:00,  8.38it/s]\n"
     ]
    },
    {
     "name": "stdout",
     "output_type": "stream",
     "text": [
      "computing greedy matching.\n"
     ]
    },
    {
     "name": "stderr",
     "output_type": "stream",
     "text": [
      "100%|██████████| 1/1 [00:00<00:00, 40.72it/s]\n"
     ]
    },
    {
     "name": "stdout",
     "output_type": "stream",
     "text": [
      "done in 0.27 seconds, 238.78 sentences/sec\n",
      "[29.57258314 29.87964827 28.52694798 29.62093025 29.8937279  27.88756073\n",
      " 30.19591361 28.58726442 29.41931719 29.09446263 29.2408132  29.29487979\n",
      " 29.53119278 29.72703743 30.23784882 28.61165279 29.3576932  29.73056042\n",
      " 29.98066068 29.31194222 28.88162369 29.03339744 29.27417409 28.1189431\n",
      " 29.36257786 29.4238584  29.52044338 29.09036845 28.8486082  29.60678381\n",
      " 29.26588821 28.6064766  30.1625526  30.24728793 28.46624613 30.02912819\n",
      " 29.69256228 28.67910624 29.59269553 29.77892768 29.24064559 30.19912934\n",
      " 29.31246936 29.05589098 29.60096419 29.44828427 28.94172758 30.18319672\n",
      " 29.38784009 30.12339479 29.82504666 30.6386717  29.06365663 30.07429326\n",
      " 29.89788312 28.98503971 30.52275622 30.39458293 29.9167729  29.36322439\n",
      " 29.48944008 29.99815488 28.7130425  29.15162116]\n",
      "calculating scores...\n",
      "computing bert embedding.\n"
     ]
    },
    {
     "name": "stderr",
     "output_type": "stream",
     "text": [
      "100%|██████████| 2/2 [00:00<00:00,  9.68it/s]\n"
     ]
    },
    {
     "name": "stdout",
     "output_type": "stream",
     "text": [
      "computing greedy matching.\n"
     ]
    },
    {
     "name": "stderr",
     "output_type": "stream",
     "text": [
      "100%|██████████| 1/1 [00:00<00:00, 65.74it/s]\n"
     ]
    },
    {
     "name": "stdout",
     "output_type": "stream",
     "text": [
      "done in 0.23 seconds, 284.17 sentences/sec\n",
      "[30.47267723 30.82655227 29.42740583 30.5648945  30.84927732 28.8164627\n",
      " 31.13456494 29.5316239  30.33856207 30.04424506 30.17715573 30.24296248\n",
      " 30.47403985 30.6426596  31.19710737 29.52392137 30.31203169 30.67544347\n",
      " 30.91270268 30.22762895 29.82236034 29.97111368 30.20990872 28.99531466\n",
      " 30.32070959 30.35351008 30.45080131 30.00414836 29.77996969 30.55003291\n",
      " 30.20608515 29.50993192 31.1271742  31.18139243 29.37372971 30.94235075\n",
      " 30.62618023 29.60530019 30.52683794 30.74063671 30.18316013 31.15607774\n",
      " 30.28167033 29.96159101 30.53087318 30.38570195 29.85421461 31.1239863\n",
      " 30.30377287 31.09533566 30.76056182 31.56518447 29.96359164 30.98413306\n",
      " 30.83241135 29.87977201 31.43814248 31.37960345 30.8388176  30.30493307\n",
      " 30.41854531 30.93574619 29.64090902 30.11292034]\n",
      "calculating scores...\n",
      "computing bert embedding.\n"
     ]
    },
    {
     "name": "stderr",
     "output_type": "stream",
     "text": [
      "100%|██████████| 2/2 [00:00<00:00,  9.68it/s]\n"
     ]
    },
    {
     "name": "stdout",
     "output_type": "stream",
     "text": [
      "computing greedy matching.\n"
     ]
    },
    {
     "name": "stderr",
     "output_type": "stream",
     "text": [
      "100%|██████████| 1/1 [00:00<00:00, 71.18it/s]\n"
     ]
    },
    {
     "name": "stdout",
     "output_type": "stream",
     "text": [
      "done in 0.22 seconds, 285.06 sentences/sec\n",
      "[31.37277132 31.75286794 30.31641269 31.47916102 31.75994259 29.7276547\n",
      " 32.0476386  30.42912668 31.20960236 30.93172216 31.11349827 31.11138594\n",
      " 31.39532775 31.52248329 32.14762354 30.41160208 31.25054562 31.59437126\n",
      " 31.84474468 31.12796521 30.71964043 30.85304326 31.13167959 29.84225816\n",
      " 31.20083934 31.27470827 31.35460418 30.86588573 30.67022318 31.47387069\n",
      " 31.09681851 30.38962418 32.07057971 32.11549693 30.26278937 31.83831137\n",
      " 31.55979818 30.44753402 31.43303508 31.67095172 31.1100021  32.07498312\n",
      " 31.23333633 30.82474309 31.42932498 31.29236305 30.74228173 32.06477588\n",
      " 31.20131266 32.04696679 31.69607699 32.46248543 30.82894635 31.89397287\n",
      " 31.76693958 30.7745043  32.35352874 32.32499927 31.75402796 31.20250505\n",
      " 31.29161888 31.83733678 30.53836292 30.99009806]\n",
      "calculating scores...\n",
      "computing bert embedding.\n"
     ]
    },
    {
     "name": "stderr",
     "output_type": "stream",
     "text": [
      "100%|██████████| 2/2 [00:00<00:00,  8.69it/s]\n"
     ]
    },
    {
     "name": "stdout",
     "output_type": "stream",
     "text": [
      "computing greedy matching.\n"
     ]
    },
    {
     "name": "stderr",
     "output_type": "stream",
     "text": [
      "100%|██████████| 1/1 [00:00<00:00, 66.57it/s]\n"
     ]
    },
    {
     "name": "stdout",
     "output_type": "stream",
     "text": [
      "done in 0.25 seconds, 257.34 sentences/sec\n",
      "[32.25498921 32.6791836  31.20541954 32.39342755 32.67060786 30.61907548\n",
      " 32.96071225 31.31954271 32.08064264 31.81919926 32.0455929  31.9798094\n",
      " 32.31242555 32.40230697 33.0981397  31.29928279 32.18905956 32.51329905\n",
      " 32.77678668 32.02830148 31.60655063 31.73497283 32.04404294 30.70431179\n",
      " 32.14634329 32.18977869 32.25247258 31.72762311 31.56047666 32.39770848\n",
      " 31.98000789 31.26931643 32.99814975 33.04960144 31.17133176 32.734272\n",
      " 32.44497782 31.32328117 32.33923221 32.58659714 32.00015664 32.9938885\n",
      " 32.18500233 31.68508023 32.32777679 32.19902414 31.63034886 33.00556546\n",
      " 32.09885246 32.94939536 32.63159215 33.35978639 31.69430107 32.80381268\n",
      " 32.70146781 31.6692366  33.268915   33.2703951  32.66923833 32.07649845\n",
      " 32.16469246 32.73892736 31.45415467 31.86727577]\n",
      "calculating scores...\n",
      "computing bert embedding.\n"
     ]
    },
    {
     "name": "stderr",
     "output_type": "stream",
     "text": [
      "100%|██████████| 2/2 [00:00<00:00, 11.44it/s]\n"
     ]
    },
    {
     "name": "stdout",
     "output_type": "stream",
     "text": [
      "computing greedy matching.\n"
     ]
    },
    {
     "name": "stderr",
     "output_type": "stream",
     "text": [
      "100%|██████████| 1/1 [00:00<00:00, 71.35it/s]\n"
     ]
    },
    {
     "name": "stdout",
     "output_type": "stream",
     "text": [
      "done in 0.19 seconds, 332.51 sentences/sec\n",
      "[33.25498921 33.6791836  32.20541954 33.39342755 33.67060786 31.61907548\n",
      " 33.96071237 32.31954271 33.08064264 32.8191992  33.0455929  32.9798094\n",
      " 33.31242555 33.40230697 34.0981397  32.29928291 33.18905956 33.51329905\n",
      " 33.77678668 33.02830148 32.60655063 32.73497283 32.99524611 31.64524716\n",
      " 33.14634329 33.18977863 33.25247258 32.70648259 32.56047678 33.39770842\n",
      " 32.98000801 32.21074736 33.99814975 34.04960144 32.17133176 33.6944598\n",
      " 33.44497776 32.32328117 33.33923215 33.58659714 33.00015664 33.9938885\n",
      " 33.18500233 32.68508023 33.32777679 33.14725059 32.63034898 34.00556546\n",
      " 33.09885246 33.94939536 33.63159227 34.35978633 32.69430107 33.75692981\n",
      " 33.70146781 32.61476797 34.23311454 34.2703951  33.66923833 33.07649845\n",
      " 33.16469246 33.73892736 32.45415467 32.86727589]\n",
      "calculating scores...\n",
      "computing bert embedding.\n"
     ]
    },
    {
     "name": "stderr",
     "output_type": "stream",
     "text": [
      "100%|██████████| 2/2 [00:00<00:00, 11.27it/s]\n"
     ]
    },
    {
     "name": "stdout",
     "output_type": "stream",
     "text": [
      "computing greedy matching.\n"
     ]
    },
    {
     "name": "stderr",
     "output_type": "stream",
     "text": [
      "100%|██████████| 1/1 [00:00<00:00, 68.90it/s]\n"
     ]
    },
    {
     "name": "stdout",
     "output_type": "stream",
     "text": [
      "done in 0.20 seconds, 325.92 sentences/sec\n",
      "[34.25498921 34.6791836  33.20541954 34.39342755 34.67060786 32.61907548\n",
      " 34.96071237 33.28071243 34.08064264 33.81919914 34.0455929  33.9798094\n",
      " 34.31242555 34.40230697 35.0981397  33.28802407 34.18905956 34.51329905\n",
      " 34.77678668 34.02830148 33.52360553 33.73497283 33.94644928 32.58618253\n",
      " 34.14634329 34.18977857 34.25247258 33.68534207 33.5604769  34.39770836\n",
      " 33.98000795 33.15217829 34.99814975 35.04960144 33.17133176 34.65464759\n",
      " 34.4449777  33.32328117 34.33923209 34.58659714 34.00015664 34.9938885\n",
      " 34.18500233 33.68508023 34.32777679 34.09547704 33.58799905 35.00556546\n",
      " 34.09885246 34.94939536 34.63159239 35.35978627 33.69430107 34.71004695\n",
      " 34.70146781 33.56384712 35.19731408 35.2703951  34.66923833 34.07649845\n",
      " 34.13988864 34.73892736 33.45415467 33.86727589]\n",
      "calculating scores...\n",
      "computing bert embedding.\n"
     ]
    },
    {
     "name": "stderr",
     "output_type": "stream",
     "text": [
      "100%|██████████| 2/2 [00:00<00:00,  7.94it/s]\n"
     ]
    },
    {
     "name": "stdout",
     "output_type": "stream",
     "text": [
      "computing greedy matching.\n"
     ]
    },
    {
     "name": "stderr",
     "output_type": "stream",
     "text": [
      "100%|██████████| 1/1 [00:00<00:00, 66.56it/s]\n"
     ]
    },
    {
     "name": "stdout",
     "output_type": "stream",
     "text": [
      "done in 0.27 seconds, 236.44 sentences/sec\n",
      "[35.14605349 35.62679559 34.03709978 35.36343735 35.61125815 33.51688552\n",
      " 35.89554411 34.24188215 35.00614846 34.74862063 35.00886184 34.9104321\n",
      " 35.24900925 35.31289566 36.08720416 34.1984399  35.12002325 35.48421943\n",
      " 35.71046525 34.87779343 34.43761462 34.65217286 34.84988576 33.49588162\n",
      " 35.02870262 35.11454397 35.2191655  34.66268998 34.47146088 35.32970947\n",
      " 34.96506488 34.07819211 35.93945926 35.98265934 34.15221143 35.5857982\n",
      " 35.36076236 34.23797941 35.2796374  35.54758662 34.97762805 35.9638682\n",
      " 35.09302318 34.62184733 35.32476604 35.01689219 34.52912897 35.95994925\n",
      " 35.02465302 35.91469353 35.57797074 36.32607526 34.6389671  35.59975082\n",
      " 35.61608744 34.46602738 36.16161007 36.2703951  35.61657804 35.05346394\n",
      " 35.09732515 35.70829988 34.40177596 34.79619306]\n",
      "calculating scores...\n",
      "computing bert embedding.\n"
     ]
    },
    {
     "name": "stderr",
     "output_type": "stream",
     "text": [
      "100%|██████████| 2/2 [00:00<00:00,  7.17it/s]\n"
     ]
    },
    {
     "name": "stdout",
     "output_type": "stream",
     "text": [
      "computing greedy matching.\n"
     ]
    },
    {
     "name": "stderr",
     "output_type": "stream",
     "text": [
      "100%|██████████| 1/1 [00:00<00:00, 68.90it/s]\n"
     ]
    },
    {
     "name": "stdout",
     "output_type": "stream",
     "text": [
      "done in 0.30 seconds, 215.47 sentences/sec\n",
      "[36.07339668 36.52194113 34.95143259 36.29932547 36.53023165 34.37487549\n",
      " 36.79095811 35.15997809 35.90324873 35.66598815 35.83643293 35.8187241\n",
      " 36.12873203 36.24249929 37.03461653 35.12932301 36.08163083 36.3613016\n",
      " 36.63238108 35.76935887 35.33987755 35.55600721 35.71626091 34.32165837\n",
      " 35.90935236 35.97248703 36.11930519 35.59048355 35.29226148 36.23026055\n",
      " 35.82641494 34.92551994 36.87063259 36.88453639 35.06342995 36.45650429\n",
      " 36.26589447 35.12356174 36.20338839 36.41052169 35.85000628 36.85497826\n",
      " 35.96209133 35.49372345 36.2763375  35.84400463 35.40645653 36.82569081\n",
      " 35.95989609 36.83476722 36.51371294 37.2779333  35.52649754 36.50998765\n",
      " 36.47183985 35.35371512 37.07827884 37.18586749 36.51392424 35.94630432\n",
      " 35.98283803 36.65196449 35.30729175 35.72302067]\n",
      "calculating scores...\n",
      "computing bert embedding.\n"
     ]
    },
    {
     "name": "stderr",
     "output_type": "stream",
     "text": [
      "100%|██████████| 2/2 [00:00<00:00, 11.98it/s]\n"
     ]
    },
    {
     "name": "stdout",
     "output_type": "stream",
     "text": [
      "computing greedy matching.\n"
     ]
    },
    {
     "name": "stderr",
     "output_type": "stream",
     "text": [
      "100%|██████████| 1/1 [00:00<00:00, 66.47it/s]\n"
     ]
    },
    {
     "name": "stdout",
     "output_type": "stream",
     "text": [
      "done in 0.19 seconds, 344.57 sentences/sec\n",
      "[37.07339668 37.52194113 35.95143259 37.29932547 37.53023165 35.37487549\n",
      " 37.79095823 36.15997809 36.90324873 36.66598809 36.83643293 36.8187241\n",
      " 37.12873203 37.24249929 38.03461653 36.12932312 37.08163083 37.3613016\n",
      " 37.63238108 36.76935887 36.33987755 36.55600721 36.66746408 35.26259375\n",
      " 36.90935236 36.97248697 37.11930519 36.56934303 36.2922616  37.23026049\n",
      " 36.82641506 35.86695087 37.87063259 37.88453639 36.06342995 37.41669208\n",
      " 37.26589441 36.12356174 37.20338833 37.41052169 36.85000628 37.85497826\n",
      " 36.96209133 36.49372345 37.2763375  36.79223108 36.40645665 37.82569081\n",
      " 36.95989609 37.83476722 37.51371306 38.27793324 36.52649754 37.46310478\n",
      " 37.47183985 36.29924649 38.04247838 38.18586749 37.51392424 36.94630432\n",
      " 36.98283803 37.65196449 36.30729175 36.72302079]\n",
      "calculating scores...\n",
      "computing bert embedding.\n"
     ]
    },
    {
     "name": "stderr",
     "output_type": "stream",
     "text": [
      "100%|██████████| 2/2 [00:00<00:00,  7.64it/s]\n"
     ]
    },
    {
     "name": "stdout",
     "output_type": "stream",
     "text": [
      "computing greedy matching.\n"
     ]
    },
    {
     "name": "stderr",
     "output_type": "stream",
     "text": [
      "100%|██████████| 1/1 [00:00<00:00, 71.33it/s]\n"
     ]
    },
    {
     "name": "stdout",
     "output_type": "stream",
     "text": [
      "done in 0.28 seconds, 228.80 sentences/sec\n",
      "[38.07339668 38.45695329 36.88894516 38.21691412 38.47542346 36.29223132\n",
      " 38.75831866 37.05725348 37.81326061 37.60273975 37.83643293 37.70832819\n",
      " 38.05755824 38.17851102 38.96662587 37.07192892 38.02699614 38.32274902\n",
      " 38.63238108 37.72393155 37.23308295 37.45827103 37.56297392 36.13356411\n",
      " 37.84022421 37.9635607  38.02611762 37.48720044 37.19170988 38.16203785\n",
      " 37.77725708 36.76687926 38.85764384 38.88453639 36.96591461 38.35726136\n",
      " 38.26589435 37.01049995 38.13068932 38.35193723 37.79975706 38.80139369\n",
      " 37.90690404 37.41406143 38.22880965 37.70356399 37.35951734 38.82569081\n",
      " 37.86419624 38.77964264 38.51371318 39.24422222 37.41879618 38.41622192\n",
      " 38.47183985 37.24477786 39.00667793 39.1426816  38.50393659 37.85424119\n",
      " 37.94027448 38.56142038 37.26614505 37.59355146]\n",
      "calculating scores...\n",
      "computing bert embedding.\n"
     ]
    },
    {
     "name": "stderr",
     "output_type": "stream",
     "text": [
      "100%|██████████| 2/2 [00:00<00:00,  8.10it/s]\n"
     ]
    },
    {
     "name": "stdout",
     "output_type": "stream",
     "text": [
      "computing greedy matching.\n"
     ]
    },
    {
     "name": "stderr",
     "output_type": "stream",
     "text": [
      "100%|██████████| 1/1 [00:00<00:00, 68.75it/s]\n"
     ]
    },
    {
     "name": "stdout",
     "output_type": "stream",
     "text": [
      "done in 0.26 seconds, 242.21 sentences/sec\n",
      "[38.99269307 39.39196545 37.82645774 39.13450277 39.4206152  37.19618833\n",
      " 39.7256791  37.9490118  38.72327262 38.53949142 38.7751863  38.59793228\n",
      " 38.99190921 39.11452281 39.89863521 38.01453465 38.97236145 39.28419644\n",
      " 39.63238108 38.67850417 38.1199199  38.36053479 38.46203923 37.01980782\n",
      " 38.78792614 38.94831324 38.93856043 38.40505773 38.09115815 39.09381521\n",
      " 38.68198401 37.66680771 39.8282519  39.88453639 37.89507973 39.2978307\n",
      " 39.16869462 37.91199434 39.05799043 39.28018373 38.70964837 39.74780905\n",
      " 38.85171676 38.32019496 39.18128181 38.61489689 38.31257802 39.82569081\n",
      " 38.76849627 39.68435627 39.5137133  40.21051115 38.31109482 39.36933905\n",
      " 39.47183985 38.19030923 39.97087747 40.09949571 39.49394894 38.73985261\n",
      " 38.89771098 39.47087628 38.25230545 38.46408212]\n",
      "calculating scores...\n",
      "computing bert embedding.\n"
     ]
    },
    {
     "name": "stderr",
     "output_type": "stream",
     "text": [
      "100%|██████████| 2/2 [00:00<00:00, 12.56it/s]\n"
     ]
    },
    {
     "name": "stdout",
     "output_type": "stream",
     "text": [
      "computing greedy matching.\n"
     ]
    },
    {
     "name": "stderr",
     "output_type": "stream",
     "text": [
      "100%|██████████| 1/1 [00:00<00:00, 64.27it/s]"
     ]
    },
    {
     "name": "stdout",
     "output_type": "stream",
     "text": [
      "done in 0.18 seconds, 357.40 sentences/sec\n",
      "[39.99269331 40.39196557 38.82645774 40.13450259 40.42061502 38.19618833\n",
      " 40.7256791  38.91018116 39.72327286 39.5394913  39.7751863  39.59793216\n",
      " 39.99190933 40.11452258 40.89863521 39.00327593 39.97236133 40.28419644\n",
      " 40.63238108 39.67850405 39.03697461 39.36053467 39.46203911 38.01980782\n",
      " 39.78792614 39.94831336 39.93856037 39.40505785 39.09115839 40.09381515\n",
      " 39.68198401 38.66680783 40.82825202 40.88453662 38.89507967 40.2978307\n",
      " 40.16869473 38.91199458 40.05799043 40.28018373 39.70964813 40.74780893\n",
      " 39.85171688 39.32019508 40.18128175 39.61489689 39.27022815 40.82569069\n",
      " 39.76849627 40.68435615 40.5137133  41.21051115 39.3110947  40.36933905\n",
      " 40.47183985 39.15179592 40.97087747 41.09949547 40.49394894 39.73985237\n",
      " 39.87290716 40.4708761  39.25230539 39.46408212]\n"
     ]
    },
    {
     "name": "stderr",
     "output_type": "stream",
     "text": [
      "\n"
     ]
    },
    {
     "name": "stdout",
     "output_type": "stream",
     "text": [
      "calculating scores...\n",
      "computing bert embedding.\n"
     ]
    },
    {
     "name": "stderr",
     "output_type": "stream",
     "text": [
      "100%|██████████| 2/2 [00:00<00:00,  7.38it/s]\n"
     ]
    },
    {
     "name": "stdout",
     "output_type": "stream",
     "text": [
      "computing greedy matching.\n"
     ]
    },
    {
     "name": "stderr",
     "output_type": "stream",
     "text": [
      "100%|██████████| 1/1 [00:00<00:00, 70.69it/s]\n"
     ]
    },
    {
     "name": "stdout",
     "output_type": "stream",
     "text": [
      "done in 0.29 seconds, 221.26 sentences/sec\n",
      "[40.88375765 41.3395775  39.65813798 41.10451233 41.36126554 39.09399837\n",
      " 41.66051084 39.87135053 40.64877862 40.46891284 40.73845524 40.52855492\n",
      " 40.92849338 41.02511108 41.88769972 39.91369182 40.9033252  41.25511676\n",
      " 41.56605965 40.52799612 39.9509837  40.27773464 40.38104993 38.91952229\n",
      " 40.67028552 40.87307888 40.90525323 40.37989342 40.00214255 41.0258162\n",
      " 40.66704112 39.64763135 41.76956153 41.81759429 39.87595946 41.25161481\n",
      " 41.08447933 39.826693   40.99839562 41.24117345 40.68711978 41.71778852\n",
      " 40.75973767 40.25696224 41.178271   40.58597249 40.21135777 41.78007448\n",
      " 40.69429696 41.64965421 41.46009159 42.17680019 40.25576091 41.25686717\n",
      " 41.38645971 40.0573951  41.93600875 42.09949535 41.44128865 40.71681792\n",
      " 40.83034354 41.44024897 40.19992656 40.39299917]\n",
      "calculating scores...\n",
      "computing bert embedding.\n"
     ]
    },
    {
     "name": "stderr",
     "output_type": "stream",
     "text": [
      "100%|██████████| 2/2 [00:00<00:00,  7.15it/s]\n"
     ]
    },
    {
     "name": "stdout",
     "output_type": "stream",
     "text": [
      "computing greedy matching.\n"
     ]
    },
    {
     "name": "stderr",
     "output_type": "stream",
     "text": [
      "100%|██████████| 1/1 [00:00<00:00, 68.75it/s]\n"
     ]
    },
    {
     "name": "stdout",
     "output_type": "stream",
     "text": [
      "done in 0.30 seconds, 214.87 sentences/sec\n",
      "[41.8111009  42.23472297 40.57247096 42.04040062 42.28023946 39.95198834\n",
      " 42.55592483 40.78944623 41.54587901 41.38628012 41.56602651 41.43684697\n",
      " 41.80821615 41.95471478 42.83511204 40.84457505 41.86493307 42.13219887\n",
      " 42.48797542 41.41956151 40.85324687 41.18156904 41.26879948 39.75789231\n",
      " 41.55093515 41.73102206 41.80539298 41.29814589 40.82294321 41.92636722\n",
      " 41.52839124 40.50213796 42.70073473 42.71947134 40.7871781  42.12583464\n",
      " 41.98961139 40.71227515 41.92214668 42.10410857 41.55949807 42.60889858\n",
      " 41.62880564 41.12883836 42.12984252 41.4169361  41.08868545 42.64581603\n",
      " 41.62953991 42.56972814 42.39583379 43.12865824 41.14329147 42.18512768\n",
      " 42.242212   40.94337779 42.88942391 43.01496756 42.33863485 41.60965824\n",
      " 41.71585631 42.38391346 41.10544229 41.31982654]\n",
      "calculating scores...\n",
      "computing bert embedding.\n"
     ]
    },
    {
     "name": "stderr",
     "output_type": "stream",
     "text": [
      "100%|██████████| 2/2 [00:00<00:00,  8.26it/s]\n"
     ]
    },
    {
     "name": "stdout",
     "output_type": "stream",
     "text": [
      "computing greedy matching.\n"
     ]
    },
    {
     "name": "stderr",
     "output_type": "stream",
     "text": [
      "100%|██████████| 1/1 [00:00<00:00, 71.10it/s]\n"
     ]
    },
    {
     "name": "stdout",
     "output_type": "stream",
     "text": [
      "done in 0.26 seconds, 245.05 sentences/sec\n",
      "[42.81110114 43.16973513 41.50998378 42.95798916 43.22543132 40.86934406\n",
      " 43.52328527 41.68672174 42.45589107 42.32303172 42.56602651 42.32645106\n",
      " 42.73704237 42.89072651 43.76712137 41.7871806  42.81029826 43.09364641\n",
      " 43.48797542 42.374134   41.74645209 42.08383286 42.18003136 40.68674111\n",
      " 42.48180705 42.72209591 42.71220529 42.20816308 41.72239137 42.85814446\n",
      " 42.47923326 41.44996071 43.68774575 43.71947157 41.68966281 43.10028452\n",
      " 42.98961151 41.59921342 42.84944761 43.04552394 42.50924879 43.55531389\n",
      " 42.57361829 42.04917634 43.08231449 42.38215679 42.0417459  43.64581591\n",
      " 42.53383994 43.51460379 43.39583379 44.09494722 42.03559017 43.18512768\n",
      " 43.24221194 41.94337779 43.88942391 43.97178167 43.32864726 42.51759517\n",
      " 42.6732927  43.29336929 42.06429565 42.19035721]\n",
      "calculating scores...\n",
      "computing bert embedding.\n"
     ]
    },
    {
     "name": "stderr",
     "output_type": "stream",
     "text": [
      "100%|██████████| 2/2 [00:00<00:00,  7.57it/s]\n"
     ]
    },
    {
     "name": "stdout",
     "output_type": "stream",
     "text": [
      "computing greedy matching.\n"
     ]
    },
    {
     "name": "stderr",
     "output_type": "stream",
     "text": [
      "100%|██████████| 1/1 [00:00<00:00, 68.91it/s]\n"
     ]
    },
    {
     "name": "stdout",
     "output_type": "stream",
     "text": [
      "done in 0.28 seconds, 226.38 sentences/sec\n",
      "[43.7303974  44.10474718 42.44749659 43.87557781 44.1706233  41.77330124\n",
      " 44.49064571 42.57847989 43.36590308 43.25978333 43.50477988 43.21605515\n",
      " 43.67139339 43.82673824 44.69913083 42.72978628 43.75566345 44.05509394\n",
      " 44.48797542 43.3287065  42.63328916 42.98609668 43.08606958 41.61780357\n",
      " 43.42950904 43.70684862 43.62464833 43.11818033 42.62183952 43.7899217\n",
      " 43.38396013 42.39778346 44.65835357 44.71947181 42.618828   44.07473439\n",
      " 43.89241165 42.50070786 43.77674848 43.97377032 43.41914022 44.50172919\n",
      " 43.51843089 42.95530963 44.03478664 43.34737748 42.99480635 44.64581579\n",
      " 43.43813998 44.4193176  44.39583379 45.06123626 42.92788887 44.18512768\n",
      " 44.24221182 42.94337779 44.88942391 44.92859584 44.31865966 43.40320641\n",
      " 43.63072908 44.20282513 43.05045593 43.06088787]\n",
      "calculating scores...\n",
      "computing bert embedding.\n"
     ]
    },
    {
     "name": "stderr",
     "output_type": "stream",
     "text": [
      "100%|██████████| 2/2 [00:00<00:00,  6.73it/s]\n"
     ]
    },
    {
     "name": "stdout",
     "output_type": "stream",
     "text": [
      "computing greedy matching.\n"
     ]
    },
    {
     "name": "stderr",
     "output_type": "stream",
     "text": [
      "100%|██████████| 1/1 [00:00<00:00, 68.90it/s]\n"
     ]
    },
    {
     "name": "stdout",
     "output_type": "stream",
     "text": [
      "done in 0.32 seconds, 202.69 sentences/sec\n",
      "[44.62146175 45.0523591  43.27917683 44.84558755 45.11127383 42.67111129\n",
      " 45.42547733 43.57847983 44.29140884 44.18920487 44.46804881 44.14667791\n",
      " 44.60797745 44.73732674 45.68819535 43.63849479 44.68662733 45.02601427\n",
      " 45.42165399 44.17819858 43.53319854 43.90329665 44.0050804  42.51751804\n",
      " 44.31186843 44.63161415 44.5913412  44.09301591 43.53282368 44.72192276\n",
      " 44.36901724 43.37860698 45.59966308 45.65252948 43.59970778 45.0285185\n",
      " 44.80819625 43.41540629 44.71715367 44.93476003 44.39661187 45.47170877\n",
      " 44.42645168 43.89207679 45.03177589 44.31845307 43.95611882 45.60019958\n",
      " 44.36394066 45.38461566 45.34221208 46.02752531 43.87255508 45.0726558\n",
      " 45.15683168 43.84286803 45.85455519 45.92859572 45.26599938 44.38017195\n",
      " 44.60037768 45.172198   43.99807709 43.98980492]\n",
      "calculating scores...\n",
      "computing bert embedding.\n"
     ]
    },
    {
     "name": "stderr",
     "output_type": "stream",
     "text": [
      "100%|██████████| 2/2 [00:00<00:00,  7.12it/s]\n"
     ]
    },
    {
     "name": "stdout",
     "output_type": "stream",
     "text": [
      "computing greedy matching.\n"
     ]
    },
    {
     "name": "stderr",
     "output_type": "stream",
     "text": [
      "100%|██████████| 1/1 [00:00<00:00, 67.80it/s]\n"
     ]
    },
    {
     "name": "stdout",
     "output_type": "stream",
     "text": [
      "done in 0.30 seconds, 214.10 sentences/sec\n",
      "[45.548805   45.94750458 44.19350982 45.78147584 46.03024775 43.52910125\n",
      " 46.32089132 44.47741914 45.18850923 45.10657215 45.29562008 45.05496997\n",
      " 45.48770022 45.66693044 46.63560766 44.57014054 45.6482352  45.90309638\n",
      " 46.34356976 45.06976396 44.42812729 44.80713105 44.89282995 43.35588807\n",
      " 45.19251806 45.48955733 45.49148095 45.01126838 44.35362434 45.62247378\n",
      " 45.23036736 44.23311359 46.53083628 46.55440652 44.51092643 45.90273833\n",
      " 45.7133283  44.30098844 45.64090472 45.79769516 45.26899016 46.36281884\n",
      " 45.29551965 44.76395291 45.98334742 45.14941669 44.84606522 46.46594113\n",
      " 45.29918361 46.30468959 46.27795428 46.97938335 44.76008564 46.0009163\n",
      " 46.01258397 44.73409593 46.80797035 46.84406793 46.16334558 45.27301228\n",
      " 45.48796636 46.11586249 44.90359282 44.91663229]\n",
      "calculating scores...\n",
      "computing bert embedding.\n"
     ]
    },
    {
     "name": "stderr",
     "output_type": "stream",
     "text": [
      "100%|██████████| 2/2 [00:00<00:00, 12.73it/s]\n"
     ]
    },
    {
     "name": "stdout",
     "output_type": "stream",
     "text": [
      "computing greedy matching.\n"
     ]
    },
    {
     "name": "stderr",
     "output_type": "stream",
     "text": [
      "100%|██████████| 1/1 [00:00<00:00, 58.73it/s]"
     ]
    },
    {
     "name": "stdout",
     "output_type": "stream",
     "text": [
      "done in 0.18 seconds, 356.65 sentences/sec\n",
      "[46.54880524 46.9475047  45.19350982 46.78147566 47.03024757 44.52910125\n",
      " 47.32089132 45.4385885  46.18850946 46.10657203 46.29562008 46.05496985\n",
      " 46.48770034 46.6669302  47.63560766 45.55888182 46.64823508 46.90309638\n",
      " 47.34356976 46.06976384 45.345182   45.80713093 45.89282984 44.35588807\n",
      " 46.19251806 46.48955745 46.49148089 46.0112685  45.35362458 46.62247372\n",
      " 46.23036736 45.23311371 47.5308364  47.55440676 45.51092637 46.90273833\n",
      " 46.71332842 45.30098867 46.64090472 46.79769516 46.26898992 47.36281872\n",
      " 46.29551977 45.76395303 46.98334736 46.14941669 45.80371535 47.46594101\n",
      " 46.29918361 47.30468947 47.27795428 47.97938335 45.76008552 47.0009163\n",
      " 47.01258397 45.69558263 47.80797035 47.84406769 47.16334558 46.27301204\n",
      " 46.46316254 47.11586231 45.90359277 45.91663229]\n"
     ]
    },
    {
     "name": "stderr",
     "output_type": "stream",
     "text": [
      "\n"
     ]
    },
    {
     "name": "stdout",
     "output_type": "stream",
     "text": [
      "calculating scores...\n",
      "computing bert embedding.\n"
     ]
    },
    {
     "name": "stderr",
     "output_type": "stream",
     "text": [
      "100%|██████████| 2/2 [00:00<00:00,  8.24it/s]\n"
     ]
    },
    {
     "name": "stdout",
     "output_type": "stream",
     "text": [
      "computing greedy matching.\n"
     ]
    },
    {
     "name": "stderr",
     "output_type": "stream",
     "text": [
      "100%|██████████| 1/1 [00:00<00:00, 66.55it/s]\n"
     ]
    },
    {
     "name": "stdout",
     "output_type": "stream",
     "text": [
      "done in 0.26 seconds, 244.50 sentences/sec\n",
      "[47.54880548 47.88251686 46.13102263 47.6990642  47.97543943 45.44645697\n",
      " 48.28825176 46.35623026 47.09852153 47.04332364 47.29562008 46.94457394\n",
      " 47.41652656 47.60294175 48.567617   46.4947263  47.59360027 47.86454391\n",
      " 48.34356976 47.02433634 46.23214716 46.70939475 46.80406171 45.28473687\n",
      " 47.12338996 47.48063129 47.3982932  46.92128569 46.25307274 47.55425096\n",
      " 47.18120939 46.18093646 48.51784742 48.554407   46.41341108 47.87718821\n",
      " 47.71332854 46.18792695 47.56820565 47.73911053 47.21874064 48.30923402\n",
      " 47.24033242 46.68429101 47.93581933 47.11463737 46.72548056 48.46594089\n",
      " 47.20348364 48.24956512 48.27795428 48.94567233 46.65238422 48.0009163\n",
      " 48.01258391 46.65706933 48.80797035 48.8008818  48.15335798 47.18094897\n",
      " 47.43281114 48.02531815 46.86244613 46.78716296]\n",
      "calculating scores...\n",
      "computing bert embedding.\n"
     ]
    },
    {
     "name": "stderr",
     "output_type": "stream",
     "text": [
      "100%|██████████| 2/2 [00:00<00:00,  7.56it/s]\n"
     ]
    },
    {
     "name": "stdout",
     "output_type": "stream",
     "text": [
      "computing greedy matching.\n"
     ]
    },
    {
     "name": "stderr",
     "output_type": "stream",
     "text": [
      "100%|██████████| 1/1 [00:00<00:00, 68.30it/s]\n"
     ]
    },
    {
     "name": "stdout",
     "output_type": "stream",
     "text": [
      "done in 0.28 seconds, 226.40 sentences/sec\n",
      "[48.46810174 48.8175289  47.06853545 48.61665285 48.92063141 46.35041416\n",
      " 49.25561219 47.26601017 48.00853354 47.98007524 48.23437345 47.83417803\n",
      " 48.35087758 48.53895348 49.49962646 47.43057078 48.53896546 48.82599145\n",
      " 49.34356976 47.97890884 47.11059642 47.61165857 47.71009994 46.21579933\n",
      " 48.07109195 48.46538401 48.31073624 47.83130294 47.1525209  48.48602819\n",
      " 48.08593625 47.12875921 49.48845524 49.55440724 47.34257627 48.85163808\n",
      " 48.61612874 47.08942139 48.49550653 48.66735691 48.12863207 49.25564933\n",
      " 48.18514502 47.5904243  48.88829148 48.07985806 47.64724576 49.46594077\n",
      " 48.10778368 49.15427893 49.27795428 49.91196138 47.54468292 49.0009163\n",
      " 49.01258379 47.61855602 49.80797035 49.75769597 49.14337039 48.06656021\n",
      " 48.40245974 48.93477398 47.84860641 47.65769362]\n",
      "calculating scores...\n",
      "computing bert embedding.\n"
     ]
    },
    {
     "name": "stderr",
     "output_type": "stream",
     "text": [
      "100%|██████████| 2/2 [00:00<00:00,  7.10it/s]\n"
     ]
    },
    {
     "name": "stdout",
     "output_type": "stream",
     "text": [
      "computing greedy matching.\n"
     ]
    },
    {
     "name": "stderr",
     "output_type": "stream",
     "text": [
      "100%|██████████| 1/1 [00:00<00:00, 66.07it/s]\n"
     ]
    },
    {
     "name": "stdout",
     "output_type": "stream",
     "text": [
      "done in 0.30 seconds, 213.48 sentences/sec\n",
      "[49.36326689 49.69504762 47.89920992 49.53729993 49.84997851 47.21990114\n",
      " 50.19559211 48.16494948 48.95220554 48.8627004  49.05681348 48.71493751\n",
      " 49.25395405 49.44594449 50.44426978 48.32238358 49.46261537 49.69893914\n",
      " 50.25682837 48.83671147 48.00792402 48.52093875 48.5987556  47.04686171\n",
      " 48.94439596 49.35929507 49.22498572 48.75019026 47.98089629 49.39473552\n",
      " 48.94647628 47.97551608 50.40326053 50.45634526 48.25524729 49.72201431\n",
      " 49.51620913 47.97842544 49.44134724 49.52459806 48.9937765  50.13344765\n",
      " 49.04534411 48.47092098 49.83792961 48.91223949 48.5427857  50.33622539\n",
      " 49.01430482 50.06085473 50.23167753 50.86489141 48.43361342 49.89195085\n",
      " 49.87844956 48.50877512 50.73059922 50.67316818 50.05054748 48.95760655\n",
      " 49.30688512 49.88387793 48.75058711 48.54246801]\n",
      "calculating scores...\n",
      "computing bert embedding.\n"
     ]
    },
    {
     "name": "stderr",
     "output_type": "stream",
     "text": [
      "100%|██████████| 2/2 [00:00<00:00,  7.36it/s]\n"
     ]
    },
    {
     "name": "stdout",
     "output_type": "stream",
     "text": [
      "computing greedy matching.\n"
     ]
    },
    {
     "name": "stderr",
     "output_type": "stream",
     "text": [
      "100%|██████████| 1/1 [00:00<00:00, 70.88it/s]\n"
     ]
    },
    {
     "name": "stdout",
     "output_type": "stream",
     "text": [
      "done in 0.29 seconds, 221.27 sentences/sec\n",
      "[50.25433123 50.64265954 48.73089015 50.50730968 50.79062903 48.11771119\n",
      " 51.13042384 49.12611884 49.8777113  49.79212195 50.02008241 49.64556026\n",
      " 50.19053811 50.35653299 51.43333429 49.23279947 50.39357924 50.66985947\n",
      " 51.19050694 49.68620354 48.92193311 49.43813872 49.51776642 47.94657618\n",
      " 49.82675534 50.2840606  50.19167858 49.72502583 48.89188045 50.32673657\n",
      " 49.9315334  48.9563396  51.34457004 51.38940293 49.23612708 50.67579842\n",
      " 50.43199372 48.89312387 50.38175243 50.48558778 49.97124815 51.10342723\n",
      " 49.95336491 49.40768814 50.83491886 49.88331509 49.48391533 51.29060918\n",
      " 49.9401055  51.02615279 51.17805582 51.83118045 49.37827963 50.77947897\n",
      " 50.79306942 49.41437429 51.69573051 51.67316806 50.99788719 49.9345721\n",
      " 50.26432151 50.8532508  49.69820827 49.47138506]\n",
      "calculating scores...\n",
      "computing bert embedding.\n"
     ]
    },
    {
     "name": "stderr",
     "output_type": "stream",
     "text": [
      "100%|██████████| 2/2 [00:00<00:00,  7.35it/s]\n"
     ]
    },
    {
     "name": "stdout",
     "output_type": "stream",
     "text": [
      "computing greedy matching.\n"
     ]
    },
    {
     "name": "stderr",
     "output_type": "stream",
     "text": [
      "100%|██████████| 1/1 [00:00<00:00, 66.53it/s]\n"
     ]
    },
    {
     "name": "stdout",
     "output_type": "stream",
     "text": [
      "done in 0.29 seconds, 220.49 sentences/sec\n",
      "[51.14539558 51.54394096 49.55861759 51.41942382 51.69964349 48.99496603\n",
      " 52.08958572 50.0437606  50.85474747 50.71714854 50.98335135 50.544662\n",
      " 51.11786646 51.24301082 52.35407436 50.13224798 51.30395019 51.62481642\n",
      " 52.1241855  50.54897314 49.81729221 50.34918261 50.41520554 48.81999362\n",
      " 50.70732868 51.20647418 51.11876214 50.63859385 49.79138541 51.25405109\n",
      " 50.87617356 49.90250468 52.29564816 52.32246059 50.14463711 51.63551587\n",
      " 51.34777832 49.75360882 51.32355404 51.42587596 50.91258758 52.02841049\n",
      " 50.85333973 50.33132505 51.78463191 50.86149669 50.40653116 52.24499297\n",
      " 50.89567816 51.94424707 52.12443411 52.83118045 50.28528035 51.66700709\n",
      " 51.70768929 50.31997347 52.66086179 52.62998223 51.93402183 50.83803433\n",
      " 51.26432133 51.75790036 50.62350529 50.3521772 ]\n",
      "calculating scores...\n",
      "computing bert embedding.\n"
     ]
    },
    {
     "name": "stderr",
     "output_type": "stream",
     "text": [
      "100%|██████████| 2/2 [00:00<00:00,  7.35it/s]\n"
     ]
    },
    {
     "name": "stdout",
     "output_type": "stream",
     "text": [
      "computing greedy matching.\n"
     ]
    },
    {
     "name": "stderr",
     "output_type": "stream",
     "text": [
      "100%|██████████| 1/1 [00:00<00:00, 66.49it/s]\n"
     ]
    },
    {
     "name": "stdout",
     "output_type": "stream",
     "text": [
      "done in 0.29 seconds, 219.47 sentences/sec\n",
      "[52.03767818 52.44522238 50.38634503 52.33153796 52.60865796 49.86472958\n",
      " 53.0487476  50.9535405  51.83178365 51.64217514 51.8935613  51.44376373\n",
      " 52.04781657 52.12948865 53.27481449 51.0316965  52.21432114 52.57977337\n",
      " 53.05786407 51.41174275 50.69171882 51.26022649 51.3070395  49.70391089\n",
      " 51.58271253 52.11942387 52.05243915 51.55216187 50.69089037 52.18136561\n",
      " 51.77878505 50.84866977 53.24769288 53.25551826 51.07760936 52.59523332\n",
      " 52.24411893 50.65999544 52.26535565 52.35904408 51.81638634 52.95339376\n",
      " 51.75331455 51.22595745 52.73434496 51.83967829 51.32914698 53.19937676\n",
      " 51.85125083 52.84216076 53.0708124  53.83118045 51.19228107 52.55453521\n",
      " 52.62230915 51.22557265 53.62599307 53.5867964  52.87015647 51.71950036\n",
      " 52.26432115 52.66254991 51.56573081 51.23296934]\n",
      "calculating scores...\n",
      "computing bert embedding.\n"
     ]
    },
    {
     "name": "stderr",
     "output_type": "stream",
     "text": [
      "100%|██████████| 2/2 [00:00<00:00,  7.18it/s]\n"
     ]
    },
    {
     "name": "stdout",
     "output_type": "stream",
     "text": [
      "computing greedy matching.\n"
     ]
    },
    {
     "name": "stderr",
     "output_type": "stream",
     "text": [
      "100%|██████████| 1/1 [00:00<00:00, 68.91it/s]\n"
     ]
    },
    {
     "name": "stdout",
     "output_type": "stream",
     "text": [
      "done in 0.30 seconds, 214.66 sentences/sec\n",
      "[52.96502143 53.34036785 51.30067801 53.26742625 53.52763188 50.72271955\n",
      " 53.94416159 51.87163621 52.72888404 52.55954242 52.72113258 52.35205579\n",
      " 52.92753935 53.05909234 54.2222268  51.96257973 53.17592901 53.45685548\n",
      " 53.97977984 52.30330813 51.59398198 52.16406089 52.19478905 50.54228091\n",
      " 52.46336216 52.97736704 52.9525789  52.47041434 51.51169103 53.08191663\n",
      " 52.64013517 51.70317638 54.17886609 54.1573953  51.988828   53.46945316\n",
      " 53.14925098 51.54557759 53.1891067  53.2219792  52.68876463 53.84450382\n",
      " 52.62238252 52.09783357 53.68591648 52.6706419  52.20647466 54.06511831\n",
      " 52.78649378 53.76223469 54.0065546  54.7830385  52.07981163 53.48279572\n",
      " 53.47806144 52.11155534 54.57940823 54.50226861 53.76750267 52.61234069\n",
      " 53.14983392 53.6062144  52.47124654 52.15979671]\n",
      "calculating scores...\n",
      "computing bert embedding.\n"
     ]
    },
    {
     "name": "stderr",
     "output_type": "stream",
     "text": [
      "100%|██████████| 2/2 [00:00<00:00,  6.94it/s]\n"
     ]
    },
    {
     "name": "stdout",
     "output_type": "stream",
     "text": [
      "computing greedy matching.\n"
     ]
    },
    {
     "name": "stderr",
     "output_type": "stream",
     "text": [
      "100%|██████████| 1/1 [00:00<00:00, 66.52it/s]\n"
     ]
    },
    {
     "name": "stdout",
     "output_type": "stream",
     "text": [
      "done in 0.31 seconds, 209.05 sentences/sec\n",
      "[53.89236462 54.21821338 52.18969214 54.23401737 54.4578687  51.56421888\n",
      " 54.87953031 52.73484856 53.68951619 53.47142249 53.54870385 53.27233362\n",
      " 53.82822138 53.99862587 55.11709303 52.88885748 54.09590733 54.33123869\n",
      " 54.90169549 53.19253922 52.49063152 53.13324594 53.06219876 51.37914258\n",
      " 53.37679029 53.83488798 53.87147099 53.37868255 52.325562   54.01429343\n",
      " 53.49836355 52.55089527 55.11829054 55.05927235 52.92476612 54.33933866\n",
      " 54.05438304 52.39872158 54.12641531 54.08147955 53.55142283 54.76422608\n",
      " 53.48929423 52.9532907  54.60843563 53.50154001 53.0806849  54.93085986\n",
      " 53.6677615  54.66557521 54.94229674 55.73596853 53.01181424 54.41105622\n",
      " 54.33381373 52.99753803 55.53282338 55.40219653 54.65736789 53.48686361\n",
      " 54.0542593  54.52164632 53.3727628  53.029939  ]\n",
      "calculating scores...\n",
      "computing bert embedding.\n"
     ]
    },
    {
     "name": "stderr",
     "output_type": "stream",
     "text": [
      "100%|██████████| 2/2 [00:00<00:00,  7.20it/s]\n"
     ]
    },
    {
     "name": "stdout",
     "output_type": "stream",
     "text": [
      "computing greedy matching.\n"
     ]
    },
    {
     "name": "stderr",
     "output_type": "stream",
     "text": [
      "100%|██████████| 1/1 [00:00<00:00, 71.27it/s]\n"
     ]
    },
    {
     "name": "stdout",
     "output_type": "stream",
     "text": [
      "done in 0.30 seconds, 215.83 sentences/sec\n",
      "[54.79702616 55.09605891 53.07870626 55.20060849 55.38810551 52.41369516\n",
      " 55.81489903 53.60165471 54.65014833 54.38330257 54.37570387 54.19261146\n",
      " 54.70600075 54.93815941 56.01195925 53.81513524 55.01588565 55.2056219\n",
      " 55.82361114 54.0817703  53.36903191 54.102431   53.92610258 52.22182441\n",
      " 54.25287557 54.69607246 54.78286308 54.28695077 53.13943297 54.94667023\n",
      " 54.34012079 53.39861417 56.04992789 55.96114939 53.86935359 55.20922416\n",
      " 54.9211331  53.29267037 55.06372392 54.93651199 54.39809942 55.68394834\n",
      " 54.35620594 53.8091706  55.53095478 54.33243811 53.95489514 55.79660147\n",
      " 54.54902923 55.56267357 55.87803888 56.68889856 53.94381684 55.33931673\n",
      " 55.18956602 53.88352072 56.48623854 56.3021245  55.5472331  54.34572685\n",
      " 54.95868468 55.43707824 54.28447783 53.90008128]\n",
      "calculating scores...\n",
      "computing bert embedding.\n"
     ]
    },
    {
     "name": "stderr",
     "output_type": "stream",
     "text": [
      "100%|██████████| 2/2 [00:00<00:00,  8.30it/s]\n"
     ]
    },
    {
     "name": "stdout",
     "output_type": "stream",
     "text": [
      "computing greedy matching.\n"
     ]
    },
    {
     "name": "stderr",
     "output_type": "stream",
     "text": [
      "100%|██████████| 1/1 [00:00<00:00, 66.49it/s]\n"
     ]
    },
    {
     "name": "stdout",
     "output_type": "stream",
     "text": [
      "done in 0.26 seconds, 247.14 sentences/sec\n",
      "[55.7970264  56.03107107 54.01621908 56.11819702 56.33329737 53.33105087\n",
      " 56.78225946 54.49893022 55.5601604  55.32005417 55.37570387 55.08221555\n",
      " 55.63482696 55.87417114 56.94396859 54.7577408  55.96125084 56.16706944\n",
      " 56.82361114 55.0363428  54.26223713 55.00469482 54.83733445 53.15067321\n",
      " 55.18374747 55.68714631 55.68967539 55.19696796 54.03888112 55.87844747\n",
      " 55.29096282 54.34643692 57.03693891 56.96114963 54.77183831 56.18367404\n",
      " 55.92113322 54.17960864 55.99102485 55.87792736 55.34785014 56.63036364\n",
      " 55.3010186  54.72950858 56.48342675 55.2976588  54.90795559 56.79660136\n",
      " 55.45332927 56.50754923 56.87803888 57.65518755 54.83611554 56.33931673\n",
      " 56.18956596 54.88352072 57.48623854 57.25893861 56.53724551 55.25366378\n",
      " 55.91612107 56.34653407 55.24333119 54.77061194]\n",
      "calculating scores...\n",
      "computing bert embedding.\n"
     ]
    },
    {
     "name": "stderr",
     "output_type": "stream",
     "text": [
      "100%|██████████| 2/2 [00:00<00:00,  6.80it/s]\n"
     ]
    },
    {
     "name": "stdout",
     "output_type": "stream",
     "text": [
      "computing greedy matching.\n"
     ]
    },
    {
     "name": "stderr",
     "output_type": "stream",
     "text": [
      "100%|██████████| 1/1 [00:00<00:00, 64.47it/s]\n"
     ]
    },
    {
     "name": "stdout",
     "output_type": "stream",
     "text": [
      "done in 0.31 seconds, 205.46 sentences/sec\n",
      "[56.71632266 56.96608311 54.95373189 57.03578568 57.27848935 54.23500806\n",
      " 57.7496199  55.39068836 56.47017241 56.25680578 56.31445724 55.97181964\n",
      " 56.56917799 56.81018287 57.87597805 55.70034647 56.90661603 57.12851697\n",
      " 57.82361114 55.9909153  55.1490742  55.90695864 55.74337268 54.08173567\n",
      " 56.13144946 56.67189902 56.60211843 56.10698521 54.93832928 56.81022471\n",
      " 56.19568968 55.29425967 58.00754672 57.96114987 55.70100349 57.15812391\n",
      " 56.82393336 55.08110309 56.91832572 56.80617374 56.25774157 57.57677895\n",
      " 56.24583119 55.63564187 57.4358989  56.26287949 55.86101604 57.79660124\n",
      " 56.3576293  57.41226304 57.87803888 58.62147659 55.72841424 57.33931673\n",
      " 57.18956584 55.88352072 58.48623854 58.21575278 57.52725792 56.13927501\n",
      " 56.87355745 57.25598991 56.22949147 55.64114261]\n",
      "calculating scores...\n",
      "computing bert embedding.\n"
     ]
    },
    {
     "name": "stderr",
     "output_type": "stream",
     "text": [
      "100%|██████████| 2/2 [00:00<00:00, 10.00it/s]\n"
     ]
    },
    {
     "name": "stdout",
     "output_type": "stream",
     "text": [
      "computing greedy matching.\n"
     ]
    },
    {
     "name": "stderr",
     "output_type": "stream",
     "text": [
      "100%|██████████| 1/1 [00:00<00:00, 68.92it/s]"
     ]
    },
    {
     "name": "stdout",
     "output_type": "stream",
     "text": [
      "done in 0.22 seconds, 292.49 sentences/sec\n",
      "[57.63561893 57.96608299 55.95373178 58.03578591 58.27848959 55.176157\n",
      " 58.7496199  56.35031569 57.47017235 57.25680578 57.2532106  56.97181976\n",
      " 57.49508142 57.81018263 58.87597781 56.70034659 57.90661603 58.12851697\n",
      " 58.82361114 56.99091542 56.0752877  56.90695858 56.68859416 55.04195207\n",
      " 57.03287727 57.66487908 57.57204378 57.10698521 55.93832916 57.81022483\n",
      " 57.06958991 56.29425967 58.99044937 58.96115011 56.6620872  58.15812379\n",
      " 57.72673357 55.93582034 57.91832566 57.78409576 57.21767294 58.57677895\n",
      " 57.24583113 56.54927832 58.4358989  57.26287973 56.86101627 58.79660112\n",
      " 57.35762918 58.37478727 58.87803888 59.62147671 56.72841412 58.33931673\n",
      " 58.18956578 56.88352072 59.48623854 59.21575278 58.52725792 57.07904512\n",
      " 57.87355733 58.25598985 57.20263833 56.64114261]\n",
      "[0.92960676 0.93493682 0.90247954 0.93606106 0.93997564 0.88993802\n",
      " 0.94757451 0.90887606 0.92693826 0.92349687 0.92343888 0.91890032\n",
      " 0.92734002 0.9324223  0.94961255 0.91452172 0.93397768 0.93755673\n",
      " 0.94876792 0.91920831 0.90444012 0.91785417 0.91433216 0.88777342\n",
      " 0.91988512 0.93007869 0.92858135 0.92108041 0.90223112 0.93242298\n",
      " 0.92047726 0.90797193 0.95145886 0.95098629 0.91390463 0.93803425\n",
      " 0.93107635 0.90219065 0.93416654 0.93200154 0.92286569 0.94478676\n",
      " 0.92331986 0.91208513 0.9425145  0.92359483 0.91711317 0.94833228\n",
      " 0.92512305 0.94152883 0.94964579 0.96163672 0.91497442 0.94095672\n",
      " 0.93854138 0.91747614 0.95945546 0.95509279 0.94398803 0.92062976\n",
      " 0.93344447 0.93961274 0.9226232  0.91356682]\n"
     ]
    },
    {
     "name": "stderr",
     "output_type": "stream",
     "text": [
      "\n"
     ]
    }
   ],
   "source": [
    "# data2['BERTScore nameability caption'] = score(cands_greedy_caption, cands_nucleus_caption, lang='en', verbose=True)[2] + score(\n",
    "#     cands_greedy_caption, cands_beam_caption, lang='en', verbose=True)[2] + score(cands_beam_caption, cands_nucleus_caption, lang='en', verbose=True)[2]\n",
    "\n",
    "\n",
    "\n",
    "keys = list(candidates.keys())\n",
    "n = len(keys)\n",
    "\n",
    "mean = 0\n",
    "precisions = np.zeros(64)\n",
    "recalls = np.zeros(64)\n",
    "f1_scores = np.zeros(64)\n",
    "\n",
    "for i in range(n - 1):\n",
    "    for j in range(i + 1, n):\n",
    "        key1 = keys[i]\n",
    "        key2 = keys[j]\n",
    "        if candidates[key1] != candidates[key2]:  # Exclude pairs with two identical lists\n",
    "            if 'caption' in key1 and 'caption' in key2:\n",
    "                p, r, f1 = score(candidates[key1], candidates[key2], lang='en', verbose=True)\n",
    "                precisions += np.array(p)\n",
    "                recalls += np.array(r)\n",
    "                f1_scores += np.array(f1)\n",
    "                mean += 1\n",
    "                print(f1_scores)\n",
    "print(f1_scores/mean)\n"
   ]
  },
  {
   "cell_type": "code",
   "execution_count": 92,
   "metadata": {},
   "outputs": [
    {
     "name": "stdout",
     "output_type": "stream",
     "text": [
      "[1.88258737 1.9012568  1.807046   1.82560503 1.87695694 1.7411176\n",
      " 1.94123811 1.75006062 1.8324486  1.78149503 1.83272487 1.84700441\n",
      " 1.86065108 1.86720437 1.84578151 1.77506191 1.82262945 1.90253288\n",
      " 1.89925003 1.87469304 1.77048856 1.79573447 1.84688228 1.7519778\n",
      " 1.8544668  1.86708915 1.8549484  1.79748917 1.79987949 1.84800816\n",
      " 1.84801626 1.77539831 1.86010724 1.91572446 1.73276013 1.94701809\n",
      " 1.88019603 1.82258058 1.84593779 1.87070096 1.81863201 1.9129253\n",
      " 1.83640128 1.82859474 1.81312287 1.84606659 1.80880338 1.92118859\n",
      " 1.82205242 1.90572929 1.86698109 1.89267331 1.81808591 1.91042399\n",
      " 1.91256136 1.84877467 1.93013561 1.94453168 1.88956279 1.84025955\n",
      " 1.84130287 1.88679069 1.80555153 1.78186572]\n"
     ]
    }
   ],
   "source": [
    "print(precisions)"
   ]
  },
  {
   "attachments": {},
   "cell_type": "markdown",
   "metadata": {},
   "source": [
    "BERTScore Visualization"
   ]
  },
  {
   "cell_type": "code",
   "execution_count": 4,
   "metadata": {},
   "outputs": [
    {
     "ename": "NameError",
     "evalue": "name 'data' is not defined",
     "output_type": "error",
     "traceback": [
      "\u001b[0;31m---------------------------------------------------------------------------\u001b[0m",
      "\u001b[0;31mNameError\u001b[0m                                 Traceback (most recent call last)",
      "\u001b[1;32m/home/jsprott/thesis-novel-objects/finalized_pipeline.ipynb Cell 42\u001b[0m in \u001b[0;36m8\n\u001b[1;32m      <a href='vscode-notebook-cell://ssh-remote%2Bgcn11.local.snellius.surf.nl/home/jsprott/thesis-novel-objects/finalized_pipeline.ipynb#X55sdnNjb2RlLXJlbW90ZQ%3D%3D?line=1'>2</a>\u001b[0m \u001b[39mimport\u001b[39;00m \u001b[39mpandas\u001b[39;00m \u001b[39mas\u001b[39;00m \u001b[39mpd\u001b[39;00m\n\u001b[1;32m      <a href='vscode-notebook-cell://ssh-remote%2Bgcn11.local.snellius.surf.nl/home/jsprott/thesis-novel-objects/finalized_pipeline.ipynb#X55sdnNjb2RlLXJlbW90ZQ%3D%3D?line=3'>4</a>\u001b[0m \u001b[39m# Assuming your dataframe is called 'data'\u001b[39;00m\n\u001b[1;32m      <a href='vscode-notebook-cell://ssh-remote%2Bgcn11.local.snellius.surf.nl/home/jsprott/thesis-novel-objects/finalized_pipeline.ipynb#X55sdnNjb2RlLXJlbW90ZQ%3D%3D?line=4'>5</a>\u001b[0m \u001b[39m# You can load your data into a dataframe using pd.read_csv() or any other method\u001b[39;00m\n\u001b[1;32m      <a href='vscode-notebook-cell://ssh-remote%2Bgcn11.local.snellius.surf.nl/home/jsprott/thesis-novel-objects/finalized_pipeline.ipynb#X55sdnNjb2RlLXJlbW90ZQ%3D%3D?line=5'>6</a>\u001b[0m \n\u001b[1;32m      <a href='vscode-notebook-cell://ssh-remote%2Bgcn11.local.snellius.surf.nl/home/jsprott/thesis-novel-objects/finalized_pipeline.ipynb#X55sdnNjb2RlLXJlbW90ZQ%3D%3D?line=6'>7</a>\u001b[0m \u001b[39m# Sort the data based on the column with values between 0 and 100\u001b[39;00m\n\u001b[0;32m----> <a href='vscode-notebook-cell://ssh-remote%2Bgcn11.local.snellius.surf.nl/home/jsprott/thesis-novel-objects/finalized_pipeline.ipynb#X55sdnNjb2RlLXJlbW90ZQ%3D%3D?line=7'>8</a>\u001b[0m sorted_data \u001b[39m=\u001b[39m data\u001b[39m.\u001b[39msort_values(\u001b[39m'\u001b[39m\u001b[39mnameability score\u001b[39m\u001b[39m'\u001b[39m)\n\u001b[1;32m     <a href='vscode-notebook-cell://ssh-remote%2Bgcn11.local.snellius.surf.nl/home/jsprott/thesis-novel-objects/finalized_pipeline.ipynb#X55sdnNjb2RlLXJlbW90ZQ%3D%3D?line=9'>10</a>\u001b[0m \u001b[39m# Create a list of row indices to use as labels for x-axis\u001b[39;00m\n\u001b[1;32m     <a href='vscode-notebook-cell://ssh-remote%2Bgcn11.local.snellius.surf.nl/home/jsprott/thesis-novel-objects/finalized_pipeline.ipynb#X55sdnNjb2RlLXJlbW90ZQ%3D%3D?line=10'>11</a>\u001b[0m labels \u001b[39m=\u001b[39m sorted_data[\u001b[39m'\u001b[39m\u001b[39mnumber label\u001b[39m\u001b[39m'\u001b[39m]\u001b[39m.\u001b[39mtolist()\n",
      "\u001b[0;31mNameError\u001b[0m: name 'data' is not defined"
     ]
    }
   ],
   "source": [
    "import plotly.graph_objects as go\n",
    "import pandas as pd\n",
    "\n",
    "# Assuming your dataframe is called 'data'\n",
    "# You can load your data into a dataframe using pd.read_csv() or any other method\n",
    "\n",
    "# Sort the data based on the column with values between 0 and 100\n",
    "sorted_data = data.sort_values('nameability score')\n",
    "\n",
    "# Create a list of row indices to use as labels for x-axis\n",
    "labels = sorted_data['number label'].tolist()\n",
    "\n",
    "# Create a figure object\n",
    "fig = go.Figure()\n",
    "\n",
    "# Add the bars for each length column\n",
    "fig.add_trace(go.Bar(x=labels, y=sorted_data['BERTScore greedy real'], name='Greedy real object question'))\n",
    "fig.add_trace(go.Bar(x=labels, y=sorted_data['BERTScore nucleus real'], name='Nucleus image captioning'))\n",
    "fig.add_trace(go.Bar(x=labels, y=sorted_data['BERTScore beam real'], name='Beam real object question'))\n",
    "\n",
    "# Update the layout\n",
    "fig.update_layout(\n",
    "    width=1000,\n",
    "    title='Bar Chart of BERT Scores: nameability',\n",
    "    xaxis_title='Nameability human score',\n",
    "    yaxis_title='BERT Score',\n",
    "    yaxis_type='log',\n",
    "    bargap=0.1,  # Adjust the spacing between bars within each group\n",
    "    bargroupgap=0.3  # Adjust the spacing between groups\n",
    ")\n",
    "\n",
    "# Show the plot\n",
    "fig.show()\n",
    "\n",
    "# # # Save the plot as JSON\n",
    "# fig_json = fig.to_json()\n",
    "# with open('token_length.json', 'w') as file:\n",
    "#     file.write(fig_json)\n"
   ]
  }
 ],
 "metadata": {
  "kernelspec": {
   "display_name": "Python 3",
   "language": "python",
   "name": "python3"
  },
  "language_info": {
   "codemirror_mode": {
    "name": "ipython",
    "version": 3
   },
   "file_extension": ".py",
   "mimetype": "text/x-python",
   "name": "python",
   "nbconvert_exporter": "python",
   "pygments_lexer": "ipython3",
   "version": "3.9.1"
  }
 },
 "nbformat": 4,
 "nbformat_minor": 2
}
