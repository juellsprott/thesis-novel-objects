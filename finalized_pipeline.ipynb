{
 "cells": [
  {
   "attachments": {},
   "cell_type": "markdown",
   "metadata": {},
   "source": [
    "### NOUN Dataset + BLIP-2 Multimodal Model Pipeline\n",
    "#### This notebook contains the pipeline for loading the BLIP2 Opt-2.7b model and running inference on the NOUN Dataset\n",
    "\n",
    "Note that for this pipeline it is recommended to use a GPU with sufficient RAM."
   ]
  },
  {
   "attachments": {},
   "cell_type": "markdown",
   "metadata": {},
   "source": [
    "##### Imports\n",
    "Import modules, requires the installation of bitsandbytes and accelerate"
   ]
  },
  {
   "cell_type": "code",
   "execution_count": null,
   "metadata": {},
   "outputs": [],
   "source": [
    "# %pip install bitsandbytes accelerate Pillow git+https://github.com/huggingface/transformers tqdm"
   ]
  },
  {
   "cell_type": "code",
   "execution_count": 3,
   "metadata": {},
   "outputs": [
    {
     "name": "stdout",
     "output_type": "stream",
     "text": [
      "Collecting bert-score\n",
      "  Using cached bert_score-0.3.13-py3-none-any.whl (61 kB)\n",
      "Requirement already satisfied: torch>=1.0.0 in ./noun2-env/lib/python3.10/site-packages (from bert-score) (2.0.1+cu117)\n",
      "Requirement already satisfied: pandas>=1.0.1 in ./noun2-env/lib/python3.10/site-packages (from bert-score) (2.0.1)\n",
      "Requirement already satisfied: transformers>=3.0.0 in ./noun2-env/lib/python3.10/site-packages (from bert-score) (4.30.0.dev0)\n",
      "Requirement already satisfied: numpy in ./noun2-env/lib/python3.10/site-packages (from bert-score) (1.24.1)\n",
      "Requirement already satisfied: requests in ./noun2-env/lib/python3.10/site-packages (from bert-score) (2.28.1)\n",
      "Requirement already satisfied: tqdm>=4.31.1 in ./noun2-env/lib/python3.10/site-packages (from bert-score) (4.65.0)\n",
      "Collecting matplotlib (from bert-score)\n",
      "  Using cached matplotlib-3.7.1-cp310-cp310-manylinux_2_17_x86_64.manylinux2014_x86_64.whl (11.6 MB)\n",
      "Requirement already satisfied: packaging>=20.9 in ./noun2-env/lib/python3.10/site-packages (from bert-score) (23.1)\n",
      "Requirement already satisfied: python-dateutil>=2.8.2 in ./noun2-env/lib/python3.10/site-packages (from pandas>=1.0.1->bert-score) (2.8.2)\n",
      "Requirement already satisfied: pytz>=2020.1 in ./noun2-env/lib/python3.10/site-packages (from pandas>=1.0.1->bert-score) (2023.3)\n",
      "Requirement already satisfied: tzdata>=2022.1 in ./noun2-env/lib/python3.10/site-packages (from pandas>=1.0.1->bert-score) (2023.3)\n",
      "Requirement already satisfied: filelock in ./noun2-env/lib/python3.10/site-packages (from torch>=1.0.0->bert-score) (3.9.0)\n",
      "Requirement already satisfied: typing-extensions in ./noun2-env/lib/python3.10/site-packages (from torch>=1.0.0->bert-score) (4.4.0)\n",
      "Requirement already satisfied: sympy in ./noun2-env/lib/python3.10/site-packages (from torch>=1.0.0->bert-score) (1.11.1)\n",
      "Requirement already satisfied: networkx in ./noun2-env/lib/python3.10/site-packages (from torch>=1.0.0->bert-score) (3.0)\n",
      "Requirement already satisfied: jinja2 in ./noun2-env/lib/python3.10/site-packages (from torch>=1.0.0->bert-score) (3.1.2)\n",
      "Requirement already satisfied: triton==2.0.0 in ./noun2-env/lib/python3.10/site-packages (from torch>=1.0.0->bert-score) (2.0.0)\n",
      "Requirement already satisfied: cmake in ./noun2-env/lib/python3.10/site-packages (from triton==2.0.0->torch>=1.0.0->bert-score) (3.25.0)\n",
      "Requirement already satisfied: lit in ./noun2-env/lib/python3.10/site-packages (from triton==2.0.0->torch>=1.0.0->bert-score) (15.0.7)\n",
      "Requirement already satisfied: huggingface-hub<1.0,>=0.14.1 in ./noun2-env/lib/python3.10/site-packages (from transformers>=3.0.0->bert-score) (0.14.1)\n",
      "Requirement already satisfied: pyyaml>=5.1 in ./noun2-env/lib/python3.10/site-packages (from transformers>=3.0.0->bert-score) (6.0)\n",
      "Requirement already satisfied: regex!=2019.12.17 in ./noun2-env/lib/python3.10/site-packages (from transformers>=3.0.0->bert-score) (2023.5.5)\n",
      "Requirement already satisfied: tokenizers!=0.11.3,<0.14,>=0.11.1 in ./noun2-env/lib/python3.10/site-packages (from transformers>=3.0.0->bert-score) (0.13.3)\n",
      "Collecting contourpy>=1.0.1 (from matplotlib->bert-score)\n",
      "  Using cached contourpy-1.1.0-cp310-cp310-manylinux_2_17_x86_64.manylinux2014_x86_64.whl (300 kB)\n",
      "Collecting cycler>=0.10 (from matplotlib->bert-score)\n",
      "  Using cached cycler-0.11.0-py3-none-any.whl (6.4 kB)\n",
      "Collecting fonttools>=4.22.0 (from matplotlib->bert-score)\n",
      "  Using cached fonttools-4.40.0-cp310-cp310-manylinux_2_17_x86_64.manylinux2014_x86_64.whl (4.2 MB)\n",
      "Collecting kiwisolver>=1.0.1 (from matplotlib->bert-score)\n",
      "  Using cached kiwisolver-1.4.4-cp310-cp310-manylinux_2_12_x86_64.manylinux2010_x86_64.whl (1.6 MB)\n",
      "Requirement already satisfied: pillow>=6.2.0 in ./noun2-env/lib/python3.10/site-packages (from matplotlib->bert-score) (9.3.0)\n",
      "Collecting pyparsing>=2.3.1 (from matplotlib->bert-score)\n",
      "  Downloading pyparsing-3.1.0-py3-none-any.whl (102 kB)\n",
      "\u001b[2K     \u001b[90m━━━━━━━━━━━━━━━━━━━━━━━━━━━━━━━━━━━━━━\u001b[0m \u001b[32m102.6/102.6 kB\u001b[0m \u001b[31m25.3 MB/s\u001b[0m eta \u001b[36m0:00:00\u001b[0m\n",
      "\u001b[?25hRequirement already satisfied: charset-normalizer<3,>=2 in ./noun2-env/lib/python3.10/site-packages (from requests->bert-score) (2.1.1)\n",
      "Requirement already satisfied: idna<4,>=2.5 in ./noun2-env/lib/python3.10/site-packages (from requests->bert-score) (3.4)\n",
      "Requirement already satisfied: urllib3<1.27,>=1.21.1 in ./noun2-env/lib/python3.10/site-packages (from requests->bert-score) (1.26.13)\n",
      "Requirement already satisfied: certifi>=2017.4.17 in ./noun2-env/lib/python3.10/site-packages (from requests->bert-score) (2022.12.7)\n",
      "Requirement already satisfied: fsspec in ./noun2-env/lib/python3.10/site-packages (from huggingface-hub<1.0,>=0.14.1->transformers>=3.0.0->bert-score) (2023.5.0)\n",
      "Requirement already satisfied: six>=1.5 in ./noun2-env/lib/python3.10/site-packages (from python-dateutil>=2.8.2->pandas>=1.0.1->bert-score) (1.16.0)\n",
      "Requirement already satisfied: MarkupSafe>=2.0 in ./noun2-env/lib/python3.10/site-packages (from jinja2->torch>=1.0.0->bert-score) (2.1.2)\n",
      "Requirement already satisfied: mpmath>=0.19 in ./noun2-env/lib/python3.10/site-packages (from sympy->torch>=1.0.0->bert-score) (1.2.1)\n",
      "Installing collected packages: pyparsing, kiwisolver, fonttools, cycler, contourpy, matplotlib, bert-score\n",
      "Successfully installed bert-score-0.3.13 contourpy-1.1.0 cycler-0.11.0 fonttools-4.40.0 kiwisolver-1.4.4 matplotlib-3.7.1 pyparsing-3.1.0\n",
      "Note: you may need to restart the kernel to use updated packages.\n"
     ]
    }
   ],
   "source": [
    "%pip install bert-score"
   ]
  },
  {
   "cell_type": "code",
   "execution_count": 7,
   "metadata": {},
   "outputs": [],
   "source": [
    "import csv\n",
    "from PIL import Image\n",
    "from transformers import AutoProcessor, Blip2ForConditionalGeneration\n",
    "import torch\n",
    "from tqdm import tqdm\n",
    "\n",
    "import re\n",
    "import pandas as pd\n",
    "\n",
    "import plotly.graph_objects as go\n",
    "import numpy as np\n",
    "import json\n",
    "\n",
    "from PIL import Image\n",
    "from IPython.display import HTML\n",
    "from html_formatter import get_thumbnail, image_formatter\n",
    "from evaluate import check_colors_and_textures, colors_to_boolean, textures_to_boolean"
   ]
  },
  {
   "attachments": {},
   "cell_type": "markdown",
   "metadata": {},
   "source": [
    "##### Load model\n",
    "uses bitsandbytes to allow int8 quanitization for greatly reduced memory usage, allowing the model to be run on Google Colab."
   ]
  },
  {
   "cell_type": "code",
   "execution_count": 2,
   "metadata": {},
   "outputs": [
    {
     "name": "stderr",
     "output_type": "stream",
     "text": [
      "Overriding torch_dtype=None with `torch_dtype=torch.float16` due to requirements of `bitsandbytes` to enable model loading in mixed int8. Either pass torch_dtype=torch.float16 or don't pass this argument at all to remove this warning.\n"
     ]
    },
    {
     "name": "stdout",
     "output_type": "stream",
     "text": [
      "\n",
      "===================================BUG REPORT===================================\n",
      "Welcome to bitsandbytes. For bug reports, please run\n",
      "\n",
      "python -m bitsandbytes\n",
      "\n",
      " and submit this information together with your error trace to: https://github.com/TimDettmers/bitsandbytes/issues\n",
      "================================================================================\n",
      "bin /gpfs/home5/jsprott/thesis-novel-objects/noun2-env/lib/python3.10/site-packages/bitsandbytes/libbitsandbytes_cuda117.so\n",
      "CUDA SETUP: CUDA runtime path found: /sw/arch/RHEL8/EB_production/2022/software/CUDA/11.7.0/lib/libcudart.so.11.0\n",
      "CUDA SETUP: Highest compute capability among GPUs detected: 8.0\n",
      "CUDA SETUP: Detected CUDA version 117\n",
      "CUDA SETUP: Loading binary /gpfs/home5/jsprott/thesis-novel-objects/noun2-env/lib/python3.10/site-packages/bitsandbytes/libbitsandbytes_cuda117.so...\n"
     ]
    },
    {
     "data": {
      "application/vnd.jupyter.widget-view+json": {
       "model_id": "48440f8df0cc4827974402edde93f97b",
       "version_major": 2,
       "version_minor": 0
      },
      "text/plain": [
       "Loading checkpoint shards:   0%|          | 0/2 [00:00<?, ?it/s]"
      ]
     },
     "metadata": {},
     "output_type": "display_data"
    }
   ],
   "source": [
    "# load processor\n",
    "processor = AutoProcessor.from_pretrained(\"Salesforce/blip2-opt-2.7b\")\n",
    "\n",
    "# load in float16 # load in int8\n",
    "model = Blip2ForConditionalGeneration.from_pretrained(\"Salesforce/blip2-opt-2.7b\",\n",
    "                                                      load_in_8bit=True, device_map=\"auto\")\n",
    "# setup device\n",
    "DEVICE = \"cuda\" if torch.cuda.is_available() else \"cpu\""
   ]
  },
  {
   "attachments": {},
   "cell_type": "markdown",
   "metadata": {},
   "source": [
    "##### Perform inference on NOUN Dataset\n",
    "Currently uses default hyperparameters"
   ]
  },
  {
   "cell_type": "code",
   "execution_count": null,
   "metadata": {},
   "outputs": [],
   "source": [
    "import pandas as pd\n",
    "from tqdm import tqdm\n",
    "from evaluate import check_colors_and_textures\n",
    "\n",
    "# Define path to input and output files\n",
    "input_file = 'data/datasets/dataset_full.csv'\n",
    "output_file = 'data/datasets/dataset_final_inference.csv'\n",
    "extra_file = 'data/datasets/dataset_bonus_inference.csv'\n",
    "\n",
    "# Define question templates\n",
    "questions = [\n",
    "    \"Q: Only answer with yes or no, do you recognize this object? \\n A:\",\n",
    "    \"Q: what do you call the object in this image? \\n A:\",\n",
    "    \"Q: What do you really think this is? \\n A:\"\n",
    "]\n",
    "\n",
    "# Load data from input file into a pandas DataFrame\n",
    "data = pd.read_csv(input_file)\n",
    "\n",
    "tqdm.pandas()\n",
    "\n",
    "# Define function to generate text using the model\n",
    "def generate_text(row, decode='greedy', token_length=20, beams=5, top_p=0.9):\n",
    "    raw_image = Image.open(row[0].replace(\"\\\\\", \"/\")).convert(\"RGB\")\n",
    "    inputs = [processor(raw_image, return_tensors=\"pt\").to(DEVICE, torch.float16)] + [processor(raw_image, text=q, return_tensors=\"pt\").to(DEVICE, torch.float16) for q in questions]\n",
    "\n",
    "    if decode == 'greedy':\n",
    "        generated_ids = [model.generate(**input_, max_new_tokens=token_length) for input_ in inputs]\n",
    "    elif decode == 'nucleus':\n",
    "        generated_ids = [model.generate(**input_, do_sample=True, top_p=top_p, max_new_tokens=token_length) for input_ in inputs]\n",
    "    elif decode == 'beam':\n",
    "        generated_ids = [model.generate(**input_, num_beams=beams, max_new_tokens=token_length, repetition_penalty=1.0, length_penalty=1.0, temperature=1) for input_ in inputs]\n",
    "\n",
    "    generated_texts = [processor.batch_decode(generated_id, skip_special_tokens=True)[0].strip() for generated_id in generated_ids]\n",
    "    matches = [check_colors_and_textures(text) for text in generated_texts]\n",
    "\n",
    "    return generated_texts + matches\n",
    "\n",
    "# Apply the generate_text function to each row in the DataFrame\n",
    "decode_methods = ['greedy', 'nucleus', 'beam']\n",
    "columns = ['caption', 'bool', 'name', 'real', 'caption saliency', 'bool saliency', 'color saliency', 'real saliency']\n",
    "\n",
    "for method in decode_methods:\n",
    "    generated_cols = [f'BLIP-2, {method}, {column}' for column in columns]\n",
    "    generated_data = data.progress_apply(lambda row: generate_text(row, decode=method), axis=1)\n",
    "    data[generated_cols] = pd.DataFrame(np.array(generated_data).T.tolist(), columns=generated_cols)\n",
    "\n",
    "\n",
    "display(data)\n",
    "\n",
    "# Write updated data to output file\n",
    "data.to_csv(output_file, index=False)"
   ]
  },
  {
   "attachments": {},
   "cell_type": "markdown",
   "metadata": {},
   "source": [
    "#### Ablative study: token lenght for greedy"
   ]
  },
  {
   "cell_type": "code",
   "execution_count": 97,
   "metadata": {},
   "outputs": [
    {
     "name": "stderr",
     "output_type": "stream",
     "text": [
      "100%|██████████| 64/64 [03:43<00:00,  3.49s/it]\n",
      "100%|██████████| 64/64 [05:07<00:00,  4.80s/it]\n",
      "100%|██████████| 64/64 [05:20<00:00,  5.01s/it]\n"
     ]
    }
   ],
   "source": [
    "method = 'greedy'\n",
    "params = [5, 10, 20]\n",
    "columns = ['caption', 'bool', 'name', 'real', 'caption saliency', 'bool saliency', 'color saliency', 'real saliency']\n",
    "\n",
    "for param in params:\n",
    "    generated_cols = [f'BLIP-2, {method}, max_new_tokens={param}, {column}' for column in columns]\n",
    "    generated_data = data.progress_apply(lambda row: generate_text(row, decode=method, token_length=param), axis=1)\n",
    "    data[generated_cols] = pd.DataFrame(np.array(generated_data).T.tolist(), columns=generated_cols)"
   ]
  },
  {
   "attachments": {},
   "cell_type": "markdown",
   "metadata": {},
   "source": [
    "#### Ablative study: top_p for nucleus sampling"
   ]
  },
  {
   "cell_type": "code",
   "execution_count": 98,
   "metadata": {},
   "outputs": [
    {
     "name": "stderr",
     "output_type": "stream",
     "text": [
      "100%|██████████| 64/64 [05:20<00:00,  5.01s/it]\n",
      "100%|██████████| 64/64 [05:21<00:00,  5.03s/it]\n",
      "100%|██████████| 64/64 [06:32<00:00,  6.14s/it]\n"
     ]
    }
   ],
   "source": [
    "method = 'nucleus'\n",
    "params = [0.1, 0.5, 0.9]\n",
    "columns = ['caption', 'bool', 'name', 'real', 'caption saliency', 'bool saliency', 'color saliency', 'real saliency']\n",
    "\n",
    "for param in params:\n",
    "    generated_cols = [f'BLIP-2, {method}, top_p={param}, {column}' for column in columns]\n",
    "    generated_data = data.progress_apply(lambda row: generate_text(row, decode=method, top_p=param), axis=1)\n",
    "    data[generated_cols] = pd.DataFrame(np.array(generated_data).T.tolist(), columns=generated_cols)"
   ]
  },
  {
   "attachments": {},
   "cell_type": "markdown",
   "metadata": {},
   "source": [
    "#### Ablative study: num_beams for beam search"
   ]
  },
  {
   "cell_type": "code",
   "execution_count": 100,
   "metadata": {},
   "outputs": [
    {
     "name": "stderr",
     "output_type": "stream",
     "text": [
      "100%|██████████| 64/64 [05:16<00:00,  4.94s/it]\n",
      "100%|██████████| 64/64 [10:43<00:00, 10.05s/it]\n",
      "100%|██████████| 64/64 [11:39<00:00, 10.93s/it]\n"
     ]
    }
   ],
   "source": [
    "method = 'beam'\n",
    "params = [1, 5, 10]\n",
    "columns = ['caption', 'bool', 'name', 'real', 'caption saliency', 'bool saliency', 'color saliency', 'real saliency']\n",
    "\n",
    "for param in params:\n",
    "    generated_cols = [f'BLIP-2, {method}, num_beams={param}, {column}' for column in columns]\n",
    "    generated_data = data.progress_apply(lambda row: generate_text(row, decode=method, beams=param), axis=1)\n",
    "    data[generated_cols] = pd.DataFrame(np.array(generated_data).T.tolist(), columns=generated_cols)"
   ]
  },
  {
   "cell_type": "code",
   "execution_count": 104,
   "metadata": {},
   "outputs": [],
   "source": [
    "data.to_csv(extra_file, index=False)"
   ]
  },
  {
   "attachments": {},
   "cell_type": "markdown",
   "metadata": {},
   "source": [
    "#### Display data"
   ]
  },
  {
   "attachments": {},
   "cell_type": "markdown",
   "metadata": {},
   "source": [
    "##### Reformat color extraction and add image objects for html display"
   ]
  },
  {
   "cell_type": "code",
   "execution_count": 30,
   "metadata": {},
   "outputs": [],
   "source": [
    "data = pd.read_csv('data/datasets/dataset_bonus_inference.csv')"
   ]
  },
  {
   "cell_type": "code",
   "execution_count": null,
   "metadata": {},
   "outputs": [],
   "source": [
    "columns = list(data.columns)\n",
    "columns.remove('color saliency')\n",
    "columns.remove('texture saliency')\n",
    "string_to_match = 'saliency'\n",
    "\n",
    "for column in columns:\n",
    "    if string_to_match in column:\n",
    "        data[column] = data[column].apply(lambda x: re.sub(r'[^\\w]', ' ', x))\n",
    "\n",
    "        column_color = re.sub(r'\\s+saliency', ' to boolean', re.sub(r'BLIP-2', 'color', column))\n",
    "        column_texture = re.sub(r'\\s+saliency', ' to boolean', re.sub(r'BLIP-2', 'texture', column))\n",
    "\n",
    "        data[column_color] = data[column].apply(lambda x: colors_to_boolean(x))\n",
    "        data[column_texture] = data[column].apply(lambda x: textures_to_boolean(x))\n"
   ]
  },
  {
   "cell_type": "code",
   "execution_count": null,
   "metadata": {},
   "outputs": [],
   "source": [
    "display(data)"
   ]
  },
  {
   "cell_type": "code",
   "execution_count": 19,
   "metadata": {},
   "outputs": [
    {
     "name": "stdout",
     "output_type": "stream",
     "text": [
      "BLIP-2, greedy, caption saliency\n",
      "BLIP-2, greedy, bool saliency\n",
      "BLIP-2, greedy, name saliency\n",
      "BLIP-2, greedy, real saliency\n",
      "BLIP-2, nucleus, caption saliency\n",
      "BLIP-2, nucleus, bool saliency\n",
      "BLIP-2, nucleus, name saliency\n",
      "BLIP-2, nucleus, real saliency\n",
      "BLIP-2, beam, caption saliency\n",
      "BLIP-2, beam, bool saliency\n",
      "BLIP-2, beam, name saliency\n",
      "BLIP-2, beam, real saliency\n",
      "BLIP-2, greedy, max_new_tokens=5, caption saliency\n",
      "BLIP-2, greedy, max_new_tokens=5, bool saliency\n",
      "BLIP-2, greedy, max_new_tokens=5, name saliency\n",
      "BLIP-2, greedy, max_new_tokens=5, real saliency\n",
      "BLIP-2, greedy, max_new_tokens=10, caption saliency\n",
      "BLIP-2, greedy, max_new_tokens=10, bool saliency\n",
      "BLIP-2, greedy, max_new_tokens=10, name saliency\n",
      "BLIP-2, greedy, max_new_tokens=10, real saliency\n",
      "BLIP-2, greedy, max_new_tokens=20, caption saliency\n",
      "BLIP-2, greedy, max_new_tokens=20, bool saliency\n",
      "BLIP-2, greedy, max_new_tokens=20, name saliency\n",
      "BLIP-2, greedy, max_new_tokens=20, real saliency\n",
      "BLIP-2, nucleus, top_p=0.1, caption saliency\n",
      "BLIP-2, nucleus, top_p=0.1, bool saliency\n",
      "BLIP-2, nucleus, top_p=0.1, name saliency\n",
      "BLIP-2, nucleus, top_p=0.1, real saliency\n",
      "BLIP-2, nucleus, top_p=0.5, caption saliency\n",
      "BLIP-2, nucleus, top_p=0.5, bool saliency\n",
      "BLIP-2, nucleus, top_p=0.5, name saliency\n",
      "BLIP-2, nucleus, top_p=0.5, real saliency\n",
      "BLIP-2, nucleus, top_p=0.9, caption saliency\n",
      "BLIP-2, nucleus, top_p=0.9, bool saliency\n",
      "BLIP-2, nucleus, top_p=0.9, name saliency\n",
      "BLIP-2, nucleus, top_p=0.9, real saliency\n",
      "BLIP-2, beam, num_beams=1, caption saliency\n",
      "BLIP-2, beam, num_beams=1, bool saliency\n",
      "BLIP-2, beam, num_beams=1, name saliency\n",
      "BLIP-2, beam, num_beams=1, real saliency\n",
      "BLIP-2, beam, num_beams=5, caption saliency\n",
      "BLIP-2, beam, num_beams=5, bool saliency\n",
      "BLIP-2, beam, num_beams=5, name saliency\n",
      "BLIP-2, beam, num_beams=5, real saliency\n",
      "BLIP-2, beam, num_beams=10, caption saliency\n",
      "BLIP-2, beam, num_beams=10, bool saliency\n",
      "BLIP-2, beam, num_beams=10, name saliency\n",
      "BLIP-2, beam, num_beams=10, real saliency\n"
     ]
    }
   ],
   "source": [
    "columns = list(data.columns)\n",
    "columns.remove('color saliency')\n",
    "columns.remove('texture saliency')\n",
    "string_to_match = 'saliency'\n",
    "\n",
    "for column in columns:\n",
    "    if string_to_match in column:\n",
    "        print(column)\n",
    "    "
   ]
  },
  {
   "cell_type": "code",
   "execution_count": 18,
   "metadata": {},
   "outputs": [
    {
     "data": {
      "text/plain": [
       "Index(['image_path', 'number label', 'actual name', 'familiarity score',\n",
       "       'nameability score', 'color saliency', 'texture saliency',\n",
       "       'BLIP-2, greedy, caption', 'BLIP-2, greedy, bool',\n",
       "       'BLIP-2, greedy, name',\n",
       "       ...\n",
       "       'color, beam, num_beams=5, real', 'texture, beam, num_beams=5, real',\n",
       "       'color, beam, num_beams=10, caption',\n",
       "       'texture, beam, num_beams=10, caption',\n",
       "       'color, beam, num_beams=10, bool', 'texture, beam, num_beams=10, bool',\n",
       "       'color, beam, num_beams=10, name', 'texture, beam, num_beams=10, name',\n",
       "       'color, beam, num_beams=10, real', 'texture, beam, num_beams=10, real'],\n",
       "      dtype='object', length=199)"
      ]
     },
     "execution_count": 18,
     "metadata": {},
     "output_type": "execute_result"
    }
   ],
   "source": [
    "data.columns"
   ]
  },
  {
   "cell_type": "code",
   "execution_count": 51,
   "metadata": {},
   "outputs": [
    {
     "name": "stderr",
     "output_type": "stream",
     "text": [
      "/scratch-local/jsprott.2829221/ipykernel_4099205/257187248.py:13: DeprecationWarning:\n",
      "\n",
      "LANCZOS is deprecated and will be removed in Pillow 10 (2023-07-01). Use Resampling.LANCZOS instead.\n",
      "\n"
     ]
    }
   ],
   "source": [
    "#data.rename(columns={'image_path': 'image'}, inplace=True)\n",
    "#data['image'] = data.image.map(lambda f: get_thumbnail(f))"
   ]
  },
  {
   "attachments": {},
   "cell_type": "markdown",
   "metadata": {},
   "source": [
    "Export data"
   ]
  },
  {
   "cell_type": "code",
   "execution_count": 71,
   "metadata": {},
   "outputs": [],
   "source": [
    "html_content = data.to_html(formatters={'image': image_formatter}, escape=False)\n",
    "\n",
    "with open('data/datasets/sorted_results.html', 'w') as file:\n",
    "    file.write(html_content)\n",
    "    \n",
    "output_file = 'data/datasets/dataset_with_bert.csv'\n",
    "data.to_csv(output_file, index=False)"
   ]
  },
  {
   "attachments": {},
   "cell_type": "markdown",
   "metadata": {},
   "source": [
    "## Evaluation"
   ]
  },
  {
   "attachments": {},
   "cell_type": "markdown",
   "metadata": {},
   "source": [
    "Check whether model uses color or texture terms"
   ]
  },
  {
   "cell_type": "code",
   "execution_count": null,
   "metadata": {},
   "outputs": [],
   "source": [
    "get_token_count = lambda text: len(text.split())\n",
    "\n",
    "data['length greedy'] = data['BLIP-2, greedy, caption'].apply(get_token_count)\n",
    "data['length nucleus'] = data['BLIP-2, nucleus, caption'].apply(get_token_count)\n",
    "data['length beam'] = data['BLIP-2, beam, caption'].apply(get_token_count)"
   ]
  },
  {
   "cell_type": "code",
   "execution_count": 42,
   "metadata": {},
   "outputs": [
    {
     "data": {
      "application/vnd.plotly.v1+json": {
       "config": {
        "plotlyServerURL": "https://plot.ly"
       },
       "data": [
        {
         "name": "BLIP-2, greedy, caption texture usage",
         "type": "bar",
         "x": [
          "(-0.063, 12.6]",
          "(12.6, 25.2]",
          "(25.2, 37.8]",
          "(37.8, 50.4]",
          "(50.4, 63.0]"
         ],
         "y": [
          0.47058823529411764,
          0.55,
          0.6666666666666666,
          0.75,
          0.6666666666666666
         ]
        },
        {
         "name": "BLIP-2, nucleus, caption texture usage",
         "type": "bar",
         "x": [
          "(-0.063, 12.6]",
          "(12.6, 25.2]",
          "(25.2, 37.8]",
          "(37.8, 50.4]",
          "(50.4, 63.0]"
         ],
         "y": [
          0.38235294117647056,
          0.3,
          0.6666666666666666,
          0.75,
          0.6666666666666666
         ]
        },
        {
         "name": "BLIP-2, beam, caption texture usage",
         "type": "bar",
         "x": [
          "(-0.063, 12.6]",
          "(12.6, 25.2]",
          "(25.2, 37.8]",
          "(37.8, 50.4]",
          "(50.4, 63.0]"
         ],
         "y": [
          0.5,
          0.5,
          0.6666666666666666,
          0.75,
          0.6666666666666666
         ]
        },
        {
         "name": "BLIP-2, greedy, max_new_tokens=5, caption texture usage",
         "type": "bar",
         "x": [
          "(-0.063, 12.6]",
          "(12.6, 25.2]",
          "(25.2, 37.8]",
          "(37.8, 50.4]",
          "(50.4, 63.0]"
         ],
         "y": [
          0.4411764705882353,
          0.55,
          0.6666666666666666,
          0.75,
          0.6666666666666666
         ]
        },
        {
         "name": "BLIP-2, greedy, max_new_tokens=10, caption texture usage",
         "type": "bar",
         "x": [
          "(-0.063, 12.6]",
          "(12.6, 25.2]",
          "(25.2, 37.8]",
          "(37.8, 50.4]",
          "(50.4, 63.0]"
         ],
         "y": [
          0.47058823529411764,
          0.55,
          0.6666666666666666,
          0.75,
          0.6666666666666666
         ]
        },
        {
         "name": "BLIP-2, greedy, max_new_tokens=20, caption texture usage",
         "type": "bar",
         "x": [
          "(-0.063, 12.6]",
          "(12.6, 25.2]",
          "(25.2, 37.8]",
          "(37.8, 50.4]",
          "(50.4, 63.0]"
         ],
         "y": [
          0.47058823529411764,
          0.55,
          0.6666666666666666,
          0.75,
          0.6666666666666666
         ]
        },
        {
         "name": "BLIP-2, nucleus, top_p=0.1, caption texture usage",
         "type": "bar",
         "x": [
          "(-0.063, 12.6]",
          "(12.6, 25.2]",
          "(25.2, 37.8]",
          "(37.8, 50.4]",
          "(50.4, 63.0]"
         ],
         "y": [
          0.47058823529411764,
          0.55,
          0.6666666666666666,
          0.75,
          0.6666666666666666
         ]
        },
        {
         "name": "BLIP-2, nucleus, top_p=0.5, caption texture usage",
         "type": "bar",
         "x": [
          "(-0.063, 12.6]",
          "(12.6, 25.2]",
          "(25.2, 37.8]",
          "(37.8, 50.4]",
          "(50.4, 63.0]"
         ],
         "y": [
          0.5294117647058824,
          0.5,
          0.6666666666666666,
          0.75,
          0.3333333333333333
         ]
        },
        {
         "name": "BLIP-2, nucleus, top_p=0.9, caption texture usage",
         "type": "bar",
         "x": [
          "(-0.063, 12.6]",
          "(12.6, 25.2]",
          "(25.2, 37.8]",
          "(37.8, 50.4]",
          "(50.4, 63.0]"
         ],
         "y": [
          0.5,
          0.3,
          0.3333333333333333,
          0.75,
          0.6666666666666666
         ]
        },
        {
         "name": "BLIP-2, beam, num_beams=1, caption texture usage",
         "type": "bar",
         "x": [
          "(-0.063, 12.6]",
          "(12.6, 25.2]",
          "(25.2, 37.8]",
          "(37.8, 50.4]",
          "(50.4, 63.0]"
         ],
         "y": [
          0.47058823529411764,
          0.55,
          0.6666666666666666,
          0.75,
          0.6666666666666666
         ]
        },
        {
         "name": "BLIP-2, beam, num_beams=5, caption texture usage",
         "type": "bar",
         "x": [
          "(-0.063, 12.6]",
          "(12.6, 25.2]",
          "(25.2, 37.8]",
          "(37.8, 50.4]",
          "(50.4, 63.0]"
         ],
         "y": [
          0.5,
          0.5,
          0.6666666666666666,
          0.75,
          0.6666666666666666
         ]
        },
        {
         "name": "BLIP-2, beam, num_beams=10, caption texture usage",
         "type": "bar",
         "x": [
          "(-0.063, 12.6]",
          "(12.6, 25.2]",
          "(25.2, 37.8]",
          "(37.8, 50.4]",
          "(50.4, 63.0]"
         ],
         "y": [
          0.5,
          0.45,
          0.6666666666666666,
          0.75,
          0.6666666666666666
         ]
        }
       ],
       "layout": {
        "barmode": "group",
        "template": {
         "data": {
          "bar": [
           {
            "error_x": {
             "color": "#2a3f5f"
            },
            "error_y": {
             "color": "#2a3f5f"
            },
            "marker": {
             "line": {
              "color": "#E5ECF6",
              "width": 0.5
             },
             "pattern": {
              "fillmode": "overlay",
              "size": 10,
              "solidity": 0.2
             }
            },
            "type": "bar"
           }
          ],
          "barpolar": [
           {
            "marker": {
             "line": {
              "color": "#E5ECF6",
              "width": 0.5
             },
             "pattern": {
              "fillmode": "overlay",
              "size": 10,
              "solidity": 0.2
             }
            },
            "type": "barpolar"
           }
          ],
          "carpet": [
           {
            "aaxis": {
             "endlinecolor": "#2a3f5f",
             "gridcolor": "white",
             "linecolor": "white",
             "minorgridcolor": "white",
             "startlinecolor": "#2a3f5f"
            },
            "baxis": {
             "endlinecolor": "#2a3f5f",
             "gridcolor": "white",
             "linecolor": "white",
             "minorgridcolor": "white",
             "startlinecolor": "#2a3f5f"
            },
            "type": "carpet"
           }
          ],
          "choropleth": [
           {
            "colorbar": {
             "outlinewidth": 0,
             "ticks": ""
            },
            "type": "choropleth"
           }
          ],
          "contour": [
           {
            "colorbar": {
             "outlinewidth": 0,
             "ticks": ""
            },
            "colorscale": [
             [
              0,
              "#0d0887"
             ],
             [
              0.1111111111111111,
              "#46039f"
             ],
             [
              0.2222222222222222,
              "#7201a8"
             ],
             [
              0.3333333333333333,
              "#9c179e"
             ],
             [
              0.4444444444444444,
              "#bd3786"
             ],
             [
              0.5555555555555556,
              "#d8576b"
             ],
             [
              0.6666666666666666,
              "#ed7953"
             ],
             [
              0.7777777777777778,
              "#fb9f3a"
             ],
             [
              0.8888888888888888,
              "#fdca26"
             ],
             [
              1,
              "#f0f921"
             ]
            ],
            "type": "contour"
           }
          ],
          "contourcarpet": [
           {
            "colorbar": {
             "outlinewidth": 0,
             "ticks": ""
            },
            "type": "contourcarpet"
           }
          ],
          "heatmap": [
           {
            "colorbar": {
             "outlinewidth": 0,
             "ticks": ""
            },
            "colorscale": [
             [
              0,
              "#0d0887"
             ],
             [
              0.1111111111111111,
              "#46039f"
             ],
             [
              0.2222222222222222,
              "#7201a8"
             ],
             [
              0.3333333333333333,
              "#9c179e"
             ],
             [
              0.4444444444444444,
              "#bd3786"
             ],
             [
              0.5555555555555556,
              "#d8576b"
             ],
             [
              0.6666666666666666,
              "#ed7953"
             ],
             [
              0.7777777777777778,
              "#fb9f3a"
             ],
             [
              0.8888888888888888,
              "#fdca26"
             ],
             [
              1,
              "#f0f921"
             ]
            ],
            "type": "heatmap"
           }
          ],
          "heatmapgl": [
           {
            "colorbar": {
             "outlinewidth": 0,
             "ticks": ""
            },
            "colorscale": [
             [
              0,
              "#0d0887"
             ],
             [
              0.1111111111111111,
              "#46039f"
             ],
             [
              0.2222222222222222,
              "#7201a8"
             ],
             [
              0.3333333333333333,
              "#9c179e"
             ],
             [
              0.4444444444444444,
              "#bd3786"
             ],
             [
              0.5555555555555556,
              "#d8576b"
             ],
             [
              0.6666666666666666,
              "#ed7953"
             ],
             [
              0.7777777777777778,
              "#fb9f3a"
             ],
             [
              0.8888888888888888,
              "#fdca26"
             ],
             [
              1,
              "#f0f921"
             ]
            ],
            "type": "heatmapgl"
           }
          ],
          "histogram": [
           {
            "marker": {
             "pattern": {
              "fillmode": "overlay",
              "size": 10,
              "solidity": 0.2
             }
            },
            "type": "histogram"
           }
          ],
          "histogram2d": [
           {
            "colorbar": {
             "outlinewidth": 0,
             "ticks": ""
            },
            "colorscale": [
             [
              0,
              "#0d0887"
             ],
             [
              0.1111111111111111,
              "#46039f"
             ],
             [
              0.2222222222222222,
              "#7201a8"
             ],
             [
              0.3333333333333333,
              "#9c179e"
             ],
             [
              0.4444444444444444,
              "#bd3786"
             ],
             [
              0.5555555555555556,
              "#d8576b"
             ],
             [
              0.6666666666666666,
              "#ed7953"
             ],
             [
              0.7777777777777778,
              "#fb9f3a"
             ],
             [
              0.8888888888888888,
              "#fdca26"
             ],
             [
              1,
              "#f0f921"
             ]
            ],
            "type": "histogram2d"
           }
          ],
          "histogram2dcontour": [
           {
            "colorbar": {
             "outlinewidth": 0,
             "ticks": ""
            },
            "colorscale": [
             [
              0,
              "#0d0887"
             ],
             [
              0.1111111111111111,
              "#46039f"
             ],
             [
              0.2222222222222222,
              "#7201a8"
             ],
             [
              0.3333333333333333,
              "#9c179e"
             ],
             [
              0.4444444444444444,
              "#bd3786"
             ],
             [
              0.5555555555555556,
              "#d8576b"
             ],
             [
              0.6666666666666666,
              "#ed7953"
             ],
             [
              0.7777777777777778,
              "#fb9f3a"
             ],
             [
              0.8888888888888888,
              "#fdca26"
             ],
             [
              1,
              "#f0f921"
             ]
            ],
            "type": "histogram2dcontour"
           }
          ],
          "mesh3d": [
           {
            "colorbar": {
             "outlinewidth": 0,
             "ticks": ""
            },
            "type": "mesh3d"
           }
          ],
          "parcoords": [
           {
            "line": {
             "colorbar": {
              "outlinewidth": 0,
              "ticks": ""
             }
            },
            "type": "parcoords"
           }
          ],
          "pie": [
           {
            "automargin": true,
            "type": "pie"
           }
          ],
          "scatter": [
           {
            "fillpattern": {
             "fillmode": "overlay",
             "size": 10,
             "solidity": 0.2
            },
            "type": "scatter"
           }
          ],
          "scatter3d": [
           {
            "line": {
             "colorbar": {
              "outlinewidth": 0,
              "ticks": ""
             }
            },
            "marker": {
             "colorbar": {
              "outlinewidth": 0,
              "ticks": ""
             }
            },
            "type": "scatter3d"
           }
          ],
          "scattercarpet": [
           {
            "marker": {
             "colorbar": {
              "outlinewidth": 0,
              "ticks": ""
             }
            },
            "type": "scattercarpet"
           }
          ],
          "scattergeo": [
           {
            "marker": {
             "colorbar": {
              "outlinewidth": 0,
              "ticks": ""
             }
            },
            "type": "scattergeo"
           }
          ],
          "scattergl": [
           {
            "marker": {
             "colorbar": {
              "outlinewidth": 0,
              "ticks": ""
             }
            },
            "type": "scattergl"
           }
          ],
          "scattermapbox": [
           {
            "marker": {
             "colorbar": {
              "outlinewidth": 0,
              "ticks": ""
             }
            },
            "type": "scattermapbox"
           }
          ],
          "scatterpolar": [
           {
            "marker": {
             "colorbar": {
              "outlinewidth": 0,
              "ticks": ""
             }
            },
            "type": "scatterpolar"
           }
          ],
          "scatterpolargl": [
           {
            "marker": {
             "colorbar": {
              "outlinewidth": 0,
              "ticks": ""
             }
            },
            "type": "scatterpolargl"
           }
          ],
          "scatterternary": [
           {
            "marker": {
             "colorbar": {
              "outlinewidth": 0,
              "ticks": ""
             }
            },
            "type": "scatterternary"
           }
          ],
          "surface": [
           {
            "colorbar": {
             "outlinewidth": 0,
             "ticks": ""
            },
            "colorscale": [
             [
              0,
              "#0d0887"
             ],
             [
              0.1111111111111111,
              "#46039f"
             ],
             [
              0.2222222222222222,
              "#7201a8"
             ],
             [
              0.3333333333333333,
              "#9c179e"
             ],
             [
              0.4444444444444444,
              "#bd3786"
             ],
             [
              0.5555555555555556,
              "#d8576b"
             ],
             [
              0.6666666666666666,
              "#ed7953"
             ],
             [
              0.7777777777777778,
              "#fb9f3a"
             ],
             [
              0.8888888888888888,
              "#fdca26"
             ],
             [
              1,
              "#f0f921"
             ]
            ],
            "type": "surface"
           }
          ],
          "table": [
           {
            "cells": {
             "fill": {
              "color": "#EBF0F8"
             },
             "line": {
              "color": "white"
             }
            },
            "header": {
             "fill": {
              "color": "#C8D4E3"
             },
             "line": {
              "color": "white"
             }
            },
            "type": "table"
           }
          ]
         },
         "layout": {
          "annotationdefaults": {
           "arrowcolor": "#2a3f5f",
           "arrowhead": 0,
           "arrowwidth": 1
          },
          "autotypenumbers": "strict",
          "coloraxis": {
           "colorbar": {
            "outlinewidth": 0,
            "ticks": ""
           }
          },
          "colorscale": {
           "diverging": [
            [
             0,
             "#8e0152"
            ],
            [
             0.1,
             "#c51b7d"
            ],
            [
             0.2,
             "#de77ae"
            ],
            [
             0.3,
             "#f1b6da"
            ],
            [
             0.4,
             "#fde0ef"
            ],
            [
             0.5,
             "#f7f7f7"
            ],
            [
             0.6,
             "#e6f5d0"
            ],
            [
             0.7,
             "#b8e186"
            ],
            [
             0.8,
             "#7fbc41"
            ],
            [
             0.9,
             "#4d9221"
            ],
            [
             1,
             "#276419"
            ]
           ],
           "sequential": [
            [
             0,
             "#0d0887"
            ],
            [
             0.1111111111111111,
             "#46039f"
            ],
            [
             0.2222222222222222,
             "#7201a8"
            ],
            [
             0.3333333333333333,
             "#9c179e"
            ],
            [
             0.4444444444444444,
             "#bd3786"
            ],
            [
             0.5555555555555556,
             "#d8576b"
            ],
            [
             0.6666666666666666,
             "#ed7953"
            ],
            [
             0.7777777777777778,
             "#fb9f3a"
            ],
            [
             0.8888888888888888,
             "#fdca26"
            ],
            [
             1,
             "#f0f921"
            ]
           ],
           "sequentialminus": [
            [
             0,
             "#0d0887"
            ],
            [
             0.1111111111111111,
             "#46039f"
            ],
            [
             0.2222222222222222,
             "#7201a8"
            ],
            [
             0.3333333333333333,
             "#9c179e"
            ],
            [
             0.4444444444444444,
             "#bd3786"
            ],
            [
             0.5555555555555556,
             "#d8576b"
            ],
            [
             0.6666666666666666,
             "#ed7953"
            ],
            [
             0.7777777777777778,
             "#fb9f3a"
            ],
            [
             0.8888888888888888,
             "#fdca26"
            ],
            [
             1,
             "#f0f921"
            ]
           ]
          },
          "colorway": [
           "#636efa",
           "#EF553B",
           "#00cc96",
           "#ab63fa",
           "#FFA15A",
           "#19d3f3",
           "#FF6692",
           "#B6E880",
           "#FF97FF",
           "#FECB52"
          ],
          "font": {
           "color": "#2a3f5f"
          },
          "geo": {
           "bgcolor": "white",
           "lakecolor": "white",
           "landcolor": "#E5ECF6",
           "showlakes": true,
           "showland": true,
           "subunitcolor": "white"
          },
          "hoverlabel": {
           "align": "left"
          },
          "hovermode": "closest",
          "mapbox": {
           "style": "light"
          },
          "paper_bgcolor": "white",
          "plot_bgcolor": "#E5ECF6",
          "polar": {
           "angularaxis": {
            "gridcolor": "white",
            "linecolor": "white",
            "ticks": ""
           },
           "bgcolor": "#E5ECF6",
           "radialaxis": {
            "gridcolor": "white",
            "linecolor": "white",
            "ticks": ""
           }
          },
          "scene": {
           "xaxis": {
            "backgroundcolor": "#E5ECF6",
            "gridcolor": "white",
            "gridwidth": 2,
            "linecolor": "white",
            "showbackground": true,
            "ticks": "",
            "zerolinecolor": "white"
           },
           "yaxis": {
            "backgroundcolor": "#E5ECF6",
            "gridcolor": "white",
            "gridwidth": 2,
            "linecolor": "white",
            "showbackground": true,
            "ticks": "",
            "zerolinecolor": "white"
           },
           "zaxis": {
            "backgroundcolor": "#E5ECF6",
            "gridcolor": "white",
            "gridwidth": 2,
            "linecolor": "white",
            "showbackground": true,
            "ticks": "",
            "zerolinecolor": "white"
           }
          },
          "shapedefaults": {
           "line": {
            "color": "#2a3f5f"
           }
          },
          "ternary": {
           "aaxis": {
            "gridcolor": "white",
            "linecolor": "white",
            "ticks": ""
           },
           "baxis": {
            "gridcolor": "white",
            "linecolor": "white",
            "ticks": ""
           },
           "bgcolor": "#E5ECF6",
           "caxis": {
            "gridcolor": "white",
            "linecolor": "white",
            "ticks": ""
           }
          },
          "title": {
           "x": 0.05
          },
          "xaxis": {
           "automargin": true,
           "gridcolor": "white",
           "linecolor": "white",
           "ticks": "",
           "title": {
            "standoff": 15
           },
           "zerolinecolor": "white",
           "zerolinewidth": 2
          },
          "yaxis": {
           "automargin": true,
           "gridcolor": "white",
           "linecolor": "white",
           "ticks": "",
           "title": {
            "standoff": 15
           },
           "zerolinecolor": "white",
           "zerolinewidth": 2
          }
         }
        },
        "title": {
         "text": "Texture term usage rate in % per saliency bin"
        },
        "width": 1000,
        "xaxis": {
         "tickmode": "array",
         "ticktext": [
          "0-20",
          "21-40",
          "41-60",
          "61-80",
          "81-100"
         ],
         "tickvals": [
          0,
          1,
          2,
          3,
          4
         ],
         "title": {
          "text": "Texture saliency in %"
         }
        },
        "yaxis": {
         "range": [
          0,
          1
         ],
         "title": {
          "text": "Rate of using texture terms"
         }
        }
       }
      }
     },
     "metadata": {},
     "output_type": "display_data"
    },
    {
     "data": {
      "application/vnd.plotly.v1+json": {
       "config": {
        "plotlyServerURL": "https://plot.ly"
       },
       "data": [
        {
         "name": "BLIP-2, greedy, name texture usage",
         "type": "bar",
         "x": [
          "(-0.063, 12.6]",
          "(12.6, 25.2]",
          "(25.2, 37.8]",
          "(37.8, 50.4]",
          "(50.4, 63.0]"
         ],
         "y": [
          0.23529411764705882,
          0.2,
          0.3333333333333333,
          0.5,
          0
         ]
        },
        {
         "name": "BLIP-2, nucleus, name texture usage",
         "type": "bar",
         "x": [
          "(-0.063, 12.6]",
          "(12.6, 25.2]",
          "(25.2, 37.8]",
          "(37.8, 50.4]",
          "(50.4, 63.0]"
         ],
         "y": [
          0.14705882352941177,
          0.15,
          0,
          0,
          0
         ]
        },
        {
         "name": "BLIP-2, beam, name texture usage",
         "type": "bar",
         "x": [
          "(-0.063, 12.6]",
          "(12.6, 25.2]",
          "(25.2, 37.8]",
          "(37.8, 50.4]",
          "(50.4, 63.0]"
         ],
         "y": [
          0.2647058823529412,
          0.25,
          0.3333333333333333,
          0.5,
          0.3333333333333333
         ]
        },
        {
         "name": "BLIP-2, greedy, max_new_tokens=5, name texture usage",
         "type": "bar",
         "x": [
          "(-0.063, 12.6]",
          "(12.6, 25.2]",
          "(25.2, 37.8]",
          "(37.8, 50.4]",
          "(50.4, 63.0]"
         ],
         "y": [
          0.23529411764705882,
          0.2,
          0.3333333333333333,
          0.5,
          0
         ]
        },
        {
         "name": "BLIP-2, greedy, max_new_tokens=10, name texture usage",
         "type": "bar",
         "x": [
          "(-0.063, 12.6]",
          "(12.6, 25.2]",
          "(25.2, 37.8]",
          "(37.8, 50.4]",
          "(50.4, 63.0]"
         ],
         "y": [
          0.23529411764705882,
          0.2,
          0.3333333333333333,
          0.5,
          0
         ]
        },
        {
         "name": "BLIP-2, greedy, max_new_tokens=20, name texture usage",
         "type": "bar",
         "x": [
          "(-0.063, 12.6]",
          "(12.6, 25.2]",
          "(25.2, 37.8]",
          "(37.8, 50.4]",
          "(50.4, 63.0]"
         ],
         "y": [
          0.23529411764705882,
          0.2,
          0.3333333333333333,
          0.5,
          0
         ]
        },
        {
         "name": "BLIP-2, nucleus, top_p=0.1, name texture usage",
         "type": "bar",
         "x": [
          "(-0.063, 12.6]",
          "(12.6, 25.2]",
          "(25.2, 37.8]",
          "(37.8, 50.4]",
          "(50.4, 63.0]"
         ],
         "y": [
          0.23529411764705882,
          0.2,
          0.3333333333333333,
          0.5,
          0
         ]
        },
        {
         "name": "BLIP-2, nucleus, top_p=0.5, name texture usage",
         "type": "bar",
         "x": [
          "(-0.063, 12.6]",
          "(12.6, 25.2]",
          "(25.2, 37.8]",
          "(37.8, 50.4]",
          "(50.4, 63.0]"
         ],
         "y": [
          0.3235294117647059,
          0.05,
          0,
          0.25,
          0
         ]
        },
        {
         "name": "BLIP-2, nucleus, top_p=0.9, name texture usage",
         "type": "bar",
         "x": [
          "(-0.063, 12.6]",
          "(12.6, 25.2]",
          "(25.2, 37.8]",
          "(37.8, 50.4]",
          "(50.4, 63.0]"
         ],
         "y": [
          0.20588235294117646,
          0.15,
          0.3333333333333333,
          0.25,
          0.3333333333333333
         ]
        },
        {
         "name": "BLIP-2, beam, num_beams=1, name texture usage",
         "type": "bar",
         "x": [
          "(-0.063, 12.6]",
          "(12.6, 25.2]",
          "(25.2, 37.8]",
          "(37.8, 50.4]",
          "(50.4, 63.0]"
         ],
         "y": [
          0.23529411764705882,
          0.2,
          0.3333333333333333,
          0.5,
          0
         ]
        },
        {
         "name": "BLIP-2, beam, num_beams=5, name texture usage",
         "type": "bar",
         "x": [
          "(-0.063, 12.6]",
          "(12.6, 25.2]",
          "(25.2, 37.8]",
          "(37.8, 50.4]",
          "(50.4, 63.0]"
         ],
         "y": [
          0.2647058823529412,
          0.25,
          0.3333333333333333,
          0.5,
          0.3333333333333333
         ]
        },
        {
         "name": "BLIP-2, beam, num_beams=10, name texture usage",
         "type": "bar",
         "x": [
          "(-0.063, 12.6]",
          "(12.6, 25.2]",
          "(25.2, 37.8]",
          "(37.8, 50.4]",
          "(50.4, 63.0]"
         ],
         "y": [
          0.20588235294117646,
          0.25,
          0.3333333333333333,
          0.5,
          0.3333333333333333
         ]
        }
       ],
       "layout": {
        "barmode": "group",
        "template": {
         "data": {
          "bar": [
           {
            "error_x": {
             "color": "#2a3f5f"
            },
            "error_y": {
             "color": "#2a3f5f"
            },
            "marker": {
             "line": {
              "color": "#E5ECF6",
              "width": 0.5
             },
             "pattern": {
              "fillmode": "overlay",
              "size": 10,
              "solidity": 0.2
             }
            },
            "type": "bar"
           }
          ],
          "barpolar": [
           {
            "marker": {
             "line": {
              "color": "#E5ECF6",
              "width": 0.5
             },
             "pattern": {
              "fillmode": "overlay",
              "size": 10,
              "solidity": 0.2
             }
            },
            "type": "barpolar"
           }
          ],
          "carpet": [
           {
            "aaxis": {
             "endlinecolor": "#2a3f5f",
             "gridcolor": "white",
             "linecolor": "white",
             "minorgridcolor": "white",
             "startlinecolor": "#2a3f5f"
            },
            "baxis": {
             "endlinecolor": "#2a3f5f",
             "gridcolor": "white",
             "linecolor": "white",
             "minorgridcolor": "white",
             "startlinecolor": "#2a3f5f"
            },
            "type": "carpet"
           }
          ],
          "choropleth": [
           {
            "colorbar": {
             "outlinewidth": 0,
             "ticks": ""
            },
            "type": "choropleth"
           }
          ],
          "contour": [
           {
            "colorbar": {
             "outlinewidth": 0,
             "ticks": ""
            },
            "colorscale": [
             [
              0,
              "#0d0887"
             ],
             [
              0.1111111111111111,
              "#46039f"
             ],
             [
              0.2222222222222222,
              "#7201a8"
             ],
             [
              0.3333333333333333,
              "#9c179e"
             ],
             [
              0.4444444444444444,
              "#bd3786"
             ],
             [
              0.5555555555555556,
              "#d8576b"
             ],
             [
              0.6666666666666666,
              "#ed7953"
             ],
             [
              0.7777777777777778,
              "#fb9f3a"
             ],
             [
              0.8888888888888888,
              "#fdca26"
             ],
             [
              1,
              "#f0f921"
             ]
            ],
            "type": "contour"
           }
          ],
          "contourcarpet": [
           {
            "colorbar": {
             "outlinewidth": 0,
             "ticks": ""
            },
            "type": "contourcarpet"
           }
          ],
          "heatmap": [
           {
            "colorbar": {
             "outlinewidth": 0,
             "ticks": ""
            },
            "colorscale": [
             [
              0,
              "#0d0887"
             ],
             [
              0.1111111111111111,
              "#46039f"
             ],
             [
              0.2222222222222222,
              "#7201a8"
             ],
             [
              0.3333333333333333,
              "#9c179e"
             ],
             [
              0.4444444444444444,
              "#bd3786"
             ],
             [
              0.5555555555555556,
              "#d8576b"
             ],
             [
              0.6666666666666666,
              "#ed7953"
             ],
             [
              0.7777777777777778,
              "#fb9f3a"
             ],
             [
              0.8888888888888888,
              "#fdca26"
             ],
             [
              1,
              "#f0f921"
             ]
            ],
            "type": "heatmap"
           }
          ],
          "heatmapgl": [
           {
            "colorbar": {
             "outlinewidth": 0,
             "ticks": ""
            },
            "colorscale": [
             [
              0,
              "#0d0887"
             ],
             [
              0.1111111111111111,
              "#46039f"
             ],
             [
              0.2222222222222222,
              "#7201a8"
             ],
             [
              0.3333333333333333,
              "#9c179e"
             ],
             [
              0.4444444444444444,
              "#bd3786"
             ],
             [
              0.5555555555555556,
              "#d8576b"
             ],
             [
              0.6666666666666666,
              "#ed7953"
             ],
             [
              0.7777777777777778,
              "#fb9f3a"
             ],
             [
              0.8888888888888888,
              "#fdca26"
             ],
             [
              1,
              "#f0f921"
             ]
            ],
            "type": "heatmapgl"
           }
          ],
          "histogram": [
           {
            "marker": {
             "pattern": {
              "fillmode": "overlay",
              "size": 10,
              "solidity": 0.2
             }
            },
            "type": "histogram"
           }
          ],
          "histogram2d": [
           {
            "colorbar": {
             "outlinewidth": 0,
             "ticks": ""
            },
            "colorscale": [
             [
              0,
              "#0d0887"
             ],
             [
              0.1111111111111111,
              "#46039f"
             ],
             [
              0.2222222222222222,
              "#7201a8"
             ],
             [
              0.3333333333333333,
              "#9c179e"
             ],
             [
              0.4444444444444444,
              "#bd3786"
             ],
             [
              0.5555555555555556,
              "#d8576b"
             ],
             [
              0.6666666666666666,
              "#ed7953"
             ],
             [
              0.7777777777777778,
              "#fb9f3a"
             ],
             [
              0.8888888888888888,
              "#fdca26"
             ],
             [
              1,
              "#f0f921"
             ]
            ],
            "type": "histogram2d"
           }
          ],
          "histogram2dcontour": [
           {
            "colorbar": {
             "outlinewidth": 0,
             "ticks": ""
            },
            "colorscale": [
             [
              0,
              "#0d0887"
             ],
             [
              0.1111111111111111,
              "#46039f"
             ],
             [
              0.2222222222222222,
              "#7201a8"
             ],
             [
              0.3333333333333333,
              "#9c179e"
             ],
             [
              0.4444444444444444,
              "#bd3786"
             ],
             [
              0.5555555555555556,
              "#d8576b"
             ],
             [
              0.6666666666666666,
              "#ed7953"
             ],
             [
              0.7777777777777778,
              "#fb9f3a"
             ],
             [
              0.8888888888888888,
              "#fdca26"
             ],
             [
              1,
              "#f0f921"
             ]
            ],
            "type": "histogram2dcontour"
           }
          ],
          "mesh3d": [
           {
            "colorbar": {
             "outlinewidth": 0,
             "ticks": ""
            },
            "type": "mesh3d"
           }
          ],
          "parcoords": [
           {
            "line": {
             "colorbar": {
              "outlinewidth": 0,
              "ticks": ""
             }
            },
            "type": "parcoords"
           }
          ],
          "pie": [
           {
            "automargin": true,
            "type": "pie"
           }
          ],
          "scatter": [
           {
            "fillpattern": {
             "fillmode": "overlay",
             "size": 10,
             "solidity": 0.2
            },
            "type": "scatter"
           }
          ],
          "scatter3d": [
           {
            "line": {
             "colorbar": {
              "outlinewidth": 0,
              "ticks": ""
             }
            },
            "marker": {
             "colorbar": {
              "outlinewidth": 0,
              "ticks": ""
             }
            },
            "type": "scatter3d"
           }
          ],
          "scattercarpet": [
           {
            "marker": {
             "colorbar": {
              "outlinewidth": 0,
              "ticks": ""
             }
            },
            "type": "scattercarpet"
           }
          ],
          "scattergeo": [
           {
            "marker": {
             "colorbar": {
              "outlinewidth": 0,
              "ticks": ""
             }
            },
            "type": "scattergeo"
           }
          ],
          "scattergl": [
           {
            "marker": {
             "colorbar": {
              "outlinewidth": 0,
              "ticks": ""
             }
            },
            "type": "scattergl"
           }
          ],
          "scattermapbox": [
           {
            "marker": {
             "colorbar": {
              "outlinewidth": 0,
              "ticks": ""
             }
            },
            "type": "scattermapbox"
           }
          ],
          "scatterpolar": [
           {
            "marker": {
             "colorbar": {
              "outlinewidth": 0,
              "ticks": ""
             }
            },
            "type": "scatterpolar"
           }
          ],
          "scatterpolargl": [
           {
            "marker": {
             "colorbar": {
              "outlinewidth": 0,
              "ticks": ""
             }
            },
            "type": "scatterpolargl"
           }
          ],
          "scatterternary": [
           {
            "marker": {
             "colorbar": {
              "outlinewidth": 0,
              "ticks": ""
             }
            },
            "type": "scatterternary"
           }
          ],
          "surface": [
           {
            "colorbar": {
             "outlinewidth": 0,
             "ticks": ""
            },
            "colorscale": [
             [
              0,
              "#0d0887"
             ],
             [
              0.1111111111111111,
              "#46039f"
             ],
             [
              0.2222222222222222,
              "#7201a8"
             ],
             [
              0.3333333333333333,
              "#9c179e"
             ],
             [
              0.4444444444444444,
              "#bd3786"
             ],
             [
              0.5555555555555556,
              "#d8576b"
             ],
             [
              0.6666666666666666,
              "#ed7953"
             ],
             [
              0.7777777777777778,
              "#fb9f3a"
             ],
             [
              0.8888888888888888,
              "#fdca26"
             ],
             [
              1,
              "#f0f921"
             ]
            ],
            "type": "surface"
           }
          ],
          "table": [
           {
            "cells": {
             "fill": {
              "color": "#EBF0F8"
             },
             "line": {
              "color": "white"
             }
            },
            "header": {
             "fill": {
              "color": "#C8D4E3"
             },
             "line": {
              "color": "white"
             }
            },
            "type": "table"
           }
          ]
         },
         "layout": {
          "annotationdefaults": {
           "arrowcolor": "#2a3f5f",
           "arrowhead": 0,
           "arrowwidth": 1
          },
          "autotypenumbers": "strict",
          "coloraxis": {
           "colorbar": {
            "outlinewidth": 0,
            "ticks": ""
           }
          },
          "colorscale": {
           "diverging": [
            [
             0,
             "#8e0152"
            ],
            [
             0.1,
             "#c51b7d"
            ],
            [
             0.2,
             "#de77ae"
            ],
            [
             0.3,
             "#f1b6da"
            ],
            [
             0.4,
             "#fde0ef"
            ],
            [
             0.5,
             "#f7f7f7"
            ],
            [
             0.6,
             "#e6f5d0"
            ],
            [
             0.7,
             "#b8e186"
            ],
            [
             0.8,
             "#7fbc41"
            ],
            [
             0.9,
             "#4d9221"
            ],
            [
             1,
             "#276419"
            ]
           ],
           "sequential": [
            [
             0,
             "#0d0887"
            ],
            [
             0.1111111111111111,
             "#46039f"
            ],
            [
             0.2222222222222222,
             "#7201a8"
            ],
            [
             0.3333333333333333,
             "#9c179e"
            ],
            [
             0.4444444444444444,
             "#bd3786"
            ],
            [
             0.5555555555555556,
             "#d8576b"
            ],
            [
             0.6666666666666666,
             "#ed7953"
            ],
            [
             0.7777777777777778,
             "#fb9f3a"
            ],
            [
             0.8888888888888888,
             "#fdca26"
            ],
            [
             1,
             "#f0f921"
            ]
           ],
           "sequentialminus": [
            [
             0,
             "#0d0887"
            ],
            [
             0.1111111111111111,
             "#46039f"
            ],
            [
             0.2222222222222222,
             "#7201a8"
            ],
            [
             0.3333333333333333,
             "#9c179e"
            ],
            [
             0.4444444444444444,
             "#bd3786"
            ],
            [
             0.5555555555555556,
             "#d8576b"
            ],
            [
             0.6666666666666666,
             "#ed7953"
            ],
            [
             0.7777777777777778,
             "#fb9f3a"
            ],
            [
             0.8888888888888888,
             "#fdca26"
            ],
            [
             1,
             "#f0f921"
            ]
           ]
          },
          "colorway": [
           "#636efa",
           "#EF553B",
           "#00cc96",
           "#ab63fa",
           "#FFA15A",
           "#19d3f3",
           "#FF6692",
           "#B6E880",
           "#FF97FF",
           "#FECB52"
          ],
          "font": {
           "color": "#2a3f5f"
          },
          "geo": {
           "bgcolor": "white",
           "lakecolor": "white",
           "landcolor": "#E5ECF6",
           "showlakes": true,
           "showland": true,
           "subunitcolor": "white"
          },
          "hoverlabel": {
           "align": "left"
          },
          "hovermode": "closest",
          "mapbox": {
           "style": "light"
          },
          "paper_bgcolor": "white",
          "plot_bgcolor": "#E5ECF6",
          "polar": {
           "angularaxis": {
            "gridcolor": "white",
            "linecolor": "white",
            "ticks": ""
           },
           "bgcolor": "#E5ECF6",
           "radialaxis": {
            "gridcolor": "white",
            "linecolor": "white",
            "ticks": ""
           }
          },
          "scene": {
           "xaxis": {
            "backgroundcolor": "#E5ECF6",
            "gridcolor": "white",
            "gridwidth": 2,
            "linecolor": "white",
            "showbackground": true,
            "ticks": "",
            "zerolinecolor": "white"
           },
           "yaxis": {
            "backgroundcolor": "#E5ECF6",
            "gridcolor": "white",
            "gridwidth": 2,
            "linecolor": "white",
            "showbackground": true,
            "ticks": "",
            "zerolinecolor": "white"
           },
           "zaxis": {
            "backgroundcolor": "#E5ECF6",
            "gridcolor": "white",
            "gridwidth": 2,
            "linecolor": "white",
            "showbackground": true,
            "ticks": "",
            "zerolinecolor": "white"
           }
          },
          "shapedefaults": {
           "line": {
            "color": "#2a3f5f"
           }
          },
          "ternary": {
           "aaxis": {
            "gridcolor": "white",
            "linecolor": "white",
            "ticks": ""
           },
           "baxis": {
            "gridcolor": "white",
            "linecolor": "white",
            "ticks": ""
           },
           "bgcolor": "#E5ECF6",
           "caxis": {
            "gridcolor": "white",
            "linecolor": "white",
            "ticks": ""
           }
          },
          "title": {
           "x": 0.05
          },
          "xaxis": {
           "automargin": true,
           "gridcolor": "white",
           "linecolor": "white",
           "ticks": "",
           "title": {
            "standoff": 15
           },
           "zerolinecolor": "white",
           "zerolinewidth": 2
          },
          "yaxis": {
           "automargin": true,
           "gridcolor": "white",
           "linecolor": "white",
           "ticks": "",
           "title": {
            "standoff": 15
           },
           "zerolinecolor": "white",
           "zerolinewidth": 2
          }
         }
        },
        "title": {
         "text": "Texture term usage rate in % per saliency bin"
        },
        "width": 1000,
        "xaxis": {
         "tickmode": "array",
         "ticktext": [
          "0-20",
          "21-40",
          "41-60",
          "61-80",
          "81-100"
         ],
         "tickvals": [
          0,
          1,
          2,
          3,
          4
         ],
         "title": {
          "text": "Texture saliency in %"
         }
        },
        "yaxis": {
         "range": [
          0,
          1
         ],
         "title": {
          "text": "Rate of using texture terms"
         }
        }
       }
      }
     },
     "metadata": {},
     "output_type": "display_data"
    },
    {
     "data": {
      "application/vnd.plotly.v1+json": {
       "config": {
        "plotlyServerURL": "https://plot.ly"
       },
       "data": [
        {
         "name": "BLIP-2, greedy, real texture usage",
         "type": "bar",
         "x": [
          "(-0.063, 12.6]",
          "(12.6, 25.2]",
          "(25.2, 37.8]",
          "(37.8, 50.4]",
          "(50.4, 63.0]"
         ],
         "y": [
          0.5,
          0.4,
          0.3333333333333333,
          0.5,
          0.6666666666666666
         ]
        },
        {
         "name": "BLIP-2, nucleus, real texture usage",
         "type": "bar",
         "x": [
          "(-0.063, 12.6]",
          "(12.6, 25.2]",
          "(25.2, 37.8]",
          "(37.8, 50.4]",
          "(50.4, 63.0]"
         ],
         "y": [
          0.23529411764705882,
          0.2,
          0.3333333333333333,
          0.5,
          0.3333333333333333
         ]
        },
        {
         "name": "BLIP-2, beam, real texture usage",
         "type": "bar",
         "x": [
          "(-0.063, 12.6]",
          "(12.6, 25.2]",
          "(25.2, 37.8]",
          "(37.8, 50.4]",
          "(50.4, 63.0]"
         ],
         "y": [
          0.5294117647058824,
          0.35,
          0.3333333333333333,
          0.5,
          0.6666666666666666
         ]
        },
        {
         "name": "BLIP-2, greedy, max_new_tokens=5, real texture usage",
         "type": "bar",
         "x": [
          "(-0.063, 12.6]",
          "(12.6, 25.2]",
          "(25.2, 37.8]",
          "(37.8, 50.4]",
          "(50.4, 63.0]"
         ],
         "y": [
          0.29411764705882354,
          0.35,
          0.3333333333333333,
          0.5,
          0.6666666666666666
         ]
        },
        {
         "name": "BLIP-2, greedy, max_new_tokens=10, real texture usage",
         "type": "bar",
         "x": [
          "(-0.063, 12.6]",
          "(12.6, 25.2]",
          "(25.2, 37.8]",
          "(37.8, 50.4]",
          "(50.4, 63.0]"
         ],
         "y": [
          0.5,
          0.4,
          0.3333333333333333,
          0.5,
          0.6666666666666666
         ]
        },
        {
         "name": "BLIP-2, greedy, max_new_tokens=20, real texture usage",
         "type": "bar",
         "x": [
          "(-0.063, 12.6]",
          "(12.6, 25.2]",
          "(25.2, 37.8]",
          "(37.8, 50.4]",
          "(50.4, 63.0]"
         ],
         "y": [
          0.5,
          0.4,
          0.3333333333333333,
          0.5,
          0.6666666666666666
         ]
        },
        {
         "name": "BLIP-2, nucleus, top_p=0.1, real texture usage",
         "type": "bar",
         "x": [
          "(-0.063, 12.6]",
          "(12.6, 25.2]",
          "(25.2, 37.8]",
          "(37.8, 50.4]",
          "(50.4, 63.0]"
         ],
         "y": [
          0.4411764705882353,
          0.45,
          0.3333333333333333,
          0.5,
          0.6666666666666666
         ]
        },
        {
         "name": "BLIP-2, nucleus, top_p=0.5, real texture usage",
         "type": "bar",
         "x": [
          "(-0.063, 12.6]",
          "(12.6, 25.2]",
          "(25.2, 37.8]",
          "(37.8, 50.4]",
          "(50.4, 63.0]"
         ],
         "y": [
          0.35294117647058826,
          0.25,
          0.3333333333333333,
          0.75,
          0.6666666666666666
         ]
        },
        {
         "name": "BLIP-2, nucleus, top_p=0.9, real texture usage",
         "type": "bar",
         "x": [
          "(-0.063, 12.6]",
          "(12.6, 25.2]",
          "(25.2, 37.8]",
          "(37.8, 50.4]",
          "(50.4, 63.0]"
         ],
         "y": [
          0.2647058823529412,
          0.2,
          0.3333333333333333,
          0.5,
          0.3333333333333333
         ]
        },
        {
         "name": "BLIP-2, beam, num_beams=1, real texture usage",
         "type": "bar",
         "x": [
          "(-0.063, 12.6]",
          "(12.6, 25.2]",
          "(25.2, 37.8]",
          "(37.8, 50.4]",
          "(50.4, 63.0]"
         ],
         "y": [
          0.5,
          0.4,
          0.3333333333333333,
          0.5,
          0.6666666666666666
         ]
        },
        {
         "name": "BLIP-2, beam, num_beams=5, real texture usage",
         "type": "bar",
         "x": [
          "(-0.063, 12.6]",
          "(12.6, 25.2]",
          "(25.2, 37.8]",
          "(37.8, 50.4]",
          "(50.4, 63.0]"
         ],
         "y": [
          0.5294117647058824,
          0.35,
          0.3333333333333333,
          0.5,
          0.6666666666666666
         ]
        },
        {
         "name": "BLIP-2, beam, num_beams=10, real texture usage",
         "type": "bar",
         "x": [
          "(-0.063, 12.6]",
          "(12.6, 25.2]",
          "(25.2, 37.8]",
          "(37.8, 50.4]",
          "(50.4, 63.0]"
         ],
         "y": [
          0.6176470588235294,
          0.25,
          0.3333333333333333,
          0.5,
          0.6666666666666666
         ]
        }
       ],
       "layout": {
        "barmode": "group",
        "template": {
         "data": {
          "bar": [
           {
            "error_x": {
             "color": "#2a3f5f"
            },
            "error_y": {
             "color": "#2a3f5f"
            },
            "marker": {
             "line": {
              "color": "#E5ECF6",
              "width": 0.5
             },
             "pattern": {
              "fillmode": "overlay",
              "size": 10,
              "solidity": 0.2
             }
            },
            "type": "bar"
           }
          ],
          "barpolar": [
           {
            "marker": {
             "line": {
              "color": "#E5ECF6",
              "width": 0.5
             },
             "pattern": {
              "fillmode": "overlay",
              "size": 10,
              "solidity": 0.2
             }
            },
            "type": "barpolar"
           }
          ],
          "carpet": [
           {
            "aaxis": {
             "endlinecolor": "#2a3f5f",
             "gridcolor": "white",
             "linecolor": "white",
             "minorgridcolor": "white",
             "startlinecolor": "#2a3f5f"
            },
            "baxis": {
             "endlinecolor": "#2a3f5f",
             "gridcolor": "white",
             "linecolor": "white",
             "minorgridcolor": "white",
             "startlinecolor": "#2a3f5f"
            },
            "type": "carpet"
           }
          ],
          "choropleth": [
           {
            "colorbar": {
             "outlinewidth": 0,
             "ticks": ""
            },
            "type": "choropleth"
           }
          ],
          "contour": [
           {
            "colorbar": {
             "outlinewidth": 0,
             "ticks": ""
            },
            "colorscale": [
             [
              0,
              "#0d0887"
             ],
             [
              0.1111111111111111,
              "#46039f"
             ],
             [
              0.2222222222222222,
              "#7201a8"
             ],
             [
              0.3333333333333333,
              "#9c179e"
             ],
             [
              0.4444444444444444,
              "#bd3786"
             ],
             [
              0.5555555555555556,
              "#d8576b"
             ],
             [
              0.6666666666666666,
              "#ed7953"
             ],
             [
              0.7777777777777778,
              "#fb9f3a"
             ],
             [
              0.8888888888888888,
              "#fdca26"
             ],
             [
              1,
              "#f0f921"
             ]
            ],
            "type": "contour"
           }
          ],
          "contourcarpet": [
           {
            "colorbar": {
             "outlinewidth": 0,
             "ticks": ""
            },
            "type": "contourcarpet"
           }
          ],
          "heatmap": [
           {
            "colorbar": {
             "outlinewidth": 0,
             "ticks": ""
            },
            "colorscale": [
             [
              0,
              "#0d0887"
             ],
             [
              0.1111111111111111,
              "#46039f"
             ],
             [
              0.2222222222222222,
              "#7201a8"
             ],
             [
              0.3333333333333333,
              "#9c179e"
             ],
             [
              0.4444444444444444,
              "#bd3786"
             ],
             [
              0.5555555555555556,
              "#d8576b"
             ],
             [
              0.6666666666666666,
              "#ed7953"
             ],
             [
              0.7777777777777778,
              "#fb9f3a"
             ],
             [
              0.8888888888888888,
              "#fdca26"
             ],
             [
              1,
              "#f0f921"
             ]
            ],
            "type": "heatmap"
           }
          ],
          "heatmapgl": [
           {
            "colorbar": {
             "outlinewidth": 0,
             "ticks": ""
            },
            "colorscale": [
             [
              0,
              "#0d0887"
             ],
             [
              0.1111111111111111,
              "#46039f"
             ],
             [
              0.2222222222222222,
              "#7201a8"
             ],
             [
              0.3333333333333333,
              "#9c179e"
             ],
             [
              0.4444444444444444,
              "#bd3786"
             ],
             [
              0.5555555555555556,
              "#d8576b"
             ],
             [
              0.6666666666666666,
              "#ed7953"
             ],
             [
              0.7777777777777778,
              "#fb9f3a"
             ],
             [
              0.8888888888888888,
              "#fdca26"
             ],
             [
              1,
              "#f0f921"
             ]
            ],
            "type": "heatmapgl"
           }
          ],
          "histogram": [
           {
            "marker": {
             "pattern": {
              "fillmode": "overlay",
              "size": 10,
              "solidity": 0.2
             }
            },
            "type": "histogram"
           }
          ],
          "histogram2d": [
           {
            "colorbar": {
             "outlinewidth": 0,
             "ticks": ""
            },
            "colorscale": [
             [
              0,
              "#0d0887"
             ],
             [
              0.1111111111111111,
              "#46039f"
             ],
             [
              0.2222222222222222,
              "#7201a8"
             ],
             [
              0.3333333333333333,
              "#9c179e"
             ],
             [
              0.4444444444444444,
              "#bd3786"
             ],
             [
              0.5555555555555556,
              "#d8576b"
             ],
             [
              0.6666666666666666,
              "#ed7953"
             ],
             [
              0.7777777777777778,
              "#fb9f3a"
             ],
             [
              0.8888888888888888,
              "#fdca26"
             ],
             [
              1,
              "#f0f921"
             ]
            ],
            "type": "histogram2d"
           }
          ],
          "histogram2dcontour": [
           {
            "colorbar": {
             "outlinewidth": 0,
             "ticks": ""
            },
            "colorscale": [
             [
              0,
              "#0d0887"
             ],
             [
              0.1111111111111111,
              "#46039f"
             ],
             [
              0.2222222222222222,
              "#7201a8"
             ],
             [
              0.3333333333333333,
              "#9c179e"
             ],
             [
              0.4444444444444444,
              "#bd3786"
             ],
             [
              0.5555555555555556,
              "#d8576b"
             ],
             [
              0.6666666666666666,
              "#ed7953"
             ],
             [
              0.7777777777777778,
              "#fb9f3a"
             ],
             [
              0.8888888888888888,
              "#fdca26"
             ],
             [
              1,
              "#f0f921"
             ]
            ],
            "type": "histogram2dcontour"
           }
          ],
          "mesh3d": [
           {
            "colorbar": {
             "outlinewidth": 0,
             "ticks": ""
            },
            "type": "mesh3d"
           }
          ],
          "parcoords": [
           {
            "line": {
             "colorbar": {
              "outlinewidth": 0,
              "ticks": ""
             }
            },
            "type": "parcoords"
           }
          ],
          "pie": [
           {
            "automargin": true,
            "type": "pie"
           }
          ],
          "scatter": [
           {
            "fillpattern": {
             "fillmode": "overlay",
             "size": 10,
             "solidity": 0.2
            },
            "type": "scatter"
           }
          ],
          "scatter3d": [
           {
            "line": {
             "colorbar": {
              "outlinewidth": 0,
              "ticks": ""
             }
            },
            "marker": {
             "colorbar": {
              "outlinewidth": 0,
              "ticks": ""
             }
            },
            "type": "scatter3d"
           }
          ],
          "scattercarpet": [
           {
            "marker": {
             "colorbar": {
              "outlinewidth": 0,
              "ticks": ""
             }
            },
            "type": "scattercarpet"
           }
          ],
          "scattergeo": [
           {
            "marker": {
             "colorbar": {
              "outlinewidth": 0,
              "ticks": ""
             }
            },
            "type": "scattergeo"
           }
          ],
          "scattergl": [
           {
            "marker": {
             "colorbar": {
              "outlinewidth": 0,
              "ticks": ""
             }
            },
            "type": "scattergl"
           }
          ],
          "scattermapbox": [
           {
            "marker": {
             "colorbar": {
              "outlinewidth": 0,
              "ticks": ""
             }
            },
            "type": "scattermapbox"
           }
          ],
          "scatterpolar": [
           {
            "marker": {
             "colorbar": {
              "outlinewidth": 0,
              "ticks": ""
             }
            },
            "type": "scatterpolar"
           }
          ],
          "scatterpolargl": [
           {
            "marker": {
             "colorbar": {
              "outlinewidth": 0,
              "ticks": ""
             }
            },
            "type": "scatterpolargl"
           }
          ],
          "scatterternary": [
           {
            "marker": {
             "colorbar": {
              "outlinewidth": 0,
              "ticks": ""
             }
            },
            "type": "scatterternary"
           }
          ],
          "surface": [
           {
            "colorbar": {
             "outlinewidth": 0,
             "ticks": ""
            },
            "colorscale": [
             [
              0,
              "#0d0887"
             ],
             [
              0.1111111111111111,
              "#46039f"
             ],
             [
              0.2222222222222222,
              "#7201a8"
             ],
             [
              0.3333333333333333,
              "#9c179e"
             ],
             [
              0.4444444444444444,
              "#bd3786"
             ],
             [
              0.5555555555555556,
              "#d8576b"
             ],
             [
              0.6666666666666666,
              "#ed7953"
             ],
             [
              0.7777777777777778,
              "#fb9f3a"
             ],
             [
              0.8888888888888888,
              "#fdca26"
             ],
             [
              1,
              "#f0f921"
             ]
            ],
            "type": "surface"
           }
          ],
          "table": [
           {
            "cells": {
             "fill": {
              "color": "#EBF0F8"
             },
             "line": {
              "color": "white"
             }
            },
            "header": {
             "fill": {
              "color": "#C8D4E3"
             },
             "line": {
              "color": "white"
             }
            },
            "type": "table"
           }
          ]
         },
         "layout": {
          "annotationdefaults": {
           "arrowcolor": "#2a3f5f",
           "arrowhead": 0,
           "arrowwidth": 1
          },
          "autotypenumbers": "strict",
          "coloraxis": {
           "colorbar": {
            "outlinewidth": 0,
            "ticks": ""
           }
          },
          "colorscale": {
           "diverging": [
            [
             0,
             "#8e0152"
            ],
            [
             0.1,
             "#c51b7d"
            ],
            [
             0.2,
             "#de77ae"
            ],
            [
             0.3,
             "#f1b6da"
            ],
            [
             0.4,
             "#fde0ef"
            ],
            [
             0.5,
             "#f7f7f7"
            ],
            [
             0.6,
             "#e6f5d0"
            ],
            [
             0.7,
             "#b8e186"
            ],
            [
             0.8,
             "#7fbc41"
            ],
            [
             0.9,
             "#4d9221"
            ],
            [
             1,
             "#276419"
            ]
           ],
           "sequential": [
            [
             0,
             "#0d0887"
            ],
            [
             0.1111111111111111,
             "#46039f"
            ],
            [
             0.2222222222222222,
             "#7201a8"
            ],
            [
             0.3333333333333333,
             "#9c179e"
            ],
            [
             0.4444444444444444,
             "#bd3786"
            ],
            [
             0.5555555555555556,
             "#d8576b"
            ],
            [
             0.6666666666666666,
             "#ed7953"
            ],
            [
             0.7777777777777778,
             "#fb9f3a"
            ],
            [
             0.8888888888888888,
             "#fdca26"
            ],
            [
             1,
             "#f0f921"
            ]
           ],
           "sequentialminus": [
            [
             0,
             "#0d0887"
            ],
            [
             0.1111111111111111,
             "#46039f"
            ],
            [
             0.2222222222222222,
             "#7201a8"
            ],
            [
             0.3333333333333333,
             "#9c179e"
            ],
            [
             0.4444444444444444,
             "#bd3786"
            ],
            [
             0.5555555555555556,
             "#d8576b"
            ],
            [
             0.6666666666666666,
             "#ed7953"
            ],
            [
             0.7777777777777778,
             "#fb9f3a"
            ],
            [
             0.8888888888888888,
             "#fdca26"
            ],
            [
             1,
             "#f0f921"
            ]
           ]
          },
          "colorway": [
           "#636efa",
           "#EF553B",
           "#00cc96",
           "#ab63fa",
           "#FFA15A",
           "#19d3f3",
           "#FF6692",
           "#B6E880",
           "#FF97FF",
           "#FECB52"
          ],
          "font": {
           "color": "#2a3f5f"
          },
          "geo": {
           "bgcolor": "white",
           "lakecolor": "white",
           "landcolor": "#E5ECF6",
           "showlakes": true,
           "showland": true,
           "subunitcolor": "white"
          },
          "hoverlabel": {
           "align": "left"
          },
          "hovermode": "closest",
          "mapbox": {
           "style": "light"
          },
          "paper_bgcolor": "white",
          "plot_bgcolor": "#E5ECF6",
          "polar": {
           "angularaxis": {
            "gridcolor": "white",
            "linecolor": "white",
            "ticks": ""
           },
           "bgcolor": "#E5ECF6",
           "radialaxis": {
            "gridcolor": "white",
            "linecolor": "white",
            "ticks": ""
           }
          },
          "scene": {
           "xaxis": {
            "backgroundcolor": "#E5ECF6",
            "gridcolor": "white",
            "gridwidth": 2,
            "linecolor": "white",
            "showbackground": true,
            "ticks": "",
            "zerolinecolor": "white"
           },
           "yaxis": {
            "backgroundcolor": "#E5ECF6",
            "gridcolor": "white",
            "gridwidth": 2,
            "linecolor": "white",
            "showbackground": true,
            "ticks": "",
            "zerolinecolor": "white"
           },
           "zaxis": {
            "backgroundcolor": "#E5ECF6",
            "gridcolor": "white",
            "gridwidth": 2,
            "linecolor": "white",
            "showbackground": true,
            "ticks": "",
            "zerolinecolor": "white"
           }
          },
          "shapedefaults": {
           "line": {
            "color": "#2a3f5f"
           }
          },
          "ternary": {
           "aaxis": {
            "gridcolor": "white",
            "linecolor": "white",
            "ticks": ""
           },
           "baxis": {
            "gridcolor": "white",
            "linecolor": "white",
            "ticks": ""
           },
           "bgcolor": "#E5ECF6",
           "caxis": {
            "gridcolor": "white",
            "linecolor": "white",
            "ticks": ""
           }
          },
          "title": {
           "x": 0.05
          },
          "xaxis": {
           "automargin": true,
           "gridcolor": "white",
           "linecolor": "white",
           "ticks": "",
           "title": {
            "standoff": 15
           },
           "zerolinecolor": "white",
           "zerolinewidth": 2
          },
          "yaxis": {
           "automargin": true,
           "gridcolor": "white",
           "linecolor": "white",
           "ticks": "",
           "title": {
            "standoff": 15
           },
           "zerolinecolor": "white",
           "zerolinewidth": 2
          }
         }
        },
        "title": {
         "text": "Texture term usage rate in % per saliency bin"
        },
        "width": 1000,
        "xaxis": {
         "tickmode": "array",
         "ticktext": [
          "0-20",
          "21-40",
          "41-60",
          "61-80",
          "81-100"
         ],
         "tickvals": [
          0,
          1,
          2,
          3,
          4
         ],
         "title": {
          "text": "Texture saliency in %"
         }
        },
        "yaxis": {
         "range": [
          0,
          1
         ],
         "title": {
          "text": "Rate of using texture terms"
         }
        }
       }
      }
     },
     "metadata": {},
     "output_type": "display_data"
    }
   ],
   "source": [
    "import visualizations\n",
    "import importlib\n",
    "importlib.reload(visualizations)\n",
    "from visualizations import visualize_saliency\n",
    "\n",
    "figs = visualize_saliency(data, 'texture')\n",
    "\n",
    "for fig in figs:\n",
    "    fig.show()"
   ]
  },
  {
   "cell_type": "code",
   "execution_count": 60,
   "metadata": {},
   "outputs": [
    {
     "data": {
      "application/vnd.plotly.v1+json": {
       "config": {
        "plotlyServerURL": "https://plot.ly"
       },
       "data": [
        {
         "name": "Length Greedy",
         "type": "bar",
         "x": [
          2001,
          2002,
          2003,
          2004,
          2005,
          2006,
          2007,
          2008,
          2009,
          2010,
          2011,
          2012,
          2013,
          2014,
          2015,
          2016,
          2017,
          2018,
          2019,
          2020,
          2021,
          2022,
          2023,
          2024,
          2025,
          2026,
          2027,
          2028,
          2029,
          2030,
          2031,
          2032,
          2033,
          2034,
          2035,
          2036,
          2037,
          2038,
          2039,
          2040,
          2041,
          2042,
          2043,
          2044,
          2045,
          2046,
          2047,
          2048,
          2049,
          2050,
          2051,
          2052,
          2053,
          2054,
          2055,
          2056,
          2057,
          2058,
          2059,
          2060,
          2061,
          2062,
          2063,
          2064
         ],
         "y": [
          10,
          8,
          10,
          8,
          7,
          10,
          7,
          7,
          9,
          8,
          9,
          7,
          9,
          9,
          10,
          9,
          9,
          7,
          10,
          9,
          9,
          8,
          11,
          15,
          9,
          10,
          9,
          9,
          10,
          9,
          7,
          11,
          9,
          10,
          10,
          10,
          9,
          10,
          9,
          8,
          8,
          7,
          8,
          9,
          8,
          12,
          10,
          10,
          10,
          8,
          10,
          10,
          10,
          11,
          7,
          12,
          11,
          6,
          10,
          8,
          8,
          8,
          8,
          7
         ]
        },
        {
         "name": "Length Nucleus",
         "type": "bar",
         "x": [
          2001,
          2002,
          2003,
          2004,
          2005,
          2006,
          2007,
          2008,
          2009,
          2010,
          2011,
          2012,
          2013,
          2014,
          2015,
          2016,
          2017,
          2018,
          2019,
          2020,
          2021,
          2022,
          2023,
          2024,
          2025,
          2026,
          2027,
          2028,
          2029,
          2030,
          2031,
          2032,
          2033,
          2034,
          2035,
          2036,
          2037,
          2038,
          2039,
          2040,
          2041,
          2042,
          2043,
          2044,
          2045,
          2046,
          2047,
          2048,
          2049,
          2050,
          2051,
          2052,
          2053,
          2054,
          2055,
          2056,
          2057,
          2058,
          2059,
          2060,
          2061,
          2062,
          2063,
          2064
         ],
         "y": [
          5,
          8,
          11,
          5,
          8,
          11,
          10,
          8,
          13,
          12,
          9,
          7,
          7,
          4,
          9,
          10,
          9,
          12,
          13,
          6,
          14,
          9,
          8,
          5,
          9,
          5,
          9,
          8,
          10,
          11,
          9,
          11,
          8,
          12,
          10,
          17,
          9,
          15,
          10,
          10,
          13,
          7,
          8,
          11,
          9,
          12,
          7,
          10,
          12,
          4,
          4,
          9,
          9,
          4,
          8,
          6,
          9,
          8,
          8,
          12,
          10,
          10,
          3,
          8
         ]
        },
        {
         "name": "Length Beam",
         "type": "bar",
         "x": [
          2001,
          2002,
          2003,
          2004,
          2005,
          2006,
          2007,
          2008,
          2009,
          2010,
          2011,
          2012,
          2013,
          2014,
          2015,
          2016,
          2017,
          2018,
          2019,
          2020,
          2021,
          2022,
          2023,
          2024,
          2025,
          2026,
          2027,
          2028,
          2029,
          2030,
          2031,
          2032,
          2033,
          2034,
          2035,
          2036,
          2037,
          2038,
          2039,
          2040,
          2041,
          2042,
          2043,
          2044,
          2045,
          2046,
          2047,
          2048,
          2049,
          2050,
          2051,
          2052,
          2053,
          2054,
          2055,
          2056,
          2057,
          2058,
          2059,
          2060,
          2061,
          2062,
          2063,
          2064
         ],
         "y": [
          10,
          8,
          10,
          12,
          14,
          10,
          11,
          12,
          8,
          9,
          9,
          11,
          10,
          9,
          9,
          10,
          12,
          11,
          10,
          9,
          11,
          11,
          12,
          12,
          10,
          11,
          8,
          10,
          12,
          9,
          7,
          9,
          8,
          10,
          9,
          12,
          9,
          9,
          10,
          8,
          10,
          10,
          9,
          10,
          9,
          11,
          10,
          10,
          7,
          9,
          10,
          8,
          11,
          11,
          7,
          12,
          11,
          10,
          11,
          14,
          9,
          8,
          12,
          8
         ]
        }
       ],
       "layout": {
        "bargap": 0.1,
        "bargroupgap": 0.3,
        "barmode": "group",
        "template": {
         "data": {
          "bar": [
           {
            "error_x": {
             "color": "#2a3f5f"
            },
            "error_y": {
             "color": "#2a3f5f"
            },
            "marker": {
             "line": {
              "color": "#E5ECF6",
              "width": 0.5
             },
             "pattern": {
              "fillmode": "overlay",
              "size": 10,
              "solidity": 0.2
             }
            },
            "type": "bar"
           }
          ],
          "barpolar": [
           {
            "marker": {
             "line": {
              "color": "#E5ECF6",
              "width": 0.5
             },
             "pattern": {
              "fillmode": "overlay",
              "size": 10,
              "solidity": 0.2
             }
            },
            "type": "barpolar"
           }
          ],
          "carpet": [
           {
            "aaxis": {
             "endlinecolor": "#2a3f5f",
             "gridcolor": "white",
             "linecolor": "white",
             "minorgridcolor": "white",
             "startlinecolor": "#2a3f5f"
            },
            "baxis": {
             "endlinecolor": "#2a3f5f",
             "gridcolor": "white",
             "linecolor": "white",
             "minorgridcolor": "white",
             "startlinecolor": "#2a3f5f"
            },
            "type": "carpet"
           }
          ],
          "choropleth": [
           {
            "colorbar": {
             "outlinewidth": 0,
             "ticks": ""
            },
            "type": "choropleth"
           }
          ],
          "contour": [
           {
            "colorbar": {
             "outlinewidth": 0,
             "ticks": ""
            },
            "colorscale": [
             [
              0,
              "#0d0887"
             ],
             [
              0.1111111111111111,
              "#46039f"
             ],
             [
              0.2222222222222222,
              "#7201a8"
             ],
             [
              0.3333333333333333,
              "#9c179e"
             ],
             [
              0.4444444444444444,
              "#bd3786"
             ],
             [
              0.5555555555555556,
              "#d8576b"
             ],
             [
              0.6666666666666666,
              "#ed7953"
             ],
             [
              0.7777777777777778,
              "#fb9f3a"
             ],
             [
              0.8888888888888888,
              "#fdca26"
             ],
             [
              1,
              "#f0f921"
             ]
            ],
            "type": "contour"
           }
          ],
          "contourcarpet": [
           {
            "colorbar": {
             "outlinewidth": 0,
             "ticks": ""
            },
            "type": "contourcarpet"
           }
          ],
          "heatmap": [
           {
            "colorbar": {
             "outlinewidth": 0,
             "ticks": ""
            },
            "colorscale": [
             [
              0,
              "#0d0887"
             ],
             [
              0.1111111111111111,
              "#46039f"
             ],
             [
              0.2222222222222222,
              "#7201a8"
             ],
             [
              0.3333333333333333,
              "#9c179e"
             ],
             [
              0.4444444444444444,
              "#bd3786"
             ],
             [
              0.5555555555555556,
              "#d8576b"
             ],
             [
              0.6666666666666666,
              "#ed7953"
             ],
             [
              0.7777777777777778,
              "#fb9f3a"
             ],
             [
              0.8888888888888888,
              "#fdca26"
             ],
             [
              1,
              "#f0f921"
             ]
            ],
            "type": "heatmap"
           }
          ],
          "heatmapgl": [
           {
            "colorbar": {
             "outlinewidth": 0,
             "ticks": ""
            },
            "colorscale": [
             [
              0,
              "#0d0887"
             ],
             [
              0.1111111111111111,
              "#46039f"
             ],
             [
              0.2222222222222222,
              "#7201a8"
             ],
             [
              0.3333333333333333,
              "#9c179e"
             ],
             [
              0.4444444444444444,
              "#bd3786"
             ],
             [
              0.5555555555555556,
              "#d8576b"
             ],
             [
              0.6666666666666666,
              "#ed7953"
             ],
             [
              0.7777777777777778,
              "#fb9f3a"
             ],
             [
              0.8888888888888888,
              "#fdca26"
             ],
             [
              1,
              "#f0f921"
             ]
            ],
            "type": "heatmapgl"
           }
          ],
          "histogram": [
           {
            "marker": {
             "pattern": {
              "fillmode": "overlay",
              "size": 10,
              "solidity": 0.2
             }
            },
            "type": "histogram"
           }
          ],
          "histogram2d": [
           {
            "colorbar": {
             "outlinewidth": 0,
             "ticks": ""
            },
            "colorscale": [
             [
              0,
              "#0d0887"
             ],
             [
              0.1111111111111111,
              "#46039f"
             ],
             [
              0.2222222222222222,
              "#7201a8"
             ],
             [
              0.3333333333333333,
              "#9c179e"
             ],
             [
              0.4444444444444444,
              "#bd3786"
             ],
             [
              0.5555555555555556,
              "#d8576b"
             ],
             [
              0.6666666666666666,
              "#ed7953"
             ],
             [
              0.7777777777777778,
              "#fb9f3a"
             ],
             [
              0.8888888888888888,
              "#fdca26"
             ],
             [
              1,
              "#f0f921"
             ]
            ],
            "type": "histogram2d"
           }
          ],
          "histogram2dcontour": [
           {
            "colorbar": {
             "outlinewidth": 0,
             "ticks": ""
            },
            "colorscale": [
             [
              0,
              "#0d0887"
             ],
             [
              0.1111111111111111,
              "#46039f"
             ],
             [
              0.2222222222222222,
              "#7201a8"
             ],
             [
              0.3333333333333333,
              "#9c179e"
             ],
             [
              0.4444444444444444,
              "#bd3786"
             ],
             [
              0.5555555555555556,
              "#d8576b"
             ],
             [
              0.6666666666666666,
              "#ed7953"
             ],
             [
              0.7777777777777778,
              "#fb9f3a"
             ],
             [
              0.8888888888888888,
              "#fdca26"
             ],
             [
              1,
              "#f0f921"
             ]
            ],
            "type": "histogram2dcontour"
           }
          ],
          "mesh3d": [
           {
            "colorbar": {
             "outlinewidth": 0,
             "ticks": ""
            },
            "type": "mesh3d"
           }
          ],
          "parcoords": [
           {
            "line": {
             "colorbar": {
              "outlinewidth": 0,
              "ticks": ""
             }
            },
            "type": "parcoords"
           }
          ],
          "pie": [
           {
            "automargin": true,
            "type": "pie"
           }
          ],
          "scatter": [
           {
            "fillpattern": {
             "fillmode": "overlay",
             "size": 10,
             "solidity": 0.2
            },
            "type": "scatter"
           }
          ],
          "scatter3d": [
           {
            "line": {
             "colorbar": {
              "outlinewidth": 0,
              "ticks": ""
             }
            },
            "marker": {
             "colorbar": {
              "outlinewidth": 0,
              "ticks": ""
             }
            },
            "type": "scatter3d"
           }
          ],
          "scattercarpet": [
           {
            "marker": {
             "colorbar": {
              "outlinewidth": 0,
              "ticks": ""
             }
            },
            "type": "scattercarpet"
           }
          ],
          "scattergeo": [
           {
            "marker": {
             "colorbar": {
              "outlinewidth": 0,
              "ticks": ""
             }
            },
            "type": "scattergeo"
           }
          ],
          "scattergl": [
           {
            "marker": {
             "colorbar": {
              "outlinewidth": 0,
              "ticks": ""
             }
            },
            "type": "scattergl"
           }
          ],
          "scattermapbox": [
           {
            "marker": {
             "colorbar": {
              "outlinewidth": 0,
              "ticks": ""
             }
            },
            "type": "scattermapbox"
           }
          ],
          "scatterpolar": [
           {
            "marker": {
             "colorbar": {
              "outlinewidth": 0,
              "ticks": ""
             }
            },
            "type": "scatterpolar"
           }
          ],
          "scatterpolargl": [
           {
            "marker": {
             "colorbar": {
              "outlinewidth": 0,
              "ticks": ""
             }
            },
            "type": "scatterpolargl"
           }
          ],
          "scatterternary": [
           {
            "marker": {
             "colorbar": {
              "outlinewidth": 0,
              "ticks": ""
             }
            },
            "type": "scatterternary"
           }
          ],
          "surface": [
           {
            "colorbar": {
             "outlinewidth": 0,
             "ticks": ""
            },
            "colorscale": [
             [
              0,
              "#0d0887"
             ],
             [
              0.1111111111111111,
              "#46039f"
             ],
             [
              0.2222222222222222,
              "#7201a8"
             ],
             [
              0.3333333333333333,
              "#9c179e"
             ],
             [
              0.4444444444444444,
              "#bd3786"
             ],
             [
              0.5555555555555556,
              "#d8576b"
             ],
             [
              0.6666666666666666,
              "#ed7953"
             ],
             [
              0.7777777777777778,
              "#fb9f3a"
             ],
             [
              0.8888888888888888,
              "#fdca26"
             ],
             [
              1,
              "#f0f921"
             ]
            ],
            "type": "surface"
           }
          ],
          "table": [
           {
            "cells": {
             "fill": {
              "color": "#EBF0F8"
             },
             "line": {
              "color": "white"
             }
            },
            "header": {
             "fill": {
              "color": "#C8D4E3"
             },
             "line": {
              "color": "white"
             }
            },
            "type": "table"
           }
          ]
         },
         "layout": {
          "annotationdefaults": {
           "arrowcolor": "#2a3f5f",
           "arrowhead": 0,
           "arrowwidth": 1
          },
          "autotypenumbers": "strict",
          "coloraxis": {
           "colorbar": {
            "outlinewidth": 0,
            "ticks": ""
           }
          },
          "colorscale": {
           "diverging": [
            [
             0,
             "#8e0152"
            ],
            [
             0.1,
             "#c51b7d"
            ],
            [
             0.2,
             "#de77ae"
            ],
            [
             0.3,
             "#f1b6da"
            ],
            [
             0.4,
             "#fde0ef"
            ],
            [
             0.5,
             "#f7f7f7"
            ],
            [
             0.6,
             "#e6f5d0"
            ],
            [
             0.7,
             "#b8e186"
            ],
            [
             0.8,
             "#7fbc41"
            ],
            [
             0.9,
             "#4d9221"
            ],
            [
             1,
             "#276419"
            ]
           ],
           "sequential": [
            [
             0,
             "#0d0887"
            ],
            [
             0.1111111111111111,
             "#46039f"
            ],
            [
             0.2222222222222222,
             "#7201a8"
            ],
            [
             0.3333333333333333,
             "#9c179e"
            ],
            [
             0.4444444444444444,
             "#bd3786"
            ],
            [
             0.5555555555555556,
             "#d8576b"
            ],
            [
             0.6666666666666666,
             "#ed7953"
            ],
            [
             0.7777777777777778,
             "#fb9f3a"
            ],
            [
             0.8888888888888888,
             "#fdca26"
            ],
            [
             1,
             "#f0f921"
            ]
           ],
           "sequentialminus": [
            [
             0,
             "#0d0887"
            ],
            [
             0.1111111111111111,
             "#46039f"
            ],
            [
             0.2222222222222222,
             "#7201a8"
            ],
            [
             0.3333333333333333,
             "#9c179e"
            ],
            [
             0.4444444444444444,
             "#bd3786"
            ],
            [
             0.5555555555555556,
             "#d8576b"
            ],
            [
             0.6666666666666666,
             "#ed7953"
            ],
            [
             0.7777777777777778,
             "#fb9f3a"
            ],
            [
             0.8888888888888888,
             "#fdca26"
            ],
            [
             1,
             "#f0f921"
            ]
           ]
          },
          "colorway": [
           "#636efa",
           "#EF553B",
           "#00cc96",
           "#ab63fa",
           "#FFA15A",
           "#19d3f3",
           "#FF6692",
           "#B6E880",
           "#FF97FF",
           "#FECB52"
          ],
          "font": {
           "color": "#2a3f5f"
          },
          "geo": {
           "bgcolor": "white",
           "lakecolor": "white",
           "landcolor": "#E5ECF6",
           "showlakes": true,
           "showland": true,
           "subunitcolor": "white"
          },
          "hoverlabel": {
           "align": "left"
          },
          "hovermode": "closest",
          "mapbox": {
           "style": "light"
          },
          "paper_bgcolor": "white",
          "plot_bgcolor": "#E5ECF6",
          "polar": {
           "angularaxis": {
            "gridcolor": "white",
            "linecolor": "white",
            "ticks": ""
           },
           "bgcolor": "#E5ECF6",
           "radialaxis": {
            "gridcolor": "white",
            "linecolor": "white",
            "ticks": ""
           }
          },
          "scene": {
           "xaxis": {
            "backgroundcolor": "#E5ECF6",
            "gridcolor": "white",
            "gridwidth": 2,
            "linecolor": "white",
            "showbackground": true,
            "ticks": "",
            "zerolinecolor": "white"
           },
           "yaxis": {
            "backgroundcolor": "#E5ECF6",
            "gridcolor": "white",
            "gridwidth": 2,
            "linecolor": "white",
            "showbackground": true,
            "ticks": "",
            "zerolinecolor": "white"
           },
           "zaxis": {
            "backgroundcolor": "#E5ECF6",
            "gridcolor": "white",
            "gridwidth": 2,
            "linecolor": "white",
            "showbackground": true,
            "ticks": "",
            "zerolinecolor": "white"
           }
          },
          "shapedefaults": {
           "line": {
            "color": "#2a3f5f"
           }
          },
          "ternary": {
           "aaxis": {
            "gridcolor": "white",
            "linecolor": "white",
            "ticks": ""
           },
           "baxis": {
            "gridcolor": "white",
            "linecolor": "white",
            "ticks": ""
           },
           "bgcolor": "#E5ECF6",
           "caxis": {
            "gridcolor": "white",
            "linecolor": "white",
            "ticks": ""
           }
          },
          "title": {
           "x": 0.05
          },
          "xaxis": {
           "automargin": true,
           "gridcolor": "white",
           "linecolor": "white",
           "ticks": "",
           "title": {
            "standoff": 15
           },
           "zerolinecolor": "white",
           "zerolinewidth": 2
          },
          "yaxis": {
           "automargin": true,
           "gridcolor": "white",
           "linecolor": "white",
           "ticks": "",
           "title": {
            "standoff": 15
           },
           "zerolinecolor": "white",
           "zerolinewidth": 2
          }
         }
        },
        "title": {
         "text": "Grouped Bar Chart of token lengths"
        },
        "width": 1000,
        "xaxis": {
         "title": {
          "text": "Object label"
         }
        },
        "yaxis": {
         "title": {
          "text": "Token length"
         }
        }
       }
      },
      "text/html": [
       "<div>                            <div id=\"9b661ec3-bb5d-47fe-b74a-33cc8bdde25d\" class=\"plotly-graph-div\" style=\"height:525px; width:1000px;\"></div>            <script type=\"text/javascript\">                require([\"plotly\"], function(Plotly) {                    window.PLOTLYENV=window.PLOTLYENV || {};                                    if (document.getElementById(\"9b661ec3-bb5d-47fe-b74a-33cc8bdde25d\")) {                    Plotly.newPlot(                        \"9b661ec3-bb5d-47fe-b74a-33cc8bdde25d\",                        [{\"name\":\"Length Greedy\",\"x\":[2001,2002,2003,2004,2005,2006,2007,2008,2009,2010,2011,2012,2013,2014,2015,2016,2017,2018,2019,2020,2021,2022,2023,2024,2025,2026,2027,2028,2029,2030,2031,2032,2033,2034,2035,2036,2037,2038,2039,2040,2041,2042,2043,2044,2045,2046,2047,2048,2049,2050,2051,2052,2053,2054,2055,2056,2057,2058,2059,2060,2061,2062,2063,2064],\"y\":[10,8,10,8,7,10,7,7,9,8,9,7,9,9,10,9,9,7,10,9,9,8,11,15,9,10,9,9,10,9,7,11,9,10,10,10,9,10,9,8,8,7,8,9,8,12,10,10,10,8,10,10,10,11,7,12,11,6,10,8,8,8,8,7],\"type\":\"bar\"},{\"name\":\"Length Nucleus\",\"x\":[2001,2002,2003,2004,2005,2006,2007,2008,2009,2010,2011,2012,2013,2014,2015,2016,2017,2018,2019,2020,2021,2022,2023,2024,2025,2026,2027,2028,2029,2030,2031,2032,2033,2034,2035,2036,2037,2038,2039,2040,2041,2042,2043,2044,2045,2046,2047,2048,2049,2050,2051,2052,2053,2054,2055,2056,2057,2058,2059,2060,2061,2062,2063,2064],\"y\":[5,8,11,5,8,11,10,8,13,12,9,7,7,4,9,10,9,12,13,6,14,9,8,5,9,5,9,8,10,11,9,11,8,12,10,17,9,15,10,10,13,7,8,11,9,12,7,10,12,4,4,9,9,4,8,6,9,8,8,12,10,10,3,8],\"type\":\"bar\"},{\"name\":\"Length Beam\",\"x\":[2001,2002,2003,2004,2005,2006,2007,2008,2009,2010,2011,2012,2013,2014,2015,2016,2017,2018,2019,2020,2021,2022,2023,2024,2025,2026,2027,2028,2029,2030,2031,2032,2033,2034,2035,2036,2037,2038,2039,2040,2041,2042,2043,2044,2045,2046,2047,2048,2049,2050,2051,2052,2053,2054,2055,2056,2057,2058,2059,2060,2061,2062,2063,2064],\"y\":[10,8,10,12,14,10,11,12,8,9,9,11,10,9,9,10,12,11,10,9,11,11,12,12,10,11,8,10,12,9,7,9,8,10,9,12,9,9,10,8,10,10,9,10,9,11,10,10,7,9,10,8,11,11,7,12,11,10,11,14,9,8,12,8],\"type\":\"bar\"}],                        {\"template\":{\"data\":{\"histogram2dcontour\":[{\"type\":\"histogram2dcontour\",\"colorbar\":{\"outlinewidth\":0,\"ticks\":\"\"},\"colorscale\":[[0.0,\"#0d0887\"],[0.1111111111111111,\"#46039f\"],[0.2222222222222222,\"#7201a8\"],[0.3333333333333333,\"#9c179e\"],[0.4444444444444444,\"#bd3786\"],[0.5555555555555556,\"#d8576b\"],[0.6666666666666666,\"#ed7953\"],[0.7777777777777778,\"#fb9f3a\"],[0.8888888888888888,\"#fdca26\"],[1.0,\"#f0f921\"]]}],\"choropleth\":[{\"type\":\"choropleth\",\"colorbar\":{\"outlinewidth\":0,\"ticks\":\"\"}}],\"histogram2d\":[{\"type\":\"histogram2d\",\"colorbar\":{\"outlinewidth\":0,\"ticks\":\"\"},\"colorscale\":[[0.0,\"#0d0887\"],[0.1111111111111111,\"#46039f\"],[0.2222222222222222,\"#7201a8\"],[0.3333333333333333,\"#9c179e\"],[0.4444444444444444,\"#bd3786\"],[0.5555555555555556,\"#d8576b\"],[0.6666666666666666,\"#ed7953\"],[0.7777777777777778,\"#fb9f3a\"],[0.8888888888888888,\"#fdca26\"],[1.0,\"#f0f921\"]]}],\"heatmap\":[{\"type\":\"heatmap\",\"colorbar\":{\"outlinewidth\":0,\"ticks\":\"\"},\"colorscale\":[[0.0,\"#0d0887\"],[0.1111111111111111,\"#46039f\"],[0.2222222222222222,\"#7201a8\"],[0.3333333333333333,\"#9c179e\"],[0.4444444444444444,\"#bd3786\"],[0.5555555555555556,\"#d8576b\"],[0.6666666666666666,\"#ed7953\"],[0.7777777777777778,\"#fb9f3a\"],[0.8888888888888888,\"#fdca26\"],[1.0,\"#f0f921\"]]}],\"heatmapgl\":[{\"type\":\"heatmapgl\",\"colorbar\":{\"outlinewidth\":0,\"ticks\":\"\"},\"colorscale\":[[0.0,\"#0d0887\"],[0.1111111111111111,\"#46039f\"],[0.2222222222222222,\"#7201a8\"],[0.3333333333333333,\"#9c179e\"],[0.4444444444444444,\"#bd3786\"],[0.5555555555555556,\"#d8576b\"],[0.6666666666666666,\"#ed7953\"],[0.7777777777777778,\"#fb9f3a\"],[0.8888888888888888,\"#fdca26\"],[1.0,\"#f0f921\"]]}],\"contourcarpet\":[{\"type\":\"contourcarpet\",\"colorbar\":{\"outlinewidth\":0,\"ticks\":\"\"}}],\"contour\":[{\"type\":\"contour\",\"colorbar\":{\"outlinewidth\":0,\"ticks\":\"\"},\"colorscale\":[[0.0,\"#0d0887\"],[0.1111111111111111,\"#46039f\"],[0.2222222222222222,\"#7201a8\"],[0.3333333333333333,\"#9c179e\"],[0.4444444444444444,\"#bd3786\"],[0.5555555555555556,\"#d8576b\"],[0.6666666666666666,\"#ed7953\"],[0.7777777777777778,\"#fb9f3a\"],[0.8888888888888888,\"#fdca26\"],[1.0,\"#f0f921\"]]}],\"surface\":[{\"type\":\"surface\",\"colorbar\":{\"outlinewidth\":0,\"ticks\":\"\"},\"colorscale\":[[0.0,\"#0d0887\"],[0.1111111111111111,\"#46039f\"],[0.2222222222222222,\"#7201a8\"],[0.3333333333333333,\"#9c179e\"],[0.4444444444444444,\"#bd3786\"],[0.5555555555555556,\"#d8576b\"],[0.6666666666666666,\"#ed7953\"],[0.7777777777777778,\"#fb9f3a\"],[0.8888888888888888,\"#fdca26\"],[1.0,\"#f0f921\"]]}],\"mesh3d\":[{\"type\":\"mesh3d\",\"colorbar\":{\"outlinewidth\":0,\"ticks\":\"\"}}],\"scatter\":[{\"fillpattern\":{\"fillmode\":\"overlay\",\"size\":10,\"solidity\":0.2},\"type\":\"scatter\"}],\"parcoords\":[{\"type\":\"parcoords\",\"line\":{\"colorbar\":{\"outlinewidth\":0,\"ticks\":\"\"}}}],\"scatterpolargl\":[{\"type\":\"scatterpolargl\",\"marker\":{\"colorbar\":{\"outlinewidth\":0,\"ticks\":\"\"}}}],\"bar\":[{\"error_x\":{\"color\":\"#2a3f5f\"},\"error_y\":{\"color\":\"#2a3f5f\"},\"marker\":{\"line\":{\"color\":\"#E5ECF6\",\"width\":0.5},\"pattern\":{\"fillmode\":\"overlay\",\"size\":10,\"solidity\":0.2}},\"type\":\"bar\"}],\"scattergeo\":[{\"type\":\"scattergeo\",\"marker\":{\"colorbar\":{\"outlinewidth\":0,\"ticks\":\"\"}}}],\"scatterpolar\":[{\"type\":\"scatterpolar\",\"marker\":{\"colorbar\":{\"outlinewidth\":0,\"ticks\":\"\"}}}],\"histogram\":[{\"marker\":{\"pattern\":{\"fillmode\":\"overlay\",\"size\":10,\"solidity\":0.2}},\"type\":\"histogram\"}],\"scattergl\":[{\"type\":\"scattergl\",\"marker\":{\"colorbar\":{\"outlinewidth\":0,\"ticks\":\"\"}}}],\"scatter3d\":[{\"type\":\"scatter3d\",\"line\":{\"colorbar\":{\"outlinewidth\":0,\"ticks\":\"\"}},\"marker\":{\"colorbar\":{\"outlinewidth\":0,\"ticks\":\"\"}}}],\"scattermapbox\":[{\"type\":\"scattermapbox\",\"marker\":{\"colorbar\":{\"outlinewidth\":0,\"ticks\":\"\"}}}],\"scatterternary\":[{\"type\":\"scatterternary\",\"marker\":{\"colorbar\":{\"outlinewidth\":0,\"ticks\":\"\"}}}],\"scattercarpet\":[{\"type\":\"scattercarpet\",\"marker\":{\"colorbar\":{\"outlinewidth\":0,\"ticks\":\"\"}}}],\"carpet\":[{\"aaxis\":{\"endlinecolor\":\"#2a3f5f\",\"gridcolor\":\"white\",\"linecolor\":\"white\",\"minorgridcolor\":\"white\",\"startlinecolor\":\"#2a3f5f\"},\"baxis\":{\"endlinecolor\":\"#2a3f5f\",\"gridcolor\":\"white\",\"linecolor\":\"white\",\"minorgridcolor\":\"white\",\"startlinecolor\":\"#2a3f5f\"},\"type\":\"carpet\"}],\"table\":[{\"cells\":{\"fill\":{\"color\":\"#EBF0F8\"},\"line\":{\"color\":\"white\"}},\"header\":{\"fill\":{\"color\":\"#C8D4E3\"},\"line\":{\"color\":\"white\"}},\"type\":\"table\"}],\"barpolar\":[{\"marker\":{\"line\":{\"color\":\"#E5ECF6\",\"width\":0.5},\"pattern\":{\"fillmode\":\"overlay\",\"size\":10,\"solidity\":0.2}},\"type\":\"barpolar\"}],\"pie\":[{\"automargin\":true,\"type\":\"pie\"}]},\"layout\":{\"autotypenumbers\":\"strict\",\"colorway\":[\"#636efa\",\"#EF553B\",\"#00cc96\",\"#ab63fa\",\"#FFA15A\",\"#19d3f3\",\"#FF6692\",\"#B6E880\",\"#FF97FF\",\"#FECB52\"],\"font\":{\"color\":\"#2a3f5f\"},\"hovermode\":\"closest\",\"hoverlabel\":{\"align\":\"left\"},\"paper_bgcolor\":\"white\",\"plot_bgcolor\":\"#E5ECF6\",\"polar\":{\"bgcolor\":\"#E5ECF6\",\"angularaxis\":{\"gridcolor\":\"white\",\"linecolor\":\"white\",\"ticks\":\"\"},\"radialaxis\":{\"gridcolor\":\"white\",\"linecolor\":\"white\",\"ticks\":\"\"}},\"ternary\":{\"bgcolor\":\"#E5ECF6\",\"aaxis\":{\"gridcolor\":\"white\",\"linecolor\":\"white\",\"ticks\":\"\"},\"baxis\":{\"gridcolor\":\"white\",\"linecolor\":\"white\",\"ticks\":\"\"},\"caxis\":{\"gridcolor\":\"white\",\"linecolor\":\"white\",\"ticks\":\"\"}},\"coloraxis\":{\"colorbar\":{\"outlinewidth\":0,\"ticks\":\"\"}},\"colorscale\":{\"sequential\":[[0.0,\"#0d0887\"],[0.1111111111111111,\"#46039f\"],[0.2222222222222222,\"#7201a8\"],[0.3333333333333333,\"#9c179e\"],[0.4444444444444444,\"#bd3786\"],[0.5555555555555556,\"#d8576b\"],[0.6666666666666666,\"#ed7953\"],[0.7777777777777778,\"#fb9f3a\"],[0.8888888888888888,\"#fdca26\"],[1.0,\"#f0f921\"]],\"sequentialminus\":[[0.0,\"#0d0887\"],[0.1111111111111111,\"#46039f\"],[0.2222222222222222,\"#7201a8\"],[0.3333333333333333,\"#9c179e\"],[0.4444444444444444,\"#bd3786\"],[0.5555555555555556,\"#d8576b\"],[0.6666666666666666,\"#ed7953\"],[0.7777777777777778,\"#fb9f3a\"],[0.8888888888888888,\"#fdca26\"],[1.0,\"#f0f921\"]],\"diverging\":[[0,\"#8e0152\"],[0.1,\"#c51b7d\"],[0.2,\"#de77ae\"],[0.3,\"#f1b6da\"],[0.4,\"#fde0ef\"],[0.5,\"#f7f7f7\"],[0.6,\"#e6f5d0\"],[0.7,\"#b8e186\"],[0.8,\"#7fbc41\"],[0.9,\"#4d9221\"],[1,\"#276419\"]]},\"xaxis\":{\"gridcolor\":\"white\",\"linecolor\":\"white\",\"ticks\":\"\",\"title\":{\"standoff\":15},\"zerolinecolor\":\"white\",\"automargin\":true,\"zerolinewidth\":2},\"yaxis\":{\"gridcolor\":\"white\",\"linecolor\":\"white\",\"ticks\":\"\",\"title\":{\"standoff\":15},\"zerolinecolor\":\"white\",\"automargin\":true,\"zerolinewidth\":2},\"scene\":{\"xaxis\":{\"backgroundcolor\":\"#E5ECF6\",\"gridcolor\":\"white\",\"linecolor\":\"white\",\"showbackground\":true,\"ticks\":\"\",\"zerolinecolor\":\"white\",\"gridwidth\":2},\"yaxis\":{\"backgroundcolor\":\"#E5ECF6\",\"gridcolor\":\"white\",\"linecolor\":\"white\",\"showbackground\":true,\"ticks\":\"\",\"zerolinecolor\":\"white\",\"gridwidth\":2},\"zaxis\":{\"backgroundcolor\":\"#E5ECF6\",\"gridcolor\":\"white\",\"linecolor\":\"white\",\"showbackground\":true,\"ticks\":\"\",\"zerolinecolor\":\"white\",\"gridwidth\":2}},\"shapedefaults\":{\"line\":{\"color\":\"#2a3f5f\"}},\"annotationdefaults\":{\"arrowcolor\":\"#2a3f5f\",\"arrowhead\":0,\"arrowwidth\":1},\"geo\":{\"bgcolor\":\"white\",\"landcolor\":\"#E5ECF6\",\"subunitcolor\":\"white\",\"showland\":true,\"showlakes\":true,\"lakecolor\":\"white\"},\"title\":{\"x\":0.05},\"mapbox\":{\"style\":\"light\"}}},\"width\":1000,\"title\":{\"text\":\"Grouped Bar Chart of token lengths\"},\"xaxis\":{\"title\":{\"text\":\"Object label\"}},\"yaxis\":{\"title\":{\"text\":\"Token length\"}},\"barmode\":\"group\",\"bargap\":0.1,\"bargroupgap\":0.3},                        {\"responsive\": true}                    ).then(function(){\n",
       "                            \n",
       "var gd = document.getElementById('9b661ec3-bb5d-47fe-b74a-33cc8bdde25d');\n",
       "var x = new MutationObserver(function (mutations, observer) {{\n",
       "        var display = window.getComputedStyle(gd).display;\n",
       "        if (!display || display === 'none') {{\n",
       "            console.log([gd, 'removed!']);\n",
       "            Plotly.purge(gd);\n",
       "            observer.disconnect();\n",
       "        }}\n",
       "}});\n",
       "\n",
       "// Listen for the removal of the full notebook cells\n",
       "var notebookContainer = gd.closest('#notebook-container');\n",
       "if (notebookContainer) {{\n",
       "    x.observe(notebookContainer, {childList: true});\n",
       "}}\n",
       "\n",
       "// Listen for the clearing of the current output cell\n",
       "var outputEl = gd.closest('.output');\n",
       "if (outputEl) {{\n",
       "    x.observe(outputEl, {childList: true});\n",
       "}}\n",
       "\n",
       "                        })                };                });            </script>        </div>"
      ]
     },
     "metadata": {},
     "output_type": "display_data"
    }
   ],
   "source": [
    "import plotly.graph_objects as go\n",
    "import pandas as pd\n",
    "\n",
    "# Assuming your dataframe is called 'df'\n",
    "# You can load your data into a dataframe using pd.read_csv() or any other method\n",
    "\n",
    "# Create a list of row indices to use as labels for x-axis\n",
    "labels = data['number label'].tolist()\n",
    "\n",
    "# Create a figure object\n",
    "fig = go.Figure()\n",
    "\n",
    "# Add the bars for each length column\n",
    "fig.add_trace(go.Bar(x=labels, y=data['length greedy'], name='Length Greedy'))\n",
    "fig.add_trace(go.Bar(x=labels, y=data['length nucleus'], name='Length Nucleus'))\n",
    "fig.add_trace(go.Bar(x=labels, y=data['length beam'], name='Length Beam'))\n",
    "\n",
    "# Update the layout\n",
    "fig.update_layout(\n",
    "    width=1000,\n",
    "    title='Grouped Bar Chart of token lengths',\n",
    "    xaxis_title='Object label',\n",
    "    yaxis_title='Token length',\n",
    "    barmode='group',  # Set the bar mode to 'group' for grouped bars\n",
    "    bargap=0.1,  # Adjust the spacing between bars within each group\n",
    "    bargroupgap=0.3  # Adjust the spacing between groups\n",
    ")\n",
    "\n",
    "# Show the plot\n",
    "fig.show()\n",
    "\n",
    "# # Save the plot as JSON\n",
    "fig_json = fig.to_json()\n",
    "with open('token_length.json', 'w') as file:\n",
    "    file.write(fig_json)"
   ]
  },
  {
   "cell_type": "code",
   "execution_count": null,
   "metadata": {},
   "outputs": [],
   "source": [
    "num_bins = 5\n",
    "category_bins_familiarity = pd.cut(data['familiarity score'], bins=num_bins)\n",
    "\n",
    "data_plot = data.copy()\n",
    "\n",
    "data_plot['Category Bin Familiarity'] = category_bins_familiarity.astype(str)\n",
    "\n",
    "data_plot['greedy bool count'] = data_plot[\"BLIP-2, greedy, bool\"].str.lower().str.count(r'\\byes\\b')\n",
    "data_plot['nucleus bool count'] = data_plot[\"BLIP-2, nucleus, bool\"].str.lower().str.count(r'\\byes\\b')\n",
    "data_plot['beam bool count'] = data_plot[\"BLIP-2, beam, bool\"].str.lower().str.count(r'\\byes\\b')\n",
    "\n",
    "\n",
    "\n",
    "f_greedy = data_plot.groupby(['Category Bin Familiarity', 'greedy bool count']).sum().reset_index()\n",
    "f_beam = data_plot.groupby(['Category Bin Familiarity', 'beam bool count']).sum().reset_index()\n",
    "f_nucleus = data_plot.groupby(['Category Bin Familiarity', 'nucleus bool count']).size()\n",
    "\n",
    "\n",
    "print(f_nucleus)\n",
    "\n",
    "# color_nucleus['Percentage'] = color_nucleus.apply(lambda row: row[True] / (row[True] + row[False]), axis=1)\n",
    "# color_greedy['Percentage'] = color_greedy.apply(lambda row: row[True] / (row[True] + row[False]), axis=1)\n",
    "# color_beam['Percentage'] = color_beam.apply(lambda row: row[True] / (row[True] + row[False]), axis=1)\n",
    "\n",
    "\n",
    "# # Count the occurrences of \"yes\" in each column\n",
    "# count_column1 = data[\"BLIP-2, greedy, bool\"].str.lower().str.count(r'\\byes\\b').sum() / 64\n",
    "# count_column2 = data[\"BLIP-2, beam, bool\"].str.lower().str.count(r'\\byes\\b').sum() / 64\n",
    "# count_column3 = data[\"BLIP-2, nucleus, bool\"].str.lower().str.count(r'\\byes\\b').sum() / 64\n",
    "\n",
    "# # Create a DataFrame for the pie chart\n",
    "# data_plot = pd.DataFrame({\n",
    "#     \"Column\": [\"BLIP-2, greedy, bool\", \"BLIP-2, beam, bool\", \"BLIP-2, nucleus, bool\"],\n",
    "#     \"Count\": [count_column1, count_column2, count_column3]\n",
    "# })\n",
    "\n",
    "# # Create the bar chart using Plotly\n",
    "# fig = px.bar(data_plot, x='Column', y='Count')\n",
    "\n",
    "# # Set the axis labels\n",
    "# fig.update_layout(width=1000, title='Model belief in recognizing object', xaxis_title='Decoding strategy', yaxis_title='Count')\n",
    "\n",
    "\n",
    "# # Show the plot\n",
    "# fig.show()\n",
    "\n",
    "# # Save the plot as JSON\n",
    "# fig_json = fig.to_json()\n",
    "# with open('familiarity.json', 'w') as file:\n",
    "#     file.write(fig_json)"
   ]
  },
  {
   "attachments": {},
   "cell_type": "markdown",
   "metadata": {},
   "source": [
    "### BERTScore \n"
   ]
  },
  {
   "cell_type": "code",
   "execution_count": 5,
   "metadata": {},
   "outputs": [],
   "source": [
    "import bert_score\n",
    "from bert_score import score\n",
    "\n",
    "# hide the loading messages\n",
    "import logging\n",
    "import transformers\n",
    "transformers.tokenization_utils.logger.setLevel(logging.ERROR)\n",
    "transformers.configuration_utils.logger.setLevel(logging.ERROR)\n",
    "transformers.modeling_utils.logger.setLevel(logging.ERROR)\n",
    "\n",
    "%matplotlib inline\n",
    "import matplotlib.pyplot as plt\n",
    "from matplotlib import rcParams\n",
    "\n",
    "rcParams[\"xtick.major.size\"] = 0\n",
    "rcParams[\"xtick.minor.size\"] = 0\n",
    "rcParams[\"ytick.major.size\"] = 0\n",
    "rcParams[\"ytick.minor.size\"] = 0\n",
    "\n",
    "rcParams[\"axes.labelsize\"] = \"large\"\n",
    "rcParams[\"axes.axisbelow\"] = True\n",
    "rcParams[\"axes.grid\"] = True"
   ]
  },
  {
   "attachments": {},
   "cell_type": "markdown",
   "metadata": {},
   "source": [
    "#### Get candidate and reference sentences"
   ]
  },
  {
   "cell_type": "code",
   "execution_count": 31,
   "metadata": {},
   "outputs": [
    {
     "data": {
      "text/plain": [
       "0                                         a spoon\n",
       "1                                                \n",
       "2                                         the jig\n",
       "3                                        a banana\n",
       "4     the hat is a colorful fish with a long tail\n",
       "                         ...                     \n",
       "59                                 the jelly bean\n",
       "60                                        a donut\n",
       "61                               a rubber dog toy\n",
       "62                                      an object\n",
       "63              a green foot pedal with four legs\n",
       "Name: BLIP-2, nucleus, top_p=0.9, name, Length: 64, dtype: object"
      ]
     },
     "execution_count": 31,
     "metadata": {},
     "output_type": "execute_result"
    }
   ],
   "source": [
    "data['BLIP-2, nucleus, top_p=0.9, name']"
   ]
  },
  {
   "cell_type": "code",
   "execution_count": 32,
   "metadata": {},
   "outputs": [],
   "source": [
    "refs = list(data['actual name'])\n",
    "candidates = {}\n",
    "title = 'BLIP-2'\n",
    "columns = data.columns\n",
    "for column in columns:\n",
    "    if title in column and 'saliency' not in column and 'bool' not in column:\n",
    "        candidates[column] = list(data[column])\n",
    "\n",
    "\n",
    "# cands_greedy_caption = list(data['BLIP-2, greedy, caption'])\n",
    "# cands_beam_caption = list(data['BLIP-2, beam, caption'])\n",
    "# cands_nucleus_caption = list(data['BLIP-2, nucleus, caption'])\n",
    "\n",
    "\n",
    "# cands_greedy_name = data['BLIP-2, greedy, name']\n",
    "# cands_beam_name = data['BLIP-2, beam, name']\n",
    "# cands_nucleus_name = data['BLIP-2, nucleus, name']\n",
    "\n",
    "# cands_greedy_real = list(data['BLIP-2, greedy, real'])\n",
    "# cands_beam_real = list(data['BLIP-2, beam, real'])\n",
    "# cands_nucleus_real = list(data['BLIP-2, nucleus, real'])"
   ]
  },
  {
   "attachments": {},
   "cell_type": "markdown",
   "metadata": {},
   "source": [
    "#### BERTScore familiarity measurement\n",
    "BERTScore produces P, R, F1 scores respectively. "
   ]
  },
  {
   "cell_type": "code",
   "execution_count": null,
   "metadata": {},
   "outputs": [],
   "source": [
    "familiarity_scores = {}\n",
    "for item in candidates.items():\n",
    "    familiarity_scores[f'{item[0]} Familiarity BERTScore'] = score(item[1], refs, lang='en', verbose=True)\n",
    "\n",
    "# data2['BERTScore greedy real'] = score(cands_greedy_real, refs, lang='en', verbose=True)[2]\n",
    "# data2['BERTScore beam real'] = score(cands_beam_real, refs, lang='en', verbose=True)[2]\n",
    "# data2['BERTScore nucleus real'] = score(cands_nucleus_real, refs, lang='en', verbose=True)[2]"
   ]
  },
  {
   "cell_type": "code",
   "execution_count": 39,
   "metadata": {},
   "outputs": [
    {
     "data": {
      "text/plain": [
       "(tensor([0.8100, 0.8221, 0.8494, 0.7979, 0.8287, 0.8014, 0.8527, 0.8148, 0.8464,\n",
       "         0.8302, 0.7824, 0.8600, 0.8061, 0.8453, 0.8267, 0.8207, 0.8146, 0.8293,\n",
       "         0.8184, 0.8167, 0.8032, 0.7891, 0.8105, 0.8344, 0.8095, 0.8137, 0.8245,\n",
       "         0.8056, 0.8232, 0.7827, 0.8170, 0.7771, 0.8515, 0.8520, 0.8550, 0.8462,\n",
       "         0.8303, 0.8593, 0.8085, 0.8299, 0.8106, 0.8203, 0.8099, 0.8786, 0.8380,\n",
       "         0.8448, 0.7913, 0.8571, 0.8275, 0.8759, 0.8097, 0.7968, 0.7645, 0.7945,\n",
       "         0.8423, 0.8241, 0.8146, 0.8476, 0.8099, 0.8781, 0.8192, 0.8389, 0.7995,\n",
       "         0.7825]),\n",
       " tensor([0.8491, 0.8048, 0.8636, 0.8217, 0.8772, 0.8163, 0.8098, 0.8284, 0.9657,\n",
       "         0.9565, 0.7715, 0.8292, 0.8273, 0.8872, 0.8816, 0.9148, 0.7923, 0.8604,\n",
       "         0.8300, 0.8138, 0.8911, 0.8727, 0.8718, 0.8835, 0.7847, 0.9488, 0.8380,\n",
       "         0.8737, 0.8370, 0.8701, 0.8005, 0.8592, 0.9018, 0.8451, 0.8374, 0.9141,\n",
       "         0.7785, 0.8808, 0.7834, 0.9186, 0.8079, 0.8587, 0.7844, 0.9166, 0.8702,\n",
       "         0.8768, 0.8407, 0.8620, 0.8247, 0.8877, 0.7905, 0.7806, 0.7846, 0.8196,\n",
       "         0.8475, 0.9208, 0.8273, 0.8621, 0.7998, 0.9145, 0.8985, 0.9079, 0.8370,\n",
       "         0.8108]),\n",
       " tensor([0.8291, 0.8133, 0.8565, 0.8096, 0.8523, 0.8088, 0.8307, 0.8215, 0.9021,\n",
       "         0.8889, 0.7769, 0.8443, 0.8166, 0.8658, 0.8533, 0.8652, 0.8033, 0.8445,\n",
       "         0.8242, 0.8152, 0.8449, 0.8288, 0.8400, 0.8582, 0.7969, 0.8761, 0.8312,\n",
       "         0.8383, 0.8300, 0.8241, 0.8087, 0.8161, 0.8759, 0.8485, 0.8461, 0.8789,\n",
       "         0.8035, 0.8699, 0.7958, 0.8720, 0.8092, 0.8391, 0.7970, 0.8972, 0.8538,\n",
       "         0.8605, 0.8153, 0.8595, 0.8261, 0.8817, 0.8000, 0.7886, 0.7744, 0.8069,\n",
       "         0.8449, 0.8698, 0.8209, 0.8548, 0.8048, 0.8959, 0.8570, 0.8721, 0.8179,\n",
       "         0.7964]))"
      ]
     },
     "execution_count": 39,
     "metadata": {},
     "output_type": "execute_result"
    }
   ],
   "source": [
    "familiarity_scores['BLIP-2, greedy, caption Familiarity BERTScore']"
   ]
  },
  {
   "attachments": {},
   "cell_type": "markdown",
   "metadata": {},
   "source": [
    "BERTScore nameability measurement"
   ]
  },
  {
   "cell_type": "code",
   "execution_count": null,
   "metadata": {},
   "outputs": [],
   "source": [
    "# data2['BERTScore nameability caption'] = score(cands_greedy_caption, cands_nucleus_caption, lang='en', verbose=True)[2] + score(\n",
    "#     cands_greedy_caption, cands_beam_caption, lang='en', verbose=True)[2] + score(cands_beam_caption, cands_nucleus_caption, lang='en', verbose=True)[2]\n",
    "\n",
    "data2['BERTScore nameability real'] = (score(cands_greedy_real, cands_nucleus_real, lang='en', verbose=True)[2] + score(cands_greedy_real, cands_beam_real, lang='en', verbose=True)[2] + score(cands_beam_real, cands_nucleus_real, lang='en', verbose=True)[2]) / 3\n",
    "\n",
    "# data2['BERTScore nameability name'] = (score(cands_greedy_name, cands_nucleus_name, lang='en', verbose=True)[2] + score(\n",
    "#     cands_greedy_name, cands_beam_name, lang='en', verbose=True)[2] + score(cands_beam_name, cands_nucleus_name, lang='en', verbose=True)[2]) / 3"
   ]
  },
  {
   "attachments": {},
   "cell_type": "markdown",
   "metadata": {},
   "source": [
    "BERTScore Visualization"
   ]
  },
  {
   "cell_type": "code",
   "execution_count": 4,
   "metadata": {},
   "outputs": [
    {
     "ename": "NameError",
     "evalue": "name 'data' is not defined",
     "output_type": "error",
     "traceback": [
      "\u001b[0;31m---------------------------------------------------------------------------\u001b[0m",
      "\u001b[0;31mNameError\u001b[0m                                 Traceback (most recent call last)",
      "\u001b[1;32m/home/jsprott/thesis-novel-objects/finalized_pipeline.ipynb Cell 42\u001b[0m in \u001b[0;36m8\n\u001b[1;32m      <a href='vscode-notebook-cell://ssh-remote%2Bgcn11.local.snellius.surf.nl/home/jsprott/thesis-novel-objects/finalized_pipeline.ipynb#X55sdnNjb2RlLXJlbW90ZQ%3D%3D?line=1'>2</a>\u001b[0m \u001b[39mimport\u001b[39;00m \u001b[39mpandas\u001b[39;00m \u001b[39mas\u001b[39;00m \u001b[39mpd\u001b[39;00m\n\u001b[1;32m      <a href='vscode-notebook-cell://ssh-remote%2Bgcn11.local.snellius.surf.nl/home/jsprott/thesis-novel-objects/finalized_pipeline.ipynb#X55sdnNjb2RlLXJlbW90ZQ%3D%3D?line=3'>4</a>\u001b[0m \u001b[39m# Assuming your dataframe is called 'data'\u001b[39;00m\n\u001b[1;32m      <a href='vscode-notebook-cell://ssh-remote%2Bgcn11.local.snellius.surf.nl/home/jsprott/thesis-novel-objects/finalized_pipeline.ipynb#X55sdnNjb2RlLXJlbW90ZQ%3D%3D?line=4'>5</a>\u001b[0m \u001b[39m# You can load your data into a dataframe using pd.read_csv() or any other method\u001b[39;00m\n\u001b[1;32m      <a href='vscode-notebook-cell://ssh-remote%2Bgcn11.local.snellius.surf.nl/home/jsprott/thesis-novel-objects/finalized_pipeline.ipynb#X55sdnNjb2RlLXJlbW90ZQ%3D%3D?line=5'>6</a>\u001b[0m \n\u001b[1;32m      <a href='vscode-notebook-cell://ssh-remote%2Bgcn11.local.snellius.surf.nl/home/jsprott/thesis-novel-objects/finalized_pipeline.ipynb#X55sdnNjb2RlLXJlbW90ZQ%3D%3D?line=6'>7</a>\u001b[0m \u001b[39m# Sort the data based on the column with values between 0 and 100\u001b[39;00m\n\u001b[0;32m----> <a href='vscode-notebook-cell://ssh-remote%2Bgcn11.local.snellius.surf.nl/home/jsprott/thesis-novel-objects/finalized_pipeline.ipynb#X55sdnNjb2RlLXJlbW90ZQ%3D%3D?line=7'>8</a>\u001b[0m sorted_data \u001b[39m=\u001b[39m data\u001b[39m.\u001b[39msort_values(\u001b[39m'\u001b[39m\u001b[39mnameability score\u001b[39m\u001b[39m'\u001b[39m)\n\u001b[1;32m     <a href='vscode-notebook-cell://ssh-remote%2Bgcn11.local.snellius.surf.nl/home/jsprott/thesis-novel-objects/finalized_pipeline.ipynb#X55sdnNjb2RlLXJlbW90ZQ%3D%3D?line=9'>10</a>\u001b[0m \u001b[39m# Create a list of row indices to use as labels for x-axis\u001b[39;00m\n\u001b[1;32m     <a href='vscode-notebook-cell://ssh-remote%2Bgcn11.local.snellius.surf.nl/home/jsprott/thesis-novel-objects/finalized_pipeline.ipynb#X55sdnNjb2RlLXJlbW90ZQ%3D%3D?line=10'>11</a>\u001b[0m labels \u001b[39m=\u001b[39m sorted_data[\u001b[39m'\u001b[39m\u001b[39mnumber label\u001b[39m\u001b[39m'\u001b[39m]\u001b[39m.\u001b[39mtolist()\n",
      "\u001b[0;31mNameError\u001b[0m: name 'data' is not defined"
     ]
    }
   ],
   "source": [
    "import plotly.graph_objects as go\n",
    "import pandas as pd\n",
    "\n",
    "# Assuming your dataframe is called 'data'\n",
    "# You can load your data into a dataframe using pd.read_csv() or any other method\n",
    "\n",
    "# Sort the data based on the column with values between 0 and 100\n",
    "sorted_data = data.sort_values('nameability score')\n",
    "\n",
    "# Create a list of row indices to use as labels for x-axis\n",
    "labels = sorted_data['number label'].tolist()\n",
    "\n",
    "# Create a figure object\n",
    "fig = go.Figure()\n",
    "\n",
    "# Add the bars for each length column\n",
    "fig.add_trace(go.Bar(x=labels, y=sorted_data['BERTScore greedy real'], name='Greedy real object question'))\n",
    "fig.add_trace(go.Bar(x=labels, y=sorted_data['BERTScore nucleus real'], name='Nucleus image captioning'))\n",
    "fig.add_trace(go.Bar(x=labels, y=sorted_data['BERTScore beam real'], name='Beam real object question'))\n",
    "\n",
    "# Update the layout\n",
    "fig.update_layout(\n",
    "    width=1000,\n",
    "    title='Bar Chart of BERT Scores: nameability',\n",
    "    xaxis_title='Nameability human score',\n",
    "    yaxis_title='BERT Score',\n",
    "    yaxis_type='log',\n",
    "    bargap=0.1,  # Adjust the spacing between bars within each group\n",
    "    bargroupgap=0.3  # Adjust the spacing between groups\n",
    ")\n",
    "\n",
    "# Show the plot\n",
    "fig.show()\n",
    "\n",
    "# # # Save the plot as JSON\n",
    "# fig_json = fig.to_json()\n",
    "# with open('token_length.json', 'w') as file:\n",
    "#     file.write(fig_json)\n"
   ]
  }
 ],
 "metadata": {
  "kernelspec": {
   "display_name": "noun2",
   "language": "python",
   "name": "noun2"
  },
  "language_info": {
   "codemirror_mode": {
    "name": "ipython",
    "version": 3
   },
   "file_extension": ".py",
   "mimetype": "text/x-python",
   "name": "python",
   "nbconvert_exporter": "python",
   "pygments_lexer": "ipython3",
   "version": "3.10.4"
  }
 },
 "nbformat": 4,
 "nbformat_minor": 2
}
